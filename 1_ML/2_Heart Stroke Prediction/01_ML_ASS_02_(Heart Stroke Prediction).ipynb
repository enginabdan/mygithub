{
 "cells": [
  {
   "cell_type": "markdown",
   "id": "6608d87a-1718-4198-aa94-5018bed4a106",
   "metadata": {},
   "source": [
    "# Heart-stroke prediction"
   ]
  },
  {
   "cell_type": "markdown",
   "id": "392a02f0-fdda-44ae-a0fc-97f3b03924a9",
   "metadata": {},
   "source": [
    "1. #3 (age): age in years \n",
    "2. #4 (sex): sex (1 = male; 0 = female) \n",
    "3. #9 (cp): cp: chest pain type | Value 0: typical angina | Value 1: atypical angina | Value 2: non-anginal pain | Value 3: asymptomatic \n",
    "4. #10 (trestbps): resting blood pressure (in mm Hg on admission to the hospital) \n",
    "5. #12 (chol): serum cholestoral in mg/dl \n",
    "6. #16 (fbs): (fasting blood sugar > 120 mg/dl) (1 = true; 0 = false) \n",
    "7. #19 (restecg): resting electrocardiographic results | Value 0: normal | Value 1: having ST-T wave abnormality (T wave inversions and/or ST elevation or depression of > 0.05 mV) | Value 2: showing probable or definite left ventricular hypertrophy by Estes' criteria \n",
    "8. #32 (thalach): maximum heart rate achieved \n",
    "9. #38 (exang): exercise induced angina (1 = yes; 0 = no) \n",
    "10. #40 (oldpeak): ST depression induced by exercise relative to rest \n",
    "11. #41 (slope): the slope of the peak exercise ST segment | Value 1: upsloping | Value 2: flat | Value 3: downsloping \n",
    "12. #44 (ca): number of major vessels (0-3) colored by flourosopy \n",
    "13. #51 (thal): 3 = normal; 6 = fixed defect; 7 = reversable defect \n",
    "14. #58 (num) (the predicted attribute): Value 0: < 50% diameter narrowing | Value 1: > 50% diameter narrowing "
   ]
  },
  {
   "cell_type": "markdown",
   "id": "9f64a47c-5aa7-4653-98ea-6c645df4572b",
   "metadata": {},
   "source": [
    "# Import libraries"
   ]
  },
  {
   "cell_type": "code",
   "execution_count": 183,
   "id": "d2f67c2a-c903-4b6c-bcda-2d69e2619192",
   "metadata": {},
   "outputs": [],
   "source": [
    "import numpy as np\n",
    "import pandas as pd\n",
    "\n",
    "import matplotlib.pyplot as plt\n",
    "import seaborn as sns\n",
    "import pandas_profiling as pp\n",
    "%matplotlib inline\n",
    "\n",
    "from sklearn.model_selection import train_test_split\n",
    "from sklearn.model_selection import GridSearchCV\n",
    "from sklearn.model_selection import cross_validate, cross_val_score\n",
    "\n",
    "from sklearn.preprocessing import StandardScaler, MinMaxScaler\n",
    "from sklearn.metrics import classification_report, confusion_matrix, log_loss, recall_score\n",
    "\n",
    "from sklearn.neighbors import KNeighborsClassifier\n",
    "from sklearn.linear_model import LogisticRegression\n",
    "from sklearn.svm import SVC\n",
    "\n",
    "from yellowbrick.classifier import ConfusionMatrix\n",
    "from yellowbrick.cluster import KElbowVisualizer"
   ]
  },
  {
   "cell_type": "markdown",
   "id": "a589228f-f7be-4c79-94fd-e45cb2c473f4",
   "metadata": {
    "tags": []
   },
   "source": [
    "# Read in the Dataset"
   ]
  },
  {
   "cell_type": "code",
   "execution_count": 184,
   "id": "542d4531-d67c-4a30-a836-dc31795ff0e8",
   "metadata": {},
   "outputs": [],
   "source": [
    "df = pd.read_csv('heart.csv')"
   ]
  },
  {
   "cell_type": "code",
   "execution_count": 185,
   "id": "bc7eca15-a6ca-4959-a43b-d20e37bcefb3",
   "metadata": {},
   "outputs": [
    {
     "data": {
      "text/html": [
       "<div>\n",
       "<style scoped>\n",
       "    .dataframe tbody tr th:only-of-type {\n",
       "        vertical-align: middle;\n",
       "    }\n",
       "\n",
       "    .dataframe tbody tr th {\n",
       "        vertical-align: top;\n",
       "    }\n",
       "\n",
       "    .dataframe thead th {\n",
       "        text-align: right;\n",
       "    }\n",
       "</style>\n",
       "<table border=\"1\" class=\"dataframe\">\n",
       "  <thead>\n",
       "    <tr style=\"text-align: right;\">\n",
       "      <th></th>\n",
       "      <th>age</th>\n",
       "      <th>sex</th>\n",
       "      <th>cp</th>\n",
       "      <th>trestbps</th>\n",
       "      <th>chol</th>\n",
       "      <th>fbs</th>\n",
       "      <th>restecg</th>\n",
       "      <th>thalach</th>\n",
       "      <th>exang</th>\n",
       "      <th>oldpeak</th>\n",
       "      <th>slope</th>\n",
       "      <th>ca</th>\n",
       "      <th>thal</th>\n",
       "      <th>target</th>\n",
       "    </tr>\n",
       "  </thead>\n",
       "  <tbody>\n",
       "    <tr>\n",
       "      <th>0</th>\n",
       "      <td>63</td>\n",
       "      <td>1</td>\n",
       "      <td>3</td>\n",
       "      <td>145</td>\n",
       "      <td>233</td>\n",
       "      <td>1</td>\n",
       "      <td>0</td>\n",
       "      <td>150</td>\n",
       "      <td>0</td>\n",
       "      <td>2.3</td>\n",
       "      <td>0</td>\n",
       "      <td>0</td>\n",
       "      <td>1</td>\n",
       "      <td>1</td>\n",
       "    </tr>\n",
       "    <tr>\n",
       "      <th>1</th>\n",
       "      <td>37</td>\n",
       "      <td>1</td>\n",
       "      <td>2</td>\n",
       "      <td>130</td>\n",
       "      <td>250</td>\n",
       "      <td>0</td>\n",
       "      <td>1</td>\n",
       "      <td>187</td>\n",
       "      <td>0</td>\n",
       "      <td>3.5</td>\n",
       "      <td>0</td>\n",
       "      <td>0</td>\n",
       "      <td>2</td>\n",
       "      <td>1</td>\n",
       "    </tr>\n",
       "    <tr>\n",
       "      <th>2</th>\n",
       "      <td>41</td>\n",
       "      <td>0</td>\n",
       "      <td>1</td>\n",
       "      <td>130</td>\n",
       "      <td>204</td>\n",
       "      <td>0</td>\n",
       "      <td>0</td>\n",
       "      <td>172</td>\n",
       "      <td>0</td>\n",
       "      <td>1.4</td>\n",
       "      <td>2</td>\n",
       "      <td>0</td>\n",
       "      <td>2</td>\n",
       "      <td>1</td>\n",
       "    </tr>\n",
       "    <tr>\n",
       "      <th>3</th>\n",
       "      <td>56</td>\n",
       "      <td>1</td>\n",
       "      <td>1</td>\n",
       "      <td>120</td>\n",
       "      <td>236</td>\n",
       "      <td>0</td>\n",
       "      <td>1</td>\n",
       "      <td>178</td>\n",
       "      <td>0</td>\n",
       "      <td>0.8</td>\n",
       "      <td>2</td>\n",
       "      <td>0</td>\n",
       "      <td>2</td>\n",
       "      <td>1</td>\n",
       "    </tr>\n",
       "    <tr>\n",
       "      <th>4</th>\n",
       "      <td>57</td>\n",
       "      <td>0</td>\n",
       "      <td>0</td>\n",
       "      <td>120</td>\n",
       "      <td>354</td>\n",
       "      <td>0</td>\n",
       "      <td>1</td>\n",
       "      <td>163</td>\n",
       "      <td>1</td>\n",
       "      <td>0.6</td>\n",
       "      <td>2</td>\n",
       "      <td>0</td>\n",
       "      <td>2</td>\n",
       "      <td>1</td>\n",
       "    </tr>\n",
       "  </tbody>\n",
       "</table>\n",
       "</div>"
      ],
      "text/plain": [
       "   age  sex  cp  trestbps  chol  fbs  restecg  thalach  exang  oldpeak  slope  \\\n",
       "0   63    1   3       145   233    1        0      150      0      2.3      0   \n",
       "1   37    1   2       130   250    0        1      187      0      3.5      0   \n",
       "2   41    0   1       130   204    0        0      172      0      1.4      2   \n",
       "3   56    1   1       120   236    0        1      178      0      0.8      2   \n",
       "4   57    0   0       120   354    0        1      163      1      0.6      2   \n",
       "\n",
       "   ca  thal  target  \n",
       "0   0     1       1  \n",
       "1   0     2       1  \n",
       "2   0     2       1  \n",
       "3   0     2       1  \n",
       "4   0     2       1  "
      ]
     },
     "execution_count": 185,
     "metadata": {},
     "output_type": "execute_result"
    }
   ],
   "source": [
    "df.head()"
   ]
  },
  {
   "cell_type": "code",
   "execution_count": 186,
   "id": "91044e48-de98-44a1-95b6-f538f3343f29",
   "metadata": {},
   "outputs": [
    {
     "data": {
      "text/plain": [
       "(303, 14)"
      ]
     },
     "execution_count": 186,
     "metadata": {},
     "output_type": "execute_result"
    }
   ],
   "source": [
    "df.shape"
   ]
  },
  {
   "cell_type": "markdown",
   "id": "1dd1eb7c-f9a7-4125-8379-3f5e78ff9dcc",
   "metadata": {},
   "source": [
    "# EDA"
   ]
  },
  {
   "cell_type": "code",
   "execution_count": 187,
   "id": "a590d65b-ea9c-43e0-aefe-88eb20b9e790",
   "metadata": {},
   "outputs": [
    {
     "data": {
      "text/plain": [
       "1    0.544554\n",
       "0    0.455446\n",
       "Name: target, dtype: float64"
      ]
     },
     "execution_count": 187,
     "metadata": {},
     "output_type": "execute_result"
    }
   ],
   "source": [
    "df.target.value_counts(normalize=True)"
   ]
  },
  {
   "cell_type": "code",
   "execution_count": 188,
   "id": "194234ae-92ee-4fbc-875d-61149a26d284",
   "metadata": {},
   "outputs": [
    {
     "name": "stdout",
     "output_type": "stream",
     "text": [
      "<class 'pandas.core.frame.DataFrame'>\n",
      "RangeIndex: 303 entries, 0 to 302\n",
      "Data columns (total 14 columns):\n",
      " #   Column    Non-Null Count  Dtype  \n",
      "---  ------    --------------  -----  \n",
      " 0   age       303 non-null    int64  \n",
      " 1   sex       303 non-null    int64  \n",
      " 2   cp        303 non-null    int64  \n",
      " 3   trestbps  303 non-null    int64  \n",
      " 4   chol      303 non-null    int64  \n",
      " 5   fbs       303 non-null    int64  \n",
      " 6   restecg   303 non-null    int64  \n",
      " 7   thalach   303 non-null    int64  \n",
      " 8   exang     303 non-null    int64  \n",
      " 9   oldpeak   303 non-null    float64\n",
      " 10  slope     303 non-null    int64  \n",
      " 11  ca        303 non-null    int64  \n",
      " 12  thal      303 non-null    int64  \n",
      " 13  target    303 non-null    int64  \n",
      "dtypes: float64(1), int64(13)\n",
      "memory usage: 33.3 KB\n"
     ]
    }
   ],
   "source": [
    "df.info()"
   ]
  },
  {
   "cell_type": "markdown",
   "id": "ab14529b-fa6d-4594-9740-4423f7e8e5d2",
   "metadata": {},
   "source": [
    "# Data Pre-processing"
   ]
  },
  {
   "cell_type": "code",
   "execution_count": 189,
   "id": "82157791-003e-48ad-8fee-dab81a14ef73",
   "metadata": {},
   "outputs": [
    {
     "data": {
      "text/plain": [
       "1"
      ]
     },
     "execution_count": 189,
     "metadata": {},
     "output_type": "execute_result"
    }
   ],
   "source": [
    "df.duplicated().sum()"
   ]
  },
  {
   "cell_type": "code",
   "execution_count": 190,
   "id": "473ada03-4b61-42bd-a9d7-14a043beeb54",
   "metadata": {},
   "outputs": [],
   "source": [
    "df.drop_duplicates(inplace=True)"
   ]
  },
  {
   "cell_type": "code",
   "execution_count": 191,
   "id": "2c1e8108-2810-4686-8cdc-579f13ad8a1f",
   "metadata": {},
   "outputs": [
    {
     "data": {
      "text/plain": [
       "0"
      ]
     },
     "execution_count": 191,
     "metadata": {},
     "output_type": "execute_result"
    }
   ],
   "source": [
    "df.duplicated().sum()"
   ]
  },
  {
   "cell_type": "code",
   "execution_count": 192,
   "id": "8a8224c8-02d5-46bf-9869-d726172529ec",
   "metadata": {},
   "outputs": [
    {
     "name": "stdout",
     "output_type": "stream",
     "text": [
      "58    19\n",
      "57    17\n",
      "54    16\n",
      "59    14\n",
      "52    13\n",
      "51    12\n",
      "62    11\n",
      "56    11\n",
      "44    11\n",
      "60    11\n",
      "41    10\n",
      "64    10\n",
      "67     9\n",
      "63     9\n",
      "43     8\n",
      "55     8\n",
      "42     8\n",
      "61     8\n",
      "65     8\n",
      "53     8\n",
      "45     8\n",
      "50     7\n",
      "48     7\n",
      "46     7\n",
      "66     7\n",
      "47     5\n",
      "49     5\n",
      "70     4\n",
      "39     4\n",
      "68     4\n",
      "35     4\n",
      "71     3\n",
      "40     3\n",
      "69     3\n",
      "34     2\n",
      "37     2\n",
      "38     2\n",
      "29     1\n",
      "74     1\n",
      "76     1\n",
      "77     1\n",
      "Name: age, dtype: int64 \n",
      "\n",
      "\n",
      "1    206\n",
      "0     96\n",
      "Name: sex, dtype: int64 \n",
      "\n",
      "\n",
      "0    143\n",
      "2     86\n",
      "1     50\n",
      "3     23\n",
      "Name: cp, dtype: int64 \n",
      "\n",
      "\n",
      "120    37\n",
      "130    36\n",
      "140    32\n",
      "110    19\n",
      "150    17\n",
      "128    12\n",
      "138    12\n",
      "160    11\n",
      "125    11\n",
      "112     9\n",
      "132     8\n",
      "118     7\n",
      "124     6\n",
      "135     6\n",
      "108     6\n",
      "152     5\n",
      "134     5\n",
      "145     5\n",
      "122     4\n",
      "170     4\n",
      "100     4\n",
      "105     3\n",
      "126     3\n",
      "115     3\n",
      "180     3\n",
      "136     3\n",
      "142     3\n",
      "102     2\n",
      "148     2\n",
      "178     2\n",
      "94      2\n",
      "144     2\n",
      "146     2\n",
      "200     1\n",
      "114     1\n",
      "154     1\n",
      "123     1\n",
      "192     1\n",
      "174     1\n",
      "165     1\n",
      "104     1\n",
      "117     1\n",
      "101     1\n",
      "156     1\n",
      "106     1\n",
      "155     1\n",
      "129     1\n",
      "172     1\n",
      "164     1\n",
      "Name: trestbps, dtype: int64 \n",
      "\n",
      "\n",
      "204    6\n",
      "197    6\n",
      "234    6\n",
      "212    5\n",
      "254    5\n",
      "      ..\n",
      "284    1\n",
      "224    1\n",
      "167    1\n",
      "276    1\n",
      "131    1\n",
      "Name: chol, Length: 152, dtype: int64 \n",
      "\n",
      "\n",
      "0    257\n",
      "1     45\n",
      "Name: fbs, dtype: int64 \n",
      "\n",
      "\n",
      "1    151\n",
      "0    147\n",
      "2      4\n",
      "Name: restecg, dtype: int64 \n",
      "\n",
      "\n",
      "162    11\n",
      "160     9\n",
      "163     9\n",
      "152     8\n",
      "125     7\n",
      "       ..\n",
      "202     1\n",
      "184     1\n",
      "121     1\n",
      "192     1\n",
      "90      1\n",
      "Name: thalach, Length: 91, dtype: int64 \n",
      "\n",
      "\n",
      "0    203\n",
      "1     99\n",
      "Name: exang, dtype: int64 \n",
      "\n",
      "\n",
      "2    141\n",
      "1    140\n",
      "0     21\n",
      "Name: slope, dtype: int64 \n",
      "\n",
      "\n",
      "0    175\n",
      "1     65\n",
      "2     38\n",
      "3     20\n",
      "4      4\n",
      "Name: ca, dtype: int64 \n",
      "\n",
      "\n",
      "2    165\n",
      "3    117\n",
      "1     18\n",
      "0      2\n",
      "Name: thal, dtype: int64 \n",
      "\n",
      "\n",
      "1    164\n",
      "0    138\n",
      "Name: target, dtype: int64 \n",
      "\n",
      "\n"
     ]
    }
   ],
   "source": [
    "for col in df.select_dtypes('int'):\n",
    "    print(df[col].value_counts(), '\\n\\n')"
   ]
  },
  {
   "cell_type": "code",
   "execution_count": 193,
   "id": "22669840-3c1d-4d69-9e4b-51b8bb1f6d56",
   "metadata": {},
   "outputs": [
    {
     "data": {
      "text/plain": [
       "2    165\n",
       "3    117\n",
       "1     18\n",
       "0      2\n",
       "Name: thal, dtype: int64"
      ]
     },
     "execution_count": 193,
     "metadata": {},
     "output_type": "execute_result"
    }
   ],
   "source": [
    "df['thal'].value_counts()"
   ]
  },
  {
   "cell_type": "code",
   "execution_count": 194,
   "id": "4a207df9-a4f5-4a10-90aa-a90ecfa90d90",
   "metadata": {},
   "outputs": [],
   "source": [
    "df.drop(df[df['thal']==0].index, inplace=True)"
   ]
  },
  {
   "cell_type": "code",
   "execution_count": 195,
   "id": "231727bb-beda-462c-a3cc-c25d61beb181",
   "metadata": {},
   "outputs": [
    {
     "data": {
      "text/plain": [
       "2    165\n",
       "3    117\n",
       "1     18\n",
       "Name: thal, dtype: int64"
      ]
     },
     "execution_count": 195,
     "metadata": {},
     "output_type": "execute_result"
    }
   ],
   "source": [
    "df['thal'].value_counts()"
   ]
  },
  {
   "cell_type": "code",
   "execution_count": 196,
   "id": "15edbf2d-76b8-405f-bdf8-a1253c4e18b3",
   "metadata": {},
   "outputs": [
    {
     "data": {
      "text/plain": [
       "<AxesSubplot:>"
      ]
     },
     "execution_count": 196,
     "metadata": {},
     "output_type": "execute_result"
    },
    {
     "data": {
      "image/png": "[encoded data removed]",
      "text/plain": [
       "<Figure size 1152x864 with 2 Axes>"
      ]
     },
     "metadata": {
      "needs_background": "light"
     },
     "output_type": "display_data"
    }
   ],
   "source": [
    "plt.figure(figsize=(16, 12))\n",
    "sns.heatmap(df.corr(), annot=True)"
   ]
  },
  {
   "cell_type": "code",
   "execution_count": 197,
   "id": "49f20a15-451b-4940-b29f-5e4be4416f31",
   "metadata": {},
   "outputs": [],
   "source": [
    "X = df.drop('target', axis=1)\n",
    "y = df.target"
   ]
  },
  {
   "cell_type": "code",
   "execution_count": 198,
   "id": "c9ec0a8c-b8ed-4bd2-8438-c3bd8422ec40",
   "metadata": {},
   "outputs": [],
   "source": [
    "X_train, X_test, y_train, y_test = train_test_split(X, y, test_size=0.3, random_state=42)"
   ]
  },
  {
   "cell_type": "code",
   "execution_count": 199,
   "id": "037b596b-5ba1-4c2d-8862-b4cd93985da7",
   "metadata": {},
   "outputs": [],
   "source": [
    "scaler = MinMaxScaler()"
   ]
  },
  {
   "cell_type": "code",
   "execution_count": 200,
   "id": "d3724aba-03f9-4e03-a98d-8e77140cf560",
   "metadata": {},
   "outputs": [],
   "source": [
    "X_train_scaled = scaler.fit_transform(X_train)\n",
    "X_test_scaled = scaler.transform(X_test)"
   ]
  },
  {
   "cell_type": "markdown",
   "id": "ab1723d5-9664-432d-8788-5bb6918da572",
   "metadata": {},
   "source": [
    "# Implement kNN"
   ]
  },
  {
   "cell_type": "code",
   "execution_count": 201,
   "id": "5d5dc755-7e67-4ee7-9706-a21c1bd6ff09",
   "metadata": {},
   "outputs": [],
   "source": [
    "knn = KNeighborsClassifier(n_neighbors=1)"
   ]
  },
  {
   "cell_type": "code",
   "execution_count": 202,
   "id": "1bea243d-2c66-42a5-bdb2-e1d2a2479da8",
   "metadata": {},
   "outputs": [
    {
     "data": {
      "text/plain": [
       "KNeighborsClassifier(n_neighbors=1)"
      ]
     },
     "execution_count": 202,
     "metadata": {},
     "output_type": "execute_result"
    }
   ],
   "source": [
    "knn.fit(X_train_scaled, y_train)"
   ]
  },
  {
   "cell_type": "code",
   "execution_count": 203,
   "id": "612bff88-57f4-4d18-88bc-6fc7bb95735f",
   "metadata": {},
   "outputs": [],
   "source": [
    "knn_pred = knn.predict(X_test_scaled)"
   ]
  },
  {
   "cell_type": "code",
   "execution_count": 204,
   "id": "d4f69871-a019-49ab-a082-9d5f6f7020c8",
   "metadata": {},
   "outputs": [
    {
     "name": "stdout",
     "output_type": "stream",
     "text": [
      "[[33  6]\n",
      " [11 40]]\n",
      "              precision    recall  f1-score   support\n",
      "\n",
      "           0       0.75      0.85      0.80        39\n",
      "           1       0.87      0.78      0.82        51\n",
      "\n",
      "    accuracy                           0.81        90\n",
      "   macro avg       0.81      0.82      0.81        90\n",
      "weighted avg       0.82      0.81      0.81        90\n",
      "\n"
     ]
    }
   ],
   "source": [
    "print(confusion_matrix(y_test, knn_pred))\n",
    "print(classification_report(y_test, knn_pred))"
   ]
  },
  {
   "cell_type": "code",
   "execution_count": 205,
   "id": "4092fe99-d6f7-4e95-b712-96737898efa0",
   "metadata": {},
   "outputs": [],
   "source": [
    "error_rate = []\n",
    "for i in range(1,40):\n",
    "    knn = KNeighborsClassifier(n_neighbors=i)\n",
    "    knn.fit(X_train_scaled,y_train)\n",
    "    pred_i = knn.predict(X_test_scaled)\n",
    "    error_rate.append(1 - recall_score(y_test, pred_i))"
   ]
  },
  {
   "cell_type": "code",
   "execution_count": 206,
   "id": "86e66ad2-8bde-42b0-96e8-561ab10a0093",
   "metadata": {},
   "outputs": [
    {
     "data": {
      "text/plain": [
       "Text(0, 0.5, 'Error Rate')"
      ]
     },
     "execution_count": 206,
     "metadata": {},
     "output_type": "execute_result"
    },
    {
     "data": {
      "image/png": "[encoded data removed]",
      "text/plain": [
       "<Figure size 720x432 with 1 Axes>"
      ]
     },
     "metadata": {
      "needs_background": "light"
     },
     "output_type": "display_data"
    }
   ],
   "source": [
    "plt.figure(figsize=(10,6))\n",
    "plt.plot(range(1,40),error_rate,color='blue', linestyle='dashed', marker='o',\n",
    "         markerfacecolor='red', markersize=10)\n",
    "plt.title('Error Rate vs. K Value')\n",
    "plt.xlabel('K')\n",
    "plt.ylabel('Error Rate')"
   ]
  },
  {
   "cell_type": "code",
   "execution_count": 207,
   "id": "ba3a0b77-65cb-4519-bb82-fcc9229f8c7e",
   "metadata": {},
   "outputs": [],
   "source": [
    "knn = KNeighborsClassifier(n_neighbors=13)"
   ]
  },
  {
   "cell_type": "code",
   "execution_count": 208,
   "id": "64277bf1-1b66-42c4-a667-f29b13a937aa",
   "metadata": {},
   "outputs": [
    {
     "data": {
      "text/plain": [
       "KNeighborsClassifier(n_neighbors=13)"
      ]
     },
     "execution_count": 208,
     "metadata": {},
     "output_type": "execute_result"
    }
   ],
   "source": [
    "knn.fit(X_train_scaled, y_train)"
   ]
  },
  {
   "cell_type": "code",
   "execution_count": 209,
   "id": "64f8b9eb-a5ea-4096-ae85-ff8b41227384",
   "metadata": {},
   "outputs": [],
   "source": [
    "knn_pred = knn.predict(X_test_scaled)"
   ]
  },
  {
   "cell_type": "code",
   "execution_count": 210,
   "id": "50cec7fb-e149-43db-acfa-4f046e85a467",
   "metadata": {},
   "outputs": [
    {
     "name": "stdout",
     "output_type": "stream",
     "text": [
      "[[30  9]\n",
      " [ 5 46]]\n",
      "              precision    recall  f1-score   support\n",
      "\n",
      "           0       0.86      0.77      0.81        39\n",
      "           1       0.84      0.90      0.87        51\n",
      "\n",
      "    accuracy                           0.84        90\n",
      "   macro avg       0.85      0.84      0.84        90\n",
      "weighted avg       0.85      0.84      0.84        90\n",
      "\n"
     ]
    }
   ],
   "source": [
    "print(confusion_matrix(y_test, knn_pred))\n",
    "print(classification_report(y_test, knn_pred))"
   ]
  },
  {
   "cell_type": "code",
   "execution_count": 211,
   "id": "9330d6ac-255c-45ab-afeb-5c614fa827f9",
   "metadata": {},
   "outputs": [],
   "source": [
    "scores = cross_validate(KNeighborsClassifier(n_neighbors=13), X_train_scaled, y_train, cv=10, n_jobs=-1, scoring=['recall'])"
   ]
  },
  {
   "cell_type": "code",
   "execution_count": 212,
   "id": "8bad7dc0-b6a1-4636-968c-be24cc60ca35",
   "metadata": {},
   "outputs": [
    {
     "data": {
      "text/html": [
       "<div>\n",
       "<style scoped>\n",
       "    .dataframe tbody tr th:only-of-type {\n",
       "        vertical-align: middle;\n",
       "    }\n",
       "\n",
       "    .dataframe tbody tr th {\n",
       "        vertical-align: top;\n",
       "    }\n",
       "\n",
       "    .dataframe thead th {\n",
       "        text-align: right;\n",
       "    }\n",
       "</style>\n",
       "<table border=\"1\" class=\"dataframe\">\n",
       "  <thead>\n",
       "    <tr style=\"text-align: right;\">\n",
       "      <th></th>\n",
       "      <th>fit_time</th>\n",
       "      <th>score_time</th>\n",
       "      <th>test_recall</th>\n",
       "    </tr>\n",
       "  </thead>\n",
       "  <tbody>\n",
       "    <tr>\n",
       "      <th>0</th>\n",
       "      <td>0.002000</td>\n",
       "      <td>0.003998</td>\n",
       "      <td>0.727273</td>\n",
       "    </tr>\n",
       "    <tr>\n",
       "      <th>1</th>\n",
       "      <td>0.003996</td>\n",
       "      <td>0.012061</td>\n",
       "      <td>0.727273</td>\n",
       "    </tr>\n",
       "    <tr>\n",
       "      <th>2</th>\n",
       "      <td>0.001999</td>\n",
       "      <td>0.003999</td>\n",
       "      <td>1.000000</td>\n",
       "    </tr>\n",
       "    <tr>\n",
       "      <th>3</th>\n",
       "      <td>0.003061</td>\n",
       "      <td>0.005997</td>\n",
       "      <td>0.818182</td>\n",
       "    </tr>\n",
       "    <tr>\n",
       "      <th>4</th>\n",
       "      <td>0.003000</td>\n",
       "      <td>0.003999</td>\n",
       "      <td>0.818182</td>\n",
       "    </tr>\n",
       "    <tr>\n",
       "      <th>5</th>\n",
       "      <td>0.001995</td>\n",
       "      <td>0.009416</td>\n",
       "      <td>0.818182</td>\n",
       "    </tr>\n",
       "    <tr>\n",
       "      <th>6</th>\n",
       "      <td>0.001998</td>\n",
       "      <td>0.004785</td>\n",
       "      <td>0.909091</td>\n",
       "    </tr>\n",
       "    <tr>\n",
       "      <th>7</th>\n",
       "      <td>0.006416</td>\n",
       "      <td>0.005000</td>\n",
       "      <td>0.909091</td>\n",
       "    </tr>\n",
       "    <tr>\n",
       "      <th>8</th>\n",
       "      <td>0.001000</td>\n",
       "      <td>0.004996</td>\n",
       "      <td>0.666667</td>\n",
       "    </tr>\n",
       "    <tr>\n",
       "      <th>9</th>\n",
       "      <td>0.002001</td>\n",
       "      <td>0.003995</td>\n",
       "      <td>0.916667</td>\n",
       "    </tr>\n",
       "  </tbody>\n",
       "</table>\n",
       "</div>"
      ],
      "text/plain": [
       "   fit_time  score_time  test_recall\n",
       "0  0.002000    0.003998     0.727273\n",
       "1  0.003996    0.012061     0.727273\n",
       "2  0.001999    0.003999     1.000000\n",
       "3  0.003061    0.005997     0.818182\n",
       "4  0.003000    0.003999     0.818182\n",
       "5  0.001995    0.009416     0.818182\n",
       "6  0.001998    0.004785     0.909091\n",
       "7  0.006416    0.005000     0.909091\n",
       "8  0.001000    0.004996     0.666667\n",
       "9  0.002001    0.003995     0.916667"
      ]
     },
     "execution_count": 212,
     "metadata": {},
     "output_type": "execute_result"
    }
   ],
   "source": [
    "pd.DataFrame(scores)"
   ]
  },
  {
   "cell_type": "code",
   "execution_count": 213,
   "id": "1cf567c1-8077-4964-9a7f-1b91c61e1f15",
   "metadata": {},
   "outputs": [
    {
     "data": {
      "text/plain": [
       "0.831060606060606"
      ]
     },
     "execution_count": 213,
     "metadata": {},
     "output_type": "execute_result"
    }
   ],
   "source": [
    "pd.DataFrame(scores)['test_recall'].mean()"
   ]
  },
  {
   "cell_type": "code",
   "execution_count": 214,
   "id": "688cd596-23b2-4a39-bc4e-cf025d282dcc",
   "metadata": {},
   "outputs": [],
   "source": [
    "grid_params = {'weights':['uniform', 'distance'], 'algorithm': ['auto', 'ball_tree', 'kd_tree', 'brute'], 'p':[1, 2], 'leaf_size': [20, 25, 30, 35, 40, 45],\n",
    "              'n_neighbors': [2, 3, 4, 5, 6, 7, 8, 9, 10, 13, 15, 17], 'metric': ['minkowski', 'manhattan', 'euclidean']}"
   ]
  },
  {
   "cell_type": "code",
   "execution_count": 215,
   "id": "b1ede3b1-a1fa-4ca1-a3ec-638e66d23f64",
   "metadata": {},
   "outputs": [],
   "source": [
    "cv = GridSearchCV(KNeighborsClassifier(n_jobs=-1), param_grid=grid_params, n_jobs=-1, verbose=1, scoring='recall')"
   ]
  },
  {
   "cell_type": "code",
   "execution_count": 216,
   "id": "1cf46063-25d9-47c0-82cb-61e6fcbbde69",
   "metadata": {
    "tags": []
   },
   "outputs": [
    {
     "name": "stdout",
     "output_type": "stream",
     "text": [
      "Fitting 5 folds for each of 3456 candidates, totalling 17280 fits\n"
     ]
    },
    {
     "data": {
      "text/plain": [
       "GridSearchCV(estimator=KNeighborsClassifier(n_jobs=-1), n_jobs=-1,\n",
       "             param_grid={'algorithm': ['auto', 'ball_tree', 'kd_tree', 'brute'],\n",
       "                         'leaf_size': [20, 25, 30, 35, 40, 45],\n",
       "                         'metric': ['minkowski', 'manhattan', 'euclidean'],\n",
       "                         'n_neighbors': [2, 3, 4, 5, 6, 7, 8, 9, 10, 13, 15,\n",
       "                                         17],\n",
       "                         'p': [1, 2], 'weights': ['uniform', 'distance']},\n",
       "             scoring='recall', verbose=1)"
      ]
     },
     "execution_count": 216,
     "metadata": {},
     "output_type": "execute_result"
    }
   ],
   "source": [
    "cv.fit(X_train_scaled, y_train)"
   ]
  },
  {
   "cell_type": "code",
   "execution_count": 217,
   "id": "353b6a64-c7d4-48c2-ad84-39b014c37daa",
   "metadata": {},
   "outputs": [
    {
     "data": {
      "text/plain": [
       "0.883399209486166"
      ]
     },
     "execution_count": 217,
     "metadata": {},
     "output_type": "execute_result"
    }
   ],
   "source": [
    "cv.best_score_"
   ]
  },
  {
   "cell_type": "code",
   "execution_count": 218,
   "id": "cd8f1aa9-de9a-4899-a792-79df8bc92f27",
   "metadata": {},
   "outputs": [
    {
     "data": {
      "text/plain": [
       "{'algorithm': 'auto',\n",
       " 'leaf_size': 20,\n",
       " 'metric': 'minkowski',\n",
       " 'n_neighbors': 15,\n",
       " 'p': 1,\n",
       " 'weights': 'distance'}"
      ]
     },
     "execution_count": 218,
     "metadata": {},
     "output_type": "execute_result"
    }
   ],
   "source": [
    "cv.best_params_"
   ]
  },
  {
   "cell_type": "code",
   "execution_count": 219,
   "id": "4081deae-4978-499a-83ce-f40186cf1305",
   "metadata": {},
   "outputs": [],
   "source": [
    "knn_pred = cv.predict(X_test_scaled)"
   ]
  },
  {
   "cell_type": "code",
   "execution_count": 220,
   "id": "78fcb26f-aee3-4597-9de0-417a9b93d909",
   "metadata": {},
   "outputs": [
    {
     "name": "stdout",
     "output_type": "stream",
     "text": [
      "[[31  8]\n",
      " [ 5 46]]\n",
      "              precision    recall  f1-score   support\n",
      "\n",
      "           0       0.86      0.79      0.83        39\n",
      "           1       0.85      0.90      0.88        51\n",
      "\n",
      "    accuracy                           0.86        90\n",
      "   macro avg       0.86      0.85      0.85        90\n",
      "weighted avg       0.86      0.86      0.85        90\n",
      "\n"
     ]
    }
   ],
   "source": [
    "print(confusion_matrix(y_test, knn_pred))\n",
    "print(classification_report(y_test, knn_pred))"
   ]
  },
  {
   "cell_type": "code",
   "execution_count": 221,
   "id": "3ad3c22f-5e51-4b07-b6e9-9075462885e9",
   "metadata": {},
   "outputs": [],
   "source": [
    "knn = KNeighborsClassifier(leaf_size=20, p=1, weights='distance', n_neighbors=15)"
   ]
  },
  {
   "cell_type": "code",
   "execution_count": 222,
   "id": "0882e2ab-b909-454a-988a-c86a4015e57f",
   "metadata": {},
   "outputs": [
    {
     "data": {
      "text/plain": [
       "KNeighborsClassifier(leaf_size=20, n_neighbors=15, p=1, weights='distance')"
      ]
     },
     "execution_count": 222,
     "metadata": {},
     "output_type": "execute_result"
    }
   ],
   "source": [
    "knn.fit(X_train_scaled, y_train)"
   ]
  },
  {
   "cell_type": "code",
   "execution_count": 223,
   "id": "eef0a8ea-f3a7-428d-abe9-c9a104411599",
   "metadata": {},
   "outputs": [],
   "source": [
    "knn_pred = knn.predict(X_test_scaled)"
   ]
  },
  {
   "cell_type": "code",
   "execution_count": 224,
   "id": "85fd9137-0f4f-4583-80dc-c79f9ef8bf61",
   "metadata": {},
   "outputs": [],
   "source": [
    "scores = cross_val_score(knn, X_train_scaled, y_train, scoring='recall', cv=10, n_jobs=-1)"
   ]
  },
  {
   "cell_type": "code",
   "execution_count": 225,
   "id": "331d9546-3762-4af0-8f1c-e3baf21969e8",
   "metadata": {},
   "outputs": [
    {
     "data": {
      "text/plain": [
       "0    0.875758\n",
       "dtype: float64"
      ]
     },
     "execution_count": 225,
     "metadata": {},
     "output_type": "execute_result"
    }
   ],
   "source": [
    "pd.DataFrame(scores).mean()"
   ]
  },
  {
   "cell_type": "code",
   "execution_count": 226,
   "id": "62d0c3b7-da0a-4a52-bd89-e03d5d99d94d",
   "metadata": {},
   "outputs": [],
   "source": [
    "knn_recall = recall_score(y_test, knn_pred)"
   ]
  },
  {
   "cell_type": "code",
   "execution_count": 227,
   "id": "1cb4330f-b1e3-4c1d-9d64-80cabe526787",
   "metadata": {},
   "outputs": [
    {
     "data": {
      "text/plain": [
       "0.9019607843137255"
      ]
     },
     "execution_count": 227,
     "metadata": {},
     "output_type": "execute_result"
    }
   ],
   "source": [
    "knn_recall"
   ]
  },
  {
   "cell_type": "markdown",
   "id": "c76b100e-7ea6-4c63-9302-0405ff70a979",
   "metadata": {},
   "source": [
    "# Logistic Regression"
   ]
  },
  {
   "cell_type": "code",
   "execution_count": 228,
   "id": "28dbb6fe-967c-4b85-a4bd-db7132317548",
   "metadata": {},
   "outputs": [],
   "source": [
    "log_model = LogisticRegression(n_jobs=-1)"
   ]
  },
  {
   "cell_type": "code",
   "execution_count": 229,
   "id": "3192958a-0821-44a4-adee-38e27d73e204",
   "metadata": {},
   "outputs": [
    {
     "data": {
      "text/plain": [
       "LogisticRegression(n_jobs=-1)"
      ]
     },
     "execution_count": 229,
     "metadata": {},
     "output_type": "execute_result"
    }
   ],
   "source": [
    "log_model.fit(X_train_scaled, y_train)"
   ]
  },
  {
   "cell_type": "code",
   "execution_count": 230,
   "id": "98903a37-8735-4c7b-98ef-aba59485fa9e",
   "metadata": {},
   "outputs": [],
   "source": [
    "log_pred = log_model.predict(X_test_scaled)"
   ]
  },
  {
   "cell_type": "code",
   "execution_count": 231,
   "id": "6fcd8e64-dc58-4a0d-991c-95aa13522f4a",
   "metadata": {},
   "outputs": [
    {
     "name": "stdout",
     "output_type": "stream",
     "text": [
      "[[32  7]\n",
      " [ 7 44]]\n",
      "              precision    recall  f1-score   support\n",
      "\n",
      "           0       0.82      0.82      0.82        39\n",
      "           1       0.86      0.86      0.86        51\n",
      "\n",
      "    accuracy                           0.84        90\n",
      "   macro avg       0.84      0.84      0.84        90\n",
      "weighted avg       0.84      0.84      0.84        90\n",
      "\n"
     ]
    }
   ],
   "source": [
    "print(confusion_matrix(y_test, log_pred))\n",
    "print(classification_report(y_test, log_pred))"
   ]
  },
  {
   "cell_type": "code",
   "execution_count": 232,
   "id": "fe7373f8-a149-4dda-abce-13f37ab198fd",
   "metadata": {},
   "outputs": [],
   "source": [
    "scores = cross_validate(log_model, X_train_scaled, y_train, scoring='recall', cv=10, n_jobs=-1)"
   ]
  },
  {
   "cell_type": "code",
   "execution_count": 233,
   "id": "e8db27c6-1638-4d77-b31d-cfc761ad2b33",
   "metadata": {},
   "outputs": [
    {
     "data": {
      "text/html": [
       "<div>\n",
       "<style scoped>\n",
       "    .dataframe tbody tr th:only-of-type {\n",
       "        vertical-align: middle;\n",
       "    }\n",
       "\n",
       "    .dataframe tbody tr th {\n",
       "        vertical-align: top;\n",
       "    }\n",
       "\n",
       "    .dataframe thead th {\n",
       "        text-align: right;\n",
       "    }\n",
       "</style>\n",
       "<table border=\"1\" class=\"dataframe\">\n",
       "  <thead>\n",
       "    <tr style=\"text-align: right;\">\n",
       "      <th></th>\n",
       "      <th>fit_time</th>\n",
       "      <th>score_time</th>\n",
       "      <th>test_score</th>\n",
       "    </tr>\n",
       "  </thead>\n",
       "  <tbody>\n",
       "    <tr>\n",
       "      <th>0</th>\n",
       "      <td>0.020988</td>\n",
       "      <td>0.001999</td>\n",
       "      <td>0.818182</td>\n",
       "    </tr>\n",
       "    <tr>\n",
       "      <th>1</th>\n",
       "      <td>0.018989</td>\n",
       "      <td>0.002000</td>\n",
       "      <td>0.909091</td>\n",
       "    </tr>\n",
       "    <tr>\n",
       "      <th>2</th>\n",
       "      <td>0.017989</td>\n",
       "      <td>0.006998</td>\n",
       "      <td>1.000000</td>\n",
       "    </tr>\n",
       "    <tr>\n",
       "      <th>3</th>\n",
       "      <td>0.022989</td>\n",
       "      <td>0.001998</td>\n",
       "      <td>0.818182</td>\n",
       "    </tr>\n",
       "    <tr>\n",
       "      <th>4</th>\n",
       "      <td>0.019637</td>\n",
       "      <td>0.000000</td>\n",
       "      <td>0.909091</td>\n",
       "    </tr>\n",
       "    <tr>\n",
       "      <th>5</th>\n",
       "      <td>0.012640</td>\n",
       "      <td>0.000000</td>\n",
       "      <td>0.636364</td>\n",
       "    </tr>\n",
       "    <tr>\n",
       "      <th>6</th>\n",
       "      <td>0.028330</td>\n",
       "      <td>0.002000</td>\n",
       "      <td>1.000000</td>\n",
       "    </tr>\n",
       "    <tr>\n",
       "      <th>7</th>\n",
       "      <td>0.033681</td>\n",
       "      <td>0.002997</td>\n",
       "      <td>0.909091</td>\n",
       "    </tr>\n",
       "    <tr>\n",
       "      <th>8</th>\n",
       "      <td>0.034681</td>\n",
       "      <td>0.001997</td>\n",
       "      <td>0.666667</td>\n",
       "    </tr>\n",
       "    <tr>\n",
       "      <th>9</th>\n",
       "      <td>0.031683</td>\n",
       "      <td>0.001998</td>\n",
       "      <td>0.916667</td>\n",
       "    </tr>\n",
       "  </tbody>\n",
       "</table>\n",
       "</div>"
      ],
      "text/plain": [
       "   fit_time  score_time  test_score\n",
       "0  0.020988    0.001999    0.818182\n",
       "1  0.018989    0.002000    0.909091\n",
       "2  0.017989    0.006998    1.000000\n",
       "3  0.022989    0.001998    0.818182\n",
       "4  0.019637    0.000000    0.909091\n",
       "5  0.012640    0.000000    0.636364\n",
       "6  0.028330    0.002000    1.000000\n",
       "7  0.033681    0.002997    0.909091\n",
       "8  0.034681    0.001997    0.666667\n",
       "9  0.031683    0.001998    0.916667"
      ]
     },
     "execution_count": 233,
     "metadata": {},
     "output_type": "execute_result"
    }
   ],
   "source": [
    "pd.DataFrame(scores)"
   ]
  },
  {
   "cell_type": "code",
   "execution_count": 234,
   "id": "2a0bb9e8-bcbd-4aec-a4ee-7f5e04ff7657",
   "metadata": {},
   "outputs": [
    {
     "data": {
      "text/plain": [
       "0.8583333333333334"
      ]
     },
     "execution_count": 234,
     "metadata": {},
     "output_type": "execute_result"
    }
   ],
   "source": [
    "pd.DataFrame(scores)['test_score'].mean()"
   ]
  },
  {
   "cell_type": "code",
   "execution_count": 235,
   "id": "4e3e4b5d-2cfa-4351-a74b-25eb7350881d",
   "metadata": {},
   "outputs": [],
   "source": [
    "log_recall = recall_score(y_test, log_pred)"
   ]
  },
  {
   "cell_type": "code",
   "execution_count": 236,
   "id": "49e44c49-c30e-4011-a8d8-24937dad932a",
   "metadata": {},
   "outputs": [
    {
     "data": {
      "text/plain": [
       "0.8627450980392157"
      ]
     },
     "execution_count": 236,
     "metadata": {},
     "output_type": "execute_result"
    }
   ],
   "source": [
    "log_recall"
   ]
  },
  {
   "cell_type": "markdown",
   "id": "6c414bd9-6162-454f-a98f-ca0bb3cb6849",
   "metadata": {},
   "source": [
    "# SVClassifier"
   ]
  },
  {
   "cell_type": "code",
   "execution_count": 237,
   "id": "9c2e6d82-8543-4c05-9fc0-0539ef347969",
   "metadata": {},
   "outputs": [],
   "source": [
    "sv_model = SVC()"
   ]
  },
  {
   "cell_type": "code",
   "execution_count": 238,
   "id": "2db47c46-5a66-4cfd-864f-a477162cb293",
   "metadata": {},
   "outputs": [
    {
     "data": {
      "text/plain": [
       "SVC()"
      ]
     },
     "execution_count": 238,
     "metadata": {},
     "output_type": "execute_result"
    }
   ],
   "source": [
    "sv_model.fit(X_train_scaled, y_train)"
   ]
  },
  {
   "cell_type": "code",
   "execution_count": 239,
   "id": "408b5bca-3f43-457c-aecb-bfb389b63072",
   "metadata": {},
   "outputs": [],
   "source": [
    "sv_pred = sv_model.predict(X_test_scaled)"
   ]
  },
  {
   "cell_type": "code",
   "execution_count": 240,
   "id": "4503ddfe-a0d0-46cc-9abb-41e71796c36c",
   "metadata": {},
   "outputs": [
    {
     "name": "stdout",
     "output_type": "stream",
     "text": [
      "[[35  4]\n",
      " [ 4 47]]\n",
      "              precision    recall  f1-score   support\n",
      "\n",
      "           0       0.90      0.90      0.90        39\n",
      "           1       0.92      0.92      0.92        51\n",
      "\n",
      "    accuracy                           0.91        90\n",
      "   macro avg       0.91      0.91      0.91        90\n",
      "weighted avg       0.91      0.91      0.91        90\n",
      "\n"
     ]
    }
   ],
   "source": [
    "print(confusion_matrix(y_test, sv_pred))\n",
    "print(classification_report(y_test, sv_pred))"
   ]
  },
  {
   "cell_type": "code",
   "execution_count": 241,
   "id": "99568f50-93c7-4a3b-8e5f-605f08b0b7c8",
   "metadata": {},
   "outputs": [],
   "source": [
    "scores = cross_validate(sv_model, X_train_scaled, y_train, cv=10, n_jobs=-1, scoring='recall')"
   ]
  },
  {
   "cell_type": "code",
   "execution_count": 242,
   "id": "98143de5-26ae-4304-9271-62b204c98618",
   "metadata": {},
   "outputs": [
    {
     "data": {
      "text/html": [
       "<div>\n",
       "<style scoped>\n",
       "    .dataframe tbody tr th:only-of-type {\n",
       "        vertical-align: middle;\n",
       "    }\n",
       "\n",
       "    .dataframe tbody tr th {\n",
       "        vertical-align: top;\n",
       "    }\n",
       "\n",
       "    .dataframe thead th {\n",
       "        text-align: right;\n",
       "    }\n",
       "</style>\n",
       "<table border=\"1\" class=\"dataframe\">\n",
       "  <thead>\n",
       "    <tr style=\"text-align: right;\">\n",
       "      <th></th>\n",
       "      <th>fit_time</th>\n",
       "      <th>score_time</th>\n",
       "      <th>test_score</th>\n",
       "    </tr>\n",
       "  </thead>\n",
       "  <tbody>\n",
       "    <tr>\n",
       "      <th>0</th>\n",
       "      <td>0.003998</td>\n",
       "      <td>0.002998</td>\n",
       "      <td>0.636364</td>\n",
       "    </tr>\n",
       "    <tr>\n",
       "      <th>1</th>\n",
       "      <td>0.003998</td>\n",
       "      <td>0.002998</td>\n",
       "      <td>0.818182</td>\n",
       "    </tr>\n",
       "    <tr>\n",
       "      <th>2</th>\n",
       "      <td>0.004995</td>\n",
       "      <td>0.002998</td>\n",
       "      <td>0.909091</td>\n",
       "    </tr>\n",
       "    <tr>\n",
       "      <th>3</th>\n",
       "      <td>0.012992</td>\n",
       "      <td>0.002999</td>\n",
       "      <td>0.818182</td>\n",
       "    </tr>\n",
       "    <tr>\n",
       "      <th>4</th>\n",
       "      <td>0.003997</td>\n",
       "      <td>0.001999</td>\n",
       "      <td>0.909091</td>\n",
       "    </tr>\n",
       "    <tr>\n",
       "      <th>5</th>\n",
       "      <td>0.002998</td>\n",
       "      <td>0.002997</td>\n",
       "      <td>0.545455</td>\n",
       "    </tr>\n",
       "    <tr>\n",
       "      <th>6</th>\n",
       "      <td>0.003997</td>\n",
       "      <td>0.002998</td>\n",
       "      <td>0.909091</td>\n",
       "    </tr>\n",
       "    <tr>\n",
       "      <th>7</th>\n",
       "      <td>0.002997</td>\n",
       "      <td>0.002998</td>\n",
       "      <td>0.909091</td>\n",
       "    </tr>\n",
       "    <tr>\n",
       "      <th>8</th>\n",
       "      <td>0.002998</td>\n",
       "      <td>0.002999</td>\n",
       "      <td>0.916667</td>\n",
       "    </tr>\n",
       "    <tr>\n",
       "      <th>9</th>\n",
       "      <td>0.002999</td>\n",
       "      <td>0.002996</td>\n",
       "      <td>0.916667</td>\n",
       "    </tr>\n",
       "  </tbody>\n",
       "</table>\n",
       "</div>"
      ],
      "text/plain": [
       "   fit_time  score_time  test_score\n",
       "0  0.003998    0.002998    0.636364\n",
       "1  0.003998    0.002998    0.818182\n",
       "2  0.004995    0.002998    0.909091\n",
       "3  0.012992    0.002999    0.818182\n",
       "4  0.003997    0.001999    0.909091\n",
       "5  0.002998    0.002997    0.545455\n",
       "6  0.003997    0.002998    0.909091\n",
       "7  0.002997    0.002998    0.909091\n",
       "8  0.002998    0.002999    0.916667\n",
       "9  0.002999    0.002996    0.916667"
      ]
     },
     "execution_count": 242,
     "metadata": {},
     "output_type": "execute_result"
    }
   ],
   "source": [
    "pd.DataFrame(scores)"
   ]
  },
  {
   "cell_type": "code",
   "execution_count": 243,
   "id": "e12603a0-a882-4ce2-b3f7-d9a8fc20b0dc",
   "metadata": {},
   "outputs": [
    {
     "data": {
      "text/plain": [
       "0.8287878787878787"
      ]
     },
     "execution_count": 243,
     "metadata": {},
     "output_type": "execute_result"
    }
   ],
   "source": [
    "pd.DataFrame(scores)['test_score'].mean()"
   ]
  },
  {
   "cell_type": "code",
   "execution_count": 244,
   "id": "7a88f83d-185c-412a-8efd-8ecb8fe7df15",
   "metadata": {
    "tags": []
   },
   "outputs": [],
   "source": [
    "grid_param = {'C':[0.1, 0.3, 0.5, 0.7, 1, 1.5, 2, 2.5, 3],\n",
    "             'kernel': ['linear', 'poly', 'rbf', 'sigmoid'],\n",
    "             'degree': [1, 2, 3, 4],\n",
    "             'gamma':[0.1, 0.3, 0.5, 0.7, 1, 1.5, 2, 2.5, 3, 'scale', 'auto'],\n",
    "             'random_state':[42]}"
   ]
  },
  {
   "cell_type": "code",
   "execution_count": 245,
   "id": "8040984d-f96a-4770-9253-c856df4e23bd",
   "metadata": {},
   "outputs": [],
   "source": [
    "cv = GridSearchCV(SVC(random_state=42), param_grid=grid_param, n_jobs=-1, scoring='recall')"
   ]
  },
  {
   "cell_type": "code",
   "execution_count": 246,
   "id": "7cf3eefd-067b-417a-ac17-3548d49d10fd",
   "metadata": {},
   "outputs": [
    {
     "data": {
      "text/plain": [
       "GridSearchCV(estimator=SVC(random_state=42), n_jobs=-1,\n",
       "             param_grid={'C': [0.1, 0.3, 0.5, 0.7, 1, 1.5, 2, 2.5, 3],\n",
       "                         'degree': [1, 2, 3, 4],\n",
       "                         'gamma': [0.1, 0.3, 0.5, 0.7, 1, 1.5, 2, 2.5, 3,\n",
       "                                   'scale', 'auto'],\n",
       "                         'kernel': ['linear', 'poly', 'rbf', 'sigmoid'],\n",
       "                         'random_state': [42]},\n",
       "             scoring='recall')"
      ]
     },
     "execution_count": 246,
     "metadata": {},
     "output_type": "execute_result"
    }
   ],
   "source": [
    "cv.fit(X_train_scaled, y_train)"
   ]
  },
  {
   "cell_type": "code",
   "execution_count": 247,
   "id": "8593b548-5ae5-4ecd-a2b3-39a8ece9744f",
   "metadata": {},
   "outputs": [
    {
     "data": {
      "text/plain": [
       "1.0"
      ]
     },
     "execution_count": 247,
     "metadata": {},
     "output_type": "execute_result"
    }
   ],
   "source": [
    "cv.best_score_"
   ]
  },
  {
   "cell_type": "code",
   "execution_count": 248,
   "id": "3ac32db4-8538-4e0f-a4ad-f2f90ea6c6b5",
   "metadata": {},
   "outputs": [
    {
     "data": {
      "text/plain": [
       "{'C': 0.1, 'degree': 1, 'gamma': 0.1, 'kernel': 'poly', 'random_state': 42}"
      ]
     },
     "execution_count": 248,
     "metadata": {},
     "output_type": "execute_result"
    }
   ],
   "source": [
    "cv.best_params_"
   ]
  },
  {
   "cell_type": "code",
   "execution_count": 249,
   "id": "4067999c-6998-4aa1-9cac-70c05596c685",
   "metadata": {},
   "outputs": [
    {
     "data": {
      "text/plain": [
       "SVC(C=0.1, degree=1, gamma=0.1, kernel='poly', random_state=42)"
      ]
     },
     "execution_count": 249,
     "metadata": {},
     "output_type": "execute_result"
    }
   ],
   "source": [
    "cv.best_estimator_"
   ]
  },
  {
   "cell_type": "code",
   "execution_count": 250,
   "id": "a9720143-bc11-445a-825f-cf6bf30dc01c",
   "metadata": {},
   "outputs": [],
   "source": [
    "sv_pred = cv.predict(X_test_scaled)"
   ]
  },
  {
   "cell_type": "code",
   "execution_count": 251,
   "id": "35075900-13b6-49c9-84d9-b894c4d8e7ee",
   "metadata": {},
   "outputs": [
    {
     "name": "stdout",
     "output_type": "stream",
     "text": [
      "[[ 9 30]\n",
      " [ 0 51]]\n",
      "              precision    recall  f1-score   support\n",
      "\n",
      "           0       1.00      0.23      0.38        39\n",
      "           1       0.63      1.00      0.77        51\n",
      "\n",
      "    accuracy                           0.67        90\n",
      "   macro avg       0.81      0.62      0.57        90\n",
      "weighted avg       0.79      0.67      0.60        90\n",
      "\n"
     ]
    }
   ],
   "source": [
    "print(confusion_matrix(y_test, sv_pred))\n",
    "print(classification_report(y_test, sv_pred))"
   ]
  },
  {
   "cell_type": "code",
   "execution_count": 252,
   "id": "a5e94c8e-d203-4e4a-a7eb-c5b71a536350",
   "metadata": {},
   "outputs": [],
   "source": [
    "svc_tuned = SVC(C=0.1, degree=1, gamma=0.1, kernel='poly', random_state=42)"
   ]
  },
  {
   "cell_type": "code",
   "execution_count": 253,
   "id": "54bbbaee-ae03-45a6-9bae-ff227995501a",
   "metadata": {},
   "outputs": [],
   "source": [
    "scores = cross_validate(svc_tuned, X_train_scaled, y_train, cv=10, n_jobs=-1, scoring='recall')"
   ]
  },
  {
   "cell_type": "code",
   "execution_count": 254,
   "id": "d3741f44-f3b2-4cbf-b8b6-1f2d55e5be2a",
   "metadata": {},
   "outputs": [
    {
     "data": {
      "text/html": [
       "<div>\n",
       "<style scoped>\n",
       "    .dataframe tbody tr th:only-of-type {\n",
       "        vertical-align: middle;\n",
       "    }\n",
       "\n",
       "    .dataframe tbody tr th {\n",
       "        vertical-align: top;\n",
       "    }\n",
       "\n",
       "    .dataframe thead th {\n",
       "        text-align: right;\n",
       "    }\n",
       "</style>\n",
       "<table border=\"1\" class=\"dataframe\">\n",
       "  <thead>\n",
       "    <tr style=\"text-align: right;\">\n",
       "      <th></th>\n",
       "      <th>fit_time</th>\n",
       "      <th>score_time</th>\n",
       "      <th>test_score</th>\n",
       "    </tr>\n",
       "  </thead>\n",
       "  <tbody>\n",
       "    <tr>\n",
       "      <th>0</th>\n",
       "      <td>0.003997</td>\n",
       "      <td>0.003997</td>\n",
       "      <td>1.0</td>\n",
       "    </tr>\n",
       "    <tr>\n",
       "      <th>1</th>\n",
       "      <td>0.005001</td>\n",
       "      <td>0.002995</td>\n",
       "      <td>1.0</td>\n",
       "    </tr>\n",
       "    <tr>\n",
       "      <th>2</th>\n",
       "      <td>0.007997</td>\n",
       "      <td>0.002999</td>\n",
       "      <td>1.0</td>\n",
       "    </tr>\n",
       "    <tr>\n",
       "      <th>3</th>\n",
       "      <td>0.006996</td>\n",
       "      <td>0.002999</td>\n",
       "      <td>1.0</td>\n",
       "    </tr>\n",
       "    <tr>\n",
       "      <th>4</th>\n",
       "      <td>0.002998</td>\n",
       "      <td>0.002999</td>\n",
       "      <td>1.0</td>\n",
       "    </tr>\n",
       "    <tr>\n",
       "      <th>5</th>\n",
       "      <td>0.005006</td>\n",
       "      <td>0.001991</td>\n",
       "      <td>1.0</td>\n",
       "    </tr>\n",
       "    <tr>\n",
       "      <th>6</th>\n",
       "      <td>0.003999</td>\n",
       "      <td>0.003000</td>\n",
       "      <td>1.0</td>\n",
       "    </tr>\n",
       "    <tr>\n",
       "      <th>7</th>\n",
       "      <td>0.004998</td>\n",
       "      <td>0.002002</td>\n",
       "      <td>1.0</td>\n",
       "    </tr>\n",
       "    <tr>\n",
       "      <th>8</th>\n",
       "      <td>0.003997</td>\n",
       "      <td>0.002002</td>\n",
       "      <td>1.0</td>\n",
       "    </tr>\n",
       "    <tr>\n",
       "      <th>9</th>\n",
       "      <td>0.003998</td>\n",
       "      <td>0.001999</td>\n",
       "      <td>1.0</td>\n",
       "    </tr>\n",
       "  </tbody>\n",
       "</table>\n",
       "</div>"
      ],
      "text/plain": [
       "   fit_time  score_time  test_score\n",
       "0  0.003997    0.003997         1.0\n",
       "1  0.005001    0.002995         1.0\n",
       "2  0.007997    0.002999         1.0\n",
       "3  0.006996    0.002999         1.0\n",
       "4  0.002998    0.002999         1.0\n",
       "5  0.005006    0.001991         1.0\n",
       "6  0.003999    0.003000         1.0\n",
       "7  0.004998    0.002002         1.0\n",
       "8  0.003997    0.002002         1.0\n",
       "9  0.003998    0.001999         1.0"
      ]
     },
     "execution_count": 254,
     "metadata": {},
     "output_type": "execute_result"
    }
   ],
   "source": [
    "pd.DataFrame(scores)"
   ]
  },
  {
   "cell_type": "code",
   "execution_count": 255,
   "id": "75073ce2-b499-4f69-8914-0f1b10a2565a",
   "metadata": {},
   "outputs": [],
   "source": [
    "sv_recall = recall_score(y_test, sv_pred)"
   ]
  },
  {
   "cell_type": "code",
   "execution_count": 256,
   "id": "9e2d0898-d783-458b-8ddf-acdf2472c26c",
   "metadata": {},
   "outputs": [
    {
     "data": {
      "text/plain": [
       "1.0"
      ]
     },
     "execution_count": 256,
     "metadata": {},
     "output_type": "execute_result"
    }
   ],
   "source": [
    "sv_recall"
   ]
  },
  {
   "cell_type": "markdown",
   "id": "a91ba8af-f7de-4d21-bd78-1ce33e0825ac",
   "metadata": {},
   "source": [
    "# Visually Compare Model Scores"
   ]
  },
  {
   "cell_type": "code",
   "execution_count": 257,
   "id": "1d15ace9-123d-4c31-92d2-54318d9a12e5",
   "metadata": {},
   "outputs": [
    {
     "data": {
      "text/plain": [
       "<Figure size 720x432 with 0 Axes>"
      ]
     },
     "metadata": {},
     "output_type": "display_data"
    }
   ],
   "source": [
    "plt.figure(figsize=(10, 6))\n",
    "\n",
    "rec_df = pd.DataFrame({'knn_recall_score': knn_recall,\n",
    "              'support_vector_recall_score': sv_recall,\n",
    "              'log_reg_recall_score': log_recall}, index=[0])"
   ]
  },
  {
   "cell_type": "code",
   "execution_count": 258,
   "id": "7f418f87-a797-4df1-b513-bc4d0032ce8e",
   "metadata": {},
   "outputs": [
    {
     "data": {
      "text/html": [
       "<div>\n",
       "<style scoped>\n",
       "    .dataframe tbody tr th:only-of-type {\n",
       "        vertical-align: middle;\n",
       "    }\n",
       "\n",
       "    .dataframe tbody tr th {\n",
       "        vertical-align: top;\n",
       "    }\n",
       "\n",
       "    .dataframe thead th {\n",
       "        text-align: right;\n",
       "    }\n",
       "</style>\n",
       "<table border=\"1\" class=\"dataframe\">\n",
       "  <thead>\n",
       "    <tr style=\"text-align: right;\">\n",
       "      <th></th>\n",
       "      <th>knn_recall_score</th>\n",
       "      <th>support_vector_recall_score</th>\n",
       "      <th>log_reg_recall_score</th>\n",
       "    </tr>\n",
       "  </thead>\n",
       "  <tbody>\n",
       "    <tr>\n",
       "      <th>0</th>\n",
       "      <td>0.901961</td>\n",
       "      <td>1.0</td>\n",
       "      <td>0.862745</td>\n",
       "    </tr>\n",
       "  </tbody>\n",
       "</table>\n",
       "</div>"
      ],
      "text/plain": [
       "   knn_recall_score  support_vector_recall_score  log_reg_recall_score\n",
       "0          0.901961                          1.0              0.862745"
      ]
     },
     "execution_count": 258,
     "metadata": {},
     "output_type": "execute_result"
    }
   ],
   "source": [
    "rec_df"
   ]
  },
  {
   "cell_type": "code",
   "execution_count": 259,
   "id": "63aafae6-d649-4c0e-b6d1-3796e18efbb7",
   "metadata": {},
   "outputs": [
    {
     "data": {
      "text/plain": [
       "<AxesSubplot:>"
      ]
     },
     "execution_count": 259,
     "metadata": {},
     "output_type": "execute_result"
    },
    {
     "data": {
      "image/png": "[encoded data removed]",
      "text/plain": [
       "<Figure size 1080x720 with 1 Axes>"
      ]
     },
     "metadata": {
      "needs_background": "light"
     },
     "output_type": "display_data"
    }
   ],
   "source": [
    "plt.figure(figsize=(15, 10))\n",
    "sns.barplot(x=rec_df.columns, y=rec_df.iloc[0].values)"
   ]
  },
  {
   "cell_type": "code",
   "execution_count": null,
   "id": "4b8ec5f8-9ca3-4b2e-825d-fa56b9801c73",
   "metadata": {},
   "outputs": [],
   "source": []
  }
 ],
 "metadata": {
  "interpreter": {
   "hash": "78f499e638b180260314974c742cd0103cf7e397c22b4021a02426f6fead37c4"
  },
  "kernelspec": {
   "display_name": "Python 3.9(machinelearning)",
   "language": "python",
   "name": "python3"
  },
  "language_info": {
   "codemirror_mode": {
    "name": "ipython",
    "version": 3
   },
   "file_extension": ".py",
   "mimetype": "text/x-python",
   "name": "python",
   "nbconvert_exporter": "python",
   "pygments_lexer": "ipython3",
   "version": "3.9.7"
  }
 },
 "nbformat": 4,
 "nbformat_minor": 5
}
