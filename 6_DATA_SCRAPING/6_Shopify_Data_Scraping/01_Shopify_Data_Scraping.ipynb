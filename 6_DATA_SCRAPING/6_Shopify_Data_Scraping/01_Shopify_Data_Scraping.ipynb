{
 "cells": [
  {
   "cell_type": "code",
   "execution_count": 6,
   "metadata": {},
   "outputs": [],
   "source": [
    "import requests\n",
    "import json\n",
    "import pandas as pd"
   ]
  },
  {
   "cell_type": "code",
   "execution_count": 3,
   "metadata": {},
   "outputs": [],
   "source": [
    "url = \"https://helmboots.com/products.json?limit=250&page=1\""
   ]
  },
  {
   "cell_type": "code",
   "execution_count": 4,
   "metadata": {},
   "outputs": [],
   "source": [
    "r = requests.get(url)\n",
    "data = r.json()"
   ]
  },
  {
   "cell_type": "code",
   "execution_count": 5,
   "metadata": {},
   "outputs": [
    {
     "name": "stdout",
     "output_type": "stream",
     "text": [
      "saved to file.\n"
     ]
    }
   ],
   "source": [
    "product_list = []\n",
    "for item in data[\"products\"]:\n",
    "    id = item[\"id\"]\n",
    "    vendor = item[\"vendor\"]\n",
    "    title = item[\"title\"]\n",
    "    handle = item[\"handle\"]\n",
    "    created = item[\"created_at\"]\n",
    "    published = item[\"published_at\"]\n",
    "    updated = item[\"updated_at\"]\n",
    "    type = item[\"product_type\"]\n",
    "    for variant in item[\"variants\"]:\n",
    "        price = variant[\"price\"]\n",
    "        sku = variant[\"sku\"]\n",
    "        available = variant[\"available\"]\n",
    "    for image in item[\"images\"]:\n",
    "        try:\n",
    "            imagesrc = image[\"src\"]\n",
    "        except:\n",
    "            image = \"None\"\n",
    "\n",
    "        product = {\"id\" : id,\n",
    "                   \"vendor\" : vendor,\n",
    "                   \"title\" : title,\n",
    "                   \"handle\" : handle,\n",
    "                   \"created\" : created,\n",
    "                   \"published\" : published,\n",
    "                   \"updated\" : updated,\n",
    "                   \"type\" : type,\n",
    "                   \"price\" : price,\n",
    "                   \"sku\" : sku,\n",
    "                   \"available\" : available,\n",
    "                   \"image\" : imagesrc}\n",
    "        product_list.append(product)\n",
    "df = pd.DataFrame(product_list)\n",
    "df.to_csv(\"shopify.csv\", index=False)\n",
    "print(\"saved to file.\")     "
   ]
  },
  {
   "cell_type": "code",
   "execution_count": null,
   "metadata": {},
   "outputs": [],
   "source": []
  }
 ],
 "metadata": {
  "kernelspec": {
   "display_name": "Python 3.9.12 64-bit",
   "language": "python",
   "name": "python3"
  },
  "language_info": {
   "codemirror_mode": {
    "name": "ipython",
    "version": 3
   },
   "file_extension": ".py",
   "mimetype": "text/x-python",
   "name": "python",
   "nbconvert_exporter": "python",
   "pygments_lexer": "ipython3",
   "version": "3.9.12 (tags/v3.9.12:b28265d, Mar 23 2022, 23:52:46) [MSC v.1929 64 bit (AMD64)]"
  },
  "orig_nbformat": 4,
  "vscode": {
   "interpreter": {
    "hash": "78d5379cc5a4e608d385c34b2eb3bb89eeab02a92c9e7d486e469b4c860ee8ca"
   }
  }
 },
 "nbformat": 4,
 "nbformat_minor": 2
}
