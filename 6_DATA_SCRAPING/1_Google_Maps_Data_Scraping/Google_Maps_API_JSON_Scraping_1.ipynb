{
 "cells": [
  {
   "cell_type": "markdown",
   "metadata": {},
   "source": [
    "#### WEB SCRAPPING FROM Google Maps\n",
    "###### Article: https://hackersandslackers.com/extract-data-from-complex-json-python/\n",
    "###### Google Maps: https://developers.google.com/maps/documentation/distance-matrix/start\n",
    "###### We need Google Maps API Keys and pay for it"
   ]
  },
  {
   "cell_type": "code",
   "execution_count": null,
   "metadata": {},
   "outputs": [],
   "source": [
    "\"\"\"Fetch and extract JSON data from Google Maps.\"\"\"\n",
    "import requests\n",
    "from config import API_KEY\n",
    "\n",
    "def google_maps_distance():\n",
    "    \"\"\"Fetch distance between two points.\"\"\"\n",
    "    endpoint = \"https://maps.googleapis.com/maps/api/distancematrix/json\"\n",
    "    params = {\n",
    "       'units': 'imperial',\n",
    "       'key': API_KEY,\n",
    "       'origins': 'New York City, NY',\n",
    "       'destinations': 'Philadelphia,PA',\n",
    "       'transit_mode': 'car'\n",
    "    }\n",
    "    r = requests.get(endpoint, params=params)\n",
    "    return r.json"
   ]
  },
  {
   "cell_type": "code",
   "execution_count": null,
   "metadata": {},
   "outputs": [],
   "source": [
    "import requests\n",
    "from config import API_KEY\n",
    "\n",
    "def google_maps_distance():\n",
    "    \"\"\"Fetch distance between two points.\"\"\"\n",
    "    endpoint = \"https://maps.googleapis.com/maps/api/distancematrix/json\"\n",
    "    params = {\n",
    "       'units': 'imperial',\n",
    "       'key': API_KEY,\n",
    "       'origins': 'New York City, NY',\n",
    "       'destinations': 'Washington,DC|Philadelphia,PA|Santa Barbara,CA|Miami,FL|Austin,TX|Napa County,CA',\n",
    "       'transit_mode': 'car'\n",
    "    }\n",
    "    r = requests.get(endpoint, params=params)\n",
    "    return r.json()"
   ]
  },
  {
   "cell_type": "code",
   "execution_count": null,
   "metadata": {},
   "outputs": [],
   "source": [
    "response['rows'][0]['elements']['distance']['test']"
   ]
  },
  {
   "cell_type": "code",
   "execution_count": null,
   "metadata": {},
   "outputs": [],
   "source": [
    "\"\"\"Extract nested values from a JSON tree.\"\"\"\n",
    "\n",
    "\n",
    "def json_extract(obj, key):\n",
    "    \"\"\"Recursively fetch values from nested JSON.\"\"\"\n",
    "    arr = []\n",
    "\n",
    "    def extract(obj, arr, key):\n",
    "        \"\"\"Recursively search for values of key in JSON tree.\"\"\"\n",
    "        if isinstance(obj, dict):\n",
    "            for k, v in obj.items():\n",
    "                if isinstance(v, (dict, list)):\n",
    "                    extract(v, arr, key)\n",
    "                elif k == key:\n",
    "                    arr.append(v)\n",
    "        elif isinstance(obj, list):\n",
    "            for item in obj:\n",
    "                extract(item, arr, key)\n",
    "        return arr\n",
    "\n",
    "    values = extract(obj, arr, key)\n",
    "    return values"
   ]
  },
  {
   "cell_type": "code",
   "execution_count": null,
   "metadata": {},
   "outputs": [],
   "source": [
    "from extract import json_extract\n",
    "\n",
    "# Find every instance of `name` in a Python dictionary.\n",
    "names = json_extract(r.json(), 'name')\n",
    "print(names)"
   ]
  },
  {
   "cell_type": "code",
   "execution_count": null,
   "metadata": {},
   "outputs": [],
   "source": [
    "...\n",
    "from extract import json_extract\n",
    "\n",
    "\n",
    "def google_maps_distance():\n",
    "    \"\"\"Fetch distance between two points.\"\"\"\n",
    "    endpoint = \"https://maps.googleapis.com/maps/api/distancematrix/json\"\n",
    "    params = {\n",
    "       'units': 'imperial',\n",
    "       'key': API_KEY,\n",
    "       'origins': \"New York City,NY\",\n",
    "       'destinations': \"Washington,DC|Philadelphia,PA|Santa Barbara,CA|Miami,FL|Austin,TX|Napa Valley,CA\",\n",
    "       'transit_mode': 'car',\n",
    "    }\n",
    "   r = requests.get(endpoint, params=params)\n",
    "   travel_values = json_extract(r.json(), 'text')\n",
    "   return travel_values"
   ]
  },
  {
   "cell_type": "code",
   "execution_count": null,
   "metadata": {},
   "outputs": [],
   "source": [
    "my_values = json_extract(r.json(), 'text')\n",
    "\n",
    "durations = my_values[1::2]  # Get every even-index value from a list\n",
    "distances = my_values[2::1]  # Get every odd-index value from a list\n",
    "\n",
    "print('Durations = ', durations)\n",
    "print('Distances = ', distances)"
   ]
  },
  {
   "cell_type": "markdown",
   "metadata": {},
   "source": [
    "#### Getting Creative With Lists"
   ]
  },
  {
   "cell_type": "code",
   "execution_count": null,
   "metadata": {},
   "outputs": [],
   "source": [
    "column_names = ['index', 'first_name', 'last_name', 'join_date']\n",
    "column_datatypes = ['integer', 'string', 'string', 'date']"
   ]
  },
  {
   "cell_type": "code",
   "execution_count": null,
   "metadata": {},
   "outputs": [],
   "source": [
    "schema_dict = dict(zip(column_names, column_datatypes))\n",
    "print(schema_dict)"
   ]
  },
  {
   "cell_type": "code",
   "execution_count": null,
   "metadata": {},
   "outputs": [],
   "source": []
  }
 ],
 "metadata": {
  "interpreter": {
   "hash": "78f499e638b180260314974c742cd0103cf7e397c22b4021a02426f6fead37c4"
  },
  "kernelspec": {
   "display_name": "Python 3.9.7 64-bit",
   "language": "python",
   "name": "python3"
  },
  "language_info": {
   "codemirror_mode": {
    "name": "ipython",
    "version": 3
   },
   "file_extension": ".py",
   "mimetype": "text/x-python",
   "name": "python",
   "nbconvert_exporter": "python",
   "pygments_lexer": "ipython3",
   "version": "3.9.7"
  },
  "orig_nbformat": 4
 },
 "nbformat": 4,
 "nbformat_minor": 2
}
