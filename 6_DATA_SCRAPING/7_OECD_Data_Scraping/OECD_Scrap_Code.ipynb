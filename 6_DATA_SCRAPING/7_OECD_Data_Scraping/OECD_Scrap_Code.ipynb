{
 "cells": [
  {
   "cell_type": "markdown",
   "metadata": {},
   "source": [
    "### OECD DATA SCRAPING"
   ]
  },
  {
   "cell_type": "code",
   "execution_count": 1,
   "metadata": {},
   "outputs": [],
   "source": [
    "# OECD Data Scraping\n",
    "# pip install sdmx\n",
    "# import pandasdmx as sdmx\n",
    "# sdmx.list_sources()"
   ]
  },
  {
   "cell_type": "code",
   "execution_count": 2,
   "metadata": {},
   "outputs": [],
   "source": [
    "# Go to OECD Web\n",
    "#   >>> Find data\n",
    "#   >>> Go to Export\n",
    "#   >>> SDMX (XML)\n",
    "#   >>> Get SDMX DATA URL\n",
    "#   >>> Make resource_id & key\n",
    "#   >>> Run the Script\n",
    "# SDMX DATA URL: https://stats.oecd.org/restsdmx/sdmx.ashx/GetData/HIGH_AGLINK_2010/WLD+O29+NME+DVD+DVG+LDC+CAN+USA+AUS+NZL+MEX+KOR+JPN+TUR+CHL+E27+RUS+UKR+DZA+EGY+SSA+ZAF+ARG+BRA+URY+BGD+CHN+IND+IDN+IRN+MYS+PAK+SAU.WT+CG+RI+OS+PM+VL+BV+PK+PT+SH+BT+CH+SMP+WMP+MK+WYP+CA+SU+SUR+SUW+ET+BD.QP+IM+QC+ST+EX+NT+AH+CI+CR+FE+FO+OU+YLD+XP+PP+MP+IMP+PC/all?startTime=2000&endTime=2019"
   ]
  },
  {
   "cell_type": "code",
   "execution_count": 3,
   "metadata": {},
   "outputs": [
    {
     "name": "stderr",
     "output_type": "stream",
     "text": [
      "c:\\Users\\engin\\AppData\\Local\\Programs\\Python\\Python39\\lib\\site-packages\\requests\\__init__.py:102: RequestsDependencyWarning: urllib3 (1.26.9) or chardet (5.0.0)/charset_normalizer (2.0.12) doesn't match a supported version!\n",
      "  warnings.warn(\"urllib3 ({}) or chardet ({})/charset_normalizer ({}) doesn't match a supported \"\n"
     ]
    }
   ],
   "source": [
    "import pandas as pd\n",
    "import numpy as np\n",
    "import pandasdmx as sdmx\n",
    "\n",
    "import warnings\n",
    "warnings.filterwarnings(\"ignore\")\n",
    "warnings.warn(\"this will not show\")"
   ]
  },
  {
   "cell_type": "code",
   "execution_count": 4,
   "metadata": {},
   "outputs": [],
   "source": [
    "import pandas as pd\n",
    "import pandasdmx as pdmx\n",
    "\n",
    "# Tell pdmx we want OECD data\n",
    "oecd = pdmx.Request(\"OECD\")\n",
    "# Set out everything about the request in the format specified by the OECD API\n",
    "data_resource_id=\"HIGH_AGLINK_2010\"\n",
    "data_key=\"WLD+O29+NME+DVD+DVG+LDC+CAN+USA+AUS+NZL+MEX+KOR+JPN+TUR+CHL+E27+RUS+UKR+DZA+EGY+SSA+ZAF+ARG+BRA+URY+BGD+CHN+IND+IDN+IRN+MYS+PAK+SAU.WT+CG+RI+OS+PM+VL+BV+PK+PT+SH+BT+CH+SMP+WMP+MK+WYP+CA+SU+SUR+SUW+ET+BD.QP+IM+QC+ST+EX+NT+AH+CI+CR+FE+FO+OU+YLD+XP+PP+MP+IMP+PC/all?startTime=2000&endTime=2019\"\n",
    "data = oecd.data(resource_id=data_resource_id, key=data_key)\n",
    "data = data.to_pandas()\n",
    "df = pd.DataFrame(data).reset_index()\n",
    "df.head()"
   ]
  },
  {
   "cell_type": "code",
   "execution_count": null,
   "metadata": {},
   "outputs": [],
   "source": [
    "import pandas as pd\n",
    "import pandasdmx as sdmx\n",
    "import pandas_datareader.data as web\n",
    "\n",
    "pd.set_option('display.max_rows', None)#print everything rows\n",
    "pd.set_option('display.max_columns', None)#print everything columns\n",
    "\n",
    "series = 'STIO_2016'\n",
    "source = 'oecd'\n",
    "start = '2006-01-01'\n",
    "end = '2016-01-01'\n",
    "\n",
    "#df_oecd = web.DataReader(series, data_source = source, start = start, end = end)\n",
    "#print(df_oecd[['Australia']])\n",
    "\n",
    "oecd = sdmx.Request('OECD')\n",
    "params = dict(startPeriod=start, endPeriod=end)\n",
    "data_msg = oecd.data('STIO_2016', key='all', params=params)\n",
    "data = data_msg.data[0]\n",
    "df = sdmx.to_pandas(data).unstack() #turn data into a dataframe\n",
    "print(df)"
   ]
  }
 ],
 "metadata": {
  "kernelspec": {
   "display_name": "Python 3.9.7 64-bit",
   "language": "python",
   "name": "python3"
  },
  "language_info": {
   "codemirror_mode": {
    "name": "ipython",
    "version": 3
   },
   "file_extension": ".py",
   "mimetype": "text/x-python",
   "name": "python",
   "nbconvert_exporter": "python",
   "pygments_lexer": "ipython3",
   "version": "3.9.7"
  },
  "orig_nbformat": 4,
  "vscode": {
   "interpreter": {
    "hash": "78d5379cc5a4e608d385c34b2eb3bb89eeab02a92c9e7d486e469b4c860ee8ca"
   }
  }
 },
 "nbformat": 4,
 "nbformat_minor": 2
}
