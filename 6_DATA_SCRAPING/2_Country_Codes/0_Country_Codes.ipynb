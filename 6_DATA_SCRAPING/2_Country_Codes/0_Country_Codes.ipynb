{
 "cells": [
  {
   "cell_type": "markdown",
   "metadata": {},
   "source": [
    "### OECD DATA SCRAPING"
   ]
  },
  {
   "cell_type": "code",
   "execution_count": 7,
   "metadata": {},
   "outputs": [],
   "source": [
    "import pandas as pd\n",
    "import numpy as np"
   ]
  },
  {
   "cell_type": "code",
   "execution_count": null,
   "metadata": {},
   "outputs": [],
   "source": [
    "# Import dependencies\n",
    "import pandas as pd\n",
    "\n",
    "# Tell Python where to find your csv that contains non standard country names.\n",
    "nonStandardCountryNames = pd.read_csv('countryList-ASEAN.csv', header=0, index_col=0)\n",
    "\n",
    "# Tell Python where to find the csv that contains isoFromCountryNames.csv.\n",
    "isoFromCountryNames = pd.read_csv('isoFromCountryNames.csv', header=0, index_col=1)\n",
    "\n",
    "# Perform the 'lookup' by merging isoFromCountryNames onto nonStandardCountryNames,\n",
    "# Keeping all nonStandardCountryNames and only matching values from isoFromCountryNames\n",
    "standardCountryNames = pd.merge(nonStandardCountryNames,\n",
    "                                isoFromCountryNames['ISO'],\n",
    "                                how='left',\n",
    "                                left_index=True,\n",
    "                                right_index=True)\n",
    "\n",
    "# Print the result to the console\n",
    "print(standardCountryNames)\n",
    "\n",
    "# Print the result to CSV\n",
    "standardCountryNames.to_csv('standardCountryNames.csv')"
   ]
  },
  {
   "cell_type": "code",
   "execution_count": null,
   "metadata": {},
   "outputs": [],
   "source": []
  }
 ],
 "metadata": {
  "kernelspec": {
   "display_name": "Python 3.9.7 64-bit",
   "language": "python",
   "name": "python3"
  },
  "language_info": {
   "codemirror_mode": {
    "name": "ipython",
    "version": 3
   },
   "file_extension": ".py",
   "mimetype": "text/x-python",
   "name": "python",
   "nbconvert_exporter": "python",
   "pygments_lexer": "ipython3",
   "version": "3.9.7"
  },
  "orig_nbformat": 4,
  "vscode": {
   "interpreter": {
    "hash": "78d5379cc5a4e608d385c34b2eb3bb89eeab02a92c9e7d486e469b4c860ee8ca"
   }
  }
 },
 "nbformat": 4,
 "nbformat_minor": 2
}
