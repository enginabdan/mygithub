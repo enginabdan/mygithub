{
 "cells": [
  {
   "cell_type": "markdown",
   "metadata": {},
   "source": [
    "### World_Science_Technology_(PCA / K-Means / AgglomerativeClustering)\n",
    "\n",
    "Engin Abdan\n",
    "(Data Scientist)"
   ]
  },
  {
   "cell_type": "markdown",
   "metadata": {},
   "source": [
    "### Import"
   ]
  },
  {
   "cell_type": "code",
   "execution_count": 1562,
   "metadata": {},
   "outputs": [],
   "source": [
    "import pandas as pd\n",
    "import numpy as np \n",
    "\n",
    "import matplotlib.pyplot as plt\n",
    "import seaborn as sns\n",
    "\n",
    "from scipy.stats import skew\n",
    "\n",
    "from sklearn.preprocessing import MinMaxScaler, StandardScaler\n",
    "from pyclustertend import hopkins\n",
    "from yellowbrick.cluster import KElbowVisualizer\n",
    "from sklearn.metrics import silhouette_score\n",
    "\n",
    "from sklearn.decomposition import PCA\n",
    "from sklearn.cluster import KMeans\n",
    "from sklearn.cluster import AgglomerativeClustering\n",
    "\n",
    "import warnings\n",
    "warnings.filterwarnings(\"ignore\")\n",
    "warnings.warn(\"this will not show\")\n",
    "\n",
    "sns.set_style(\"white\")"
   ]
  },
  {
   "cell_type": "markdown",
   "metadata": {},
   "source": [
    "### Data Scraping Oecd"
   ]
  },
  {
   "cell_type": "code",
   "execution_count": 1563,
   "metadata": {},
   "outputs": [],
   "source": [
    "import pandas as pd\n",
    "import pandasdmx as sdmx\n",
    "import pandas_datareader.data as web\n",
    "\n",
    "pd.set_option('display.max_rows', None)#print everything rows\n",
    "pd.set_option('display.max_columns', None)#print everything columns\n",
    "\n",
    "series = 'STIO_2016'\n",
    "source = 'oecd'\n",
    "start = '2006-01-01'\n",
    "end = '2016-01-01'\n",
    "\n",
    "oecd = sdmx.Request('OECD')\n",
    "params = dict(startPeriod=start, endPeriod=end)\n",
    "data_msg = oecd.data('STIO_2016', key='all', params=params)\n",
    "data = data_msg.data[0]\n",
    "df = sdmx.to_pandas(data).unstack() #turn data into a dataframe\n",
    "print(df)"
   ]
  },
  {
   "cell_type": "code",
   "execution_count": 1564,
   "metadata": {},
   "outputs": [],
   "source": [
    "#df.to_csv(\"science_technology.csv\")"
   ]
  },
  {
   "cell_type": "markdown",
   "metadata": {},
   "source": [
    "### Data Info"
   ]
  },
  {
   "cell_type": "code",
   "execution_count": 1565,
   "metadata": {},
   "outputs": [
    {
     "data": {
      "text/html": [
       "<div>\n",
       "<style scoped>\n",
       "    .dataframe tbody tr th:only-of-type {\n",
       "        vertical-align: middle;\n",
       "    }\n",
       "\n",
       "    .dataframe tbody tr th {\n",
       "        vertical-align: top;\n",
       "    }\n",
       "\n",
       "    .dataframe thead th {\n",
       "        text-align: right;\n",
       "    }\n",
       "</style>\n",
       "<table border=\"1\" class=\"dataframe\">\n",
       "  <thead>\n",
       "    <tr style=\"text-align: right;\">\n",
       "      <th></th>\n",
       "      <th>COUNTRY</th>\n",
       "      <th>INDICATOR</th>\n",
       "      <th>2006</th>\n",
       "      <th>2007</th>\n",
       "      <th>2008</th>\n",
       "      <th>2009</th>\n",
       "      <th>2010</th>\n",
       "      <th>2011</th>\n",
       "      <th>2012</th>\n",
       "      <th>2013</th>\n",
       "      <th>2014</th>\n",
       "      <th>2015</th>\n",
       "    </tr>\n",
       "  </thead>\n",
       "  <tbody>\n",
       "    <tr>\n",
       "      <th>0</th>\n",
       "      <td>ARG</td>\n",
       "      <td>ADTERPOP_XT</td>\n",
       "      <td>NaN</td>\n",
       "      <td>NaN</td>\n",
       "      <td>NaN</td>\n",
       "      <td>NaN</td>\n",
       "      <td>NaN</td>\n",
       "      <td>NaN</td>\n",
       "      <td>NaN</td>\n",
       "      <td>NaN</td>\n",
       "      <td>NaN</td>\n",
       "      <td>NaN</td>\n",
       "    </tr>\n",
       "    <tr>\n",
       "      <th>1</th>\n",
       "      <td>ARG</td>\n",
       "      <td>BE_AF_NC</td>\n",
       "      <td>9.80</td>\n",
       "      <td>9.90</td>\n",
       "      <td>11.80</td>\n",
       "      <td>12.10</td>\n",
       "      <td>16.50</td>\n",
       "      <td>23.39</td>\n",
       "      <td>27.41</td>\n",
       "      <td>32.94</td>\n",
       "      <td>NaN</td>\n",
       "      <td>NaN</td>\n",
       "    </tr>\n",
       "    <tr>\n",
       "      <th>2</th>\n",
       "      <td>ARG</td>\n",
       "      <td>BE_AF_PPP</td>\n",
       "      <td>7.29</td>\n",
       "      <td>6.42</td>\n",
       "      <td>6.44</td>\n",
       "      <td>6.05</td>\n",
       "      <td>7.11</td>\n",
       "      <td>8.78</td>\n",
       "      <td>8.87</td>\n",
       "      <td>9.15</td>\n",
       "      <td>NaN</td>\n",
       "      <td>NaN</td>\n",
       "    </tr>\n",
       "    <tr>\n",
       "      <th>3</th>\n",
       "      <td>ARG</td>\n",
       "      <td>BE_AF_PPPK</td>\n",
       "      <td>7.76</td>\n",
       "      <td>6.66</td>\n",
       "      <td>6.55</td>\n",
       "      <td>6.11</td>\n",
       "      <td>7.11</td>\n",
       "      <td>8.55</td>\n",
       "      <td>8.45</td>\n",
       "      <td>8.48</td>\n",
       "      <td>NaN</td>\n",
       "      <td>NaN</td>\n",
       "    </tr>\n",
       "    <tr>\n",
       "      <th>4</th>\n",
       "      <td>ARG</td>\n",
       "      <td>BE_AF_XGDP</td>\n",
       "      <td>0.00</td>\n",
       "      <td>0.00</td>\n",
       "      <td>0.00</td>\n",
       "      <td>0.00</td>\n",
       "      <td>0.00</td>\n",
       "      <td>0.00</td>\n",
       "      <td>0.00</td>\n",
       "      <td>NaN</td>\n",
       "      <td>NaN</td>\n",
       "      <td>NaN</td>\n",
       "    </tr>\n",
       "  </tbody>\n",
       "</table>\n",
       "</div>"
      ],
      "text/plain": [
       "  COUNTRY    INDICATOR  2006  2007   2008   2009   2010   2011   2012   2013  \\\n",
       "0     ARG  ADTERPOP_XT   NaN   NaN    NaN    NaN    NaN    NaN    NaN    NaN   \n",
       "1     ARG     BE_AF_NC  9.80  9.90  11.80  12.10  16.50  23.39  27.41  32.94   \n",
       "2     ARG    BE_AF_PPP  7.29  6.42   6.44   6.05   7.11   8.78   8.87   9.15   \n",
       "3     ARG   BE_AF_PPPK  7.76  6.66   6.55   6.11   7.11   8.55   8.45   8.48   \n",
       "4     ARG   BE_AF_XGDP  0.00  0.00   0.00   0.00   0.00   0.00   0.00    NaN   \n",
       "\n",
       "   2014  2015  \n",
       "0   NaN   NaN  \n",
       "1   NaN   NaN  \n",
       "2   NaN   NaN  \n",
       "3   NaN   NaN  \n",
       "4   NaN   NaN  "
      ]
     },
     "execution_count": 1565,
     "metadata": {},
     "output_type": "execute_result"
    }
   ],
   "source": [
    "df = pd.read_csv(\"science_technology.csv\")\n",
    "df.head()"
   ]
  },
  {
   "cell_type": "code",
   "execution_count": 1566,
   "metadata": {},
   "outputs": [
    {
     "data": {
      "text/plain": [
       "(17516, 12)"
      ]
     },
     "execution_count": 1566,
     "metadata": {},
     "output_type": "execute_result"
    }
   ],
   "source": [
    "df.shape"
   ]
  },
  {
   "cell_type": "code",
   "execution_count": 1567,
   "metadata": {},
   "outputs": [
    {
     "data": {
      "text/html": [
       "<div>\n",
       "<style scoped>\n",
       "    .dataframe tbody tr th:only-of-type {\n",
       "        vertical-align: middle;\n",
       "    }\n",
       "\n",
       "    .dataframe tbody tr th {\n",
       "        vertical-align: top;\n",
       "    }\n",
       "\n",
       "    .dataframe thead th {\n",
       "        text-align: right;\n",
       "    }\n",
       "</style>\n",
       "<table border=\"1\" class=\"dataframe\">\n",
       "  <thead>\n",
       "    <tr style=\"text-align: right;\">\n",
       "      <th></th>\n",
       "      <th>COUNTRY</th>\n",
       "      <th>INDICATOR</th>\n",
       "      <th>TIME</th>\n",
       "      <th>VALUE</th>\n",
       "    </tr>\n",
       "  </thead>\n",
       "  <tbody>\n",
       "    <tr>\n",
       "      <th>0</th>\n",
       "      <td>ARG</td>\n",
       "      <td>ADTERPOP_XT</td>\n",
       "      <td>2006</td>\n",
       "      <td>NaN</td>\n",
       "    </tr>\n",
       "    <tr>\n",
       "      <th>1</th>\n",
       "      <td>ARG</td>\n",
       "      <td>BE_AF_NC</td>\n",
       "      <td>2006</td>\n",
       "      <td>9.8</td>\n",
       "    </tr>\n",
       "  </tbody>\n",
       "</table>\n",
       "</div>"
      ],
      "text/plain": [
       "  COUNTRY    INDICATOR  TIME  VALUE\n",
       "0     ARG  ADTERPOP_XT  2006    NaN\n",
       "1     ARG     BE_AF_NC  2006    9.8"
      ]
     },
     "execution_count": 1567,
     "metadata": {},
     "output_type": "execute_result"
    }
   ],
   "source": [
    "df=pd.melt(df,\n",
    "           id_vars=[\"COUNTRY\",\"INDICATOR\"],\n",
    "           value_vars=[\"2006\",\"2007\",\"2008\",\"2009\",\"2010\",\"2011\",\"2012\",\"2013\",\"2014\",\"2015\"],\n",
    "           var_name=\"TIME\",\n",
    "           value_name=\"VALUE\")\n",
    "df.head(2)"
   ]
  },
  {
   "cell_type": "code",
   "execution_count": 1568,
   "metadata": {},
   "outputs": [
    {
     "data": {
      "text/plain": [
       "(175160, 4)"
      ]
     },
     "execution_count": 1568,
     "metadata": {},
     "output_type": "execute_result"
    }
   ],
   "source": [
    "df.shape"
   ]
  },
  {
   "cell_type": "code",
   "execution_count": 1569,
   "metadata": {},
   "outputs": [
    {
     "data": {
      "text/html": [
       "<div>\n",
       "<style scoped>\n",
       "    .dataframe tbody tr th:only-of-type {\n",
       "        vertical-align: middle;\n",
       "    }\n",
       "\n",
       "    .dataframe tbody tr th {\n",
       "        vertical-align: top;\n",
       "    }\n",
       "\n",
       "    .dataframe thead th {\n",
       "        text-align: right;\n",
       "    }\n",
       "</style>\n",
       "<table border=\"1\" class=\"dataframe\">\n",
       "  <thead>\n",
       "    <tr style=\"text-align: right;\">\n",
       "      <th></th>\n",
       "      <th>COUNTRY</th>\n",
       "      <th>TIME</th>\n",
       "      <th>ABS_I</th>\n",
       "      <th>ADTERPOP_XT</th>\n",
       "      <th>AFA_XBE</th>\n",
       "      <th>AGEPOP_MEDIAN</th>\n",
       "      <th>BE_AF_NC</th>\n",
       "      <th>BE_AF_PPP</th>\n",
       "      <th>BE_AF_PPPK</th>\n",
       "      <th>BE_AF_XGDP</th>\n",
       "      <th>...</th>\n",
       "      <th>WUGTARP_SCI_NB</th>\n",
       "      <th>WUGTARP_XT</th>\n",
       "      <th>WUGTA_ENG_NB</th>\n",
       "      <th>WUGTA_NB</th>\n",
       "      <th>WUGTA_SCI_NB</th>\n",
       "      <th>WUGTA_XT</th>\n",
       "      <th>WUNIVG_TERABARP_NB</th>\n",
       "      <th>WUNIVG_TERABARP_XT</th>\n",
       "      <th>XBR_I</th>\n",
       "      <th>YDEP_X1564</th>\n",
       "    </tr>\n",
       "  </thead>\n",
       "  <tbody>\n",
       "    <tr>\n",
       "      <th>0</th>\n",
       "      <td>ARG</td>\n",
       "      <td>2006</td>\n",
       "      <td>NaN</td>\n",
       "      <td>NaN</td>\n",
       "      <td>NaN</td>\n",
       "      <td>NaN</td>\n",
       "      <td>9.8</td>\n",
       "      <td>7.29</td>\n",
       "      <td>7.76</td>\n",
       "      <td>0.0</td>\n",
       "      <td>...</td>\n",
       "      <td>NaN</td>\n",
       "      <td>NaN</td>\n",
       "      <td>NaN</td>\n",
       "      <td>NaN</td>\n",
       "      <td>NaN</td>\n",
       "      <td>NaN</td>\n",
       "      <td>NaN</td>\n",
       "      <td>NaN</td>\n",
       "      <td>NaN</td>\n",
       "      <td>NaN</td>\n",
       "    </tr>\n",
       "  </tbody>\n",
       "</table>\n",
       "<p>1 rows × 499 columns</p>\n",
       "</div>"
      ],
      "text/plain": [
       "  COUNTRY  TIME  ABS_I  ADTERPOP_XT  AFA_XBE  AGEPOP_MEDIAN  BE_AF_NC  \\\n",
       "0     ARG  2006    NaN          NaN      NaN            NaN       9.8   \n",
       "\n",
       "   BE_AF_PPP  BE_AF_PPPK  BE_AF_XGDP  ...  WUGTARP_SCI_NB  WUGTARP_XT  \\\n",
       "0       7.29        7.76         0.0  ...             NaN         NaN   \n",
       "\n",
       "   WUGTA_ENG_NB  WUGTA_NB  WUGTA_SCI_NB  WUGTA_XT  WUNIVG_TERABARP_NB  \\\n",
       "0           NaN       NaN           NaN       NaN                 NaN   \n",
       "\n",
       "   WUNIVG_TERABARP_XT  XBR_I  YDEP_X1564  \n",
       "0                 NaN    NaN         NaN  \n",
       "\n",
       "[1 rows x 499 columns]"
      ]
     },
     "execution_count": 1569,
     "metadata": {},
     "output_type": "execute_result"
    }
   ],
   "source": [
    "df = df.pivot(index=[\"COUNTRY\",\"TIME\"], columns=\"INDICATOR\", values=[\"VALUE\"])\n",
    "df.columns = df.columns.droplevel()\n",
    "df = df.rename_axis(None, axis=1)\n",
    "df = df.reset_index()\n",
    "df.head(1)"
   ]
  },
  {
   "cell_type": "code",
   "execution_count": 1570,
   "metadata": {},
   "outputs": [
    {
     "data": {
      "text/plain": [
       "(510, 499)"
      ]
     },
     "execution_count": 1570,
     "metadata": {},
     "output_type": "execute_result"
    }
   ],
   "source": [
    "df.shape"
   ]
  },
  {
   "cell_type": "code",
   "execution_count": 1571,
   "metadata": {},
   "outputs": [
    {
     "name": "stdout",
     "output_type": "stream",
     "text": [
      "<class 'pandas.core.frame.DataFrame'>\n",
      "RangeIndex: 510 entries, 0 to 509\n",
      "Columns: 499 entries, COUNTRY to YDEP_X1564\n",
      "dtypes: float64(497), object(2)\n",
      "memory usage: 1.9+ MB\n"
     ]
    }
   ],
   "source": [
    "df.info()"
   ]
  },
  {
   "cell_type": "code",
   "execution_count": 1572,
   "metadata": {},
   "outputs": [
    {
     "data": {
      "text/html": [
       "<div>\n",
       "<style scoped>\n",
       "    .dataframe tbody tr th:only-of-type {\n",
       "        vertical-align: middle;\n",
       "    }\n",
       "\n",
       "    .dataframe tbody tr th {\n",
       "        vertical-align: top;\n",
       "    }\n",
       "\n",
       "    .dataframe thead th {\n",
       "        text-align: right;\n",
       "    }\n",
       "</style>\n",
       "<table border=\"1\" class=\"dataframe\">\n",
       "  <thead>\n",
       "    <tr style=\"text-align: right;\">\n",
       "      <th></th>\n",
       "      <th>ABS_I</th>\n",
       "      <th>ADTERPOP_XT</th>\n",
       "      <th>AFA_XBE</th>\n",
       "      <th>AGEPOP_MEDIAN</th>\n",
       "      <th>BE_AF_NC</th>\n",
       "      <th>BE_AF_PPP</th>\n",
       "      <th>BE_AF_PPPK</th>\n",
       "      <th>BE_AF_XGDP</th>\n",
       "      <th>BE_AR_NC</th>\n",
       "      <th>BE_AR_PPP</th>\n",
       "      <th>...</th>\n",
       "      <th>WUGTARP_SCI_NB</th>\n",
       "      <th>WUGTARP_XT</th>\n",
       "      <th>WUGTA_ENG_NB</th>\n",
       "      <th>WUGTA_NB</th>\n",
       "      <th>WUGTA_SCI_NB</th>\n",
       "      <th>WUGTA_XT</th>\n",
       "      <th>WUNIVG_TERABARP_NB</th>\n",
       "      <th>WUNIVG_TERABARP_XT</th>\n",
       "      <th>XBR_I</th>\n",
       "      <th>YDEP_X1564</th>\n",
       "    </tr>\n",
       "  </thead>\n",
       "  <tbody>\n",
       "    <tr>\n",
       "      <th>count</th>\n",
       "      <td>80.000000</td>\n",
       "      <td>296.000000</td>\n",
       "      <td>148.000000</td>\n",
       "      <td>2.000000</td>\n",
       "      <td>283.000000</td>\n",
       "      <td>289.000000</td>\n",
       "      <td>283.000000</td>\n",
       "      <td>259.000000</td>\n",
       "      <td>2.050000e+02</td>\n",
       "      <td>218.000000</td>\n",
       "      <td>...</td>\n",
       "      <td>259.000000</td>\n",
       "      <td>135.000000</td>\n",
       "      <td>5.000000</td>\n",
       "      <td>11.000000</td>\n",
       "      <td>5.0000</td>\n",
       "      <td>6.000000</td>\n",
       "      <td>6.000000</td>\n",
       "      <td>6.000000</td>\n",
       "      <td>80.000000</td>\n",
       "      <td>457.000000</td>\n",
       "    </tr>\n",
       "    <tr>\n",
       "      <th>mean</th>\n",
       "      <td>2.119250</td>\n",
       "      <td>25.004831</td>\n",
       "      <td>33.942973</td>\n",
       "      <td>36.755000</td>\n",
       "      <td>8523.961943</td>\n",
       "      <td>1424.973737</td>\n",
       "      <td>1130.361025</td>\n",
       "      <td>0.121081</td>\n",
       "      <td>3.661786e+05</td>\n",
       "      <td>3776.514587</td>\n",
       "      <td>...</td>\n",
       "      <td>9230.308456</td>\n",
       "      <td>31.070148</td>\n",
       "      <td>1985.200000</td>\n",
       "      <td>139403.454545</td>\n",
       "      <td>3212.6000</td>\n",
       "      <td>59.808333</td>\n",
       "      <td>278841.166667</td>\n",
       "      <td>54.903333</td>\n",
       "      <td>0.534875</td>\n",
       "      <td>28.089453</td>\n",
       "    </tr>\n",
       "    <tr>\n",
       "      <th>std</th>\n",
       "      <td>0.787815</td>\n",
       "      <td>10.628215</td>\n",
       "      <td>16.499657</td>\n",
       "      <td>1.746554</td>\n",
       "      <td>23831.856300</td>\n",
       "      <td>3026.114870</td>\n",
       "      <td>2280.036939</td>\n",
       "      <td>0.246690</td>\n",
       "      <td>1.316399e+06</td>\n",
       "      <td>6301.574545</td>\n",
       "      <td>...</td>\n",
       "      <td>16424.962694</td>\n",
       "      <td>7.764802</td>\n",
       "      <td>1362.329329</td>\n",
       "      <td>94301.779364</td>\n",
       "      <td>3435.2389</td>\n",
       "      <td>1.048283</td>\n",
       "      <td>28301.040217</td>\n",
       "      <td>2.957713</td>\n",
       "      <td>0.688796</td>\n",
       "      <td>8.003298</td>\n",
       "    </tr>\n",
       "    <tr>\n",
       "      <th>min</th>\n",
       "      <td>0.840000</td>\n",
       "      <td>4.170000</td>\n",
       "      <td>2.540000</td>\n",
       "      <td>35.520000</td>\n",
       "      <td>4.520000</td>\n",
       "      <td>0.040000</td>\n",
       "      <td>0.050000</td>\n",
       "      <td>0.000000</td>\n",
       "      <td>7.980000e+00</td>\n",
       "      <td>14.420000</td>\n",
       "      <td>...</td>\n",
       "      <td>0.000000</td>\n",
       "      <td>15.460000</td>\n",
       "      <td>920.000000</td>\n",
       "      <td>21236.000000</td>\n",
       "      <td>1229.0000</td>\n",
       "      <td>58.460000</td>\n",
       "      <td>237823.000000</td>\n",
       "      <td>49.150000</td>\n",
       "      <td>0.010000</td>\n",
       "      <td>19.050000</td>\n",
       "    </tr>\n",
       "    <tr>\n",
       "      <th>25%</th>\n",
       "      <td>1.530000</td>\n",
       "      <td>17.282500</td>\n",
       "      <td>24.157500</td>\n",
       "      <td>36.137500</td>\n",
       "      <td>160.830000</td>\n",
       "      <td>77.050000</td>\n",
       "      <td>71.980000</td>\n",
       "      <td>0.020000</td>\n",
       "      <td>4.448000e+02</td>\n",
       "      <td>338.040000</td>\n",
       "      <td>...</td>\n",
       "      <td>1424.000000</td>\n",
       "      <td>25.775000</td>\n",
       "      <td>1301.000000</td>\n",
       "      <td>28285.000000</td>\n",
       "      <td>1589.0000</td>\n",
       "      <td>59.055000</td>\n",
       "      <td>258825.250000</td>\n",
       "      <td>54.977500</td>\n",
       "      <td>0.117500</td>\n",
       "      <td>21.850000</td>\n",
       "    </tr>\n",
       "    <tr>\n",
       "      <th>50%</th>\n",
       "      <td>2.085000</td>\n",
       "      <td>24.945000</td>\n",
       "      <td>31.610000</td>\n",
       "      <td>36.755000</td>\n",
       "      <td>1223.900000</td>\n",
       "      <td>362.600000</td>\n",
       "      <td>349.370000</td>\n",
       "      <td>0.060000</td>\n",
       "      <td>3.302370e+03</td>\n",
       "      <td>767.645000</td>\n",
       "      <td>...</td>\n",
       "      <td>2606.000000</td>\n",
       "      <td>31.430000</td>\n",
       "      <td>1451.000000</td>\n",
       "      <td>194194.000000</td>\n",
       "      <td>1600.0000</td>\n",
       "      <td>59.770000</td>\n",
       "      <td>286694.500000</td>\n",
       "      <td>55.690000</td>\n",
       "      <td>0.200000</td>\n",
       "      <td>25.730000</td>\n",
       "    </tr>\n",
       "    <tr>\n",
       "      <th>75%</th>\n",
       "      <td>2.465000</td>\n",
       "      <td>32.365000</td>\n",
       "      <td>41.760000</td>\n",
       "      <td>37.372500</td>\n",
       "      <td>3952.550000</td>\n",
       "      <td>1388.330000</td>\n",
       "      <td>1341.680000</td>\n",
       "      <td>0.130000</td>\n",
       "      <td>8.786380e+03</td>\n",
       "      <td>3995.427500</td>\n",
       "      <td>...</td>\n",
       "      <td>13327.500000</td>\n",
       "      <td>36.110000</td>\n",
       "      <td>1917.000000</td>\n",
       "      <td>212890.500000</td>\n",
       "      <td>2329.0000</td>\n",
       "      <td>60.755000</td>\n",
       "      <td>302463.250000</td>\n",
       "      <td>56.725000</td>\n",
       "      <td>0.505000</td>\n",
       "      <td>30.560000</td>\n",
       "    </tr>\n",
       "    <tr>\n",
       "      <th>max</th>\n",
       "      <td>4.750000</td>\n",
       "      <td>61.930000</td>\n",
       "      <td>72.370000</td>\n",
       "      <td>37.990000</td>\n",
       "      <td>282719.000000</td>\n",
       "      <td>19347.000000</td>\n",
       "      <td>18314.240000</td>\n",
       "      <td>1.790000</td>\n",
       "      <td>8.479291e+06</td>\n",
       "      <td>34021.440000</td>\n",
       "      <td>...</td>\n",
       "      <td>108537.000000</td>\n",
       "      <td>52.780000</td>\n",
       "      <td>4337.000000</td>\n",
       "      <td>242980.000000</td>\n",
       "      <td>9316.0000</td>\n",
       "      <td>60.950000</td>\n",
       "      <td>304580.000000</td>\n",
       "      <td>57.080000</td>\n",
       "      <td>2.900000</td>\n",
       "      <td>50.260000</td>\n",
       "    </tr>\n",
       "  </tbody>\n",
       "</table>\n",
       "<p>8 rows × 497 columns</p>\n",
       "</div>"
      ],
      "text/plain": [
       "           ABS_I  ADTERPOP_XT     AFA_XBE  AGEPOP_MEDIAN       BE_AF_NC  \\\n",
       "count  80.000000   296.000000  148.000000       2.000000     283.000000   \n",
       "mean    2.119250    25.004831   33.942973      36.755000    8523.961943   \n",
       "std     0.787815    10.628215   16.499657       1.746554   23831.856300   \n",
       "min     0.840000     4.170000    2.540000      35.520000       4.520000   \n",
       "25%     1.530000    17.282500   24.157500      36.137500     160.830000   \n",
       "50%     2.085000    24.945000   31.610000      36.755000    1223.900000   \n",
       "75%     2.465000    32.365000   41.760000      37.372500    3952.550000   \n",
       "max     4.750000    61.930000   72.370000      37.990000  282719.000000   \n",
       "\n",
       "          BE_AF_PPP    BE_AF_PPPK  BE_AF_XGDP      BE_AR_NC     BE_AR_PPP  \\\n",
       "count    289.000000    283.000000  259.000000  2.050000e+02    218.000000   \n",
       "mean    1424.973737   1130.361025    0.121081  3.661786e+05   3776.514587   \n",
       "std     3026.114870   2280.036939    0.246690  1.316399e+06   6301.574545   \n",
       "min        0.040000      0.050000    0.000000  7.980000e+00     14.420000   \n",
       "25%       77.050000     71.980000    0.020000  4.448000e+02    338.040000   \n",
       "50%      362.600000    349.370000    0.060000  3.302370e+03    767.645000   \n",
       "75%     1388.330000   1341.680000    0.130000  8.786380e+03   3995.427500   \n",
       "max    19347.000000  18314.240000    1.790000  8.479291e+06  34021.440000   \n",
       "\n",
       "       ...  WUGTARP_SCI_NB  WUGTARP_XT  WUGTA_ENG_NB       WUGTA_NB  \\\n",
       "count  ...      259.000000  135.000000      5.000000      11.000000   \n",
       "mean   ...     9230.308456   31.070148   1985.200000  139403.454545   \n",
       "std    ...    16424.962694    7.764802   1362.329329   94301.779364   \n",
       "min    ...        0.000000   15.460000    920.000000   21236.000000   \n",
       "25%    ...     1424.000000   25.775000   1301.000000   28285.000000   \n",
       "50%    ...     2606.000000   31.430000   1451.000000  194194.000000   \n",
       "75%    ...    13327.500000   36.110000   1917.000000  212890.500000   \n",
       "max    ...   108537.000000   52.780000   4337.000000  242980.000000   \n",
       "\n",
       "       WUGTA_SCI_NB   WUGTA_XT  WUNIVG_TERABARP_NB  WUNIVG_TERABARP_XT  \\\n",
       "count        5.0000   6.000000            6.000000            6.000000   \n",
       "mean      3212.6000  59.808333       278841.166667           54.903333   \n",
       "std       3435.2389   1.048283        28301.040217            2.957713   \n",
       "min       1229.0000  58.460000       237823.000000           49.150000   \n",
       "25%       1589.0000  59.055000       258825.250000           54.977500   \n",
       "50%       1600.0000  59.770000       286694.500000           55.690000   \n",
       "75%       2329.0000  60.755000       302463.250000           56.725000   \n",
       "max       9316.0000  60.950000       304580.000000           57.080000   \n",
       "\n",
       "           XBR_I  YDEP_X1564  \n",
       "count  80.000000  457.000000  \n",
       "mean    0.534875   28.089453  \n",
       "std     0.688796    8.003298  \n",
       "min     0.010000   19.050000  \n",
       "25%     0.117500   21.850000  \n",
       "50%     0.200000   25.730000  \n",
       "75%     0.505000   30.560000  \n",
       "max     2.900000   50.260000  \n",
       "\n",
       "[8 rows x 497 columns]"
      ]
     },
     "execution_count": 1572,
     "metadata": {},
     "output_type": "execute_result"
    }
   ],
   "source": [
    "df.describe()"
   ]
  },
  {
   "cell_type": "code",
   "execution_count": 1573,
   "metadata": {},
   "outputs": [
    {
     "data": {
      "text/plain": [
       "False"
      ]
     },
     "execution_count": 1573,
     "metadata": {},
     "output_type": "execute_result"
    }
   ],
   "source": [
    "df.duplicated().any()"
   ]
  },
  {
   "cell_type": "code",
   "execution_count": 1574,
   "metadata": {},
   "outputs": [
    {
     "data": {
      "text/plain": [
       "COUNTRY               False\n",
       "TIME                  False\n",
       "ABS_I                  True\n",
       "ADTERPOP_XT            True\n",
       "AFA_XBE                True\n",
       "                      ...  \n",
       "WUGTA_XT               True\n",
       "WUNIVG_TERABARP_NB     True\n",
       "WUNIVG_TERABARP_XT     True\n",
       "XBR_I                  True\n",
       "YDEP_X1564             True\n",
       "Length: 499, dtype: bool"
      ]
     },
     "execution_count": 1574,
     "metadata": {},
     "output_type": "execute_result"
    }
   ],
   "source": [
    "df.isna().any()"
   ]
  },
  {
   "cell_type": "code",
   "execution_count": 1575,
   "metadata": {},
   "outputs": [],
   "source": [
    "# Find the over %?-NAN-Value-Features and Drop them >>> (I get %70)\n",
    "drop_list = []\n",
    "remain_list = []\n",
    "\n",
    "for i in df.columns[2:]:\n",
    "    a = list(df[i].isna().value_counts())[0]\n",
    "    b = len(df[i])\n",
    "    c = (a / b) * 100\n",
    "    if c > 70:\n",
    "        drop_list.append(i)\n",
    "    else:\n",
    "        remain_list.append(i)"
   ]
  },
  {
   "cell_type": "code",
   "execution_count": 1576,
   "metadata": {},
   "outputs": [
    {
     "name": "stdout",
     "output_type": "stream",
     "text": [
      "173\n",
      "324\n"
     ]
    }
   ],
   "source": [
    "print(len(drop_list))\n",
    "print(len(remain_list))"
   ]
  },
  {
   "cell_type": "code",
   "execution_count": 1577,
   "metadata": {},
   "outputs": [
    {
     "data": {
      "text/plain": [
       "(510, 499)"
      ]
     },
     "execution_count": 1577,
     "metadata": {},
     "output_type": "execute_result"
    }
   ],
   "source": [
    "df.shape"
   ]
  },
  {
   "cell_type": "code",
   "execution_count": 1578,
   "metadata": {},
   "outputs": [
    {
     "data": {
      "text/plain": [
       "(510, 326)"
      ]
     },
     "execution_count": 1578,
     "metadata": {},
     "output_type": "execute_result"
    }
   ],
   "source": [
    "df.drop(drop_list, axis=1, inplace=True)\n",
    "df.shape"
   ]
  },
  {
   "cell_type": "code",
   "execution_count": 1579,
   "metadata": {},
   "outputs": [
    {
     "name": "stdout",
     "output_type": "stream",
     "text": [
      "51\n",
      "['ARG' 'AUS' 'AUT' 'BEL' 'BRA' 'CAN' 'CHE' 'CHL' 'CHN' 'COL' 'CRI' 'CZE'\n",
      " 'DEU' 'DNK' 'EGY' 'ESP' 'EST' 'EU28' 'FIN' 'FRA' 'GBR' 'GRC' 'HUN' 'IDN'\n",
      " 'IND' 'IRL' 'ISL' 'ISR' 'ITA' 'JPN' 'KOR' 'LTU' 'LUX' 'LVA' 'MEX' 'MYS'\n",
      " 'NLD' 'NOR' 'NZL' 'OECD' 'PER' 'POL' 'PRT' 'RUS' 'SVK' 'SVN' 'SWE' 'THA'\n",
      " 'TUR' 'USA' 'ZAF']\n"
     ]
    }
   ],
   "source": [
    "print(df.COUNTRY.nunique())\n",
    "print(df.COUNTRY.unique())\n",
    "# Totally 35 Countries"
   ]
  },
  {
   "cell_type": "code",
   "execution_count": 1580,
   "metadata": {},
   "outputs": [
    {
     "name": "stdout",
     "output_type": "stream",
     "text": [
      "10\n",
      "['2006' '2007' '2008' '2009' '2010' '2011' '2012' '2013' '2014' '2015']\n"
     ]
    }
   ],
   "source": [
    "print(df.TIME.nunique())\n",
    "print(df.TIME.unique())\n",
    "# Totally 10 Years"
   ]
  },
  {
   "cell_type": "code",
   "execution_count": 1581,
   "metadata": {},
   "outputs": [
    {
     "data": {
      "text/html": [
       "<div>\n",
       "<style scoped>\n",
       "    .dataframe tbody tr th:only-of-type {\n",
       "        vertical-align: middle;\n",
       "    }\n",
       "\n",
       "    .dataframe tbody tr th {\n",
       "        vertical-align: top;\n",
       "    }\n",
       "\n",
       "    .dataframe thead th {\n",
       "        text-align: right;\n",
       "    }\n",
       "</style>\n",
       "<table border=\"1\" class=\"dataframe\">\n",
       "  <thead>\n",
       "    <tr style=\"text-align: right;\">\n",
       "      <th></th>\n",
       "      <th>ISO</th>\n",
       "      <th>ThreeDigitCountryCodeOE</th>\n",
       "    </tr>\n",
       "  </thead>\n",
       "  <tbody>\n",
       "    <tr>\n",
       "      <th>0</th>\n",
       "      <td>AFG</td>\n",
       "      <td>AFG</td>\n",
       "    </tr>\n",
       "    <tr>\n",
       "      <th>1</th>\n",
       "      <td>ALB</td>\n",
       "      <td>ALB</td>\n",
       "    </tr>\n",
       "  </tbody>\n",
       "</table>\n",
       "</div>"
      ],
      "text/plain": [
       "   ISO ThreeDigitCountryCodeOE\n",
       "0  AFG                     AFG\n",
       "1  ALB                     ALB"
      ]
     },
     "execution_count": 1581,
     "metadata": {},
     "output_type": "execute_result"
    }
   ],
   "source": [
    "country = pd.read_csv(\"iso_countries.csv\")\n",
    "country.head(2)"
   ]
  },
  {
   "cell_type": "code",
   "execution_count": 1582,
   "metadata": {},
   "outputs": [],
   "source": [
    "cnt_list = list(country.ISO.unique())\n",
    "df_cnt = list(df.COUNTRY.unique())"
   ]
  },
  {
   "cell_type": "code",
   "execution_count": 1583,
   "metadata": {},
   "outputs": [
    {
     "name": "stdout",
     "output_type": "stream",
     "text": [
      "['EU28', 'OECD']\n"
     ]
    }
   ],
   "source": [
    "drp_cnt_lst = []\n",
    "rmn_cnt_lst = []\n",
    "\n",
    "for i in df_cnt:\n",
    "    if i in cnt_list:\n",
    "        rmn_cnt_lst.append(i)\n",
    "    else:\n",
    "        drp_cnt_lst.append(i)\n",
    "\n",
    "print(drp_cnt_lst)"
   ]
  },
  {
   "cell_type": "code",
   "execution_count": 1584,
   "metadata": {},
   "outputs": [
    {
     "data": {
      "text/plain": [
       "(510, 326)"
      ]
     },
     "execution_count": 1584,
     "metadata": {},
     "output_type": "execute_result"
    }
   ],
   "source": [
    "df.shape"
   ]
  },
  {
   "cell_type": "code",
   "execution_count": 1585,
   "metadata": {},
   "outputs": [
    {
     "data": {
      "text/html": [
       "<div>\n",
       "<style scoped>\n",
       "    .dataframe tbody tr th:only-of-type {\n",
       "        vertical-align: middle;\n",
       "    }\n",
       "\n",
       "    .dataframe tbody tr th {\n",
       "        vertical-align: top;\n",
       "    }\n",
       "\n",
       "    .dataframe thead th {\n",
       "        text-align: right;\n",
       "    }\n",
       "</style>\n",
       "<table border=\"1\" class=\"dataframe\">\n",
       "  <thead>\n",
       "    <tr style=\"text-align: right;\">\n",
       "      <th></th>\n",
       "      <th>COUNTRY</th>\n",
       "      <th>TIME</th>\n",
       "      <th>ADTERPOP_XT</th>\n",
       "      <th>BE_AF_NC</th>\n",
       "      <th>BE_AF_PPP</th>\n",
       "      <th>BE_AF_PPPK</th>\n",
       "      <th>BE_AF_XGDP</th>\n",
       "      <th>BE_AR_NC</th>\n",
       "      <th>BE_AR_PPP</th>\n",
       "      <th>BE_AR_XGDP</th>\n",
       "      <th>...</th>\n",
       "      <th>UNI500_HAB</th>\n",
       "      <th>WBBAND_HAB</th>\n",
       "      <th>WBBAND_NB</th>\n",
       "      <th>WPHD_ENG_NB</th>\n",
       "      <th>WPHD_NB</th>\n",
       "      <th>WPHD_SCI_NB</th>\n",
       "      <th>WRSE_XRSE</th>\n",
       "      <th>WUGTARP_ENG_NB</th>\n",
       "      <th>WUGTARP_NB</th>\n",
       "      <th>WUGTARP_SCI_NB</th>\n",
       "    </tr>\n",
       "  </thead>\n",
       "  <tbody>\n",
       "    <tr>\n",
       "      <th>508</th>\n",
       "      <td>ZAF</td>\n",
       "      <td>2014</td>\n",
       "      <td>NaN</td>\n",
       "      <td>NaN</td>\n",
       "      <td>NaN</td>\n",
       "      <td>NaN</td>\n",
       "      <td>NaN</td>\n",
       "      <td>NaN</td>\n",
       "      <td>NaN</td>\n",
       "      <td>NaN</td>\n",
       "      <td>...</td>\n",
       "      <td>75.27</td>\n",
       "      <td>NaN</td>\n",
       "      <td>NaN</td>\n",
       "      <td>NaN</td>\n",
       "      <td>NaN</td>\n",
       "      <td>NaN</td>\n",
       "      <td>NaN</td>\n",
       "      <td>NaN</td>\n",
       "      <td>NaN</td>\n",
       "      <td>NaN</td>\n",
       "    </tr>\n",
       "    <tr>\n",
       "      <th>509</th>\n",
       "      <td>ZAF</td>\n",
       "      <td>2015</td>\n",
       "      <td>NaN</td>\n",
       "      <td>NaN</td>\n",
       "      <td>NaN</td>\n",
       "      <td>NaN</td>\n",
       "      <td>NaN</td>\n",
       "      <td>NaN</td>\n",
       "      <td>NaN</td>\n",
       "      <td>NaN</td>\n",
       "      <td>...</td>\n",
       "      <td>74.78</td>\n",
       "      <td>NaN</td>\n",
       "      <td>NaN</td>\n",
       "      <td>NaN</td>\n",
       "      <td>NaN</td>\n",
       "      <td>NaN</td>\n",
       "      <td>NaN</td>\n",
       "      <td>NaN</td>\n",
       "      <td>NaN</td>\n",
       "      <td>NaN</td>\n",
       "    </tr>\n",
       "  </tbody>\n",
       "</table>\n",
       "<p>2 rows × 326 columns</p>\n",
       "</div>"
      ],
      "text/plain": [
       "    COUNTRY  TIME  ADTERPOP_XT  BE_AF_NC  BE_AF_PPP  BE_AF_PPPK  BE_AF_XGDP  \\\n",
       "508     ZAF  2014          NaN       NaN        NaN         NaN         NaN   \n",
       "509     ZAF  2015          NaN       NaN        NaN         NaN         NaN   \n",
       "\n",
       "     BE_AR_NC  BE_AR_PPP  BE_AR_XGDP  ...  UNI500_HAB  WBBAND_HAB  WBBAND_NB  \\\n",
       "508       NaN        NaN         NaN  ...       75.27         NaN        NaN   \n",
       "509       NaN        NaN         NaN  ...       74.78         NaN        NaN   \n",
       "\n",
       "     WPHD_ENG_NB  WPHD_NB  WPHD_SCI_NB  WRSE_XRSE  WUGTARP_ENG_NB  WUGTARP_NB  \\\n",
       "508          NaN      NaN          NaN        NaN             NaN         NaN   \n",
       "509          NaN      NaN          NaN        NaN             NaN         NaN   \n",
       "\n",
       "     WUGTARP_SCI_NB  \n",
       "508             NaN  \n",
       "509             NaN  \n",
       "\n",
       "[2 rows x 326 columns]"
      ]
     },
     "execution_count": 1585,
     "metadata": {},
     "output_type": "execute_result"
    }
   ],
   "source": [
    "df.tail(2)"
   ]
  },
  {
   "cell_type": "code",
   "execution_count": 1586,
   "metadata": {},
   "outputs": [
    {
     "data": {
      "text/plain": [
       "(490, 326)"
      ]
     },
     "execution_count": 1586,
     "metadata": {},
     "output_type": "execute_result"
    }
   ],
   "source": [
    "for i in drp_cnt_lst:\n",
    "    df.drop(df[df[\"COUNTRY\"]==i].index, inplace=True)\n",
    "df.shape"
   ]
  },
  {
   "cell_type": "code",
   "execution_count": 1587,
   "metadata": {},
   "outputs": [
    {
     "data": {
      "text/html": [
       "<div>\n",
       "<style scoped>\n",
       "    .dataframe tbody tr th:only-of-type {\n",
       "        vertical-align: middle;\n",
       "    }\n",
       "\n",
       "    .dataframe tbody tr th {\n",
       "        vertical-align: top;\n",
       "    }\n",
       "\n",
       "    .dataframe thead th {\n",
       "        text-align: right;\n",
       "    }\n",
       "</style>\n",
       "<table border=\"1\" class=\"dataframe\">\n",
       "  <thead>\n",
       "    <tr style=\"text-align: right;\">\n",
       "      <th></th>\n",
       "      <th>COUNTRY</th>\n",
       "      <th>TIME</th>\n",
       "      <th>ADTERPOP_XT</th>\n",
       "      <th>BE_AF_NC</th>\n",
       "      <th>BE_AF_PPP</th>\n",
       "      <th>BE_AF_PPPK</th>\n",
       "      <th>BE_AF_XGDP</th>\n",
       "      <th>BE_AR_NC</th>\n",
       "      <th>BE_AR_PPP</th>\n",
       "      <th>BE_AR_XGDP</th>\n",
       "      <th>...</th>\n",
       "      <th>UNI500_HAB</th>\n",
       "      <th>WBBAND_HAB</th>\n",
       "      <th>WBBAND_NB</th>\n",
       "      <th>WPHD_ENG_NB</th>\n",
       "      <th>WPHD_NB</th>\n",
       "      <th>WPHD_SCI_NB</th>\n",
       "      <th>WRSE_XRSE</th>\n",
       "      <th>WUGTARP_ENG_NB</th>\n",
       "      <th>WUGTARP_NB</th>\n",
       "      <th>WUGTARP_SCI_NB</th>\n",
       "    </tr>\n",
       "  </thead>\n",
       "  <tbody>\n",
       "    <tr>\n",
       "      <th>508</th>\n",
       "      <td>ZAF</td>\n",
       "      <td>2014</td>\n",
       "      <td>NaN</td>\n",
       "      <td>NaN</td>\n",
       "      <td>NaN</td>\n",
       "      <td>NaN</td>\n",
       "      <td>NaN</td>\n",
       "      <td>NaN</td>\n",
       "      <td>NaN</td>\n",
       "      <td>NaN</td>\n",
       "      <td>...</td>\n",
       "      <td>75.27</td>\n",
       "      <td>NaN</td>\n",
       "      <td>NaN</td>\n",
       "      <td>NaN</td>\n",
       "      <td>NaN</td>\n",
       "      <td>NaN</td>\n",
       "      <td>NaN</td>\n",
       "      <td>NaN</td>\n",
       "      <td>NaN</td>\n",
       "      <td>NaN</td>\n",
       "    </tr>\n",
       "    <tr>\n",
       "      <th>509</th>\n",
       "      <td>ZAF</td>\n",
       "      <td>2015</td>\n",
       "      <td>NaN</td>\n",
       "      <td>NaN</td>\n",
       "      <td>NaN</td>\n",
       "      <td>NaN</td>\n",
       "      <td>NaN</td>\n",
       "      <td>NaN</td>\n",
       "      <td>NaN</td>\n",
       "      <td>NaN</td>\n",
       "      <td>...</td>\n",
       "      <td>74.78</td>\n",
       "      <td>NaN</td>\n",
       "      <td>NaN</td>\n",
       "      <td>NaN</td>\n",
       "      <td>NaN</td>\n",
       "      <td>NaN</td>\n",
       "      <td>NaN</td>\n",
       "      <td>NaN</td>\n",
       "      <td>NaN</td>\n",
       "      <td>NaN</td>\n",
       "    </tr>\n",
       "  </tbody>\n",
       "</table>\n",
       "<p>2 rows × 326 columns</p>\n",
       "</div>"
      ],
      "text/plain": [
       "    COUNTRY  TIME  ADTERPOP_XT  BE_AF_NC  BE_AF_PPP  BE_AF_PPPK  BE_AF_XGDP  \\\n",
       "508     ZAF  2014          NaN       NaN        NaN         NaN         NaN   \n",
       "509     ZAF  2015          NaN       NaN        NaN         NaN         NaN   \n",
       "\n",
       "     BE_AR_NC  BE_AR_PPP  BE_AR_XGDP  ...  UNI500_HAB  WBBAND_HAB  WBBAND_NB  \\\n",
       "508       NaN        NaN         NaN  ...       75.27         NaN        NaN   \n",
       "509       NaN        NaN         NaN  ...       74.78         NaN        NaN   \n",
       "\n",
       "     WPHD_ENG_NB  WPHD_NB  WPHD_SCI_NB  WRSE_XRSE  WUGTARP_ENG_NB  WUGTARP_NB  \\\n",
       "508          NaN      NaN          NaN        NaN             NaN         NaN   \n",
       "509          NaN      NaN          NaN        NaN             NaN         NaN   \n",
       "\n",
       "     WUGTARP_SCI_NB  \n",
       "508             NaN  \n",
       "509             NaN  \n",
       "\n",
       "[2 rows x 326 columns]"
      ]
     },
     "execution_count": 1587,
     "metadata": {},
     "output_type": "execute_result"
    }
   ],
   "source": [
    "df.tail(2)"
   ]
  },
  {
   "cell_type": "code",
   "execution_count": 1588,
   "metadata": {},
   "outputs": [
    {
     "data": {
      "text/html": [
       "<div>\n",
       "<style scoped>\n",
       "    .dataframe tbody tr th:only-of-type {\n",
       "        vertical-align: middle;\n",
       "    }\n",
       "\n",
       "    .dataframe tbody tr th {\n",
       "        vertical-align: top;\n",
       "    }\n",
       "\n",
       "    .dataframe thead th {\n",
       "        text-align: right;\n",
       "    }\n",
       "</style>\n",
       "<table border=\"1\" class=\"dataframe\">\n",
       "  <thead>\n",
       "    <tr style=\"text-align: right;\">\n",
       "      <th></th>\n",
       "      <th>COUNTRY</th>\n",
       "      <th>TIME</th>\n",
       "      <th>ADTERPOP_XT</th>\n",
       "      <th>BE_AF_NC</th>\n",
       "      <th>BE_AF_PPP</th>\n",
       "      <th>BE_AF_PPPK</th>\n",
       "      <th>BE_AF_XGDP</th>\n",
       "      <th>BE_AR_NC</th>\n",
       "      <th>BE_AR_PPP</th>\n",
       "      <th>BE_AR_XGDP</th>\n",
       "      <th>...</th>\n",
       "      <th>UNI500_HAB</th>\n",
       "      <th>WBBAND_HAB</th>\n",
       "      <th>WBBAND_NB</th>\n",
       "      <th>WPHD_ENG_NB</th>\n",
       "      <th>WPHD_NB</th>\n",
       "      <th>WPHD_SCI_NB</th>\n",
       "      <th>WRSE_XRSE</th>\n",
       "      <th>WUGTARP_ENG_NB</th>\n",
       "      <th>WUGTARP_NB</th>\n",
       "      <th>WUGTARP_SCI_NB</th>\n",
       "    </tr>\n",
       "  </thead>\n",
       "  <tbody>\n",
       "    <tr>\n",
       "      <th>488</th>\n",
       "      <td>ZAF</td>\n",
       "      <td>2014</td>\n",
       "      <td>NaN</td>\n",
       "      <td>NaN</td>\n",
       "      <td>NaN</td>\n",
       "      <td>NaN</td>\n",
       "      <td>NaN</td>\n",
       "      <td>NaN</td>\n",
       "      <td>NaN</td>\n",
       "      <td>NaN</td>\n",
       "      <td>...</td>\n",
       "      <td>75.27</td>\n",
       "      <td>NaN</td>\n",
       "      <td>NaN</td>\n",
       "      <td>NaN</td>\n",
       "      <td>NaN</td>\n",
       "      <td>NaN</td>\n",
       "      <td>NaN</td>\n",
       "      <td>NaN</td>\n",
       "      <td>NaN</td>\n",
       "      <td>NaN</td>\n",
       "    </tr>\n",
       "    <tr>\n",
       "      <th>489</th>\n",
       "      <td>ZAF</td>\n",
       "      <td>2015</td>\n",
       "      <td>NaN</td>\n",
       "      <td>NaN</td>\n",
       "      <td>NaN</td>\n",
       "      <td>NaN</td>\n",
       "      <td>NaN</td>\n",
       "      <td>NaN</td>\n",
       "      <td>NaN</td>\n",
       "      <td>NaN</td>\n",
       "      <td>...</td>\n",
       "      <td>74.78</td>\n",
       "      <td>NaN</td>\n",
       "      <td>NaN</td>\n",
       "      <td>NaN</td>\n",
       "      <td>NaN</td>\n",
       "      <td>NaN</td>\n",
       "      <td>NaN</td>\n",
       "      <td>NaN</td>\n",
       "      <td>NaN</td>\n",
       "      <td>NaN</td>\n",
       "    </tr>\n",
       "  </tbody>\n",
       "</table>\n",
       "<p>2 rows × 326 columns</p>\n",
       "</div>"
      ],
      "text/plain": [
       "    COUNTRY  TIME  ADTERPOP_XT  BE_AF_NC  BE_AF_PPP  BE_AF_PPPK  BE_AF_XGDP  \\\n",
       "488     ZAF  2014          NaN       NaN        NaN         NaN         NaN   \n",
       "489     ZAF  2015          NaN       NaN        NaN         NaN         NaN   \n",
       "\n",
       "     BE_AR_NC  BE_AR_PPP  BE_AR_XGDP  ...  UNI500_HAB  WBBAND_HAB  WBBAND_NB  \\\n",
       "488       NaN        NaN         NaN  ...       75.27         NaN        NaN   \n",
       "489       NaN        NaN         NaN  ...       74.78         NaN        NaN   \n",
       "\n",
       "     WPHD_ENG_NB  WPHD_NB  WPHD_SCI_NB  WRSE_XRSE  WUGTARP_ENG_NB  WUGTARP_NB  \\\n",
       "488          NaN      NaN          NaN        NaN             NaN         NaN   \n",
       "489          NaN      NaN          NaN        NaN             NaN         NaN   \n",
       "\n",
       "     WUGTARP_SCI_NB  \n",
       "488             NaN  \n",
       "489             NaN  \n",
       "\n",
       "[2 rows x 326 columns]"
      ]
     },
     "execution_count": 1588,
     "metadata": {},
     "output_type": "execute_result"
    }
   ],
   "source": [
    "df = df.reset_index(drop=True)\n",
    "df.tail(2)"
   ]
  },
  {
   "cell_type": "code",
   "execution_count": 1589,
   "metadata": {},
   "outputs": [
    {
     "data": {
      "text/plain": [
       "324"
      ]
     },
     "execution_count": 1589,
     "metadata": {},
     "output_type": "execute_result"
    }
   ],
   "source": [
    "df.isna().any().sum()"
   ]
  },
  {
   "cell_type": "code",
   "execution_count": 1590,
   "metadata": {},
   "outputs": [
    {
     "data": {
      "text/plain": [
       "(490, 326)"
      ]
     },
     "execution_count": 1590,
     "metadata": {},
     "output_type": "execute_result"
    }
   ],
   "source": [
    "df = df.fillna(0)\n",
    "df.shape"
   ]
  },
  {
   "cell_type": "code",
   "execution_count": 1591,
   "metadata": {},
   "outputs": [
    {
     "data": {
      "text/plain": [
       "0"
      ]
     },
     "execution_count": 1591,
     "metadata": {},
     "output_type": "execute_result"
    }
   ],
   "source": [
    "df.isna().any().sum()"
   ]
  },
  {
   "cell_type": "markdown",
   "metadata": {},
   "source": [
    "### Skewness"
   ]
  },
  {
   "cell_type": "code",
   "execution_count": 1592,
   "metadata": {},
   "outputs": [
    {
     "data": {
      "text/html": [
       "<div>\n",
       "<style scoped>\n",
       "    .dataframe tbody tr th:only-of-type {\n",
       "        vertical-align: middle;\n",
       "    }\n",
       "\n",
       "    .dataframe tbody tr th {\n",
       "        vertical-align: top;\n",
       "    }\n",
       "\n",
       "    .dataframe thead th {\n",
       "        text-align: right;\n",
       "    }\n",
       "</style>\n",
       "<table border=\"1\" class=\"dataframe\">\n",
       "  <thead>\n",
       "    <tr style=\"text-align: right;\">\n",
       "      <th></th>\n",
       "      <th>COUNTRY</th>\n",
       "      <th>TIME</th>\n",
       "      <th>ADTERPOP_XT</th>\n",
       "      <th>BE_AF_NC</th>\n",
       "      <th>BE_AF_PPP</th>\n",
       "      <th>BE_AF_PPPK</th>\n",
       "      <th>BE_AF_XGDP</th>\n",
       "      <th>BE_AR_NC</th>\n",
       "      <th>BE_AR_PPP</th>\n",
       "      <th>BE_AR_XGDP</th>\n",
       "      <th>...</th>\n",
       "      <th>UNI500_HAB</th>\n",
       "      <th>WBBAND_HAB</th>\n",
       "      <th>WBBAND_NB</th>\n",
       "      <th>WPHD_ENG_NB</th>\n",
       "      <th>WPHD_NB</th>\n",
       "      <th>WPHD_SCI_NB</th>\n",
       "      <th>WRSE_XRSE</th>\n",
       "      <th>WUGTARP_ENG_NB</th>\n",
       "      <th>WUGTARP_NB</th>\n",
       "      <th>WUGTARP_SCI_NB</th>\n",
       "    </tr>\n",
       "  </thead>\n",
       "  <tbody>\n",
       "    <tr>\n",
       "      <th>0</th>\n",
       "      <td>ARG</td>\n",
       "      <td>2006</td>\n",
       "      <td>0.0</td>\n",
       "      <td>9.8</td>\n",
       "      <td>7.29</td>\n",
       "      <td>7.76</td>\n",
       "      <td>0.0</td>\n",
       "      <td>329.8</td>\n",
       "      <td>245.2</td>\n",
       "      <td>0.04</td>\n",
       "      <td>...</td>\n",
       "      <td>0.0</td>\n",
       "      <td>0.0</td>\n",
       "      <td>0.0</td>\n",
       "      <td>0.0</td>\n",
       "      <td>0.0</td>\n",
       "      <td>0.0</td>\n",
       "      <td>50.45</td>\n",
       "      <td>0.0</td>\n",
       "      <td>0.0</td>\n",
       "      <td>0.0</td>\n",
       "    </tr>\n",
       "  </tbody>\n",
       "</table>\n",
       "<p>1 rows × 326 columns</p>\n",
       "</div>"
      ],
      "text/plain": [
       "  COUNTRY  TIME  ADTERPOP_XT  BE_AF_NC  BE_AF_PPP  BE_AF_PPPK  BE_AF_XGDP  \\\n",
       "0     ARG  2006          0.0       9.8       7.29        7.76         0.0   \n",
       "\n",
       "   BE_AR_NC  BE_AR_PPP  BE_AR_XGDP  ...  UNI500_HAB  WBBAND_HAB  WBBAND_NB  \\\n",
       "0     329.8      245.2        0.04  ...         0.0         0.0        0.0   \n",
       "\n",
       "   WPHD_ENG_NB  WPHD_NB  WPHD_SCI_NB  WRSE_XRSE  WUGTARP_ENG_NB  WUGTARP_NB  \\\n",
       "0          0.0      0.0          0.0      50.45             0.0         0.0   \n",
       "\n",
       "   WUGTARP_SCI_NB  \n",
       "0             0.0  \n",
       "\n",
       "[1 rows x 326 columns]"
      ]
     },
     "execution_count": 1592,
     "metadata": {},
     "output_type": "execute_result"
    }
   ],
   "source": [
    "df.head(1)"
   ]
  },
  {
   "cell_type": "code",
   "execution_count": 1593,
   "metadata": {},
   "outputs": [
    {
     "name": "stdout",
     "output_type": "stream",
     "text": [
      "ADTERPOP_XT \t: 0.4420122060930814 \t>>> Normal\n",
      "BE_AF_NC \t: 8.65681371262468 \t>>> Skewed\n",
      "BE_AF_PPP \t: 6.187100335467118 \t>>> Skewed\n",
      "BE_AF_PPPK \t: 6.0658499616853625 \t>>> Skewed\n",
      "BE_AF_XGDP \t: 7.043336519035073 \t>>> Skewed\n",
      "BE_AR_NC \t: 6.807030276653341 \t>>> Skewed\n",
      "BE_AR_PPP \t: 3.999953977827496 \t>>> Skewed\n",
      "BE_AR_XGDP \t: 2.1837133863269176 \t>>> Skewed\n",
      "BE_BEF_NC \t: 6.856624117805785 \t>>> Skewed\n",
      "BE_BEF_PPP \t: 4.527218153095782 \t>>> Skewed\n",
      "BE_BEF_PPPK \t: 4.488169732634527 \t>>> Skewed\n",
      "BE_BEF_XBE \t: -0.18866521485544968 \t>>> Normal\n",
      "BE_BEF_XG \t: 0.175081132950095 \t>>> Normal\n",
      "BE_BEF_XGDP \t: 1.521110733954084 \t>>> Skewed\n",
      "BE_DGVF_NC \t: 7.65748848055015 \t>>> Skewed\n",
      "BE_DGVF_PPP \t: 6.00699100246161 \t>>> Skewed\n",
      "BE_DGVF_PPPK \t: 6.0095150292852955 \t>>> Skewed\n",
      "BE_DGVF_XBE \t: 4.138873675518815 \t>>> Skewed\n",
      "BE_DGVF_XG \t: 4.474533093029735 \t>>> Skewed\n",
      "BE_DGVF_XGDP \t: 2.657873315463451 \t>>> Skewed\n",
      "BE_ED_NC \t: 6.785474521365984 \t>>> Skewed\n",
      "BE_ED_PPP \t: 6.586411577262644 \t>>> Skewed\n",
      "BE_ED_XGDP \t: 2.596075648655402 \t>>> Skewed\n",
      "BE_GRO \t: 3.541539461242996 \t>>> Skewed\n",
      "BE_HEF_NC \t: 7.200879695909658 \t>>> Skewed\n",
      "BE_HEF_PPP \t: 4.424071877766686 \t>>> Skewed\n",
      "BE_HEF_PPPK \t: 4.712753788710347 \t>>> Skewed\n",
      "BE_LGE_XBE \t: 0.6318016499442666 \t>>> Moderate\n",
      "BE_ONF_NC \t: 5.658022547596469 \t>>> Skewed\n",
      "BE_ONF_PPP \t: 7.706825505973587 \t>>> Skewed\n",
      "BE_ONF_PPPK \t: 8.085759288329752 \t>>> Skewed\n",
      "BE_PNPF_NC \t: 6.647274136903324 \t>>> Skewed\n",
      "BE_PNPF_PPP \t: 8.5845718345904 \t>>> Skewed\n",
      "BE_PNPF_PPPK \t: 8.762755223705081 \t>>> Skewed\n",
      "BE_PNPF_XGDP \t: 6.027877730457562 \t>>> Skewed\n",
      "BE_SME_XBE \t: 1.0911814178368322 \t>>> Skewed\n",
      "BE_XBE \t: 0.5026722312530674 \t>>> Moderate\n",
      "EGOV_I \t: 0.5891662063957013 \t>>> Moderate\n",
      "EMPENTBR_NB \t: 5.504260076649217 \t>>> Skewed\n",
      "EMPENTDT_NB \t: 5.524395411390102 \t>>> Skewed\n",
      "EMPF1564_X1564F \t: -0.3086966605748098 \t>>> Normal\n",
      "EMPVF_XEMF \t: 2.1825155559399705 \t>>> Skewed\n",
      "EMPV_XEMP \t: 1.977905511345631 \t>>> Skewed\n",
      "EMP_NB \t: 3.912536806104736 \t>>> Skewed\n",
      "EMP_X1564 \t: -0.41473941903918954 \t>>> Normal\n",
      "ENVPDNNI_GRO \t: 0.017566880491357136 \t>>> Normal\n",
      "ENVPDNNI_PPP \t: 0.6362333108649584 \t>>> Moderate\n",
      "EPLDSMC_I \t: 0.1433975355802981 \t>>> Normal\n",
      "EPLDSMI_I \t: 0.17312627578860407 \t>>> Normal\n",
      "EPLTMP_I \t: 0.9105861610965782 \t>>> Moderate\n",
      "FRVAEXP_XEXP \t: 1.1158915243586807 \t>>> Skewed\n",
      "GB_AGR_NC \t: 7.249608130284166 \t>>> Skewed\n",
      "GB_AGR_PPP \t: 3.6861852617072186 \t>>> Skewed\n",
      "GB_AGR_PPPK \t: 3.6792688556442408 \t>>> Skewed\n",
      "GB_AGR_XGB \t: 2.222083704944008 \t>>> Skewed\n",
      "GB_AGR_XGDP \t: 2.6580274074528143 \t>>> Skewed\n",
      "GB_CIV_NC \t: 6.844242484296272 \t>>> Skewed\n",
      "GB_CIV_PPP \t: 4.747721449866456 \t>>> Skewed\n",
      "GB_CIV_PPPK \t: 3.9736015873898687 \t>>> Skewed\n",
      "GB_CIV_XGDP \t: 0.3443030354875025 \t>>> Normal\n",
      "GB_DEF_NC \t: 7.7478206540055155 \t>>> Skewed\n",
      "GB_DEF_PPP \t: 6.808481688321223 \t>>> Skewed\n",
      "GB_DEF_PPPK \t: 12.624554679565996 \t>>> Skewed\n",
      "GB_DEF_XGB \t: 4.373550024330108 \t>>> Skewed\n",
      "GB_DEF_XGDP \t: 5.523259115619302 \t>>> Skewed\n",
      "GB_EAR_NC \t: 6.949526837452777 \t>>> Skewed\n",
      "GB_EAR_PPP \t: 3.846358873842849 \t>>> Skewed\n",
      "GB_EAR_PPPK \t: 3.886268398980758 \t>>> Skewed\n",
      "GB_EAR_XGB \t: 1.9817890879906443 \t>>> Skewed\n",
      "GB_EAR_XGDP \t: 1.2023435737482728 \t>>> Skewed\n",
      "GB_ENE_NC \t: 6.487176799462374 \t>>> Skewed\n",
      "GB_ENE_PPP \t: 4.03288128217507 \t>>> Skewed\n",
      "GB_ENE_PPPK \t: 4.197116982970713 \t>>> Skewed\n",
      "GB_ENE_XGB \t: 2.019390464945058 \t>>> Skewed\n",
      "GB_ENE_XGDP \t: 2.3809941757528756 \t>>> Skewed\n",
      "GB_ENV_NC \t: 7.237131072870146 \t>>> Skewed\n",
      "GB_ENV_PPP \t: 2.354165956366949 \t>>> Skewed\n",
      "GB_ENV_PPPK \t: 2.3683438150318357 \t>>> Skewed\n",
      "GB_ENV_XGB \t: 3.033962993634431 \t>>> Skewed\n",
      "GB_ENV_XGDP \t: 2.140058897214101 \t>>> Skewed\n",
      "GB_GEN_XGBCIV \t: 0.02318410473333636 \t>>> Normal\n",
      "GB_HEA_NC \t: 7.377184866296839 \t>>> Skewed\n",
      "GB_HEA_PPP \t: 6.787943718484707 \t>>> Skewed\n",
      "GB_HEA_PPPK \t: 7.929886821953557 \t>>> Skewed\n",
      "GB_HEA_XGB \t: 1.1022056721380795 \t>>> Skewed\n",
      "GB_HEA_XGDP \t: 1.9072546291099486 \t>>> Skewed\n",
      "GB_IND_NC \t: 7.486872561628497 \t>>> Skewed\n",
      "GB_IND_PPP \t: 3.654325163960909 \t>>> Skewed\n",
      "GB_IND_PPPK \t: 3.643557847042403 \t>>> Skewed\n",
      "GB_IND_XGB \t: 1.3137223146955213 \t>>> Skewed\n",
      "GB_IND_XGDP \t: 2.1750634164474065 \t>>> Skewed\n",
      "GB_NC \t: 6.989504350407423 \t>>> Skewed\n",
      "GB_NOR_NC \t: 6.79770916429565 \t>>> Skewed\n",
      "GB_NOR_PPP \t: 3.966519330301488 \t>>> Skewed\n",
      "GB_NOR_PPPK \t: 3.690693634879256 \t>>> Skewed\n",
      "GB_NOR_XGB \t: 0.005688789728540056 \t>>> Normal\n",
      "GB_NOR_XGDP \t: 0.7437700004069542 \t>>> Moderate\n",
      "GB_PPP \t: 5.72580783823284 \t>>> Skewed\n",
      "GB_PPPK \t: 5.752481377245007 \t>>> Skewed\n",
      "GB_SPA_NC \t: 5.206070772341358 \t>>> Skewed\n",
      "GB_SPA_PPP \t: 5.951913919923271 \t>>> Skewed\n",
      "GB_SPA_PPPK \t: 6.729293086106291 \t>>> Skewed\n",
      "GB_SPA_XGB \t: 2.2797400793551996 \t>>> Skewed\n",
      "GB_SPA_XGDP \t: 2.3225321313493166 \t>>> Skewed\n",
      "GB_TEL_NC \t: 5.331775743648254 \t>>> Skewed\n",
      "GB_TEL_PPP \t: 3.267499571128401 \t>>> Skewed\n",
      "GB_TEL_PPPK \t: 3.495989563506784 \t>>> Skewed\n",
      "GB_TEL_XGB \t: 1.8567877951199434 \t>>> Skewed\n",
      "GB_TEL_XGDP \t: 2.1875014890380755 \t>>> Skewed\n",
      "GB_TOT_NC \t: 6.761961978438467 \t>>> Skewed\n",
      "GB_TOT_PPP \t: 7.467507167644885 \t>>> Skewed\n",
      "GB_TOT_PPPK \t: 7.055893398712617 \t>>> Skewed\n",
      "GB_TOT_XGB \t: 0.09917510071144975 \t>>> Normal\n",
      "GB_TOT_XGDP \t: 0.5233543874796114 \t>>> Moderate\n",
      "GB_XGDP \t: 0.09448344695847448 \t>>> Normal\n",
      "GB_XGGE \t: 0.36111130344428605 \t>>> Normal\n",
      "GFCF_PPP \t: 8.019482296960426 \t>>> Skewed\n",
      "GFCF_PPPK \t: 6.572511641515579 \t>>> Skewed\n",
      "GINIDSP_GINI \t: 0.47971656720759 \t>>> Normal\n",
      "GV_AF_NC \t: 15.952053651473815 \t>>> Skewed\n",
      "GV_AF_PPP \t: 2.7170307295763085 \t>>> Skewed\n",
      "GV_AF_PPPK \t: 2.739989874843069 \t>>> Skewed\n",
      "GV_AF_XGDP \t: 2.5768599571784696 \t>>> Skewed\n",
      "GV_AR_NC \t: 6.468622999871799 \t>>> Skewed\n",
      "GV_AR_PPP \t: 5.610999813334475 \t>>> Skewed\n",
      "GV_AR_PPPK \t: 5.0902175843808966 \t>>> Skewed\n",
      "GV_AR_XGDP \t: 2.1613176470054647 \t>>> Skewed\n",
      "GV_BEF_NC \t: 7.108348288910397 \t>>> Skewed\n",
      "GV_BEF_PPP \t: 4.034721356487019 \t>>> Skewed\n",
      "GV_BEF_PPPK \t: 3.8656962830254815 \t>>> Skewed\n",
      "GV_BEF_XGDP \t: 1.628295285804274 \t>>> Skewed\n",
      "GV_BR_NC \t: 8.057745926857999 \t>>> Skewed\n",
      "GV_BR_PPP \t: 3.9823013894529256 \t>>> Skewed\n",
      "GV_BR_PPPK \t: 4.620096875684663 \t>>> Skewed\n",
      "GV_BR_XBR \t: 1.6277298952037962 \t>>> Skewed\n",
      "GV_BR_XGDP \t: 1.938497374519762 \t>>> Skewed\n",
      "GV_ED_NC \t: 7.112793988639292 \t>>> Skewed\n",
      "GV_ED_PPP \t: 7.389635621784901 \t>>> Skewed\n",
      "GV_ED_PPPK \t: 6.240071298491986 \t>>> Skewed\n",
      "GV_ED_XGDP \t: 2.41241368179145 \t>>> Skewed\n",
      "GV_GVF_NC \t: 7.069657437410462 \t>>> Skewed\n",
      "GV_GVF_PPP \t: 4.779208728059908 \t>>> Skewed\n",
      "GV_GVF_PPPK \t: 4.73547585908622 \t>>> Skewed\n",
      "GV_GVF_XGDP \t: 0.9502079964244315 \t>>> Moderate\n",
      "GV_HEF_NC \t: 8.006474331379486 \t>>> Skewed\n",
      "GV_HEF_PPP \t: 3.232055099271497 \t>>> Skewed\n",
      "GV_HEF_PPPK \t: 3.1380401248051886 \t>>> Skewed\n",
      "GV_HEF_XGDP \t: 8.937870477005886 \t>>> Skewed\n",
      "GV_PNPF_NC \t: 9.763635218118218 \t>>> Skewed\n",
      "GV_PNPF_PPP \t: 3.7116870056547087 \t>>> Skewed\n",
      "GV_PNPF_PPPK \t: 3.7105091874283427 \t>>> Skewed\n",
      "GV_PNPF_XGDP \t: 4.082396320529216 \t>>> Skewed\n",
      "GV_PUBF_PPP \t: 6.3821945662609005 \t>>> Skewed\n",
      "GV_PUBF_PPPK \t: 7.260332534215792 \t>>> Skewed\n",
      "GV_PUBF_XGDP \t: 0.9564302457187853 \t>>> Moderate\n",
      "G_AF_NC \t: 8.898066335117992 \t>>> Skewed\n",
      "G_AF_PPP \t: 5.369778304726227 \t>>> Skewed\n",
      "G_AF_PPPK \t: 5.245597338679062 \t>>> Skewed\n",
      "G_AF_XG \t: 2.212593371736192 \t>>> Skewed\n",
      "G_AF_XGDP \t: 6.142208280524671 \t>>> Skewed\n",
      "G_AR_NC \t: 6.639077461891854 \t>>> Skewed\n",
      "G_AR_PPP \t: 3.3078790233880837 \t>>> Skewed\n",
      "G_AR_XGDP \t: 1.6881214364697 \t>>> Skewed\n",
      "G_BEF_NC \t: 6.862770298953603 \t>>> Skewed\n",
      "G_BEF_PPP \t: 4.534843907899509 \t>>> Skewed\n",
      "G_BEF_PPPK \t: 4.486518422341306 \t>>> Skewed\n",
      "G_BEF_XG \t: -0.09671891739398203 \t>>> Normal\n",
      "G_BEF_XGDP \t: 1.3295654962121946 \t>>> Skewed\n",
      "G_BR_NC \t: 7.510294493983736 \t>>> Skewed\n",
      "G_BR_PPP \t: 3.153564656795287 \t>>> Skewed\n",
      "G_BR_XGDP \t: 1.4077646535669033 \t>>> Skewed\n",
      "G_ED_NC \t: 6.856568807162128 \t>>> Skewed\n",
      "G_ED_PPP \t: 6.683915530380296 \t>>> Skewed\n",
      "G_ED_XGDP \t: 2.6431847228826415 \t>>> Skewed\n",
      "G_GVF_NC \t: 7.156622629318697 \t>>> Skewed\n",
      "G_GVF_PPP \t: 5.293324762799356 \t>>> Skewed\n",
      "G_GVF_PPPK \t: 5.292651488068245 \t>>> Skewed\n",
      "G_GVF_XG \t: 0.11676728110277063 \t>>> Normal\n",
      "G_GVF_XGDP \t: 0.30898016999587347 \t>>> Normal\n",
      "G_HEF_NC \t: 5.881251122866143 \t>>> Skewed\n",
      "G_HEF_PPP \t: 4.944876971629921 \t>>> Skewed\n",
      "G_HEF_PPPK \t: 4.827099913779945 \t>>> Skewed\n",
      "G_HEF_XG \t: 3.4303462258182615 \t>>> Skewed\n",
      "G_HEF_XGDP \t: 3.281777045335111 \t>>> Skewed\n",
      "G_ONF_NC \t: 5.695368123495388 \t>>> Skewed\n",
      "G_ONF_PPP \t: 6.417342425925739 \t>>> Skewed\n",
      "G_ONF_PPPK \t: 6.353110344223156 \t>>> Skewed\n",
      "G_ONF_XG \t: 3.2131260678101308 \t>>> Skewed\n",
      "G_ONF_XGDP \t: 2.4093848182442255 \t>>> Skewed\n",
      "G_PNPF_NC \t: 5.358651986826946 \t>>> Skewed\n",
      "G_PNPF_PPP \t: 7.4804685285931125 \t>>> Skewed\n",
      "G_PNPF_PPPK \t: 7.408847927577032 \t>>> Skewed\n",
      "G_PNPF_XG \t: 1.8930112004282926 \t>>> Skewed\n",
      "G_PNPF_XGDP \t: 2.3720947322240082 \t>>> Skewed\n",
      "G_PUBF_NC \t: 6.825811727985259 \t>>> Skewed\n",
      "G_PUBF_PPP \t: 6.352131092386738 \t>>> Skewed\n",
      "G_PUBF_PPPK \t: 6.3220513160726615 \t>>> Skewed\n",
      "G_PUBF_XG \t: 0.22303178256852155 \t>>> Normal\n",
      "G_PUBF_XGDP \t: 0.4852080491457135 \t>>> Normal\n",
      "HE_AF_NC \t: 7.7568470679453405 \t>>> Skewed\n",
      "HE_AF_PPP \t: 4.129283866374548 \t>>> Skewed\n",
      "HE_AF_XGDP \t: 2.9967208211397325 \t>>> Skewed\n",
      "HE_AR_NC \t: 6.640008069312006 \t>>> Skewed\n",
      "HE_AR_PPP \t: 4.665776002945793 \t>>> Skewed\n",
      "HE_AR_PPPK \t: 4.868613596434081 \t>>> Skewed\n",
      "HE_AR_XGDP \t: 1.7220059371467145 \t>>> Skewed\n",
      "HE_BEF_NC \t: 7.338041006343727 \t>>> Skewed\n",
      "HE_BEF_PPP \t: 5.593360507088658 \t>>> Skewed\n",
      "HE_BEF_PPPK \t: 5.386588509001419 \t>>> Skewed\n",
      "HE_BEF_XG \t: 3.115318123173296 \t>>> Skewed\n",
      "HE_BEF_XGDP \t: 1.2436304049938771 \t>>> Skewed\n",
      "HE_BEF_XHE \t: 2.3750540836577376 \t>>> Skewed\n",
      "HE_BR_NC \t: 6.244344223737185 \t>>> Skewed\n",
      "HE_BR_PPP \t: 3.301237256622584 \t>>> Skewed\n",
      "HE_BR_PPPK \t: 9.107302687785646 \t>>> Skewed\n",
      "HE_BR_XBR \t: 0.589867439922579 \t>>> Moderate\n",
      "HE_BR_XGDP \t: 1.7595416380180864 \t>>> Skewed\n",
      "HE_ED_NC \t: 7.410046927848575 \t>>> Skewed\n",
      "HE_ED_PPP \t: 3.475254095647493 \t>>> Skewed\n",
      "HE_ED_PPPK \t: 4.5840020742169125 \t>>> Skewed\n",
      "HE_ED_XGDP \t: 2.256117424656575 \t>>> Skewed\n",
      "HE_GVF_NC \t: 6.853240089412717 \t>>> Skewed\n",
      "HE_GVF_PPP \t: 4.844962904696193 \t>>> Skewed\n",
      "HE_GVF_PPPK \t: 4.828369700491222 \t>>> Skewed\n",
      "HE_GVF_XG \t: 0.4377737288427631 \t>>> Normal\n",
      "HE_GVF_XGDP \t: 1.0185946200025784 \t>>> Skewed\n",
      "HE_HEF_NC \t: 6.242389792925564 \t>>> Skewed\n",
      "HE_HEF_PPP \t: 5.196892296238198 \t>>> Skewed\n",
      "HE_HEF_PPPK \t: 5.150063250478216 \t>>> Skewed\n",
      "HE_HEF_XG \t: 3.9143363733269823 \t>>> Skewed\n",
      "HE_HEF_XGDP \t: 3.2252950538193765 \t>>> Skewed\n",
      "HE_PNPF_NC \t: 7.406397612020408 \t>>> Skewed\n",
      "HE_PNPF_PPP \t: 6.290334895024906 \t>>> Skewed\n",
      "HE_PNPF_XGDP \t: 2.938848987968536 \t>>> Skewed\n",
      "HITECH_XBE \t: 1.778562834000989 \t>>> Skewed\n",
      "HKMS_XBE \t: 1.7932009580106916 \t>>> Skewed\n",
      "ICTINV_SF_XGFCF \t: 0.8311445173582228 \t>>> Moderate\n",
      "ICTINV_XGFCF \t: 0.547081482076684 \t>>> Moderate\n",
      "INCGAP11 \t: 1.6669984051736852 \t>>> Skewed\n",
      "INCGAP12 \t: 1.2269124249731913 \t>>> Skewed\n",
      "INTANG_XGDP \t: 1.529244865286696 \t>>> Skewed\n",
      "LKMS_XBE \t: 1.706205764870955 \t>>> Skewed\n",
      "MLTECH_XBE \t: 1.2286282879732662 \t>>> Skewed\n",
      "NRSRC_XBE \t: 0.7973789492026159 \t>>> Moderate\n",
      "PHD_ENG_NB \t: 5.474910697618469 \t>>> Skewed\n",
      "PHD_NB \t: 5.815617193537641 \t>>> Skewed\n",
      "PHD_SCI_NB \t: 5.573844749054771 \t>>> Skewed\n",
      "PNP_AF_NC \t: 7.917869136312066 \t>>> Skewed\n",
      "PNP_AF_PPP \t: 4.231287144772536 \t>>> Skewed\n",
      "PNP_AF_PPPK \t: 4.097034126804572 \t>>> Skewed\n",
      "PNP_AF_XG \t: 9.005049737369621 \t>>> Skewed\n",
      "PNP_AF_XGDP \t: 5.8580583100955685 \t>>> Skewed\n",
      "PNP_BEF_NC \t: 6.587473943327124 \t>>> Skewed\n",
      "PNP_BEF_PPP \t: 5.778635547008275 \t>>> Skewed\n",
      "PNP_BEF_PPPK \t: 5.755860130718159 \t>>> Skewed\n",
      "PNP_BEF_XG \t: 3.7897661126058524 \t>>> Skewed\n",
      "PNP_BEF_XGDP \t: 4.0764878136272 \t>>> Skewed\n",
      "PNP_GVF_NC \t: 7.6447660854156165 \t>>> Skewed\n",
      "PNP_GVF_PPP \t: 7.367624431618757 \t>>> Skewed\n",
      "PNP_GVF_PPPK \t: 7.373735851127434 \t>>> Skewed\n",
      "PNP_GVF_XG \t: 4.878959654466697 \t>>> Skewed\n",
      "PNP_GVF_XGDP \t: 3.5554333435685903 \t>>> Skewed\n",
      "PNP_HEF_NC \t: 9.255546671318278 \t>>> Skewed\n",
      "PNP_HEF_PPP \t: 11.019062003032294 \t>>> Skewed\n",
      "PNP_HEF_PPPK \t: 10.633711761979713 \t>>> Skewed\n",
      "PNP_HEF_XG \t: 9.923732482903914 \t>>> Skewed\n",
      "PNP_NC \t: 5.7727895978183765 \t>>> Skewed\n",
      "PNP_PNPF_NC \t: 5.136690156373914 \t>>> Skewed\n",
      "PNP_PNPF_PPP \t: 7.7041993484730265 \t>>> Skewed\n",
      "PNP_PNPF_PPPK \t: 7.617447061268884 \t>>> Skewed\n",
      "PNP_PNPF_XG \t: 3.488256819358537 \t>>> Skewed\n",
      "PNP_PNPF_XGDP \t: 4.424604650612766 \t>>> Skewed\n",
      "PNP_PPP \t: 7.423321371324434 \t>>> Skewed\n",
      "PNP_PPPK \t: 7.377087362992339 \t>>> Skewed\n",
      "PNP_XG \t: 4.8639664055837 \t>>> Skewed\n",
      "PNP_XGDP \t: 2.59531063100229 \t>>> Skewed\n",
      "PTRIAD_GDP \t: 2.4133173219779627 \t>>> Skewed\n",
      "PTRIAD_NB \t: 4.679528108018986 \t>>> Skewed\n",
      "PTRIAD_XW \t: 4.669603230082289 \t>>> Skewed\n",
      "PUB_AF_PPP \t: 2.9234913023243423 \t>>> Skewed\n",
      "PUB_AR_XGDP \t: 1.3368028522510724 \t>>> Skewed\n",
      "PUB_BEF_PPP \t: 5.356162149155187 \t>>> Skewed\n",
      "PUB_BEF_XGDP \t: 1.0365732552789435 \t>>> Skewed\n",
      "PUB_BEF_XPUB \t: 0.8597897521688791 \t>>> Moderate\n",
      "PUB_BR_NC \t: 7.116510747560698 \t>>> Skewed\n",
      "PUB_BR_PPP \t: 6.471339299250063 \t>>> Skewed\n",
      "PUB_BR_XBR \t: 0.4444882616489196 \t>>> Normal\n",
      "PUB_BR_XGDP \t: 1.278642965634166 \t>>> Skewed\n",
      "PUB_BR_XPUB \t: 0.7154237116788484 \t>>> Moderate\n",
      "PUB_ED_PPP \t: 5.788509860815225 \t>>> Skewed\n",
      "PUB_ED_XGDP \t: 1.8889257409381695 \t>>> Skewed\n",
      "PUB_GVF_PPP \t: 7.6317373403166995 \t>>> Skewed\n",
      "PUB_GVF_XGDP \t: 0.5962066102771648 \t>>> Moderate\n",
      "PUB_HEF_PPP \t: 5.997492471099365 \t>>> Skewed\n",
      "PUB_HEF_XGDP \t: 3.276240724607123 \t>>> Skewed\n",
      "PUB_ONF_PPP \t: 7.306344496195098 \t>>> Skewed\n",
      "PUB_PUBF_PPP \t: 5.179780096269812 \t>>> Skewed\n",
      "PUB_PUBF_XGDP \t: 0.5250586332406497 \t>>> Moderate\n",
      "PVRTTX_X \t: 0.8005332569859187 \t>>> Moderate\n",
      "RDDB_NC \t: 6.0627831141928406 \t>>> Skewed\n",
      "RDDB_PPP \t: 6.247228110786297 \t>>> Skewed\n",
      "RDPERS_EMP \t: 0.4059922110652259 \t>>> Normal\n",
      "RDPERS_FTE \t: 5.714786041718905 \t>>> Skewed\n",
      "RSE_HC \t: 5.246962250729403 \t>>> Skewed\n",
      "RSRC_XBE \t: 2.7444236349031206 \t>>> Skewed\n",
      "SER_XBE \t: 1.1377008171768388 \t>>> Skewed\n",
      "TRDMRK_GDP \t: 3.3486580351419297 \t>>> Skewed\n",
      "UGTARP_ENG_NB \t: 3.4973751560706625 \t>>> Skewed\n",
      "UGTARP_NB \t: 5.550955413925243 \t>>> Skewed\n",
      "UGTARP_SCI_NB \t: 4.739105931771313 \t>>> Skewed\n",
      "UNI100_NB \t: 6.182959195982987 \t>>> Skewed\n",
      "UNI200_NB \t: 5.793665499802523 \t>>> Skewed\n",
      "UNI500_HAB \t: 0.8684759539203443 \t>>> Moderate\n",
      "WBBAND_HAB \t: 0.9987284651895026 \t>>> Moderate\n",
      "WBBAND_NB \t: 6.263850384661892 \t>>> Skewed\n",
      "WPHD_ENG_NB \t: 5.628524085754858 \t>>> Skewed\n",
      "WPHD_NB \t: 6.5734483321368105 \t>>> Skewed\n",
      "WPHD_SCI_NB \t: 5.844215390590605 \t>>> Skewed\n",
      "WRSE_XRSE \t: 0.2022705715819275 \t>>> Normal\n",
      "WUGTARP_ENG_NB \t: 3.2712111306126195 \t>>> Skewed\n",
      "WUGTARP_NB \t: 5.418878945606487 \t>>> Skewed\n",
      "WUGTARP_SCI_NB \t: 5.279951870232538 \t>>> Skewed\n",
      "----------------------------------------------------------------------------------------------------\n",
      "Normal \t\t:24\n",
      "Moderate \t:20\n",
      "Skewed \t\t:278\n"
     ]
    }
   ],
   "source": [
    "from scipy.stats import skew\n",
    "\n",
    "Normal = []\n",
    "Moderate = []\n",
    "Skewed = []\n",
    "\n",
    "x = df.drop(columns=[\"COUNTRY\", \"TIME\"]).columns\n",
    "for i in x:\n",
    "    y = skew(df[i], nan_policy=\"omit\")\n",
    "    if y >= -0.5 and y < 0.5:\n",
    "        Normal.append(i)\n",
    "        print(f\"{i} \\t: {y} \\t>>> Normal\")\n",
    "    elif y >= 0.5 and y < 1.0:\n",
    "        Moderate.append(i)\n",
    "        print(f\"{i} \\t: {y} \\t>>> Moderate\")\n",
    "    elif y >= 1.0:\n",
    "        Skewed.append(i)\n",
    "        print(f\"{i} \\t: {y} \\t>>> Skewed\")\n",
    "\n",
    "print(\"-\"*100)\n",
    "print(f\"Normal \\t\\t:{len(Normal)}\")\n",
    "print(f\"Moderate \\t:{len(Moderate)}\")\n",
    "print(f\"Skewed \\t\\t:{len(Skewed)}\")     "
   ]
  },
  {
   "cell_type": "code",
   "execution_count": 1594,
   "metadata": {},
   "outputs": [
    {
     "name": "stdout",
     "output_type": "stream",
     "text": [
      "ADTERPOP_XT \t: Right Skewed\n",
      "BE_AF_NC \t: Right Skewed\n",
      "BE_AF_PPP \t: Right Skewed\n",
      "BE_AF_PPPK \t: Right Skewed\n",
      "BE_AF_XGDP \t: Right Skewed\n",
      "BE_AR_NC \t: Right Skewed\n",
      "BE_AR_PPP \t: Right Skewed\n",
      "BE_AR_XGDP \t: Right Skewed\n",
      "BE_BEF_NC \t: Right Skewed\n",
      "BE_BEF_PPP \t: Right Skewed\n",
      "BE_BEF_PPPK \t: Right Skewed\n",
      "BE_BEF_XBE \t: Left Skewed\n",
      "BE_BEF_XG \t: Left Skewed\n",
      "BE_BEF_XGDP \t: Right Skewed\n",
      "BE_DGVF_NC \t: Right Skewed\n",
      "BE_DGVF_PPP \t: Right Skewed\n",
      "BE_DGVF_PPPK \t: Right Skewed\n",
      "BE_DGVF_XBE \t: Right Skewed\n",
      "BE_DGVF_XG \t: Right Skewed\n",
      "BE_DGVF_XGDP \t: Right Skewed\n",
      "BE_ED_NC \t: Right Skewed\n",
      "BE_ED_PPP \t: Right Skewed\n",
      "BE_ED_XGDP \t: Right Skewed\n",
      "BE_GRO \t: Right Skewed\n",
      "BE_HEF_NC \t: Right Skewed\n",
      "BE_HEF_PPP \t: Right Skewed\n",
      "BE_HEF_PPPK \t: Right Skewed\n",
      "BE_LGE_XBE \t: Right Skewed\n",
      "BE_ONF_NC \t: Right Skewed\n",
      "BE_ONF_PPP \t: Right Skewed\n",
      "BE_ONF_PPPK \t: Right Skewed\n",
      "BE_PNPF_NC \t: Right Skewed\n",
      "BE_PNPF_PPP \t: Right Skewed\n",
      "BE_PNPF_PPPK \t: Right Skewed\n",
      "BE_PNPF_XGDP \t: Right Skewed\n",
      "BE_SME_XBE \t: Right Skewed\n",
      "BE_XBE \t: Right Skewed\n",
      "EGOV_I \t: Right Skewed\n",
      "EMPENTBR_NB \t: Right Skewed\n",
      "EMPENTDT_NB \t: Right Skewed\n",
      "EMPF1564_X1564F \t: Left Skewed\n",
      "EMPVF_XEMF \t: Right Skewed\n",
      "EMPV_XEMP \t: Right Skewed\n",
      "EMP_NB \t: Right Skewed\n",
      "EMP_X1564 \t: Left Skewed\n",
      "ENVPDNNI_GRO \t: Right Skewed\n",
      "ENVPDNNI_PPP \t: Left Skewed\n",
      "EPLDSMC_I \t: Left Skewed\n",
      "EPLDSMI_I \t: Right Skewed\n",
      "EPLTMP_I \t: Right Skewed\n",
      "FRVAEXP_XEXP \t: Right Skewed\n",
      "GB_AGR_NC \t: Right Skewed\n",
      "GB_AGR_PPP \t: Right Skewed\n",
      "GB_AGR_PPPK \t: Right Skewed\n",
      "GB_AGR_XGB \t: Right Skewed\n",
      "GB_AGR_XGDP \t: Right Skewed\n",
      "GB_CIV_NC \t: Right Skewed\n",
      "GB_CIV_PPP \t: Right Skewed\n",
      "GB_CIV_PPPK \t: Right Skewed\n",
      "GB_CIV_XGB \t: Left Skewed\n",
      "GB_CIV_XGDP \t: Right Skewed\n",
      "GB_DEF_NC \t: Right Skewed\n",
      "GB_DEF_PPP \t: Right Skewed\n",
      "GB_DEF_PPPK \t: Right Skewed\n",
      "GB_DEF_XGB \t: Right Skewed\n",
      "GB_DEF_XGDP \t: Right Skewed\n",
      "GB_EAR_NC \t: Right Skewed\n",
      "GB_EAR_PPP \t: Right Skewed\n",
      "GB_EAR_PPPK \t: Right Skewed\n",
      "GB_EAR_XGB \t: Right Skewed\n",
      "GB_EAR_XGDP \t: Right Skewed\n",
      "GB_ENE_NC \t: Right Skewed\n",
      "GB_ENE_PPP \t: Right Skewed\n",
      "GB_ENE_PPPK \t: Right Skewed\n",
      "GB_ENE_XGB \t: Right Skewed\n",
      "GB_ENE_XGDP \t: Right Skewed\n",
      "GB_ENV_NC \t: Right Skewed\n",
      "GB_ENV_PPP \t: Right Skewed\n",
      "GB_ENV_PPPK \t: Right Skewed\n",
      "GB_ENV_XGB \t: Right Skewed\n",
      "GB_ENV_XGDP \t: Right Skewed\n",
      "GB_GEN_XGBCIV \t: Left Skewed\n",
      "GB_HEA_NC \t: Right Skewed\n",
      "GB_HEA_PPP \t: Right Skewed\n",
      "GB_HEA_PPPK \t: Right Skewed\n",
      "GB_HEA_XGB \t: Right Skewed\n",
      "GB_HEA_XGDP \t: Right Skewed\n",
      "GB_IND_NC \t: Right Skewed\n",
      "GB_IND_PPP \t: Right Skewed\n",
      "GB_IND_PPPK \t: Right Skewed\n",
      "GB_IND_XGB \t: Right Skewed\n",
      "GB_IND_XGDP \t: Right Skewed\n",
      "GB_NC \t: Right Skewed\n",
      "GB_NOR_NC \t: Right Skewed\n",
      "GB_NOR_PPP \t: Right Skewed\n",
      "GB_NOR_PPPK \t: Right Skewed\n",
      "GB_NOR_XGB \t: Left Skewed\n",
      "GB_NOR_XGDP \t: Right Skewed\n",
      "GB_PPP \t: Right Skewed\n",
      "GB_PPPK \t: Right Skewed\n",
      "GB_SPA_NC \t: Right Skewed\n",
      "GB_SPA_PPP \t: Right Skewed\n",
      "GB_SPA_PPPK \t: Right Skewed\n",
      "GB_SPA_XGB \t: Right Skewed\n",
      "GB_SPA_XGDP \t: Right Skewed\n",
      "GB_TEL_NC \t: Right Skewed\n",
      "GB_TEL_PPP \t: Right Skewed\n",
      "GB_TEL_PPPK \t: Right Skewed\n",
      "GB_TEL_XGB \t: Right Skewed\n",
      "GB_TEL_XGDP \t: Right Skewed\n",
      "GB_TOT_NC \t: Right Skewed\n",
      "GB_TOT_PPP \t: Right Skewed\n",
      "GB_TOT_PPPK \t: Right Skewed\n",
      "GB_TOT_XGB \t: Left Skewed\n",
      "GB_TOT_XGDP \t: Right Skewed\n",
      "GB_XGDP \t: Left Skewed\n",
      "GB_XGGE \t: Left Skewed\n",
      "GFCF_PPP \t: Right Skewed\n",
      "GFCF_PPPK \t: Right Skewed\n",
      "GINIDSP_GINI \t: Right Skewed\n",
      "GV_AF_NC \t: Right Skewed\n",
      "GV_AF_PPP \t: Right Skewed\n",
      "GV_AF_PPPK \t: Right Skewed\n",
      "GV_AF_XGDP \t: Right Skewed\n",
      "GV_AR_NC \t: Right Skewed\n",
      "GV_AR_PPP \t: Right Skewed\n",
      "GV_AR_PPPK \t: Right Skewed\n",
      "GV_AR_XGDP \t: Right Skewed\n",
      "GV_BEF_NC \t: Right Skewed\n",
      "GV_BEF_PPP \t: Right Skewed\n",
      "GV_BEF_PPPK \t: Right Skewed\n",
      "GV_BEF_XGDP \t: Right Skewed\n",
      "GV_BR_NC \t: Right Skewed\n",
      "GV_BR_PPP \t: Right Skewed\n",
      "GV_BR_PPPK \t: Right Skewed\n",
      "GV_BR_XBR \t: Right Skewed\n",
      "GV_BR_XGDP \t: Right Skewed\n",
      "GV_ED_NC \t: Right Skewed\n",
      "GV_ED_PPP \t: Right Skewed\n",
      "GV_ED_PPPK \t: Right Skewed\n",
      "GV_ED_XGDP \t: Right Skewed\n",
      "GV_GVF_NC \t: Right Skewed\n",
      "GV_GVF_PPP \t: Right Skewed\n",
      "GV_GVF_PPPK \t: Right Skewed\n",
      "GV_GVF_XGDP \t: Right Skewed\n",
      "GV_HEF_NC \t: Right Skewed\n",
      "GV_HEF_PPP \t: Right Skewed\n",
      "GV_HEF_PPPK \t: Right Skewed\n",
      "GV_HEF_XGDP \t: Right Skewed\n",
      "GV_PNPF_NC \t: Right Skewed\n",
      "GV_PNPF_PPP \t: Right Skewed\n",
      "GV_PNPF_PPPK \t: Right Skewed\n",
      "GV_PNPF_XGDP \t: Right Skewed\n",
      "GV_PUBF_PPP \t: Right Skewed\n",
      "GV_PUBF_PPPK \t: Right Skewed\n",
      "GV_PUBF_XGDP \t: Right Skewed\n",
      "G_AF_NC \t: Right Skewed\n",
      "G_AF_PPP \t: Right Skewed\n",
      "G_AF_PPPK \t: Right Skewed\n",
      "G_AF_XG \t: Right Skewed\n",
      "G_AF_XGDP \t: Right Skewed\n",
      "G_AR_NC \t: Right Skewed\n",
      "G_AR_PPP \t: Right Skewed\n",
      "G_AR_XGDP \t: Right Skewed\n",
      "G_BEF_NC \t: Right Skewed\n",
      "G_BEF_PPP \t: Right Skewed\n",
      "G_BEF_PPPK \t: Right Skewed\n",
      "G_BEF_XG \t: Left Skewed\n",
      "G_BEF_XGDP \t: Right Skewed\n",
      "G_BR_NC \t: Right Skewed\n",
      "G_BR_PPP \t: Right Skewed\n",
      "G_BR_XGDP \t: Right Skewed\n",
      "G_ED_NC \t: Right Skewed\n",
      "G_ED_PPP \t: Right Skewed\n",
      "G_ED_XGDP \t: Right Skewed\n",
      "G_GVF_NC \t: Right Skewed\n",
      "G_GVF_PPP \t: Right Skewed\n",
      "G_GVF_PPPK \t: Right Skewed\n",
      "G_GVF_XG \t: Left Skewed\n",
      "G_GVF_XGDP \t: Left Skewed\n",
      "G_HEF_NC \t: Right Skewed\n",
      "G_HEF_PPP \t: Right Skewed\n",
      "G_HEF_PPPK \t: Right Skewed\n",
      "G_HEF_XG \t: Right Skewed\n",
      "G_HEF_XGDP \t: Right Skewed\n",
      "G_ONF_NC \t: Right Skewed\n",
      "G_ONF_PPP \t: Right Skewed\n",
      "G_ONF_PPPK \t: Right Skewed\n",
      "G_ONF_XG \t: Right Skewed\n",
      "G_ONF_XGDP \t: Right Skewed\n",
      "G_PNPF_NC \t: Right Skewed\n",
      "G_PNPF_PPP \t: Right Skewed\n",
      "G_PNPF_PPPK \t: Right Skewed\n",
      "G_PNPF_XG \t: Right Skewed\n",
      "G_PNPF_XGDP \t: Right Skewed\n",
      "G_PUBF_GRO \t: Right Skewed\n",
      "G_PUBF_NC \t: Right Skewed\n",
      "G_PUBF_PPP \t: Right Skewed\n",
      "G_PUBF_PPPK \t: Right Skewed\n",
      "G_PUBF_XG \t: Left Skewed\n",
      "G_PUBF_XGDP \t: Right Skewed\n",
      "HE_AF_NC \t: Right Skewed\n",
      "HE_AF_PPP \t: Right Skewed\n",
      "HE_AF_XGDP \t: Right Skewed\n",
      "HE_AR_NC \t: Right Skewed\n",
      "HE_AR_PPP \t: Right Skewed\n",
      "HE_AR_PPPK \t: Right Skewed\n",
      "HE_AR_XGDP \t: Right Skewed\n",
      "HE_BEF_NC \t: Right Skewed\n",
      "HE_BEF_PPP \t: Right Skewed\n",
      "HE_BEF_PPPK \t: Right Skewed\n",
      "HE_BEF_XG \t: Right Skewed\n",
      "HE_BEF_XGDP \t: Right Skewed\n",
      "HE_BEF_XHE \t: Right Skewed\n",
      "HE_BR_NC \t: Right Skewed\n",
      "HE_BR_PPP \t: Right Skewed\n",
      "HE_BR_PPPK \t: Right Skewed\n",
      "HE_BR_XBR \t: Right Skewed\n",
      "HE_BR_XGDP \t: Right Skewed\n",
      "HE_ED_NC \t: Right Skewed\n",
      "HE_ED_PPP \t: Right Skewed\n",
      "HE_ED_PPPK \t: Right Skewed\n",
      "HE_ED_XGDP \t: Right Skewed\n",
      "HE_GVF_NC \t: Right Skewed\n",
      "HE_GVF_PPP \t: Right Skewed\n",
      "HE_GVF_PPPK \t: Right Skewed\n",
      "HE_GVF_XG \t: Right Skewed\n",
      "HE_GVF_XGDP \t: Right Skewed\n",
      "HE_HEF_NC \t: Right Skewed\n",
      "HE_HEF_PPP \t: Right Skewed\n",
      "HE_HEF_PPPK \t: Right Skewed\n",
      "HE_HEF_XG \t: Right Skewed\n",
      "HE_HEF_XGDP \t: Right Skewed\n",
      "HE_PNPF_NC \t: Right Skewed\n",
      "HE_PNPF_PPP \t: Right Skewed\n",
      "HE_PNPF_XGDP \t: Right Skewed\n",
      "HITECH_XBE \t: Right Skewed\n",
      "HKMS_XBE \t: Right Skewed\n",
      "ICTINV_SF_XGFCF \t: Right Skewed\n",
      "ICTINV_XGFCF \t: Right Skewed\n",
      "INCGAP11 \t: Right Skewed\n",
      "INCGAP12 \t: Right Skewed\n",
      "INTANG_XGDP \t: Right Skewed\n",
      "LKMS_XBE \t: Right Skewed\n",
      "MLTECH_XBE \t: Right Skewed\n",
      "NRSRC_XBE \t: Right Skewed\n",
      "PHD_ENG_NB \t: Right Skewed\n",
      "PHD_NB \t: Right Skewed\n",
      "PHD_SCI_NB \t: Right Skewed\n",
      "PNP_AF_NC \t: Right Skewed\n",
      "PNP_AF_PPP \t: Right Skewed\n",
      "PNP_AF_PPPK \t: Right Skewed\n",
      "PNP_AF_XG \t: Right Skewed\n",
      "PNP_AF_XGDP \t: Right Skewed\n",
      "PNP_BEF_NC \t: Right Skewed\n",
      "PNP_BEF_PPP \t: Right Skewed\n",
      "PNP_BEF_PPPK \t: Right Skewed\n",
      "PNP_BEF_XG \t: Right Skewed\n",
      "PNP_BEF_XGDP \t: Right Skewed\n",
      "PNP_GVF_NC \t: Right Skewed\n",
      "PNP_GVF_PPP \t: Right Skewed\n",
      "PNP_GVF_PPPK \t: Right Skewed\n",
      "PNP_GVF_XG \t: Right Skewed\n",
      "PNP_GVF_XGDP \t: Right Skewed\n",
      "PNP_HEF_NC \t: Right Skewed\n",
      "PNP_HEF_PPP \t: Right Skewed\n",
      "PNP_HEF_PPPK \t: Right Skewed\n",
      "PNP_HEF_XG \t: Right Skewed\n",
      "PNP_NC \t: Right Skewed\n",
      "PNP_PNPF_NC \t: Right Skewed\n",
      "PNP_PNPF_PPP \t: Right Skewed\n",
      "PNP_PNPF_PPPK \t: Right Skewed\n",
      "PNP_PNPF_XG \t: Right Skewed\n",
      "PNP_PNPF_XGDP \t: Right Skewed\n",
      "PNP_PPP \t: Right Skewed\n",
      "PNP_PPPK \t: Right Skewed\n",
      "PNP_XG \t: Right Skewed\n",
      "PNP_XGDP \t: Right Skewed\n",
      "PTRIAD_GDP \t: Right Skewed\n",
      "PTRIAD_NB \t: Right Skewed\n",
      "PTRIAD_XW \t: Right Skewed\n",
      "PUB_AF_PPP \t: Right Skewed\n",
      "PUB_AR_XGDP \t: Right Skewed\n",
      "PUB_BEF_PPP \t: Right Skewed\n",
      "PUB_BEF_XGDP \t: Right Skewed\n",
      "PUB_BEF_XPUB \t: Right Skewed\n",
      "PUB_BR_NC \t: Right Skewed\n",
      "PUB_BR_PPP \t: Right Skewed\n",
      "PUB_BR_XBR \t: Right Skewed\n",
      "PUB_BR_XGDP \t: Right Skewed\n",
      "PUB_BR_XPUB \t: Right Skewed\n",
      "PUB_ED_PPP \t: Right Skewed\n",
      "PUB_ED_XGDP \t: Right Skewed\n",
      "PUB_GVF_PPP \t: Right Skewed\n",
      "PUB_GVF_XGDP \t: Right Skewed\n",
      "PUB_HEF_PPP \t: Right Skewed\n",
      "PUB_HEF_XGDP \t: Right Skewed\n",
      "PUB_ONF_PPP \t: Right Skewed\n",
      "PUB_PUBF_PPP \t: Right Skewed\n",
      "PUB_PUBF_XGDP \t: Right Skewed\n",
      "PVRTTX_X \t: Right Skewed\n",
      "RDDB_NC \t: Right Skewed\n",
      "RDDB_PPP \t: Right Skewed\n",
      "RDPERS_EMP \t: Right Skewed\n",
      "RDPERS_FTE \t: Right Skewed\n",
      "RSE_HC \t: Right Skewed\n",
      "RSRC_XBE \t: Right Skewed\n",
      "SER_XBE \t: Right Skewed\n",
      "TRDMRK_GDP \t: Right Skewed\n",
      "UGTARP_ENG_NB \t: Right Skewed\n",
      "UGTARP_NB \t: Right Skewed\n",
      "UGTARP_SCI_NB \t: Right Skewed\n",
      "UNI100_NB \t: Right Skewed\n",
      "UNI200_NB \t: Right Skewed\n",
      "UNI500_HAB \t: Right Skewed\n",
      "WBBAND_HAB \t: Right Skewed\n",
      "WBBAND_NB \t: Right Skewed\n",
      "WPHD_ENG_NB \t: Right Skewed\n",
      "WPHD_NB \t: Right Skewed\n",
      "WPHD_SCI_NB \t: Right Skewed\n",
      "WRSE_XRSE \t: Right Skewed\n",
      "WUGTARP_ENG_NB \t: Right Skewed\n",
      "WUGTARP_NB \t: Right Skewed\n",
      "WUGTARP_SCI_NB \t: Right Skewed\n",
      "----------------------------------------------------------------------------------------------------\n",
      "Normal \t:0\n",
      "Right \t:308\n",
      "Left \t:16\n"
     ]
    }
   ],
   "source": [
    "Normal = []\n",
    "Right = []\n",
    "Left = []\n",
    "\n",
    "x = df.drop(columns=[\"COUNTRY\", \"TIME\"]).columns\n",
    "for i in x:\n",
    "    a = df[i].mean()\n",
    "    b = df[i].median()\n",
    "    if a == b:\n",
    "        Normal.append(i)\n",
    "        print(f\"{i} \\t: Normal Skewed\")\n",
    "    elif a > b:\n",
    "        Right.append(i)\n",
    "        print(f\"{i} \\t: Right Skewed\")\n",
    "    elif a < b:\n",
    "        Left.append(i)\n",
    "        print(f\"{i} \\t: Left Skewed\")\n",
    "\n",
    "print(\"-\"*100)\n",
    "print(f\"Normal \\t:{len(Normal)}\")\n",
    "print(f\"Right \\t:{len(Right)}\")\n",
    "print(f\"Left \\t:{len(Left)}\")     "
   ]
  },
  {
   "cell_type": "markdown",
   "metadata": {},
   "source": [
    "### Train Test Split"
   ]
  },
  {
   "cell_type": "code",
   "execution_count": 1595,
   "metadata": {},
   "outputs": [
    {
     "data": {
      "text/html": [
       "<div>\n",
       "<style scoped>\n",
       "    .dataframe tbody tr th:only-of-type {\n",
       "        vertical-align: middle;\n",
       "    }\n",
       "\n",
       "    .dataframe tbody tr th {\n",
       "        vertical-align: top;\n",
       "    }\n",
       "\n",
       "    .dataframe thead th {\n",
       "        text-align: right;\n",
       "    }\n",
       "</style>\n",
       "<table border=\"1\" class=\"dataframe\">\n",
       "  <thead>\n",
       "    <tr style=\"text-align: right;\">\n",
       "      <th></th>\n",
       "      <th>ADTERPOP_XT</th>\n",
       "      <th>BE_AF_NC</th>\n",
       "      <th>BE_AF_PPP</th>\n",
       "      <th>BE_AF_PPPK</th>\n",
       "      <th>BE_AF_XGDP</th>\n",
       "      <th>BE_AR_NC</th>\n",
       "      <th>BE_AR_PPP</th>\n",
       "      <th>BE_AR_XGDP</th>\n",
       "      <th>BE_BEF_NC</th>\n",
       "      <th>BE_BEF_PPP</th>\n",
       "      <th>...</th>\n",
       "      <th>UNI500_HAB</th>\n",
       "      <th>WBBAND_HAB</th>\n",
       "      <th>WBBAND_NB</th>\n",
       "      <th>WPHD_ENG_NB</th>\n",
       "      <th>WPHD_NB</th>\n",
       "      <th>WPHD_SCI_NB</th>\n",
       "      <th>WRSE_XRSE</th>\n",
       "      <th>WUGTARP_ENG_NB</th>\n",
       "      <th>WUGTARP_NB</th>\n",
       "      <th>WUGTARP_SCI_NB</th>\n",
       "    </tr>\n",
       "  </thead>\n",
       "  <tbody>\n",
       "    <tr>\n",
       "      <th>0</th>\n",
       "      <td>0.0</td>\n",
       "      <td>9.8</td>\n",
       "      <td>7.29</td>\n",
       "      <td>7.76</td>\n",
       "      <td>0.0</td>\n",
       "      <td>329.8</td>\n",
       "      <td>245.2</td>\n",
       "      <td>0.04</td>\n",
       "      <td>930.3</td>\n",
       "      <td>691.67</td>\n",
       "      <td>...</td>\n",
       "      <td>0.0</td>\n",
       "      <td>0.0</td>\n",
       "      <td>0.0</td>\n",
       "      <td>0.0</td>\n",
       "      <td>0.0</td>\n",
       "      <td>0.0</td>\n",
       "      <td>50.45</td>\n",
       "      <td>0.0</td>\n",
       "      <td>0.0</td>\n",
       "      <td>0.0</td>\n",
       "    </tr>\n",
       "  </tbody>\n",
       "</table>\n",
       "<p>1 rows × 324 columns</p>\n",
       "</div>"
      ],
      "text/plain": [
       "   ADTERPOP_XT  BE_AF_NC  BE_AF_PPP  BE_AF_PPPK  BE_AF_XGDP  BE_AR_NC  \\\n",
       "0          0.0       9.8       7.29        7.76         0.0     329.8   \n",
       "\n",
       "   BE_AR_PPP  BE_AR_XGDP  BE_BEF_NC  BE_BEF_PPP  ...  UNI500_HAB  WBBAND_HAB  \\\n",
       "0      245.2        0.04      930.3      691.67  ...         0.0         0.0   \n",
       "\n",
       "   WBBAND_NB  WPHD_ENG_NB  WPHD_NB  WPHD_SCI_NB  WRSE_XRSE  WUGTARP_ENG_NB  \\\n",
       "0        0.0          0.0      0.0          0.0      50.45             0.0   \n",
       "\n",
       "   WUGTARP_NB  WUGTARP_SCI_NB  \n",
       "0         0.0             0.0  \n",
       "\n",
       "[1 rows x 324 columns]"
      ]
     },
     "execution_count": 1595,
     "metadata": {},
     "output_type": "execute_result"
    }
   ],
   "source": [
    "X = df.drop([\"COUNTRY\", \"TIME\"], axis=1)\n",
    "X.head(1)"
   ]
  },
  {
   "cell_type": "markdown",
   "metadata": {},
   "source": [
    "### Scaling"
   ]
  },
  {
   "cell_type": "code",
   "execution_count": 1596,
   "metadata": {},
   "outputs": [
    {
     "data": {
      "text/html": [
       "<div>\n",
       "<style scoped>\n",
       "    .dataframe tbody tr th:only-of-type {\n",
       "        vertical-align: middle;\n",
       "    }\n",
       "\n",
       "    .dataframe tbody tr th {\n",
       "        vertical-align: top;\n",
       "    }\n",
       "\n",
       "    .dataframe thead th {\n",
       "        text-align: right;\n",
       "    }\n",
       "</style>\n",
       "<table border=\"1\" class=\"dataframe\">\n",
       "  <thead>\n",
       "    <tr style=\"text-align: right;\">\n",
       "      <th></th>\n",
       "      <th>ADTERPOP_XT</th>\n",
       "      <th>BE_AF_NC</th>\n",
       "      <th>BE_AF_PPP</th>\n",
       "      <th>BE_AF_PPPK</th>\n",
       "      <th>BE_AF_XGDP</th>\n",
       "      <th>BE_AR_NC</th>\n",
       "      <th>BE_AR_PPP</th>\n",
       "      <th>BE_AR_XGDP</th>\n",
       "      <th>BE_BEF_NC</th>\n",
       "      <th>BE_BEF_PPP</th>\n",
       "      <th>...</th>\n",
       "      <th>UNI500_HAB</th>\n",
       "      <th>WBBAND_HAB</th>\n",
       "      <th>WBBAND_NB</th>\n",
       "      <th>WPHD_ENG_NB</th>\n",
       "      <th>WPHD_NB</th>\n",
       "      <th>WPHD_SCI_NB</th>\n",
       "      <th>WRSE_XRSE</th>\n",
       "      <th>WUGTARP_ENG_NB</th>\n",
       "      <th>WUGTARP_NB</th>\n",
       "      <th>WUGTARP_SCI_NB</th>\n",
       "    </tr>\n",
       "  </thead>\n",
       "  <tbody>\n",
       "    <tr>\n",
       "      <th>0</th>\n",
       "      <td>-1.024111</td>\n",
       "      <td>-0.264675</td>\n",
       "      <td>-0.350510</td>\n",
       "      <td>-0.354913</td>\n",
       "      <td>-0.338744</td>\n",
       "      <td>-0.176037</td>\n",
       "      <td>-0.312333</td>\n",
       "      <td>-0.369615</td>\n",
       "      <td>-0.177298</td>\n",
       "      <td>-0.301801</td>\n",
       "      <td>...</td>\n",
       "      <td>-0.858642</td>\n",
       "      <td>-0.787892</td>\n",
       "      <td>-0.308145</td>\n",
       "      <td>-0.339822</td>\n",
       "      <td>-0.306683</td>\n",
       "      <td>-0.294329</td>\n",
       "      <td>1.692184</td>\n",
       "      <td>-0.480026</td>\n",
       "      <td>-0.355176</td>\n",
       "      <td>-0.381819</td>\n",
       "    </tr>\n",
       "    <tr>\n",
       "      <th>1</th>\n",
       "      <td>-1.024111</td>\n",
       "      <td>-0.264670</td>\n",
       "      <td>-0.350977</td>\n",
       "      <td>-0.355519</td>\n",
       "      <td>-0.338744</td>\n",
       "      <td>-0.175934</td>\n",
       "      <td>-0.306460</td>\n",
       "      <td>-0.369615</td>\n",
       "      <td>-0.177245</td>\n",
       "      <td>-0.299948</td>\n",
       "      <td>...</td>\n",
       "      <td>-0.858642</td>\n",
       "      <td>-0.787892</td>\n",
       "      <td>-0.308145</td>\n",
       "      <td>-0.339822</td>\n",
       "      <td>-0.306683</td>\n",
       "      <td>-0.294329</td>\n",
       "      <td>1.748558</td>\n",
       "      <td>-0.480026</td>\n",
       "      <td>-0.355176</td>\n",
       "      <td>-0.381819</td>\n",
       "    </tr>\n",
       "    <tr>\n",
       "      <th>2</th>\n",
       "      <td>-1.024111</td>\n",
       "      <td>-0.264568</td>\n",
       "      <td>-0.350966</td>\n",
       "      <td>-0.355579</td>\n",
       "      <td>-0.338744</td>\n",
       "      <td>-0.175844</td>\n",
       "      <td>-0.306628</td>\n",
       "      <td>-0.369615</td>\n",
       "      <td>-0.177199</td>\n",
       "      <td>-0.299978</td>\n",
       "      <td>...</td>\n",
       "      <td>-0.858642</td>\n",
       "      <td>-0.787892</td>\n",
       "      <td>-0.308145</td>\n",
       "      <td>-0.339822</td>\n",
       "      <td>-0.306683</td>\n",
       "      <td>-0.294329</td>\n",
       "      <td>1.735262</td>\n",
       "      <td>-0.480026</td>\n",
       "      <td>-0.355176</td>\n",
       "      <td>-0.381819</td>\n",
       "    </tr>\n",
       "    <tr>\n",
       "      <th>3</th>\n",
       "      <td>-1.024111</td>\n",
       "      <td>-0.264551</td>\n",
       "      <td>-0.351176</td>\n",
       "      <td>-0.355821</td>\n",
       "      <td>-0.338744</td>\n",
       "      <td>-0.175832</td>\n",
       "      <td>-0.310335</td>\n",
       "      <td>-0.369615</td>\n",
       "      <td>-0.177192</td>\n",
       "      <td>-0.301146</td>\n",
       "      <td>...</td>\n",
       "      <td>-0.858642</td>\n",
       "      <td>-0.787892</td>\n",
       "      <td>-0.308145</td>\n",
       "      <td>-0.339822</td>\n",
       "      <td>-0.306683</td>\n",
       "      <td>-0.294329</td>\n",
       "      <td>1.769831</td>\n",
       "      <td>-0.480026</td>\n",
       "      <td>-0.355176</td>\n",
       "      <td>-0.381819</td>\n",
       "    </tr>\n",
       "    <tr>\n",
       "      <th>4</th>\n",
       "      <td>-1.024111</td>\n",
       "      <td>-0.264314</td>\n",
       "      <td>-0.350607</td>\n",
       "      <td>-0.355271</td>\n",
       "      <td>-0.338744</td>\n",
       "      <td>-0.175620</td>\n",
       "      <td>-0.300742</td>\n",
       "      <td>-0.369615</td>\n",
       "      <td>-0.177084</td>\n",
       "      <td>-0.298117</td>\n",
       "      <td>...</td>\n",
       "      <td>-0.858642</td>\n",
       "      <td>-0.787892</td>\n",
       "      <td>-0.308145</td>\n",
       "      <td>-0.339822</td>\n",
       "      <td>-0.306683</td>\n",
       "      <td>-0.294329</td>\n",
       "      <td>1.786318</td>\n",
       "      <td>-0.171682</td>\n",
       "      <td>-0.144974</td>\n",
       "      <td>-0.152831</td>\n",
       "    </tr>\n",
       "  </tbody>\n",
       "</table>\n",
       "<p>5 rows × 324 columns</p>\n",
       "</div>"
      ],
      "text/plain": [
       "   ADTERPOP_XT  BE_AF_NC  BE_AF_PPP  BE_AF_PPPK  BE_AF_XGDP  BE_AR_NC  \\\n",
       "0    -1.024111 -0.264675  -0.350510   -0.354913   -0.338744 -0.176037   \n",
       "1    -1.024111 -0.264670  -0.350977   -0.355519   -0.338744 -0.175934   \n",
       "2    -1.024111 -0.264568  -0.350966   -0.355579   -0.338744 -0.175844   \n",
       "3    -1.024111 -0.264551  -0.351176   -0.355821   -0.338744 -0.175832   \n",
       "4    -1.024111 -0.264314  -0.350607   -0.355271   -0.338744 -0.175620   \n",
       "\n",
       "   BE_AR_PPP  BE_AR_XGDP  BE_BEF_NC  BE_BEF_PPP  ...  UNI500_HAB  WBBAND_HAB  \\\n",
       "0  -0.312333   -0.369615  -0.177298   -0.301801  ...   -0.858642   -0.787892   \n",
       "1  -0.306460   -0.369615  -0.177245   -0.299948  ...   -0.858642   -0.787892   \n",
       "2  -0.306628   -0.369615  -0.177199   -0.299978  ...   -0.858642   -0.787892   \n",
       "3  -0.310335   -0.369615  -0.177192   -0.301146  ...   -0.858642   -0.787892   \n",
       "4  -0.300742   -0.369615  -0.177084   -0.298117  ...   -0.858642   -0.787892   \n",
       "\n",
       "   WBBAND_NB  WPHD_ENG_NB   WPHD_NB  WPHD_SCI_NB  WRSE_XRSE  WUGTARP_ENG_NB  \\\n",
       "0  -0.308145    -0.339822 -0.306683    -0.294329   1.692184       -0.480026   \n",
       "1  -0.308145    -0.339822 -0.306683    -0.294329   1.748558       -0.480026   \n",
       "2  -0.308145    -0.339822 -0.306683    -0.294329   1.735262       -0.480026   \n",
       "3  -0.308145    -0.339822 -0.306683    -0.294329   1.769831       -0.480026   \n",
       "4  -0.308145    -0.339822 -0.306683    -0.294329   1.786318       -0.171682   \n",
       "\n",
       "   WUGTARP_NB  WUGTARP_SCI_NB  \n",
       "0   -0.355176       -0.381819  \n",
       "1   -0.355176       -0.381819  \n",
       "2   -0.355176       -0.381819  \n",
       "3   -0.355176       -0.381819  \n",
       "4   -0.144974       -0.152831  \n",
       "\n",
       "[5 rows x 324 columns]"
      ]
     },
     "execution_count": 1596,
     "metadata": {},
     "output_type": "execute_result"
    }
   ],
   "source": [
    "from sklearn.preprocessing import StandardScaler\n",
    "scaler = StandardScaler()\n",
    "X_scaled = scaler.fit_transform(X)\n",
    "df_X_scaled = pd.DataFrame(X_scaled, columns=X.columns)\n",
    "df_X_scaled.head()"
   ]
  },
  {
   "cell_type": "markdown",
   "metadata": {},
   "source": [
    "### PCA Model & Best Number of Component"
   ]
  },
  {
   "cell_type": "code",
   "execution_count": 1597,
   "metadata": {},
   "outputs": [
    {
     "data": {
      "text/plain": [
       "324"
      ]
     },
     "execution_count": 1597,
     "metadata": {},
     "output_type": "execute_result"
    }
   ],
   "source": [
    "X.columns.value_counts().sum()"
   ]
  },
  {
   "cell_type": "code",
   "execution_count": 1598,
   "metadata": {},
   "outputs": [
    {
     "data": {
      "image/png": "[encoded data removed]",
      "text/plain": [
       "<Figure size 432x288 with 1 Axes>"
      ]
     },
     "metadata": {},
     "output_type": "display_data"
    }
   ],
   "source": [
    "from sklearn.decomposition import PCA\n",
    "\n",
    "model = PCA().fit(X_scaled)\n",
    "x = range(1,325)\n",
    "\n",
    "plt.plot(x, np.cumsum(model.explained_variance_ratio_))\n",
    "plt.xlabel(\"Component count\")\n",
    "plt.ylabel(\"Variance Ratio\");"
   ]
  },
  {
   "cell_type": "code",
   "execution_count": 1599,
   "metadata": {},
   "outputs": [],
   "source": [
    "model = PCA(n_components=324).fit(X_scaled)"
   ]
  },
  {
   "cell_type": "code",
   "execution_count": 1600,
   "metadata": {},
   "outputs": [],
   "source": [
    "my_dict = {\"explained_variance\":model.explained_variance_, \n",
    "           \"explained_variance_ratio\":model.explained_variance_ratio_,\n",
    "           \"cumsum_explained_variance_ratio\":model.explained_variance_ratio_.cumsum()}"
   ]
  },
  {
   "cell_type": "code",
   "execution_count": 1601,
   "metadata": {},
   "outputs": [
    {
     "data": {
      "text/plain": [
       "(50, 3)"
      ]
     },
     "execution_count": 1601,
     "metadata": {},
     "output_type": "execute_result"
    }
   ],
   "source": [
    "df_best = pd.DataFrame(my_dict, index = range(1,325))\n",
    "df_best = df_best.sort_values(by=\"explained_variance_ratio\")\n",
    "df_best = df_best.iloc[:50,:]\n",
    "df_best.shape"
   ]
  },
  {
   "cell_type": "code",
   "execution_count": 1602,
   "metadata": {},
   "outputs": [
    {
     "data": {
      "image/png": "[encoded data removed]",
      "text/plain": [
       "<Figure size 1440x576 with 1 Axes>"
      ]
     },
     "metadata": {},
     "output_type": "display_data"
    }
   ],
   "source": [
    "plt.figure(figsize=(20,8))\n",
    "sns.barplot(df_best.index, df_best.explained_variance_ratio);"
   ]
  },
  {
   "cell_type": "code",
   "execution_count": 1603,
   "metadata": {},
   "outputs": [],
   "source": [
    "# Decide to create 7 components"
   ]
  },
  {
   "cell_type": "markdown",
   "metadata": {},
   "source": [
    "### PCA Model & Component=7"
   ]
  },
  {
   "cell_type": "code",
   "execution_count": 1604,
   "metadata": {},
   "outputs": [
    {
     "data": {
      "text/html": [
       "<div>\n",
       "<style scoped>\n",
       "    .dataframe tbody tr th:only-of-type {\n",
       "        vertical-align: middle;\n",
       "    }\n",
       "\n",
       "    .dataframe tbody tr th {\n",
       "        vertical-align: top;\n",
       "    }\n",
       "\n",
       "    .dataframe thead th {\n",
       "        text-align: right;\n",
       "    }\n",
       "</style>\n",
       "<table border=\"1\" class=\"dataframe\">\n",
       "  <thead>\n",
       "    <tr style=\"text-align: right;\">\n",
       "      <th></th>\n",
       "      <th>1_Comp</th>\n",
       "      <th>2_Comp</th>\n",
       "      <th>3_Comp</th>\n",
       "      <th>4_Comp</th>\n",
       "      <th>5_Comp</th>\n",
       "      <th>6_Comp</th>\n",
       "      <th>7_Comp</th>\n",
       "    </tr>\n",
       "  </thead>\n",
       "  <tbody>\n",
       "    <tr>\n",
       "      <th>0</th>\n",
       "      <td>-3.024892</td>\n",
       "      <td>0.136256</td>\n",
       "      <td>0.090472</td>\n",
       "      <td>-0.250536</td>\n",
       "      <td>-1.070321</td>\n",
       "      <td>1.836201</td>\n",
       "      <td>1.258966</td>\n",
       "    </tr>\n",
       "    <tr>\n",
       "      <th>1</th>\n",
       "      <td>-2.952898</td>\n",
       "      <td>0.222956</td>\n",
       "      <td>-0.004622</td>\n",
       "      <td>-0.216618</td>\n",
       "      <td>-0.908643</td>\n",
       "      <td>1.495421</td>\n",
       "      <td>0.851361</td>\n",
       "    </tr>\n",
       "    <tr>\n",
       "      <th>2</th>\n",
       "      <td>-2.743541</td>\n",
       "      <td>0.233172</td>\n",
       "      <td>-0.336567</td>\n",
       "      <td>-0.284682</td>\n",
       "      <td>-0.772409</td>\n",
       "      <td>1.320002</td>\n",
       "      <td>0.676204</td>\n",
       "    </tr>\n",
       "    <tr>\n",
       "      <th>3</th>\n",
       "      <td>-2.400939</td>\n",
       "      <td>0.187613</td>\n",
       "      <td>-0.666919</td>\n",
       "      <td>-0.181724</td>\n",
       "      <td>-0.834403</td>\n",
       "      <td>1.485842</td>\n",
       "      <td>0.499866</td>\n",
       "    </tr>\n",
       "    <tr>\n",
       "      <th>4</th>\n",
       "      <td>-2.586658</td>\n",
       "      <td>0.089136</td>\n",
       "      <td>0.195643</td>\n",
       "      <td>-0.337650</td>\n",
       "      <td>-0.432370</td>\n",
       "      <td>1.406525</td>\n",
       "      <td>-0.125768</td>\n",
       "    </tr>\n",
       "    <tr>\n",
       "      <th>...</th>\n",
       "      <td>...</td>\n",
       "      <td>...</td>\n",
       "      <td>...</td>\n",
       "      <td>...</td>\n",
       "      <td>...</td>\n",
       "      <td>...</td>\n",
       "      <td>...</td>\n",
       "    </tr>\n",
       "    <tr>\n",
       "      <th>485</th>\n",
       "      <td>-3.741699</td>\n",
       "      <td>-0.175448</td>\n",
       "      <td>2.344390</td>\n",
       "      <td>1.546929</td>\n",
       "      <td>-1.780955</td>\n",
       "      <td>0.537566</td>\n",
       "      <td>2.205619</td>\n",
       "    </tr>\n",
       "    <tr>\n",
       "      <th>486</th>\n",
       "      <td>-3.634776</td>\n",
       "      <td>-0.177917</td>\n",
       "      <td>2.170340</td>\n",
       "      <td>1.584288</td>\n",
       "      <td>-1.750691</td>\n",
       "      <td>0.626551</td>\n",
       "      <td>3.271882</td>\n",
       "    </tr>\n",
       "    <tr>\n",
       "      <th>487</th>\n",
       "      <td>-6.521583</td>\n",
       "      <td>0.235962</td>\n",
       "      <td>6.455699</td>\n",
       "      <td>-0.427975</td>\n",
       "      <td>0.219432</td>\n",
       "      <td>0.343086</td>\n",
       "      <td>0.007502</td>\n",
       "    </tr>\n",
       "    <tr>\n",
       "      <th>488</th>\n",
       "      <td>-6.517179</td>\n",
       "      <td>0.345492</td>\n",
       "      <td>6.222460</td>\n",
       "      <td>-0.324890</td>\n",
       "      <td>0.170317</td>\n",
       "      <td>0.432632</td>\n",
       "      <td>-0.131001</td>\n",
       "    </tr>\n",
       "    <tr>\n",
       "      <th>489</th>\n",
       "      <td>-6.582324</td>\n",
       "      <td>0.313941</td>\n",
       "      <td>6.406662</td>\n",
       "      <td>-0.401789</td>\n",
       "      <td>0.182917</td>\n",
       "      <td>0.446458</td>\n",
       "      <td>-0.193809</td>\n",
       "    </tr>\n",
       "  </tbody>\n",
       "</table>\n",
       "<p>490 rows × 7 columns</p>\n",
       "</div>"
      ],
      "text/plain": [
       "       1_Comp    2_Comp    3_Comp    4_Comp    5_Comp    6_Comp    7_Comp\n",
       "0   -3.024892  0.136256  0.090472 -0.250536 -1.070321  1.836201  1.258966\n",
       "1   -2.952898  0.222956 -0.004622 -0.216618 -0.908643  1.495421  0.851361\n",
       "2   -2.743541  0.233172 -0.336567 -0.284682 -0.772409  1.320002  0.676204\n",
       "3   -2.400939  0.187613 -0.666919 -0.181724 -0.834403  1.485842  0.499866\n",
       "4   -2.586658  0.089136  0.195643 -0.337650 -0.432370  1.406525 -0.125768\n",
       "..        ...       ...       ...       ...       ...       ...       ...\n",
       "485 -3.741699 -0.175448  2.344390  1.546929 -1.780955  0.537566  2.205619\n",
       "486 -3.634776 -0.177917  2.170340  1.584288 -1.750691  0.626551  3.271882\n",
       "487 -6.521583  0.235962  6.455699 -0.427975  0.219432  0.343086  0.007502\n",
       "488 -6.517179  0.345492  6.222460 -0.324890  0.170317  0.432632 -0.131001\n",
       "489 -6.582324  0.313941  6.406662 -0.401789  0.182917  0.446458 -0.193809\n",
       "\n",
       "[490 rows x 7 columns]"
      ]
     },
     "execution_count": 1604,
     "metadata": {},
     "output_type": "execute_result"
    }
   ],
   "source": [
    "model = PCA(n_components=7)\n",
    "\n",
    "comp_df = pd.DataFrame(data = model.fit_transform(X_scaled),\n",
    "                       columns = [\"1_Comp\",\"2_Comp\",\"3_Comp\",\"4_Comp\",\"5_Comp\",\"6_Comp\",\"7_Comp\"])\n",
    "comp_df"
   ]
  },
  {
   "cell_type": "markdown",
   "metadata": {},
   "source": [
    "### Eigenvalues & Eigenvectors"
   ]
  },
  {
   "cell_type": "code",
   "execution_count": 1605,
   "metadata": {},
   "outputs": [
    {
     "data": {
      "text/plain": [
       "array([[ 0.01875081,  0.06461834,  0.06507408, ...,  0.0580392 ,\n",
       "         0.06008945,  0.06945873],\n",
       "       [-0.02426863,  0.08491237, -0.07751061, ..., -0.01755034,\n",
       "        -0.05465661, -0.06792635],\n",
       "       [-0.06551269,  0.02797125,  0.00075269, ...,  0.00915901,\n",
       "         0.03311345,  0.01680785],\n",
       "       ...,\n",
       "       [-0.0162375 ,  0.00703825, -0.02729188, ..., -0.030617  ,\n",
       "        -0.05573331, -0.06702693],\n",
       "       [-0.05758185, -0.00273565, -0.06424458, ...,  0.01220827,\n",
       "         0.01354293, -0.00191307],\n",
       "       [-0.01994106,  0.01419734,  0.07236428, ...,  0.00628413,\n",
       "        -0.0266355 , -0.01681361]])"
      ]
     },
     "execution_count": 1605,
     "metadata": {},
     "output_type": "execute_result"
    }
   ],
   "source": [
    "model.components_"
   ]
  },
  {
   "cell_type": "code",
   "execution_count": 1606,
   "metadata": {},
   "outputs": [
    {
     "data": {
      "text/plain": [
       "7"
      ]
     },
     "execution_count": 1606,
     "metadata": {},
     "output_type": "execute_result"
    }
   ],
   "source": [
    "len(model.components_)"
   ]
  },
  {
   "cell_type": "code",
   "execution_count": 1607,
   "metadata": {},
   "outputs": [],
   "source": [
    "# for i in range(0,7):\n",
    "#     x = f\"eigv_comp_{i+1}\"\n",
    "#     z = f\"{i+1}_eigv\"\n",
    "#     x = pd.DataFrame(model.components_[i],\n",
    "#                      index=X.columns,\n",
    "#                      columns=[z]).sort_values(z, ascending=False)\n",
    "#     print(f\"eigv_comp_{i+1}_1st_row \\t: {x.iloc[0,0]}\")"
   ]
  },
  {
   "cell_type": "code",
   "execution_count": 1608,
   "metadata": {},
   "outputs": [
    {
     "data": {
      "text/plain": [
       "array([ 0.01875081,  0.06461834,  0.06507408,  0.06540128,  0.00830566,\n",
       "        0.0655253 ,  0.06063123,  0.04933473,  0.06553222,  0.08625528,\n",
       "        0.08672443,  0.05853944,  0.07126054,  0.07277798,  0.05595191,\n",
       "        0.07331064,  0.07304843,  0.02171368,  0.02627185,  0.0511541 ,\n",
       "        0.0652972 ,  0.04539517,  0.06446151,  0.0118036 ,  0.05553171,\n",
       "        0.04905228,  0.04827094,  0.0473158 ,  0.06827583,  0.0135743 ,\n",
       "        0.01272865,  0.06611176,  0.06866299,  0.06857404,  0.00633557,\n",
       "        0.01476583,  0.06575472,  0.01048755,  0.04742126,  0.04656586,\n",
       "        0.04244517, -0.02872434, -0.0302934 ,  0.05558917,  0.03940038,\n",
       "        0.00426282,  0.01402674,  0.0363972 ,  0.02165786,  0.00935935,\n",
       "        0.00865663,  0.05839291,  0.08967342,  0.08636978,  0.00523429,\n",
       "        0.01262856,  0.06310997,  0.05053963,  0.06247673,  0.02282124,\n",
       "        0.03725873,  0.05775   ,  0.06538646,  0.02958425,  0.07356647,\n",
       "        0.0744361 ,  0.06186921,  0.08172326,  0.07804829,  0.01528426,\n",
       "        0.03465226,  0.06510538,  0.08640728,  0.08310617,  0.05222653,\n",
       "        0.05539467,  0.057869  ,  0.07370795,  0.07164923,  0.00732332,\n",
       "        0.01446236,  0.01165451,  0.05954939,  0.06755489,  0.05538571,\n",
       "        0.04595309,  0.05872061,  0.05443718,  0.0705772 ,  0.0686816 ,\n",
       "        0.02442648,  0.02852745,  0.06263009,  0.04489944,  0.02040363,\n",
       "        0.05500917,  0.00603008,  0.0175557 ,  0.08068877,  0.08123727,\n",
       "        0.06978845,  0.07289938,  0.06442831,  0.05299178,  0.06619739,\n",
       "        0.06674883,  0.07951047,  0.06549457,  0.01818556,  0.02558397,\n",
       "        0.04754912,  0.04130739,  0.04606446,  0.01620991,  0.03185763,\n",
       "        0.0583575 ,  0.06876923,  0.01919607,  0.03823404,  0.01026842,\n",
       "        0.03937631,  0.02634512,  0.02641582, -0.00188683,  0.06396153,\n",
       "        0.04248264,  0.05428803,  0.04147087,  0.05693364,  0.03689763,\n",
       "        0.03689261,  0.01635835,  0.05843875,  0.05042337,  0.06692918,\n",
       "        0.02253511,  0.03910433,  0.06287635,  0.03402228,  0.05475566,\n",
       "        0.08028344,  0.06342259,  0.08162388,  0.08195562,  0.06873406,\n",
       "        0.06104444,  0.04335814,  0.04355354, -0.00189604,  0.05276652,\n",
       "        0.07008812,  0.06963474,  0.0133845 ,  0.08475978,  0.05893741,\n",
       "        0.06921579,  0.05584636,  0.06444025,  0.06478525, -0.0016602 ,\n",
       "        0.00649404,  0.0655289 ,  0.06194931,  0.04884155,  0.06537311,\n",
       "        0.08565048,  0.08612246,  0.06422612,  0.07756783,  0.06120206,\n",
       "        0.06846034,  0.05803866,  0.06476214,  0.04400447,  0.06743373,\n",
       "        0.0621792 ,  0.08431522,  0.08435401,  0.01969045,  0.06016452,\n",
       "        0.06164283,  0.06736766,  0.06770258, -0.0048254 ,  0.01591664,\n",
       "        0.06707161,  0.08139623,  0.0814738 ,  0.0284341 ,  0.04990204,\n",
       "        0.06800073,  0.07249843,  0.07252375,  0.02927461,  0.04984826,\n",
       "        0.0210807 ,  0.06404805,  0.08290555,  0.08278667,  0.01460234,\n",
       "        0.06058518,  0.04971446,  0.03899522, -0.00160397,  0.06540202,\n",
       "        0.04808758,  0.06113734,  0.03064502,  0.057564  ,  0.05351583,\n",
       "        0.05411931,  0.01752531,  0.03275516,  0.03509706,  0.06727817,\n",
       "        0.05685751,  0.05977008,  0.03380427,  0.03941345,  0.05593286,\n",
       "        0.06098069,  0.0812849 ,  0.04009756,  0.06437158,  0.08997663,\n",
       "        0.08995257,  0.02097972,  0.03579398,  0.0623595 ,  0.08290765,\n",
       "        0.08305101,  0.01968554,  0.05141895,  0.06710235,  0.06937038,\n",
       "        0.02308027,  0.07679573,  0.02450809,  0.04509516,  0.02451826,\n",
       "        0.02559447,  0.01241172,  0.01778132,  0.03640053,  0.04881944,\n",
       "        0.06847216,  0.06482343,  0.0583976 ,  0.05232271,  0.01294284,\n",
       "        0.01957423,  0.01990188, -0.0025603 ,  0.00094764,  0.06529988,\n",
       "        0.08821369,  0.08791862,  0.05285804,  0.07570935,  0.06084127,\n",
       "        0.07625256,  0.07594445,  0.02238598,  0.05365728,  0.05441198,\n",
       "        0.02314568,  0.0237976 ,  0.00472719,  0.05868278,  0.0746875 ,\n",
       "        0.0706612 ,  0.07070019,  0.05079588,  0.06978182,  0.07504291,\n",
       "        0.07496023,  0.00528364,  0.05813216,  0.05637947,  0.08615325,\n",
       "        0.08635692,  0.03857518,  0.03846717,  0.05141639,  0.03204325,\n",
       "        0.02544921,  0.0645551 ,  0.08034893,  0.03295152,  0.04452853,\n",
       "        0.02015239,  0.05673486,  0.07299944,  0.06720326,  0.05471298,\n",
       "        0.07416398,  0.05302103,  0.06286885,  0.08890497,  0.0587471 ,\n",
       "        0.01276534,  0.05897166,  0.08491929,  0.03301208,  0.04128918,\n",
       "        0.05339936,  0.02683222,  0.02555802,  0.01100818,  0.06483623,\n",
       "        0.05898592,  0.07057231,  0.06722987,  0.07078184,  0.01368452,\n",
       "        0.02461514,  0.06104013,  0.05749454,  0.05520318,  0.05048293,\n",
       "        0.00053158,  0.0580392 ,  0.06008945,  0.06945873])"
      ]
     },
     "execution_count": 1608,
     "metadata": {},
     "output_type": "execute_result"
    }
   ],
   "source": [
    "eigv_comp_1 = model.components_[0]\n",
    "eigv_comp_1"
   ]
  },
  {
   "cell_type": "code",
   "execution_count": 1609,
   "metadata": {},
   "outputs": [
    {
     "data": {
      "text/html": [
       "<div>\n",
       "<style scoped>\n",
       "    .dataframe tbody tr th:only-of-type {\n",
       "        vertical-align: middle;\n",
       "    }\n",
       "\n",
       "    .dataframe tbody tr th {\n",
       "        vertical-align: top;\n",
       "    }\n",
       "\n",
       "    .dataframe thead th {\n",
       "        text-align: right;\n",
       "    }\n",
       "</style>\n",
       "<table border=\"1\" class=\"dataframe\">\n",
       "  <thead>\n",
       "    <tr style=\"text-align: right;\">\n",
       "      <th></th>\n",
       "      <th>1_eigv</th>\n",
       "    </tr>\n",
       "  </thead>\n",
       "  <tbody>\n",
       "    <tr>\n",
       "      <th>HE_GVF_PPP</th>\n",
       "      <td>0.089977</td>\n",
       "    </tr>\n",
       "    <tr>\n",
       "      <th>HE_GVF_PPPK</th>\n",
       "      <td>0.089953</td>\n",
       "    </tr>\n",
       "    <tr>\n",
       "      <th>GB_AGR_PPP</th>\n",
       "      <td>0.089673</td>\n",
       "    </tr>\n",
       "    <tr>\n",
       "      <th>PUB_PUBF_PPP</th>\n",
       "      <td>0.088905</td>\n",
       "    </tr>\n",
       "    <tr>\n",
       "      <th>PNP_BEF_PPP</th>\n",
       "      <td>0.088214</td>\n",
       "    </tr>\n",
       "    <tr>\n",
       "      <th>...</th>\n",
       "      <td>...</td>\n",
       "    </tr>\n",
       "    <tr>\n",
       "      <th>GV_HEF_XGDP</th>\n",
       "      <td>-0.001896</td>\n",
       "    </tr>\n",
       "    <tr>\n",
       "      <th>PNP_AF_XG</th>\n",
       "      <td>-0.002560</td>\n",
       "    </tr>\n",
       "    <tr>\n",
       "      <th>G_HEF_XG</th>\n",
       "      <td>-0.004825</td>\n",
       "    </tr>\n",
       "    <tr>\n",
       "      <th>EMPVF_XEMF</th>\n",
       "      <td>-0.028724</td>\n",
       "    </tr>\n",
       "    <tr>\n",
       "      <th>EMPV_XEMP</th>\n",
       "      <td>-0.030293</td>\n",
       "    </tr>\n",
       "  </tbody>\n",
       "</table>\n",
       "<p>324 rows × 1 columns</p>\n",
       "</div>"
      ],
      "text/plain": [
       "                1_eigv\n",
       "HE_GVF_PPP    0.089977\n",
       "HE_GVF_PPPK   0.089953\n",
       "GB_AGR_PPP    0.089673\n",
       "PUB_PUBF_PPP  0.088905\n",
       "PNP_BEF_PPP   0.088214\n",
       "...                ...\n",
       "GV_HEF_XGDP  -0.001896\n",
       "PNP_AF_XG    -0.002560\n",
       "G_HEF_XG     -0.004825\n",
       "EMPVF_XEMF   -0.028724\n",
       "EMPV_XEMP    -0.030293\n",
       "\n",
       "[324 rows x 1 columns]"
      ]
     },
     "execution_count": 1609,
     "metadata": {},
     "output_type": "execute_result"
    }
   ],
   "source": [
    "pd.DataFrame(eigv_comp_1,\n",
    "             index=X.columns,\n",
    "             columns=[\"1_eigv\"]).sort_values(\"1_eigv\", ascending=False)"
   ]
  },
  {
   "cell_type": "code",
   "execution_count": 1610,
   "metadata": {},
   "outputs": [
    {
     "data": {
      "text/plain": [
       "ADTERPOP_XT      -1.024111\n",
       "BE_AF_NC         -0.264675\n",
       "BE_AF_PPP        -0.350510\n",
       "BE_AF_PPPK       -0.354913\n",
       "BE_AF_XGDP       -0.338744\n",
       "                    ...   \n",
       "WPHD_SCI_NB      -0.294329\n",
       "WRSE_XRSE         1.692184\n",
       "WUGTARP_ENG_NB   -0.480026\n",
       "WUGTARP_NB       -0.355176\n",
       "WUGTARP_SCI_NB   -0.381819\n",
       "Name: 0, Length: 324, dtype: float64"
      ]
     },
     "execution_count": 1610,
     "metadata": {},
     "output_type": "execute_result"
    }
   ],
   "source": [
    "df_X_scaled.loc[0]"
   ]
  },
  {
   "cell_type": "code",
   "execution_count": 1611,
   "metadata": {},
   "outputs": [
    {
     "data": {
      "text/plain": [
       "-3.0248917729358373"
      ]
     },
     "execution_count": 1611,
     "metadata": {},
     "output_type": "execute_result"
    }
   ],
   "source": [
    "(df_X_scaled.loc[0] * eigv_comp_1).sum()"
   ]
  },
  {
   "cell_type": "code",
   "execution_count": 1612,
   "metadata": {},
   "outputs": [
    {
     "data": {
      "text/html": [
       "<div>\n",
       "<style scoped>\n",
       "    .dataframe tbody tr th:only-of-type {\n",
       "        vertical-align: middle;\n",
       "    }\n",
       "\n",
       "    .dataframe tbody tr th {\n",
       "        vertical-align: top;\n",
       "    }\n",
       "\n",
       "    .dataframe thead th {\n",
       "        text-align: right;\n",
       "    }\n",
       "</style>\n",
       "<table border=\"1\" class=\"dataframe\">\n",
       "  <thead>\n",
       "    <tr style=\"text-align: right;\">\n",
       "      <th></th>\n",
       "      <th>1_Comp</th>\n",
       "      <th>2_Comp</th>\n",
       "      <th>3_Comp</th>\n",
       "      <th>4_Comp</th>\n",
       "      <th>5_Comp</th>\n",
       "      <th>6_Comp</th>\n",
       "      <th>7_Comp</th>\n",
       "    </tr>\n",
       "  </thead>\n",
       "  <tbody>\n",
       "    <tr>\n",
       "      <th>0</th>\n",
       "      <td>-3.024892</td>\n",
       "      <td>0.136256</td>\n",
       "      <td>0.090472</td>\n",
       "      <td>-0.250536</td>\n",
       "      <td>-1.070321</td>\n",
       "      <td>1.836201</td>\n",
       "      <td>1.258966</td>\n",
       "    </tr>\n",
       "    <tr>\n",
       "      <th>1</th>\n",
       "      <td>-2.952898</td>\n",
       "      <td>0.222956</td>\n",
       "      <td>-0.004622</td>\n",
       "      <td>-0.216618</td>\n",
       "      <td>-0.908643</td>\n",
       "      <td>1.495421</td>\n",
       "      <td>0.851361</td>\n",
       "    </tr>\n",
       "    <tr>\n",
       "      <th>2</th>\n",
       "      <td>-2.743541</td>\n",
       "      <td>0.233172</td>\n",
       "      <td>-0.336567</td>\n",
       "      <td>-0.284682</td>\n",
       "      <td>-0.772409</td>\n",
       "      <td>1.320002</td>\n",
       "      <td>0.676204</td>\n",
       "    </tr>\n",
       "    <tr>\n",
       "      <th>3</th>\n",
       "      <td>-2.400939</td>\n",
       "      <td>0.187613</td>\n",
       "      <td>-0.666919</td>\n",
       "      <td>-0.181724</td>\n",
       "      <td>-0.834403</td>\n",
       "      <td>1.485842</td>\n",
       "      <td>0.499866</td>\n",
       "    </tr>\n",
       "    <tr>\n",
       "      <th>4</th>\n",
       "      <td>-2.586658</td>\n",
       "      <td>0.089136</td>\n",
       "      <td>0.195643</td>\n",
       "      <td>-0.337650</td>\n",
       "      <td>-0.432370</td>\n",
       "      <td>1.406525</td>\n",
       "      <td>-0.125768</td>\n",
       "    </tr>\n",
       "  </tbody>\n",
       "</table>\n",
       "</div>"
      ],
      "text/plain": [
       "     1_Comp    2_Comp    3_Comp    4_Comp    5_Comp    6_Comp    7_Comp\n",
       "0 -3.024892  0.136256  0.090472 -0.250536 -1.070321  1.836201  1.258966\n",
       "1 -2.952898  0.222956 -0.004622 -0.216618 -0.908643  1.495421  0.851361\n",
       "2 -2.743541  0.233172 -0.336567 -0.284682 -0.772409  1.320002  0.676204\n",
       "3 -2.400939  0.187613 -0.666919 -0.181724 -0.834403  1.485842  0.499866\n",
       "4 -2.586658  0.089136  0.195643 -0.337650 -0.432370  1.406525 -0.125768"
      ]
     },
     "execution_count": 1612,
     "metadata": {},
     "output_type": "execute_result"
    }
   ],
   "source": [
    "comp_df.head()"
   ]
  },
  {
   "cell_type": "code",
   "execution_count": 1613,
   "metadata": {},
   "outputs": [
    {
     "data": {
      "text/plain": [
       "array([82.16324905, 46.58115326, 28.95570344, 21.61763198, 13.39072198,\n",
       "       11.04689764,  8.35423912])"
      ]
     },
     "execution_count": 1613,
     "metadata": {},
     "output_type": "execute_result"
    }
   ],
   "source": [
    "# Eigenvalues : The more containing info about data, the more Eigenvalues\n",
    "model.explained_variance_"
   ]
  },
  {
   "cell_type": "markdown",
   "metadata": {},
   "source": [
    "### Correlation Between Components"
   ]
  },
  {
   "cell_type": "code",
   "execution_count": 1614,
   "metadata": {},
   "outputs": [
    {
     "data": {
      "text/html": [
       "<div>\n",
       "<style scoped>\n",
       "    .dataframe tbody tr th:only-of-type {\n",
       "        vertical-align: middle;\n",
       "    }\n",
       "\n",
       "    .dataframe tbody tr th {\n",
       "        vertical-align: top;\n",
       "    }\n",
       "\n",
       "    .dataframe thead th {\n",
       "        text-align: right;\n",
       "    }\n",
       "</style>\n",
       "<table border=\"1\" class=\"dataframe\">\n",
       "  <thead>\n",
       "    <tr style=\"text-align: right;\">\n",
       "      <th></th>\n",
       "      <th>1_Comp</th>\n",
       "      <th>2_Comp</th>\n",
       "      <th>3_Comp</th>\n",
       "      <th>4_Comp</th>\n",
       "      <th>5_Comp</th>\n",
       "      <th>6_Comp</th>\n",
       "      <th>7_Comp</th>\n",
       "    </tr>\n",
       "  </thead>\n",
       "  <tbody>\n",
       "    <tr>\n",
       "      <th>1_Comp</th>\n",
       "      <td>1.0</td>\n",
       "      <td>-0.0</td>\n",
       "      <td>0.0</td>\n",
       "      <td>-0.0</td>\n",
       "      <td>-0.0</td>\n",
       "      <td>0.0</td>\n",
       "      <td>-0.0</td>\n",
       "    </tr>\n",
       "    <tr>\n",
       "      <th>2_Comp</th>\n",
       "      <td>-0.0</td>\n",
       "      <td>1.0</td>\n",
       "      <td>0.0</td>\n",
       "      <td>0.0</td>\n",
       "      <td>0.0</td>\n",
       "      <td>-0.0</td>\n",
       "      <td>-0.0</td>\n",
       "    </tr>\n",
       "    <tr>\n",
       "      <th>3_Comp</th>\n",
       "      <td>0.0</td>\n",
       "      <td>0.0</td>\n",
       "      <td>1.0</td>\n",
       "      <td>0.0</td>\n",
       "      <td>0.0</td>\n",
       "      <td>0.0</td>\n",
       "      <td>-0.0</td>\n",
       "    </tr>\n",
       "    <tr>\n",
       "      <th>4_Comp</th>\n",
       "      <td>-0.0</td>\n",
       "      <td>0.0</td>\n",
       "      <td>0.0</td>\n",
       "      <td>1.0</td>\n",
       "      <td>0.0</td>\n",
       "      <td>0.0</td>\n",
       "      <td>-0.0</td>\n",
       "    </tr>\n",
       "    <tr>\n",
       "      <th>5_Comp</th>\n",
       "      <td>-0.0</td>\n",
       "      <td>0.0</td>\n",
       "      <td>0.0</td>\n",
       "      <td>0.0</td>\n",
       "      <td>1.0</td>\n",
       "      <td>0.0</td>\n",
       "      <td>0.0</td>\n",
       "    </tr>\n",
       "    <tr>\n",
       "      <th>6_Comp</th>\n",
       "      <td>0.0</td>\n",
       "      <td>-0.0</td>\n",
       "      <td>0.0</td>\n",
       "      <td>0.0</td>\n",
       "      <td>0.0</td>\n",
       "      <td>1.0</td>\n",
       "      <td>-0.0</td>\n",
       "    </tr>\n",
       "    <tr>\n",
       "      <th>7_Comp</th>\n",
       "      <td>-0.0</td>\n",
       "      <td>-0.0</td>\n",
       "      <td>-0.0</td>\n",
       "      <td>-0.0</td>\n",
       "      <td>0.0</td>\n",
       "      <td>-0.0</td>\n",
       "      <td>1.0</td>\n",
       "    </tr>\n",
       "  </tbody>\n",
       "</table>\n",
       "</div>"
      ],
      "text/plain": [
       "        1_Comp  2_Comp  3_Comp  4_Comp  5_Comp  6_Comp  7_Comp\n",
       "1_Comp     1.0    -0.0     0.0    -0.0    -0.0     0.0    -0.0\n",
       "2_Comp    -0.0     1.0     0.0     0.0     0.0    -0.0    -0.0\n",
       "3_Comp     0.0     0.0     1.0     0.0     0.0     0.0    -0.0\n",
       "4_Comp    -0.0     0.0     0.0     1.0     0.0     0.0    -0.0\n",
       "5_Comp    -0.0     0.0     0.0     0.0     1.0     0.0     0.0\n",
       "6_Comp     0.0    -0.0     0.0     0.0     0.0     1.0    -0.0\n",
       "7_Comp    -0.0    -0.0    -0.0    -0.0     0.0    -0.0     1.0"
      ]
     },
     "execution_count": 1614,
     "metadata": {},
     "output_type": "execute_result"
    }
   ],
   "source": [
    "comp_df.corr().round()"
   ]
  },
  {
   "cell_type": "markdown",
   "metadata": {},
   "source": [
    "### K-Means Model"
   ]
  },
  {
   "cell_type": "markdown",
   "metadata": {},
   "source": [
    "### Hopkins"
   ]
  },
  {
   "cell_type": "code",
   "execution_count": 1615,
   "metadata": {},
   "outputs": [
    {
     "data": {
      "text/plain": [
       "0.04248725031826379"
      ]
     },
     "execution_count": 1615,
     "metadata": {},
     "output_type": "execute_result"
    }
   ],
   "source": [
    "from pyclustertend import hopkins\n",
    "hopkins(comp_df, len(comp_df))"
   ]
  },
  {
   "cell_type": "markdown",
   "metadata": {},
   "source": [
    "### Elbow & \"k\""
   ]
  },
  {
   "cell_type": "code",
   "execution_count": 1616,
   "metadata": {},
   "outputs": [],
   "source": [
    "from sklearn.cluster import KMeans\n",
    "ssd = []\n",
    "K = range(2,10)\n",
    "\n",
    "for k in K:\n",
    "    model = KMeans(n_clusters =k, random_state=42)\n",
    "    model.fit(comp_df)\n",
    "    ssd.append(model.inertia_)"
   ]
  },
  {
   "cell_type": "code",
   "execution_count": 1617,
   "metadata": {},
   "outputs": [
    {
     "data": {
      "image/png": "[encoded data removed]",
      "text/plain": [
       "<Figure size 720x288 with 1 Axes>"
      ]
     },
     "metadata": {},
     "output_type": "display_data"
    }
   ],
   "source": [
    "plt.figure(figsize=(10,4))\n",
    "plt.plot(K, ssd, \"bo-\")\n",
    "plt.xlabel(\"Different k values\")\n",
    "plt.ylabel(\"inertia-error\") \n",
    "plt.title(\"elbow method\");"
   ]
  },
  {
   "cell_type": "code",
   "execution_count": 1618,
   "metadata": {},
   "outputs": [],
   "source": [
    "# Best \"k\"=3 due to Elbow"
   ]
  },
  {
   "cell_type": "markdown",
   "metadata": {},
   "source": [
    "### Yellowbrick & \"k\""
   ]
  },
  {
   "cell_type": "code",
   "execution_count": 1619,
   "metadata": {},
   "outputs": [
    {
     "data": {
      "image/png": "[encoded data removed]",
      "text/plain": [
       "<Figure size 720x288 with 2 Axes>"
      ]
     },
     "metadata": {},
     "output_type": "display_data"
    }
   ],
   "source": [
    "from yellowbrick.cluster import KElbowVisualizer\n",
    "plt.figure(figsize=(10,4))\n",
    "model_ = KMeans(random_state=42)\n",
    "visualizer = KElbowVisualizer(model_, k=(2,9))\n",
    "visualizer.fit(comp_df)    \n",
    "visualizer.show();"
   ]
  },
  {
   "cell_type": "code",
   "execution_count": 1620,
   "metadata": {},
   "outputs": [],
   "source": [
    "# Best \"k\"=4 due to Elbow"
   ]
  },
  {
   "cell_type": "markdown",
   "metadata": {},
   "source": [
    "### Silhouette & \"k\""
   ]
  },
  {
   "cell_type": "code",
   "execution_count": 1621,
   "metadata": {},
   "outputs": [
    {
     "name": "stdout",
     "output_type": "stream",
     "text": [
      "For n_clusters=2, the silhouette score is 0.7366052794658696\n",
      "For n_clusters=3, the silhouette score is 0.7378512295918466\n",
      "For n_clusters=4, the silhouette score is 0.3944804251983952\n",
      "For n_clusters=5, the silhouette score is 0.4149407667742459\n",
      "For n_clusters=6, the silhouette score is 0.4332376016517376\n",
      "For n_clusters=7, the silhouette score is 0.4407871049445727\n",
      "For n_clusters=8, the silhouette score is 0.3890897449121405\n"
     ]
    }
   ],
   "source": [
    "from sklearn.metrics import silhouette_score\n",
    "range_n_clusters = range(2,9)\n",
    "for num_clusters in range_n_clusters:\n",
    "    kmeans = KMeans(n_clusters=num_clusters, random_state=42)\n",
    "    kmeans.fit(comp_df)\n",
    "    cluster_labels = kmeans.labels_\n",
    "    silhouette_avg = silhouette_score(comp_df, cluster_labels)\n",
    "    print(f\"For n_clusters={num_clusters}, the silhouette score is {silhouette_avg}\")"
   ]
  },
  {
   "cell_type": "code",
   "execution_count": 1622,
   "metadata": {},
   "outputs": [],
   "source": [
    "# Best \"k\"=3 due to Silhouette"
   ]
  },
  {
   "cell_type": "markdown",
   "metadata": {},
   "source": [
    "### K-Means Model"
   ]
  },
  {
   "cell_type": "code",
   "execution_count": 1623,
   "metadata": {},
   "outputs": [
    {
     "data": {
      "text/plain": [
       "array([0, 0, 0, 0, 0, 0, 0, 0, 0, 0, 0, 0, 0, 0, 0, 0, 0, 0, 0, 0, 0, 0,\n",
       "       0, 0, 0, 0, 0, 0, 0, 0, 0, 0, 0, 0, 0, 0, 0, 0, 0, 0, 0, 0, 0, 0,\n",
       "       0, 0, 0, 0, 0, 0, 0, 0, 0, 0, 0, 0, 0, 0, 0, 0, 0, 0, 0, 0, 0, 0,\n",
       "       0, 0, 0, 0, 0, 0, 0, 0, 0, 0, 0, 0, 0, 0, 0, 0, 0, 0, 0, 0, 0, 0,\n",
       "       0, 0, 0, 0, 0, 0, 0, 0, 0, 0, 0, 0, 0, 0, 0, 0, 0, 0, 0, 0, 0, 0,\n",
       "       0, 0, 0, 0, 0, 0, 0, 0, 0, 0, 0, 0, 0, 0, 0, 0, 0, 0, 0, 0, 0, 0,\n",
       "       0, 0, 0, 0, 0, 0, 0, 0, 0, 0, 0, 0, 0, 0, 0, 0, 0, 0, 0, 0, 0, 0,\n",
       "       0, 0, 0, 0, 0, 0, 0, 0, 0, 0, 0, 0, 0, 0, 0, 0, 0, 0, 0, 0, 0, 0,\n",
       "       0, 0, 0, 0, 0, 0, 0, 0, 0, 0, 0, 0, 0, 0, 0, 0, 0, 0, 0, 0, 0, 0,\n",
       "       0, 0, 0, 0, 0, 0, 0, 0, 0, 0, 0, 0, 0, 0, 0, 0, 0, 0, 0, 0, 0, 0,\n",
       "       0, 0, 0, 0, 0, 0, 0, 0, 0, 0, 0, 0, 0, 0, 0, 0, 0, 0, 0, 0, 0, 0,\n",
       "       0, 0, 0, 0, 0, 0, 0, 0, 0, 0, 0, 0, 0, 0, 0, 0, 0, 0, 0, 0, 0, 0,\n",
       "       0, 0, 0, 0, 0, 0, 0, 0, 0, 0, 0, 0, 0, 0, 0, 0, 1, 1, 1, 1, 1, 1,\n",
       "       1, 1, 1, 0, 1, 1, 1, 1, 1, 1, 1, 1, 1, 0, 0, 0, 0, 0, 0, 0, 0, 0,\n",
       "       0, 0, 0, 0, 0, 0, 0, 0, 0, 0, 0, 0, 0, 0, 0, 0, 0, 0, 0, 0, 0, 0,\n",
       "       0, 0, 0, 0, 0, 0, 0, 0, 0, 0, 0, 0, 0, 0, 0, 0, 0, 0, 0, 0, 0, 0,\n",
       "       0, 0, 0, 0, 0, 0, 0, 0, 0, 0, 0, 0, 0, 0, 0, 0, 0, 0, 0, 0, 0, 0,\n",
       "       0, 0, 0, 0, 0, 0, 0, 0, 0, 0, 0, 0, 0, 0, 0, 0, 0, 0, 0, 0, 0, 0,\n",
       "       0, 0, 0, 0, 0, 0, 0, 0, 0, 0, 0, 0, 0, 0, 0, 0, 0, 0, 0, 0, 0, 0,\n",
       "       0, 0, 0, 0, 0, 0, 0, 0, 0, 0, 0, 0, 0, 0, 0, 0, 0, 0, 0, 0, 0, 0,\n",
       "       0, 0, 0, 0, 0, 0, 0, 0, 0, 0, 0, 0, 0, 0, 0, 0, 0, 0, 0, 0, 0, 0,\n",
       "       0, 0, 0, 0, 0, 0, 0, 0, 2, 2, 2, 2, 2, 2, 2, 2, 0, 0, 0, 0, 0, 0,\n",
       "       0, 0, 0, 0, 0, 0])"
      ]
     },
     "execution_count": 1623,
     "metadata": {},
     "output_type": "execute_result"
    }
   ],
   "source": [
    "model = KMeans(n_clusters=3, random_state=42)\n",
    "labels = model.fit_predict(comp_df)\n",
    "labels"
   ]
  },
  {
   "cell_type": "code",
   "execution_count": 1624,
   "metadata": {},
   "outputs": [
    {
     "data": {
      "text/html": [
       "<div>\n",
       "<style scoped>\n",
       "    .dataframe tbody tr th:only-of-type {\n",
       "        vertical-align: middle;\n",
       "    }\n",
       "\n",
       "    .dataframe tbody tr th {\n",
       "        vertical-align: top;\n",
       "    }\n",
       "\n",
       "    .dataframe thead th {\n",
       "        text-align: right;\n",
       "    }\n",
       "</style>\n",
       "<table border=\"1\" class=\"dataframe\">\n",
       "  <thead>\n",
       "    <tr style=\"text-align: right;\">\n",
       "      <th></th>\n",
       "      <th>1_Comp</th>\n",
       "      <th>2_Comp</th>\n",
       "      <th>3_Comp</th>\n",
       "      <th>4_Comp</th>\n",
       "      <th>5_Comp</th>\n",
       "      <th>6_Comp</th>\n",
       "      <th>7_Comp</th>\n",
       "    </tr>\n",
       "  </thead>\n",
       "  <tbody>\n",
       "    <tr>\n",
       "      <th>0</th>\n",
       "      <td>-3.024892</td>\n",
       "      <td>0.136256</td>\n",
       "      <td>0.090472</td>\n",
       "      <td>-0.250536</td>\n",
       "      <td>-1.070321</td>\n",
       "      <td>1.836201</td>\n",
       "      <td>1.258966</td>\n",
       "    </tr>\n",
       "    <tr>\n",
       "      <th>1</th>\n",
       "      <td>-2.952898</td>\n",
       "      <td>0.222956</td>\n",
       "      <td>-0.004622</td>\n",
       "      <td>-0.216618</td>\n",
       "      <td>-0.908643</td>\n",
       "      <td>1.495421</td>\n",
       "      <td>0.851361</td>\n",
       "    </tr>\n",
       "    <tr>\n",
       "      <th>2</th>\n",
       "      <td>-2.743541</td>\n",
       "      <td>0.233172</td>\n",
       "      <td>-0.336567</td>\n",
       "      <td>-0.284682</td>\n",
       "      <td>-0.772409</td>\n",
       "      <td>1.320002</td>\n",
       "      <td>0.676204</td>\n",
       "    </tr>\n",
       "    <tr>\n",
       "      <th>3</th>\n",
       "      <td>-2.400939</td>\n",
       "      <td>0.187613</td>\n",
       "      <td>-0.666919</td>\n",
       "      <td>-0.181724</td>\n",
       "      <td>-0.834403</td>\n",
       "      <td>1.485842</td>\n",
       "      <td>0.499866</td>\n",
       "    </tr>\n",
       "    <tr>\n",
       "      <th>4</th>\n",
       "      <td>-2.586658</td>\n",
       "      <td>0.089136</td>\n",
       "      <td>0.195643</td>\n",
       "      <td>-0.337650</td>\n",
       "      <td>-0.432370</td>\n",
       "      <td>1.406525</td>\n",
       "      <td>-0.125768</td>\n",
       "    </tr>\n",
       "  </tbody>\n",
       "</table>\n",
       "</div>"
      ],
      "text/plain": [
       "     1_Comp    2_Comp    3_Comp    4_Comp    5_Comp    6_Comp    7_Comp\n",
       "0 -3.024892  0.136256  0.090472 -0.250536 -1.070321  1.836201  1.258966\n",
       "1 -2.952898  0.222956 -0.004622 -0.216618 -0.908643  1.495421  0.851361\n",
       "2 -2.743541  0.233172 -0.336567 -0.284682 -0.772409  1.320002  0.676204\n",
       "3 -2.400939  0.187613 -0.666919 -0.181724 -0.834403  1.485842  0.499866\n",
       "4 -2.586658  0.089136  0.195643 -0.337650 -0.432370  1.406525 -0.125768"
      ]
     },
     "execution_count": 1624,
     "metadata": {},
     "output_type": "execute_result"
    }
   ],
   "source": [
    "comp_df.head()"
   ]
  },
  {
   "cell_type": "code",
   "execution_count": 1625,
   "metadata": {},
   "outputs": [],
   "source": [
    "comp_df.insert(0, \"COUNTRY\", df[\"COUNTRY\"])"
   ]
  },
  {
   "cell_type": "code",
   "execution_count": 1626,
   "metadata": {},
   "outputs": [
    {
     "data": {
      "text/html": [
       "<div>\n",
       "<style scoped>\n",
       "    .dataframe tbody tr th:only-of-type {\n",
       "        vertical-align: middle;\n",
       "    }\n",
       "\n",
       "    .dataframe tbody tr th {\n",
       "        vertical-align: top;\n",
       "    }\n",
       "\n",
       "    .dataframe thead th {\n",
       "        text-align: right;\n",
       "    }\n",
       "</style>\n",
       "<table border=\"1\" class=\"dataframe\">\n",
       "  <thead>\n",
       "    <tr style=\"text-align: right;\">\n",
       "      <th></th>\n",
       "      <th>COUNTRY</th>\n",
       "      <th>Class</th>\n",
       "      <th>1_Comp</th>\n",
       "      <th>2_Comp</th>\n",
       "      <th>3_Comp</th>\n",
       "      <th>4_Comp</th>\n",
       "      <th>5_Comp</th>\n",
       "      <th>6_Comp</th>\n",
       "      <th>7_Comp</th>\n",
       "    </tr>\n",
       "  </thead>\n",
       "  <tbody>\n",
       "    <tr>\n",
       "      <th>0</th>\n",
       "      <td>ARG</td>\n",
       "      <td>0</td>\n",
       "      <td>-3.024892</td>\n",
       "      <td>0.136256</td>\n",
       "      <td>0.090472</td>\n",
       "      <td>-0.250536</td>\n",
       "      <td>-1.070321</td>\n",
       "      <td>1.836201</td>\n",
       "      <td>1.258966</td>\n",
       "    </tr>\n",
       "    <tr>\n",
       "      <th>1</th>\n",
       "      <td>ARG</td>\n",
       "      <td>0</td>\n",
       "      <td>-2.952898</td>\n",
       "      <td>0.222956</td>\n",
       "      <td>-0.004622</td>\n",
       "      <td>-0.216618</td>\n",
       "      <td>-0.908643</td>\n",
       "      <td>1.495421</td>\n",
       "      <td>0.851361</td>\n",
       "    </tr>\n",
       "    <tr>\n",
       "      <th>2</th>\n",
       "      <td>ARG</td>\n",
       "      <td>0</td>\n",
       "      <td>-2.743541</td>\n",
       "      <td>0.233172</td>\n",
       "      <td>-0.336567</td>\n",
       "      <td>-0.284682</td>\n",
       "      <td>-0.772409</td>\n",
       "      <td>1.320002</td>\n",
       "      <td>0.676204</td>\n",
       "    </tr>\n",
       "    <tr>\n",
       "      <th>3</th>\n",
       "      <td>ARG</td>\n",
       "      <td>0</td>\n",
       "      <td>-2.400939</td>\n",
       "      <td>0.187613</td>\n",
       "      <td>-0.666919</td>\n",
       "      <td>-0.181724</td>\n",
       "      <td>-0.834403</td>\n",
       "      <td>1.485842</td>\n",
       "      <td>0.499866</td>\n",
       "    </tr>\n",
       "    <tr>\n",
       "      <th>4</th>\n",
       "      <td>ARG</td>\n",
       "      <td>0</td>\n",
       "      <td>-2.586658</td>\n",
       "      <td>0.089136</td>\n",
       "      <td>0.195643</td>\n",
       "      <td>-0.337650</td>\n",
       "      <td>-0.432370</td>\n",
       "      <td>1.406525</td>\n",
       "      <td>-0.125768</td>\n",
       "    </tr>\n",
       "  </tbody>\n",
       "</table>\n",
       "</div>"
      ],
      "text/plain": [
       "  COUNTRY  Class    1_Comp    2_Comp    3_Comp    4_Comp    5_Comp    6_Comp  \\\n",
       "0     ARG      0 -3.024892  0.136256  0.090472 -0.250536 -1.070321  1.836201   \n",
       "1     ARG      0 -2.952898  0.222956 -0.004622 -0.216618 -0.908643  1.495421   \n",
       "2     ARG      0 -2.743541  0.233172 -0.336567 -0.284682 -0.772409  1.320002   \n",
       "3     ARG      0 -2.400939  0.187613 -0.666919 -0.181724 -0.834403  1.485842   \n",
       "4     ARG      0 -2.586658  0.089136  0.195643 -0.337650 -0.432370  1.406525   \n",
       "\n",
       "     7_Comp  \n",
       "0  1.258966  \n",
       "1  0.851361  \n",
       "2  0.676204  \n",
       "3  0.499866  \n",
       "4 -0.125768  "
      ]
     },
     "execution_count": 1626,
     "metadata": {},
     "output_type": "execute_result"
    }
   ],
   "source": [
    "comp_df.insert(1, \"Class\", labels)\n",
    "comp_df.head()"
   ]
  },
  {
   "cell_type": "code",
   "execution_count": 1627,
   "metadata": {},
   "outputs": [
    {
     "data": {
      "text/plain": [
       "array([0, 1, 2])"
      ]
     },
     "execution_count": 1627,
     "metadata": {},
     "output_type": "execute_result"
    }
   ],
   "source": [
    "comp_df.Class.unique()"
   ]
  },
  {
   "cell_type": "markdown",
   "metadata": {},
   "source": [
    "### Visualization Clusters"
   ]
  },
  {
   "cell_type": "code",
   "execution_count": 1628,
   "metadata": {},
   "outputs": [
    {
     "data": {
      "text/plain": [
       "array(['ARG', 'AUS', 'AUT', 'BEL', 'BRA', 'CAN', 'CHE', 'CHL', 'CHN',\n",
       "       'COL', 'CRI', 'CZE', 'DEU', 'DNK', 'EGY', 'ESP', 'EST', 'FIN',\n",
       "       'FRA', 'GBR', 'GRC', 'HUN', 'IDN', 'IND', 'IRL', 'ISL', 'ISR',\n",
       "       'ITA', 'JPN', 'KOR', 'LTU', 'LUX', 'LVA', 'MEX', 'MYS', 'NLD',\n",
       "       'NOR', 'NZL', 'PER', 'POL', 'PRT', 'RUS', 'SVK', 'SVN', 'SWE',\n",
       "       'THA', 'TUR', 'USA', 'ZAF'], dtype=object)"
      ]
     },
     "execution_count": 1628,
     "metadata": {},
     "output_type": "execute_result"
    }
   ],
   "source": [
    "comp_df[comp_df[\"Class\"]==0].COUNTRY.unique()"
   ]
  },
  {
   "cell_type": "code",
   "execution_count": 1629,
   "metadata": {},
   "outputs": [
    {
     "data": {
      "text/plain": [
       "array(['JPN', 'KOR'], dtype=object)"
      ]
     },
     "execution_count": 1629,
     "metadata": {},
     "output_type": "execute_result"
    }
   ],
   "source": [
    "comp_df[comp_df[\"Class\"]==1].COUNTRY.unique()"
   ]
  },
  {
   "cell_type": "code",
   "execution_count": 1630,
   "metadata": {},
   "outputs": [
    {
     "data": {
      "text/plain": [
       "array(['USA'], dtype=object)"
      ]
     },
     "execution_count": 1630,
     "metadata": {},
     "output_type": "execute_result"
    }
   ],
   "source": [
    "comp_df[comp_df[\"Class\"]==2].COUNTRY.unique()"
   ]
  },
  {
   "cell_type": "code",
   "execution_count": 1631,
   "metadata": {},
   "outputs": [],
   "source": [
    "comp_df[(comp_df[\"COUNTRY\"]==\"USA\") & (comp_df[\"Class\"]==0)] = comp_df[(comp_df[\"COUNTRY\"]==\"USA\") & (comp_df[\"Class\"]==0)].replace(0, 2)\n",
    "\n",
    "comp_df[(comp_df[\"COUNTRY\"]==\"JPN\") & (comp_df[\"Class\"]==0)] = comp_df[(comp_df[\"COUNTRY\"]==\"JPN\") & (comp_df[\"Class\"]==0)].replace(0, 1)\n",
    "comp_df[(comp_df[\"COUNTRY\"]==\"KOR\") & (comp_df[\"Class\"]==0)] = comp_df[(comp_df[\"COUNTRY\"]==\"KOR\") & (comp_df[\"Class\"]==0)].replace(0, 1)"
   ]
  },
  {
   "cell_type": "code",
   "execution_count": 1632,
   "metadata": {},
   "outputs": [
    {
     "data": {
      "text/plain": [
       "array(['ARG', 'AUS', 'AUT', 'BEL', 'BRA', 'CAN', 'CHE', 'CHL', 'CHN',\n",
       "       'COL', 'CRI', 'CZE', 'DEU', 'DNK', 'EGY', 'ESP', 'EST', 'FIN',\n",
       "       'FRA', 'GBR', 'GRC', 'HUN', 'IDN', 'IND', 'IRL', 'ISL', 'ISR',\n",
       "       'ITA', 'LTU', 'LUX', 'LVA', 'MEX', 'MYS', 'NLD', 'NOR', 'NZL',\n",
       "       'PER', 'POL', 'PRT', 'RUS', 'SVK', 'SVN', 'SWE', 'THA', 'TUR',\n",
       "       'ZAF'], dtype=object)"
      ]
     },
     "execution_count": 1632,
     "metadata": {},
     "output_type": "execute_result"
    }
   ],
   "source": [
    "comp_df[comp_df[\"Class\"]==0].COUNTRY.unique()"
   ]
  },
  {
   "cell_type": "code",
   "execution_count": 1633,
   "metadata": {},
   "outputs": [
    {
     "data": {
      "text/plain": [
       "array(['JPN', 'KOR'], dtype=object)"
      ]
     },
     "execution_count": 1633,
     "metadata": {},
     "output_type": "execute_result"
    }
   ],
   "source": [
    "comp_df[comp_df[\"Class\"]==1].COUNTRY.unique()"
   ]
  },
  {
   "cell_type": "code",
   "execution_count": 1634,
   "metadata": {},
   "outputs": [
    {
     "data": {
      "text/plain": [
       "array(['USA'], dtype=object)"
      ]
     },
     "execution_count": 1634,
     "metadata": {},
     "output_type": "execute_result"
    }
   ],
   "source": [
    "comp_df[comp_df[\"Class\"]==2].COUNTRY.unique()"
   ]
  },
  {
   "cell_type": "code",
   "execution_count": 1635,
   "metadata": {},
   "outputs": [
    {
     "data": {
      "text/html": [
       "<div>\n",
       "<style scoped>\n",
       "    .dataframe tbody tr th:only-of-type {\n",
       "        vertical-align: middle;\n",
       "    }\n",
       "\n",
       "    .dataframe tbody tr th {\n",
       "        vertical-align: top;\n",
       "    }\n",
       "\n",
       "    .dataframe thead th {\n",
       "        text-align: right;\n",
       "    }\n",
       "</style>\n",
       "<table border=\"1\" class=\"dataframe\">\n",
       "  <thead>\n",
       "    <tr style=\"text-align: right;\">\n",
       "      <th></th>\n",
       "      <th>COUNTRY</th>\n",
       "      <th>Class</th>\n",
       "      <th>1_Comp</th>\n",
       "      <th>2_Comp</th>\n",
       "      <th>3_Comp</th>\n",
       "      <th>4_Comp</th>\n",
       "      <th>5_Comp</th>\n",
       "      <th>6_Comp</th>\n",
       "      <th>7_Comp</th>\n",
       "    </tr>\n",
       "  </thead>\n",
       "  <tbody>\n",
       "    <tr>\n",
       "      <th>0</th>\n",
       "      <td>ARG</td>\n",
       "      <td>0</td>\n",
       "      <td>-3.024892</td>\n",
       "      <td>0.136256</td>\n",
       "      <td>0.090472</td>\n",
       "      <td>-0.250536</td>\n",
       "      <td>-1.070321</td>\n",
       "      <td>1.836201</td>\n",
       "      <td>1.258966</td>\n",
       "    </tr>\n",
       "  </tbody>\n",
       "</table>\n",
       "</div>"
      ],
      "text/plain": [
       "  COUNTRY  Class    1_Comp    2_Comp    3_Comp    4_Comp    5_Comp    6_Comp  \\\n",
       "0     ARG      0 -3.024892  0.136256  0.090472 -0.250536 -1.070321  1.836201   \n",
       "\n",
       "     7_Comp  \n",
       "0  1.258966  "
      ]
     },
     "execution_count": 1635,
     "metadata": {},
     "output_type": "execute_result"
    }
   ],
   "source": [
    "comp_df.head(1)"
   ]
  },
  {
   "cell_type": "code",
   "execution_count": 1636,
   "metadata": {},
   "outputs": [
    {
     "data": {
      "text/html": [
       "<div>\n",
       "<style scoped>\n",
       "    .dataframe tbody tr th:only-of-type {\n",
       "        vertical-align: middle;\n",
       "    }\n",
       "\n",
       "    .dataframe tbody tr th {\n",
       "        vertical-align: top;\n",
       "    }\n",
       "\n",
       "    .dataframe thead th {\n",
       "        text-align: right;\n",
       "    }\n",
       "</style>\n",
       "<table border=\"1\" class=\"dataframe\">\n",
       "  <thead>\n",
       "    <tr style=\"text-align: right;\">\n",
       "      <th></th>\n",
       "      <th>1_Comp</th>\n",
       "      <th>2_Comp</th>\n",
       "      <th>3_Comp</th>\n",
       "      <th>4_Comp</th>\n",
       "      <th>5_Comp</th>\n",
       "      <th>6_Comp</th>\n",
       "      <th>7_Comp</th>\n",
       "    </tr>\n",
       "    <tr>\n",
       "      <th>COUNTRY</th>\n",
       "      <th></th>\n",
       "      <th></th>\n",
       "      <th></th>\n",
       "      <th></th>\n",
       "      <th></th>\n",
       "      <th></th>\n",
       "      <th></th>\n",
       "    </tr>\n",
       "  </thead>\n",
       "  <tbody>\n",
       "    <tr>\n",
       "      <th>ARG</th>\n",
       "      <td>-3.024892</td>\n",
       "      <td>0.136256</td>\n",
       "      <td>0.090472</td>\n",
       "      <td>-0.250536</td>\n",
       "      <td>-1.070321</td>\n",
       "      <td>1.836201</td>\n",
       "      <td>1.258966</td>\n",
       "    </tr>\n",
       "    <tr>\n",
       "      <th>ARG</th>\n",
       "      <td>-2.952898</td>\n",
       "      <td>0.222956</td>\n",
       "      <td>-0.004622</td>\n",
       "      <td>-0.216618</td>\n",
       "      <td>-0.908643</td>\n",
       "      <td>1.495421</td>\n",
       "      <td>0.851361</td>\n",
       "    </tr>\n",
       "    <tr>\n",
       "      <th>ARG</th>\n",
       "      <td>-2.743541</td>\n",
       "      <td>0.233172</td>\n",
       "      <td>-0.336567</td>\n",
       "      <td>-0.284682</td>\n",
       "      <td>-0.772409</td>\n",
       "      <td>1.320002</td>\n",
       "      <td>0.676204</td>\n",
       "    </tr>\n",
       "    <tr>\n",
       "      <th>ARG</th>\n",
       "      <td>-2.400939</td>\n",
       "      <td>0.187613</td>\n",
       "      <td>-0.666919</td>\n",
       "      <td>-0.181724</td>\n",
       "      <td>-0.834403</td>\n",
       "      <td>1.485842</td>\n",
       "      <td>0.499866</td>\n",
       "    </tr>\n",
       "    <tr>\n",
       "      <th>ARG</th>\n",
       "      <td>-2.586658</td>\n",
       "      <td>0.089136</td>\n",
       "      <td>0.195643</td>\n",
       "      <td>-0.337650</td>\n",
       "      <td>-0.432370</td>\n",
       "      <td>1.406525</td>\n",
       "      <td>-0.125768</td>\n",
       "    </tr>\n",
       "  </tbody>\n",
       "</table>\n",
       "</div>"
      ],
      "text/plain": [
       "           1_Comp    2_Comp    3_Comp    4_Comp    5_Comp    6_Comp    7_Comp\n",
       "COUNTRY                                                                      \n",
       "ARG     -3.024892  0.136256  0.090472 -0.250536 -1.070321  1.836201  1.258966\n",
       "ARG     -2.952898  0.222956 -0.004622 -0.216618 -0.908643  1.495421  0.851361\n",
       "ARG     -2.743541  0.233172 -0.336567 -0.284682 -0.772409  1.320002  0.676204\n",
       "ARG     -2.400939  0.187613 -0.666919 -0.181724 -0.834403  1.485842  0.499866\n",
       "ARG     -2.586658  0.089136  0.195643 -0.337650 -0.432370  1.406525 -0.125768"
      ]
     },
     "execution_count": 1636,
     "metadata": {},
     "output_type": "execute_result"
    }
   ],
   "source": [
    "comp_df = comp_df.set_index(\"COUNTRY\")\n",
    "comp_df = comp_df.drop([\"Class\"], axis=1)\n",
    "comp_df.head()"
   ]
  },
  {
   "cell_type": "code",
   "execution_count": 1637,
   "metadata": {},
   "outputs": [
    {
     "data": {
      "text/plain": [
       "(490, 7)"
      ]
     },
     "execution_count": 1637,
     "metadata": {},
     "output_type": "execute_result"
    }
   ],
   "source": [
    "comp_df.shape"
   ]
  },
  {
   "cell_type": "code",
   "execution_count": 1638,
   "metadata": {},
   "outputs": [
    {
     "data": {
      "image/png": "[encoded data removed]",
      "text/plain": [
       "<Figure size 1440x2880 with 7 Axes>"
      ]
     },
     "metadata": {},
     "output_type": "display_data"
    }
   ],
   "source": [
    "fig, ax = plt.subplots(nrows=7, ncols=1, figsize=(20,40), sharey=False, sharex=False)\n",
    "\n",
    "for i in range(7):       \n",
    "    sns.lineplot(data=comp_df.iloc[:,i], ax=ax[i], palette=\"muted\")\n",
    "    ax[i].set_xlabel(\"Countries\")\n",
    "    ax[i].set_ylabel(comp_df.columns[i])\n",
    "\n",
    "plt.tight_layout();"
   ]
  },
  {
   "cell_type": "markdown",
   "metadata": {},
   "source": [
    "### Composition Selection"
   ]
  },
  {
   "cell_type": "code",
   "execution_count": 1639,
   "metadata": {},
   "outputs": [
    {
     "data": {
      "text/html": [
       "<div>\n",
       "<style scoped>\n",
       "    .dataframe tbody tr th:only-of-type {\n",
       "        vertical-align: middle;\n",
       "    }\n",
       "\n",
       "    .dataframe tbody tr th {\n",
       "        vertical-align: top;\n",
       "    }\n",
       "\n",
       "    .dataframe thead th {\n",
       "        text-align: right;\n",
       "    }\n",
       "</style>\n",
       "<table border=\"1\" class=\"dataframe\">\n",
       "  <thead>\n",
       "    <tr style=\"text-align: right;\">\n",
       "      <th></th>\n",
       "      <th>1_Comp</th>\n",
       "      <th>2_Comp</th>\n",
       "      <th>3_Comp</th>\n",
       "      <th>4_Comp</th>\n",
       "      <th>5_Comp</th>\n",
       "      <th>6_Comp</th>\n",
       "      <th>7_Comp</th>\n",
       "    </tr>\n",
       "    <tr>\n",
       "      <th>COUNTRY</th>\n",
       "      <th></th>\n",
       "      <th></th>\n",
       "      <th></th>\n",
       "      <th></th>\n",
       "      <th></th>\n",
       "      <th></th>\n",
       "      <th></th>\n",
       "    </tr>\n",
       "  </thead>\n",
       "  <tbody>\n",
       "    <tr>\n",
       "      <th>ARG</th>\n",
       "      <td>-3.024892</td>\n",
       "      <td>0.136256</td>\n",
       "      <td>0.090472</td>\n",
       "      <td>-0.250536</td>\n",
       "      <td>-1.070321</td>\n",
       "      <td>1.836201</td>\n",
       "      <td>1.258966</td>\n",
       "    </tr>\n",
       "  </tbody>\n",
       "</table>\n",
       "</div>"
      ],
      "text/plain": [
       "           1_Comp    2_Comp    3_Comp    4_Comp    5_Comp    6_Comp    7_Comp\n",
       "COUNTRY                                                                      \n",
       "ARG     -3.024892  0.136256  0.090472 -0.250536 -1.070321  1.836201  1.258966"
      ]
     },
     "execution_count": 1639,
     "metadata": {},
     "output_type": "execute_result"
    }
   ],
   "source": [
    "comp_df.head(1)"
   ]
  },
  {
   "cell_type": "code",
   "execution_count": 1640,
   "metadata": {},
   "outputs": [],
   "source": [
    "comp_df = comp_df.reset_index()"
   ]
  },
  {
   "cell_type": "code",
   "execution_count": 1641,
   "metadata": {},
   "outputs": [
    {
     "data": {
      "text/html": [
       "<div>\n",
       "<style scoped>\n",
       "    .dataframe tbody tr th:only-of-type {\n",
       "        vertical-align: middle;\n",
       "    }\n",
       "\n",
       "    .dataframe tbody tr th {\n",
       "        vertical-align: top;\n",
       "    }\n",
       "\n",
       "    .dataframe thead th {\n",
       "        text-align: right;\n",
       "    }\n",
       "</style>\n",
       "<table border=\"1\" class=\"dataframe\">\n",
       "  <thead>\n",
       "    <tr style=\"text-align: right;\">\n",
       "      <th></th>\n",
       "      <th>COUNTRY</th>\n",
       "      <th>1_Comp</th>\n",
       "      <th>2_Comp</th>\n",
       "      <th>3_Comp</th>\n",
       "      <th>4_Comp</th>\n",
       "      <th>5_Comp</th>\n",
       "      <th>6_Comp</th>\n",
       "      <th>7_Comp</th>\n",
       "    </tr>\n",
       "  </thead>\n",
       "  <tbody>\n",
       "    <tr>\n",
       "      <th>0</th>\n",
       "      <td>ARG</td>\n",
       "      <td>-3.024892</td>\n",
       "      <td>0.136256</td>\n",
       "      <td>0.090472</td>\n",
       "      <td>-0.250536</td>\n",
       "      <td>-1.070321</td>\n",
       "      <td>1.836201</td>\n",
       "      <td>1.258966</td>\n",
       "    </tr>\n",
       "  </tbody>\n",
       "</table>\n",
       "</div>"
      ],
      "text/plain": [
       "  COUNTRY    1_Comp    2_Comp    3_Comp    4_Comp    5_Comp    6_Comp  \\\n",
       "0     ARG -3.024892  0.136256  0.090472 -0.250536 -1.070321  1.836201   \n",
       "\n",
       "     7_Comp  \n",
       "0  1.258966  "
      ]
     },
     "execution_count": 1641,
     "metadata": {},
     "output_type": "execute_result"
    }
   ],
   "source": [
    "comp_df.head(1)"
   ]
  },
  {
   "cell_type": "code",
   "execution_count": 1642,
   "metadata": {},
   "outputs": [
    {
     "data": {
      "text/html": [
       "<div>\n",
       "<style scoped>\n",
       "    .dataframe tbody tr th:only-of-type {\n",
       "        vertical-align: middle;\n",
       "    }\n",
       "\n",
       "    .dataframe tbody tr th {\n",
       "        vertical-align: top;\n",
       "    }\n",
       "\n",
       "    .dataframe thead th {\n",
       "        text-align: right;\n",
       "    }\n",
       "</style>\n",
       "<table border=\"1\" class=\"dataframe\">\n",
       "  <thead>\n",
       "    <tr style=\"text-align: right;\">\n",
       "      <th></th>\n",
       "      <th>COUNTRY</th>\n",
       "      <th>1_Comp</th>\n",
       "      <th>2_Comp</th>\n",
       "      <th>3_Comp</th>\n",
       "      <th>4_Comp</th>\n",
       "      <th>5_Comp</th>\n",
       "      <th>6_Comp</th>\n",
       "      <th>7_Comp</th>\n",
       "      <th>Class</th>\n",
       "    </tr>\n",
       "  </thead>\n",
       "  <tbody>\n",
       "    <tr>\n",
       "      <th>0</th>\n",
       "      <td>ARG</td>\n",
       "      <td>-3.024892</td>\n",
       "      <td>0.136256</td>\n",
       "      <td>0.090472</td>\n",
       "      <td>-0.250536</td>\n",
       "      <td>-1.070321</td>\n",
       "      <td>1.836201</td>\n",
       "      <td>1.258966</td>\n",
       "      <td>0</td>\n",
       "    </tr>\n",
       "    <tr>\n",
       "      <th>1</th>\n",
       "      <td>ARG</td>\n",
       "      <td>-2.952898</td>\n",
       "      <td>0.222956</td>\n",
       "      <td>-0.004622</td>\n",
       "      <td>-0.216618</td>\n",
       "      <td>-0.908643</td>\n",
       "      <td>1.495421</td>\n",
       "      <td>0.851361</td>\n",
       "      <td>0</td>\n",
       "    </tr>\n",
       "    <tr>\n",
       "      <th>2</th>\n",
       "      <td>ARG</td>\n",
       "      <td>-2.743541</td>\n",
       "      <td>0.233172</td>\n",
       "      <td>-0.336567</td>\n",
       "      <td>-0.284682</td>\n",
       "      <td>-0.772409</td>\n",
       "      <td>1.320002</td>\n",
       "      <td>0.676204</td>\n",
       "      <td>0</td>\n",
       "    </tr>\n",
       "    <tr>\n",
       "      <th>3</th>\n",
       "      <td>ARG</td>\n",
       "      <td>-2.400939</td>\n",
       "      <td>0.187613</td>\n",
       "      <td>-0.666919</td>\n",
       "      <td>-0.181724</td>\n",
       "      <td>-0.834403</td>\n",
       "      <td>1.485842</td>\n",
       "      <td>0.499866</td>\n",
       "      <td>0</td>\n",
       "    </tr>\n",
       "    <tr>\n",
       "      <th>4</th>\n",
       "      <td>ARG</td>\n",
       "      <td>-2.586658</td>\n",
       "      <td>0.089136</td>\n",
       "      <td>0.195643</td>\n",
       "      <td>-0.337650</td>\n",
       "      <td>-0.432370</td>\n",
       "      <td>1.406525</td>\n",
       "      <td>-0.125768</td>\n",
       "      <td>0</td>\n",
       "    </tr>\n",
       "  </tbody>\n",
       "</table>\n",
       "</div>"
      ],
      "text/plain": [
       "  COUNTRY    1_Comp    2_Comp    3_Comp    4_Comp    5_Comp    6_Comp  \\\n",
       "0     ARG -3.024892  0.136256  0.090472 -0.250536 -1.070321  1.836201   \n",
       "1     ARG -2.952898  0.222956 -0.004622 -0.216618 -0.908643  1.495421   \n",
       "2     ARG -2.743541  0.233172 -0.336567 -0.284682 -0.772409  1.320002   \n",
       "3     ARG -2.400939  0.187613 -0.666919 -0.181724 -0.834403  1.485842   \n",
       "4     ARG -2.586658  0.089136  0.195643 -0.337650 -0.432370  1.406525   \n",
       "\n",
       "     7_Comp  Class  \n",
       "0  1.258966      0  \n",
       "1  0.851361      0  \n",
       "2  0.676204      0  \n",
       "3  0.499866      0  \n",
       "4 -0.125768      0  "
      ]
     },
     "execution_count": 1642,
     "metadata": {},
     "output_type": "execute_result"
    }
   ],
   "source": [
    "comp_df.insert(8, \"Class\", labels)\n",
    "comp_df.head()"
   ]
  },
  {
   "cell_type": "code",
   "execution_count": 1643,
   "metadata": {},
   "outputs": [
    {
     "data": {
      "text/html": [
       "<div>\n",
       "<style scoped>\n",
       "    .dataframe tbody tr th:only-of-type {\n",
       "        vertical-align: middle;\n",
       "    }\n",
       "\n",
       "    .dataframe tbody tr th {\n",
       "        vertical-align: top;\n",
       "    }\n",
       "\n",
       "    .dataframe thead th {\n",
       "        text-align: right;\n",
       "    }\n",
       "</style>\n",
       "<table border=\"1\" class=\"dataframe\">\n",
       "  <thead>\n",
       "    <tr style=\"text-align: right;\">\n",
       "      <th></th>\n",
       "      <th>COUNTRY</th>\n",
       "      <th>1_Comp</th>\n",
       "      <th>2_Comp</th>\n",
       "      <th>3_Comp</th>\n",
       "      <th>4_Comp</th>\n",
       "      <th>5_Comp</th>\n",
       "      <th>6_Comp</th>\n",
       "      <th>7_Comp</th>\n",
       "      <th>Class</th>\n",
       "    </tr>\n",
       "  </thead>\n",
       "  <tbody>\n",
       "    <tr>\n",
       "      <th>0</th>\n",
       "      <td>ARG</td>\n",
       "      <td>-3.024892</td>\n",
       "      <td>0.136256</td>\n",
       "      <td>0.090472</td>\n",
       "      <td>-0.250536</td>\n",
       "      <td>-1.070321</td>\n",
       "      <td>1.836201</td>\n",
       "      <td>1.258966</td>\n",
       "      <td>0</td>\n",
       "    </tr>\n",
       "  </tbody>\n",
       "</table>\n",
       "</div>"
      ],
      "text/plain": [
       "  COUNTRY    1_Comp    2_Comp    3_Comp    4_Comp    5_Comp    6_Comp  \\\n",
       "0     ARG -3.024892  0.136256  0.090472 -0.250536 -1.070321  1.836201   \n",
       "\n",
       "     7_Comp  Class  \n",
       "0  1.258966      0  "
      ]
     },
     "execution_count": 1643,
     "metadata": {},
     "output_type": "execute_result"
    }
   ],
   "source": [
    "comp_df.head(1)"
   ]
  },
  {
   "cell_type": "code",
   "execution_count": 1644,
   "metadata": {},
   "outputs": [],
   "source": [
    "comp_df[(comp_df[\"COUNTRY\"]==\"USA\") & (comp_df[\"Class\"]==0)] = comp_df[(comp_df[\"COUNTRY\"]==\"USA\") & (comp_df[\"Class\"]==0)].replace(0, 2)\n",
    "\n",
    "comp_df[(comp_df[\"COUNTRY\"]==\"JPN\") & (comp_df[\"Class\"]==0)] = comp_df[(comp_df[\"COUNTRY\"]==\"JPN\") & (comp_df[\"Class\"]==0)].replace(0, 1)\n",
    "comp_df[(comp_df[\"COUNTRY\"]==\"KOR\") & (comp_df[\"Class\"]==0)] = comp_df[(comp_df[\"COUNTRY\"]==\"KOR\") & (comp_df[\"Class\"]==0)].replace(0, 1)"
   ]
  },
  {
   "cell_type": "code",
   "execution_count": 1645,
   "metadata": {},
   "outputs": [
    {
     "data": {
      "text/plain": [
       "array(['ARG', 'AUS', 'AUT', 'BEL', 'BRA', 'CAN', 'CHE', 'CHL', 'CHN',\n",
       "       'COL', 'CRI', 'CZE', 'DEU', 'DNK', 'EGY', 'ESP', 'EST', 'FIN',\n",
       "       'FRA', 'GBR', 'GRC', 'HUN', 'IDN', 'IND', 'IRL', 'ISL', 'ISR',\n",
       "       'ITA', 'LTU', 'LUX', 'LVA', 'MEX', 'MYS', 'NLD', 'NOR', 'NZL',\n",
       "       'PER', 'POL', 'PRT', 'RUS', 'SVK', 'SVN', 'SWE', 'THA', 'TUR',\n",
       "       'ZAF'], dtype=object)"
      ]
     },
     "execution_count": 1645,
     "metadata": {},
     "output_type": "execute_result"
    }
   ],
   "source": [
    "comp_df[comp_df[\"Class\"]==0].COUNTRY.unique()"
   ]
  },
  {
   "cell_type": "code",
   "execution_count": 1646,
   "metadata": {},
   "outputs": [
    {
     "data": {
      "text/plain": [
       "array(['JPN', 'KOR'], dtype=object)"
      ]
     },
     "execution_count": 1646,
     "metadata": {},
     "output_type": "execute_result"
    }
   ],
   "source": [
    "comp_df[comp_df[\"Class\"]==1].COUNTRY.unique()"
   ]
  },
  {
   "cell_type": "code",
   "execution_count": 1647,
   "metadata": {},
   "outputs": [
    {
     "data": {
      "text/plain": [
       "array(['USA'], dtype=object)"
      ]
     },
     "execution_count": 1647,
     "metadata": {},
     "output_type": "execute_result"
    }
   ],
   "source": [
    "comp_df[comp_df[\"Class\"]==2].COUNTRY.unique()"
   ]
  },
  {
   "cell_type": "code",
   "execution_count": 1648,
   "metadata": {},
   "outputs": [],
   "source": [
    "comp_df.drop(columns=\"COUNTRY\", axis=1, inplace=True)"
   ]
  },
  {
   "cell_type": "code",
   "execution_count": 1649,
   "metadata": {},
   "outputs": [
    {
     "data": {
      "text/html": [
       "<div>\n",
       "<style scoped>\n",
       "    .dataframe tbody tr th:only-of-type {\n",
       "        vertical-align: middle;\n",
       "    }\n",
       "\n",
       "    .dataframe tbody tr th {\n",
       "        vertical-align: top;\n",
       "    }\n",
       "\n",
       "    .dataframe thead th {\n",
       "        text-align: right;\n",
       "    }\n",
       "</style>\n",
       "<table border=\"1\" class=\"dataframe\">\n",
       "  <thead>\n",
       "    <tr style=\"text-align: right;\">\n",
       "      <th></th>\n",
       "      <th>1_Comp</th>\n",
       "      <th>2_Comp</th>\n",
       "      <th>3_Comp</th>\n",
       "      <th>4_Comp</th>\n",
       "      <th>5_Comp</th>\n",
       "      <th>6_Comp</th>\n",
       "      <th>7_Comp</th>\n",
       "      <th>Class</th>\n",
       "    </tr>\n",
       "  </thead>\n",
       "  <tbody>\n",
       "    <tr>\n",
       "      <th>0</th>\n",
       "      <td>-3.024892</td>\n",
       "      <td>0.136256</td>\n",
       "      <td>0.090472</td>\n",
       "      <td>-0.250536</td>\n",
       "      <td>-1.070321</td>\n",
       "      <td>1.836201</td>\n",
       "      <td>1.258966</td>\n",
       "      <td>0</td>\n",
       "    </tr>\n",
       "  </tbody>\n",
       "</table>\n",
       "</div>"
      ],
      "text/plain": [
       "     1_Comp    2_Comp    3_Comp    4_Comp    5_Comp    6_Comp    7_Comp  Class\n",
       "0 -3.024892  0.136256  0.090472 -0.250536 -1.070321  1.836201  1.258966      0"
      ]
     },
     "execution_count": 1649,
     "metadata": {},
     "output_type": "execute_result"
    }
   ],
   "source": [
    "comp_df.head(1)"
   ]
  },
  {
   "cell_type": "code",
   "execution_count": 1650,
   "metadata": {},
   "outputs": [],
   "source": [
    "comp_df = comp_df.groupby(\"Class\").mean().T"
   ]
  },
  {
   "cell_type": "code",
   "execution_count": 1651,
   "metadata": {},
   "outputs": [
    {
     "data": {
      "text/html": [
       "<div>\n",
       "<style scoped>\n",
       "    .dataframe tbody tr th:only-of-type {\n",
       "        vertical-align: middle;\n",
       "    }\n",
       "\n",
       "    .dataframe tbody tr th {\n",
       "        vertical-align: top;\n",
       "    }\n",
       "\n",
       "    .dataframe thead th {\n",
       "        text-align: right;\n",
       "    }\n",
       "</style>\n",
       "<table border=\"1\" class=\"dataframe\">\n",
       "  <thead>\n",
       "    <tr style=\"text-align: right;\">\n",
       "      <th>Class</th>\n",
       "      <th>0</th>\n",
       "      <th>1</th>\n",
       "      <th>2</th>\n",
       "    </tr>\n",
       "  </thead>\n",
       "  <tbody>\n",
       "    <tr>\n",
       "      <th>1_Comp</th>\n",
       "      <td>-1.888435</td>\n",
       "      <td>26.137364</td>\n",
       "      <td>34.593262</td>\n",
       "    </tr>\n",
       "    <tr>\n",
       "      <th>2_Comp</th>\n",
       "      <td>-0.288187</td>\n",
       "      <td>20.416547</td>\n",
       "      <td>-27.576477</td>\n",
       "    </tr>\n",
       "    <tr>\n",
       "      <th>3_Comp</th>\n",
       "      <td>-0.429832</td>\n",
       "      <td>4.560899</td>\n",
       "      <td>10.650484</td>\n",
       "    </tr>\n",
       "    <tr>\n",
       "      <th>4_Comp</th>\n",
       "      <td>0.271914</td>\n",
       "      <td>-1.502153</td>\n",
       "      <td>-9.503747</td>\n",
       "    </tr>\n",
       "    <tr>\n",
       "      <th>5_Comp</th>\n",
       "      <td>-0.090402</td>\n",
       "      <td>4.524430</td>\n",
       "      <td>-4.890358</td>\n",
       "    </tr>\n",
       "    <tr>\n",
       "      <th>6_Comp</th>\n",
       "      <td>-0.130517</td>\n",
       "      <td>3.510948</td>\n",
       "      <td>-1.018125</td>\n",
       "    </tr>\n",
       "    <tr>\n",
       "      <th>7_Comp</th>\n",
       "      <td>0.070777</td>\n",
       "      <td>-0.515587</td>\n",
       "      <td>-2.224576</td>\n",
       "    </tr>\n",
       "  </tbody>\n",
       "</table>\n",
       "</div>"
      ],
      "text/plain": [
       "Class          0          1          2\n",
       "1_Comp -1.888435  26.137364  34.593262\n",
       "2_Comp -0.288187  20.416547 -27.576477\n",
       "3_Comp -0.429832   4.560899  10.650484\n",
       "4_Comp  0.271914  -1.502153  -9.503747\n",
       "5_Comp -0.090402   4.524430  -4.890358\n",
       "6_Comp -0.130517   3.510948  -1.018125\n",
       "7_Comp  0.070777  -0.515587  -2.224576"
      ]
     },
     "execution_count": 1651,
     "metadata": {},
     "output_type": "execute_result"
    }
   ],
   "source": [
    "comp_df"
   ]
  },
  {
   "cell_type": "code",
   "execution_count": 1652,
   "metadata": {},
   "outputs": [
    {
     "data": {
      "image/png": "[encoded data removed]",
      "text/plain": [
       "<Figure size 432x288 with 1 Axes>"
      ]
     },
     "metadata": {},
     "output_type": "display_data"
    }
   ],
   "source": [
    "sns.lineplot(data=comp_df);"
   ]
  },
  {
   "cell_type": "code",
   "execution_count": 1653,
   "metadata": {},
   "outputs": [],
   "source": [
    "# We may take the Compositions (1, 2, 3, 4) \n",
    "# Than create a ne Dataset\n",
    "# K-Means Clustering\n",
    "# Hopkins\n",
    "# Elbow\n",
    "# Yellowbrick\n",
    "# Silhouette\n",
    "# Best \"k\"\n",
    "# Rethink the Class of Countries  "
   ]
  },
  {
   "cell_type": "markdown",
   "metadata": {},
   "source": [
    "### Prediction"
   ]
  },
  {
   "cell_type": "code",
   "execution_count": 1654,
   "metadata": {},
   "outputs": [
    {
     "data": {
      "text/html": [
       "<div>\n",
       "<style scoped>\n",
       "    .dataframe tbody tr th:only-of-type {\n",
       "        vertical-align: middle;\n",
       "    }\n",
       "\n",
       "    .dataframe tbody tr th {\n",
       "        vertical-align: top;\n",
       "    }\n",
       "\n",
       "    .dataframe thead th {\n",
       "        text-align: right;\n",
       "    }\n",
       "</style>\n",
       "<table border=\"1\" class=\"dataframe\">\n",
       "  <thead>\n",
       "    <tr style=\"text-align: right;\">\n",
       "      <th></th>\n",
       "      <th>COUNTRY</th>\n",
       "      <th>TIME</th>\n",
       "      <th>ADTERPOP_XT</th>\n",
       "      <th>BE_AF_NC</th>\n",
       "      <th>BE_AF_PPP</th>\n",
       "      <th>BE_AF_PPPK</th>\n",
       "      <th>BE_AF_XGDP</th>\n",
       "      <th>BE_AR_NC</th>\n",
       "      <th>BE_AR_PPP</th>\n",
       "      <th>BE_AR_XGDP</th>\n",
       "      <th>...</th>\n",
       "      <th>UNI500_HAB</th>\n",
       "      <th>WBBAND_HAB</th>\n",
       "      <th>WBBAND_NB</th>\n",
       "      <th>WPHD_ENG_NB</th>\n",
       "      <th>WPHD_NB</th>\n",
       "      <th>WPHD_SCI_NB</th>\n",
       "      <th>WRSE_XRSE</th>\n",
       "      <th>WUGTARP_ENG_NB</th>\n",
       "      <th>WUGTARP_NB</th>\n",
       "      <th>WUGTARP_SCI_NB</th>\n",
       "    </tr>\n",
       "  </thead>\n",
       "  <tbody>\n",
       "    <tr>\n",
       "      <th>0</th>\n",
       "      <td>ARG</td>\n",
       "      <td>2006</td>\n",
       "      <td>0.0</td>\n",
       "      <td>9.8</td>\n",
       "      <td>7.29</td>\n",
       "      <td>7.76</td>\n",
       "      <td>0.0</td>\n",
       "      <td>329.8</td>\n",
       "      <td>245.2</td>\n",
       "      <td>0.04</td>\n",
       "      <td>...</td>\n",
       "      <td>0.0</td>\n",
       "      <td>0.0</td>\n",
       "      <td>0.0</td>\n",
       "      <td>0.0</td>\n",
       "      <td>0.0</td>\n",
       "      <td>0.0</td>\n",
       "      <td>50.45</td>\n",
       "      <td>0.0</td>\n",
       "      <td>0.0</td>\n",
       "      <td>0.0</td>\n",
       "    </tr>\n",
       "  </tbody>\n",
       "</table>\n",
       "<p>1 rows × 326 columns</p>\n",
       "</div>"
      ],
      "text/plain": [
       "  COUNTRY  TIME  ADTERPOP_XT  BE_AF_NC  BE_AF_PPP  BE_AF_PPPK  BE_AF_XGDP  \\\n",
       "0     ARG  2006          0.0       9.8       7.29        7.76         0.0   \n",
       "\n",
       "   BE_AR_NC  BE_AR_PPP  BE_AR_XGDP  ...  UNI500_HAB  WBBAND_HAB  WBBAND_NB  \\\n",
       "0     329.8      245.2        0.04  ...         0.0         0.0        0.0   \n",
       "\n",
       "   WPHD_ENG_NB  WPHD_NB  WPHD_SCI_NB  WRSE_XRSE  WUGTARP_ENG_NB  WUGTARP_NB  \\\n",
       "0          0.0      0.0          0.0      50.45             0.0         0.0   \n",
       "\n",
       "   WUGTARP_SCI_NB  \n",
       "0             0.0  \n",
       "\n",
       "[1 rows x 326 columns]"
      ]
     },
     "execution_count": 1654,
     "metadata": {},
     "output_type": "execute_result"
    }
   ],
   "source": [
    "df.head(1)"
   ]
  },
  {
   "cell_type": "code",
   "execution_count": 1655,
   "metadata": {},
   "outputs": [],
   "source": [
    "df.drop(columns=[\"COUNTRY\",\"TIME\"], axis=1, inplace=True)"
   ]
  },
  {
   "cell_type": "code",
   "execution_count": 1656,
   "metadata": {},
   "outputs": [
    {
     "data": {
      "text/html": [
       "<div>\n",
       "<style scoped>\n",
       "    .dataframe tbody tr th:only-of-type {\n",
       "        vertical-align: middle;\n",
       "    }\n",
       "\n",
       "    .dataframe tbody tr th {\n",
       "        vertical-align: top;\n",
       "    }\n",
       "\n",
       "    .dataframe thead th {\n",
       "        text-align: right;\n",
       "    }\n",
       "</style>\n",
       "<table border=\"1\" class=\"dataframe\">\n",
       "  <thead>\n",
       "    <tr style=\"text-align: right;\">\n",
       "      <th></th>\n",
       "      <th>ADTERPOP_XT</th>\n",
       "      <th>BE_AF_NC</th>\n",
       "      <th>BE_AF_PPP</th>\n",
       "      <th>BE_AF_PPPK</th>\n",
       "      <th>BE_AF_XGDP</th>\n",
       "      <th>BE_AR_NC</th>\n",
       "      <th>BE_AR_PPP</th>\n",
       "      <th>BE_AR_XGDP</th>\n",
       "      <th>BE_BEF_NC</th>\n",
       "      <th>BE_BEF_PPP</th>\n",
       "      <th>...</th>\n",
       "      <th>UNI500_HAB</th>\n",
       "      <th>WBBAND_HAB</th>\n",
       "      <th>WBBAND_NB</th>\n",
       "      <th>WPHD_ENG_NB</th>\n",
       "      <th>WPHD_NB</th>\n",
       "      <th>WPHD_SCI_NB</th>\n",
       "      <th>WRSE_XRSE</th>\n",
       "      <th>WUGTARP_ENG_NB</th>\n",
       "      <th>WUGTARP_NB</th>\n",
       "      <th>WUGTARP_SCI_NB</th>\n",
       "    </tr>\n",
       "  </thead>\n",
       "  <tbody>\n",
       "    <tr>\n",
       "      <th>0</th>\n",
       "      <td>0.0</td>\n",
       "      <td>9.8</td>\n",
       "      <td>7.29</td>\n",
       "      <td>7.76</td>\n",
       "      <td>0.0</td>\n",
       "      <td>329.8</td>\n",
       "      <td>245.2</td>\n",
       "      <td>0.04</td>\n",
       "      <td>930.3</td>\n",
       "      <td>691.67</td>\n",
       "      <td>...</td>\n",
       "      <td>0.0</td>\n",
       "      <td>0.0</td>\n",
       "      <td>0.0</td>\n",
       "      <td>0.0</td>\n",
       "      <td>0.0</td>\n",
       "      <td>0.0</td>\n",
       "      <td>50.45</td>\n",
       "      <td>0.0</td>\n",
       "      <td>0.0</td>\n",
       "      <td>0.0</td>\n",
       "    </tr>\n",
       "  </tbody>\n",
       "</table>\n",
       "<p>1 rows × 324 columns</p>\n",
       "</div>"
      ],
      "text/plain": [
       "   ADTERPOP_XT  BE_AF_NC  BE_AF_PPP  BE_AF_PPPK  BE_AF_XGDP  BE_AR_NC  \\\n",
       "0          0.0       9.8       7.29        7.76         0.0     329.8   \n",
       "\n",
       "   BE_AR_PPP  BE_AR_XGDP  BE_BEF_NC  BE_BEF_PPP  ...  UNI500_HAB  WBBAND_HAB  \\\n",
       "0      245.2        0.04      930.3      691.67  ...         0.0         0.0   \n",
       "\n",
       "   WBBAND_NB  WPHD_ENG_NB  WPHD_NB  WPHD_SCI_NB  WRSE_XRSE  WUGTARP_ENG_NB  \\\n",
       "0        0.0          0.0      0.0          0.0      50.45             0.0   \n",
       "\n",
       "   WUGTARP_NB  WUGTARP_SCI_NB  \n",
       "0         0.0             0.0  \n",
       "\n",
       "[1 rows x 324 columns]"
      ]
     },
     "execution_count": 1656,
     "metadata": {},
     "output_type": "execute_result"
    }
   ],
   "source": [
    "df.head(1)"
   ]
  },
  {
   "cell_type": "code",
   "execution_count": 1657,
   "metadata": {},
   "outputs": [
    {
     "data": {
      "text/html": [
       "<div>\n",
       "<style scoped>\n",
       "    .dataframe tbody tr th:only-of-type {\n",
       "        vertical-align: middle;\n",
       "    }\n",
       "\n",
       "    .dataframe tbody tr th {\n",
       "        vertical-align: top;\n",
       "    }\n",
       "\n",
       "    .dataframe thead th {\n",
       "        text-align: right;\n",
       "    }\n",
       "</style>\n",
       "<table border=\"1\" class=\"dataframe\">\n",
       "  <thead>\n",
       "    <tr style=\"text-align: right;\">\n",
       "      <th></th>\n",
       "      <th>ADTERPOP_XT</th>\n",
       "      <th>BE_AF_NC</th>\n",
       "      <th>BE_AF_PPP</th>\n",
       "      <th>BE_AF_PPPK</th>\n",
       "      <th>BE_AF_XGDP</th>\n",
       "      <th>BE_AR_NC</th>\n",
       "      <th>BE_AR_PPP</th>\n",
       "      <th>BE_AR_XGDP</th>\n",
       "      <th>BE_BEF_NC</th>\n",
       "      <th>BE_BEF_PPP</th>\n",
       "      <th>...</th>\n",
       "      <th>UNI500_HAB</th>\n",
       "      <th>WBBAND_HAB</th>\n",
       "      <th>WBBAND_NB</th>\n",
       "      <th>WPHD_ENG_NB</th>\n",
       "      <th>WPHD_NB</th>\n",
       "      <th>WPHD_SCI_NB</th>\n",
       "      <th>WRSE_XRSE</th>\n",
       "      <th>WUGTARP_ENG_NB</th>\n",
       "      <th>WUGTARP_NB</th>\n",
       "      <th>WUGTARP_SCI_NB</th>\n",
       "    </tr>\n",
       "  </thead>\n",
       "  <tbody>\n",
       "    <tr>\n",
       "      <th>0</th>\n",
       "      <td>15.104959</td>\n",
       "      <td>4923.022918</td>\n",
       "      <td>660.158061</td>\n",
       "      <td>652.841163</td>\n",
       "      <td>0.064</td>\n",
       "      <td>153197.152735</td>\n",
       "      <td>1680.163633</td>\n",
       "      <td>0.117592</td>\n",
       "      <td>850396.565082</td>\n",
       "      <td>13090.333776</td>\n",
       "      <td>...</td>\n",
       "      <td>310.164000</td>\n",
       "      <td>28.38202</td>\n",
       "      <td>1.123361e+07</td>\n",
       "      <td>88.261224</td>\n",
       "      <td>1085.273469</td>\n",
       "      <td>248.510204</td>\n",
       "      <td>18.631673</td>\n",
       "      <td>3593.061041</td>\n",
       "      <td>87639.192714</td>\n",
       "      <td>4878.877327</td>\n",
       "    </tr>\n",
       "    <tr>\n",
       "      <th>1</th>\n",
       "      <td>13.935000</td>\n",
       "      <td>36.265000</td>\n",
       "      <td>27.780000</td>\n",
       "      <td>29.670000</td>\n",
       "      <td>0.000</td>\n",
       "      <td>0.000000</td>\n",
       "      <td>0.000000</td>\n",
       "      <td>0.000000</td>\n",
       "      <td>932.290000</td>\n",
       "      <td>553.935000</td>\n",
       "      <td>...</td>\n",
       "      <td>153.390000</td>\n",
       "      <td>0.00000</td>\n",
       "      <td>2.665000e+02</td>\n",
       "      <td>0.000000</td>\n",
       "      <td>0.000000</td>\n",
       "      <td>0.000000</td>\n",
       "      <td>16.235000</td>\n",
       "      <td>0.000000</td>\n",
       "      <td>342.500000</td>\n",
       "      <td>0.000000</td>\n",
       "    </tr>\n",
       "    <tr>\n",
       "      <th>2</th>\n",
       "      <td>7.248206</td>\n",
       "      <td>35.999811</td>\n",
       "      <td>26.658201</td>\n",
       "      <td>28.380191</td>\n",
       "      <td>0.000</td>\n",
       "      <td>0.000000</td>\n",
       "      <td>0.000000</td>\n",
       "      <td>0.000000</td>\n",
       "      <td>931.269049</td>\n",
       "      <td>531.446145</td>\n",
       "      <td>...</td>\n",
       "      <td>102.633255</td>\n",
       "      <td>0.00000</td>\n",
       "      <td>2.664937e+02</td>\n",
       "      <td>0.000000</td>\n",
       "      <td>0.000000</td>\n",
       "      <td>0.000000</td>\n",
       "      <td>8.675483</td>\n",
       "      <td>0.000000</td>\n",
       "      <td>341.166697</td>\n",
       "      <td>0.000000</td>\n",
       "    </tr>\n",
       "  </tbody>\n",
       "</table>\n",
       "<p>3 rows × 324 columns</p>\n",
       "</div>"
      ],
      "text/plain": [
       "   ADTERPOP_XT     BE_AF_NC   BE_AF_PPP  BE_AF_PPPK  BE_AF_XGDP  \\\n",
       "0    15.104959  4923.022918  660.158061  652.841163       0.064   \n",
       "1    13.935000    36.265000   27.780000   29.670000       0.000   \n",
       "2     7.248206    35.999811   26.658201   28.380191       0.000   \n",
       "\n",
       "        BE_AR_NC    BE_AR_PPP  BE_AR_XGDP      BE_BEF_NC    BE_BEF_PPP  ...  \\\n",
       "0  153197.152735  1680.163633    0.117592  850396.565082  13090.333776  ...   \n",
       "1       0.000000     0.000000    0.000000     932.290000    553.935000  ...   \n",
       "2       0.000000     0.000000    0.000000     931.269049    531.446145  ...   \n",
       "\n",
       "   UNI500_HAB  WBBAND_HAB     WBBAND_NB  WPHD_ENG_NB      WPHD_NB  \\\n",
       "0  310.164000    28.38202  1.123361e+07    88.261224  1085.273469   \n",
       "1  153.390000     0.00000  2.665000e+02     0.000000     0.000000   \n",
       "2  102.633255     0.00000  2.664937e+02     0.000000     0.000000   \n",
       "\n",
       "   WPHD_SCI_NB  WRSE_XRSE  WUGTARP_ENG_NB    WUGTARP_NB  WUGTARP_SCI_NB  \n",
       "0   248.510204  18.631673     3593.061041  87639.192714     4878.877327  \n",
       "1     0.000000  16.235000        0.000000    342.500000        0.000000  \n",
       "2     0.000000   8.675483        0.000000    341.166697        0.000000  \n",
       "\n",
       "[3 rows x 324 columns]"
      ]
     },
     "execution_count": 1657,
     "metadata": {},
     "output_type": "execute_result"
    }
   ],
   "source": [
    "pred = [list(df.mean()), list(df.median()), list((df.mean()*df.median())/(df.mean()+df.median()))]\n",
    "pred_data = pd.DataFrame(data=pred, columns=df.columns)\n",
    "pred_data"
   ]
  },
  {
   "cell_type": "code",
   "execution_count": 1658,
   "metadata": {},
   "outputs": [],
   "source": [
    "from sklearn.cluster import AgglomerativeClustering\n",
    "model_last_AGGL = AgglomerativeClustering(n_clusters=3, affinity = \"euclidean\", linkage = \"ward\")"
   ]
  },
  {
   "cell_type": "code",
   "execution_count": 1659,
   "metadata": {},
   "outputs": [
    {
     "data": {
      "text/plain": [
       "array([1, 2, 0], dtype=int64)"
      ]
     },
     "execution_count": 1659,
     "metadata": {},
     "output_type": "execute_result"
    }
   ],
   "source": [
    "model_last_AGGL.fit_predict(pred_data)"
   ]
  },
  {
   "cell_type": "code",
   "execution_count": 1660,
   "metadata": {},
   "outputs": [],
   "source": [
    "from sklearn.cluster import KMeans\n",
    "model_last_KMNS = KMeans(n_clusters=3, random_state=42)"
   ]
  },
  {
   "cell_type": "code",
   "execution_count": 1661,
   "metadata": {},
   "outputs": [
    {
     "data": {
      "text/plain": [
       "array([1, 2, 0])"
      ]
     },
     "execution_count": 1661,
     "metadata": {},
     "output_type": "execute_result"
    }
   ],
   "source": [
    "model_last_KMNS.fit_predict(pred_data)"
   ]
  },
  {
   "cell_type": "code",
   "execution_count": null,
   "metadata": {},
   "outputs": [],
   "source": []
  }
 ],
 "metadata": {
  "kernelspec": {
   "display_name": "Python 3.9.7 64-bit",
   "language": "python",
   "name": "python3"
  },
  "language_info": {
   "codemirror_mode": {
    "name": "ipython",
    "version": 3
   },
   "file_extension": ".py",
   "mimetype": "text/x-python",
   "name": "python",
   "nbconvert_exporter": "python",
   "pygments_lexer": "ipython3",
   "version": "3.9.12"
  },
  "orig_nbformat": 4,
  "vscode": {
   "interpreter": {
    "hash": "78d5379cc5a4e608d385c34b2eb3bb89eeab02a92c9e7d486e469b4c860ee8ca"
   }
  }
 },
 "nbformat": 4,
 "nbformat_minor": 2
}
