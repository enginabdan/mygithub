{
 "cells": [
  {
   "cell_type": "code",
   "execution_count": 1,
   "metadata": {},
   "outputs": [],
   "source": [
    "import pandas as pd\n",
    "import numpy as np\n",
    "import shopify\n",
    "import os"
   ]
  },
  {
   "cell_type": "code",
   "execution_count": 2,
   "metadata": {},
   "outputs": [],
   "source": [
    "token = \"fdgdjlfkjlkjhlkj\"\n",
    "merchant = \"@dfgdzfghbdfg\""
   ]
  },
  {
   "cell_type": "code",
   "execution_count": 3,
   "metadata": {},
   "outputs": [],
   "source": [
    "api_session = shopify.Session(merchant, \"2023-01\", token)\n",
    "shopify.ShopifyResource.activate_session(api_session)"
   ]
  },
  {
   "cell_type": "code",
   "execution_count": 4,
   "metadata": {},
   "outputs": [],
   "source": [
    "def get_data (object_name):\n",
    "    all_data=[]\n",
    "    attribute = getattr(shopify, object_name)\n",
    "    data = attribute.find(since_id=0, limit=250)\n",
    "    for d in data:\n",
    "        all_data.append(d)\n",
    "    while data.has_next_page():\n",
    "        data = data.next_page\n",
    "        for d in data:\n",
    "            all_data.append(d)\n",
    "    return all_data"
   ]
  },
  {
   "cell_type": "code",
   "execution_count": 5,
   "metadata": {},
   "outputs": [],
   "source": [
    "orders = get_data(\"Order\")"
   ]
  },
  {
   "cell_type": "code",
   "execution_count": 6,
   "metadata": {},
   "outputs": [
    {
     "data": {
      "text/plain": [
       "[order(4620895944933),\n",
       " order(4825196593381),\n",
       " order(4828049440997),\n",
       " order(4832881377509),\n",
       " order(4834742993125),\n",
       " order(4835074900197),\n",
       " order(4837805949157),\n",
       " order(4852851900645),\n",
       " order(4854337601765),\n",
       " order(4863591547109),\n",
       " order(4863831015653),\n",
       " order(4865675952357),\n",
       " order(4884294729957),\n",
       " order(4895040667877),\n",
       " order(4895305171173),\n",
       " order(4896905625829),\n",
       " order(4897318437093),\n",
       " order(4900141236453),\n",
       " order(4908258164965),\n",
       " order(4913514152165),\n",
       " order(4914575147237),\n",
       " order(4921671614693),\n",
       " order(4922714390757),\n",
       " order(4935191331045),\n",
       " order(4943371043045),\n",
       " order(4949119664357),\n",
       " order(4970821550309),\n",
       " order(4972008538341),\n",
       " order(4974199898341),\n",
       " order(4975563735269),\n",
       " order(4979379536101),\n",
       " order(4979837173989),\n",
       " order(4983073636581),\n",
       " order(4986964279525),\n",
       " order(4987662762213),\n",
       " order(4989646536933),\n",
       " order(4995598713061),\n",
       " order(5000665333989),\n",
       " order(5004245074149),\n",
       " order(5006873198821),\n",
       " order(5007260647653),\n",
       " order(5008792092901),\n",
       " order(5009901617381),\n",
       " order(5010263015653),\n",
       " order(5013196144869),\n",
       " order(5015518576869),\n",
       " order(5018049216741),\n",
       " order(5018257293541),\n",
       " order(5018330661093),\n",
       " order(5018614071525),\n",
       " order(5019097497829),\n",
       " order(5020665184485),\n",
       " order(5020942532837),\n",
       " order(5021098803429),\n",
       " order(5024034586853),\n",
       " order(5026228207845),\n",
       " order(5029294440677),\n",
       " order(5032151187685),\n",
       " order(5033331097829),\n",
       " order(5033721299173),\n",
       " order(5040537075941),\n",
       " order(5042575900901),\n",
       " order(5043963232485),\n",
       " order(5045787853029),\n",
       " order(5051750285541),\n",
       " order(5054233444581),\n",
       " order(5054340890853),\n",
       " order(5054503715045),\n",
       " order(5056555450597),\n",
       " order(5058729672933),\n",
       " order(5060290445541),\n",
       " order(5060379312357),\n",
       " order(5060462084325),\n",
       " order(5061377229029),\n",
       " order(5062361809125),\n",
       " order(5068467175653),\n",
       " order(5071450472677),\n",
       " order(5072235069669),\n",
       " order(5072264036581),\n",
       " order(5072348414181),\n",
       " order(5072422076645),\n",
       " order(5073020846309),\n",
       " order(5073113481445),\n",
       " order(5074094293221),\n",
       " order(5074157142245),\n",
       " order(5079435411685),\n",
       " order(5079576477925),\n",
       " order(5079608000741),\n",
       " order(5079899767013),\n",
       " order(5080787189989),\n",
       " order(5084085223653),\n",
       " order(5085027762405),\n",
       " order(5085221945573),\n",
       " order(5085944152293),\n",
       " order(5086196891877),\n",
       " order(5086352769253),\n",
       " order(5087214502117),\n",
       " order(5087344132325),\n",
       " order(5087474516197),\n",
       " order(5087536972005),\n",
       " order(5087551946981)]"
      ]
     },
     "execution_count": 6,
     "metadata": {},
     "output_type": "execute_result"
    }
   ],
   "source": [
    "orders"
   ]
  },
  {
   "cell_type": "code",
   "execution_count": 7,
   "metadata": {},
   "outputs": [
    {
     "data": {
      "text/plain": [
       "{'id': 4620895944933,\n",
       " 'admin_graphql_api_id': 'gid://shopify/Order/4620895944933',\n",
       " 'app_id': 129785,\n",
       " 'browser_ip': '73.213.238.74',\n",
       " 'buyer_accepts_marketing': False,\n",
       " 'cancel_reason': None,\n",
       " 'cancelled_at': None,\n",
       " 'cart_token': None,\n",
       " 'checkout_id': 32371056050405,\n",
       " 'checkout_token': '5b237585d0457d228ba48621fa60fb66',\n",
       " 'client_details': client_details(None),\n",
       " 'closed_at': None,\n",
       " 'confirmed': True,\n",
       " 'contact_email': 'karabacakn3@gmail.com',\n",
       " 'created_at': '2021-12-26T13:47:24-05:00',\n",
       " 'currency': 'USD',\n",
       " 'current_subtotal_price': '499.00',\n",
       " 'current_subtotal_price_set': current_subtotal_price_set(None),\n",
       " 'current_total_discounts': '0.00',\n",
       " 'current_total_discounts_set': current_total_discounts_set(None),\n",
       " 'current_total_duties_set': None,\n",
       " 'current_total_price': '528.94',\n",
       " 'current_total_price_set': current_total_price_set(None),\n",
       " 'current_total_tax': '29.94',\n",
       " 'current_total_tax_set': current_total_tax_set(None),\n",
       " 'customer_locale': 'en',\n",
       " 'device_id': 4,\n",
       " 'discount_codes': [],\n",
       " 'email': 'karabacakn3@gmail.com',\n",
       " 'estimated_taxes': False,\n",
       " 'financial_status': 'paid',\n",
       " 'fulfillment_status': 'fulfilled',\n",
       " 'gateway': 'Snap',\n",
       " 'landing_site': '/admin/api/unstable/checkouts.json',\n",
       " 'landing_site_ref': None,\n",
       " 'location_id': 62952407217,\n",
       " 'merchant_of_record_app_id': None,\n",
       " 'name': '#1056',\n",
       " 'note': None,\n",
       " 'note_attributes': [],\n",
       " 'number': 56,\n",
       " 'order_number': 1056,\n",
       " 'order_status_url': 'https://myfurns.myshopify.com/57261883569/orders/bc8cf1ac55bc187dc8e694b54dd89b76/authenticate?key=c69bedd834ef2b5c56dfb07b29b2b890',\n",
       " 'original_total_duties_set': None,\n",
       " 'payment_gateway_names': ['Snap'],\n",
       " 'phone': None,\n",
       " 'presentment_currency': 'USD',\n",
       " 'processed_at': '2021-12-26T13:47:23-05:00',\n",
       " 'processing_method': 'Snap',\n",
       " 'reference': None,\n",
       " 'referring_site': None,\n",
       " 'source_identifier': '62952407217-4-1001',\n",
       " 'source_name': 'pos',\n",
       " 'source_url': None,\n",
       " 'subtotal_price': '499.00',\n",
       " 'subtotal_price_set': subtotal_price_set(None),\n",
       " 'tags': '',\n",
       " 'tax_lines': [tax_line(None), tax_line(None)],\n",
       " 'taxes_included': False,\n",
       " 'test': False,\n",
       " 'token': 'bc8cf1ac55bc187dc8e694b54dd89b76',\n",
       " 'total_discounts': '0.00',\n",
       " 'total_discounts_set': total_discounts_set(None),\n",
       " 'total_line_items_price': '499.00',\n",
       " 'total_line_items_price_set': total_line_items_price_set(None),\n",
       " 'total_outstanding': '0.00',\n",
       " 'total_price': '528.94',\n",
       " 'total_price_set': total_price_set(None),\n",
       " 'total_shipping_price_set': total_shipping_price_set(None),\n",
       " 'total_tax': '29.94',\n",
       " 'total_tax_set': total_tax_set(None),\n",
       " 'total_tip_received': '0.00',\n",
       " 'total_weight': 0,\n",
       " 'updated_at': '2021-12-29T13:30:55-05:00',\n",
       " 'user_id': 73932406961,\n",
       " 'customer': customer(6222806909157),\n",
       " 'discount_applications': [],\n",
       " 'fulfillments': [fulfillment(4127191597285)],\n",
       " 'line_items': [line_item(11894817587429)],\n",
       " 'payment_terms': None,\n",
       " 'refunds': [],\n",
       " 'shipping_lines': []}"
      ]
     },
     "execution_count": 7,
     "metadata": {},
     "output_type": "execute_result"
    }
   ],
   "source": [
    "orders[0].attributes"
   ]
  },
  {
   "cell_type": "code",
   "execution_count": null,
   "metadata": {},
   "outputs": [],
   "source": []
  }
 ],
 "metadata": {
  "kernelspec": {
   "display_name": "Python 3",
   "language": "python",
   "name": "python3"
  },
  "language_info": {
   "codemirror_mode": {
    "name": "ipython",
    "version": 3
   },
   "file_extension": ".py",
   "mimetype": "text/x-python",
   "name": "python",
   "nbconvert_exporter": "python",
   "pygments_lexer": "ipython3",
   "version": "3.9.12 (tags/v3.9.12:b28265d, Mar 23 2022, 23:52:46) [MSC v.1929 64 bit (AMD64)]"
  },
  "orig_nbformat": 4,
  "vscode": {
   "interpreter": {
    "hash": "78d5379cc5a4e608d385c34b2eb3bb89eeab02a92c9e7d486e469b4c860ee8ca"
   }
  }
 },
 "nbformat": 4,
 "nbformat_minor": 2
}
