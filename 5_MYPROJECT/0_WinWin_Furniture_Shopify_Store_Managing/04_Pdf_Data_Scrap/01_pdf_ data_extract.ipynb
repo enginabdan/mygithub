{
 "cells": [
  {
   "cell_type": "code",
   "execution_count": 1,
   "metadata": {},
   "outputs": [],
   "source": [
    "from pdfreader import SimplePDFViewer"
   ]
  },
  {
   "cell_type": "code",
   "execution_count": 2,
   "metadata": {},
   "outputs": [],
   "source": [
    "fd = open(\"bellona_price_list.pdf\",\"rb\")\n",
    "viewer = SimplePDFViewer(fd)\n",
    "viewer.navigate(14)\n",
    "viewer.render()\n",
    "#markdown = viewer.canvas.text_content\n",
    "markdown = viewer.canvas.__dict__"
   ]
  },
  {
   "cell_type": "code",
   "execution_count": 3,
   "metadata": {},
   "outputs": [
    {
     "data": {
      "text/plain": [
       "{'images': {},\n",
       " 'forms': {'EvoPdf_cleffobbkicakghdabphljhfnngfjdal': <pdfreader.viewer.canvas.SimpleCanvas at 0x201a4ac25b0>,\n",
       "  'EvoPdf_jkllenhionegkbeaanhbinigginffibl': <pdfreader.viewer.canvas.SimpleCanvas at 0x201a4acfca0>,\n",
       "  'EvoPdf_kmeccohljfglkfbbpclcfldieppmpejm': <pdfreader.viewer.canvas.SimpleCanvas at 0x201a4acfa90>,\n",
       "  'EvoPdf_gpcjofkmgnofkkcpohpjmaoeipgbdcnk': <pdfreader.viewer.canvas.SimpleCanvas at 0x201a4af2760>},\n",
       " 'text_content': '\\n20.00000 20.00000 572.00000 752.00000 re\\n W\\n n\\n q\\n25.55340 758.11650 566.44660 13.88350 re\\n W\\n n\\n0.694175 0.000000 0.000000 0.694175 20.000000 -618.432100 cm\\n/EvoPdf_cleffobbkicakghdabphljhfnngfjdal Do\\n Q\\n q\\n20.00000 184.03400 572.00000 574.08250 re\\n W\\n n\\n0.694175 0.000000 0.000000 0.694175 20.000000 184.034000 cm\\n/EvoPdf_jkllenhionegkbeaanhbinigginffibl Do\\n Q\\n q\\n20.00000 20.00000 612.00000 40.00000 re\\n W\\n n\\n1.000000 0.000000 0.000000 1.000000 20.000000 20.000000 cm\\n/EvoPdf_kmeccohljfglkfbbpclcfldieppmpejm Do\\n Q\\n q\\n/EvoPdf_lkbplolcapeokeenpfppngfdapeoopce gs\\n20.00000 30.39453 572.00000 29.60547 re\\n W\\n n\\n0.558594 0.000000 0.000000 0.558594 20.000000 30.394530 cm\\n/EvoPdf_gpcjofkmgnofkkcpohpjmaoeipgbdcnk Do\\n Q',\n",
       " 'inline_images': [],\n",
       " 'strings': []}"
      ]
     },
     "execution_count": 3,
     "metadata": {},
     "output_type": "execute_result"
    }
   ],
   "source": [
    "markdown"
   ]
  },
  {
   "cell_type": "code",
   "execution_count": null,
   "metadata": {},
   "outputs": [],
   "source": []
  }
 ],
 "metadata": {
  "kernelspec": {
   "display_name": "Python 3.9.12 64-bit",
   "language": "python",
   "name": "python3"
  },
  "language_info": {
   "codemirror_mode": {
    "name": "ipython",
    "version": 3
   },
   "file_extension": ".py",
   "mimetype": "text/x-python",
   "name": "python",
   "nbconvert_exporter": "python",
   "pygments_lexer": "ipython3",
   "version": "3.9.12 (tags/v3.9.12:b28265d, Mar 23 2022, 23:52:46) [MSC v.1929 64 bit (AMD64)]"
  },
  "orig_nbformat": 4,
  "vscode": {
   "interpreter": {
    "hash": "78d5379cc5a4e608d385c34b2eb3bb89eeab02a92c9e7d486e469b4c860ee8ca"
   }
  }
 },
 "nbformat": 4,
 "nbformat_minor": 2
}
