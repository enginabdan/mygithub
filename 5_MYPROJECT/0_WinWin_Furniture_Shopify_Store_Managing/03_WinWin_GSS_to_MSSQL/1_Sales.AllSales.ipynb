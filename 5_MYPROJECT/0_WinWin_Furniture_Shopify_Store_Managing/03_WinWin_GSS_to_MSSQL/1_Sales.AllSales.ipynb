{
 "cells": [
  {
   "cell_type": "code",
   "execution_count": 6,
   "metadata": {},
   "outputs": [],
   "source": [
    "import pandas as pd\n",
    "\n",
    "import pyodbc\n",
    "import sqlalchemy\n",
    "import urllib\n",
    "\n",
    "import pickle\n",
    "import os.path\n",
    "import google\n",
    "from google_auth_oauthlib.flow import InstalledAppFlow\n",
    "from google.auth.transport.requests import Request\n",
    "from googleapiclient.discovery import build\n",
    "\n",
    "import warnings\n",
    "warnings.filterwarnings(\"ignore\")\n",
    "warnings.warn(\"this will not show\")"
   ]
  },
  {
   "cell_type": "code",
   "execution_count": 7,
   "metadata": {},
   "outputs": [],
   "source": [
    "SCOPES = ['https://www.googleapis.com/auth/spreadsheets']"
   ]
  },
  {
   "cell_type": "code",
   "execution_count": 8,
   "metadata": {},
   "outputs": [],
   "source": [
    "# Google API Check Function\n",
    "def gsheet_api_check(SCOPES):\n",
    "    creds = None\n",
    "    if os.path.exists('token.pickle'):\n",
    "        with open('token.pickle', 'rb') as token:\n",
    "            creds = pickle.load(token)\n",
    "    if not creds or not creds.valid:\n",
    "        if creds and creds.expired and creds.refresh_token:\n",
    "            creds.refresh(Request())\n",
    "        else:\n",
    "            flow = InstalledAppFlow.from_client_secrets_file(\n",
    "                'credentials.json', SCOPES)\n",
    "            creds = flow.run_local_server(port=0)\n",
    "        with open('token.pickle', 'wb') as token:\n",
    "            pickle.dump(creds, token)\n",
    "    return creds"
   ]
  },
  {
   "cell_type": "code",
   "execution_count": null,
   "metadata": {},
   "outputs": [],
   "source": [
    "gsheet_api_check(SCOPES)"
   ]
  },
  {
   "cell_type": "code",
   "execution_count": 10,
   "metadata": {},
   "outputs": [],
   "source": [
    "# Google Sheet Data Pull Function\n",
    "def pull_sheet_data(SCOPES,SPREADSHEET_ID,DATA_TO_PULL):\n",
    "    creds = gsheet_api_check(SCOPES)\n",
    "    service = build('sheets', 'v4', credentials=creds)\n",
    "    sheet = service.spreadsheets()\n",
    "    result = sheet.values().get(\n",
    "        spreadsheetId=SPREADSHEET_ID,\n",
    "        range=DATA_TO_PULL).execute()\n",
    "    values = result.get('values', [])\n",
    "    \n",
    "    if not values:\n",
    "        print('No data found.')\n",
    "    else:\n",
    "        rows = sheet.values().get(spreadsheetId=SPREADSHEET_ID,\n",
    "                                  range=DATA_TO_PULL).execute()\n",
    "        data = rows.get('values')\n",
    "        print(\"COMPLETE: Data copied\")\n",
    "        return data"
   ]
  },
  {
   "cell_type": "code",
   "execution_count": 11,
   "metadata": {},
   "outputs": [],
   "source": [
    "# Connect to MS SQL Server\n",
    "conn_string = \"driver={ODBC Driver 17 for SQL Server}; server=localhost; database=winwin; TRUSTED_CONNECTION=yes;\"\n",
    "conn = pyodbc.connect(conn_string);\n",
    "crs = conn.cursor()\n",
    "conn.autocommit = True"
   ]
  },
  {
   "cell_type": "code",
   "execution_count": 12,
   "metadata": {},
   "outputs": [],
   "source": [
    "# MS SQL Execute Query\n",
    "def execute_query(conn, query):\n",
    "    crs = conn.cursor()\n",
    "    try:\n",
    "        crs.execute(query)\n",
    "        print(\"Query Succeessful!\")\n",
    "    except Error as err:\n",
    "        print(f\"Error:'{err}'\")"
   ]
  },
  {
   "cell_type": "code",
   "execution_count": 13,
   "metadata": {},
   "outputs": [],
   "source": [
    "# MS SQL Read Query\n",
    "def read_query (conn, query):\n",
    "    crs = conn. cursor()\n",
    "    results = None\n",
    "    crs.execute(query)\n",
    "    results = crs.fetchall()\n",
    "    return results"
   ]
  },
  {
   "cell_type": "code",
   "execution_count": 14,
   "metadata": {},
   "outputs": [],
   "source": [
    "# Create Schema\n",
    "# query = 'CREATE SCHEMA Sales'\n",
    "# execute_query(conn, query)"
   ]
  },
  {
   "cell_type": "code",
   "execution_count": 15,
   "metadata": {},
   "outputs": [],
   "source": [
    "# Create Table\n",
    "# query = \"\"\"CREATE TABLE Sales.AllSales (OrderName NVARCHAR (50),\n",
    "#  \t\t\t\t\t\t\t\t\t  \tOrderId NVARCHAR (50),\n",
    "#  \t\t\t\t\t\t\t\t\t  \tInvoiceId NVARCHAR (50),\n",
    "#  \t\t\t\t\t\t\t\t\t\tCustomerName NVARCHAR (50),\n",
    "#  \t\t\t\t\t\t\t\t\t\tInvStatus NVARCHAR (50),\n",
    "#  \t\t\t\t\t\t\t\t\t\tFulfillment NVARCHAR (50),\n",
    "#  \t\t\t\t\t\t\t\t\t\tMethod1 NVARCHAR (50),\n",
    "#  \t\t\t\t\t\t\t\t\t\tMethod2 NVARCHAR (50),\n",
    "#  \t\t\t\t\t\t\t\t\t\tMethod3 NVARCHAR (50),\n",
    "#  \t\t\t\t\t\t\t\t\t\tMethod4 NVARCHAR (50),\n",
    "#  \t\t\t\t\t\t\t\t\t\tPaySource NVARCHAR (50),\n",
    "#  \t\t\t\t\t\t\t\t\t\tStore NVARCHAR (50),\n",
    "#  \t\t\t\t\t\t\t\t\t\tCreateDate DATE,\n",
    "#  \t\t\t\t\t\t\t\t\t\tPayDate DATE,\n",
    "#  \t\t\t\t\t\t\t\t\t\tFulfillDate DATE,\n",
    "#  \t\t\t\t\t\t\t\t\t\tCancelDate DATE,\n",
    "#  \t\t\t\t\t\t\t\t\t\tCustomerId NVARCHAR (50),\n",
    "#  \t\t\t\t\t\t\t\t\t\tPhone NVARCHAR (50),\n",
    "#  \t\t\t\t\t\t\t\t\t\tEmail NVARCHAR (50),\n",
    "#  \t\t\t\t\t\t\t\t\t\tItem NVARCHAR (MAX),\n",
    "#  \t\t\t\t\t\t\t\t\t\tVendor NVARCHAR (50),\n",
    "#  \t\t\t\t\t\t\t\t\t\tSKU NVARCHAR (MAX),\n",
    "#  \t\t\t\t\t\t\t\t\t\tNew_Item NVARCHAR (MAX),\n",
    "#  \t\t\t\t\t\t\t\t\t\tShipped INT,\n",
    "#  \t\t\t\t\t\t\t\t\t\tDwUnitPrice NVARCHAR (50),\n",
    "#  \t\t\t\t\t\t\t\t\t\tOrdered INT,\n",
    "#  \t\t\t\t\t\t\t\t\t\tUpUnitPrice NVARCHAR (50),\n",
    "#  \t\t\t\t\t\t\t\t\t\tBillingName NVARCHAR (50),\n",
    "#  \t\t\t\t\t\t\t\t\t\tBillingStreet NVARCHAR (MAX),\n",
    "#  \t\t\t\t\t\t\t\t\t\tBillingCity NVARCHAR (50),\n",
    "#  \t\t\t\t\t\t\t\t\t\tBillingProvince NVARCHAR (50),\n",
    "#  \t\t\t\t\t\t\t\t\t\tBillingZip INT,\n",
    "#  \t\t\t\t\t\t\t\t\t\tShippingName NVARCHAR (50),\n",
    "#  \t\t\t\t\t\t\t\t\t\tShippingStreet NVARCHAR (MAX),\n",
    "#  \t\t\t\t\t\t\t\t\t\tShippingCity NVARCHAR (50),\n",
    "#  \t\t\t\t\t\t\t\t\t\tShippingProvince NVARCHAR (50),\n",
    "#  \t\t\t\t\t\t\t\t\t\tShippingZip INT,\n",
    "#  \t\t\t\t\t\t\t\t\t\tShippingMethod NVARCHAR (50),\n",
    "#  \t\t\t\t\t\t\t\t\t\tTaxManassas NVARCHAR (50),\n",
    "#  \t\t\t\t\t\t\t\t\t\tTaxVirginia NVARCHAR (50),\n",
    "#  \t\t\t\t\t\t\t\t\t\tTaxGoogle NVARCHAR (50),\n",
    "#  \t\t\t\t\t\t\t\t\t\tTaxNebraska NVARCHAR (50),\n",
    "#  \t\t\t\t\t\t\t\t\t\tTaxTennessee NVARCHAR (50),\n",
    "#  \t\t\t\t\t\t\t\t\t\tTaxNevada NVARCHAR (50),\n",
    "#  \t\t\t\t\t\t\t\t\t\tTaxNewYork NVARCHAR (50),\n",
    "#  \t\t\t\t\t\t\t\t\t\tTaxOther NVARCHAR (50),\n",
    "#  \t\t\t\t\t\t\t\t\t\tTaxTotal NVARCHAR (50),\n",
    "#  \t\t\t\t\t\t\t\t\t\tSubtotal NVARCHAR (50),\n",
    "#  \t\t\t\t\t\t\t\t\t\tDiscount NVARCHAR (50),\n",
    "#  \t\t\t\t\t\t\t\t\t\tShipping NVARCHAR (50),\n",
    "#  \t\t\t\t\t\t\t\t\t\tTotalExcTax NVARCHAR (50),\n",
    "#  \t\t\t\t\t\t\t\t\t\tInvoiceTotal NVARCHAR (50),\n",
    "#  \t\t\t\t\t\t\t\t\t\tPaidTotal NVARCHAR (50),\n",
    "#  \t\t\t\t\t\t\t\t\t\tAmountDue NVARCHAR (50),\n",
    "#  \t\t\t\t\t\t\t\t\t\tRefund NVARCHAR (50));\"\"\"\n",
    "\n",
    "# execute_query(conn, query)"
   ]
  },
  {
   "cell_type": "code",
   "execution_count": null,
   "metadata": {},
   "outputs": [],
   "source": [
    "# Google Sheet Data Pull\n",
    "SPREADSHEET_ID = '13yL-fsfsgdszdvvswvagrvfr-I1Jb4bNrMew8s'\n",
    "\n",
    "#Pulls data from the entire spreadsheet tab.\n",
    "#DATA_TO_PULL = 'AllSales'\n",
    "\n",
    "#Pulls data only from the specified range of cells.\n",
    "DATA_TO_PULL = 'svcetvetvet!A1:AV10000'\n",
    "\n",
    "data = pull_sheet_data(SCOPES,SPREADSHEET_ID,DATA_TO_PULL)\n",
    "df = pd.DataFrame(data[1:], columns=data[0])\n",
    "print(df.shape)\n",
    "df.head(5)"
   ]
  },
  {
   "cell_type": "code",
   "execution_count": 17,
   "metadata": {},
   "outputs": [
    {
     "name": "stdout",
     "output_type": "stream",
     "text": [
      "Query Succeessful!\n"
     ]
    }
   ],
   "source": [
    "# Use winwin database\n",
    "query = 'USE sdfsfdvd'\n",
    "execute_query(conn, query)"
   ]
  },
  {
   "cell_type": "code",
   "execution_count": 18,
   "metadata": {},
   "outputs": [
    {
     "ename": "NameError",
     "evalue": "name 'Error' is not defined",
     "output_type": "error",
     "traceback": [
      "\u001b[1;31m---------------------------------------------------------------------------\u001b[0m",
      "\u001b[1;31mProgrammingError\u001b[0m                          Traceback (most recent call last)",
      "Cell \u001b[1;32mIn[12], line 5\u001b[0m, in \u001b[0;36mexecute_query\u001b[1;34m(conn, query)\u001b[0m\n\u001b[0;32m      4\u001b[0m \u001b[39mtry\u001b[39;00m:\n\u001b[1;32m----> 5\u001b[0m     crs\u001b[39m.\u001b[39;49mexecute(query)\n\u001b[0;32m      6\u001b[0m     \u001b[39mprint\u001b[39m(\u001b[39m\"\u001b[39m\u001b[39mQuery Succeessful!\u001b[39m\u001b[39m\"\u001b[39m)\n",
      "\u001b[1;31mProgrammingError\u001b[0m: ('42S02', '[42S02] [Microsoft][ODBC Driver 17 for SQL Server][SQL Server]Cannot find the object \"AllSales\" because it does not exist or you do not have permissions. (4701) (SQLExecDirectW)')",
      "\nDuring handling of the above exception, another exception occurred:\n",
      "\u001b[1;31mNameError\u001b[0m                                 Traceback (most recent call last)",
      "Cell \u001b[1;32mIn[18], line 3\u001b[0m\n\u001b[0;32m      1\u001b[0m \u001b[39m# Truncate the table\u001b[39;00m\n\u001b[0;32m      2\u001b[0m query \u001b[39m=\u001b[39m \u001b[39m'\u001b[39m\u001b[39mTRUNCATE TABLE Sales.AllSales\u001b[39m\u001b[39m'\u001b[39m\n\u001b[1;32m----> 3\u001b[0m execute_query(conn, query)\n",
      "Cell \u001b[1;32mIn[12], line 7\u001b[0m, in \u001b[0;36mexecute_query\u001b[1;34m(conn, query)\u001b[0m\n\u001b[0;32m      5\u001b[0m     crs\u001b[39m.\u001b[39mexecute(query)\n\u001b[0;32m      6\u001b[0m     \u001b[39mprint\u001b[39m(\u001b[39m\"\u001b[39m\u001b[39mQuery Succeessful!\u001b[39m\u001b[39m\"\u001b[39m)\n\u001b[1;32m----> 7\u001b[0m \u001b[39mexcept\u001b[39;00m Error \u001b[39mas\u001b[39;00m err:\n\u001b[0;32m      8\u001b[0m     \u001b[39mprint\u001b[39m(\u001b[39mf\u001b[39m\u001b[39m\"\u001b[39m\u001b[39mError:\u001b[39m\u001b[39m'\u001b[39m\u001b[39m{\u001b[39;00merr\u001b[39m}\u001b[39;00m\u001b[39m'\u001b[39m\u001b[39m\"\u001b[39m)\n",
      "\u001b[1;31mNameError\u001b[0m: name 'Error' is not defined"
     ]
    }
   ],
   "source": [
    "# Truncate the table\n",
    "query = 'TRUNCATE TABLE Sales.AllSales'\n",
    "execute_query(conn, query)"
   ]
  },
  {
   "cell_type": "code",
   "execution_count": 13,
   "metadata": {},
   "outputs": [
    {
     "data": {
      "text/html": [
       "<div>\n",
       "<style scoped>\n",
       "    .dataframe tbody tr th:only-of-type {\n",
       "        vertical-align: middle;\n",
       "    }\n",
       "\n",
       "    .dataframe tbody tr th {\n",
       "        vertical-align: top;\n",
       "    }\n",
       "\n",
       "    .dataframe thead th {\n",
       "        text-align: right;\n",
       "    }\n",
       "</style>\n",
       "<table border=\"1\" class=\"dataframe\">\n",
       "  <thead>\n",
       "    <tr style=\"text-align: right;\">\n",
       "      <th></th>\n",
       "      <th>OrderName</th>\n",
       "      <th>OrderId</th>\n",
       "      <th>InvoiceId</th>\n",
       "      <th>CustomerName</th>\n",
       "      <th>InvStatus</th>\n",
       "      <th>Fulfillment</th>\n",
       "      <th>Method1</th>\n",
       "      <th>Method2</th>\n",
       "      <th>Method3</th>\n",
       "      <th>Method4</th>\n",
       "      <th>...</th>\n",
       "      <th>TaxOther</th>\n",
       "      <th>TaxTotal</th>\n",
       "      <th>Subtotal</th>\n",
       "      <th>Discount</th>\n",
       "      <th>Shipping</th>\n",
       "      <th>TotalExcTax</th>\n",
       "      <th>InvoiceTotal</th>\n",
       "      <th>PaidTotal</th>\n",
       "      <th>AmountDue</th>\n",
       "      <th>Refund</th>\n",
       "    </tr>\n",
       "  </thead>\n",
       "  <tbody>\n",
       "  </tbody>\n",
       "</table>\n",
       "<p>0 rows × 55 columns</p>\n",
       "</div>"
      ],
      "text/plain": [
       "Empty DataFrame\n",
       "Columns: [OrderName, OrderId, InvoiceId, CustomerName, InvStatus, Fulfillment, Method1, Method2, Method3, Method4, PaySource, Store, CreateDate, PayDate, FulfillDate, CancelDate, CustomerId, Phone, Email, Item, Vendor, SKU, New_Item, Shipped, DwUnitPrice, Ordered, UpUnitPrice, BillingName, BillingStreet, BillingCity, BillingProvince, BillingZip, ShippingName, ShippingStreet, ShippingCity, ShippingProvince, ShippingZip, ShippingMethod, TaxManassas, TaxVirginia, TaxGoogle, TaxNebraska, TaxTennessee, TaxNevada, TaxNewYork, TaxOther, TaxTotal, Subtotal, Discount, Shipping, TotalExcTax, InvoiceTotal, PaidTotal, AmountDue, Refund]\n",
       "Index: []\n",
       "\n",
       "[0 rows x 55 columns]"
      ]
     },
     "execution_count": 13,
     "metadata": {},
     "output_type": "execute_result"
    }
   ],
   "source": [
    "# Read the Empty Table\n",
    "pd.read_sql(\"SELECT * FROM Sales.AllSales\", con = conn)"
   ]
  },
  {
   "cell_type": "code",
   "execution_count": 14,
   "metadata": {},
   "outputs": [],
   "source": [
    "# Insert Dataframe into SQL Server:\n",
    "for index, row in df.iterrows():\n",
    "     crs.execute(\"\"\" INSERT INTO Sales.AllSales (OrderName, OrderId, InvoiceId, CustomerName, InvStatus, Fulfillment,\n",
    "                                             Method1, Method2, Method3, Method4, PaySource, Store, CreateDate,\n",
    "                                             PayDate, FulfillDate, CancelDate, CustomerId, Phone, Email, Item,\n",
    "                                             Vendor, SKU, New_Item, Shipped, DwUnitPrice, Ordered, UpUnitPrice,\n",
    "                                             BillingName, BillingStreet, BillingCity, BillingProvince,\n",
    "                                             BillingZip, ShippingName, ShippingStreet, ShippingCity,\n",
    "                                             ShippingProvince, ShippingZip, ShippingMethod, TaxManassas,\n",
    "                                             TaxVirginia, TaxGoogle, TaxNebraska, TaxTennessee, TaxNevada,\n",
    "                                             TaxNewYork, TaxOther, TaxTotal, Subtotal, Discount, Shipping,\n",
    "                                             TotalExcTax, InvoiceTotal, PaidTotal, AmountDue, Refund)\n",
    "                              VALUES (?, ?, ?, ?, ?, ?, ?, ?, ?, ?,\n",
    "                                      ?, ?, ?, ?, ?, ?, ?, ?, ?, ?,\n",
    "                                      ?, ?, ?, ?, ?, ?, ?, ?, ?, ?,\n",
    "                                      ?, ?, ?, ?, ?, ?, ?, ?, ?, ?,\n",
    "                                      ?, ?, ?, ?, ?, ?, ?, ?, ?, ?,\n",
    "                                      ?, ?, ?, ?, ?) \"\"\",\n",
    "                 row.OrderName, row.OrderId, row.InvoiceId, row.CustomerName, row.InvStatus,\n",
    "                 row.Fulfillment, row.Method1, row.Method2, row.Method3, row.Method4, row.PaySource,\n",
    "                 row.Store, row.CreateDate, row.PayDate, row.FulfillDate, row.CancelDate, row.CustomerId,\n",
    "                 row.Phone, row.Email, row.Item, row.Vendor, row.SKU, row.New_Item, row.Shipped,\n",
    "                 row.DwUnitPrice, row.Ordered, row.UpUnitPrice, row.BillingName, row.BillingStreet,\n",
    "                 row.BillingCity, row.BillingProvince, row.BillingZip, row.ShippingName, row.ShippingStreet,\n",
    "                 row.ShippingCity, row.ShippingProvince, row.ShippingZip, row.ShippingMethod, row.TaxManassas,\n",
    "                 row.TaxVirginia, row.TaxGoogle, row.TaxNebraska, row.TaxTennessee, row.TaxNevada,\n",
    "                 row.TaxNewYork, row.TaxOther, row.TaxTotal, row.Subtotal, row.Discount, row.Shipping,\n",
    "                 row.TotalExcTax, row.InvoiceTotal, row.PaidTotal, row.AmountDue, row.Refund)\n",
    "conn.commit()\n",
    "crs.close()"
   ]
  },
  {
   "cell_type": "code",
   "execution_count": null,
   "metadata": {},
   "outputs": [],
   "source": [
    "# Read the Full Table\n",
    "df = pd.read_sql(\"SELECT * FROM Sales.AllSales\", con = conn)\n",
    "print(df.shape)\n",
    "df.head(5)"
   ]
  },
  {
   "cell_type": "code",
   "execution_count": null,
   "metadata": {},
   "outputs": [],
   "source": []
  }
 ],
 "metadata": {
  "kernelspec": {
   "display_name": "Python 3.9.12 64-bit",
   "language": "python",
   "name": "python3"
  },
  "language_info": {
   "codemirror_mode": {
    "name": "ipython",
    "version": 3
   },
   "file_extension": ".py",
   "mimetype": "text/x-python",
   "name": "python",
   "nbconvert_exporter": "python",
   "pygments_lexer": "ipython3",
   "version": "3.9.12 (tags/v3.9.12:b28265d, Mar 23 2022, 23:52:46) [MSC v.1929 64 bit (AMD64)]"
  },
  "orig_nbformat": 4,
  "vscode": {
   "interpreter": {
    "hash": "78d5379cc5a4e608d385c34b2eb3bb89eeab02a92c9e7d486e469b4c860ee8ca"
   }
  }
 },
 "nbformat": 4,
 "nbformat_minor": 2
}
