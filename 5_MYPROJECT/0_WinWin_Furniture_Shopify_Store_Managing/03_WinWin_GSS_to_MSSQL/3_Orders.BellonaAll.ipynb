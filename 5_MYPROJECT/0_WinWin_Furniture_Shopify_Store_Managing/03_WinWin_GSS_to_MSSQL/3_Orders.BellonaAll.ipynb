{
 "cells": [
  {
   "cell_type": "code",
   "execution_count": 17,
   "metadata": {},
   "outputs": [],
   "source": [
    "import pandas as pd\n",
    "\n",
    "import pyodbc\n",
    "import sqlalchemy\n",
    "import urllib\n",
    "\n",
    "import pickle\n",
    "import os.path\n",
    "from google_auth_oauthlib.flow import InstalledAppFlow\n",
    "from google.auth.transport.requests import Request\n",
    "from googleapiclient.discovery import build\n",
    "\n",
    "import warnings\n",
    "warnings.filterwarnings(\"ignore\")\n",
    "warnings.warn(\"this will not show\")"
   ]
  },
  {
   "cell_type": "code",
   "execution_count": 18,
   "metadata": {},
   "outputs": [],
   "source": [
    "# Google API Check Function\n",
    "def gsheet_api_check(SCOPES):\n",
    "    creds = None\n",
    "    if os.path.exists('token.pickle'):\n",
    "        with open('token.pickle', 'rb') as token:\n",
    "            creds = pickle.load(token)\n",
    "    if not creds or not creds.valid:\n",
    "        if creds and creds.expired and creds.refresh_token:\n",
    "            creds.refresh(Request())\n",
    "        else:\n",
    "            flow = InstalledAppFlow.from_client_secrets_file(\n",
    "                'credentials.json', SCOPES)\n",
    "            creds = flow.run_local_server(port=0)\n",
    "        with open('token.pickle', 'wb') as token:\n",
    "            pickle.dump(creds, token)\n",
    "    return creds"
   ]
  },
  {
   "cell_type": "code",
   "execution_count": 19,
   "metadata": {},
   "outputs": [],
   "source": [
    "# Google Sheet Data Pull Function\n",
    "def pull_sheet_data(SCOPES,SPREADSHEET_ID,DATA_TO_PULL):\n",
    "    creds = gsheet_api_check(SCOPES)\n",
    "    service = build('sheets', 'v4', credentials=creds)\n",
    "    sheet = service.spreadsheets()\n",
    "    result = sheet.values().get(\n",
    "        spreadsheetId=SPREADSHEET_ID,\n",
    "        range=DATA_TO_PULL).execute()\n",
    "    values = result.get('values', [])\n",
    "    \n",
    "    if not values:\n",
    "        print('No data found.')\n",
    "    else:\n",
    "        rows = sheet.values().get(spreadsheetId=SPREADSHEET_ID,\n",
    "                                  range=DATA_TO_PULL).execute()\n",
    "        data = rows.get('values')\n",
    "        print(\"COMPLETE: Data copied\")\n",
    "        return data"
   ]
  },
  {
   "cell_type": "code",
   "execution_count": 20,
   "metadata": {},
   "outputs": [],
   "source": [
    "# Connect to MS SQL Server\n",
    "conn_string = \"driver={ODBC Driver 17 for SQL Server}; server=localhost; database=winwin; TRUSTED_CONNECTION=yes;\"\n",
    "conn = pyodbc.connect(conn_string);\n",
    "crs = conn.cursor()\n",
    "conn.autocommit = True"
   ]
  },
  {
   "cell_type": "code",
   "execution_count": 21,
   "metadata": {},
   "outputs": [],
   "source": [
    "# MS SQL Execute Query\n",
    "def execute_query(conn, query):\n",
    "    crs = conn.cursor()\n",
    "    try:\n",
    "        crs.execute(query)\n",
    "        print(\"Query Succeessful!\")\n",
    "    except Error as err:\n",
    "        print(f\"Error:'{err}'\")"
   ]
  },
  {
   "cell_type": "code",
   "execution_count": 22,
   "metadata": {},
   "outputs": [],
   "source": [
    "# MS SQL Read Query\n",
    "def read_query (conn, query):\n",
    "    crs = conn. cursor()\n",
    "    results = None\n",
    "    crs.execute(query)\n",
    "    results = crs.fetchall()\n",
    "    return results"
   ]
  },
  {
   "cell_type": "code",
   "execution_count": 23,
   "metadata": {},
   "outputs": [],
   "source": [
    "# Create Schema\n",
    "# query = 'CREATE SCHEMA Orders'\n",
    "# execute_query(conn, query)"
   ]
  },
  {
   "cell_type": "code",
   "execution_count": 24,
   "metadata": {},
   "outputs": [],
   "source": [
    "# # Create Table\n",
    "# query = \"\"\"CREATE TABLE Orders.BellonaAll (InvoiceId NVARCHAR (50),\n",
    "#    \t\t\t\t\t\t\t\t\t\t  OrderId NVARCHAR (50),\n",
    "#    \t\t\t\t\t\t\t\t\t  \t  TripId NVARCHAR (50),\n",
    "#    \t\t\t\t\t\t\t\t\t\t  OrderDate DATE,\n",
    "#    \t\t\t\t\t\t\t\t\t\t  Store NVARCHAR (50),\n",
    "#    \t\t\t\t\t\t\t\t\t\t  Vendor NVARCHAR (50),\n",
    "#    \t\t\t\t\t\t\t\t\t\t  Item NVARCHAR (MAX),\n",
    "#    \t\t\t\t\t\t\t\t\t\t  SKU NVARCHAR (50),\n",
    "#    \t\t\t\t\t\t\t\t\t\t  New_Item NVARCHAR (MAX),\n",
    "#    \t\t\t\t\t\t\t\t\t\t  Shiped INT,\n",
    "#    \t\t\t\t\t\t\t\t\t\t  UnitPrice NVARCHAR (50),\n",
    "#    \t\t\t\t\t\t\t\t\t\t  Ordered INT,\n",
    "#    \t\t\t\t\t\t\t\t\t\t  FreightPrice NVARCHAR (50),\n",
    "#    \t\t\t\t\t\t\t\t\t\t  TotalPrice NVARCHAR (50),\n",
    "#    \t\t\t\t\t\t\t\t\t\t  ExtendedPrice NVARCHAR (50),\n",
    "#    \t\t\t\t\t\t\t\t\t\t  Merchandise NVARCHAR (50),\n",
    "#    \t\t\t\t\t\t\t\t\t\t  Freight_Ocean NVARCHAR (50),\n",
    "#    \t\t\t\t\t\t\t\t\t\t  Fuel_Ship NVARCHAR (50),\n",
    "#    \t\t\t\t\t\t\t\t\t\t  Tax NVARCHAR (50),\n",
    "#    \t\t\t\t\t\t\t\t\t\t  Discount NVARCHAR (50),\n",
    "#    \t\t\t\t\t\t\t\t\t\t  AllTotal NVARCHAR (50));\"\"\"\n",
    "# execute_query(conn, query)"
   ]
  },
  {
   "cell_type": "code",
   "execution_count": null,
   "metadata": {},
   "outputs": [],
   "source": [
    "# Google Sheet Data Pull\n",
    "SCOPES = ['https://www.googleapis.com/auth/spreadsheets']\n",
    "SPREADSHEET_ID = 'sfafdsvawervrcer-xrcarareyIds'\n",
    "\n",
    "#Pulls data from the entire spreadsheet tab.\n",
    "#DATA_TO_PULL = 'BellonaAll'\n",
    "\n",
    "#Pulls data only from the specified range of cells.\n",
    "DATA_TO_PULL = 'serfervfwrvwerv!A1:U10000'\n",
    "\n",
    "data = pull_sheet_data(SCOPES,SPREADSHEET_ID,DATA_TO_PULL)\n",
    "df = pd.DataFrame(data[1:], columns=data[0])\n",
    "print(df.shape)\n",
    "df.head(5)"
   ]
  },
  {
   "cell_type": "code",
   "execution_count": 26,
   "metadata": {},
   "outputs": [
    {
     "name": "stdout",
     "output_type": "stream",
     "text": [
      "Query Succeessful!\n"
     ]
    }
   ],
   "source": [
    "# Use winwin database\n",
    "query = 'USE winwin'\n",
    "execute_query(conn, query)"
   ]
  },
  {
   "cell_type": "code",
   "execution_count": 27,
   "metadata": {},
   "outputs": [
    {
     "name": "stdout",
     "output_type": "stream",
     "text": [
      "Query Succeessful!\n"
     ]
    }
   ],
   "source": [
    "# Truncate the table\n",
    "query = 'TRUNCATE TABLE Orders.BellonaAll'\n",
    "execute_query(conn, query)"
   ]
  },
  {
   "cell_type": "code",
   "execution_count": 28,
   "metadata": {},
   "outputs": [
    {
     "data": {
      "text/html": [
       "<div>\n",
       "<style scoped>\n",
       "    .dataframe tbody tr th:only-of-type {\n",
       "        vertical-align: middle;\n",
       "    }\n",
       "\n",
       "    .dataframe tbody tr th {\n",
       "        vertical-align: top;\n",
       "    }\n",
       "\n",
       "    .dataframe thead th {\n",
       "        text-align: right;\n",
       "    }\n",
       "</style>\n",
       "<table border=\"1\" class=\"dataframe\">\n",
       "  <thead>\n",
       "    <tr style=\"text-align: right;\">\n",
       "      <th></th>\n",
       "      <th>InvoiceId</th>\n",
       "      <th>OrderId</th>\n",
       "      <th>TripId</th>\n",
       "      <th>OrderDate</th>\n",
       "      <th>Store</th>\n",
       "      <th>Vendor</th>\n",
       "      <th>Item</th>\n",
       "      <th>SKU</th>\n",
       "      <th>New_Item</th>\n",
       "      <th>Shiped</th>\n",
       "      <th>...</th>\n",
       "      <th>Ordered</th>\n",
       "      <th>FreightPrice</th>\n",
       "      <th>TotalPrice</th>\n",
       "      <th>ExtendedPrice</th>\n",
       "      <th>Merchandise</th>\n",
       "      <th>Freight_Ocean</th>\n",
       "      <th>Fuel_Ship</th>\n",
       "      <th>Tax</th>\n",
       "      <th>Discount</th>\n",
       "      <th>AllTotal</th>\n",
       "    </tr>\n",
       "  </thead>\n",
       "  <tbody>\n",
       "  </tbody>\n",
       "</table>\n",
       "<p>0 rows × 21 columns</p>\n",
       "</div>"
      ],
      "text/plain": [
       "Empty DataFrame\n",
       "Columns: [InvoiceId, OrderId, TripId, OrderDate, Store, Vendor, Item, SKU, New_Item, Shiped, UnitPrice, Ordered, FreightPrice, TotalPrice, ExtendedPrice, Merchandise, Freight_Ocean, Fuel_Ship, Tax, Discount, AllTotal]\n",
       "Index: []\n",
       "\n",
       "[0 rows x 21 columns]"
      ]
     },
     "execution_count": 28,
     "metadata": {},
     "output_type": "execute_result"
    }
   ],
   "source": [
    "# Read the Empty Table\n",
    "pd.read_sql(\"SELECT * FROM Orders.BellonaAll\", con = conn)"
   ]
  },
  {
   "cell_type": "code",
   "execution_count": 29,
   "metadata": {},
   "outputs": [],
   "source": [
    "# Insert Dataframe into SQL Server:\n",
    "for index, row in df.iterrows():\n",
    "        crs.execute(\"\"\" INSERT INTO Orders.BellonaAll\n",
    "                                (InvoiceId, OrderId, TripId, OrderDate, Store, Vendor,\n",
    "                                Item, SKU, New_Item, Shiped, UnitPrice, Ordered, FreightPrice,\n",
    "                                TotalPrice, ExtendedPrice, Merchandise, Freight_Ocean,\n",
    "                                Fuel_Ship, Tax, Discount, AllTotal)\n",
    "                        VALUES (?, ?, ?, ?, ?, ?, ?, ?, ?, ?,\n",
    "                                ?, ?, ?, ?, ?, ?, ?, ?, ?, ?, ?) \"\"\",\n",
    "                                row.InvoiceId, row.OrderId, row.TripId, row.OrderDate, row.Store, row.Vendor,\n",
    "                                row.Item, row.SKU, row.New_Item, row.Shiped, row.UnitPrice, row.Ordered,\n",
    "                                row.FreightPrice, row.TotalPrice, row.ExtendedPrice, row.Merchandise,\n",
    "                                row.Freight_Ocean, row.Fuel_Ship, row.Tax, row.Discount, row.AllTotal)\n",
    "conn.commit()\n",
    "crs.close()"
   ]
  },
  {
   "cell_type": "code",
   "execution_count": null,
   "metadata": {},
   "outputs": [],
   "source": [
    "# Read the Full Table\n",
    "df = pd.read_sql(\"SELECT * FROM Orders.BellonaAll\", con = conn)\n",
    "print(df.shape)\n",
    "df.head(5)"
   ]
  },
  {
   "cell_type": "code",
   "execution_count": null,
   "metadata": {},
   "outputs": [],
   "source": []
  }
 ],
 "metadata": {
  "kernelspec": {
   "display_name": "Python 3.9.12 64-bit",
   "language": "python",
   "name": "python3"
  },
  "language_info": {
   "codemirror_mode": {
    "name": "ipython",
    "version": 3
   },
   "file_extension": ".py",
   "mimetype": "text/x-python",
   "name": "python",
   "nbconvert_exporter": "python",
   "pygments_lexer": "ipython3",
   "version": "3.9.12"
  },
  "orig_nbformat": 4,
  "vscode": {
   "interpreter": {
    "hash": "78d5379cc5a4e608d385c34b2eb3bb89eeab02a92c9e7d486e469b4c860ee8ca"
   }
  }
 },
 "nbformat": 4,
 "nbformat_minor": 2
}
