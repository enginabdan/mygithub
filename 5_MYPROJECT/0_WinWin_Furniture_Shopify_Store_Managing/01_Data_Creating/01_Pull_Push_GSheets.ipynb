{
 "cells": [
  {
   "cell_type": "code",
   "execution_count": null,
   "metadata": {},
   "outputs": [],
   "source": [
    "from model_configs import scopes\n",
    "from model_configs import credentials\n",
    "from model_configs import folder_path\n",
    "from model_configs import client_path\n",
    "from model_configs import client_path1\n",
    "from model_configs import token_path\n",
    "\n",
    "from model_configs import Vendor_List\n",
    "from model_configs import Pull_Key_List\n",
    "from model_configs import Created_List\n",
    "from model_configs import Created_Key_List\n",
    "from model_configs import Sheet_List\n",
    "from model_configs import Sheet_Gap_List\n",
    "\n",
    "from model_configs import Connect_Drive\n",
    "from model_configs import Created_Sheet\n",
    "from model_configs import Gsheet_Api_Check\n",
    "from model_configs import Pull_Sheet_Data\n",
    "from model_configs import Create_All_Gsheets\n",
    "from model_configs import Create_Orders\n",
    "from model_configs import Create_Monthly\n",
    "\n",
    "import pandas as pd\n",
    "import numpy as np\n",
    "from datetime import datetime\n",
    "import pickle\n",
    "import os.path\n",
    "import gspread\n",
    "from gspread_dataframe import set_with_dataframe\n",
    "from google.oauth2.service_account import Credentials\n",
    "from pydrive.auth import GoogleAuth\n",
    "from pydrive.drive import GoogleDrive\n",
    "\n",
    "from google_auth_oauthlib.flow import InstalledAppFlow\n",
    "from google.auth.transport.requests import Request\n",
    "from googleapiclient.discovery import build\n",
    "\n",
    "import warnings\n",
    "warnings.filterwarnings(\"ignore\")\n",
    "warnings.warn(\"this will not show\")"
   ]
  },
  {
   "cell_type": "code",
   "execution_count": null,
   "metadata": {},
   "outputs": [
    {
     "data": {
      "text/plain": [
       "<google.oauth2.credentials.Credentials at 0x1c540056a30>"
      ]
     },
     "execution_count": 2,
     "metadata": {},
     "output_type": "execute_result"
    }
   ],
   "source": [
    "Gsheet_Api_Check(scopes)"
   ]
  },
  {
   "cell_type": "code",
   "execution_count": null,
   "metadata": {},
   "outputs": [
    {
     "data": {
      "text/plain": [
       "['OrdersAll',\n",
       " 'Invoice',\n",
       " 'Orders',\n",
       " 'SKU',\n",
       " 'Balance',\n",
       " 'Stock',\n",
       " 'Cost',\n",
       " 'Osman_Stock',\n",
       " 'Shopify',\n",
       " 'Monthly']"
      ]
     },
     "execution_count": 3,
     "metadata": {},
     "output_type": "execute_result"
    }
   ],
   "source": [
    "Sheet_List"
   ]
  },
  {
   "cell_type": "code",
   "execution_count": null,
   "metadata": {},
   "outputs": [
    {
     "name": "stdout",
     "output_type": "stream",
     "text": [
      "SKU Started:\n",
      "Ashley Copied & Shape: (721, 4)\n",
      "Bellona Copied & Shape: (199, 4)\n",
      "Beyan Copied & Shape: (27, 4)\n",
      "Casamode Copied & Shape: (137, 4)\n",
      "Coaster Copied & Shape: (161, 4)\n",
      "Corsicana Copied & Shape: (5, 4)\n",
      "Cosmos Copied & Shape: (9, 4)\n",
      "Crown_Mark Copied & Shape: (446, 4)\n",
      "Donco_Kids Copied & Shape: (9, 4)\n",
      "Empire Copied & Shape: (5, 4)\n",
      "Furniture_of_America Copied & Shape: (51, 4)\n",
      "Furniture_World Copied & Shape: (60, 4)\n",
      "Galaxy Copied & Shape: (33, 4)\n",
      "Global_Furniture Copied & Shape: (3, 4)\n",
      "Glory Copied & Shape: (4, 4)\n",
      "Happy_Homes Copied & Shape: (147, 4)\n",
      "Hollywood Copied & Shape: (1, 4)\n",
      "Homelegance Copied & Shape: (42, 4)\n",
      "Lidixh Copied & Shape: (38, 4)\n",
      "Mainline Copied & Shape: (1, 4)\n",
      "Meridian Copied & Shape: (86, 4)\n",
      "New_Art Copied & Shape: (210, 4)\n",
      "New_Classic Copied & Shape: (19, 4)\n",
      "New_York_Diamond Copied & Shape: (56, 4)\n",
      "Nova Copied & Shape: (105, 4)\n",
      "SKU Finished & Shape: (2575, 4)\n"
     ]
    }
   ],
   "source": [
    "# Orders Sheets Pull Together\n",
    "index = Sheet_List.index(\"Shopify\")\n",
    "Create_Orders(Created_Key_List, Created_List, index, Sheet_Gap_List, Vendor_List, Pull_Key_List, credentials)"
   ]
  },
  {
   "cell_type": "code",
   "execution_count": null,
   "metadata": {},
   "outputs": [],
   "source": [
    "## Monthly Sheets Pull Together\n",
    "# index = Sheet_List.index(\"Monthly\")\n",
    "# Create_Monthly(Created_Key_List, Created_List, index, Sheet_Gap_List, Vendor_List, Pull_Key_List, credentials)"
   ]
  },
  {
   "cell_type": "code",
   "execution_count": null,
   "metadata": {},
   "outputs": [],
   "source": [
    "## Pull Together All GSheets\n",
    "#Create_All_Gsheets (Sheet_Gap_List, Created_Key_List, Created_List, Vendor_List, Pull_Key_List, credentials)"
   ]
  },
  {
   "cell_type": "code",
   "execution_count": null,
   "metadata": {},
   "outputs": [],
   "source": []
  }
 ],
 "metadata": {
  "kernelspec": {
   "display_name": "Python 3",
   "language": "python",
   "name": "python3"
  },
  "language_info": {
   "codemirror_mode": {
    "name": "ipython",
    "version": 3
   },
   "file_extension": ".py",
   "mimetype": "text/x-python",
   "name": "python",
   "nbconvert_exporter": "python",
   "pygments_lexer": "ipython3",
   "version": "3.9.12"
  },
  "orig_nbformat": 4,
  "vscode": {
   "interpreter": {
    "hash": "78d5379cc5a4e608d385c34b2eb3bb89eeab02a92c9e7d486e469b4c860ee8ca"
   }
  }
 },
 "nbformat": 4,
 "nbformat_minor": 2
}
