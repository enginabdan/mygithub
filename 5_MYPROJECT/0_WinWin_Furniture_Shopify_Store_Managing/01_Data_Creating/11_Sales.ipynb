{
 "cells": [
  {
   "cell_type": "code",
   "execution_count": 13,
   "metadata": {},
   "outputs": [],
   "source": [
    "import pandas as pd\n",
    "import numpy as np\n",
    "from datetime import datetime\n",
    "import pickle\n",
    "import os.path\n",
    "\n",
    "import google\n",
    "import gspread\n",
    "from gspread_dataframe import set_with_dataframe\n",
    "from google.oauth2.service_account import Credentials\n",
    "from pydrive.auth import GoogleAuth\n",
    "from pydrive.drive import GoogleDrive\n",
    "\n",
    "from google_auth_oauthlib.flow import InstalledAppFlow\n",
    "from google.auth.transport.requests import Request\n",
    "from googleapiclient.discovery import build\n",
    "\n",
    "import warnings\n",
    "warnings.filterwarnings(\"ignore\")\n",
    "warnings.warn(\"this will not show\")"
   ]
  },
  {
   "cell_type": "code",
   "execution_count": 14,
   "metadata": {},
   "outputs": [],
   "source": [
    "\n",
    "scopes = ['https://www.googleapis.com/auth/spreadsheets',\n",
    "          'https://www.googleapis.com/auth/drive']\n",
    "\n",
    "credentials = Credentials.from_service_account_file(\"client_secrets1.json\", scopes=scopes)\n",
    "\n",
    "gc = gspread.authorize(credentials)\n",
    "\n",
    "gauth = GoogleAuth()\n",
    "drive = GoogleDrive(gauth)\n",
    "\n",
    "# Open a .gsheet\n",
    "gs = gc.open_by_key(\"1-ahvkjhkjhvjdsvkjs kjhkjfhkahfkjhkjhkjah\")\n",
    "\n",
    "# Select a work sheet from its name\n",
    "worksheet1 = gs.worksheet(\"Sales\")"
   ]
  },
  {
   "cell_type": "code",
   "execution_count": 15,
   "metadata": {},
   "outputs": [],
   "source": [
    "# Pull Data From .gsheets\n",
    "data_pull = \"Shopify!A1:H10000\"\n",
    "\n",
    "Sheet_Dict = {\"Ashley\" : \"11rM_IdQgTp-C4OAby2FjA3jCF3kmQcrMl2NfliySeMQ\",\n",
    "              \"Bellona\" : \"1tk7zeUWyqSckbe7QlCIoMwupz3wkps7NyDZy2Zdc6Lg\",\n",
    "              \"Beyan\" : \"13h3mS2zCL_hkOC4P0pQTvjhPa7Z95t0lR6o8rDN1HBE\",\n",
    "              \"Casamode\" : \"1CpRiANh-Bu0zJfZ2Y4EFLoGAJBExFtWrznACEeRzYDU\",\n",
    "              \"Coaster\" : \"1SXuwwYXMWaUXDuwKe_uIaNN8OumGMwoyDjhjbfv19PM\",\n",
    "              \"Corsicana\" : \"1wEWOO1hZtkaMnKoKswKyi1_dWs4hE4PV4SfSd0_strw\",\n",
    "              \"Cosmos\" : \"1lryk9YFXmEjmAhSAJhHZgDm7WjBncQKirkJ291dzYsI\",\n",
    "              \"Crown_Mark\" : \"1uL39iYxNWcjsHHiq9dcMD4q7wr5etM2mmWlZpmJ_hu0\",\n",
    "              \"Donco_Kids\" : \"1m-UXoA0hMQgdQC7i5kZieGWiYWkuITqBZqpSEi5QzUI\",\n",
    "              \"Empire\" : \"1wqMMvNcRWl-0ym_Bn6PR5Deu-0CvhgllrLsBn9QH1nw\",\n",
    "              \"Furniture_of_America\" : \"1wdNt0oPuZVgtLyN6zA9LwRQQvipLF1Tj6vmsFj0FFMA\",\n",
    "              \"Furniture_World\" : \"1s5CImHPUm5H1O48a0p_e4Ph5YWYPnXT6CNRV_fYXKpU\",\n",
    "              \"Galaxy\" : \"1p6wkUt8baI8BAVbg7n6qa2Ct-wh1v4aZeWyd5hG53RM\",\n",
    "              \"Global_Furniture\" : \"1MGYKdxPbVMrEtaL_reSplUqXnh_jzNHnmJtpZV2k4cM\",\n",
    "              \"Happy_Homes\" : \"1g9ut7lXhDiD9yeW9-h_81SEsres9cPfqcTKxcACfA6Q\",\n",
    "              \"Homelegance\" : \"129PWgvIp4qE56r-1--0ntuGwxnS0kCkl591jcV8mcV8\",\n",
    "              \"Lidixh\" : \"1GtdxvH03AfjqcrknDxVB966CIYrRWP1V2MsYID3cpLU\",\n",
    "              \"Mainline\" : \"1qPewlXYGcJDLUpdzDFfLRjriMUO9HLyE6rGHJv96iwo\",\n",
    "              \"Meridian\" : \"1Pzb9kcgd3_FT3iLsB0yVAkyBGL2kNQj3OwPhEjS_SAU\",\n",
    "              \"New_Art\" : \"1KpgUz0VU3NnSmHGhWKimpNFu1b5o2atqmTZyxP49Mrg\",\n",
    "              \"New_Classic\" : \"17ZG-sQDOn7V4UbmoWl4caStytimdaeL5TSM074y7SYQ\",\n",
    "              \"New_York_Diamond\" : \"1y2rwb9529J1u0Zgqn-nYacjw9gdVM0ezaM4fcI-hxJQ\",\n",
    "              \"Nova\" : \"19cu7_yFO7LWdA5XvfhxLdjeQzy6nKpmfpmSq4oDjYZ0\"}\n",
    "\n",
    "Vendor_List = list(Sheet_Dict.keys())\n",
    "Sheet_List = list(Sheet_Dict.values())"
   ]
  },
  {
   "cell_type": "code",
   "execution_count": 16,
   "metadata": {},
   "outputs": [],
   "source": [
    "# Google API Check Function\n",
    "def gsheet_api_check(SCOPES):\n",
    "    creds = None\n",
    "    if os.path.exists('token.pickle'):\n",
    "        with open('token.pickle', 'rb') as token:\n",
    "            creds = pickle.load(token)\n",
    "    if not creds or not creds.valid:\n",
    "        if creds and creds.expired and creds.refresh_token:\n",
    "            creds.refresh(Request())\n",
    "        else:\n",
    "            flow = InstalledAppFlow.from_client_secrets_file(\n",
    "                'client_secrets.json', SCOPES)\n",
    "            creds = flow.run_local_server(port=0)\n",
    "        with open('token.pickle', 'wb') as token:\n",
    "            pickle.dump(creds, token)\n",
    "    return creds"
   ]
  },
  {
   "cell_type": "code",
   "execution_count": 17,
   "metadata": {},
   "outputs": [],
   "source": [
    "# Google Sheet Data Pull Function\n",
    "def pull_sheet_data(SCOPES,SPREADSHEET_ID,DATA_TO_PULL):\n",
    "    creds = gsheet_api_check(SCOPES)\n",
    "    service = build('sheets', 'v4', credentials=creds)\n",
    "    sheet = service.spreadsheets()\n",
    "    result = sheet.values().get(\n",
    "        spreadsheetId=SPREADSHEET_ID,\n",
    "        range=DATA_TO_PULL).execute()\n",
    "    values = result.get('values', [])\n",
    "    \n",
    "    if not values:\n",
    "        print('No data found.')\n",
    "    else:\n",
    "        rows = sheet.values().get(spreadsheetId=SPREADSHEET_ID, range=DATA_TO_PULL).execute()\n",
    "        data = rows.get('values')\n",
    "        #print(\"COMPLETE: Data copied\")\n",
    "        return data"
   ]
  },
  {
   "cell_type": "code",
   "execution_count": 18,
   "metadata": {},
   "outputs": [
    {
     "data": {
      "text/plain": [
       "<google.oauth2.credentials.Credentials at 0x19e38497c70>"
      ]
     },
     "execution_count": 18,
     "metadata": {},
     "output_type": "execute_result"
    }
   ],
   "source": [
    "# Connect to Google Drive\n",
    "gsheet_api_check(scopes)"
   ]
  },
  {
   "cell_type": "code",
   "execution_count": 19,
   "metadata": {},
   "outputs": [
    {
     "name": "stdout",
     "output_type": "stream",
     "text": [
      "Shopify copied & shape: (2383, 50)\n",
      "ZarMoney copied & shape: (1414, 50)\n",
      "All copied & shape: (3797, 50)\n"
     ]
    }
   ],
   "source": [
    "# Concat All .gsheets to One .gsheet\n",
    "\n",
    "sheet = \"13yL-WmxrqPGZqHi7ba1MI_UcXqd1F-I1Jb4bNrMew8s\"\n",
    "data_sheets = [\"Shopify!A1:AX10000\",\"ZarMoney!A1:AX10000\"]\n",
    "sales_list = [\"Shopify\",\"ZarMoney\"]\n",
    "df_all = pd.DataFrame()\n",
    "\n",
    "i = 0\n",
    "for data_sheet in data_sheets:\n",
    "    sale = sales_list[i]\n",
    "    data = pull_sheet_data(scopes, sheet, data_sheet)\n",
    "    df = pd.DataFrame(data[1:], columns=data[0])\n",
    "    df = df.iloc[:df.iloc[:,0].replace('', np.nan).count()]\n",
    "    print(f\"{sale} copied & shape: {df.shape}\")  \n",
    "    df_all = pd.concat([df_all, df])\n",
    "    i +=1\n",
    "print(f\"All copied & shape: {df_all.shape}\")\n",
    "df = df_all\n",
    "df.dropna(axis=0,how=\"all\",inplace=True)"
   ]
  },
  {
   "cell_type": "code",
   "execution_count": 20,
   "metadata": {},
   "outputs": [],
   "source": [
    "# DataFrame to .gsheet\n",
    "worksheet1.clear()\n",
    "set_with_dataframe(worksheet=worksheet1, dataframe=df, include_index=False, include_column_header=True, resize=True)"
   ]
  },
  {
   "cell_type": "code",
   "execution_count": null,
   "metadata": {},
   "outputs": [],
   "source": []
  }
 ],
 "metadata": {
  "kernelspec": {
   "display_name": "Python 3",
   "language": "python",
   "name": "python3"
  },
  "language_info": {
   "codemirror_mode": {
    "name": "ipython",
    "version": 3
   },
   "file_extension": ".py",
   "mimetype": "text/x-python",
   "name": "python",
   "nbconvert_exporter": "python",
   "pygments_lexer": "ipython3",
   "version": "3.9.12 (tags/v3.9.12:b28265d, Mar 23 2022, 23:52:46) [MSC v.1929 64 bit (AMD64)]"
  },
  "orig_nbformat": 4,
  "vscode": {
   "interpreter": {
    "hash": "78d5379cc5a4e608d385c34b2eb3bb89eeab02a92c9e7d486e469b4c860ee8ca"
   }
  }
 },
 "nbformat": 4,
 "nbformat_minor": 2
}
