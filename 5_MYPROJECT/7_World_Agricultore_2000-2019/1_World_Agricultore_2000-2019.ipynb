{
 "cells": [
  {
   "cell_type": "markdown",
   "metadata": {},
   "source": [
    "### OECD DATA SCRAPING"
   ]
  },
  {
   "cell_type": "code",
   "execution_count": 1,
   "metadata": {},
   "outputs": [],
   "source": [
    "# OECD Data Scraping\n",
    "# pip install sdmx\n",
    "# import pandasdmx as sdmx\n",
    "# sdmx.list_sources()"
   ]
  },
  {
   "cell_type": "code",
   "execution_count": 2,
   "metadata": {},
   "outputs": [],
   "source": [
    "# Go to OECD Web\n",
    "#   >>> Find data\n",
    "#   >>> Go to Export\n",
    "#   >>> SDMX (XML)\n",
    "#   >>> Get SDMX DATA URL\n",
    "#   >>> Make resource_id & key\n",
    "#   >>> Run the Script\n",
    "# SDMX DATA URL: https://stats.oecd.org/restsdmx/sdmx.ashx/GetData/HIGH_AGLINK_2010/WLD+O29+NME+DVD+DVG+LDC+CAN+USA+AUS+NZL+MEX+KOR+JPN+TUR+CHL+E27+RUS+UKR+DZA+EGY+SSA+ZAF+ARG+BRA+URY+BGD+CHN+IND+IDN+IRN+MYS+PAK+SAU.WT+CG+RI+OS+PM+VL+BV+PK+PT+SH+BT+CH+SMP+WMP+MK+WYP+CA+SU+SUR+SUW+ET+BD.QP+IM+QC+ST+EX+NT+AH+CI+CR+FE+FO+OU+YLD+XP+PP+MP+IMP+PC/all?startTime=2000&endTime=2019"
   ]
  },
  {
   "cell_type": "code",
   "execution_count": 3,
   "metadata": {},
   "outputs": [
    {
     "name": "stderr",
     "output_type": "stream",
     "text": [
      "c:\\Users\\engin\\AppData\\Local\\Programs\\Python\\Python39\\lib\\site-packages\\requests\\__init__.py:102: RequestsDependencyWarning: urllib3 (1.26.9) or chardet (5.0.0)/charset_normalizer (2.0.12) doesn't match a supported version!\n",
      "  warnings.warn(\"urllib3 ({}) or chardet ({})/charset_normalizer ({}) doesn't match a supported \"\n"
     ]
    }
   ],
   "source": [
    "import pandas as pd\n",
    "import numpy as np\n",
    "import pandasdmx as sdmx\n",
    "\n",
    "import warnings\n",
    "warnings.filterwarnings(\"ignore\")\n",
    "warnings.warn(\"this will not show\")"
   ]
  },
  {
   "cell_type": "code",
   "execution_count": 4,
   "metadata": {},
   "outputs": [],
   "source": [
    "# import pandasdmx as pdmx\n",
    "# # Tell pdmx we want OECD data\n",
    "# oecd = pdmx.Request(\"OECD\")\n",
    "# # Set out everything about the request in the format specified by the OECD API\n",
    "# data_resource_id=\"HIGH_AGLINK_2010\"\n",
    "# data_key=\"all\"\n",
    "# data = oecd.data(resource_id=data_resource_id, key=data_key)\n",
    "# data = data.to_pandas()\n",
    "# df = pd.DataFrame(data).reset_index()\n",
    "# df.head()"
   ]
  },
  {
   "cell_type": "code",
   "execution_count": 5,
   "metadata": {},
   "outputs": [],
   "source": [
    "#df.to_csv(\"oecd_data.csv\")"
   ]
  },
  {
   "cell_type": "code",
   "execution_count": 6,
   "metadata": {},
   "outputs": [],
   "source": [
    "df = pd.read_csv(\"oecd_data.csv\")\n",
    "df.drop(\"Unnamed: 0\", axis=1, inplace=True)"
   ]
  },
  {
   "cell_type": "code",
   "execution_count": 7,
   "metadata": {},
   "outputs": [
    {
     "data": {
      "text/plain": [
       "(206871, 5)"
      ]
     },
     "execution_count": 7,
     "metadata": {},
     "output_type": "execute_result"
    }
   ],
   "source": [
    "df.shape"
   ]
  },
  {
   "cell_type": "code",
   "execution_count": 8,
   "metadata": {},
   "outputs": [
    {
     "data": {
      "text/html": [
       "<div>\n",
       "<style scoped>\n",
       "    .dataframe tbody tr th:only-of-type {\n",
       "        vertical-align: middle;\n",
       "    }\n",
       "\n",
       "    .dataframe tbody tr th {\n",
       "        vertical-align: top;\n",
       "    }\n",
       "\n",
       "    .dataframe thead th {\n",
       "        text-align: right;\n",
       "    }\n",
       "</style>\n",
       "<table border=\"1\" class=\"dataframe\">\n",
       "  <thead>\n",
       "    <tr style=\"text-align: right;\">\n",
       "      <th></th>\n",
       "      <th>COUNTRY</th>\n",
       "      <th>COMMODITY</th>\n",
       "      <th>VARIABLE</th>\n",
       "      <th>TIME_PERIOD</th>\n",
       "      <th>value</th>\n",
       "    </tr>\n",
       "  </thead>\n",
       "  <tbody>\n",
       "    <tr>\n",
       "      <th>0</th>\n",
       "      <td>ARG</td>\n",
       "      <td>BD</td>\n",
       "      <td>NT</td>\n",
       "      <td>2004</td>\n",
       "      <td>0.0</td>\n",
       "    </tr>\n",
       "  </tbody>\n",
       "</table>\n",
       "</div>"
      ],
      "text/plain": [
       "  COUNTRY COMMODITY VARIABLE  TIME_PERIOD  value\n",
       "0     ARG        BD       NT         2004    0.0"
      ]
     },
     "execution_count": 8,
     "metadata": {},
     "output_type": "execute_result"
    }
   ],
   "source": [
    "df.head(1)"
   ]
  },
  {
   "cell_type": "code",
   "execution_count": 9,
   "metadata": {},
   "outputs": [
    {
     "data": {
      "text/plain": [
       "array(['ARG', 'AUS', 'BGD', 'BRA', 'CAN', 'CHL', 'CHN', 'DVD', 'DVG',\n",
       "       'DZA', 'E27', 'EGY', 'IDN', 'IND', 'IRN', 'JPN', 'KOR', 'LDC',\n",
       "       'MEX', 'MYS', 'NME', 'NZL', 'O29', 'PAK', 'RUS', 'SAU', 'SSA',\n",
       "       'TUR', 'UKR', 'URY', 'USA', 'WLD', 'ZAF'], dtype=object)"
      ]
     },
     "execution_count": 9,
     "metadata": {},
     "output_type": "execute_result"
    }
   ],
   "source": [
    "df.COUNTRY.unique()"
   ]
  },
  {
   "cell_type": "code",
   "execution_count": 10,
   "metadata": {},
   "outputs": [],
   "source": [
    "drop_list = [\"DVD\", \"DVG\", \"E27\", \"LDC\", \"NME\", \"O29\", \"WLD\"]\n",
    "for i in drop_list:\n",
    "    df.drop(df[df[\"COUNTRY\"]==i].index, inplace=True)"
   ]
  },
  {
   "cell_type": "code",
   "execution_count": 11,
   "metadata": {},
   "outputs": [
    {
     "data": {
      "text/plain": [
       "array(['ARG', 'AUS', 'BGD', 'BRA', 'CAN', 'CHL', 'CHN', 'DZA', 'EGY',\n",
       "       'IDN', 'IND', 'IRN', 'JPN', 'KOR', 'MEX', 'MYS', 'NZL', 'PAK',\n",
       "       'RUS', 'SAU', 'SSA', 'TUR', 'UKR', 'URY', 'USA', 'ZAF'],\n",
       "      dtype=object)"
      ]
     },
     "execution_count": 11,
     "metadata": {},
     "output_type": "execute_result"
    }
   ],
   "source": [
    "df.COUNTRY.unique()"
   ]
  },
  {
   "cell_type": "code",
   "execution_count": 12,
   "metadata": {},
   "outputs": [
    {
     "data": {
      "text/plain": [
       "(179930, 5)"
      ]
     },
     "execution_count": 12,
     "metadata": {},
     "output_type": "execute_result"
    }
   ],
   "source": [
    "df.shape"
   ]
  },
  {
   "cell_type": "code",
   "execution_count": 13,
   "metadata": {},
   "outputs": [
    {
     "data": {
      "text/html": [
       "<div>\n",
       "<style scoped>\n",
       "    .dataframe tbody tr th:only-of-type {\n",
       "        vertical-align: middle;\n",
       "    }\n",
       "\n",
       "    .dataframe tbody tr th {\n",
       "        vertical-align: top;\n",
       "    }\n",
       "\n",
       "    .dataframe thead th {\n",
       "        text-align: right;\n",
       "    }\n",
       "</style>\n",
       "<table border=\"1\" class=\"dataframe\">\n",
       "  <thead>\n",
       "    <tr style=\"text-align: right;\">\n",
       "      <th></th>\n",
       "      <th>COUNTRY</th>\n",
       "      <th>COMMODITY</th>\n",
       "      <th>VARIABLE</th>\n",
       "      <th>TIME_PERIOD</th>\n",
       "      <th>value</th>\n",
       "    </tr>\n",
       "  </thead>\n",
       "  <tbody>\n",
       "    <tr>\n",
       "      <th>206866</th>\n",
       "      <td>ZAF</td>\n",
       "      <td>WT</td>\n",
       "      <td>YLD</td>\n",
       "      <td>2015</td>\n",
       "      <td>2.973232</td>\n",
       "    </tr>\n",
       "    <tr>\n",
       "      <th>206867</th>\n",
       "      <td>ZAF</td>\n",
       "      <td>WT</td>\n",
       "      <td>YLD</td>\n",
       "      <td>2016</td>\n",
       "      <td>2.991035</td>\n",
       "    </tr>\n",
       "    <tr>\n",
       "      <th>206868</th>\n",
       "      <td>ZAF</td>\n",
       "      <td>WT</td>\n",
       "      <td>YLD</td>\n",
       "      <td>2017</td>\n",
       "      <td>3.004720</td>\n",
       "    </tr>\n",
       "    <tr>\n",
       "      <th>206869</th>\n",
       "      <td>ZAF</td>\n",
       "      <td>WT</td>\n",
       "      <td>YLD</td>\n",
       "      <td>2018</td>\n",
       "      <td>3.018791</td>\n",
       "    </tr>\n",
       "    <tr>\n",
       "      <th>206870</th>\n",
       "      <td>ZAF</td>\n",
       "      <td>WT</td>\n",
       "      <td>YLD</td>\n",
       "      <td>2019</td>\n",
       "      <td>3.033136</td>\n",
       "    </tr>\n",
       "  </tbody>\n",
       "</table>\n",
       "</div>"
      ],
      "text/plain": [
       "       COUNTRY COMMODITY VARIABLE  TIME_PERIOD     value\n",
       "206866     ZAF        WT      YLD         2015  2.973232\n",
       "206867     ZAF        WT      YLD         2016  2.991035\n",
       "206868     ZAF        WT      YLD         2017  3.004720\n",
       "206869     ZAF        WT      YLD         2018  3.018791\n",
       "206870     ZAF        WT      YLD         2019  3.033136"
      ]
     },
     "execution_count": 13,
     "metadata": {},
     "output_type": "execute_result"
    }
   ],
   "source": [
    "df.tail()"
   ]
  },
  {
   "cell_type": "code",
   "execution_count": 14,
   "metadata": {},
   "outputs": [
    {
     "data": {
      "text/html": [
       "<div>\n",
       "<style scoped>\n",
       "    .dataframe tbody tr th:only-of-type {\n",
       "        vertical-align: middle;\n",
       "    }\n",
       "\n",
       "    .dataframe tbody tr th {\n",
       "        vertical-align: top;\n",
       "    }\n",
       "\n",
       "    .dataframe thead th {\n",
       "        text-align: right;\n",
       "    }\n",
       "</style>\n",
       "<table border=\"1\" class=\"dataframe\">\n",
       "  <thead>\n",
       "    <tr style=\"text-align: right;\">\n",
       "      <th></th>\n",
       "      <th>COUNTRY</th>\n",
       "      <th>COMMODITY</th>\n",
       "      <th>VARIABLE</th>\n",
       "      <th>TIME_PERIOD</th>\n",
       "      <th>value</th>\n",
       "    </tr>\n",
       "  </thead>\n",
       "  <tbody>\n",
       "    <tr>\n",
       "      <th>0</th>\n",
       "      <td>ARG</td>\n",
       "      <td>BD</td>\n",
       "      <td>NT</td>\n",
       "      <td>2004</td>\n",
       "      <td>0.000000</td>\n",
       "    </tr>\n",
       "    <tr>\n",
       "      <th>1</th>\n",
       "      <td>ARG</td>\n",
       "      <td>BD</td>\n",
       "      <td>NT</td>\n",
       "      <td>2005</td>\n",
       "      <td>0.000000</td>\n",
       "    </tr>\n",
       "    <tr>\n",
       "      <th>2</th>\n",
       "      <td>ARG</td>\n",
       "      <td>BD</td>\n",
       "      <td>NT</td>\n",
       "      <td>2006</td>\n",
       "      <td>0.000000</td>\n",
       "    </tr>\n",
       "    <tr>\n",
       "      <th>3</th>\n",
       "      <td>ARG</td>\n",
       "      <td>BD</td>\n",
       "      <td>NT</td>\n",
       "      <td>2007</td>\n",
       "      <td>459.090909</td>\n",
       "    </tr>\n",
       "    <tr>\n",
       "      <th>4</th>\n",
       "      <td>ARG</td>\n",
       "      <td>BD</td>\n",
       "      <td>NT</td>\n",
       "      <td>2008</td>\n",
       "      <td>1400.000000</td>\n",
       "    </tr>\n",
       "    <tr>\n",
       "      <th>...</th>\n",
       "      <td>...</td>\n",
       "      <td>...</td>\n",
       "      <td>...</td>\n",
       "      <td>...</td>\n",
       "      <td>...</td>\n",
       "    </tr>\n",
       "    <tr>\n",
       "      <th>179925</th>\n",
       "      <td>ZAF</td>\n",
       "      <td>WT</td>\n",
       "      <td>YLD</td>\n",
       "      <td>2015</td>\n",
       "      <td>2.973232</td>\n",
       "    </tr>\n",
       "    <tr>\n",
       "      <th>179926</th>\n",
       "      <td>ZAF</td>\n",
       "      <td>WT</td>\n",
       "      <td>YLD</td>\n",
       "      <td>2016</td>\n",
       "      <td>2.991035</td>\n",
       "    </tr>\n",
       "    <tr>\n",
       "      <th>179927</th>\n",
       "      <td>ZAF</td>\n",
       "      <td>WT</td>\n",
       "      <td>YLD</td>\n",
       "      <td>2017</td>\n",
       "      <td>3.004720</td>\n",
       "    </tr>\n",
       "    <tr>\n",
       "      <th>179928</th>\n",
       "      <td>ZAF</td>\n",
       "      <td>WT</td>\n",
       "      <td>YLD</td>\n",
       "      <td>2018</td>\n",
       "      <td>3.018791</td>\n",
       "    </tr>\n",
       "    <tr>\n",
       "      <th>179929</th>\n",
       "      <td>ZAF</td>\n",
       "      <td>WT</td>\n",
       "      <td>YLD</td>\n",
       "      <td>2019</td>\n",
       "      <td>3.033136</td>\n",
       "    </tr>\n",
       "  </tbody>\n",
       "</table>\n",
       "<p>179930 rows × 5 columns</p>\n",
       "</div>"
      ],
      "text/plain": [
       "       COUNTRY COMMODITY VARIABLE  TIME_PERIOD        value\n",
       "0          ARG        BD       NT         2004     0.000000\n",
       "1          ARG        BD       NT         2005     0.000000\n",
       "2          ARG        BD       NT         2006     0.000000\n",
       "3          ARG        BD       NT         2007   459.090909\n",
       "4          ARG        BD       NT         2008  1400.000000\n",
       "...        ...       ...      ...          ...          ...\n",
       "179925     ZAF        WT      YLD         2015     2.973232\n",
       "179926     ZAF        WT      YLD         2016     2.991035\n",
       "179927     ZAF        WT      YLD         2017     3.004720\n",
       "179928     ZAF        WT      YLD         2018     3.018791\n",
       "179929     ZAF        WT      YLD         2019     3.033136\n",
       "\n",
       "[179930 rows x 5 columns]"
      ]
     },
     "execution_count": 14,
     "metadata": {},
     "output_type": "execute_result"
    }
   ],
   "source": [
    "df = df.reset_index(drop=True)\n",
    "df"
   ]
  },
  {
   "cell_type": "code",
   "execution_count": 15,
   "metadata": {},
   "outputs": [
    {
     "data": {
      "text/plain": [
       "COUNTRY        False\n",
       "COMMODITY      False\n",
       "VARIABLE       False\n",
       "TIME_PERIOD    False\n",
       "value          False\n",
       "dtype: bool"
      ]
     },
     "execution_count": 15,
     "metadata": {},
     "output_type": "execute_result"
    }
   ],
   "source": [
    "df.isna().all()"
   ]
  },
  {
   "cell_type": "code",
   "execution_count": null,
   "metadata": {},
   "outputs": [],
   "source": []
  }
 ],
 "metadata": {
  "kernelspec": {
   "display_name": "Python 3.9.7 64-bit",
   "language": "python",
   "name": "python3"
  },
  "language_info": {
   "codemirror_mode": {
    "name": "ipython",
    "version": 3
   },
   "file_extension": ".py",
   "mimetype": "text/x-python",
   "name": "python",
   "nbconvert_exporter": "python",
   "pygments_lexer": "ipython3",
   "version": "3.9.7"
  },
  "orig_nbformat": 4,
  "vscode": {
   "interpreter": {
    "hash": "78d5379cc5a4e608d385c34b2eb3bb89eeab02a92c9e7d486e469b4c860ee8ca"
   }
  }
 },
 "nbformat": 4,
 "nbformat_minor": 2
}
