{
 "cells": [
  {
   "cell_type": "markdown",
   "metadata": {},
   "source": [
    "11_neda_mimfpt_(ML_SVC)\n",
    "\n",
    "Engin Abdan"
   ]
  },
  {
   "cell_type": "markdown",
   "metadata": {},
   "source": [
    "### Libraries"
   ]
  },
  {
   "cell_type": "code",
   "execution_count": 166,
   "metadata": {},
   "outputs": [],
   "source": [
    "import numpy as np\n",
    "import pandas as pd\n",
    "\n",
    "import seaborn as sns\n",
    "import matplotlib.pyplot as plt\n",
    "\n",
    "from scipy.stats import skew\n",
    "\n",
    "from sklearn.model_selection import train_test_split\n",
    "from sklearn.preprocessing import MinMaxScaler\n",
    "from sklearn.model_selection import GridSearchCV\n",
    "from sklearn.model_selection import cross_validate\n",
    "from sklearn.metrics import classification_report,confusion_matrix\n",
    "from sklearn.metrics import accuracy_score, confusion_matrix, classification_report\n",
    "from sklearn.metrics import accuracy_score\n",
    "from sklearn.metrics import plot_roc_curve, plot_precision_recall_curve, roc_auc_score, roc_curve\n",
    "\n",
    "from sklearn.svm import SVC\n",
    "\n",
    "import warnings\n",
    "warnings.filterwarnings(\"ignore\")\n",
    "warnings.warn(\"this will not show\")\n",
    "\n",
    "plt.style.use('classic')\n",
    "sns.set_style(\"white\")"
   ]
  },
  {
   "cell_type": "markdown",
   "metadata": {},
   "source": [
    "### Data"
   ]
  },
  {
   "cell_type": "code",
   "execution_count": 167,
   "metadata": {},
   "outputs": [],
   "source": [
    "stu = pd.read_excel(\"std_ins_ml_data.xlsx\")"
   ]
  },
  {
   "cell_type": "code",
   "execution_count": 168,
   "metadata": {},
   "outputs": [
    {
     "data": {
      "text/html": [
       "<div>\n",
       "<style scoped>\n",
       "    .dataframe tbody tr th:only-of-type {\n",
       "        vertical-align: middle;\n",
       "    }\n",
       "\n",
       "    .dataframe tbody tr th {\n",
       "        vertical-align: top;\n",
       "    }\n",
       "\n",
       "    .dataframe thead th {\n",
       "        text-align: right;\n",
       "    }\n",
       "</style>\n",
       "<table border=\"1\" class=\"dataframe\">\n",
       "  <thead>\n",
       "    <tr style=\"text-align: right;\">\n",
       "      <th></th>\n",
       "      <th>Unnamed: 0</th>\n",
       "      <th>Ling_Int</th>\n",
       "      <th>Math_Int</th>\n",
       "      <th>Spa_Int</th>\n",
       "      <th>Mus_Int</th>\n",
       "      <th>Nat_Int</th>\n",
       "      <th>Body_Int</th>\n",
       "      <th>Interp_Int</th>\n",
       "      <th>Intrap_Int</th>\n",
       "      <th>Plt_Or_Not</th>\n",
       "      <th>Flight_Mean</th>\n",
       "      <th>MI_Cat</th>\n",
       "    </tr>\n",
       "  </thead>\n",
       "  <tbody>\n",
       "    <tr>\n",
       "      <th>0</th>\n",
       "      <td>0</td>\n",
       "      <td>20</td>\n",
       "      <td>19</td>\n",
       "      <td>10</td>\n",
       "      <td>16</td>\n",
       "      <td>13</td>\n",
       "      <td>16</td>\n",
       "      <td>17</td>\n",
       "      <td>22</td>\n",
       "      <td>1</td>\n",
       "      <td>95</td>\n",
       "      <td>Intrap</td>\n",
       "    </tr>\n",
       "  </tbody>\n",
       "</table>\n",
       "</div>"
      ],
      "text/plain": [
       "   Unnamed: 0  Ling_Int  Math_Int  Spa_Int  Mus_Int  Nat_Int  Body_Int  \\\n",
       "0           0        20        19       10       16       13        16   \n",
       "\n",
       "   Interp_Int  Intrap_Int  Plt_Or_Not  Flight_Mean  MI_Cat  \n",
       "0          17          22           1           95  Intrap  "
      ]
     },
     "execution_count": 168,
     "metadata": {},
     "output_type": "execute_result"
    }
   ],
   "source": [
    "stu.head(1)"
   ]
  },
  {
   "cell_type": "code",
   "execution_count": 169,
   "metadata": {},
   "outputs": [
    {
     "data": {
      "text/html": [
       "<div>\n",
       "<style scoped>\n",
       "    .dataframe tbody tr th:only-of-type {\n",
       "        vertical-align: middle;\n",
       "    }\n",
       "\n",
       "    .dataframe tbody tr th {\n",
       "        vertical-align: top;\n",
       "    }\n",
       "\n",
       "    .dataframe thead th {\n",
       "        text-align: right;\n",
       "    }\n",
       "</style>\n",
       "<table border=\"1\" class=\"dataframe\">\n",
       "  <thead>\n",
       "    <tr style=\"text-align: right;\">\n",
       "      <th></th>\n",
       "      <th>Ling_Int</th>\n",
       "      <th>Math_Int</th>\n",
       "      <th>Spa_Int</th>\n",
       "      <th>Mus_Int</th>\n",
       "      <th>Nat_Int</th>\n",
       "      <th>Body_Int</th>\n",
       "      <th>Interp_Int</th>\n",
       "      <th>Intrap_Int</th>\n",
       "      <th>Plt_Or_Not</th>\n",
       "    </tr>\n",
       "  </thead>\n",
       "  <tbody>\n",
       "    <tr>\n",
       "      <th>0</th>\n",
       "      <td>20</td>\n",
       "      <td>19</td>\n",
       "      <td>10</td>\n",
       "      <td>16</td>\n",
       "      <td>13</td>\n",
       "      <td>16</td>\n",
       "      <td>17</td>\n",
       "      <td>22</td>\n",
       "      <td>1</td>\n",
       "    </tr>\n",
       "  </tbody>\n",
       "</table>\n",
       "</div>"
      ],
      "text/plain": [
       "   Ling_Int  Math_Int  Spa_Int  Mus_Int  Nat_Int  Body_Int  Interp_Int  \\\n",
       "0        20        19       10       16       13        16          17   \n",
       "\n",
       "   Intrap_Int  Plt_Or_Not  \n",
       "0          22           1  "
      ]
     },
     "execution_count": 169,
     "metadata": {},
     "output_type": "execute_result"
    }
   ],
   "source": [
    "drop_list = [\"Unnamed: 0\", \"Flight_Mean\",\"MI_Cat\"]\n",
    "stu.drop(drop_list, inplace=True, axis=1)\n",
    "stu.head(1)"
   ]
  },
  {
   "cell_type": "markdown",
   "metadata": {},
   "source": [
    "### Data infos"
   ]
  },
  {
   "cell_type": "code",
   "execution_count": 170,
   "metadata": {},
   "outputs": [
    {
     "data": {
      "text/html": [
       "<div>\n",
       "<style scoped>\n",
       "    .dataframe tbody tr th:only-of-type {\n",
       "        vertical-align: middle;\n",
       "    }\n",
       "\n",
       "    .dataframe tbody tr th {\n",
       "        vertical-align: top;\n",
       "    }\n",
       "\n",
       "    .dataframe thead th {\n",
       "        text-align: right;\n",
       "    }\n",
       "</style>\n",
       "<table border=\"1\" class=\"dataframe\">\n",
       "  <thead>\n",
       "    <tr style=\"text-align: right;\">\n",
       "      <th></th>\n",
       "      <th>count</th>\n",
       "      <th>mean</th>\n",
       "      <th>std</th>\n",
       "      <th>min</th>\n",
       "      <th>25%</th>\n",
       "      <th>50%</th>\n",
       "      <th>75%</th>\n",
       "      <th>max</th>\n",
       "    </tr>\n",
       "  </thead>\n",
       "  <tbody>\n",
       "    <tr>\n",
       "      <th>Ling_Int</th>\n",
       "      <td>100.0</td>\n",
       "      <td>17.72</td>\n",
       "      <td>3.068511</td>\n",
       "      <td>11.0</td>\n",
       "      <td>16.00</td>\n",
       "      <td>17.0</td>\n",
       "      <td>20.0</td>\n",
       "      <td>26.0</td>\n",
       "    </tr>\n",
       "    <tr>\n",
       "      <th>Math_Int</th>\n",
       "      <td>100.0</td>\n",
       "      <td>17.75</td>\n",
       "      <td>3.655285</td>\n",
       "      <td>10.0</td>\n",
       "      <td>15.00</td>\n",
       "      <td>17.0</td>\n",
       "      <td>19.0</td>\n",
       "      <td>33.0</td>\n",
       "    </tr>\n",
       "    <tr>\n",
       "      <th>Spa_Int</th>\n",
       "      <td>100.0</td>\n",
       "      <td>17.81</td>\n",
       "      <td>3.047420</td>\n",
       "      <td>10.0</td>\n",
       "      <td>15.75</td>\n",
       "      <td>17.5</td>\n",
       "      <td>20.0</td>\n",
       "      <td>26.0</td>\n",
       "    </tr>\n",
       "    <tr>\n",
       "      <th>Mus_Int</th>\n",
       "      <td>100.0</td>\n",
       "      <td>17.86</td>\n",
       "      <td>3.110815</td>\n",
       "      <td>10.0</td>\n",
       "      <td>16.00</td>\n",
       "      <td>17.5</td>\n",
       "      <td>20.0</td>\n",
       "      <td>26.0</td>\n",
       "    </tr>\n",
       "    <tr>\n",
       "      <th>Nat_Int</th>\n",
       "      <td>100.0</td>\n",
       "      <td>18.16</td>\n",
       "      <td>3.740901</td>\n",
       "      <td>10.0</td>\n",
       "      <td>15.75</td>\n",
       "      <td>18.0</td>\n",
       "      <td>20.0</td>\n",
       "      <td>33.0</td>\n",
       "    </tr>\n",
       "    <tr>\n",
       "      <th>Body_Int</th>\n",
       "      <td>100.0</td>\n",
       "      <td>17.20</td>\n",
       "      <td>2.670452</td>\n",
       "      <td>10.0</td>\n",
       "      <td>15.00</td>\n",
       "      <td>17.0</td>\n",
       "      <td>19.0</td>\n",
       "      <td>23.0</td>\n",
       "    </tr>\n",
       "    <tr>\n",
       "      <th>Interp_Int</th>\n",
       "      <td>100.0</td>\n",
       "      <td>17.78</td>\n",
       "      <td>2.865962</td>\n",
       "      <td>12.0</td>\n",
       "      <td>16.00</td>\n",
       "      <td>18.0</td>\n",
       "      <td>19.0</td>\n",
       "      <td>26.0</td>\n",
       "    </tr>\n",
       "    <tr>\n",
       "      <th>Intrap_Int</th>\n",
       "      <td>100.0</td>\n",
       "      <td>18.07</td>\n",
       "      <td>2.875374</td>\n",
       "      <td>13.0</td>\n",
       "      <td>16.00</td>\n",
       "      <td>18.0</td>\n",
       "      <td>20.0</td>\n",
       "      <td>26.0</td>\n",
       "    </tr>\n",
       "    <tr>\n",
       "      <th>Plt_Or_Not</th>\n",
       "      <td>100.0</td>\n",
       "      <td>0.58</td>\n",
       "      <td>0.496045</td>\n",
       "      <td>0.0</td>\n",
       "      <td>0.00</td>\n",
       "      <td>1.0</td>\n",
       "      <td>1.0</td>\n",
       "      <td>1.0</td>\n",
       "    </tr>\n",
       "  </tbody>\n",
       "</table>\n",
       "</div>"
      ],
      "text/plain": [
       "            count   mean       std   min    25%   50%   75%   max\n",
       "Ling_Int    100.0  17.72  3.068511  11.0  16.00  17.0  20.0  26.0\n",
       "Math_Int    100.0  17.75  3.655285  10.0  15.00  17.0  19.0  33.0\n",
       "Spa_Int     100.0  17.81  3.047420  10.0  15.75  17.5  20.0  26.0\n",
       "Mus_Int     100.0  17.86  3.110815  10.0  16.00  17.5  20.0  26.0\n",
       "Nat_Int     100.0  18.16  3.740901  10.0  15.75  18.0  20.0  33.0\n",
       "Body_Int    100.0  17.20  2.670452  10.0  15.00  17.0  19.0  23.0\n",
       "Interp_Int  100.0  17.78  2.865962  12.0  16.00  18.0  19.0  26.0\n",
       "Intrap_Int  100.0  18.07  2.875374  13.0  16.00  18.0  20.0  26.0\n",
       "Plt_Or_Not  100.0   0.58  0.496045   0.0   0.00   1.0   1.0   1.0"
      ]
     },
     "execution_count": 170,
     "metadata": {},
     "output_type": "execute_result"
    }
   ],
   "source": [
    "stu.describe().T"
   ]
  },
  {
   "cell_type": "markdown",
   "metadata": {},
   "source": [
    "### Data Balance"
   ]
  },
  {
   "cell_type": "code",
   "execution_count": 171,
   "metadata": {},
   "outputs": [
    {
     "data": {
      "text/plain": [
       "1    58\n",
       "0    42\n",
       "Name: Plt_Or_Not, dtype: int64"
      ]
     },
     "execution_count": 171,
     "metadata": {},
     "output_type": "execute_result"
    }
   ],
   "source": [
    "stu[\"Plt_Or_Not\"].value_counts()"
   ]
  },
  {
   "cell_type": "markdown",
   "metadata": {},
   "source": [
    "### Skewness"
   ]
  },
  {
   "cell_type": "code",
   "execution_count": 172,
   "metadata": {},
   "outputs": [
    {
     "name": "stdout",
     "output_type": "stream",
     "text": [
      "Ling_Int \t: 0.12059345356069898 \t>>> Normal\n",
      "Math_Int \t: 1.3051123209475743 \t>>> Skewed\n",
      "Spa_Int \t: 0.2115483275849964 \t>>> Normal\n",
      "Mus_Int \t: 0.32126133203604673 \t>>> Normal\n",
      "Nat_Int \t: 0.8025455431140828 \t>>> Moderate\n",
      "Body_Int \t: 0.16184329645515394 \t>>> Normal\n",
      "Interp_Int \t: 0.22759596608919014 \t>>> Normal\n",
      "Intrap_Int \t: 0.12173869243645632 \t>>> Normal\n"
     ]
    }
   ],
   "source": [
    "x = stu.drop(columns=[\"Plt_Or_Not\"]).columns\n",
    "for i in x:\n",
    "    if skew(stu[i]) >= -0.5 and skew(stu[i]) < 0.5:\n",
    "        print(f\"{i} \\t: {skew(stu[i])} \\t>>> Normal\")\n",
    "    elif skew(stu[i]) >= 0.5 and skew(stu[i]) < 1.0:\n",
    "        print(f\"{i} \\t: {skew(stu[i])} \\t>>> Moderate\")\n",
    "    elif skew(stu[i]) >= 1.0:\n",
    "        print(f\"{i} \\t: {skew(stu[i])} \\t>>> Skewed\")              "
   ]
  },
  {
   "cell_type": "markdown",
   "metadata": {},
   "source": [
    "### Heatmap"
   ]
  },
  {
   "cell_type": "code",
   "execution_count": 173,
   "metadata": {},
   "outputs": [],
   "source": [
    "# plt.figure(figsize=(20,10))\n",
    "# sns.heatmap(stu.corr(), annot=True, cmap=\"BrBG\")\n",
    "# plt.tight_layout();"
   ]
  },
  {
   "cell_type": "markdown",
   "metadata": {},
   "source": [
    "### Pairplot"
   ]
  },
  {
   "cell_type": "code",
   "execution_count": 174,
   "metadata": {},
   "outputs": [],
   "source": [
    "#sns.pairplot(stu,hue=\"Plt_Or_Not\");"
   ]
  },
  {
   "cell_type": "markdown",
   "metadata": {},
   "source": [
    "### Corr With Plt_Or_Not"
   ]
  },
  {
   "cell_type": "code",
   "execution_count": 175,
   "metadata": {},
   "outputs": [
    {
     "data": {
      "text/plain": [
       "<AxesSubplot:>"
      ]
     },
     "execution_count": 175,
     "metadata": {},
     "output_type": "execute_result"
    },
    {
     "data": {
      "image/png": "[encoded data removed]",
      "text/plain": [
       "<Figure size 640x480 with 1 Axes>"
      ]
     },
     "metadata": {},
     "output_type": "display_data"
    }
   ],
   "source": [
    "stu.corr()[\"Plt_Or_Not\"].drop(\"Plt_Or_Not\").sort_values().plot.barh()"
   ]
  },
  {
   "cell_type": "markdown",
   "metadata": {},
   "source": [
    "### Train Test Split"
   ]
  },
  {
   "cell_type": "code",
   "execution_count": 176,
   "metadata": {},
   "outputs": [
    {
     "name": "stdout",
     "output_type": "stream",
     "text": [
      "Train features shape :  (70, 8)\n",
      "Train target shape   :  (70,)\n",
      "Test features shape  :  (30, 8)\n",
      "Test target shape    :  (30,)\n"
     ]
    }
   ],
   "source": [
    "from sklearn.model_selection import train_test_split\n",
    "\n",
    "x = stu.drop(columns=[\"Plt_Or_Not\"], axis=1)\n",
    "y = stu[\"Plt_Or_Not\"]\n",
    "\n",
    "x_train, x_test, y_train, y_test = train_test_split(x, y, test_size=0.3, random_state=42)\n",
    "print(\"Train features shape : \", x_train.shape)\n",
    "print(\"Train target shape   : \", y_train.shape)\n",
    "print(\"Test features shape  : \", x_test.shape)\n",
    "print(\"Test target shape    : \", y_test.shape)"
   ]
  },
  {
   "cell_type": "markdown",
   "metadata": {},
   "source": [
    "### Scaling"
   ]
  },
  {
   "cell_type": "code",
   "execution_count": 177,
   "metadata": {},
   "outputs": [],
   "source": [
    "from sklearn.preprocessing import MinMaxScaler\n",
    "\n",
    "scaler = MinMaxScaler()\n",
    "x_train_scaled = scaler.fit_transform(x_train)\n",
    "x_test_scaled = scaler.transform(x_test)"
   ]
  },
  {
   "cell_type": "markdown",
   "metadata": {},
   "source": [
    "### Model"
   ]
  },
  {
   "cell_type": "code",
   "execution_count": 178,
   "metadata": {},
   "outputs": [],
   "source": [
    "from sklearn.svm import SVC\n",
    "from sklearn.preprocessing import MinMaxScaler"
   ]
  },
  {
   "cell_type": "markdown",
   "metadata": {},
   "source": [
    "### Without Scalling"
   ]
  },
  {
   "cell_type": "code",
   "execution_count": 179,
   "metadata": {},
   "outputs": [
    {
     "name": "stdout",
     "output_type": "stream",
     "text": [
      "[[ 1 15]\n",
      " [ 0 14]]\n",
      "              precision    recall  f1-score   support\n",
      "\n",
      "           0       1.00      0.06      0.12        16\n",
      "           1       0.48      1.00      0.65        14\n",
      "\n",
      "    accuracy                           0.50        30\n",
      "   macro avg       0.74      0.53      0.38        30\n",
      "weighted avg       0.76      0.50      0.37        30\n",
      "\n"
     ]
    }
   ],
   "source": [
    "from sklearn.metrics import classification_report,confusion_matrix\n",
    "model = SVC()\n",
    "\n",
    "model.fit(x_train, y_train)\n",
    "y_test_pred = model.predict(x_test)\n",
    "\n",
    "print(confusion_matrix(y_test, y_test_pred))\n",
    "print(classification_report(y_test, y_test_pred))"
   ]
  },
  {
   "cell_type": "code",
   "execution_count": 180,
   "metadata": {},
   "outputs": [
    {
     "data": {
      "text/plain": [
       "test_precision    0.621429\n",
       "test_recall       0.975000\n",
       "test_f1           0.756970\n",
       "test_accuracy     0.614286\n",
       "dtype: float64"
      ]
     },
     "execution_count": 180,
     "metadata": {},
     "output_type": "execute_result"
    }
   ],
   "source": [
    "from sklearn.model_selection import cross_validate\n",
    "\n",
    "model = SVC()\n",
    "\n",
    "scores = cross_validate(model,\n",
    "                        x_train,\n",
    "                        y_train,\n",
    "                        scoring = ['precision','recall','f1','accuracy'],\n",
    "                        cv = 10)\n",
    "\n",
    "df_scores = pd.DataFrame(scores, index = range(1, 11))\n",
    "df_scores.mean()[2:]"
   ]
  },
  {
   "cell_type": "markdown",
   "metadata": {},
   "source": [
    "### With Scalling"
   ]
  },
  {
   "cell_type": "code",
   "execution_count": 181,
   "metadata": {},
   "outputs": [
    {
     "name": "stdout",
     "output_type": "stream",
     "text": [
      "[[ 1 15]\n",
      " [ 2 12]]\n",
      "              precision    recall  f1-score   support\n",
      "\n",
      "           0       0.33      0.06      0.11        16\n",
      "           1       0.44      0.86      0.59        14\n",
      "\n",
      "    accuracy                           0.43        30\n",
      "   macro avg       0.39      0.46      0.35        30\n",
      "weighted avg       0.39      0.43      0.33        30\n",
      "\n"
     ]
    }
   ],
   "source": [
    "from sklearn.metrics import classification_report,confusion_matrix\n",
    "model = SVC()\n",
    "\n",
    "model.fit(x_train_scaled, y_train)\n",
    "y_test_pred = model.predict(x_test_scaled)\n",
    "\n",
    "print(confusion_matrix(y_test, y_test_pred))\n",
    "print(classification_report(y_test, y_test_pred))"
   ]
  },
  {
   "cell_type": "code",
   "execution_count": 182,
   "metadata": {},
   "outputs": [
    {
     "data": {
      "text/plain": [
       "test_precision    0.628571\n",
       "test_recall       1.000000\n",
       "test_f1           0.769697\n",
       "test_accuracy     0.628571\n",
       "dtype: float64"
      ]
     },
     "execution_count": 182,
     "metadata": {},
     "output_type": "execute_result"
    }
   ],
   "source": [
    "model = SVC()\n",
    "\n",
    "scores = cross_validate(model,\n",
    "                        x_train_scaled,\n",
    "                        y_train,\n",
    "                        scoring = ['precision','recall','f1','accuracy'],\n",
    "                        cv = 10)\n",
    "\n",
    "df_scores = pd.DataFrame(scores, index = range(1, 11))\n",
    "df_scores.mean()[2:]"
   ]
  },
  {
   "cell_type": "markdown",
   "metadata": {},
   "source": [
    "### With Best Parameters (GridsearchCV)"
   ]
  },
  {
   "cell_type": "code",
   "execution_count": 183,
   "metadata": {},
   "outputs": [],
   "source": [
    "from sklearn.model_selection import GridSearchCV"
   ]
  },
  {
   "cell_type": "code",
   "execution_count": 184,
   "metadata": {},
   "outputs": [],
   "source": [
    "param_grid = {'C': [0.0001, 0.001, 0.01, 0.1, 1],\n",
    "              'gamma': [\"scale\", \"auto\", 1,0.1,0.01,0.001,0.0001],\n",
    "              'kernel': ['rbf', 'linear']}"
   ]
  },
  {
   "cell_type": "code",
   "execution_count": 185,
   "metadata": {},
   "outputs": [],
   "source": [
    "model = SVC()\n",
    "model_grid = GridSearchCV(model, param_grid, verbose=3, refit=True)"
   ]
  },
  {
   "cell_type": "code",
   "execution_count": 186,
   "metadata": {},
   "outputs": [
    {
     "name": "stdout",
     "output_type": "stream",
     "text": [
      "Fitting 5 folds for each of 70 candidates, totalling 350 fits\n",
      "[CV 1/5] END .C=0.0001, gamma=scale, kernel=rbf;, score=0.643 total time=   0.0s\n",
      "[CV 2/5] END .C=0.0001, gamma=scale, kernel=rbf;, score=0.643 total time=   0.0s\n",
      "[CV 3/5] END .C=0.0001, gamma=scale, kernel=rbf;, score=0.643 total time=   0.0s\n",
      "[CV 4/5] END .C=0.0001, gamma=scale, kernel=rbf;, score=0.643 total time=   0.0s\n",
      "[CV 5/5] END .C=0.0001, gamma=scale, kernel=rbf;, score=0.571 total time=   0.0s\n",
      "[CV 1/5] END C=0.0001, gamma=scale, kernel=linear;, score=0.643 total time=   0.0s\n",
      "[CV 2/5] END C=0.0001, gamma=scale, kernel=linear;, score=0.643 total time=   0.0s\n",
      "[CV 3/5] END C=0.0001, gamma=scale, kernel=linear;, score=0.643 total time=   0.0s\n",
      "[CV 4/5] END C=0.0001, gamma=scale, kernel=linear;, score=0.643 total time=   0.0s\n",
      "[CV 5/5] END C=0.0001, gamma=scale, kernel=linear;, score=0.571 total time=   0.0s\n",
      "[CV 1/5] END ..C=0.0001, gamma=auto, kernel=rbf;, score=0.643 total time=   0.0s\n",
      "[CV 2/5] END ..C=0.0001, gamma=auto, kernel=rbf;, score=0.643 total time=   0.0s\n",
      "[CV 3/5] END ..C=0.0001, gamma=auto, kernel=rbf;, score=0.643 total time=   0.0s\n",
      "[CV 4/5] END ..C=0.0001, gamma=auto, kernel=rbf;, score=0.643 total time=   0.0s\n",
      "[CV 5/5] END ..C=0.0001, gamma=auto, kernel=rbf;, score=0.571 total time=   0.0s\n",
      "[CV 1/5] END C=0.0001, gamma=auto, kernel=linear;, score=0.643 total time=   0.0s\n",
      "[CV 2/5] END C=0.0001, gamma=auto, kernel=linear;, score=0.643 total time=   0.0s\n",
      "[CV 3/5] END C=0.0001, gamma=auto, kernel=linear;, score=0.643 total time=   0.0s\n",
      "[CV 4/5] END C=0.0001, gamma=auto, kernel=linear;, score=0.643 total time=   0.0s\n",
      "[CV 5/5] END C=0.0001, gamma=auto, kernel=linear;, score=0.571 total time=   0.0s\n",
      "[CV 1/5] END .....C=0.0001, gamma=1, kernel=rbf;, score=0.643 total time=   0.0s\n",
      "[CV 2/5] END .....C=0.0001, gamma=1, kernel=rbf;, score=0.643 total time=   0.0s\n",
      "[CV 3/5] END .....C=0.0001, gamma=1, kernel=rbf;, score=0.643 total time=   0.0s\n",
      "[CV 4/5] END .....C=0.0001, gamma=1, kernel=rbf;, score=0.643 total time=   0.0s\n",
      "[CV 5/5] END .....C=0.0001, gamma=1, kernel=rbf;, score=0.571 total time=   0.0s\n",
      "[CV 1/5] END ..C=0.0001, gamma=1, kernel=linear;, score=0.643 total time=   0.0s\n",
      "[CV 2/5] END ..C=0.0001, gamma=1, kernel=linear;, score=0.643 total time=   0.0s\n",
      "[CV 3/5] END ..C=0.0001, gamma=1, kernel=linear;, score=0.643 total time=   0.0s\n",
      "[CV 4/5] END ..C=0.0001, gamma=1, kernel=linear;, score=0.643 total time=   0.0s\n",
      "[CV 5/5] END ..C=0.0001, gamma=1, kernel=linear;, score=0.571 total time=   0.0s\n",
      "[CV 1/5] END ...C=0.0001, gamma=0.1, kernel=rbf;, score=0.643 total time=   0.0s\n",
      "[CV 2/5] END ...C=0.0001, gamma=0.1, kernel=rbf;, score=0.643 total time=   0.0s\n",
      "[CV 3/5] END ...C=0.0001, gamma=0.1, kernel=rbf;, score=0.643 total time=   0.0s\n",
      "[CV 4/5] END ...C=0.0001, gamma=0.1, kernel=rbf;, score=0.643 total time=   0.0s\n",
      "[CV 5/5] END ...C=0.0001, gamma=0.1, kernel=rbf;, score=0.571 total time=   0.0s\n",
      "[CV 1/5] END C=0.0001, gamma=0.1, kernel=linear;, score=0.643 total time=   0.0s\n",
      "[CV 2/5] END C=0.0001, gamma=0.1, kernel=linear;, score=0.643 total time=   0.0s\n",
      "[CV 3/5] END C=0.0001, gamma=0.1, kernel=linear;, score=0.643 total time=   0.0s\n",
      "[CV 4/5] END C=0.0001, gamma=0.1, kernel=linear;, score=0.643 total time=   0.0s\n",
      "[CV 5/5] END C=0.0001, gamma=0.1, kernel=linear;, score=0.571 total time=   0.0s\n",
      "[CV 1/5] END ..C=0.0001, gamma=0.01, kernel=rbf;, score=0.643 total time=   0.0s\n",
      "[CV 2/5] END ..C=0.0001, gamma=0.01, kernel=rbf;, score=0.643 total time=   0.0s\n",
      "[CV 3/5] END ..C=0.0001, gamma=0.01, kernel=rbf;, score=0.643 total time=   0.0s\n",
      "[CV 4/5] END ..C=0.0001, gamma=0.01, kernel=rbf;, score=0.643 total time=   0.0s\n",
      "[CV 5/5] END ..C=0.0001, gamma=0.01, kernel=rbf;, score=0.571 total time=   0.0s\n",
      "[CV 1/5] END C=0.0001, gamma=0.01, kernel=linear;, score=0.643 total time=   0.0s\n",
      "[CV 2/5] END C=0.0001, gamma=0.01, kernel=linear;, score=0.643 total time=   0.0s\n",
      "[CV 3/5] END C=0.0001, gamma=0.01, kernel=linear;, score=0.643 total time=   0.0s\n",
      "[CV 4/5] END C=0.0001, gamma=0.01, kernel=linear;, score=0.643 total time=   0.0s\n",
      "[CV 5/5] END C=0.0001, gamma=0.01, kernel=linear;, score=0.571 total time=   0.0s\n",
      "[CV 1/5] END .C=0.0001, gamma=0.001, kernel=rbf;, score=0.643 total time=   0.0s\n",
      "[CV 2/5] END .C=0.0001, gamma=0.001, kernel=rbf;, score=0.643 total time=   0.0s\n",
      "[CV 3/5] END .C=0.0001, gamma=0.001, kernel=rbf;, score=0.643 total time=   0.0s\n",
      "[CV 4/5] END .C=0.0001, gamma=0.001, kernel=rbf;, score=0.643 total time=   0.0s\n",
      "[CV 5/5] END .C=0.0001, gamma=0.001, kernel=rbf;, score=0.571 total time=   0.0s\n",
      "[CV 1/5] END C=0.0001, gamma=0.001, kernel=linear;, score=0.643 total time=   0.0s\n",
      "[CV 2/5] END C=0.0001, gamma=0.001, kernel=linear;, score=0.643 total time=   0.0s\n",
      "[CV 3/5] END C=0.0001, gamma=0.001, kernel=linear;, score=0.643 total time=   0.0s\n",
      "[CV 4/5] END C=0.0001, gamma=0.001, kernel=linear;, score=0.643 total time=   0.0s\n",
      "[CV 5/5] END C=0.0001, gamma=0.001, kernel=linear;, score=0.571 total time=   0.0s\n",
      "[CV 1/5] END C=0.0001, gamma=0.0001, kernel=rbf;, score=0.643 total time=   0.0s\n",
      "[CV 2/5] END C=0.0001, gamma=0.0001, kernel=rbf;, score=0.643 total time=   0.0s\n",
      "[CV 3/5] END C=0.0001, gamma=0.0001, kernel=rbf;, score=0.643 total time=   0.0s\n",
      "[CV 4/5] END C=0.0001, gamma=0.0001, kernel=rbf;, score=0.643 total time=   0.0s\n",
      "[CV 5/5] END C=0.0001, gamma=0.0001, kernel=rbf;, score=0.571 total time=   0.0s\n",
      "[CV 1/5] END C=0.0001, gamma=0.0001, kernel=linear;, score=0.643 total time=   0.0s\n",
      "[CV 2/5] END C=0.0001, gamma=0.0001, kernel=linear;, score=0.643 total time=   0.0s\n",
      "[CV 3/5] END C=0.0001, gamma=0.0001, kernel=linear;, score=0.643 total time=   0.0s\n",
      "[CV 4/5] END C=0.0001, gamma=0.0001, kernel=linear;, score=0.643 total time=   0.0s\n",
      "[CV 5/5] END C=0.0001, gamma=0.0001, kernel=linear;, score=0.571 total time=   0.0s\n",
      "[CV 1/5] END ..C=0.001, gamma=scale, kernel=rbf;, score=0.643 total time=   0.0s\n",
      "[CV 2/5] END ..C=0.001, gamma=scale, kernel=rbf;, score=0.643 total time=   0.0s\n",
      "[CV 3/5] END ..C=0.001, gamma=scale, kernel=rbf;, score=0.643 total time=   0.0s\n",
      "[CV 4/5] END ..C=0.001, gamma=scale, kernel=rbf;, score=0.643 total time=   0.0s\n",
      "[CV 5/5] END ..C=0.001, gamma=scale, kernel=rbf;, score=0.571 total time=   0.0s\n",
      "[CV 1/5] END C=0.001, gamma=scale, kernel=linear;, score=0.643 total time=   0.0s\n",
      "[CV 2/5] END C=0.001, gamma=scale, kernel=linear;, score=0.643 total time=   0.0s\n",
      "[CV 3/5] END C=0.001, gamma=scale, kernel=linear;, score=0.643 total time=   0.0s\n",
      "[CV 4/5] END C=0.001, gamma=scale, kernel=linear;, score=0.643 total time=   0.0s\n",
      "[CV 5/5] END C=0.001, gamma=scale, kernel=linear;, score=0.571 total time=   0.0s\n",
      "[CV 1/5] END ...C=0.001, gamma=auto, kernel=rbf;, score=0.643 total time=   0.0s\n",
      "[CV 2/5] END ...C=0.001, gamma=auto, kernel=rbf;, score=0.643 total time=   0.0s\n",
      "[CV 3/5] END ...C=0.001, gamma=auto, kernel=rbf;, score=0.643 total time=   0.0s\n",
      "[CV 4/5] END ...C=0.001, gamma=auto, kernel=rbf;, score=0.643 total time=   0.0s\n",
      "[CV 5/5] END ...C=0.001, gamma=auto, kernel=rbf;, score=0.571 total time=   0.0s\n",
      "[CV 1/5] END C=0.001, gamma=auto, kernel=linear;, score=0.643 total time=   0.0s\n",
      "[CV 2/5] END C=0.001, gamma=auto, kernel=linear;, score=0.643 total time=   0.0s\n",
      "[CV 3/5] END C=0.001, gamma=auto, kernel=linear;, score=0.643 total time=   0.0s\n",
      "[CV 4/5] END C=0.001, gamma=auto, kernel=linear;, score=0.643 total time=   0.0s\n",
      "[CV 5/5] END C=0.001, gamma=auto, kernel=linear;, score=0.571 total time=   0.0s\n",
      "[CV 1/5] END ......C=0.001, gamma=1, kernel=rbf;, score=0.643 total time=   0.0s\n",
      "[CV 2/5] END ......C=0.001, gamma=1, kernel=rbf;, score=0.643 total time=   0.0s\n",
      "[CV 3/5] END ......C=0.001, gamma=1, kernel=rbf;, score=0.643 total time=   0.0s\n",
      "[CV 4/5] END ......C=0.001, gamma=1, kernel=rbf;, score=0.643 total time=   0.0s\n",
      "[CV 5/5] END ......C=0.001, gamma=1, kernel=rbf;, score=0.571 total time=   0.0s\n",
      "[CV 1/5] END ...C=0.001, gamma=1, kernel=linear;, score=0.643 total time=   0.0s\n",
      "[CV 2/5] END ...C=0.001, gamma=1, kernel=linear;, score=0.643 total time=   0.0s\n",
      "[CV 3/5] END ...C=0.001, gamma=1, kernel=linear;, score=0.643 total time=   0.0s\n",
      "[CV 4/5] END ...C=0.001, gamma=1, kernel=linear;, score=0.643 total time=   0.0s\n",
      "[CV 5/5] END ...C=0.001, gamma=1, kernel=linear;, score=0.571 total time=   0.0s\n",
      "[CV 1/5] END ....C=0.001, gamma=0.1, kernel=rbf;, score=0.643 total time=   0.0s\n",
      "[CV 2/5] END ....C=0.001, gamma=0.1, kernel=rbf;, score=0.643 total time=   0.0s\n",
      "[CV 3/5] END ....C=0.001, gamma=0.1, kernel=rbf;, score=0.643 total time=   0.0s\n",
      "[CV 4/5] END ....C=0.001, gamma=0.1, kernel=rbf;, score=0.643 total time=   0.0s\n",
      "[CV 5/5] END ....C=0.001, gamma=0.1, kernel=rbf;, score=0.571 total time=   0.0s\n",
      "[CV 1/5] END .C=0.001, gamma=0.1, kernel=linear;, score=0.643 total time=   0.0s\n",
      "[CV 2/5] END .C=0.001, gamma=0.1, kernel=linear;, score=0.643 total time=   0.0s\n",
      "[CV 3/5] END .C=0.001, gamma=0.1, kernel=linear;, score=0.643 total time=   0.0s\n",
      "[CV 4/5] END .C=0.001, gamma=0.1, kernel=linear;, score=0.643 total time=   0.0s\n",
      "[CV 5/5] END .C=0.001, gamma=0.1, kernel=linear;, score=0.571 total time=   0.0s\n",
      "[CV 1/5] END ...C=0.001, gamma=0.01, kernel=rbf;, score=0.643 total time=   0.0s\n",
      "[CV 2/5] END ...C=0.001, gamma=0.01, kernel=rbf;, score=0.643 total time=   0.0s\n",
      "[CV 3/5] END ...C=0.001, gamma=0.01, kernel=rbf;, score=0.643 total time=   0.0s\n",
      "[CV 4/5] END ...C=0.001, gamma=0.01, kernel=rbf;, score=0.643 total time=   0.0s\n",
      "[CV 5/5] END ...C=0.001, gamma=0.01, kernel=rbf;, score=0.571 total time=   0.0s\n",
      "[CV 1/5] END C=0.001, gamma=0.01, kernel=linear;, score=0.643 total time=   0.0s\n",
      "[CV 2/5] END C=0.001, gamma=0.01, kernel=linear;, score=0.643 total time=   0.0s\n",
      "[CV 3/5] END C=0.001, gamma=0.01, kernel=linear;, score=0.643 total time=   0.0s\n",
      "[CV 4/5] END C=0.001, gamma=0.01, kernel=linear;, score=0.643 total time=   0.0s\n",
      "[CV 5/5] END C=0.001, gamma=0.01, kernel=linear;, score=0.571 total time=   0.0s\n",
      "[CV 1/5] END ..C=0.001, gamma=0.001, kernel=rbf;, score=0.643 total time=   0.0s\n",
      "[CV 2/5] END ..C=0.001, gamma=0.001, kernel=rbf;, score=0.643 total time=   0.0s\n",
      "[CV 3/5] END ..C=0.001, gamma=0.001, kernel=rbf;, score=0.643 total time=   0.0s\n",
      "[CV 4/5] END ..C=0.001, gamma=0.001, kernel=rbf;, score=0.643 total time=   0.0s\n",
      "[CV 5/5] END ..C=0.001, gamma=0.001, kernel=rbf;, score=0.571 total time=   0.0s\n",
      "[CV 1/5] END C=0.001, gamma=0.001, kernel=linear;, score=0.643 total time=   0.0s\n",
      "[CV 2/5] END C=0.001, gamma=0.001, kernel=linear;, score=0.643 total time=   0.0s\n",
      "[CV 3/5] END C=0.001, gamma=0.001, kernel=linear;, score=0.643 total time=   0.0s\n",
      "[CV 4/5] END C=0.001, gamma=0.001, kernel=linear;, score=0.643 total time=   0.0s\n",
      "[CV 5/5] END C=0.001, gamma=0.001, kernel=linear;, score=0.571 total time=   0.0s\n",
      "[CV 1/5] END .C=0.001, gamma=0.0001, kernel=rbf;, score=0.643 total time=   0.0s\n",
      "[CV 2/5] END .C=0.001, gamma=0.0001, kernel=rbf;, score=0.643 total time=   0.0s\n",
      "[CV 3/5] END .C=0.001, gamma=0.0001, kernel=rbf;, score=0.643 total time=   0.0s\n",
      "[CV 4/5] END .C=0.001, gamma=0.0001, kernel=rbf;, score=0.643 total time=   0.0s\n",
      "[CV 5/5] END .C=0.001, gamma=0.0001, kernel=rbf;, score=0.571 total time=   0.0s\n",
      "[CV 1/5] END C=0.001, gamma=0.0001, kernel=linear;, score=0.643 total time=   0.0s\n",
      "[CV 2/5] END C=0.001, gamma=0.0001, kernel=linear;, score=0.643 total time=   0.0s\n",
      "[CV 3/5] END C=0.001, gamma=0.0001, kernel=linear;, score=0.643 total time=   0.0s\n",
      "[CV 4/5] END C=0.001, gamma=0.0001, kernel=linear;, score=0.643 total time=   0.0s\n",
      "[CV 5/5] END C=0.001, gamma=0.0001, kernel=linear;, score=0.571 total time=   0.0s\n",
      "[CV 1/5] END ...C=0.01, gamma=scale, kernel=rbf;, score=0.643 total time=   0.0s\n",
      "[CV 2/5] END ...C=0.01, gamma=scale, kernel=rbf;, score=0.643 total time=   0.0s\n",
      "[CV 3/5] END ...C=0.01, gamma=scale, kernel=rbf;, score=0.643 total time=   0.0s\n",
      "[CV 4/5] END ...C=0.01, gamma=scale, kernel=rbf;, score=0.643 total time=   0.0s\n",
      "[CV 5/5] END ...C=0.01, gamma=scale, kernel=rbf;, score=0.571 total time=   0.0s\n",
      "[CV 1/5] END C=0.01, gamma=scale, kernel=linear;, score=0.643 total time=   0.0s\n",
      "[CV 2/5] END C=0.01, gamma=scale, kernel=linear;, score=0.643 total time=   0.0s\n",
      "[CV 3/5] END C=0.01, gamma=scale, kernel=linear;, score=0.643 total time=   0.0s\n",
      "[CV 4/5] END C=0.01, gamma=scale, kernel=linear;, score=0.643 total time=   0.0s\n",
      "[CV 5/5] END C=0.01, gamma=scale, kernel=linear;, score=0.571 total time=   0.0s\n",
      "[CV 1/5] END ....C=0.01, gamma=auto, kernel=rbf;, score=0.643 total time=   0.0s\n",
      "[CV 2/5] END ....C=0.01, gamma=auto, kernel=rbf;, score=0.643 total time=   0.0s\n",
      "[CV 3/5] END ....C=0.01, gamma=auto, kernel=rbf;, score=0.643 total time=   0.0s\n",
      "[CV 4/5] END ....C=0.01, gamma=auto, kernel=rbf;, score=0.643 total time=   0.0s\n",
      "[CV 5/5] END ....C=0.01, gamma=auto, kernel=rbf;, score=0.571 total time=   0.0s\n",
      "[CV 1/5] END .C=0.01, gamma=auto, kernel=linear;, score=0.643 total time=   0.0s\n",
      "[CV 2/5] END .C=0.01, gamma=auto, kernel=linear;, score=0.643 total time=   0.0s\n",
      "[CV 3/5] END .C=0.01, gamma=auto, kernel=linear;, score=0.643 total time=   0.0s\n",
      "[CV 4/5] END .C=0.01, gamma=auto, kernel=linear;, score=0.643 total time=   0.0s\n",
      "[CV 5/5] END .C=0.01, gamma=auto, kernel=linear;, score=0.571 total time=   0.0s\n",
      "[CV 1/5] END .......C=0.01, gamma=1, kernel=rbf;, score=0.643 total time=   0.0s\n",
      "[CV 2/5] END .......C=0.01, gamma=1, kernel=rbf;, score=0.643 total time=   0.0s\n",
      "[CV 3/5] END .......C=0.01, gamma=1, kernel=rbf;, score=0.643 total time=   0.0s\n",
      "[CV 4/5] END .......C=0.01, gamma=1, kernel=rbf;, score=0.643 total time=   0.0s\n",
      "[CV 5/5] END .......C=0.01, gamma=1, kernel=rbf;, score=0.571 total time=   0.0s\n",
      "[CV 1/5] END ....C=0.01, gamma=1, kernel=linear;, score=0.643 total time=   0.0s\n",
      "[CV 2/5] END ....C=0.01, gamma=1, kernel=linear;, score=0.643 total time=   0.0s\n",
      "[CV 3/5] END ....C=0.01, gamma=1, kernel=linear;, score=0.643 total time=   0.0s\n",
      "[CV 4/5] END ....C=0.01, gamma=1, kernel=linear;, score=0.643 total time=   0.0s\n",
      "[CV 5/5] END ....C=0.01, gamma=1, kernel=linear;, score=0.571 total time=   0.0s\n",
      "[CV 1/5] END .....C=0.01, gamma=0.1, kernel=rbf;, score=0.643 total time=   0.0s\n",
      "[CV 2/5] END .....C=0.01, gamma=0.1, kernel=rbf;, score=0.643 total time=   0.0s\n",
      "[CV 3/5] END .....C=0.01, gamma=0.1, kernel=rbf;, score=0.643 total time=   0.0s\n",
      "[CV 4/5] END .....C=0.01, gamma=0.1, kernel=rbf;, score=0.643 total time=   0.0s\n",
      "[CV 5/5] END .....C=0.01, gamma=0.1, kernel=rbf;, score=0.571 total time=   0.0s\n",
      "[CV 1/5] END ..C=0.01, gamma=0.1, kernel=linear;, score=0.643 total time=   0.0s\n",
      "[CV 2/5] END ..C=0.01, gamma=0.1, kernel=linear;, score=0.643 total time=   0.0s\n",
      "[CV 3/5] END ..C=0.01, gamma=0.1, kernel=linear;, score=0.643 total time=   0.0s\n",
      "[CV 4/5] END ..C=0.01, gamma=0.1, kernel=linear;, score=0.643 total time=   0.0s\n",
      "[CV 5/5] END ..C=0.01, gamma=0.1, kernel=linear;, score=0.571 total time=   0.0s\n",
      "[CV 1/5] END ....C=0.01, gamma=0.01, kernel=rbf;, score=0.643 total time=   0.0s\n",
      "[CV 2/5] END ....C=0.01, gamma=0.01, kernel=rbf;, score=0.643 total time=   0.0s\n",
      "[CV 3/5] END ....C=0.01, gamma=0.01, kernel=rbf;, score=0.643 total time=   0.0s\n",
      "[CV 4/5] END ....C=0.01, gamma=0.01, kernel=rbf;, score=0.643 total time=   0.0s\n",
      "[CV 5/5] END ....C=0.01, gamma=0.01, kernel=rbf;, score=0.571 total time=   0.0s\n",
      "[CV 1/5] END .C=0.01, gamma=0.01, kernel=linear;, score=0.643 total time=   0.0s\n",
      "[CV 2/5] END .C=0.01, gamma=0.01, kernel=linear;, score=0.643 total time=   0.0s\n",
      "[CV 3/5] END .C=0.01, gamma=0.01, kernel=linear;, score=0.643 total time=   0.0s\n",
      "[CV 4/5] END .C=0.01, gamma=0.01, kernel=linear;, score=0.643 total time=   0.0s\n",
      "[CV 5/5] END .C=0.01, gamma=0.01, kernel=linear;, score=0.571 total time=   0.0s\n",
      "[CV 1/5] END ...C=0.01, gamma=0.001, kernel=rbf;, score=0.643 total time=   0.0s\n",
      "[CV 2/5] END ...C=0.01, gamma=0.001, kernel=rbf;, score=0.643 total time=   0.0s\n",
      "[CV 3/5] END ...C=0.01, gamma=0.001, kernel=rbf;, score=0.643 total time=   0.0s\n",
      "[CV 4/5] END ...C=0.01, gamma=0.001, kernel=rbf;, score=0.643 total time=   0.0s\n",
      "[CV 5/5] END ...C=0.01, gamma=0.001, kernel=rbf;, score=0.571 total time=   0.0s\n",
      "[CV 1/5] END C=0.01, gamma=0.001, kernel=linear;, score=0.643 total time=   0.0s\n",
      "[CV 2/5] END C=0.01, gamma=0.001, kernel=linear;, score=0.643 total time=   0.0s\n",
      "[CV 3/5] END C=0.01, gamma=0.001, kernel=linear;, score=0.643 total time=   0.0s\n",
      "[CV 4/5] END C=0.01, gamma=0.001, kernel=linear;, score=0.643 total time=   0.0s\n",
      "[CV 5/5] END C=0.01, gamma=0.001, kernel=linear;, score=0.571 total time=   0.0s\n",
      "[CV 1/5] END ..C=0.01, gamma=0.0001, kernel=rbf;, score=0.643 total time=   0.0s\n",
      "[CV 2/5] END ..C=0.01, gamma=0.0001, kernel=rbf;, score=0.643 total time=   0.0s\n",
      "[CV 3/5] END ..C=0.01, gamma=0.0001, kernel=rbf;, score=0.643 total time=   0.0s\n",
      "[CV 4/5] END ..C=0.01, gamma=0.0001, kernel=rbf;, score=0.643 total time=   0.0s\n",
      "[CV 5/5] END ..C=0.01, gamma=0.0001, kernel=rbf;, score=0.571 total time=   0.0s\n",
      "[CV 1/5] END C=0.01, gamma=0.0001, kernel=linear;, score=0.643 total time=   0.0s\n",
      "[CV 2/5] END C=0.01, gamma=0.0001, kernel=linear;, score=0.643 total time=   0.0s\n",
      "[CV 3/5] END C=0.01, gamma=0.0001, kernel=linear;, score=0.643 total time=   0.0s\n",
      "[CV 4/5] END C=0.01, gamma=0.0001, kernel=linear;, score=0.643 total time=   0.0s\n",
      "[CV 5/5] END C=0.01, gamma=0.0001, kernel=linear;, score=0.571 total time=   0.0s\n",
      "[CV 1/5] END ....C=0.1, gamma=scale, kernel=rbf;, score=0.643 total time=   0.0s\n",
      "[CV 2/5] END ....C=0.1, gamma=scale, kernel=rbf;, score=0.643 total time=   0.0s\n",
      "[CV 3/5] END ....C=0.1, gamma=scale, kernel=rbf;, score=0.643 total time=   0.0s\n",
      "[CV 4/5] END ....C=0.1, gamma=scale, kernel=rbf;, score=0.643 total time=   0.0s\n",
      "[CV 5/5] END ....C=0.1, gamma=scale, kernel=rbf;, score=0.571 total time=   0.0s\n",
      "[CV 1/5] END .C=0.1, gamma=scale, kernel=linear;, score=0.571 total time=   0.0s\n",
      "[CV 2/5] END .C=0.1, gamma=scale, kernel=linear;, score=0.714 total time=   0.0s\n",
      "[CV 3/5] END .C=0.1, gamma=scale, kernel=linear;, score=0.286 total time=   0.0s\n",
      "[CV 4/5] END .C=0.1, gamma=scale, kernel=linear;, score=0.571 total time=   0.0s\n",
      "[CV 5/5] END .C=0.1, gamma=scale, kernel=linear;, score=0.571 total time=   0.0s\n",
      "[CV 1/5] END .....C=0.1, gamma=auto, kernel=rbf;, score=0.643 total time=   0.0s\n",
      "[CV 2/5] END .....C=0.1, gamma=auto, kernel=rbf;, score=0.643 total time=   0.0s\n",
      "[CV 3/5] END .....C=0.1, gamma=auto, kernel=rbf;, score=0.643 total time=   0.0s\n",
      "[CV 4/5] END .....C=0.1, gamma=auto, kernel=rbf;, score=0.643 total time=   0.0s\n",
      "[CV 5/5] END .....C=0.1, gamma=auto, kernel=rbf;, score=0.571 total time=   0.0s\n",
      "[CV 1/5] END ..C=0.1, gamma=auto, kernel=linear;, score=0.571 total time=   0.0s\n",
      "[CV 2/5] END ..C=0.1, gamma=auto, kernel=linear;, score=0.714 total time=   0.0s\n",
      "[CV 3/5] END ..C=0.1, gamma=auto, kernel=linear;, score=0.286 total time=   0.0s\n",
      "[CV 4/5] END ..C=0.1, gamma=auto, kernel=linear;, score=0.571 total time=   0.0s\n",
      "[CV 5/5] END ..C=0.1, gamma=auto, kernel=linear;, score=0.571 total time=   0.0s\n",
      "[CV 1/5] END ........C=0.1, gamma=1, kernel=rbf;, score=0.643 total time=   0.0s\n",
      "[CV 2/5] END ........C=0.1, gamma=1, kernel=rbf;, score=0.643 total time=   0.0s\n",
      "[CV 3/5] END ........C=0.1, gamma=1, kernel=rbf;, score=0.643 total time=   0.0s\n",
      "[CV 4/5] END ........C=0.1, gamma=1, kernel=rbf;, score=0.643 total time=   0.0s\n",
      "[CV 5/5] END ........C=0.1, gamma=1, kernel=rbf;, score=0.571 total time=   0.0s\n",
      "[CV 1/5] END .....C=0.1, gamma=1, kernel=linear;, score=0.571 total time=   0.0s\n",
      "[CV 2/5] END .....C=0.1, gamma=1, kernel=linear;, score=0.714 total time=   0.0s\n",
      "[CV 3/5] END .....C=0.1, gamma=1, kernel=linear;, score=0.286 total time=   0.0s\n",
      "[CV 4/5] END .....C=0.1, gamma=1, kernel=linear;, score=0.571 total time=   0.0s\n",
      "[CV 5/5] END .....C=0.1, gamma=1, kernel=linear;, score=0.571 total time=   0.0s\n",
      "[CV 1/5] END ......C=0.1, gamma=0.1, kernel=rbf;, score=0.643 total time=   0.0s\n",
      "[CV 2/5] END ......C=0.1, gamma=0.1, kernel=rbf;, score=0.643 total time=   0.0s\n",
      "[CV 3/5] END ......C=0.1, gamma=0.1, kernel=rbf;, score=0.643 total time=   0.0s\n",
      "[CV 4/5] END ......C=0.1, gamma=0.1, kernel=rbf;, score=0.643 total time=   0.0s\n",
      "[CV 5/5] END ......C=0.1, gamma=0.1, kernel=rbf;, score=0.571 total time=   0.0s\n",
      "[CV 1/5] END ...C=0.1, gamma=0.1, kernel=linear;, score=0.571 total time=   0.0s\n",
      "[CV 2/5] END ...C=0.1, gamma=0.1, kernel=linear;, score=0.714 total time=   0.0s\n",
      "[CV 3/5] END ...C=0.1, gamma=0.1, kernel=linear;, score=0.286 total time=   0.0s\n",
      "[CV 4/5] END ...C=0.1, gamma=0.1, kernel=linear;, score=0.571 total time=   0.0s\n",
      "[CV 5/5] END ...C=0.1, gamma=0.1, kernel=linear;, score=0.571 total time=   0.0s\n",
      "[CV 1/5] END .....C=0.1, gamma=0.01, kernel=rbf;, score=0.643 total time=   0.0s\n",
      "[CV 2/5] END .....C=0.1, gamma=0.01, kernel=rbf;, score=0.643 total time=   0.0s\n",
      "[CV 3/5] END .....C=0.1, gamma=0.01, kernel=rbf;, score=0.643 total time=   0.0s\n",
      "[CV 4/5] END .....C=0.1, gamma=0.01, kernel=rbf;, score=0.643 total time=   0.0s\n",
      "[CV 5/5] END .....C=0.1, gamma=0.01, kernel=rbf;, score=0.571 total time=   0.0s\n",
      "[CV 1/5] END ..C=0.1, gamma=0.01, kernel=linear;, score=0.571 total time=   0.0s\n",
      "[CV 2/5] END ..C=0.1, gamma=0.01, kernel=linear;, score=0.714 total time=   0.0s\n",
      "[CV 3/5] END ..C=0.1, gamma=0.01, kernel=linear;, score=0.286 total time=   0.0s\n",
      "[CV 4/5] END ..C=0.1, gamma=0.01, kernel=linear;, score=0.571 total time=   0.0s\n",
      "[CV 5/5] END ..C=0.1, gamma=0.01, kernel=linear;, score=0.571 total time=   0.0s\n",
      "[CV 1/5] END ....C=0.1, gamma=0.001, kernel=rbf;, score=0.643 total time=   0.0s\n",
      "[CV 2/5] END ....C=0.1, gamma=0.001, kernel=rbf;, score=0.643 total time=   0.0s\n",
      "[CV 3/5] END ....C=0.1, gamma=0.001, kernel=rbf;, score=0.643 total time=   0.0s\n",
      "[CV 4/5] END ....C=0.1, gamma=0.001, kernel=rbf;, score=0.643 total time=   0.0s\n",
      "[CV 5/5] END ....C=0.1, gamma=0.001, kernel=rbf;, score=0.571 total time=   0.0s\n",
      "[CV 1/5] END .C=0.1, gamma=0.001, kernel=linear;, score=0.571 total time=   0.0s\n",
      "[CV 2/5] END .C=0.1, gamma=0.001, kernel=linear;, score=0.714 total time=   0.0s\n",
      "[CV 3/5] END .C=0.1, gamma=0.001, kernel=linear;, score=0.286 total time=   0.0s\n",
      "[CV 4/5] END .C=0.1, gamma=0.001, kernel=linear;, score=0.571 total time=   0.0s\n",
      "[CV 5/5] END .C=0.1, gamma=0.001, kernel=linear;, score=0.571 total time=   0.0s\n",
      "[CV 1/5] END ...C=0.1, gamma=0.0001, kernel=rbf;, score=0.643 total time=   0.0s\n",
      "[CV 2/5] END ...C=0.1, gamma=0.0001, kernel=rbf;, score=0.643 total time=   0.0s\n",
      "[CV 3/5] END ...C=0.1, gamma=0.0001, kernel=rbf;, score=0.643 total time=   0.0s\n",
      "[CV 4/5] END ...C=0.1, gamma=0.0001, kernel=rbf;, score=0.643 total time=   0.0s\n",
      "[CV 5/5] END ...C=0.1, gamma=0.0001, kernel=rbf;, score=0.571 total time=   0.0s\n",
      "[CV 1/5] END C=0.1, gamma=0.0001, kernel=linear;, score=0.571 total time=   0.0s\n",
      "[CV 2/5] END C=0.1, gamma=0.0001, kernel=linear;, score=0.714 total time=   0.0s\n",
      "[CV 3/5] END C=0.1, gamma=0.0001, kernel=linear;, score=0.286 total time=   0.0s\n",
      "[CV 4/5] END C=0.1, gamma=0.0001, kernel=linear;, score=0.571 total time=   0.0s\n",
      "[CV 5/5] END C=0.1, gamma=0.0001, kernel=linear;, score=0.571 total time=   0.0s\n",
      "[CV 1/5] END ......C=1, gamma=scale, kernel=rbf;, score=0.643 total time=   0.0s\n",
      "[CV 2/5] END ......C=1, gamma=scale, kernel=rbf;, score=0.643 total time=   0.0s\n",
      "[CV 3/5] END ......C=1, gamma=scale, kernel=rbf;, score=0.571 total time=   0.0s\n",
      "[CV 4/5] END ......C=1, gamma=scale, kernel=rbf;, score=0.643 total time=   0.0s\n",
      "[CV 5/5] END ......C=1, gamma=scale, kernel=rbf;, score=0.571 total time=   0.0s\n",
      "[CV 1/5] END ...C=1, gamma=scale, kernel=linear;, score=0.571 total time=   0.0s\n",
      "[CV 2/5] END ...C=1, gamma=scale, kernel=linear;, score=0.714 total time=   0.0s\n",
      "[CV 3/5] END ...C=1, gamma=scale, kernel=linear;, score=0.286 total time=   0.0s\n",
      "[CV 4/5] END ...C=1, gamma=scale, kernel=linear;, score=0.571 total time=   0.0s\n",
      "[CV 5/5] END ...C=1, gamma=scale, kernel=linear;, score=0.571 total time=   0.0s\n",
      "[CV 1/5] END .......C=1, gamma=auto, kernel=rbf;, score=0.643 total time=   0.0s\n",
      "[CV 2/5] END .......C=1, gamma=auto, kernel=rbf;, score=0.643 total time=   0.0s\n",
      "[CV 3/5] END .......C=1, gamma=auto, kernel=rbf;, score=0.643 total time=   0.0s\n",
      "[CV 4/5] END .......C=1, gamma=auto, kernel=rbf;, score=0.643 total time=   0.0s\n",
      "[CV 5/5] END .......C=1, gamma=auto, kernel=rbf;, score=0.571 total time=   0.0s\n",
      "[CV 1/5] END ....C=1, gamma=auto, kernel=linear;, score=0.571 total time=   0.0s\n",
      "[CV 2/5] END ....C=1, gamma=auto, kernel=linear;, score=0.714 total time=   0.0s\n",
      "[CV 3/5] END ....C=1, gamma=auto, kernel=linear;, score=0.286 total time=   0.0s\n",
      "[CV 4/5] END ....C=1, gamma=auto, kernel=linear;, score=0.571 total time=   0.0s\n",
      "[CV 5/5] END ....C=1, gamma=auto, kernel=linear;, score=0.571 total time=   0.0s\n",
      "[CV 1/5] END ..........C=1, gamma=1, kernel=rbf;, score=0.643 total time=   0.0s\n",
      "[CV 2/5] END ..........C=1, gamma=1, kernel=rbf;, score=0.643 total time=   0.0s\n",
      "[CV 3/5] END ..........C=1, gamma=1, kernel=rbf;, score=0.643 total time=   0.0s\n",
      "[CV 4/5] END ..........C=1, gamma=1, kernel=rbf;, score=0.643 total time=   0.0s\n",
      "[CV 5/5] END ..........C=1, gamma=1, kernel=rbf;, score=0.571 total time=   0.0s\n",
      "[CV 1/5] END .......C=1, gamma=1, kernel=linear;, score=0.571 total time=   0.0s\n",
      "[CV 2/5] END .......C=1, gamma=1, kernel=linear;, score=0.714 total time=   0.0s\n",
      "[CV 3/5] END .......C=1, gamma=1, kernel=linear;, score=0.286 total time=   0.0s\n",
      "[CV 4/5] END .......C=1, gamma=1, kernel=linear;, score=0.571 total time=   0.0s\n",
      "[CV 5/5] END .......C=1, gamma=1, kernel=linear;, score=0.571 total time=   0.0s\n",
      "[CV 1/5] END ........C=1, gamma=0.1, kernel=rbf;, score=0.643 total time=   0.0s\n",
      "[CV 2/5] END ........C=1, gamma=0.1, kernel=rbf;, score=0.643 total time=   0.0s\n",
      "[CV 3/5] END ........C=1, gamma=0.1, kernel=rbf;, score=0.643 total time=   0.0s\n",
      "[CV 4/5] END ........C=1, gamma=0.1, kernel=rbf;, score=0.643 total time=   0.0s\n",
      "[CV 5/5] END ........C=1, gamma=0.1, kernel=rbf;, score=0.571 total time=   0.0s\n",
      "[CV 1/5] END .....C=1, gamma=0.1, kernel=linear;, score=0.571 total time=   0.0s\n",
      "[CV 2/5] END .....C=1, gamma=0.1, kernel=linear;, score=0.714 total time=   0.0s\n",
      "[CV 3/5] END .....C=1, gamma=0.1, kernel=linear;, score=0.286 total time=   0.0s\n",
      "[CV 4/5] END .....C=1, gamma=0.1, kernel=linear;, score=0.571 total time=   0.0s\n",
      "[CV 5/5] END .....C=1, gamma=0.1, kernel=linear;, score=0.571 total time=   0.0s\n",
      "[CV 1/5] END .......C=1, gamma=0.01, kernel=rbf;, score=0.643 total time=   0.0s\n",
      "[CV 2/5] END .......C=1, gamma=0.01, kernel=rbf;, score=0.643 total time=   0.0s\n",
      "[CV 3/5] END .......C=1, gamma=0.01, kernel=rbf;, score=0.571 total time=   0.0s\n",
      "[CV 4/5] END .......C=1, gamma=0.01, kernel=rbf;, score=0.643 total time=   0.0s\n",
      "[CV 5/5] END .......C=1, gamma=0.01, kernel=rbf;, score=0.571 total time=   0.0s\n",
      "[CV 1/5] END ....C=1, gamma=0.01, kernel=linear;, score=0.571 total time=   0.0s\n",
      "[CV 2/5] END ....C=1, gamma=0.01, kernel=linear;, score=0.714 total time=   0.0s\n",
      "[CV 3/5] END ....C=1, gamma=0.01, kernel=linear;, score=0.286 total time=   0.0s\n",
      "[CV 4/5] END ....C=1, gamma=0.01, kernel=linear;, score=0.571 total time=   0.0s\n",
      "[CV 5/5] END ....C=1, gamma=0.01, kernel=linear;, score=0.571 total time=   0.0s\n",
      "[CV 1/5] END ......C=1, gamma=0.001, kernel=rbf;, score=0.643 total time=   0.0s\n",
      "[CV 2/5] END ......C=1, gamma=0.001, kernel=rbf;, score=0.643 total time=   0.0s\n",
      "[CV 3/5] END ......C=1, gamma=0.001, kernel=rbf;, score=0.643 total time=   0.0s\n",
      "[CV 4/5] END ......C=1, gamma=0.001, kernel=rbf;, score=0.643 total time=   0.0s\n",
      "[CV 5/5] END ......C=1, gamma=0.001, kernel=rbf;, score=0.571 total time=   0.0s\n",
      "[CV 1/5] END ...C=1, gamma=0.001, kernel=linear;, score=0.571 total time=   0.0s\n",
      "[CV 2/5] END ...C=1, gamma=0.001, kernel=linear;, score=0.714 total time=   0.0s\n",
      "[CV 3/5] END ...C=1, gamma=0.001, kernel=linear;, score=0.286 total time=   0.0s\n",
      "[CV 4/5] END ...C=1, gamma=0.001, kernel=linear;, score=0.571 total time=   0.0s\n",
      "[CV 5/5] END ...C=1, gamma=0.001, kernel=linear;, score=0.571 total time=   0.0s\n",
      "[CV 1/5] END .....C=1, gamma=0.0001, kernel=rbf;, score=0.643 total time=   0.0s\n",
      "[CV 2/5] END .....C=1, gamma=0.0001, kernel=rbf;, score=0.643 total time=   0.0s\n",
      "[CV 3/5] END .....C=1, gamma=0.0001, kernel=rbf;, score=0.643 total time=   0.0s\n",
      "[CV 4/5] END .....C=1, gamma=0.0001, kernel=rbf;, score=0.643 total time=   0.0s\n",
      "[CV 5/5] END .....C=1, gamma=0.0001, kernel=rbf;, score=0.571 total time=   0.0s\n",
      "[CV 1/5] END ..C=1, gamma=0.0001, kernel=linear;, score=0.571 total time=   0.0s\n",
      "[CV 2/5] END ..C=1, gamma=0.0001, kernel=linear;, score=0.714 total time=   0.0s\n",
      "[CV 3/5] END ..C=1, gamma=0.0001, kernel=linear;, score=0.286 total time=   0.0s\n",
      "[CV 4/5] END ..C=1, gamma=0.0001, kernel=linear;, score=0.571 total time=   0.0s\n",
      "[CV 5/5] END ..C=1, gamma=0.0001, kernel=linear;, score=0.571 total time=   0.0s\n"
     ]
    },
    {
     "data": {
      "text/html": [
       "<style>#sk-container-id-17 {color: black;background-color: white;}#sk-container-id-17 pre{padding: 0;}#sk-container-id-17 div.sk-toggleable {background-color: white;}#sk-container-id-17 label.sk-toggleable__label {cursor: pointer;display: block;width: 100%;margin-bottom: 0;padding: 0.3em;box-sizing: border-box;text-align: center;}#sk-container-id-17 label.sk-toggleable__label-arrow:before {content: \"▸\";float: left;margin-right: 0.25em;color: #696969;}#sk-container-id-17 label.sk-toggleable__label-arrow:hover:before {color: black;}#sk-container-id-17 div.sk-estimator:hover label.sk-toggleable__label-arrow:before {color: black;}#sk-container-id-17 div.sk-toggleable__content {max-height: 0;max-width: 0;overflow: hidden;text-align: left;background-color: #f0f8ff;}#sk-container-id-17 div.sk-toggleable__content pre {margin: 0.2em;color: black;border-radius: 0.25em;background-color: #f0f8ff;}#sk-container-id-17 input.sk-toggleable__control:checked~div.sk-toggleable__content {max-height: 200px;max-width: 100%;overflow: auto;}#sk-container-id-17 input.sk-toggleable__control:checked~label.sk-toggleable__label-arrow:before {content: \"▾\";}#sk-container-id-17 div.sk-estimator input.sk-toggleable__control:checked~label.sk-toggleable__label {background-color: #d4ebff;}#sk-container-id-17 div.sk-label input.sk-toggleable__control:checked~label.sk-toggleable__label {background-color: #d4ebff;}#sk-container-id-17 input.sk-hidden--visually {border: 0;clip: rect(1px 1px 1px 1px);clip: rect(1px, 1px, 1px, 1px);height: 1px;margin: -1px;overflow: hidden;padding: 0;position: absolute;width: 1px;}#sk-container-id-17 div.sk-estimator {font-family: monospace;background-color: #f0f8ff;border: 1px dotted black;border-radius: 0.25em;box-sizing: border-box;margin-bottom: 0.5em;}#sk-container-id-17 div.sk-estimator:hover {background-color: #d4ebff;}#sk-container-id-17 div.sk-parallel-item::after {content: \"\";width: 100%;border-bottom: 1px solid gray;flex-grow: 1;}#sk-container-id-17 div.sk-label:hover label.sk-toggleable__label {background-color: #d4ebff;}#sk-container-id-17 div.sk-serial::before {content: \"\";position: absolute;border-left: 1px solid gray;box-sizing: border-box;top: 0;bottom: 0;left: 50%;z-index: 0;}#sk-container-id-17 div.sk-serial {display: flex;flex-direction: column;align-items: center;background-color: white;padding-right: 0.2em;padding-left: 0.2em;position: relative;}#sk-container-id-17 div.sk-item {position: relative;z-index: 1;}#sk-container-id-17 div.sk-parallel {display: flex;align-items: stretch;justify-content: center;background-color: white;position: relative;}#sk-container-id-17 div.sk-item::before, #sk-container-id-17 div.sk-parallel-item::before {content: \"\";position: absolute;border-left: 1px solid gray;box-sizing: border-box;top: 0;bottom: 0;left: 50%;z-index: -1;}#sk-container-id-17 div.sk-parallel-item {display: flex;flex-direction: column;z-index: 1;position: relative;background-color: white;}#sk-container-id-17 div.sk-parallel-item:first-child::after {align-self: flex-end;width: 50%;}#sk-container-id-17 div.sk-parallel-item:last-child::after {align-self: flex-start;width: 50%;}#sk-container-id-17 div.sk-parallel-item:only-child::after {width: 0;}#sk-container-id-17 div.sk-dashed-wrapped {border: 1px dashed gray;margin: 0 0.4em 0.5em 0.4em;box-sizing: border-box;padding-bottom: 0.4em;background-color: white;}#sk-container-id-17 div.sk-label label {font-family: monospace;font-weight: bold;display: inline-block;line-height: 1.2em;}#sk-container-id-17 div.sk-label-container {text-align: center;}#sk-container-id-17 div.sk-container {/* jupyter's `normalize.less` sets `[hidden] { display: none; }` but bootstrap.min.css set `[hidden] { display: none !important; }` so we also need the `!important` here to be able to override the default hidden behavior on the sphinx rendered scikit-learn.org. See: https://github.com/scikit-learn/scikit-learn/issues/21755 */display: inline-block !important;position: relative;}#sk-container-id-17 div.sk-text-repr-fallback {display: none;}</style><div id=\"sk-container-id-17\" class=\"sk-top-container\"><div class=\"sk-text-repr-fallback\"><pre>GridSearchCV(estimator=SVC(),\n",
       "             param_grid={&#x27;C&#x27;: [0.0001, 0.001, 0.01, 0.1, 1],\n",
       "                         &#x27;gamma&#x27;: [&#x27;scale&#x27;, &#x27;auto&#x27;, 1, 0.1, 0.01, 0.001,\n",
       "                                   0.0001],\n",
       "                         &#x27;kernel&#x27;: [&#x27;rbf&#x27;, &#x27;linear&#x27;]},\n",
       "             verbose=3)</pre><b>In a Jupyter environment, please rerun this cell to show the HTML representation or trust the notebook. <br />On GitHub, the HTML representation is unable to render, please try loading this page with nbviewer.org.</b></div><div class=\"sk-container\" hidden><div class=\"sk-item sk-dashed-wrapped\"><div class=\"sk-label-container\"><div class=\"sk-label sk-toggleable\"><input class=\"sk-toggleable__control sk-hidden--visually\" id=\"sk-estimator-id-23\" type=\"checkbox\" ><label for=\"sk-estimator-id-23\" class=\"sk-toggleable__label sk-toggleable__label-arrow\">GridSearchCV</label><div class=\"sk-toggleable__content\"><pre>GridSearchCV(estimator=SVC(),\n",
       "             param_grid={&#x27;C&#x27;: [0.0001, 0.001, 0.01, 0.1, 1],\n",
       "                         &#x27;gamma&#x27;: [&#x27;scale&#x27;, &#x27;auto&#x27;, 1, 0.1, 0.01, 0.001,\n",
       "                                   0.0001],\n",
       "                         &#x27;kernel&#x27;: [&#x27;rbf&#x27;, &#x27;linear&#x27;]},\n",
       "             verbose=3)</pre></div></div></div><div class=\"sk-parallel\"><div class=\"sk-parallel-item\"><div class=\"sk-item\"><div class=\"sk-label-container\"><div class=\"sk-label sk-toggleable\"><input class=\"sk-toggleable__control sk-hidden--visually\" id=\"sk-estimator-id-24\" type=\"checkbox\" ><label for=\"sk-estimator-id-24\" class=\"sk-toggleable__label sk-toggleable__label-arrow\">estimator: SVC</label><div class=\"sk-toggleable__content\"><pre>SVC()</pre></div></div></div><div class=\"sk-serial\"><div class=\"sk-item\"><div class=\"sk-estimator sk-toggleable\"><input class=\"sk-toggleable__control sk-hidden--visually\" id=\"sk-estimator-id-25\" type=\"checkbox\" ><label for=\"sk-estimator-id-25\" class=\"sk-toggleable__label sk-toggleable__label-arrow\">SVC</label><div class=\"sk-toggleable__content\"><pre>SVC()</pre></div></div></div></div></div></div></div></div></div></div>"
      ],
      "text/plain": [
       "GridSearchCV(estimator=SVC(),\n",
       "             param_grid={'C': [0.0001, 0.001, 0.01, 0.1, 1],\n",
       "                         'gamma': ['scale', 'auto', 1, 0.1, 0.01, 0.001,\n",
       "                                   0.0001],\n",
       "                         'kernel': ['rbf', 'linear']},\n",
       "             verbose=3)"
      ]
     },
     "execution_count": 186,
     "metadata": {},
     "output_type": "execute_result"
    }
   ],
   "source": [
    "model_grid.fit(x_train, y_train)"
   ]
  },
  {
   "cell_type": "code",
   "execution_count": 187,
   "metadata": {},
   "outputs": [
    {
     "data": {
      "text/plain": [
       "{'C': 0.0001, 'gamma': 'scale', 'kernel': 'rbf'}"
      ]
     },
     "execution_count": 187,
     "metadata": {},
     "output_type": "execute_result"
    }
   ],
   "source": [
    "model_grid.best_params_"
   ]
  },
  {
   "cell_type": "code",
   "execution_count": 188,
   "metadata": {},
   "outputs": [
    {
     "data": {
      "text/html": [
       "<style>#sk-container-id-18 {color: black;background-color: white;}#sk-container-id-18 pre{padding: 0;}#sk-container-id-18 div.sk-toggleable {background-color: white;}#sk-container-id-18 label.sk-toggleable__label {cursor: pointer;display: block;width: 100%;margin-bottom: 0;padding: 0.3em;box-sizing: border-box;text-align: center;}#sk-container-id-18 label.sk-toggleable__label-arrow:before {content: \"▸\";float: left;margin-right: 0.25em;color: #696969;}#sk-container-id-18 label.sk-toggleable__label-arrow:hover:before {color: black;}#sk-container-id-18 div.sk-estimator:hover label.sk-toggleable__label-arrow:before {color: black;}#sk-container-id-18 div.sk-toggleable__content {max-height: 0;max-width: 0;overflow: hidden;text-align: left;background-color: #f0f8ff;}#sk-container-id-18 div.sk-toggleable__content pre {margin: 0.2em;color: black;border-radius: 0.25em;background-color: #f0f8ff;}#sk-container-id-18 input.sk-toggleable__control:checked~div.sk-toggleable__content {max-height: 200px;max-width: 100%;overflow: auto;}#sk-container-id-18 input.sk-toggleable__control:checked~label.sk-toggleable__label-arrow:before {content: \"▾\";}#sk-container-id-18 div.sk-estimator input.sk-toggleable__control:checked~label.sk-toggleable__label {background-color: #d4ebff;}#sk-container-id-18 div.sk-label input.sk-toggleable__control:checked~label.sk-toggleable__label {background-color: #d4ebff;}#sk-container-id-18 input.sk-hidden--visually {border: 0;clip: rect(1px 1px 1px 1px);clip: rect(1px, 1px, 1px, 1px);height: 1px;margin: -1px;overflow: hidden;padding: 0;position: absolute;width: 1px;}#sk-container-id-18 div.sk-estimator {font-family: monospace;background-color: #f0f8ff;border: 1px dotted black;border-radius: 0.25em;box-sizing: border-box;margin-bottom: 0.5em;}#sk-container-id-18 div.sk-estimator:hover {background-color: #d4ebff;}#sk-container-id-18 div.sk-parallel-item::after {content: \"\";width: 100%;border-bottom: 1px solid gray;flex-grow: 1;}#sk-container-id-18 div.sk-label:hover label.sk-toggleable__label {background-color: #d4ebff;}#sk-container-id-18 div.sk-serial::before {content: \"\";position: absolute;border-left: 1px solid gray;box-sizing: border-box;top: 0;bottom: 0;left: 50%;z-index: 0;}#sk-container-id-18 div.sk-serial {display: flex;flex-direction: column;align-items: center;background-color: white;padding-right: 0.2em;padding-left: 0.2em;position: relative;}#sk-container-id-18 div.sk-item {position: relative;z-index: 1;}#sk-container-id-18 div.sk-parallel {display: flex;align-items: stretch;justify-content: center;background-color: white;position: relative;}#sk-container-id-18 div.sk-item::before, #sk-container-id-18 div.sk-parallel-item::before {content: \"\";position: absolute;border-left: 1px solid gray;box-sizing: border-box;top: 0;bottom: 0;left: 50%;z-index: -1;}#sk-container-id-18 div.sk-parallel-item {display: flex;flex-direction: column;z-index: 1;position: relative;background-color: white;}#sk-container-id-18 div.sk-parallel-item:first-child::after {align-self: flex-end;width: 50%;}#sk-container-id-18 div.sk-parallel-item:last-child::after {align-self: flex-start;width: 50%;}#sk-container-id-18 div.sk-parallel-item:only-child::after {width: 0;}#sk-container-id-18 div.sk-dashed-wrapped {border: 1px dashed gray;margin: 0 0.4em 0.5em 0.4em;box-sizing: border-box;padding-bottom: 0.4em;background-color: white;}#sk-container-id-18 div.sk-label label {font-family: monospace;font-weight: bold;display: inline-block;line-height: 1.2em;}#sk-container-id-18 div.sk-label-container {text-align: center;}#sk-container-id-18 div.sk-container {/* jupyter's `normalize.less` sets `[hidden] { display: none; }` but bootstrap.min.css set `[hidden] { display: none !important; }` so we also need the `!important` here to be able to override the default hidden behavior on the sphinx rendered scikit-learn.org. See: https://github.com/scikit-learn/scikit-learn/issues/21755 */display: inline-block !important;position: relative;}#sk-container-id-18 div.sk-text-repr-fallback {display: none;}</style><div id=\"sk-container-id-18\" class=\"sk-top-container\"><div class=\"sk-text-repr-fallback\"><pre>SVC(C=0.0001)</pre><b>In a Jupyter environment, please rerun this cell to show the HTML representation or trust the notebook. <br />On GitHub, the HTML representation is unable to render, please try loading this page with nbviewer.org.</b></div><div class=\"sk-container\" hidden><div class=\"sk-item\"><div class=\"sk-estimator sk-toggleable\"><input class=\"sk-toggleable__control sk-hidden--visually\" id=\"sk-estimator-id-26\" type=\"checkbox\" checked><label for=\"sk-estimator-id-26\" class=\"sk-toggleable__label sk-toggleable__label-arrow\">SVC</label><div class=\"sk-toggleable__content\"><pre>SVC(C=0.0001)</pre></div></div></div></div></div>"
      ],
      "text/plain": [
       "SVC(C=0.0001)"
      ]
     },
     "execution_count": 188,
     "metadata": {},
     "output_type": "execute_result"
    }
   ],
   "source": [
    "model_grid.best_estimator_"
   ]
  },
  {
   "cell_type": "code",
   "execution_count": 189,
   "metadata": {},
   "outputs": [
    {
     "name": "stdout",
     "output_type": "stream",
     "text": [
      "[[ 0 16]\n",
      " [ 0 14]]\n",
      "              precision    recall  f1-score   support\n",
      "\n",
      "           0       0.00      0.00      0.00        16\n",
      "           1       0.47      1.00      0.64        14\n",
      "\n",
      "    accuracy                           0.47        30\n",
      "   macro avg       0.23      0.50      0.32        30\n",
      "weighted avg       0.22      0.47      0.30        30\n",
      "\n"
     ]
    }
   ],
   "source": [
    "y_test_pred = model_grid.predict(x_test)\n",
    "\n",
    "print(confusion_matrix(y_test, y_test_pred))\n",
    "print(classification_report(y_test, y_test_pred))"
   ]
  },
  {
   "cell_type": "markdown",
   "metadata": {},
   "source": [
    "### Best Threshold"
   ]
  },
  {
   "cell_type": "code",
   "execution_count": 190,
   "metadata": {},
   "outputs": [],
   "source": [
    "from sklearn.metrics import plot_roc_curve, plot_precision_recall_curve, precision_recall_curve, average_precision_score"
   ]
  },
  {
   "cell_type": "code",
   "execution_count": 191,
   "metadata": {},
   "outputs": [
    {
     "data": {
      "text/html": [
       "<style>#sk-container-id-19 {color: black;background-color: white;}#sk-container-id-19 pre{padding: 0;}#sk-container-id-19 div.sk-toggleable {background-color: white;}#sk-container-id-19 label.sk-toggleable__label {cursor: pointer;display: block;width: 100%;margin-bottom: 0;padding: 0.3em;box-sizing: border-box;text-align: center;}#sk-container-id-19 label.sk-toggleable__label-arrow:before {content: \"▸\";float: left;margin-right: 0.25em;color: #696969;}#sk-container-id-19 label.sk-toggleable__label-arrow:hover:before {color: black;}#sk-container-id-19 div.sk-estimator:hover label.sk-toggleable__label-arrow:before {color: black;}#sk-container-id-19 div.sk-toggleable__content {max-height: 0;max-width: 0;overflow: hidden;text-align: left;background-color: #f0f8ff;}#sk-container-id-19 div.sk-toggleable__content pre {margin: 0.2em;color: black;border-radius: 0.25em;background-color: #f0f8ff;}#sk-container-id-19 input.sk-toggleable__control:checked~div.sk-toggleable__content {max-height: 200px;max-width: 100%;overflow: auto;}#sk-container-id-19 input.sk-toggleable__control:checked~label.sk-toggleable__label-arrow:before {content: \"▾\";}#sk-container-id-19 div.sk-estimator input.sk-toggleable__control:checked~label.sk-toggleable__label {background-color: #d4ebff;}#sk-container-id-19 div.sk-label input.sk-toggleable__control:checked~label.sk-toggleable__label {background-color: #d4ebff;}#sk-container-id-19 input.sk-hidden--visually {border: 0;clip: rect(1px 1px 1px 1px);clip: rect(1px, 1px, 1px, 1px);height: 1px;margin: -1px;overflow: hidden;padding: 0;position: absolute;width: 1px;}#sk-container-id-19 div.sk-estimator {font-family: monospace;background-color: #f0f8ff;border: 1px dotted black;border-radius: 0.25em;box-sizing: border-box;margin-bottom: 0.5em;}#sk-container-id-19 div.sk-estimator:hover {background-color: #d4ebff;}#sk-container-id-19 div.sk-parallel-item::after {content: \"\";width: 100%;border-bottom: 1px solid gray;flex-grow: 1;}#sk-container-id-19 div.sk-label:hover label.sk-toggleable__label {background-color: #d4ebff;}#sk-container-id-19 div.sk-serial::before {content: \"\";position: absolute;border-left: 1px solid gray;box-sizing: border-box;top: 0;bottom: 0;left: 50%;z-index: 0;}#sk-container-id-19 div.sk-serial {display: flex;flex-direction: column;align-items: center;background-color: white;padding-right: 0.2em;padding-left: 0.2em;position: relative;}#sk-container-id-19 div.sk-item {position: relative;z-index: 1;}#sk-container-id-19 div.sk-parallel {display: flex;align-items: stretch;justify-content: center;background-color: white;position: relative;}#sk-container-id-19 div.sk-item::before, #sk-container-id-19 div.sk-parallel-item::before {content: \"\";position: absolute;border-left: 1px solid gray;box-sizing: border-box;top: 0;bottom: 0;left: 50%;z-index: -1;}#sk-container-id-19 div.sk-parallel-item {display: flex;flex-direction: column;z-index: 1;position: relative;background-color: white;}#sk-container-id-19 div.sk-parallel-item:first-child::after {align-self: flex-end;width: 50%;}#sk-container-id-19 div.sk-parallel-item:last-child::after {align-self: flex-start;width: 50%;}#sk-container-id-19 div.sk-parallel-item:only-child::after {width: 0;}#sk-container-id-19 div.sk-dashed-wrapped {border: 1px dashed gray;margin: 0 0.4em 0.5em 0.4em;box-sizing: border-box;padding-bottom: 0.4em;background-color: white;}#sk-container-id-19 div.sk-label label {font-family: monospace;font-weight: bold;display: inline-block;line-height: 1.2em;}#sk-container-id-19 div.sk-label-container {text-align: center;}#sk-container-id-19 div.sk-container {/* jupyter's `normalize.less` sets `[hidden] { display: none; }` but bootstrap.min.css set `[hidden] { display: none !important; }` so we also need the `!important` here to be able to override the default hidden behavior on the sphinx rendered scikit-learn.org. See: https://github.com/scikit-learn/scikit-learn/issues/21755 */display: inline-block !important;position: relative;}#sk-container-id-19 div.sk-text-repr-fallback {display: none;}</style><div id=\"sk-container-id-19\" class=\"sk-top-container\"><div class=\"sk-text-repr-fallback\"><pre>SVC(C=0.0001, probability=True)</pre><b>In a Jupyter environment, please rerun this cell to show the HTML representation or trust the notebook. <br />On GitHub, the HTML representation is unable to render, please try loading this page with nbviewer.org.</b></div><div class=\"sk-container\" hidden><div class=\"sk-item\"><div class=\"sk-estimator sk-toggleable\"><input class=\"sk-toggleable__control sk-hidden--visually\" id=\"sk-estimator-id-27\" type=\"checkbox\" checked><label for=\"sk-estimator-id-27\" class=\"sk-toggleable__label sk-toggleable__label-arrow\">SVC</label><div class=\"sk-toggleable__content\"><pre>SVC(C=0.0001, probability=True)</pre></div></div></div></div></div>"
      ],
      "text/plain": [
       "SVC(C=0.0001, probability=True)"
      ]
     },
     "execution_count": 191,
     "metadata": {},
     "output_type": "execute_result"
    }
   ],
   "source": [
    "from sklearn.svm import SVC\n",
    "\n",
    "model = SVC(C=0.0001, gamma=\"scale\", kernel=\"rbf\", probability=True)\n",
    "model.fit(x_train, y_train)"
   ]
  },
  {
   "cell_type": "code",
   "execution_count": 192,
   "metadata": {},
   "outputs": [],
   "source": [
    "y_test_pred = model.predict(x_test)\n",
    "y_test_pred_proba = model.predict_proba(x_test)"
   ]
  },
  {
   "cell_type": "code",
   "execution_count": 193,
   "metadata": {},
   "outputs": [
    {
     "data": {
      "text/html": [
       "<div>\n",
       "<style scoped>\n",
       "    .dataframe tbody tr th:only-of-type {\n",
       "        vertical-align: middle;\n",
       "    }\n",
       "\n",
       "    .dataframe tbody tr th {\n",
       "        vertical-align: top;\n",
       "    }\n",
       "\n",
       "    .dataframe thead th {\n",
       "        text-align: right;\n",
       "    }\n",
       "</style>\n",
       "<table border=\"1\" class=\"dataframe\">\n",
       "  <thead>\n",
       "    <tr style=\"text-align: right;\">\n",
       "      <th></th>\n",
       "      <th>Ling_Int</th>\n",
       "      <th>Math_Int</th>\n",
       "      <th>Spa_Int</th>\n",
       "      <th>Mus_Int</th>\n",
       "      <th>Nat_Int</th>\n",
       "      <th>Body_Int</th>\n",
       "      <th>Interp_Int</th>\n",
       "      <th>Intrap_Int</th>\n",
       "      <th>Plt_Or_Not</th>\n",
       "      <th>pred1</th>\n",
       "      <th>pred_proba</th>\n",
       "    </tr>\n",
       "  </thead>\n",
       "  <tbody>\n",
       "    <tr>\n",
       "      <th>83</th>\n",
       "      <td>22</td>\n",
       "      <td>19</td>\n",
       "      <td>13</td>\n",
       "      <td>18</td>\n",
       "      <td>21</td>\n",
       "      <td>18</td>\n",
       "      <td>15</td>\n",
       "      <td>19</td>\n",
       "      <td>1</td>\n",
       "      <td>1</td>\n",
       "      <td>0.626039</td>\n",
       "    </tr>\n",
       "    <tr>\n",
       "      <th>53</th>\n",
       "      <td>17</td>\n",
       "      <td>13</td>\n",
       "      <td>18</td>\n",
       "      <td>13</td>\n",
       "      <td>13</td>\n",
       "      <td>22</td>\n",
       "      <td>23</td>\n",
       "      <td>20</td>\n",
       "      <td>1</td>\n",
       "      <td>1</td>\n",
       "      <td>0.635998</td>\n",
       "    </tr>\n",
       "    <tr>\n",
       "      <th>70</th>\n",
       "      <td>21</td>\n",
       "      <td>16</td>\n",
       "      <td>16</td>\n",
       "      <td>16</td>\n",
       "      <td>19</td>\n",
       "      <td>18</td>\n",
       "      <td>18</td>\n",
       "      <td>20</td>\n",
       "      <td>1</td>\n",
       "      <td>1</td>\n",
       "      <td>0.627201</td>\n",
       "    </tr>\n",
       "    <tr>\n",
       "      <th>45</th>\n",
       "      <td>14</td>\n",
       "      <td>14</td>\n",
       "      <td>15</td>\n",
       "      <td>26</td>\n",
       "      <td>20</td>\n",
       "      <td>13</td>\n",
       "      <td>20</td>\n",
       "      <td>14</td>\n",
       "      <td>1</td>\n",
       "      <td>1</td>\n",
       "      <td>0.634695</td>\n",
       "    </tr>\n",
       "    <tr>\n",
       "      <th>44</th>\n",
       "      <td>16</td>\n",
       "      <td>17</td>\n",
       "      <td>16</td>\n",
       "      <td>17</td>\n",
       "      <td>21</td>\n",
       "      <td>19</td>\n",
       "      <td>18</td>\n",
       "      <td>20</td>\n",
       "      <td>0</td>\n",
       "      <td>1</td>\n",
       "      <td>0.628668</td>\n",
       "    </tr>\n",
       "  </tbody>\n",
       "</table>\n",
       "</div>"
      ],
      "text/plain": [
       "    Ling_Int  Math_Int  Spa_Int  Mus_Int  Nat_Int  Body_Int  Interp_Int  \\\n",
       "83        22        19       13       18       21        18          15   \n",
       "53        17        13       18       13       13        22          23   \n",
       "70        21        16       16       16       19        18          18   \n",
       "45        14        14       15       26       20        13          20   \n",
       "44        16        17       16       17       21        19          18   \n",
       "\n",
       "    Intrap_Int  Plt_Or_Not  pred1  pred_proba  \n",
       "83          19           1      1    0.626039  \n",
       "53          20           1      1    0.635998  \n",
       "70          20           1      1    0.627201  \n",
       "45          14           1      1    0.634695  \n",
       "44          20           0      1    0.628668  "
      ]
     },
     "execution_count": 193,
     "metadata": {},
     "output_type": "execute_result"
    }
   ],
   "source": [
    "test_data = pd.concat([x_test, y_test], axis=1)\n",
    "test_data[\"pred1\"] = y_test_pred\n",
    "test_data[\"pred_proba\"] = y_test_pred_proba[:,1]\n",
    "test_data.head(5)"
   ]
  },
  {
   "cell_type": "code",
   "execution_count": 194,
   "metadata": {},
   "outputs": [
    {
     "name": "stdout",
     "output_type": "stream",
     "text": [
      "[[ 0 16]\n",
      " [ 0 14]]\n",
      "              precision    recall  f1-score   support\n",
      "\n",
      "           0       0.00      0.00      0.00        16\n",
      "           1       0.47      1.00      0.64        14\n",
      "\n",
      "    accuracy                           0.47        30\n",
      "   macro avg       0.23      0.50      0.32        30\n",
      "weighted avg       0.22      0.47      0.30        30\n",
      "\n"
     ]
    }
   ],
   "source": [
    "print(confusion_matrix(y_test, y_test_pred))\n",
    "print(classification_report(y_test, y_test_pred))"
   ]
  },
  {
   "cell_type": "code",
   "execution_count": 195,
   "metadata": {},
   "outputs": [
    {
     "data": {
      "text/plain": [
       "1.6427227541607938"
      ]
     },
     "execution_count": 195,
     "metadata": {},
     "output_type": "execute_result"
    }
   ],
   "source": [
    "y_train_pred_proba = model.predict_proba(x_train)\n",
    "roc_auc_score(y_train, y_train_pred_proba[:,1])\n",
    "\n",
    "fp_rate, tp_rate, thresholds = roc_curve(y_train, y_train_pred_proba[:,1])\n",
    "\n",
    "optimal_idx = np.argmax(tp_rate - fp_rate)\n",
    "optimal_threshold_rac = thresholds[optimal_idx]\n",
    "optimal_threshold_rac"
   ]
  },
  {
   "cell_type": "code",
   "execution_count": 196,
   "metadata": {},
   "outputs": [
    {
     "data": {
      "text/html": [
       "<div>\n",
       "<style scoped>\n",
       "    .dataframe tbody tr th:only-of-type {\n",
       "        vertical-align: middle;\n",
       "    }\n",
       "\n",
       "    .dataframe tbody tr th {\n",
       "        vertical-align: top;\n",
       "    }\n",
       "\n",
       "    .dataframe thead th {\n",
       "        text-align: right;\n",
       "    }\n",
       "</style>\n",
       "<table border=\"1\" class=\"dataframe\">\n",
       "  <thead>\n",
       "    <tr style=\"text-align: right;\">\n",
       "      <th></th>\n",
       "      <th>Ling_Int</th>\n",
       "      <th>Math_Int</th>\n",
       "      <th>Spa_Int</th>\n",
       "      <th>Mus_Int</th>\n",
       "      <th>Nat_Int</th>\n",
       "      <th>Body_Int</th>\n",
       "      <th>Interp_Int</th>\n",
       "      <th>Intrap_Int</th>\n",
       "      <th>Plt_Or_Not</th>\n",
       "      <th>pred1</th>\n",
       "      <th>pred_proba</th>\n",
       "      <th>pred2</th>\n",
       "    </tr>\n",
       "  </thead>\n",
       "  <tbody>\n",
       "    <tr>\n",
       "      <th>83</th>\n",
       "      <td>22</td>\n",
       "      <td>19</td>\n",
       "      <td>13</td>\n",
       "      <td>18</td>\n",
       "      <td>21</td>\n",
       "      <td>18</td>\n",
       "      <td>15</td>\n",
       "      <td>19</td>\n",
       "      <td>1</td>\n",
       "      <td>1</td>\n",
       "      <td>0.626039</td>\n",
       "      <td>0</td>\n",
       "    </tr>\n",
       "    <tr>\n",
       "      <th>53</th>\n",
       "      <td>17</td>\n",
       "      <td>13</td>\n",
       "      <td>18</td>\n",
       "      <td>13</td>\n",
       "      <td>13</td>\n",
       "      <td>22</td>\n",
       "      <td>23</td>\n",
       "      <td>20</td>\n",
       "      <td>1</td>\n",
       "      <td>1</td>\n",
       "      <td>0.635998</td>\n",
       "      <td>0</td>\n",
       "    </tr>\n",
       "    <tr>\n",
       "      <th>70</th>\n",
       "      <td>21</td>\n",
       "      <td>16</td>\n",
       "      <td>16</td>\n",
       "      <td>16</td>\n",
       "      <td>19</td>\n",
       "      <td>18</td>\n",
       "      <td>18</td>\n",
       "      <td>20</td>\n",
       "      <td>1</td>\n",
       "      <td>1</td>\n",
       "      <td>0.627201</td>\n",
       "      <td>0</td>\n",
       "    </tr>\n",
       "    <tr>\n",
       "      <th>45</th>\n",
       "      <td>14</td>\n",
       "      <td>14</td>\n",
       "      <td>15</td>\n",
       "      <td>26</td>\n",
       "      <td>20</td>\n",
       "      <td>13</td>\n",
       "      <td>20</td>\n",
       "      <td>14</td>\n",
       "      <td>1</td>\n",
       "      <td>1</td>\n",
       "      <td>0.634695</td>\n",
       "      <td>0</td>\n",
       "    </tr>\n",
       "    <tr>\n",
       "      <th>44</th>\n",
       "      <td>16</td>\n",
       "      <td>17</td>\n",
       "      <td>16</td>\n",
       "      <td>17</td>\n",
       "      <td>21</td>\n",
       "      <td>19</td>\n",
       "      <td>18</td>\n",
       "      <td>20</td>\n",
       "      <td>0</td>\n",
       "      <td>1</td>\n",
       "      <td>0.628668</td>\n",
       "      <td>0</td>\n",
       "    </tr>\n",
       "  </tbody>\n",
       "</table>\n",
       "</div>"
      ],
      "text/plain": [
       "    Ling_Int  Math_Int  Spa_Int  Mus_Int  Nat_Int  Body_Int  Interp_Int  \\\n",
       "83        22        19       13       18       21        18          15   \n",
       "53        17        13       18       13       13        22          23   \n",
       "70        21        16       16       16       19        18          18   \n",
       "45        14        14       15       26       20        13          20   \n",
       "44        16        17       16       17       21        19          18   \n",
       "\n",
       "    Intrap_Int  Plt_Or_Not  pred1  pred_proba  pred2  \n",
       "83          19           1      1    0.626039      0  \n",
       "53          20           1      1    0.635998      0  \n",
       "70          20           1      1    0.627201      0  \n",
       "45          14           1      1    0.634695      0  \n",
       "44          20           0      1    0.628668      0  "
      ]
     },
     "execution_count": 196,
     "metadata": {},
     "output_type": "execute_result"
    }
   ],
   "source": [
    "test_data[\"pred2\"] = test_data[\"pred_proba\"].apply(lambda x : 1 if x >= optimal_threshold_rac else 0)\n",
    "test_data.head(5)"
   ]
  },
  {
   "cell_type": "code",
   "execution_count": 197,
   "metadata": {},
   "outputs": [
    {
     "name": "stdout",
     "output_type": "stream",
     "text": [
      "[[16  0]\n",
      " [14  0]]\n",
      "              precision    recall  f1-score   support\n",
      "\n",
      "           0       0.53      1.00      0.70        16\n",
      "           1       0.00      0.00      0.00        14\n",
      "\n",
      "    accuracy                           0.53        30\n",
      "   macro avg       0.27      0.50      0.35        30\n",
      "weighted avg       0.28      0.53      0.37        30\n",
      "\n"
     ]
    }
   ],
   "source": [
    "y_pred2 = test_data[\"pred2\"]\n",
    "print(confusion_matrix(y_test, y_pred2))\n",
    "print(classification_report(y_test, y_pred2))"
   ]
  },
  {
   "cell_type": "code",
   "execution_count": 198,
   "metadata": {},
   "outputs": [
    {
     "data": {
      "text/plain": [
       "0.6354188990917495"
      ]
     },
     "execution_count": 198,
     "metadata": {},
     "output_type": "execute_result"
    }
   ],
   "source": [
    "y_train_pred_proba = model.predict_proba(x_train)\n",
    "average_precision_score(y_train, y_train_pred_proba[:,1])\n",
    "\n",
    "precisions, recalls, thresholds = precision_recall_curve(y_train, y_train_pred_proba[:,1])\n",
    "\n",
    "optimal_idx = np.argmax((2 * precisions * recalls) / (precisions + recalls))\n",
    "optimal_threshold_prc = thresholds[optimal_idx]\n",
    "optimal_threshold_prc"
   ]
  },
  {
   "cell_type": "code",
   "execution_count": 199,
   "metadata": {},
   "outputs": [
    {
     "data": {
      "text/html": [
       "<div>\n",
       "<style scoped>\n",
       "    .dataframe tbody tr th:only-of-type {\n",
       "        vertical-align: middle;\n",
       "    }\n",
       "\n",
       "    .dataframe tbody tr th {\n",
       "        vertical-align: top;\n",
       "    }\n",
       "\n",
       "    .dataframe thead th {\n",
       "        text-align: right;\n",
       "    }\n",
       "</style>\n",
       "<table border=\"1\" class=\"dataframe\">\n",
       "  <thead>\n",
       "    <tr style=\"text-align: right;\">\n",
       "      <th></th>\n",
       "      <th>Ling_Int</th>\n",
       "      <th>Math_Int</th>\n",
       "      <th>Spa_Int</th>\n",
       "      <th>Mus_Int</th>\n",
       "      <th>Nat_Int</th>\n",
       "      <th>Body_Int</th>\n",
       "      <th>Interp_Int</th>\n",
       "      <th>Intrap_Int</th>\n",
       "      <th>Plt_Or_Not</th>\n",
       "      <th>pred1</th>\n",
       "      <th>pred_proba</th>\n",
       "      <th>pred2</th>\n",
       "      <th>pred3</th>\n",
       "    </tr>\n",
       "  </thead>\n",
       "  <tbody>\n",
       "    <tr>\n",
       "      <th>83</th>\n",
       "      <td>22</td>\n",
       "      <td>19</td>\n",
       "      <td>13</td>\n",
       "      <td>18</td>\n",
       "      <td>21</td>\n",
       "      <td>18</td>\n",
       "      <td>15</td>\n",
       "      <td>19</td>\n",
       "      <td>1</td>\n",
       "      <td>1</td>\n",
       "      <td>0.626039</td>\n",
       "      <td>0</td>\n",
       "      <td>0</td>\n",
       "    </tr>\n",
       "    <tr>\n",
       "      <th>53</th>\n",
       "      <td>17</td>\n",
       "      <td>13</td>\n",
       "      <td>18</td>\n",
       "      <td>13</td>\n",
       "      <td>13</td>\n",
       "      <td>22</td>\n",
       "      <td>23</td>\n",
       "      <td>20</td>\n",
       "      <td>1</td>\n",
       "      <td>1</td>\n",
       "      <td>0.635998</td>\n",
       "      <td>0</td>\n",
       "      <td>1</td>\n",
       "    </tr>\n",
       "    <tr>\n",
       "      <th>70</th>\n",
       "      <td>21</td>\n",
       "      <td>16</td>\n",
       "      <td>16</td>\n",
       "      <td>16</td>\n",
       "      <td>19</td>\n",
       "      <td>18</td>\n",
       "      <td>18</td>\n",
       "      <td>20</td>\n",
       "      <td>1</td>\n",
       "      <td>1</td>\n",
       "      <td>0.627201</td>\n",
       "      <td>0</td>\n",
       "      <td>0</td>\n",
       "    </tr>\n",
       "    <tr>\n",
       "      <th>45</th>\n",
       "      <td>14</td>\n",
       "      <td>14</td>\n",
       "      <td>15</td>\n",
       "      <td>26</td>\n",
       "      <td>20</td>\n",
       "      <td>13</td>\n",
       "      <td>20</td>\n",
       "      <td>14</td>\n",
       "      <td>1</td>\n",
       "      <td>1</td>\n",
       "      <td>0.634695</td>\n",
       "      <td>0</td>\n",
       "      <td>0</td>\n",
       "    </tr>\n",
       "    <tr>\n",
       "      <th>44</th>\n",
       "      <td>16</td>\n",
       "      <td>17</td>\n",
       "      <td>16</td>\n",
       "      <td>17</td>\n",
       "      <td>21</td>\n",
       "      <td>19</td>\n",
       "      <td>18</td>\n",
       "      <td>20</td>\n",
       "      <td>0</td>\n",
       "      <td>1</td>\n",
       "      <td>0.628668</td>\n",
       "      <td>0</td>\n",
       "      <td>0</td>\n",
       "    </tr>\n",
       "  </tbody>\n",
       "</table>\n",
       "</div>"
      ],
      "text/plain": [
       "    Ling_Int  Math_Int  Spa_Int  Mus_Int  Nat_Int  Body_Int  Interp_Int  \\\n",
       "83        22        19       13       18       21        18          15   \n",
       "53        17        13       18       13       13        22          23   \n",
       "70        21        16       16       16       19        18          18   \n",
       "45        14        14       15       26       20        13          20   \n",
       "44        16        17       16       17       21        19          18   \n",
       "\n",
       "    Intrap_Int  Plt_Or_Not  pred1  pred_proba  pred2  pred3  \n",
       "83          19           1      1    0.626039      0      0  \n",
       "53          20           1      1    0.635998      0      1  \n",
       "70          20           1      1    0.627201      0      0  \n",
       "45          14           1      1    0.634695      0      0  \n",
       "44          20           0      1    0.628668      0      0  "
      ]
     },
     "execution_count": 199,
     "metadata": {},
     "output_type": "execute_result"
    }
   ],
   "source": [
    "test_data[\"pred3\"] = test_data[\"pred_proba\"].apply(lambda x : 1 if x >= optimal_threshold_prc else 0)\n",
    "test_data.head()"
   ]
  },
  {
   "cell_type": "code",
   "execution_count": 200,
   "metadata": {},
   "outputs": [
    {
     "name": "stdout",
     "output_type": "stream",
     "text": [
      "[[15  1]\n",
      " [11  3]]\n",
      "              precision    recall  f1-score   support\n",
      "\n",
      "           0       0.58      0.94      0.71        16\n",
      "           1       0.75      0.21      0.33        14\n",
      "\n",
      "    accuracy                           0.60        30\n",
      "   macro avg       0.66      0.58      0.52        30\n",
      "weighted avg       0.66      0.60      0.54        30\n",
      "\n"
     ]
    }
   ],
   "source": [
    "y_pred3 = test_data[\"pred3\"]\n",
    "print(confusion_matrix(y_test, y_pred3))\n",
    "print(classification_report(y_test, y_pred3))"
   ]
  },
  {
   "cell_type": "markdown",
   "metadata": {},
   "source": [
    "### Prediction"
   ]
  },
  {
   "cell_type": "code",
   "execution_count": 201,
   "metadata": {},
   "outputs": [
    {
     "data": {
      "text/html": [
       "<style>#sk-container-id-20 {color: black;background-color: white;}#sk-container-id-20 pre{padding: 0;}#sk-container-id-20 div.sk-toggleable {background-color: white;}#sk-container-id-20 label.sk-toggleable__label {cursor: pointer;display: block;width: 100%;margin-bottom: 0;padding: 0.3em;box-sizing: border-box;text-align: center;}#sk-container-id-20 label.sk-toggleable__label-arrow:before {content: \"▸\";float: left;margin-right: 0.25em;color: #696969;}#sk-container-id-20 label.sk-toggleable__label-arrow:hover:before {color: black;}#sk-container-id-20 div.sk-estimator:hover label.sk-toggleable__label-arrow:before {color: black;}#sk-container-id-20 div.sk-toggleable__content {max-height: 0;max-width: 0;overflow: hidden;text-align: left;background-color: #f0f8ff;}#sk-container-id-20 div.sk-toggleable__content pre {margin: 0.2em;color: black;border-radius: 0.25em;background-color: #f0f8ff;}#sk-container-id-20 input.sk-toggleable__control:checked~div.sk-toggleable__content {max-height: 200px;max-width: 100%;overflow: auto;}#sk-container-id-20 input.sk-toggleable__control:checked~label.sk-toggleable__label-arrow:before {content: \"▾\";}#sk-container-id-20 div.sk-estimator input.sk-toggleable__control:checked~label.sk-toggleable__label {background-color: #d4ebff;}#sk-container-id-20 div.sk-label input.sk-toggleable__control:checked~label.sk-toggleable__label {background-color: #d4ebff;}#sk-container-id-20 input.sk-hidden--visually {border: 0;clip: rect(1px 1px 1px 1px);clip: rect(1px, 1px, 1px, 1px);height: 1px;margin: -1px;overflow: hidden;padding: 0;position: absolute;width: 1px;}#sk-container-id-20 div.sk-estimator {font-family: monospace;background-color: #f0f8ff;border: 1px dotted black;border-radius: 0.25em;box-sizing: border-box;margin-bottom: 0.5em;}#sk-container-id-20 div.sk-estimator:hover {background-color: #d4ebff;}#sk-container-id-20 div.sk-parallel-item::after {content: \"\";width: 100%;border-bottom: 1px solid gray;flex-grow: 1;}#sk-container-id-20 div.sk-label:hover label.sk-toggleable__label {background-color: #d4ebff;}#sk-container-id-20 div.sk-serial::before {content: \"\";position: absolute;border-left: 1px solid gray;box-sizing: border-box;top: 0;bottom: 0;left: 50%;z-index: 0;}#sk-container-id-20 div.sk-serial {display: flex;flex-direction: column;align-items: center;background-color: white;padding-right: 0.2em;padding-left: 0.2em;position: relative;}#sk-container-id-20 div.sk-item {position: relative;z-index: 1;}#sk-container-id-20 div.sk-parallel {display: flex;align-items: stretch;justify-content: center;background-color: white;position: relative;}#sk-container-id-20 div.sk-item::before, #sk-container-id-20 div.sk-parallel-item::before {content: \"\";position: absolute;border-left: 1px solid gray;box-sizing: border-box;top: 0;bottom: 0;left: 50%;z-index: -1;}#sk-container-id-20 div.sk-parallel-item {display: flex;flex-direction: column;z-index: 1;position: relative;background-color: white;}#sk-container-id-20 div.sk-parallel-item:first-child::after {align-self: flex-end;width: 50%;}#sk-container-id-20 div.sk-parallel-item:last-child::after {align-self: flex-start;width: 50%;}#sk-container-id-20 div.sk-parallel-item:only-child::after {width: 0;}#sk-container-id-20 div.sk-dashed-wrapped {border: 1px dashed gray;margin: 0 0.4em 0.5em 0.4em;box-sizing: border-box;padding-bottom: 0.4em;background-color: white;}#sk-container-id-20 div.sk-label label {font-family: monospace;font-weight: bold;display: inline-block;line-height: 1.2em;}#sk-container-id-20 div.sk-label-container {text-align: center;}#sk-container-id-20 div.sk-container {/* jupyter's `normalize.less` sets `[hidden] { display: none; }` but bootstrap.min.css set `[hidden] { display: none !important; }` so we also need the `!important` here to be able to override the default hidden behavior on the sphinx rendered scikit-learn.org. See: https://github.com/scikit-learn/scikit-learn/issues/21755 */display: inline-block !important;position: relative;}#sk-container-id-20 div.sk-text-repr-fallback {display: none;}</style><div id=\"sk-container-id-20\" class=\"sk-top-container\"><div class=\"sk-text-repr-fallback\"><pre>SVC(C=0.0001, probability=True, random_state=42)</pre><b>In a Jupyter environment, please rerun this cell to show the HTML representation or trust the notebook. <br />On GitHub, the HTML representation is unable to render, please try loading this page with nbviewer.org.</b></div><div class=\"sk-container\" hidden><div class=\"sk-item\"><div class=\"sk-estimator sk-toggleable\"><input class=\"sk-toggleable__control sk-hidden--visually\" id=\"sk-estimator-id-28\" type=\"checkbox\" checked><label for=\"sk-estimator-id-28\" class=\"sk-toggleable__label sk-toggleable__label-arrow\">SVC</label><div class=\"sk-toggleable__content\"><pre>SVC(C=0.0001, probability=True, random_state=42)</pre></div></div></div></div></div>"
      ],
      "text/plain": [
       "SVC(C=0.0001, probability=True, random_state=42)"
      ]
     },
     "execution_count": 201,
     "metadata": {},
     "output_type": "execute_result"
    }
   ],
   "source": [
    "model = SVC(C=0.0001, gamma=\"scale\", kernel=\"rbf\", probability=True, random_state=42)\n",
    "model.fit(x, y)"
   ]
  },
  {
   "cell_type": "code",
   "execution_count": 202,
   "metadata": {},
   "outputs": [],
   "source": [
    "columns_name = x.columns"
   ]
  },
  {
   "cell_type": "code",
   "execution_count": 203,
   "metadata": {},
   "outputs": [
    {
     "data": {
      "text/html": [
       "<div>\n",
       "<style scoped>\n",
       "    .dataframe tbody tr th:only-of-type {\n",
       "        vertical-align: middle;\n",
       "    }\n",
       "\n",
       "    .dataframe tbody tr th {\n",
       "        vertical-align: top;\n",
       "    }\n",
       "\n",
       "    .dataframe thead th {\n",
       "        text-align: right;\n",
       "    }\n",
       "</style>\n",
       "<table border=\"1\" class=\"dataframe\">\n",
       "  <thead>\n",
       "    <tr style=\"text-align: right;\">\n",
       "      <th></th>\n",
       "      <th>Ling_Int</th>\n",
       "      <th>Math_Int</th>\n",
       "      <th>Spa_Int</th>\n",
       "      <th>Mus_Int</th>\n",
       "      <th>Nat_Int</th>\n",
       "      <th>Body_Int</th>\n",
       "      <th>Interp_Int</th>\n",
       "      <th>Intrap_Int</th>\n",
       "    </tr>\n",
       "  </thead>\n",
       "  <tbody>\n",
       "    <tr>\n",
       "      <th>0</th>\n",
       "      <td>35</td>\n",
       "      <td>36</td>\n",
       "      <td>34</td>\n",
       "      <td>37</td>\n",
       "      <td>15</td>\n",
       "      <td>17</td>\n",
       "      <td>19</td>\n",
       "      <td>21</td>\n",
       "    </tr>\n",
       "  </tbody>\n",
       "</table>\n",
       "</div>"
      ],
      "text/plain": [
       "   Ling_Int  Math_Int  Spa_Int  Mus_Int  Nat_Int  Body_Int  Interp_Int  \\\n",
       "0        35        36       34       37       15        17          19   \n",
       "\n",
       "   Intrap_Int  \n",
       "0          21  "
      ]
     },
     "execution_count": 203,
     "metadata": {},
     "output_type": "execute_result"
    }
   ],
   "source": [
    "pred = [[35, 36, 34, 37, 15, 17, 19, 21]]\n",
    "pred_data = pd.DataFrame(data=pred, columns=columns_name)\n",
    "pred_data"
   ]
  },
  {
   "cell_type": "code",
   "execution_count": 204,
   "metadata": {},
   "outputs": [
    {
     "name": "stdout",
     "output_type": "stream",
     "text": [
      "optimal_threshold_rac: 1.6427227541607938\n",
      "\n",
      "optimal_threshold_prc: 0.6354188990917495\n"
     ]
    }
   ],
   "source": [
    "print(\"optimal_threshold_rac:\", optimal_threshold_rac)\n",
    "print()\n",
    "print(\"optimal_threshold_prc:\", optimal_threshold_prc)"
   ]
  },
  {
   "cell_type": "code",
   "execution_count": 205,
   "metadata": {},
   "outputs": [
    {
     "data": {
      "text/plain": [
       "1"
      ]
     },
     "execution_count": 205,
     "metadata": {},
     "output_type": "execute_result"
    }
   ],
   "source": [
    "predictions1 = model.predict(pred_data)[0]\n",
    "predictions1"
   ]
  },
  {
   "cell_type": "code",
   "execution_count": 206,
   "metadata": {},
   "outputs": [
    {
     "name": "stdout",
     "output_type": "stream",
     "text": [
      "[0.45406756 0.54593244]\n",
      "0.4540675559949214\n",
      "0.5459324440050786\n"
     ]
    }
   ],
   "source": [
    "predictions_proba = model.predict_proba(pred_data)\n",
    "print(predictions_proba[0])\n",
    "print(predictions_proba[0][0])\n",
    "print(predictions_proba[0][1])"
   ]
  },
  {
   "cell_type": "code",
   "execution_count": 207,
   "metadata": {},
   "outputs": [
    {
     "data": {
      "text/plain": [
       "0"
      ]
     },
     "execution_count": 207,
     "metadata": {},
     "output_type": "execute_result"
    }
   ],
   "source": [
    "predictions2 = [1 if predictions_proba[0][1] >= optimal_threshold_prc else 0][0] \n",
    "predictions2"
   ]
  },
  {
   "cell_type": "code",
   "execution_count": 208,
   "metadata": {},
   "outputs": [
    {
     "data": {
      "text/html": [
       "<div>\n",
       "<style scoped>\n",
       "    .dataframe tbody tr th:only-of-type {\n",
       "        vertical-align: middle;\n",
       "    }\n",
       "\n",
       "    .dataframe tbody tr th {\n",
       "        vertical-align: top;\n",
       "    }\n",
       "\n",
       "    .dataframe thead th {\n",
       "        text-align: right;\n",
       "    }\n",
       "</style>\n",
       "<table border=\"1\" class=\"dataframe\">\n",
       "  <thead>\n",
       "    <tr style=\"text-align: right;\">\n",
       "      <th></th>\n",
       "      <th>Ling_Int</th>\n",
       "      <th>Math_Int</th>\n",
       "      <th>Spa_Int</th>\n",
       "      <th>Mus_Int</th>\n",
       "      <th>Nat_Int</th>\n",
       "      <th>Body_Int</th>\n",
       "      <th>Interp_Int</th>\n",
       "      <th>Intrap_Int</th>\n",
       "      <th>pred1</th>\n",
       "      <th>pred_proba_1</th>\n",
       "      <th>pred2</th>\n",
       "    </tr>\n",
       "  </thead>\n",
       "  <tbody>\n",
       "    <tr>\n",
       "      <th>0</th>\n",
       "      <td>35</td>\n",
       "      <td>36</td>\n",
       "      <td>34</td>\n",
       "      <td>37</td>\n",
       "      <td>15</td>\n",
       "      <td>17</td>\n",
       "      <td>19</td>\n",
       "      <td>21</td>\n",
       "      <td>1</td>\n",
       "      <td>0.545932</td>\n",
       "      <td>0</td>\n",
       "    </tr>\n",
       "  </tbody>\n",
       "</table>\n",
       "</div>"
      ],
      "text/plain": [
       "   Ling_Int  Math_Int  Spa_Int  Mus_Int  Nat_Int  Body_Int  Interp_Int  \\\n",
       "0        35        36       34       37       15        17          19   \n",
       "\n",
       "   Intrap_Int  pred1  pred_proba_1  pred2  \n",
       "0          21      1      0.545932      0  "
      ]
     },
     "execution_count": 208,
     "metadata": {},
     "output_type": "execute_result"
    }
   ],
   "source": [
    "pred_data[\"pred1\"] = predictions1\n",
    "pred_data[\"pred_proba_1\"] = predictions_proba[0][1]\n",
    "pred_data[\"pred2\"] = predictions2\n",
    "pred_data"
   ]
  },
  {
   "cell_type": "code",
   "execution_count": 209,
   "metadata": {},
   "outputs": [
    {
     "name": "stdout",
     "output_type": "stream",
     "text": [
      "MI_Cat\t\t\t: Mus_Int\n",
      "MI_Score\t\t: 37\n",
      "Best_Threshold\t\t: 0.6354188990917495\n",
      "Predictions_Proba_1\t: 0.5459324440050786\n",
      "Prediction\t\t: 0\n",
      "Result\t\t\t: Not Pilot\n"
     ]
    }
   ],
   "source": [
    "MI_Cat = columns_name[np.argmax(pred_data)]\n",
    "MI_Score = max(pred[0])\n",
    "Best_Threshold = optimal_threshold_prc\n",
    "\n",
    "if predictions_proba[0][1] >= Best_Threshold:\n",
    "    print(f\"MI_Cat\\t\\t\\t: {MI_Cat}\\nMI_Score\\t\\t: {MI_Score}\\nBest_Threshold\\t\\t: {Best_Threshold}\\nPredictions_Proba_1\\t: {predictions_proba[0][1]}\\nPrediction\\t\\t: 1\\nResult\\t\\t\\t: Pilot\")\n",
    "if predictions_proba[0][1] < Best_Threshold:\n",
    "    print(f\"MI_Cat\\t\\t\\t: {MI_Cat}\\nMI_Score\\t\\t: {MI_Score}\\nBest_Threshold\\t\\t: {Best_Threshold}\\nPredictions_Proba_1\\t: {predictions_proba[0][1]}\\nPrediction\\t\\t: 0\\nResult\\t\\t\\t: Not Pilot\")"
   ]
  },
  {
   "cell_type": "code",
   "execution_count": null,
   "metadata": {},
   "outputs": [],
   "source": []
  }
 ],
 "metadata": {
  "kernelspec": {
   "display_name": "Python 3.9.7 64-bit",
   "language": "python",
   "name": "python3"
  },
  "language_info": {
   "codemirror_mode": {
    "name": "ipython",
    "version": 3
   },
   "file_extension": ".py",
   "mimetype": "text/x-python",
   "name": "python",
   "nbconvert_exporter": "python",
   "pygments_lexer": "ipython3",
   "version": "3.9.12"
  },
  "orig_nbformat": 4,
  "vscode": {
   "interpreter": {
    "hash": "78d5379cc5a4e608d385c34b2eb3bb89eeab02a92c9e7d486e469b4c860ee8ca"
   }
  }
 },
 "nbformat": 4,
 "nbformat_minor": 2
}
