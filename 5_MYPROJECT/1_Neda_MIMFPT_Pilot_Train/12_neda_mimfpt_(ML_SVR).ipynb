{
 "cells": [
  {
   "cell_type": "markdown",
   "metadata": {},
   "source": [
    "12_neda_mimfpt_(ML_SVR)\n",
    "\n",
    "Engin Abdan"
   ]
  },
  {
   "cell_type": "markdown",
   "metadata": {},
   "source": [
    "### Libraries"
   ]
  },
  {
   "cell_type": "code",
   "execution_count": 195,
   "metadata": {},
   "outputs": [],
   "source": [
    "import numpy as np\n",
    "import pandas as pd\n",
    "\n",
    "import seaborn as sns\n",
    "import matplotlib.pyplot as plt\n",
    "\n",
    "from scipy.stats import skew\n",
    "\n",
    "from sklearn.model_selection import train_test_split\n",
    "from sklearn.preprocessing import MinMaxScaler\n",
    "from sklearn.model_selection import GridSearchCV\n",
    "from sklearn.model_selection import cross_validate\n",
    "from sklearn.metrics import mean_squared_error, r2_score\n",
    "\n",
    "from sklearn.svm import SVR, LinearSVR\n",
    "\n",
    "import warnings\n",
    "warnings.filterwarnings(\"ignore\")\n",
    "warnings.warn(\"this will not show\")\n",
    "\n",
    "pd.set_option('display.float_format', lambda x: '%.3f' % x)\n",
    "\n",
    "plt.rcParams[\"figure.figsize\"] = (10,6)\n",
    "plt.style.use('classic')\n",
    "sns.set_style(\"white\")"
   ]
  },
  {
   "cell_type": "markdown",
   "metadata": {},
   "source": [
    "### Data"
   ]
  },
  {
   "cell_type": "code",
   "execution_count": 196,
   "metadata": {},
   "outputs": [],
   "source": [
    "stu = pd.read_excel(\"std_ins_ml_data.xlsx\")"
   ]
  },
  {
   "cell_type": "code",
   "execution_count": 197,
   "metadata": {},
   "outputs": [
    {
     "data": {
      "text/html": [
       "<div>\n",
       "<style scoped>\n",
       "    .dataframe tbody tr th:only-of-type {\n",
       "        vertical-align: middle;\n",
       "    }\n",
       "\n",
       "    .dataframe tbody tr th {\n",
       "        vertical-align: top;\n",
       "    }\n",
       "\n",
       "    .dataframe thead th {\n",
       "        text-align: right;\n",
       "    }\n",
       "</style>\n",
       "<table border=\"1\" class=\"dataframe\">\n",
       "  <thead>\n",
       "    <tr style=\"text-align: right;\">\n",
       "      <th></th>\n",
       "      <th>Unnamed: 0</th>\n",
       "      <th>Ling_Int</th>\n",
       "      <th>Math_Int</th>\n",
       "      <th>Spa_Int</th>\n",
       "      <th>Mus_Int</th>\n",
       "      <th>Nat_Int</th>\n",
       "      <th>Body_Int</th>\n",
       "      <th>Interp_Int</th>\n",
       "      <th>Intrap_Int</th>\n",
       "      <th>Plt_Or_Not</th>\n",
       "      <th>Flight_Mean</th>\n",
       "      <th>MI_Cat</th>\n",
       "    </tr>\n",
       "  </thead>\n",
       "  <tbody>\n",
       "    <tr>\n",
       "      <th>0</th>\n",
       "      <td>0</td>\n",
       "      <td>20</td>\n",
       "      <td>19</td>\n",
       "      <td>10</td>\n",
       "      <td>16</td>\n",
       "      <td>13</td>\n",
       "      <td>16</td>\n",
       "      <td>17</td>\n",
       "      <td>22</td>\n",
       "      <td>1</td>\n",
       "      <td>95</td>\n",
       "      <td>Intrap</td>\n",
       "    </tr>\n",
       "  </tbody>\n",
       "</table>\n",
       "</div>"
      ],
      "text/plain": [
       "   Unnamed: 0  Ling_Int  Math_Int  Spa_Int  Mus_Int  Nat_Int  Body_Int  \\\n",
       "0           0        20        19       10       16       13        16   \n",
       "\n",
       "   Interp_Int  Intrap_Int  Plt_Or_Not  Flight_Mean  MI_Cat  \n",
       "0          17          22           1           95  Intrap  "
      ]
     },
     "execution_count": 197,
     "metadata": {},
     "output_type": "execute_result"
    }
   ],
   "source": [
    "stu.head(1)"
   ]
  },
  {
   "cell_type": "code",
   "execution_count": 198,
   "metadata": {},
   "outputs": [
    {
     "data": {
      "text/html": [
       "<div>\n",
       "<style scoped>\n",
       "    .dataframe tbody tr th:only-of-type {\n",
       "        vertical-align: middle;\n",
       "    }\n",
       "\n",
       "    .dataframe tbody tr th {\n",
       "        vertical-align: top;\n",
       "    }\n",
       "\n",
       "    .dataframe thead th {\n",
       "        text-align: right;\n",
       "    }\n",
       "</style>\n",
       "<table border=\"1\" class=\"dataframe\">\n",
       "  <thead>\n",
       "    <tr style=\"text-align: right;\">\n",
       "      <th></th>\n",
       "      <th>Ling_Int</th>\n",
       "      <th>Math_Int</th>\n",
       "      <th>Spa_Int</th>\n",
       "      <th>Mus_Int</th>\n",
       "      <th>Nat_Int</th>\n",
       "      <th>Body_Int</th>\n",
       "      <th>Interp_Int</th>\n",
       "      <th>Intrap_Int</th>\n",
       "      <th>Flight_Mean</th>\n",
       "    </tr>\n",
       "  </thead>\n",
       "  <tbody>\n",
       "    <tr>\n",
       "      <th>0</th>\n",
       "      <td>20</td>\n",
       "      <td>19</td>\n",
       "      <td>10</td>\n",
       "      <td>16</td>\n",
       "      <td>13</td>\n",
       "      <td>16</td>\n",
       "      <td>17</td>\n",
       "      <td>22</td>\n",
       "      <td>95</td>\n",
       "    </tr>\n",
       "  </tbody>\n",
       "</table>\n",
       "</div>"
      ],
      "text/plain": [
       "   Ling_Int  Math_Int  Spa_Int  Mus_Int  Nat_Int  Body_Int  Interp_Int  \\\n",
       "0        20        19       10       16       13        16          17   \n",
       "\n",
       "   Intrap_Int  Flight_Mean  \n",
       "0          22           95  "
      ]
     },
     "execution_count": 198,
     "metadata": {},
     "output_type": "execute_result"
    }
   ],
   "source": [
    "drop_list = [\"Unnamed: 0\", \"Plt_Or_Not\",\"MI_Cat\"]\n",
    "stu.drop(drop_list, inplace=True, axis=1)\n",
    "stu.head(1)"
   ]
  },
  {
   "cell_type": "markdown",
   "metadata": {},
   "source": [
    "### Data infos"
   ]
  },
  {
   "cell_type": "code",
   "execution_count": 199,
   "metadata": {},
   "outputs": [
    {
     "data": {
      "text/html": [
       "<div>\n",
       "<style scoped>\n",
       "    .dataframe tbody tr th:only-of-type {\n",
       "        vertical-align: middle;\n",
       "    }\n",
       "\n",
       "    .dataframe tbody tr th {\n",
       "        vertical-align: top;\n",
       "    }\n",
       "\n",
       "    .dataframe thead th {\n",
       "        text-align: right;\n",
       "    }\n",
       "</style>\n",
       "<table border=\"1\" class=\"dataframe\">\n",
       "  <thead>\n",
       "    <tr style=\"text-align: right;\">\n",
       "      <th></th>\n",
       "      <th>count</th>\n",
       "      <th>mean</th>\n",
       "      <th>std</th>\n",
       "      <th>min</th>\n",
       "      <th>25%</th>\n",
       "      <th>50%</th>\n",
       "      <th>75%</th>\n",
       "      <th>max</th>\n",
       "    </tr>\n",
       "  </thead>\n",
       "  <tbody>\n",
       "    <tr>\n",
       "      <th>Ling_Int</th>\n",
       "      <td>100.000</td>\n",
       "      <td>17.720</td>\n",
       "      <td>3.069</td>\n",
       "      <td>11.000</td>\n",
       "      <td>16.000</td>\n",
       "      <td>17.000</td>\n",
       "      <td>20.000</td>\n",
       "      <td>26.000</td>\n",
       "    </tr>\n",
       "    <tr>\n",
       "      <th>Math_Int</th>\n",
       "      <td>100.000</td>\n",
       "      <td>17.750</td>\n",
       "      <td>3.655</td>\n",
       "      <td>10.000</td>\n",
       "      <td>15.000</td>\n",
       "      <td>17.000</td>\n",
       "      <td>19.000</td>\n",
       "      <td>33.000</td>\n",
       "    </tr>\n",
       "    <tr>\n",
       "      <th>Spa_Int</th>\n",
       "      <td>100.000</td>\n",
       "      <td>17.810</td>\n",
       "      <td>3.047</td>\n",
       "      <td>10.000</td>\n",
       "      <td>15.750</td>\n",
       "      <td>17.500</td>\n",
       "      <td>20.000</td>\n",
       "      <td>26.000</td>\n",
       "    </tr>\n",
       "    <tr>\n",
       "      <th>Mus_Int</th>\n",
       "      <td>100.000</td>\n",
       "      <td>17.860</td>\n",
       "      <td>3.111</td>\n",
       "      <td>10.000</td>\n",
       "      <td>16.000</td>\n",
       "      <td>17.500</td>\n",
       "      <td>20.000</td>\n",
       "      <td>26.000</td>\n",
       "    </tr>\n",
       "    <tr>\n",
       "      <th>Nat_Int</th>\n",
       "      <td>100.000</td>\n",
       "      <td>18.160</td>\n",
       "      <td>3.741</td>\n",
       "      <td>10.000</td>\n",
       "      <td>15.750</td>\n",
       "      <td>18.000</td>\n",
       "      <td>20.000</td>\n",
       "      <td>33.000</td>\n",
       "    </tr>\n",
       "    <tr>\n",
       "      <th>Body_Int</th>\n",
       "      <td>100.000</td>\n",
       "      <td>17.200</td>\n",
       "      <td>2.670</td>\n",
       "      <td>10.000</td>\n",
       "      <td>15.000</td>\n",
       "      <td>17.000</td>\n",
       "      <td>19.000</td>\n",
       "      <td>23.000</td>\n",
       "    </tr>\n",
       "    <tr>\n",
       "      <th>Interp_Int</th>\n",
       "      <td>100.000</td>\n",
       "      <td>17.780</td>\n",
       "      <td>2.866</td>\n",
       "      <td>12.000</td>\n",
       "      <td>16.000</td>\n",
       "      <td>18.000</td>\n",
       "      <td>19.000</td>\n",
       "      <td>26.000</td>\n",
       "    </tr>\n",
       "    <tr>\n",
       "      <th>Intrap_Int</th>\n",
       "      <td>100.000</td>\n",
       "      <td>18.070</td>\n",
       "      <td>2.875</td>\n",
       "      <td>13.000</td>\n",
       "      <td>16.000</td>\n",
       "      <td>18.000</td>\n",
       "      <td>20.000</td>\n",
       "      <td>26.000</td>\n",
       "    </tr>\n",
       "    <tr>\n",
       "      <th>Flight_Mean</th>\n",
       "      <td>100.000</td>\n",
       "      <td>75.000</td>\n",
       "      <td>12.092</td>\n",
       "      <td>55.000</td>\n",
       "      <td>63.750</td>\n",
       "      <td>75.000</td>\n",
       "      <td>86.000</td>\n",
       "      <td>98.000</td>\n",
       "    </tr>\n",
       "  </tbody>\n",
       "</table>\n",
       "</div>"
      ],
      "text/plain": [
       "              count   mean    std    min    25%    50%    75%    max\n",
       "Ling_Int    100.000 17.720  3.069 11.000 16.000 17.000 20.000 26.000\n",
       "Math_Int    100.000 17.750  3.655 10.000 15.000 17.000 19.000 33.000\n",
       "Spa_Int     100.000 17.810  3.047 10.000 15.750 17.500 20.000 26.000\n",
       "Mus_Int     100.000 17.860  3.111 10.000 16.000 17.500 20.000 26.000\n",
       "Nat_Int     100.000 18.160  3.741 10.000 15.750 18.000 20.000 33.000\n",
       "Body_Int    100.000 17.200  2.670 10.000 15.000 17.000 19.000 23.000\n",
       "Interp_Int  100.000 17.780  2.866 12.000 16.000 18.000 19.000 26.000\n",
       "Intrap_Int  100.000 18.070  2.875 13.000 16.000 18.000 20.000 26.000\n",
       "Flight_Mean 100.000 75.000 12.092 55.000 63.750 75.000 86.000 98.000"
      ]
     },
     "execution_count": 199,
     "metadata": {},
     "output_type": "execute_result"
    }
   ],
   "source": [
    "stu.describe().T"
   ]
  },
  {
   "cell_type": "markdown",
   "metadata": {},
   "source": [
    "### Skewness"
   ]
  },
  {
   "cell_type": "code",
   "execution_count": 200,
   "metadata": {},
   "outputs": [
    {
     "name": "stdout",
     "output_type": "stream",
     "text": [
      "Ling_Int \t: 0.12059345356069898 \t>>> Normal\n",
      "Math_Int \t: 1.3051123209475743 \t>>> Skewed\n",
      "Spa_Int \t: 0.2115483275849964 \t>>> Normal\n",
      "Mus_Int \t: 0.32126133203604673 \t>>> Normal\n",
      "Nat_Int \t: 0.8025455431140828 \t>>> Moderate\n",
      "Body_Int \t: 0.16184329645515394 \t>>> Normal\n",
      "Interp_Int \t: 0.22759596608919014 \t>>> Normal\n",
      "Intrap_Int \t: 0.12173869243645632 \t>>> Normal\n"
     ]
    }
   ],
   "source": [
    "x = stu.drop(columns=[\"Flight_Mean\"]).columns\n",
    "for i in x:\n",
    "    if skew(stu[i]) >= -0.5 and skew(stu[i]) < 0.5:\n",
    "        print(f\"{i} \\t: {skew(stu[i])} \\t>>> Normal\")\n",
    "    elif skew(stu[i]) >= 0.5 and skew(stu[i]) < 1.0:\n",
    "        print(f\"{i} \\t: {skew(stu[i])} \\t>>> Moderate\")\n",
    "    elif skew(stu[i]) >= 1.0:\n",
    "        print(f\"{i} \\t: {skew(stu[i])} \\t>>> Skewed\")              "
   ]
  },
  {
   "cell_type": "markdown",
   "metadata": {},
   "source": [
    "### Heatmap"
   ]
  },
  {
   "cell_type": "code",
   "execution_count": 201,
   "metadata": {},
   "outputs": [],
   "source": [
    "# plt.figure(figsize=(20,10))\n",
    "# sns.heatmap(stu.corr(), annot=True, cmap=\"BrBG\")\n",
    "# plt.tight_layout();"
   ]
  },
  {
   "cell_type": "markdown",
   "metadata": {},
   "source": [
    "### Pairplot"
   ]
  },
  {
   "cell_type": "code",
   "execution_count": 202,
   "metadata": {},
   "outputs": [],
   "source": [
    "#sns.pairplot(stu,hue=\"Flight_Mean\");"
   ]
  },
  {
   "cell_type": "markdown",
   "metadata": {},
   "source": [
    "### Corr With Plt_Or_Not"
   ]
  },
  {
   "cell_type": "code",
   "execution_count": 203,
   "metadata": {},
   "outputs": [
    {
     "data": {
      "text/plain": [
       "<AxesSubplot:>"
      ]
     },
     "execution_count": 203,
     "metadata": {},
     "output_type": "execute_result"
    },
    {
     "data": {
      "image/png": "[encoded data removed]",
      "text/plain": [
       "<Figure size 640x480 with 1 Axes>"
      ]
     },
     "metadata": {},
     "output_type": "display_data"
    }
   ],
   "source": [
    "stu.corr()[\"Flight_Mean\"].drop(\"Flight_Mean\").sort_values().plot.barh()"
   ]
  },
  {
   "cell_type": "markdown",
   "metadata": {},
   "source": [
    "### Train Test Split"
   ]
  },
  {
   "cell_type": "code",
   "execution_count": 204,
   "metadata": {},
   "outputs": [
    {
     "name": "stdout",
     "output_type": "stream",
     "text": [
      "Train features shape :  (70, 8)\n",
      "Train target shape   :  (70,)\n",
      "Test features shape  :  (30, 8)\n",
      "Test target shape    :  (30,)\n"
     ]
    }
   ],
   "source": [
    "from sklearn.model_selection import train_test_split\n",
    "\n",
    "x = stu.drop(columns=[\"Flight_Mean\"], axis=1)\n",
    "y = stu[\"Flight_Mean\"]\n",
    "\n",
    "x_train, x_test, y_train, y_test = train_test_split(x, y, test_size=0.3, random_state=42)\n",
    "print(\"Train features shape : \", x_train.shape)\n",
    "print(\"Train target shape   : \", y_train.shape)\n",
    "print(\"Test features shape  : \", x_test.shape)\n",
    "print(\"Test target shape    : \", y_test.shape)"
   ]
  },
  {
   "cell_type": "markdown",
   "metadata": {},
   "source": [
    "### Scaling"
   ]
  },
  {
   "cell_type": "code",
   "execution_count": 205,
   "metadata": {},
   "outputs": [],
   "source": [
    "from sklearn.preprocessing import MinMaxScaler\n",
    "\n",
    "scaler = MinMaxScaler()\n",
    "x_train_scaled = scaler.fit_transform(x_train)\n",
    "x_test_scaled = scaler.transform(x_test)"
   ]
  },
  {
   "cell_type": "markdown",
   "metadata": {},
   "source": [
    "### SVR Model"
   ]
  },
  {
   "cell_type": "code",
   "execution_count": 206,
   "metadata": {},
   "outputs": [],
   "source": [
    "from sklearn.svm import SVR, LinearSVR\n",
    "from sklearn.metrics import mean_absolute_error, mean_squared_error, r2_score"
   ]
  },
  {
   "cell_type": "markdown",
   "metadata": {},
   "source": [
    "### SVR & Without Scalling"
   ]
  },
  {
   "cell_type": "code",
   "execution_count": 207,
   "metadata": {},
   "outputs": [
    {
     "name": "stdout",
     "output_type": "stream",
     "text": [
      "r2\t: -0.11222600394217519\n",
      "rmse\t: 12.3123989754494\n"
     ]
    }
   ],
   "source": [
    "model = SVR()\n",
    "\n",
    "model.fit(x_train, y_train)\n",
    "y_test_pred = model.predict(x_test)\n",
    "\n",
    "r2 = r2_score(y_test, y_test_pred)\n",
    "rmse = np.sqrt(mean_squared_error(y_test, y_test_pred))\n",
    "\n",
    "print(\"r2\\t:\", r2)\n",
    "print(\"rmse\\t:\", rmse)"
   ]
  },
  {
   "cell_type": "markdown",
   "metadata": {},
   "source": [
    "### SVR & With Scalling"
   ]
  },
  {
   "cell_type": "code",
   "execution_count": 208,
   "metadata": {},
   "outputs": [
    {
     "name": "stdout",
     "output_type": "stream",
     "text": [
      "r2\t: -0.11943521188085704\n",
      "rmse\t: 12.352237674302527\n"
     ]
    }
   ],
   "source": [
    "model = SVR()\n",
    "\n",
    "model.fit(x_train_scaled, y_train)\n",
    "y_test_pred = model.predict(x_test_scaled)\n",
    "\n",
    "r2 = r2_score(y_test, y_test_pred)\n",
    "rmse = np.sqrt(mean_squared_error(y_test, y_test_pred))\n",
    "\n",
    "print(\"r2\\t:\", r2)\n",
    "print(\"rmse\\t:\", rmse)"
   ]
  },
  {
   "cell_type": "markdown",
   "metadata": {},
   "source": [
    "### SVR & CV"
   ]
  },
  {
   "cell_type": "code",
   "execution_count": 209,
   "metadata": {},
   "outputs": [
    {
     "name": "stdout",
     "output_type": "stream",
     "text": [
      "test_r2                             -0.279\n",
      "test_neg_root_mean_squared_error   -12.733\n",
      "dtype: float64\n",
      "----------------------------------------------------------------\n"
     ]
    },
    {
     "data": {
      "text/html": [
       "<div>\n",
       "<style scoped>\n",
       "    .dataframe tbody tr th:only-of-type {\n",
       "        vertical-align: middle;\n",
       "    }\n",
       "\n",
       "    .dataframe tbody tr th {\n",
       "        vertical-align: top;\n",
       "    }\n",
       "\n",
       "    .dataframe thead th {\n",
       "        text-align: right;\n",
       "    }\n",
       "</style>\n",
       "<table border=\"1\" class=\"dataframe\">\n",
       "  <thead>\n",
       "    <tr style=\"text-align: right;\">\n",
       "      <th></th>\n",
       "      <th>r2</th>\n",
       "      <th>rmse</th>\n",
       "    </tr>\n",
       "  </thead>\n",
       "  <tbody>\n",
       "    <tr>\n",
       "      <th>0</th>\n",
       "      <td>-0.555</td>\n",
       "      <td>-13.126</td>\n",
       "    </tr>\n",
       "    <tr>\n",
       "      <th>1</th>\n",
       "      <td>-0.016</td>\n",
       "      <td>-11.343</td>\n",
       "    </tr>\n",
       "    <tr>\n",
       "      <th>2</th>\n",
       "      <td>-0.177</td>\n",
       "      <td>-13.600</td>\n",
       "    </tr>\n",
       "    <tr>\n",
       "      <th>3</th>\n",
       "      <td>-0.170</td>\n",
       "      <td>-13.380</td>\n",
       "    </tr>\n",
       "    <tr>\n",
       "      <th>4</th>\n",
       "      <td>-0.477</td>\n",
       "      <td>-12.218</td>\n",
       "    </tr>\n",
       "  </tbody>\n",
       "</table>\n",
       "</div>"
      ],
      "text/plain": [
       "      r2    rmse\n",
       "0 -0.555 -13.126\n",
       "1 -0.016 -11.343\n",
       "2 -0.177 -13.600\n",
       "3 -0.170 -13.380\n",
       "4 -0.477 -12.218"
      ]
     },
     "execution_count": 209,
     "metadata": {},
     "output_type": "execute_result"
    }
   ],
   "source": [
    "model = SVR()\n",
    "\n",
    "scores = cross_validate(model,\n",
    "                        x_train,\n",
    "                        y_train,\n",
    "                        scoring=['r2', 'neg_root_mean_squared_error'],\n",
    "                        cv =5)\n",
    "df_scores = pd.DataFrame(scores)\n",
    "print(df_scores.mean()[2:])\n",
    "print(\"----------------------------------------------------------------\")\n",
    "df_scores[[\"r2\", \"rmse\"]] = df_scores[[\"test_r2\", \"test_neg_root_mean_squared_error\"]]\n",
    "df_scores[[\"r2\", \"rmse\"]]"
   ]
  },
  {
   "cell_type": "markdown",
   "metadata": {},
   "source": [
    "### With Best Parameters (GridsearchCV)"
   ]
  },
  {
   "cell_type": "code",
   "execution_count": 210,
   "metadata": {},
   "outputs": [
    {
     "name": "stdout",
     "output_type": "stream",
     "text": [
      "Fitting 5 folds for each of 70 candidates, totalling 350 fits\n",
      "[CV 1/5] END C=0.0001, gamma=scale, kernel=rbf;, score=-0.553 total time=   0.0s\n",
      "[CV 2/5] END C=0.0001, gamma=scale, kernel=rbf;, score=-0.000 total time=   0.0s\n",
      "[CV 3/5] END C=0.0001, gamma=scale, kernel=rbf;, score=-0.076 total time=   0.0s\n",
      "[CV 4/5] END C=0.0001, gamma=scale, kernel=rbf;, score=-0.094 total time=   0.0s\n",
      "[CV 5/5] END C=0.0001, gamma=scale, kernel=rbf;, score=-0.412 total time=   0.0s\n",
      "[CV 1/5] END C=0.0001, gamma=scale, kernel=linear;, score=-0.553 total time=   0.0s\n",
      "[CV 2/5] END C=0.0001, gamma=scale, kernel=linear;, score=-0.000 total time=   0.0s\n",
      "[CV 3/5] END C=0.0001, gamma=scale, kernel=linear;, score=-0.076 total time=   0.0s\n",
      "[CV 4/5] END C=0.0001, gamma=scale, kernel=linear;, score=-0.094 total time=   0.0s\n",
      "[CV 5/5] END C=0.0001, gamma=scale, kernel=linear;, score=-0.412 total time=   0.0s\n",
      "[CV 1/5] END .C=0.0001, gamma=auto, kernel=rbf;, score=-0.553 total time=   0.0s\n",
      "[CV 2/5] END .C=0.0001, gamma=auto, kernel=rbf;, score=-0.000 total time=   0.0s\n",
      "[CV 3/5] END .C=0.0001, gamma=auto, kernel=rbf;, score=-0.076 total time=   0.0s\n",
      "[CV 4/5] END .C=0.0001, gamma=auto, kernel=rbf;, score=-0.094 total time=   0.0s\n",
      "[CV 5/5] END .C=0.0001, gamma=auto, kernel=rbf;, score=-0.412 total time=   0.0s\n",
      "[CV 1/5] END C=0.0001, gamma=auto, kernel=linear;, score=-0.553 total time=   0.0s\n",
      "[CV 2/5] END C=0.0001, gamma=auto, kernel=linear;, score=-0.000 total time=   0.0s\n",
      "[CV 3/5] END C=0.0001, gamma=auto, kernel=linear;, score=-0.076 total time=   0.0s\n",
      "[CV 4/5] END C=0.0001, gamma=auto, kernel=linear;, score=-0.094 total time=   0.0s\n",
      "[CV 5/5] END C=0.0001, gamma=auto, kernel=linear;, score=-0.412 total time=   0.0s\n",
      "[CV 1/5] END ....C=0.0001, gamma=1, kernel=rbf;, score=-0.553 total time=   0.0s\n",
      "[CV 2/5] END ....C=0.0001, gamma=1, kernel=rbf;, score=-0.000 total time=   0.0s\n",
      "[CV 3/5] END ....C=0.0001, gamma=1, kernel=rbf;, score=-0.076 total time=   0.0s\n",
      "[CV 4/5] END ....C=0.0001, gamma=1, kernel=rbf;, score=-0.094 total time=   0.0s\n",
      "[CV 5/5] END ....C=0.0001, gamma=1, kernel=rbf;, score=-0.412 total time=   0.0s\n",
      "[CV 1/5] END .C=0.0001, gamma=1, kernel=linear;, score=-0.553 total time=   0.0s\n",
      "[CV 2/5] END .C=0.0001, gamma=1, kernel=linear;, score=-0.000 total time=   0.0s\n",
      "[CV 3/5] END .C=0.0001, gamma=1, kernel=linear;, score=-0.076 total time=   0.0s\n",
      "[CV 4/5] END .C=0.0001, gamma=1, kernel=linear;, score=-0.094 total time=   0.0s\n",
      "[CV 5/5] END .C=0.0001, gamma=1, kernel=linear;, score=-0.412 total time=   0.0s\n",
      "[CV 1/5] END ..C=0.0001, gamma=0.1, kernel=rbf;, score=-0.553 total time=   0.0s\n",
      "[CV 2/5] END ..C=0.0001, gamma=0.1, kernel=rbf;, score=-0.000 total time=   0.0s\n",
      "[CV 3/5] END ..C=0.0001, gamma=0.1, kernel=rbf;, score=-0.076 total time=   0.0s\n",
      "[CV 4/5] END ..C=0.0001, gamma=0.1, kernel=rbf;, score=-0.094 total time=   0.0s\n",
      "[CV 5/5] END ..C=0.0001, gamma=0.1, kernel=rbf;, score=-0.412 total time=   0.0s\n",
      "[CV 1/5] END C=0.0001, gamma=0.1, kernel=linear;, score=-0.553 total time=   0.0s\n",
      "[CV 2/5] END C=0.0001, gamma=0.1, kernel=linear;, score=-0.000 total time=   0.0s\n",
      "[CV 3/5] END C=0.0001, gamma=0.1, kernel=linear;, score=-0.076 total time=   0.0s\n",
      "[CV 4/5] END C=0.0001, gamma=0.1, kernel=linear;, score=-0.094 total time=   0.0s\n",
      "[CV 5/5] END C=0.0001, gamma=0.1, kernel=linear;, score=-0.412 total time=   0.0s\n",
      "[CV 1/5] END .C=0.0001, gamma=0.01, kernel=rbf;, score=-0.553 total time=   0.0s\n",
      "[CV 2/5] END .C=0.0001, gamma=0.01, kernel=rbf;, score=-0.000 total time=   0.0s\n",
      "[CV 3/5] END .C=0.0001, gamma=0.01, kernel=rbf;, score=-0.076 total time=   0.0s\n",
      "[CV 4/5] END .C=0.0001, gamma=0.01, kernel=rbf;, score=-0.094 total time=   0.0s\n",
      "[CV 5/5] END .C=0.0001, gamma=0.01, kernel=rbf;, score=-0.412 total time=   0.0s\n",
      "[CV 1/5] END C=0.0001, gamma=0.01, kernel=linear;, score=-0.553 total time=   0.0s\n",
      "[CV 2/5] END C=0.0001, gamma=0.01, kernel=linear;, score=-0.000 total time=   0.0s\n",
      "[CV 3/5] END C=0.0001, gamma=0.01, kernel=linear;, score=-0.076 total time=   0.0s\n",
      "[CV 4/5] END C=0.0001, gamma=0.01, kernel=linear;, score=-0.094 total time=   0.0s\n",
      "[CV 5/5] END C=0.0001, gamma=0.01, kernel=linear;, score=-0.412 total time=   0.0s\n",
      "[CV 1/5] END C=0.0001, gamma=0.001, kernel=rbf;, score=-0.553 total time=   0.0s\n",
      "[CV 2/5] END C=0.0001, gamma=0.001, kernel=rbf;, score=-0.000 total time=   0.0s\n",
      "[CV 3/5] END C=0.0001, gamma=0.001, kernel=rbf;, score=-0.076 total time=   0.0s\n",
      "[CV 4/5] END C=0.0001, gamma=0.001, kernel=rbf;, score=-0.094 total time=   0.0s\n",
      "[CV 5/5] END C=0.0001, gamma=0.001, kernel=rbf;, score=-0.412 total time=   0.0s\n",
      "[CV 1/5] END C=0.0001, gamma=0.001, kernel=linear;, score=-0.553 total time=   0.0s\n",
      "[CV 2/5] END C=0.0001, gamma=0.001, kernel=linear;, score=-0.000 total time=   0.0s\n",
      "[CV 3/5] END C=0.0001, gamma=0.001, kernel=linear;, score=-0.076 total time=   0.0s\n",
      "[CV 4/5] END C=0.0001, gamma=0.001, kernel=linear;, score=-0.094 total time=   0.0s\n",
      "[CV 5/5] END C=0.0001, gamma=0.001, kernel=linear;, score=-0.412 total time=   0.0s\n",
      "[CV 1/5] END C=0.0001, gamma=0.0001, kernel=rbf;, score=-0.553 total time=   0.0s\n",
      "[CV 2/5] END C=0.0001, gamma=0.0001, kernel=rbf;, score=-0.000 total time=   0.0s\n",
      "[CV 3/5] END C=0.0001, gamma=0.0001, kernel=rbf;, score=-0.076 total time=   0.0s\n",
      "[CV 4/5] END C=0.0001, gamma=0.0001, kernel=rbf;, score=-0.094 total time=   0.0s\n",
      "[CV 5/5] END C=0.0001, gamma=0.0001, kernel=rbf;, score=-0.412 total time=   0.0s\n",
      "[CV 1/5] END C=0.0001, gamma=0.0001, kernel=linear;, score=-0.553 total time=   0.0s\n",
      "[CV 2/5] END C=0.0001, gamma=0.0001, kernel=linear;, score=-0.000 total time=   0.0s\n",
      "[CV 3/5] END C=0.0001, gamma=0.0001, kernel=linear;, score=-0.076 total time=   0.0s\n",
      "[CV 4/5] END C=0.0001, gamma=0.0001, kernel=linear;, score=-0.094 total time=   0.0s\n",
      "[CV 5/5] END C=0.0001, gamma=0.0001, kernel=linear;, score=-0.412 total time=   0.0s\n",
      "[CV 1/5] END .C=0.001, gamma=scale, kernel=rbf;, score=-0.553 total time=   0.0s\n",
      "[CV 2/5] END .C=0.001, gamma=scale, kernel=rbf;, score=-0.000 total time=   0.0s\n",
      "[CV 3/5] END .C=0.001, gamma=scale, kernel=rbf;, score=-0.076 total time=   0.0s\n",
      "[CV 4/5] END .C=0.001, gamma=scale, kernel=rbf;, score=-0.094 total time=   0.0s\n",
      "[CV 5/5] END .C=0.001, gamma=scale, kernel=rbf;, score=-0.413 total time=   0.0s\n",
      "[CV 1/5] END C=0.001, gamma=scale, kernel=linear;, score=-0.553 total time=   0.0s\n",
      "[CV 2/5] END C=0.001, gamma=scale, kernel=linear;, score=-0.000 total time=   0.0s\n",
      "[CV 3/5] END C=0.001, gamma=scale, kernel=linear;, score=-0.076 total time=   0.0s\n",
      "[CV 4/5] END C=0.001, gamma=scale, kernel=linear;, score=-0.094 total time=   0.0s\n",
      "[CV 5/5] END C=0.001, gamma=scale, kernel=linear;, score=-0.413 total time=   0.0s\n",
      "[CV 1/5] END ..C=0.001, gamma=auto, kernel=rbf;, score=-0.553 total time=   0.0s\n",
      "[CV 2/5] END ..C=0.001, gamma=auto, kernel=rbf;, score=-0.000 total time=   0.0s\n",
      "[CV 3/5] END ..C=0.001, gamma=auto, kernel=rbf;, score=-0.076 total time=   0.0s\n",
      "[CV 4/5] END ..C=0.001, gamma=auto, kernel=rbf;, score=-0.094 total time=   0.0s\n",
      "[CV 5/5] END ..C=0.001, gamma=auto, kernel=rbf;, score=-0.412 total time=   0.0s\n",
      "[CV 1/5] END C=0.001, gamma=auto, kernel=linear;, score=-0.553 total time=   0.0s\n",
      "[CV 2/5] END C=0.001, gamma=auto, kernel=linear;, score=-0.000 total time=   0.0s\n",
      "[CV 3/5] END C=0.001, gamma=auto, kernel=linear;, score=-0.076 total time=   0.0s\n",
      "[CV 4/5] END C=0.001, gamma=auto, kernel=linear;, score=-0.094 total time=   0.0s\n",
      "[CV 5/5] END C=0.001, gamma=auto, kernel=linear;, score=-0.413 total time=   0.0s\n",
      "[CV 1/5] END .....C=0.001, gamma=1, kernel=rbf;, score=-0.553 total time=   0.0s\n",
      "[CV 2/5] END .....C=0.001, gamma=1, kernel=rbf;, score=-0.000 total time=   0.0s\n",
      "[CV 3/5] END .....C=0.001, gamma=1, kernel=rbf;, score=-0.076 total time=   0.0s\n",
      "[CV 4/5] END .....C=0.001, gamma=1, kernel=rbf;, score=-0.094 total time=   0.0s\n",
      "[CV 5/5] END .....C=0.001, gamma=1, kernel=rbf;, score=-0.413 total time=   0.0s\n",
      "[CV 1/5] END ..C=0.001, gamma=1, kernel=linear;, score=-0.553 total time=   0.0s\n",
      "[CV 2/5] END ..C=0.001, gamma=1, kernel=linear;, score=-0.000 total time=   0.0s\n",
      "[CV 3/5] END ..C=0.001, gamma=1, kernel=linear;, score=-0.076 total time=   0.0s\n",
      "[CV 4/5] END ..C=0.001, gamma=1, kernel=linear;, score=-0.094 total time=   0.0s\n",
      "[CV 5/5] END ..C=0.001, gamma=1, kernel=linear;, score=-0.413 total time=   0.0s\n",
      "[CV 1/5] END ...C=0.001, gamma=0.1, kernel=rbf;, score=-0.553 total time=   0.0s\n",
      "[CV 2/5] END ...C=0.001, gamma=0.1, kernel=rbf;, score=-0.000 total time=   0.0s\n",
      "[CV 3/5] END ...C=0.001, gamma=0.1, kernel=rbf;, score=-0.076 total time=   0.0s\n",
      "[CV 4/5] END ...C=0.001, gamma=0.1, kernel=rbf;, score=-0.094 total time=   0.0s\n",
      "[CV 5/5] END ...C=0.001, gamma=0.1, kernel=rbf;, score=-0.412 total time=   0.0s\n",
      "[CV 1/5] END C=0.001, gamma=0.1, kernel=linear;, score=-0.553 total time=   0.0s\n",
      "[CV 2/5] END C=0.001, gamma=0.1, kernel=linear;, score=-0.000 total time=   0.0s\n",
      "[CV 3/5] END C=0.001, gamma=0.1, kernel=linear;, score=-0.076 total time=   0.0s\n",
      "[CV 4/5] END C=0.001, gamma=0.1, kernel=linear;, score=-0.094 total time=   0.0s\n",
      "[CV 5/5] END C=0.001, gamma=0.1, kernel=linear;, score=-0.413 total time=   0.0s\n",
      "[CV 1/5] END ..C=0.001, gamma=0.01, kernel=rbf;, score=-0.553 total time=   0.0s\n",
      "[CV 2/5] END ..C=0.001, gamma=0.01, kernel=rbf;, score=-0.000 total time=   0.0s\n",
      "[CV 3/5] END ..C=0.001, gamma=0.01, kernel=rbf;, score=-0.076 total time=   0.0s\n",
      "[CV 4/5] END ..C=0.001, gamma=0.01, kernel=rbf;, score=-0.094 total time=   0.0s\n",
      "[CV 5/5] END ..C=0.001, gamma=0.01, kernel=rbf;, score=-0.412 total time=   0.0s\n",
      "[CV 1/5] END C=0.001, gamma=0.01, kernel=linear;, score=-0.553 total time=   0.0s\n",
      "[CV 2/5] END C=0.001, gamma=0.01, kernel=linear;, score=-0.000 total time=   0.0s\n",
      "[CV 3/5] END C=0.001, gamma=0.01, kernel=linear;, score=-0.076 total time=   0.0s\n",
      "[CV 4/5] END C=0.001, gamma=0.01, kernel=linear;, score=-0.094 total time=   0.0s\n",
      "[CV 5/5] END C=0.001, gamma=0.01, kernel=linear;, score=-0.413 total time=   0.0s\n",
      "[CV 1/5] END .C=0.001, gamma=0.001, kernel=rbf;, score=-0.553 total time=   0.0s\n",
      "[CV 2/5] END .C=0.001, gamma=0.001, kernel=rbf;, score=-0.000 total time=   0.0s\n",
      "[CV 3/5] END .C=0.001, gamma=0.001, kernel=rbf;, score=-0.076 total time=   0.0s\n",
      "[CV 4/5] END .C=0.001, gamma=0.001, kernel=rbf;, score=-0.094 total time=   0.0s\n",
      "[CV 5/5] END .C=0.001, gamma=0.001, kernel=rbf;, score=-0.412 total time=   0.0s\n",
      "[CV 1/5] END C=0.001, gamma=0.001, kernel=linear;, score=-0.553 total time=   0.0s\n",
      "[CV 2/5] END C=0.001, gamma=0.001, kernel=linear;, score=-0.000 total time=   0.0s\n",
      "[CV 3/5] END C=0.001, gamma=0.001, kernel=linear;, score=-0.076 total time=   0.0s\n",
      "[CV 4/5] END C=0.001, gamma=0.001, kernel=linear;, score=-0.094 total time=   0.0s\n",
      "[CV 5/5] END C=0.001, gamma=0.001, kernel=linear;, score=-0.413 total time=   0.0s\n",
      "[CV 1/5] END C=0.001, gamma=0.0001, kernel=rbf;, score=-0.553 total time=   0.0s\n",
      "[CV 2/5] END C=0.001, gamma=0.0001, kernel=rbf;, score=-0.000 total time=   0.0s\n",
      "[CV 3/5] END C=0.001, gamma=0.0001, kernel=rbf;, score=-0.076 total time=   0.0s\n",
      "[CV 4/5] END C=0.001, gamma=0.0001, kernel=rbf;, score=-0.094 total time=   0.0s\n",
      "[CV 5/5] END C=0.001, gamma=0.0001, kernel=rbf;, score=-0.412 total time=   0.0s\n",
      "[CV 1/5] END C=0.001, gamma=0.0001, kernel=linear;, score=-0.553 total time=   0.0s\n",
      "[CV 2/5] END C=0.001, gamma=0.0001, kernel=linear;, score=-0.000 total time=   0.0s\n",
      "[CV 3/5] END C=0.001, gamma=0.0001, kernel=linear;, score=-0.076 total time=   0.0s\n",
      "[CV 4/5] END C=0.001, gamma=0.0001, kernel=linear;, score=-0.094 total time=   0.0s\n",
      "[CV 5/5] END C=0.001, gamma=0.0001, kernel=linear;, score=-0.413 total time=   0.0s\n",
      "[CV 1/5] END ..C=0.01, gamma=scale, kernel=rbf;, score=-0.553 total time=   0.0s\n",
      "[CV 2/5] END ..C=0.01, gamma=scale, kernel=rbf;, score=-0.000 total time=   0.0s\n",
      "[CV 3/5] END ..C=0.01, gamma=scale, kernel=rbf;, score=-0.077 total time=   0.0s\n",
      "[CV 4/5] END ..C=0.01, gamma=scale, kernel=rbf;, score=-0.094 total time=   0.0s\n",
      "[CV 5/5] END ..C=0.01, gamma=scale, kernel=rbf;, score=-0.413 total time=   0.0s\n",
      "[CV 1/5] END C=0.01, gamma=scale, kernel=linear;, score=-0.553 total time=   0.0s\n",
      "[CV 2/5] END C=0.01, gamma=scale, kernel=linear;, score=-0.000 total time=   0.0s\n",
      "[CV 3/5] END C=0.01, gamma=scale, kernel=linear;, score=-0.077 total time=   0.0s\n",
      "[CV 4/5] END C=0.01, gamma=scale, kernel=linear;, score=-0.094 total time=   0.0s\n",
      "[CV 5/5] END C=0.01, gamma=scale, kernel=linear;, score=-0.413 total time=   0.0s\n",
      "[CV 1/5] END ...C=0.01, gamma=auto, kernel=rbf;, score=-0.553 total time=   0.0s\n",
      "[CV 2/5] END ...C=0.01, gamma=auto, kernel=rbf;, score=-0.000 total time=   0.0s\n",
      "[CV 3/5] END ...C=0.01, gamma=auto, kernel=rbf;, score=-0.076 total time=   0.0s\n",
      "[CV 4/5] END ...C=0.01, gamma=auto, kernel=rbf;, score=-0.094 total time=   0.0s\n",
      "[CV 5/5] END ...C=0.01, gamma=auto, kernel=rbf;, score=-0.413 total time=   0.0s\n",
      "[CV 1/5] END C=0.01, gamma=auto, kernel=linear;, score=-0.553 total time=   0.0s\n",
      "[CV 2/5] END C=0.01, gamma=auto, kernel=linear;, score=-0.000 total time=   0.0s\n",
      "[CV 3/5] END C=0.01, gamma=auto, kernel=linear;, score=-0.077 total time=   0.0s\n",
      "[CV 4/5] END C=0.01, gamma=auto, kernel=linear;, score=-0.094 total time=   0.0s\n",
      "[CV 5/5] END C=0.01, gamma=auto, kernel=linear;, score=-0.413 total time=   0.0s\n",
      "[CV 1/5] END ......C=0.01, gamma=1, kernel=rbf;, score=-0.553 total time=   0.0s\n",
      "[CV 2/5] END ......C=0.01, gamma=1, kernel=rbf;, score=-0.000 total time=   0.0s\n",
      "[CV 3/5] END ......C=0.01, gamma=1, kernel=rbf;, score=-0.077 total time=   0.0s\n",
      "[CV 4/5] END ......C=0.01, gamma=1, kernel=rbf;, score=-0.094 total time=   0.0s\n",
      "[CV 5/5] END ......C=0.01, gamma=1, kernel=rbf;, score=-0.413 total time=   0.0s\n",
      "[CV 1/5] END ...C=0.01, gamma=1, kernel=linear;, score=-0.553 total time=   0.0s\n",
      "[CV 2/5] END ...C=0.01, gamma=1, kernel=linear;, score=-0.000 total time=   0.0s\n",
      "[CV 3/5] END ...C=0.01, gamma=1, kernel=linear;, score=-0.077 total time=   0.0s\n",
      "[CV 4/5] END ...C=0.01, gamma=1, kernel=linear;, score=-0.094 total time=   0.0s\n",
      "[CV 5/5] END ...C=0.01, gamma=1, kernel=linear;, score=-0.413 total time=   0.0s\n",
      "[CV 1/5] END ....C=0.01, gamma=0.1, kernel=rbf;, score=-0.553 total time=   0.0s\n",
      "[CV 2/5] END ....C=0.01, gamma=0.1, kernel=rbf;, score=-0.000 total time=   0.0s\n",
      "[CV 3/5] END ....C=0.01, gamma=0.1, kernel=rbf;, score=-0.076 total time=   0.0s\n",
      "[CV 4/5] END ....C=0.01, gamma=0.1, kernel=rbf;, score=-0.094 total time=   0.0s\n",
      "[CV 5/5] END ....C=0.01, gamma=0.1, kernel=rbf;, score=-0.413 total time=   0.0s\n",
      "[CV 1/5] END .C=0.01, gamma=0.1, kernel=linear;, score=-0.553 total time=   0.0s\n",
      "[CV 2/5] END .C=0.01, gamma=0.1, kernel=linear;, score=-0.000 total time=   0.0s\n",
      "[CV 3/5] END .C=0.01, gamma=0.1, kernel=linear;, score=-0.077 total time=   0.0s\n",
      "[CV 4/5] END .C=0.01, gamma=0.1, kernel=linear;, score=-0.094 total time=   0.0s\n",
      "[CV 5/5] END .C=0.01, gamma=0.1, kernel=linear;, score=-0.413 total time=   0.0s\n",
      "[CV 1/5] END ...C=0.01, gamma=0.01, kernel=rbf;, score=-0.553 total time=   0.0s\n",
      "[CV 2/5] END ...C=0.01, gamma=0.01, kernel=rbf;, score=-0.000 total time=   0.0s\n",
      "[CV 3/5] END ...C=0.01, gamma=0.01, kernel=rbf;, score=-0.076 total time=   0.0s\n",
      "[CV 4/5] END ...C=0.01, gamma=0.01, kernel=rbf;, score=-0.094 total time=   0.0s\n",
      "[CV 5/5] END ...C=0.01, gamma=0.01, kernel=rbf;, score=-0.412 total time=   0.0s\n",
      "[CV 1/5] END C=0.01, gamma=0.01, kernel=linear;, score=-0.553 total time=   0.0s\n",
      "[CV 2/5] END C=0.01, gamma=0.01, kernel=linear;, score=-0.000 total time=   0.0s\n",
      "[CV 3/5] END C=0.01, gamma=0.01, kernel=linear;, score=-0.077 total time=   0.0s\n",
      "[CV 4/5] END C=0.01, gamma=0.01, kernel=linear;, score=-0.094 total time=   0.0s\n",
      "[CV 5/5] END C=0.01, gamma=0.01, kernel=linear;, score=-0.413 total time=   0.0s\n",
      "[CV 1/5] END ..C=0.01, gamma=0.001, kernel=rbf;, score=-0.553 total time=   0.0s\n",
      "[CV 2/5] END ..C=0.01, gamma=0.001, kernel=rbf;, score=-0.000 total time=   0.0s\n",
      "[CV 3/5] END ..C=0.01, gamma=0.001, kernel=rbf;, score=-0.076 total time=   0.0s\n",
      "[CV 4/5] END ..C=0.01, gamma=0.001, kernel=rbf;, score=-0.094 total time=   0.0s\n",
      "[CV 5/5] END ..C=0.01, gamma=0.001, kernel=rbf;, score=-0.412 total time=   0.0s\n",
      "[CV 1/5] END C=0.01, gamma=0.001, kernel=linear;, score=-0.553 total time=   0.0s\n",
      "[CV 2/5] END C=0.01, gamma=0.001, kernel=linear;, score=-0.000 total time=   0.0s\n",
      "[CV 3/5] END C=0.01, gamma=0.001, kernel=linear;, score=-0.077 total time=   0.0s\n",
      "[CV 4/5] END C=0.01, gamma=0.001, kernel=linear;, score=-0.094 total time=   0.0s\n",
      "[CV 5/5] END C=0.01, gamma=0.001, kernel=linear;, score=-0.413 total time=   0.0s\n",
      "[CV 1/5] END .C=0.01, gamma=0.0001, kernel=rbf;, score=-0.553 total time=   0.0s\n",
      "[CV 2/5] END .C=0.01, gamma=0.0001, kernel=rbf;, score=-0.000 total time=   0.0s\n",
      "[CV 3/5] END .C=0.01, gamma=0.0001, kernel=rbf;, score=-0.076 total time=   0.0s\n",
      "[CV 4/5] END .C=0.01, gamma=0.0001, kernel=rbf;, score=-0.094 total time=   0.0s\n",
      "[CV 5/5] END .C=0.01, gamma=0.0001, kernel=rbf;, score=-0.412 total time=   0.0s\n",
      "[CV 1/5] END C=0.01, gamma=0.0001, kernel=linear;, score=-0.553 total time=   0.0s\n",
      "[CV 2/5] END C=0.01, gamma=0.0001, kernel=linear;, score=-0.000 total time=   0.0s\n",
      "[CV 3/5] END C=0.01, gamma=0.0001, kernel=linear;, score=-0.077 total time=   0.0s\n",
      "[CV 4/5] END C=0.01, gamma=0.0001, kernel=linear;, score=-0.094 total time=   0.0s\n",
      "[CV 5/5] END C=0.01, gamma=0.0001, kernel=linear;, score=-0.413 total time=   0.0s\n",
      "[CV 1/5] END ...C=0.1, gamma=scale, kernel=rbf;, score=-0.556 total time=   0.0s\n",
      "[CV 2/5] END ...C=0.1, gamma=scale, kernel=rbf;, score=-0.003 total time=   0.0s\n",
      "[CV 3/5] END ...C=0.1, gamma=scale, kernel=rbf;, score=-0.089 total time=   0.0s\n",
      "[CV 4/5] END ...C=0.1, gamma=scale, kernel=rbf;, score=-0.102 total time=   0.0s\n",
      "[CV 5/5] END ...C=0.1, gamma=scale, kernel=rbf;, score=-0.416 total time=   0.0s\n",
      "[CV 1/5] END C=0.1, gamma=scale, kernel=linear;, score=-0.553 total time=   0.0s\n",
      "[CV 2/5] END C=0.1, gamma=scale, kernel=linear;, score=-0.003 total time=   0.0s\n",
      "[CV 3/5] END C=0.1, gamma=scale, kernel=linear;, score=-0.082 total time=   0.0s\n",
      "[CV 4/5] END C=0.1, gamma=scale, kernel=linear;, score=-0.100 total time=   0.0s\n",
      "[CV 5/5] END C=0.1, gamma=scale, kernel=linear;, score=-0.417 total time=   0.0s\n",
      "[CV 1/5] END ....C=0.1, gamma=auto, kernel=rbf;, score=-0.553 total time=   0.0s\n",
      "[CV 2/5] END ....C=0.1, gamma=auto, kernel=rbf;, score=-0.001 total time=   0.0s\n",
      "[CV 3/5] END ....C=0.1, gamma=auto, kernel=rbf;, score=-0.078 total time=   0.0s\n",
      "[CV 4/5] END ....C=0.1, gamma=auto, kernel=rbf;, score=-0.095 total time=   0.0s\n",
      "[CV 5/5] END ....C=0.1, gamma=auto, kernel=rbf;, score=-0.414 total time=   0.0s\n",
      "[CV 1/5] END .C=0.1, gamma=auto, kernel=linear;, score=-0.553 total time=   0.0s\n",
      "[CV 2/5] END .C=0.1, gamma=auto, kernel=linear;, score=-0.003 total time=   0.0s\n",
      "[CV 3/5] END .C=0.1, gamma=auto, kernel=linear;, score=-0.082 total time=   0.0s\n",
      "[CV 4/5] END .C=0.1, gamma=auto, kernel=linear;, score=-0.100 total time=   0.0s\n",
      "[CV 5/5] END .C=0.1, gamma=auto, kernel=linear;, score=-0.417 total time=   0.0s\n",
      "[CV 1/5] END .......C=0.1, gamma=1, kernel=rbf;, score=-0.554 total time=   0.0s\n",
      "[CV 2/5] END .......C=0.1, gamma=1, kernel=rbf;, score=-0.003 total time=   0.0s\n",
      "[CV 3/5] END .......C=0.1, gamma=1, kernel=rbf;, score=-0.086 total time=   0.0s\n",
      "[CV 4/5] END .......C=0.1, gamma=1, kernel=rbf;, score=-0.101 total time=   0.0s\n",
      "[CV 5/5] END .......C=0.1, gamma=1, kernel=rbf;, score=-0.418 total time=   0.0s\n",
      "[CV 1/5] END ....C=0.1, gamma=1, kernel=linear;, score=-0.553 total time=   0.0s\n",
      "[CV 2/5] END ....C=0.1, gamma=1, kernel=linear;, score=-0.003 total time=   0.0s\n",
      "[CV 3/5] END ....C=0.1, gamma=1, kernel=linear;, score=-0.082 total time=   0.0s\n",
      "[CV 4/5] END ....C=0.1, gamma=1, kernel=linear;, score=-0.100 total time=   0.0s\n",
      "[CV 5/5] END ....C=0.1, gamma=1, kernel=linear;, score=-0.417 total time=   0.0s\n",
      "[CV 1/5] END .....C=0.1, gamma=0.1, kernel=rbf;, score=-0.553 total time=   0.0s\n",
      "[CV 2/5] END .....C=0.1, gamma=0.1, kernel=rbf;, score=-0.001 total time=   0.0s\n",
      "[CV 3/5] END .....C=0.1, gamma=0.1, kernel=rbf;, score=-0.077 total time=   0.0s\n",
      "[CV 4/5] END .....C=0.1, gamma=0.1, kernel=rbf;, score=-0.095 total time=   0.0s\n",
      "[CV 5/5] END .....C=0.1, gamma=0.1, kernel=rbf;, score=-0.413 total time=   0.0s\n",
      "[CV 1/5] END ..C=0.1, gamma=0.1, kernel=linear;, score=-0.553 total time=   0.0s\n",
      "[CV 2/5] END ..C=0.1, gamma=0.1, kernel=linear;, score=-0.003 total time=   0.0s\n",
      "[CV 3/5] END ..C=0.1, gamma=0.1, kernel=linear;, score=-0.082 total time=   0.0s\n",
      "[CV 4/5] END ..C=0.1, gamma=0.1, kernel=linear;, score=-0.100 total time=   0.0s\n",
      "[CV 5/5] END ..C=0.1, gamma=0.1, kernel=linear;, score=-0.417 total time=   0.0s\n",
      "[CV 1/5] END ....C=0.1, gamma=0.01, kernel=rbf;, score=-0.553 total time=   0.0s\n",
      "[CV 2/5] END ....C=0.1, gamma=0.01, kernel=rbf;, score=-0.000 total time=   0.0s\n",
      "[CV 3/5] END ....C=0.1, gamma=0.01, kernel=rbf;, score=-0.076 total time=   0.0s\n",
      "[CV 4/5] END ....C=0.1, gamma=0.01, kernel=rbf;, score=-0.094 total time=   0.0s\n",
      "[CV 5/5] END ....C=0.1, gamma=0.01, kernel=rbf;, score=-0.413 total time=   0.0s\n",
      "[CV 1/5] END .C=0.1, gamma=0.01, kernel=linear;, score=-0.553 total time=   0.0s\n",
      "[CV 2/5] END .C=0.1, gamma=0.01, kernel=linear;, score=-0.003 total time=   0.0s\n",
      "[CV 3/5] END .C=0.1, gamma=0.01, kernel=linear;, score=-0.082 total time=   0.0s\n",
      "[CV 4/5] END .C=0.1, gamma=0.01, kernel=linear;, score=-0.100 total time=   0.0s\n",
      "[CV 5/5] END .C=0.1, gamma=0.01, kernel=linear;, score=-0.417 total time=   0.0s\n",
      "[CV 1/5] END ...C=0.1, gamma=0.001, kernel=rbf;, score=-0.553 total time=   0.0s\n",
      "[CV 2/5] END ...C=0.1, gamma=0.001, kernel=rbf;, score=-0.000 total time=   0.0s\n",
      "[CV 3/5] END ...C=0.1, gamma=0.001, kernel=rbf;, score=-0.076 total time=   0.0s\n",
      "[CV 4/5] END ...C=0.1, gamma=0.001, kernel=rbf;, score=-0.094 total time=   0.0s\n",
      "[CV 5/5] END ...C=0.1, gamma=0.001, kernel=rbf;, score=-0.412 total time=   0.0s\n",
      "[CV 1/5] END C=0.1, gamma=0.001, kernel=linear;, score=-0.553 total time=   0.0s\n",
      "[CV 2/5] END C=0.1, gamma=0.001, kernel=linear;, score=-0.003 total time=   0.0s\n",
      "[CV 3/5] END C=0.1, gamma=0.001, kernel=linear;, score=-0.082 total time=   0.0s\n",
      "[CV 4/5] END C=0.1, gamma=0.001, kernel=linear;, score=-0.100 total time=   0.0s\n",
      "[CV 5/5] END C=0.1, gamma=0.001, kernel=linear;, score=-0.417 total time=   0.0s\n",
      "[CV 1/5] END ..C=0.1, gamma=0.0001, kernel=rbf;, score=-0.553 total time=   0.0s\n",
      "[CV 2/5] END ..C=0.1, gamma=0.0001, kernel=rbf;, score=-0.000 total time=   0.0s\n",
      "[CV 3/5] END ..C=0.1, gamma=0.0001, kernel=rbf;, score=-0.076 total time=   0.0s\n",
      "[CV 4/5] END ..C=0.1, gamma=0.0001, kernel=rbf;, score=-0.094 total time=   0.0s\n",
      "[CV 5/5] END ..C=0.1, gamma=0.0001, kernel=rbf;, score=-0.412 total time=   0.0s\n",
      "[CV 1/5] END C=0.1, gamma=0.0001, kernel=linear;, score=-0.553 total time=   0.0s\n",
      "[CV 2/5] END C=0.1, gamma=0.0001, kernel=linear;, score=-0.003 total time=   0.0s\n",
      "[CV 3/5] END C=0.1, gamma=0.0001, kernel=linear;, score=-0.082 total time=   0.0s\n",
      "[CV 4/5] END C=0.1, gamma=0.0001, kernel=linear;, score=-0.100 total time=   0.0s\n",
      "[CV 5/5] END C=0.1, gamma=0.0001, kernel=linear;, score=-0.417 total time=   0.0s\n",
      "[CV 1/5] END .....C=1, gamma=scale, kernel=rbf;, score=-0.546 total time=   0.0s\n",
      "[CV 2/5] END .....C=1, gamma=scale, kernel=rbf;, score=-0.022 total time=   0.0s\n",
      "[CV 3/5] END .....C=1, gamma=scale, kernel=rbf;, score=-0.186 total time=   0.0s\n",
      "[CV 4/5] END .....C=1, gamma=scale, kernel=rbf;, score=-0.174 total time=   0.0s\n",
      "[CV 5/5] END .....C=1, gamma=scale, kernel=rbf;, score=-0.460 total time=   0.0s\n",
      "[CV 1/5] END ..C=1, gamma=scale, kernel=linear;, score=-0.553 total time=   0.0s\n",
      "[CV 2/5] END ..C=1, gamma=scale, kernel=linear;, score=-0.033 total time=   0.0s\n",
      "[CV 3/5] END ..C=1, gamma=scale, kernel=linear;, score=-0.151 total time=   0.0s\n",
      "[CV 4/5] END ..C=1, gamma=scale, kernel=linear;, score=-0.148 total time=   0.0s\n",
      "[CV 5/5] END ..C=1, gamma=scale, kernel=linear;, score=-0.465 total time=   0.0s\n",
      "[CV 1/5] END ......C=1, gamma=auto, kernel=rbf;, score=-0.554 total time=   0.0s\n",
      "[CV 2/5] END ......C=1, gamma=auto, kernel=rbf;, score=-0.007 total time=   0.0s\n",
      "[CV 3/5] END ......C=1, gamma=auto, kernel=rbf;, score=-0.092 total time=   0.0s\n",
      "[CV 4/5] END ......C=1, gamma=auto, kernel=rbf;, score=-0.108 total time=   0.0s\n",
      "[CV 5/5] END ......C=1, gamma=auto, kernel=rbf;, score=-0.424 total time=   0.0s\n",
      "[CV 1/5] END ...C=1, gamma=auto, kernel=linear;, score=-0.553 total time=   0.0s\n",
      "[CV 2/5] END ...C=1, gamma=auto, kernel=linear;, score=-0.033 total time=   0.0s\n",
      "[CV 3/5] END ...C=1, gamma=auto, kernel=linear;, score=-0.151 total time=   0.0s\n",
      "[CV 4/5] END ...C=1, gamma=auto, kernel=linear;, score=-0.148 total time=   0.0s\n",
      "[CV 5/5] END ...C=1, gamma=auto, kernel=linear;, score=-0.465 total time=   0.0s\n",
      "[CV 1/5] END .........C=1, gamma=1, kernel=rbf;, score=-0.550 total time=   0.0s\n",
      "[CV 2/5] END .........C=1, gamma=1, kernel=rbf;, score=-0.030 total time=   0.0s\n",
      "[CV 3/5] END .........C=1, gamma=1, kernel=rbf;, score=-0.177 total time=   0.0s\n",
      "[CV 4/5] END .........C=1, gamma=1, kernel=rbf;, score=-0.166 total time=   0.0s\n",
      "[CV 5/5] END .........C=1, gamma=1, kernel=rbf;, score=-0.469 total time=   0.0s\n",
      "[CV 1/5] END ......C=1, gamma=1, kernel=linear;, score=-0.553 total time=   0.0s\n",
      "[CV 2/5] END ......C=1, gamma=1, kernel=linear;, score=-0.033 total time=   0.0s\n",
      "[CV 3/5] END ......C=1, gamma=1, kernel=linear;, score=-0.151 total time=   0.0s\n",
      "[CV 4/5] END ......C=1, gamma=1, kernel=linear;, score=-0.148 total time=   0.0s\n",
      "[CV 5/5] END ......C=1, gamma=1, kernel=linear;, score=-0.465 total time=   0.0s\n",
      "[CV 1/5] END .......C=1, gamma=0.1, kernel=rbf;, score=-0.554 total time=   0.0s\n",
      "[CV 2/5] END .......C=1, gamma=0.1, kernel=rbf;, score=-0.006 total time=   0.0s\n",
      "[CV 3/5] END .......C=1, gamma=0.1, kernel=rbf;, score=-0.089 total time=   0.0s\n",
      "[CV 4/5] END .......C=1, gamma=0.1, kernel=rbf;, score=-0.105 total time=   0.0s\n",
      "[CV 5/5] END .......C=1, gamma=0.1, kernel=rbf;, score=-0.422 total time=   0.0s\n",
      "[CV 1/5] END ....C=1, gamma=0.1, kernel=linear;, score=-0.553 total time=   0.0s\n",
      "[CV 2/5] END ....C=1, gamma=0.1, kernel=linear;, score=-0.033 total time=   0.0s\n",
      "[CV 3/5] END ....C=1, gamma=0.1, kernel=linear;, score=-0.151 total time=   0.0s\n",
      "[CV 4/5] END ....C=1, gamma=0.1, kernel=linear;, score=-0.148 total time=   0.0s\n",
      "[CV 5/5] END ....C=1, gamma=0.1, kernel=linear;, score=-0.465 total time=   0.0s\n",
      "[CV 1/5] END ......C=1, gamma=0.01, kernel=rbf;, score=-0.553 total time=   0.0s\n",
      "[CV 2/5] END ......C=1, gamma=0.01, kernel=rbf;, score=-0.001 total time=   0.0s\n",
      "[CV 3/5] END ......C=1, gamma=0.01, kernel=rbf;, score=-0.077 total time=   0.0s\n",
      "[CV 4/5] END ......C=1, gamma=0.01, kernel=rbf;, score=-0.095 total time=   0.0s\n",
      "[CV 5/5] END ......C=1, gamma=0.01, kernel=rbf;, score=-0.413 total time=   0.0s\n",
      "[CV 1/5] END ...C=1, gamma=0.01, kernel=linear;, score=-0.553 total time=   0.0s\n",
      "[CV 2/5] END ...C=1, gamma=0.01, kernel=linear;, score=-0.033 total time=   0.0s\n",
      "[CV 3/5] END ...C=1, gamma=0.01, kernel=linear;, score=-0.151 total time=   0.0s\n",
      "[CV 4/5] END ...C=1, gamma=0.01, kernel=linear;, score=-0.148 total time=   0.0s\n",
      "[CV 5/5] END ...C=1, gamma=0.01, kernel=linear;, score=-0.465 total time=   0.0s\n",
      "[CV 1/5] END .....C=1, gamma=0.001, kernel=rbf;, score=-0.553 total time=   0.0s\n",
      "[CV 2/5] END .....C=1, gamma=0.001, kernel=rbf;, score=-0.000 total time=   0.0s\n",
      "[CV 3/5] END .....C=1, gamma=0.001, kernel=rbf;, score=-0.076 total time=   0.0s\n",
      "[CV 4/5] END .....C=1, gamma=0.001, kernel=rbf;, score=-0.094 total time=   0.0s\n",
      "[CV 5/5] END .....C=1, gamma=0.001, kernel=rbf;, score=-0.413 total time=   0.0s\n",
      "[CV 1/5] END ..C=1, gamma=0.001, kernel=linear;, score=-0.553 total time=   0.0s\n",
      "[CV 2/5] END ..C=1, gamma=0.001, kernel=linear;, score=-0.033 total time=   0.0s\n",
      "[CV 3/5] END ..C=1, gamma=0.001, kernel=linear;, score=-0.151 total time=   0.0s\n",
      "[CV 4/5] END ..C=1, gamma=0.001, kernel=linear;, score=-0.148 total time=   0.0s\n",
      "[CV 5/5] END ..C=1, gamma=0.001, kernel=linear;, score=-0.465 total time=   0.0s\n",
      "[CV 1/5] END ....C=1, gamma=0.0001, kernel=rbf;, score=-0.553 total time=   0.0s\n",
      "[CV 2/5] END ....C=1, gamma=0.0001, kernel=rbf;, score=-0.000 total time=   0.0s\n",
      "[CV 3/5] END ....C=1, gamma=0.0001, kernel=rbf;, score=-0.076 total time=   0.0s\n",
      "[CV 4/5] END ....C=1, gamma=0.0001, kernel=rbf;, score=-0.094 total time=   0.0s\n",
      "[CV 5/5] END ....C=1, gamma=0.0001, kernel=rbf;, score=-0.412 total time=   0.0s\n",
      "[CV 1/5] END .C=1, gamma=0.0001, kernel=linear;, score=-0.553 total time=   0.0s\n",
      "[CV 2/5] END .C=1, gamma=0.0001, kernel=linear;, score=-0.033 total time=   0.0s\n",
      "[CV 3/5] END .C=1, gamma=0.0001, kernel=linear;, score=-0.151 total time=   0.0s\n",
      "[CV 4/5] END .C=1, gamma=0.0001, kernel=linear;, score=-0.148 total time=   0.0s\n",
      "[CV 5/5] END .C=1, gamma=0.0001, kernel=linear;, score=-0.465 total time=   0.0s\n"
     ]
    },
    {
     "data": {
      "text/html": [
       "<style>#sk-container-id-18 {color: black;background-color: white;}#sk-container-id-18 pre{padding: 0;}#sk-container-id-18 div.sk-toggleable {background-color: white;}#sk-container-id-18 label.sk-toggleable__label {cursor: pointer;display: block;width: 100%;margin-bottom: 0;padding: 0.3em;box-sizing: border-box;text-align: center;}#sk-container-id-18 label.sk-toggleable__label-arrow:before {content: \"▸\";float: left;margin-right: 0.25em;color: #696969;}#sk-container-id-18 label.sk-toggleable__label-arrow:hover:before {color: black;}#sk-container-id-18 div.sk-estimator:hover label.sk-toggleable__label-arrow:before {color: black;}#sk-container-id-18 div.sk-toggleable__content {max-height: 0;max-width: 0;overflow: hidden;text-align: left;background-color: #f0f8ff;}#sk-container-id-18 div.sk-toggleable__content pre {margin: 0.2em;color: black;border-radius: 0.25em;background-color: #f0f8ff;}#sk-container-id-18 input.sk-toggleable__control:checked~div.sk-toggleable__content {max-height: 200px;max-width: 100%;overflow: auto;}#sk-container-id-18 input.sk-toggleable__control:checked~label.sk-toggleable__label-arrow:before {content: \"▾\";}#sk-container-id-18 div.sk-estimator input.sk-toggleable__control:checked~label.sk-toggleable__label {background-color: #d4ebff;}#sk-container-id-18 div.sk-label input.sk-toggleable__control:checked~label.sk-toggleable__label {background-color: #d4ebff;}#sk-container-id-18 input.sk-hidden--visually {border: 0;clip: rect(1px 1px 1px 1px);clip: rect(1px, 1px, 1px, 1px);height: 1px;margin: -1px;overflow: hidden;padding: 0;position: absolute;width: 1px;}#sk-container-id-18 div.sk-estimator {font-family: monospace;background-color: #f0f8ff;border: 1px dotted black;border-radius: 0.25em;box-sizing: border-box;margin-bottom: 0.5em;}#sk-container-id-18 div.sk-estimator:hover {background-color: #d4ebff;}#sk-container-id-18 div.sk-parallel-item::after {content: \"\";width: 100%;border-bottom: 1px solid gray;flex-grow: 1;}#sk-container-id-18 div.sk-label:hover label.sk-toggleable__label {background-color: #d4ebff;}#sk-container-id-18 div.sk-serial::before {content: \"\";position: absolute;border-left: 1px solid gray;box-sizing: border-box;top: 0;bottom: 0;left: 50%;z-index: 0;}#sk-container-id-18 div.sk-serial {display: flex;flex-direction: column;align-items: center;background-color: white;padding-right: 0.2em;padding-left: 0.2em;position: relative;}#sk-container-id-18 div.sk-item {position: relative;z-index: 1;}#sk-container-id-18 div.sk-parallel {display: flex;align-items: stretch;justify-content: center;background-color: white;position: relative;}#sk-container-id-18 div.sk-item::before, #sk-container-id-18 div.sk-parallel-item::before {content: \"\";position: absolute;border-left: 1px solid gray;box-sizing: border-box;top: 0;bottom: 0;left: 50%;z-index: -1;}#sk-container-id-18 div.sk-parallel-item {display: flex;flex-direction: column;z-index: 1;position: relative;background-color: white;}#sk-container-id-18 div.sk-parallel-item:first-child::after {align-self: flex-end;width: 50%;}#sk-container-id-18 div.sk-parallel-item:last-child::after {align-self: flex-start;width: 50%;}#sk-container-id-18 div.sk-parallel-item:only-child::after {width: 0;}#sk-container-id-18 div.sk-dashed-wrapped {border: 1px dashed gray;margin: 0 0.4em 0.5em 0.4em;box-sizing: border-box;padding-bottom: 0.4em;background-color: white;}#sk-container-id-18 div.sk-label label {font-family: monospace;font-weight: bold;display: inline-block;line-height: 1.2em;}#sk-container-id-18 div.sk-label-container {text-align: center;}#sk-container-id-18 div.sk-container {/* jupyter's `normalize.less` sets `[hidden] { display: none; }` but bootstrap.min.css set `[hidden] { display: none !important; }` so we also need the `!important` here to be able to override the default hidden behavior on the sphinx rendered scikit-learn.org. See: https://github.com/scikit-learn/scikit-learn/issues/21755 */display: inline-block !important;position: relative;}#sk-container-id-18 div.sk-text-repr-fallback {display: none;}</style><div id=\"sk-container-id-18\" class=\"sk-top-container\"><div class=\"sk-text-repr-fallback\"><pre>GridSearchCV(estimator=SVR(),\n",
       "             param_grid={&#x27;C&#x27;: [0.0001, 0.001, 0.01, 0.1, 1],\n",
       "                         &#x27;gamma&#x27;: [&#x27;scale&#x27;, &#x27;auto&#x27;, 1, 0.1, 0.01, 0.001,\n",
       "                                   0.0001],\n",
       "                         &#x27;kernel&#x27;: [&#x27;rbf&#x27;, &#x27;linear&#x27;]},\n",
       "             verbose=3)</pre><b>In a Jupyter environment, please rerun this cell to show the HTML representation or trust the notebook. <br />On GitHub, the HTML representation is unable to render, please try loading this page with nbviewer.org.</b></div><div class=\"sk-container\" hidden><div class=\"sk-item sk-dashed-wrapped\"><div class=\"sk-label-container\"><div class=\"sk-label sk-toggleable\"><input class=\"sk-toggleable__control sk-hidden--visually\" id=\"sk-estimator-id-34\" type=\"checkbox\" ><label for=\"sk-estimator-id-34\" class=\"sk-toggleable__label sk-toggleable__label-arrow\">GridSearchCV</label><div class=\"sk-toggleable__content\"><pre>GridSearchCV(estimator=SVR(),\n",
       "             param_grid={&#x27;C&#x27;: [0.0001, 0.001, 0.01, 0.1, 1],\n",
       "                         &#x27;gamma&#x27;: [&#x27;scale&#x27;, &#x27;auto&#x27;, 1, 0.1, 0.01, 0.001,\n",
       "                                   0.0001],\n",
       "                         &#x27;kernel&#x27;: [&#x27;rbf&#x27;, &#x27;linear&#x27;]},\n",
       "             verbose=3)</pre></div></div></div><div class=\"sk-parallel\"><div class=\"sk-parallel-item\"><div class=\"sk-item\"><div class=\"sk-label-container\"><div class=\"sk-label sk-toggleable\"><input class=\"sk-toggleable__control sk-hidden--visually\" id=\"sk-estimator-id-35\" type=\"checkbox\" ><label for=\"sk-estimator-id-35\" class=\"sk-toggleable__label sk-toggleable__label-arrow\">estimator: SVR</label><div class=\"sk-toggleable__content\"><pre>SVR()</pre></div></div></div><div class=\"sk-serial\"><div class=\"sk-item\"><div class=\"sk-estimator sk-toggleable\"><input class=\"sk-toggleable__control sk-hidden--visually\" id=\"sk-estimator-id-36\" type=\"checkbox\" ><label for=\"sk-estimator-id-36\" class=\"sk-toggleable__label sk-toggleable__label-arrow\">SVR</label><div class=\"sk-toggleable__content\"><pre>SVR()</pre></div></div></div></div></div></div></div></div></div></div>"
      ],
      "text/plain": [
       "GridSearchCV(estimator=SVR(),\n",
       "             param_grid={'C': [0.0001, 0.001, 0.01, 0.1, 1],\n",
       "                         'gamma': ['scale', 'auto', 1, 0.1, 0.01, 0.001,\n",
       "                                   0.0001],\n",
       "                         'kernel': ['rbf', 'linear']},\n",
       "             verbose=3)"
      ]
     },
     "execution_count": 210,
     "metadata": {},
     "output_type": "execute_result"
    }
   ],
   "source": [
    "from sklearn.model_selection import GridSearchCV\n",
    "\n",
    "param_grid = {'C': [0.0001, 0.001, 0.01, 0.1, 1],\n",
    "              'gamma': [\"scale\", \"auto\", 1,0.1,0.01,0.001,0.0001],\n",
    "              'kernel': ['rbf', 'linear']}\n",
    "\n",
    "model = SVR()\n",
    "model_grid = GridSearchCV(model, param_grid, verbose=3, refit=True)\n",
    "\n",
    "model_grid.fit(x_train_scaled, y_train)"
   ]
  },
  {
   "cell_type": "code",
   "execution_count": 211,
   "metadata": {},
   "outputs": [
    {
     "data": {
      "text/plain": [
       "{'C': 0.0001, 'gamma': 0.0001, 'kernel': 'rbf'}"
      ]
     },
     "execution_count": 211,
     "metadata": {},
     "output_type": "execute_result"
    }
   ],
   "source": [
    "model_grid.best_params_"
   ]
  },
  {
   "cell_type": "code",
   "execution_count": 212,
   "metadata": {},
   "outputs": [
    {
     "data": {
      "text/html": [
       "<style>#sk-container-id-19 {color: black;background-color: white;}#sk-container-id-19 pre{padding: 0;}#sk-container-id-19 div.sk-toggleable {background-color: white;}#sk-container-id-19 label.sk-toggleable__label {cursor: pointer;display: block;width: 100%;margin-bottom: 0;padding: 0.3em;box-sizing: border-box;text-align: center;}#sk-container-id-19 label.sk-toggleable__label-arrow:before {content: \"▸\";float: left;margin-right: 0.25em;color: #696969;}#sk-container-id-19 label.sk-toggleable__label-arrow:hover:before {color: black;}#sk-container-id-19 div.sk-estimator:hover label.sk-toggleable__label-arrow:before {color: black;}#sk-container-id-19 div.sk-toggleable__content {max-height: 0;max-width: 0;overflow: hidden;text-align: left;background-color: #f0f8ff;}#sk-container-id-19 div.sk-toggleable__content pre {margin: 0.2em;color: black;border-radius: 0.25em;background-color: #f0f8ff;}#sk-container-id-19 input.sk-toggleable__control:checked~div.sk-toggleable__content {max-height: 200px;max-width: 100%;overflow: auto;}#sk-container-id-19 input.sk-toggleable__control:checked~label.sk-toggleable__label-arrow:before {content: \"▾\";}#sk-container-id-19 div.sk-estimator input.sk-toggleable__control:checked~label.sk-toggleable__label {background-color: #d4ebff;}#sk-container-id-19 div.sk-label input.sk-toggleable__control:checked~label.sk-toggleable__label {background-color: #d4ebff;}#sk-container-id-19 input.sk-hidden--visually {border: 0;clip: rect(1px 1px 1px 1px);clip: rect(1px, 1px, 1px, 1px);height: 1px;margin: -1px;overflow: hidden;padding: 0;position: absolute;width: 1px;}#sk-container-id-19 div.sk-estimator {font-family: monospace;background-color: #f0f8ff;border: 1px dotted black;border-radius: 0.25em;box-sizing: border-box;margin-bottom: 0.5em;}#sk-container-id-19 div.sk-estimator:hover {background-color: #d4ebff;}#sk-container-id-19 div.sk-parallel-item::after {content: \"\";width: 100%;border-bottom: 1px solid gray;flex-grow: 1;}#sk-container-id-19 div.sk-label:hover label.sk-toggleable__label {background-color: #d4ebff;}#sk-container-id-19 div.sk-serial::before {content: \"\";position: absolute;border-left: 1px solid gray;box-sizing: border-box;top: 0;bottom: 0;left: 50%;z-index: 0;}#sk-container-id-19 div.sk-serial {display: flex;flex-direction: column;align-items: center;background-color: white;padding-right: 0.2em;padding-left: 0.2em;position: relative;}#sk-container-id-19 div.sk-item {position: relative;z-index: 1;}#sk-container-id-19 div.sk-parallel {display: flex;align-items: stretch;justify-content: center;background-color: white;position: relative;}#sk-container-id-19 div.sk-item::before, #sk-container-id-19 div.sk-parallel-item::before {content: \"\";position: absolute;border-left: 1px solid gray;box-sizing: border-box;top: 0;bottom: 0;left: 50%;z-index: -1;}#sk-container-id-19 div.sk-parallel-item {display: flex;flex-direction: column;z-index: 1;position: relative;background-color: white;}#sk-container-id-19 div.sk-parallel-item:first-child::after {align-self: flex-end;width: 50%;}#sk-container-id-19 div.sk-parallel-item:last-child::after {align-self: flex-start;width: 50%;}#sk-container-id-19 div.sk-parallel-item:only-child::after {width: 0;}#sk-container-id-19 div.sk-dashed-wrapped {border: 1px dashed gray;margin: 0 0.4em 0.5em 0.4em;box-sizing: border-box;padding-bottom: 0.4em;background-color: white;}#sk-container-id-19 div.sk-label label {font-family: monospace;font-weight: bold;display: inline-block;line-height: 1.2em;}#sk-container-id-19 div.sk-label-container {text-align: center;}#sk-container-id-19 div.sk-container {/* jupyter's `normalize.less` sets `[hidden] { display: none; }` but bootstrap.min.css set `[hidden] { display: none !important; }` so we also need the `!important` here to be able to override the default hidden behavior on the sphinx rendered scikit-learn.org. See: https://github.com/scikit-learn/scikit-learn/issues/21755 */display: inline-block !important;position: relative;}#sk-container-id-19 div.sk-text-repr-fallback {display: none;}</style><div id=\"sk-container-id-19\" class=\"sk-top-container\"><div class=\"sk-text-repr-fallback\"><pre>SVR(C=0.0001, gamma=0.0001)</pre><b>In a Jupyter environment, please rerun this cell to show the HTML representation or trust the notebook. <br />On GitHub, the HTML representation is unable to render, please try loading this page with nbviewer.org.</b></div><div class=\"sk-container\" hidden><div class=\"sk-item\"><div class=\"sk-estimator sk-toggleable\"><input class=\"sk-toggleable__control sk-hidden--visually\" id=\"sk-estimator-id-37\" type=\"checkbox\" checked><label for=\"sk-estimator-id-37\" class=\"sk-toggleable__label sk-toggleable__label-arrow\">SVR</label><div class=\"sk-toggleable__content\"><pre>SVR(C=0.0001, gamma=0.0001)</pre></div></div></div></div></div>"
      ],
      "text/plain": [
       "SVR(C=0.0001, gamma=0.0001)"
      ]
     },
     "execution_count": 212,
     "metadata": {},
     "output_type": "execute_result"
    }
   ],
   "source": [
    "model_grid.best_estimator_"
   ]
  },
  {
   "cell_type": "code",
   "execution_count": 213,
   "metadata": {},
   "outputs": [
    {
     "name": "stdout",
     "output_type": "stream",
     "text": [
      "r2\t: -0.10225885030050352\n",
      "rmse\t: 12.257106369935064\n"
     ]
    }
   ],
   "source": [
    "y_test_pred = model_grid.predict(x_test)\n",
    "\n",
    "r2 = r2_score(y_test, y_test_pred)\n",
    "rmse = np.sqrt(mean_squared_error(y_test, y_test_pred))\n",
    "\n",
    "print(\"r2\\t:\", r2)\n",
    "print(\"rmse\\t:\", rmse)"
   ]
  },
  {
   "cell_type": "markdown",
   "metadata": {},
   "source": [
    "### Prediction"
   ]
  },
  {
   "cell_type": "code",
   "execution_count": 214,
   "metadata": {},
   "outputs": [
    {
     "data": {
      "text/html": [
       "<style>#sk-container-id-20 {color: black;background-color: white;}#sk-container-id-20 pre{padding: 0;}#sk-container-id-20 div.sk-toggleable {background-color: white;}#sk-container-id-20 label.sk-toggleable__label {cursor: pointer;display: block;width: 100%;margin-bottom: 0;padding: 0.3em;box-sizing: border-box;text-align: center;}#sk-container-id-20 label.sk-toggleable__label-arrow:before {content: \"▸\";float: left;margin-right: 0.25em;color: #696969;}#sk-container-id-20 label.sk-toggleable__label-arrow:hover:before {color: black;}#sk-container-id-20 div.sk-estimator:hover label.sk-toggleable__label-arrow:before {color: black;}#sk-container-id-20 div.sk-toggleable__content {max-height: 0;max-width: 0;overflow: hidden;text-align: left;background-color: #f0f8ff;}#sk-container-id-20 div.sk-toggleable__content pre {margin: 0.2em;color: black;border-radius: 0.25em;background-color: #f0f8ff;}#sk-container-id-20 input.sk-toggleable__control:checked~div.sk-toggleable__content {max-height: 200px;max-width: 100%;overflow: auto;}#sk-container-id-20 input.sk-toggleable__control:checked~label.sk-toggleable__label-arrow:before {content: \"▾\";}#sk-container-id-20 div.sk-estimator input.sk-toggleable__control:checked~label.sk-toggleable__label {background-color: #d4ebff;}#sk-container-id-20 div.sk-label input.sk-toggleable__control:checked~label.sk-toggleable__label {background-color: #d4ebff;}#sk-container-id-20 input.sk-hidden--visually {border: 0;clip: rect(1px 1px 1px 1px);clip: rect(1px, 1px, 1px, 1px);height: 1px;margin: -1px;overflow: hidden;padding: 0;position: absolute;width: 1px;}#sk-container-id-20 div.sk-estimator {font-family: monospace;background-color: #f0f8ff;border: 1px dotted black;border-radius: 0.25em;box-sizing: border-box;margin-bottom: 0.5em;}#sk-container-id-20 div.sk-estimator:hover {background-color: #d4ebff;}#sk-container-id-20 div.sk-parallel-item::after {content: \"\";width: 100%;border-bottom: 1px solid gray;flex-grow: 1;}#sk-container-id-20 div.sk-label:hover label.sk-toggleable__label {background-color: #d4ebff;}#sk-container-id-20 div.sk-serial::before {content: \"\";position: absolute;border-left: 1px solid gray;box-sizing: border-box;top: 0;bottom: 0;left: 50%;z-index: 0;}#sk-container-id-20 div.sk-serial {display: flex;flex-direction: column;align-items: center;background-color: white;padding-right: 0.2em;padding-left: 0.2em;position: relative;}#sk-container-id-20 div.sk-item {position: relative;z-index: 1;}#sk-container-id-20 div.sk-parallel {display: flex;align-items: stretch;justify-content: center;background-color: white;position: relative;}#sk-container-id-20 div.sk-item::before, #sk-container-id-20 div.sk-parallel-item::before {content: \"\";position: absolute;border-left: 1px solid gray;box-sizing: border-box;top: 0;bottom: 0;left: 50%;z-index: -1;}#sk-container-id-20 div.sk-parallel-item {display: flex;flex-direction: column;z-index: 1;position: relative;background-color: white;}#sk-container-id-20 div.sk-parallel-item:first-child::after {align-self: flex-end;width: 50%;}#sk-container-id-20 div.sk-parallel-item:last-child::after {align-self: flex-start;width: 50%;}#sk-container-id-20 div.sk-parallel-item:only-child::after {width: 0;}#sk-container-id-20 div.sk-dashed-wrapped {border: 1px dashed gray;margin: 0 0.4em 0.5em 0.4em;box-sizing: border-box;padding-bottom: 0.4em;background-color: white;}#sk-container-id-20 div.sk-label label {font-family: monospace;font-weight: bold;display: inline-block;line-height: 1.2em;}#sk-container-id-20 div.sk-label-container {text-align: center;}#sk-container-id-20 div.sk-container {/* jupyter's `normalize.less` sets `[hidden] { display: none; }` but bootstrap.min.css set `[hidden] { display: none !important; }` so we also need the `!important` here to be able to override the default hidden behavior on the sphinx rendered scikit-learn.org. See: https://github.com/scikit-learn/scikit-learn/issues/21755 */display: inline-block !important;position: relative;}#sk-container-id-20 div.sk-text-repr-fallback {display: none;}</style><div id=\"sk-container-id-20\" class=\"sk-top-container\"><div class=\"sk-text-repr-fallback\"><pre>SVR(C=0.0001, gamma=0.0001)</pre><b>In a Jupyter environment, please rerun this cell to show the HTML representation or trust the notebook. <br />On GitHub, the HTML representation is unable to render, please try loading this page with nbviewer.org.</b></div><div class=\"sk-container\" hidden><div class=\"sk-item\"><div class=\"sk-estimator sk-toggleable\"><input class=\"sk-toggleable__control sk-hidden--visually\" id=\"sk-estimator-id-38\" type=\"checkbox\" checked><label for=\"sk-estimator-id-38\" class=\"sk-toggleable__label sk-toggleable__label-arrow\">SVR</label><div class=\"sk-toggleable__content\"><pre>SVR(C=0.0001, gamma=0.0001)</pre></div></div></div></div></div>"
      ],
      "text/plain": [
       "SVR(C=0.0001, gamma=0.0001)"
      ]
     },
     "execution_count": 214,
     "metadata": {},
     "output_type": "execute_result"
    }
   ],
   "source": [
    "final_model = SVR(C=0.0001, gamma=0.0001, kernel=\"rbf\")\n",
    "final_model.fit(x, y)"
   ]
  },
  {
   "cell_type": "code",
   "execution_count": 215,
   "metadata": {},
   "outputs": [],
   "source": [
    "columns_name = x.columns"
   ]
  },
  {
   "cell_type": "code",
   "execution_count": 216,
   "metadata": {},
   "outputs": [
    {
     "data": {
      "text/html": [
       "<div>\n",
       "<style scoped>\n",
       "    .dataframe tbody tr th:only-of-type {\n",
       "        vertical-align: middle;\n",
       "    }\n",
       "\n",
       "    .dataframe tbody tr th {\n",
       "        vertical-align: top;\n",
       "    }\n",
       "\n",
       "    .dataframe thead th {\n",
       "        text-align: right;\n",
       "    }\n",
       "</style>\n",
       "<table border=\"1\" class=\"dataframe\">\n",
       "  <thead>\n",
       "    <tr style=\"text-align: right;\">\n",
       "      <th></th>\n",
       "      <th>Ling_Int</th>\n",
       "      <th>Math_Int</th>\n",
       "      <th>Spa_Int</th>\n",
       "      <th>Mus_Int</th>\n",
       "      <th>Nat_Int</th>\n",
       "      <th>Body_Int</th>\n",
       "      <th>Interp_Int</th>\n",
       "      <th>Intrap_Int</th>\n",
       "    </tr>\n",
       "  </thead>\n",
       "  <tbody>\n",
       "    <tr>\n",
       "      <th>0</th>\n",
       "      <td>35</td>\n",
       "      <td>36</td>\n",
       "      <td>34</td>\n",
       "      <td>37</td>\n",
       "      <td>15</td>\n",
       "      <td>17</td>\n",
       "      <td>19</td>\n",
       "      <td>21</td>\n",
       "    </tr>\n",
       "  </tbody>\n",
       "</table>\n",
       "</div>"
      ],
      "text/plain": [
       "   Ling_Int  Math_Int  Spa_Int  Mus_Int  Nat_Int  Body_Int  Interp_Int  \\\n",
       "0        35        36       34       37       15        17          19   \n",
       "\n",
       "   Intrap_Int  \n",
       "0          21  "
      ]
     },
     "execution_count": 216,
     "metadata": {},
     "output_type": "execute_result"
    }
   ],
   "source": [
    "pred = [[35, 36, 34, 37, 15, 17, 19, 21]]\n",
    "pred_data = pd.DataFrame(data=pred, columns=columns_name)\n",
    "pred_data"
   ]
  },
  {
   "cell_type": "code",
   "execution_count": 217,
   "metadata": {},
   "outputs": [
    {
     "data": {
      "text/plain": [
       "75"
      ]
     },
     "execution_count": 217,
     "metadata": {},
     "output_type": "execute_result"
    }
   ],
   "source": [
    "predictions = final_model.predict(pred_data)[0].astype(\"int\")\n",
    "predictions"
   ]
  },
  {
   "cell_type": "code",
   "execution_count": 218,
   "metadata": {},
   "outputs": [
    {
     "name": "stdout",
     "output_type": "stream",
     "text": [
      "MI_Cat\t\t: Mus_Int\n",
      "MI_Score\t: 37\n",
      "Flight_Score\t: 75\n",
      "Result\t\t: Pilot\n"
     ]
    }
   ],
   "source": [
    "MI_Cat = columns_name[np.argmax(pred_data)]\n",
    "MI_Score = max(pred[0])\n",
    "Flight_Score = predictions\n",
    "\n",
    "if Flight_Score >= 70:\n",
    "    print(f\"MI_Cat\\t\\t: {MI_Cat}\\nMI_Score\\t: {MI_Score}\\nFlight_Score\\t: {Flight_Score}\\nResult\\t\\t: Pilot\")\n",
    "if Flight_Score < 70:\n",
    "    print(f\"MI_Cat\\t\\t: {MI_Cat}\\nMI_Score\\t: {MI_Score}\\nFlight_Score\\t: {Flight_Score}\\nResult\\t\\t: Not Pilot\")"
   ]
  },
  {
   "cell_type": "code",
   "execution_count": null,
   "metadata": {},
   "outputs": [],
   "source": []
  }
 ],
 "metadata": {
  "kernelspec": {
   "display_name": "Python 3.9.7 64-bit",
   "language": "python",
   "name": "python3"
  },
  "language_info": {
   "codemirror_mode": {
    "name": "ipython",
    "version": 3
   },
   "file_extension": ".py",
   "mimetype": "text/x-python",
   "name": "python",
   "nbconvert_exporter": "python",
   "pygments_lexer": "ipython3",
   "version": "3.9.7"
  },
  "orig_nbformat": 4,
  "vscode": {
   "interpreter": {
    "hash": "78d5379cc5a4e608d385c34b2eb3bb89eeab02a92c9e7d486e469b4c860ee8ca"
   }
  }
 },
 "nbformat": 4,
 "nbformat_minor": 2
}
