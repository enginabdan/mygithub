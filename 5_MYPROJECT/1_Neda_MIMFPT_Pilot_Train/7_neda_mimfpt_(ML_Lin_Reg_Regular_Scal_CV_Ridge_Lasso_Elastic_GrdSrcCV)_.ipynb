{
 "cells": [
  {
   "cell_type": "markdown",
   "metadata": {},
   "source": [
    "7_neda_mimfpt_(ML_Lin_Reg_Regular_Scal_CV_Ridge_Lasso_Elastic_GrdSrcCV)_\n",
    "\n",
    "Engin Abdan"
   ]
  },
  {
   "cell_type": "markdown",
   "metadata": {},
   "source": [
    "### Libraries"
   ]
  },
  {
   "cell_type": "code",
   "execution_count": 1,
   "metadata": {},
   "outputs": [],
   "source": [
    "import pandas as pd      \n",
    "import numpy as np \n",
    "\n",
    "import matplotlib.pyplot as plt\n",
    "import seaborn as sns\n",
    "\n",
    "from yellowbrick.regressor import ResidualsPlot\n",
    "from yellowbrick.regressor import PredictionError\n",
    "from yellowbrick.model_selection import FeatureImportances\n",
    "from yellowbrick.features import RadViz\n",
    "\n",
    "from sklearn.linear_model import LinearRegression\n",
    "from sklearn.linear_model import Ridge, RidgeCV\n",
    "from sklearn.linear_model import Lasso, LassoCV \n",
    "from sklearn.linear_model import ElasticNet, ElasticNetCV\n",
    "\n",
    "from sklearn.preprocessing import PolynomialFeatures \n",
    "from sklearn.preprocessing import StandardScaler, MinMaxScaler, RobustScaler\n",
    "\n",
    "from sklearn.metrics import mean_squared_error, mean_absolute_error, r2_score\n",
    "from sklearn.metrics import SCORERS\n",
    "\n",
    "from sklearn.model_selection import train_test_split\n",
    "from sklearn.model_selection import cross_validate, cross_val_score\n",
    "from sklearn.model_selection import GridSearchCV\n",
    "\n",
    "from scipy.stats import skew\n",
    "import scipy.stats as stats\n",
    "\n",
    "plt.rcParams[\"figure.figsize\"] = (10,6)\n",
    "pd.set_option('display.max_columns', 500)\n",
    "pd.set_option('display.max_rows', 500)\n",
    "\n",
    "import warnings\n",
    "warnings.filterwarnings('ignore')\n",
    "\n",
    "plt.style.use('classic')"
   ]
  },
  {
   "cell_type": "markdown",
   "metadata": {},
   "source": [
    "### Data"
   ]
  },
  {
   "cell_type": "code",
   "execution_count": 485,
   "metadata": {},
   "outputs": [],
   "source": [
    "stu = pd.read_excel(\"std_ins_ml_data.xlsx\")"
   ]
  },
  {
   "cell_type": "code",
   "execution_count": 486,
   "metadata": {},
   "outputs": [
    {
     "data": {
      "text/html": [
       "<div>\n",
       "<style scoped>\n",
       "    .dataframe tbody tr th:only-of-type {\n",
       "        vertical-align: middle;\n",
       "    }\n",
       "\n",
       "    .dataframe tbody tr th {\n",
       "        vertical-align: top;\n",
       "    }\n",
       "\n",
       "    .dataframe thead th {\n",
       "        text-align: right;\n",
       "    }\n",
       "</style>\n",
       "<table border=\"1\" class=\"dataframe\">\n",
       "  <thead>\n",
       "    <tr style=\"text-align: right;\">\n",
       "      <th></th>\n",
       "      <th>MI_Cat</th>\n",
       "      <th>Flight_Mean</th>\n",
       "      <th>Ling_Int</th>\n",
       "      <th>Math_Int</th>\n",
       "      <th>Spa_Int</th>\n",
       "      <th>Mus_Int</th>\n",
       "      <th>Nat_Int</th>\n",
       "      <th>Body_Int</th>\n",
       "      <th>Interp_Int</th>\n",
       "      <th>Intrap_Int</th>\n",
       "    </tr>\n",
       "  </thead>\n",
       "  <tbody>\n",
       "    <tr>\n",
       "      <th>0</th>\n",
       "      <td>Intrap</td>\n",
       "      <td>95</td>\n",
       "      <td>20</td>\n",
       "      <td>19</td>\n",
       "      <td>10</td>\n",
       "      <td>16</td>\n",
       "      <td>13</td>\n",
       "      <td>16</td>\n",
       "      <td>17</td>\n",
       "      <td>22</td>\n",
       "    </tr>\n",
       "  </tbody>\n",
       "</table>\n",
       "</div>"
      ],
      "text/plain": [
       "   MI_Cat  Flight_Mean  Ling_Int  Math_Int  Spa_Int  Mus_Int  Nat_Int  \\\n",
       "0  Intrap           95        20        19       10       16       13   \n",
       "\n",
       "   Body_Int  Interp_Int  Intrap_Int  \n",
       "0        16          17          22  "
      ]
     },
     "execution_count": 486,
     "metadata": {},
     "output_type": "execute_result"
    }
   ],
   "source": [
    "drop_list = [\"Unnamed: 0\",\"Exams_Mean\",\"Sprt_Mean\", \"Ins_of_Stu_Plt\",\"Student\", \"Gender\", \"Plt_Or_Not\"]\n",
    "stu.drop(drop_list, inplace=True, axis=1)\n",
    "stu.head(1)"
   ]
  },
  {
   "cell_type": "markdown",
   "metadata": {},
   "source": [
    "### Skewness"
   ]
  },
  {
   "cell_type": "code",
   "execution_count": 487,
   "metadata": {},
   "outputs": [
    {
     "name": "stdout",
     "output_type": "stream",
     "text": [
      "Ling_Int \t: 0.12059345356069898 \t>>> Normal\n",
      "Math_Int \t: 1.3051123209475743 \t>>> Skewed\n",
      "Spa_Int \t: 0.2115483275849964 \t>>> Normal\n",
      "Mus_Int \t: 0.32126133203604673 \t>>> Normal\n",
      "Nat_Int \t: 0.8025455431140828 \t>>> Moderate\n",
      "Body_Int \t: 0.16184329645515394 \t>>> Normal\n",
      "Interp_Int \t: 0.22759596608919014 \t>>> Normal\n",
      "Intrap_Int \t: 0.12173869243645632 \t>>> Normal\n"
     ]
    }
   ],
   "source": [
    "x = stu.drop(columns=[\"MI_Cat\", \"Flight_Mean\"]).columns\n",
    "for i in x:\n",
    "    if skew(stu[i]) >= -0.5 and skew(stu[i]) < 0.5:\n",
    "        print(f\"{i} \\t: {skew(stu[i])} \\t>>> Normal\")\n",
    "    elif skew(stu[i]) >= 0.5 and skew(stu[i]) < 1.0:\n",
    "        print(f\"{i} \\t: {skew(stu[i])} \\t>>> Moderate\")\n",
    "    elif skew(stu[i]) >= 1.0:\n",
    "        print(f\"{i} \\t: {skew(stu[i])} \\t>>> Skewed\")              "
   ]
  },
  {
   "cell_type": "markdown",
   "metadata": {},
   "source": [
    "### Polynomial"
   ]
  },
  {
   "cell_type": "code",
   "execution_count": 488,
   "metadata": {},
   "outputs": [],
   "source": [
    "x = stu.drop(columns=[\"MI_Cat\",\"Flight_Mean\"])\n",
    "y = stu[\"Flight_Mean\"]"
   ]
  },
  {
   "cell_type": "code",
   "execution_count": 489,
   "metadata": {},
   "outputs": [
    {
     "data": {
      "text/plain": [
       "(100, 44)"
      ]
     },
     "execution_count": 489,
     "metadata": {},
     "output_type": "execute_result"
    }
   ],
   "source": [
    "from sklearn.preprocessing import PolynomialFeatures\n",
    "\n",
    "polynomial_converter = PolynomialFeatures(degree=2, include_bias=False)\n",
    "poly_features = polynomial_converter.fit_transform(x)\n",
    "poly_features.shape"
   ]
  },
  {
   "cell_type": "markdown",
   "metadata": {},
   "source": [
    "### Train Test Split"
   ]
  },
  {
   "cell_type": "code",
   "execution_count": 490,
   "metadata": {},
   "outputs": [],
   "source": [
    "from sklearn.model_selection import train_test_split\n",
    "\n",
    "x_train, x_test, y_train, y_test = train_test_split(poly_features, y, test_size=0.3, random_state=42)"
   ]
  },
  {
   "cell_type": "markdown",
   "metadata": {},
   "source": [
    "### Scaling"
   ]
  },
  {
   "cell_type": "code",
   "execution_count": 491,
   "metadata": {},
   "outputs": [],
   "source": [
    "from sklearn.preprocessing import StandardScaler, MinMaxScaler, RobustScaler\n",
    "\n",
    "scaler = StandardScaler()\n",
    "scaler.fit(x_train)\n",
    "x_train = scaler.transform(x_train)\n",
    "x_test = scaler.transform(x_test)"
   ]
  },
  {
   "cell_type": "markdown",
   "metadata": {},
   "source": [
    "### Metrics Formula"
   ]
  },
  {
   "cell_type": "code",
   "execution_count": 492,
   "metadata": {},
   "outputs": [],
   "source": [
    "from sklearn.metrics import mean_absolute_error, mean_squared_error, r2_score\n",
    "\n",
    "def eval_metrics(actual, pred):\n",
    "    mae = mean_absolute_error(actual, pred)\n",
    "    mse = mean_squared_error(actual, pred)\n",
    "    rmse = np.sqrt(mean_squared_error(actual, pred))\n",
    "    R2_score = r2_score(actual, pred)\n",
    "    print(\"Model testing performance:\")\n",
    "    print(\"--------------------------\")\n",
    "    print(f\"R2_score \\t: {R2_score}\")\n",
    "    print(f\"MAE \\t\\t: {mae}\")\n",
    "    print(f\"MSE \\t\\t: {mse}\")\n",
    "    print(f\"RMSE \\t\\t: {rmse}\")"
   ]
  },
  {
   "cell_type": "markdown",
   "metadata": {},
   "source": [
    "### Linear Regression"
   ]
  },
  {
   "cell_type": "code",
   "execution_count": 493,
   "metadata": {},
   "outputs": [],
   "source": [
    "from sklearn.linear_model import LinearRegression\n",
    "\n",
    "lm = LinearRegression()\n",
    "lm.fit(x_train, y_train)\n",
    "y_test_pred = lm.predict(x_test)\n",
    "y_train_pred = lm.predict(x_train)"
   ]
  },
  {
   "cell_type": "code",
   "execution_count": 494,
   "metadata": {},
   "outputs": [
    {
     "name": "stdout",
     "output_type": "stream",
     "text": [
      "Model testing performance:\n",
      "--------------------------\n",
      "R2_score \t: -4.176988460691519\n",
      "MAE \t\t: 21.993897763059216\n",
      "MSE \t\t: 705.6177749828532\n",
      "RMSE \t\t: 26.563466923254826\n",
      "\n",
      "Model testing performance:\n",
      "--------------------------\n",
      "R2_score \t: 0.6542419458006783\n",
      "MAE \t\t: 5.463840596370188\n",
      "MSE \t\t: 49.83777762089483\n",
      "RMSE \t\t: 7.059587638162362\n"
     ]
    }
   ],
   "source": [
    "eval_metrics(y_test, y_test_pred)\n",
    "print()\n",
    "eval_metrics(y_train, y_train_pred)"
   ]
  },
  {
   "cell_type": "code",
   "execution_count": 495,
   "metadata": {},
   "outputs": [
    {
     "data": {
      "text/html": [
       "<div>\n",
       "<style scoped>\n",
       "    .dataframe tbody tr th:only-of-type {\n",
       "        vertical-align: middle;\n",
       "    }\n",
       "\n",
       "    .dataframe tbody tr th {\n",
       "        vertical-align: top;\n",
       "    }\n",
       "\n",
       "    .dataframe thead th {\n",
       "        text-align: right;\n",
       "    }\n",
       "</style>\n",
       "<table border=\"1\" class=\"dataframe\">\n",
       "  <thead>\n",
       "    <tr style=\"text-align: right;\">\n",
       "      <th></th>\n",
       "      <th>lm_train</th>\n",
       "      <th>lm_test</th>\n",
       "    </tr>\n",
       "  </thead>\n",
       "  <tbody>\n",
       "    <tr>\n",
       "      <th>rmse</th>\n",
       "      <td>7.059588</td>\n",
       "      <td>26.563467</td>\n",
       "    </tr>\n",
       "    <tr>\n",
       "      <th>mae</th>\n",
       "      <td>5.463841</td>\n",
       "      <td>21.993898</td>\n",
       "    </tr>\n",
       "    <tr>\n",
       "      <th>mse</th>\n",
       "      <td>49.837778</td>\n",
       "      <td>705.617775</td>\n",
       "    </tr>\n",
       "    <tr>\n",
       "      <th>R2</th>\n",
       "      <td>0.654242</td>\n",
       "      <td>-4.176988</td>\n",
       "    </tr>\n",
       "  </tbody>\n",
       "</table>\n",
       "</div>"
      ],
      "text/plain": [
       "       lm_train     lm_test\n",
       "rmse   7.059588   26.563467\n",
       "mae    5.463841   21.993898\n",
       "mse   49.837778  705.617775\n",
       "R2     0.654242   -4.176988"
      ]
     },
     "execution_count": 495,
     "metadata": {},
     "output_type": "execute_result"
    }
   ],
   "source": [
    "lm_scores = {\"lm_train\": {\"rmse\" : np.sqrt(mean_squared_error(y_train, y_train_pred)),\n",
    "                          \"mae\" : mean_absolute_error(y_train, y_train_pred),\n",
    "                          \"mse\" : mean_squared_error(y_train, y_train_pred),\n",
    "                          \"R2\" : r2_score(y_train, y_train_pred)}, \n",
    "\n",
    "             \"lm_test\": {\"rmse\" : np.sqrt(mean_squared_error(y_test, y_test_pred)),\n",
    "                         \"mae\" : mean_absolute_error(y_test, y_test_pred),\n",
    "                         \"mse\" : mean_squared_error(y_test, y_test_pred),\n",
    "                         \"R2\" : r2_score(y_test, y_test_pred)}}\n",
    "\n",
    "ls =pd.DataFrame(lm_scores)\n",
    "ls"
   ]
  },
  {
   "cell_type": "markdown",
   "metadata": {},
   "source": [
    "### Multicolineratiy"
   ]
  },
  {
   "cell_type": "code",
   "execution_count": 496,
   "metadata": {},
   "outputs": [],
   "source": [
    "def color_red(val):\n",
    "    \n",
    "    if val > 0.90 and val < 0.99:\n",
    "        color = 'red'\n",
    "    else:\n",
    "        color = 'black'\n",
    "    return f'color: {color}'"
   ]
  },
  {
   "cell_type": "code",
   "execution_count": null,
   "metadata": {},
   "outputs": [],
   "source": [
    "pd.DataFrame(poly_features).corr().style.applymap(color_red)"
   ]
  },
  {
   "cell_type": "markdown",
   "metadata": {},
   "source": [
    "### Cross Validate"
   ]
  },
  {
   "cell_type": "code",
   "execution_count": 498,
   "metadata": {},
   "outputs": [
    {
     "data": {
      "text/plain": [
       "['explained_variance',\n",
       " 'r2',\n",
       " 'max_error',\n",
       " 'matthews_corrcoef',\n",
       " 'neg_median_absolute_error',\n",
       " 'neg_mean_absolute_error',\n",
       " 'neg_mean_absolute_percentage_error',\n",
       " 'neg_mean_squared_error',\n",
       " 'neg_mean_squared_log_error',\n",
       " 'neg_root_mean_squared_error',\n",
       " 'neg_mean_poisson_deviance',\n",
       " 'neg_mean_gamma_deviance',\n",
       " 'accuracy',\n",
       " 'top_k_accuracy',\n",
       " 'roc_auc',\n",
       " 'roc_auc_ovr',\n",
       " 'roc_auc_ovo',\n",
       " 'roc_auc_ovr_weighted',\n",
       " 'roc_auc_ovo_weighted',\n",
       " 'balanced_accuracy',\n",
       " 'average_precision',\n",
       " 'neg_log_loss',\n",
       " 'neg_brier_score',\n",
       " 'adjusted_rand_score',\n",
       " 'rand_score',\n",
       " 'homogeneity_score',\n",
       " 'completeness_score',\n",
       " 'v_measure_score',\n",
       " 'mutual_info_score',\n",
       " 'adjusted_mutual_info_score',\n",
       " 'normalized_mutual_info_score',\n",
       " 'fowlkes_mallows_score',\n",
       " 'precision',\n",
       " 'precision_macro',\n",
       " 'precision_micro',\n",
       " 'precision_samples',\n",
       " 'precision_weighted',\n",
       " 'recall',\n",
       " 'recall_macro',\n",
       " 'recall_micro',\n",
       " 'recall_samples',\n",
       " 'recall_weighted',\n",
       " 'f1',\n",
       " 'f1_macro',\n",
       " 'f1_micro',\n",
       " 'f1_samples',\n",
       " 'f1_weighted',\n",
       " 'jaccard',\n",
       " 'jaccard_macro',\n",
       " 'jaccard_micro',\n",
       " 'jaccard_samples',\n",
       " 'jaccard_weighted']"
      ]
     },
     "execution_count": 498,
     "metadata": {},
     "output_type": "execute_result"
    }
   ],
   "source": [
    "from sklearn.metrics import SCORERS\n",
    "list(SCORERS.keys())"
   ]
  },
  {
   "cell_type": "code",
   "execution_count": 499,
   "metadata": {},
   "outputs": [],
   "source": [
    "from sklearn.model_selection import cross_validate, cross_val_score\n",
    "model = LinearRegression()"
   ]
  },
  {
   "cell_type": "code",
   "execution_count": 500,
   "metadata": {},
   "outputs": [],
   "source": [
    "scores = cross_validate(model, x_train, y_train, scoring = ['r2',\n",
    "                                                            'neg_mean_absolute_error',\n",
    "                                                            'neg_mean_squared_error',\n",
    "                                                            'neg_root_mean_squared_error'],\n",
    "                                                            cv = 10)"
   ]
  },
  {
   "cell_type": "code",
   "execution_count": 501,
   "metadata": {},
   "outputs": [
    {
     "data": {
      "text/html": [
       "<div>\n",
       "<style scoped>\n",
       "    .dataframe tbody tr th:only-of-type {\n",
       "        vertical-align: middle;\n",
       "    }\n",
       "\n",
       "    .dataframe tbody tr th {\n",
       "        vertical-align: top;\n",
       "    }\n",
       "\n",
       "    .dataframe thead th {\n",
       "        text-align: right;\n",
       "    }\n",
       "</style>\n",
       "<table border=\"1\" class=\"dataframe\">\n",
       "  <thead>\n",
       "    <tr style=\"text-align: right;\">\n",
       "      <th></th>\n",
       "      <th>fit_time</th>\n",
       "      <th>score_time</th>\n",
       "      <th>test_r2</th>\n",
       "      <th>test_neg_mean_absolute_error</th>\n",
       "      <th>test_neg_mean_squared_error</th>\n",
       "      <th>test_neg_root_mean_squared_error</th>\n",
       "    </tr>\n",
       "  </thead>\n",
       "  <tbody>\n",
       "    <tr>\n",
       "      <th>1</th>\n",
       "      <td>0.000000</td>\n",
       "      <td>0.007994</td>\n",
       "      <td>-0.109267</td>\n",
       "      <td>-11.875447</td>\n",
       "      <td>-158.602575</td>\n",
       "      <td>-12.593751</td>\n",
       "    </tr>\n",
       "    <tr>\n",
       "      <th>2</th>\n",
       "      <td>0.000000</td>\n",
       "      <td>0.008005</td>\n",
       "      <td>-10.806051</td>\n",
       "      <td>-15.773774</td>\n",
       "      <td>-386.949357</td>\n",
       "      <td>-19.671028</td>\n",
       "    </tr>\n",
       "    <tr>\n",
       "      <th>3</th>\n",
       "      <td>0.000000</td>\n",
       "      <td>0.008007</td>\n",
       "      <td>-5.066700</td>\n",
       "      <td>-23.875719</td>\n",
       "      <td>-751.775498</td>\n",
       "      <td>-27.418525</td>\n",
       "    </tr>\n",
       "    <tr>\n",
       "      <th>4</th>\n",
       "      <td>0.000000</td>\n",
       "      <td>0.007991</td>\n",
       "      <td>-3.340480</td>\n",
       "      <td>-20.673827</td>\n",
       "      <td>-560.541979</td>\n",
       "      <td>-23.675768</td>\n",
       "    </tr>\n",
       "    <tr>\n",
       "      <th>5</th>\n",
       "      <td>0.000000</td>\n",
       "      <td>0.007999</td>\n",
       "      <td>-0.639165</td>\n",
       "      <td>-11.692564</td>\n",
       "      <td>-250.022826</td>\n",
       "      <td>-15.812110</td>\n",
       "    </tr>\n",
       "    <tr>\n",
       "      <th>6</th>\n",
       "      <td>0.000000</td>\n",
       "      <td>0.000000</td>\n",
       "      <td>-1.734621</td>\n",
       "      <td>-18.724623</td>\n",
       "      <td>-435.753448</td>\n",
       "      <td>-20.874708</td>\n",
       "    </tr>\n",
       "    <tr>\n",
       "      <th>7</th>\n",
       "      <td>0.000000</td>\n",
       "      <td>0.008006</td>\n",
       "      <td>-3.582338</td>\n",
       "      <td>-25.393601</td>\n",
       "      <td>-862.414707</td>\n",
       "      <td>-29.366898</td>\n",
       "    </tr>\n",
       "    <tr>\n",
       "      <th>8</th>\n",
       "      <td>0.008025</td>\n",
       "      <td>0.000000</td>\n",
       "      <td>0.047852</td>\n",
       "      <td>-7.926355</td>\n",
       "      <td>-107.923068</td>\n",
       "      <td>-10.388603</td>\n",
       "    </tr>\n",
       "    <tr>\n",
       "      <th>9</th>\n",
       "      <td>0.007969</td>\n",
       "      <td>0.000000</td>\n",
       "      <td>-8.400255</td>\n",
       "      <td>-27.173181</td>\n",
       "      <td>-912.783961</td>\n",
       "      <td>-30.212315</td>\n",
       "    </tr>\n",
       "    <tr>\n",
       "      <th>10</th>\n",
       "      <td>0.008023</td>\n",
       "      <td>0.000000</td>\n",
       "      <td>-6.042769</td>\n",
       "      <td>-19.397988</td>\n",
       "      <td>-506.504418</td>\n",
       "      <td>-22.505653</td>\n",
       "    </tr>\n",
       "  </tbody>\n",
       "</table>\n",
       "</div>"
      ],
      "text/plain": [
       "    fit_time  score_time    test_r2  test_neg_mean_absolute_error  \\\n",
       "1   0.000000    0.007994  -0.109267                    -11.875447   \n",
       "2   0.000000    0.008005 -10.806051                    -15.773774   \n",
       "3   0.000000    0.008007  -5.066700                    -23.875719   \n",
       "4   0.000000    0.007991  -3.340480                    -20.673827   \n",
       "5   0.000000    0.007999  -0.639165                    -11.692564   \n",
       "6   0.000000    0.000000  -1.734621                    -18.724623   \n",
       "7   0.000000    0.008006  -3.582338                    -25.393601   \n",
       "8   0.008025    0.000000   0.047852                     -7.926355   \n",
       "9   0.007969    0.000000  -8.400255                    -27.173181   \n",
       "10  0.008023    0.000000  -6.042769                    -19.397988   \n",
       "\n",
       "    test_neg_mean_squared_error  test_neg_root_mean_squared_error  \n",
       "1                   -158.602575                        -12.593751  \n",
       "2                   -386.949357                        -19.671028  \n",
       "3                   -751.775498                        -27.418525  \n",
       "4                   -560.541979                        -23.675768  \n",
       "5                   -250.022826                        -15.812110  \n",
       "6                   -435.753448                        -20.874708  \n",
       "7                   -862.414707                        -29.366898  \n",
       "8                   -107.923068                        -10.388603  \n",
       "9                   -912.783961                        -30.212315  \n",
       "10                  -506.504418                        -22.505653  "
      ]
     },
     "execution_count": 501,
     "metadata": {},
     "output_type": "execute_result"
    }
   ],
   "source": [
    "pd.DataFrame(scores, index = range(1,11))"
   ]
  },
  {
   "cell_type": "code",
   "execution_count": 502,
   "metadata": {},
   "outputs": [],
   "source": [
    "scores = pd.DataFrame(scores, index=range(1,11))"
   ]
  },
  {
   "cell_type": "code",
   "execution_count": 503,
   "metadata": {},
   "outputs": [
    {
     "data": {
      "text/plain": [
       "test_r2                              -3.967379\n",
       "test_neg_mean_absolute_error        -18.250708\n",
       "test_neg_mean_squared_error        -493.327184\n",
       "test_neg_root_mean_squared_error    -21.251936\n",
       "dtype: float64"
      ]
     },
     "execution_count": 503,
     "metadata": {},
     "output_type": "execute_result"
    }
   ],
   "source": [
    "scores.iloc[:, 2:].mean()"
   ]
  },
  {
   "cell_type": "code",
   "execution_count": 504,
   "metadata": {},
   "outputs": [
    {
     "name": "stdout",
     "output_type": "stream",
     "text": [
      "Model testing performance:\n",
      "--------------------------\n",
      "R2_score \t: -4.176988460691519\n",
      "MAE \t\t: 21.993897763059216\n",
      "MSE \t\t: 705.6177749828532\n",
      "RMSE \t\t: 26.563466923254826\n"
     ]
    }
   ],
   "source": [
    "eval_metrics(y_test, y_test_pred)"
   ]
  },
  {
   "cell_type": "code",
   "execution_count": 505,
   "metadata": {},
   "outputs": [
    {
     "data": {
      "image/png": "[encoded data removed]",
      "text/plain": [
       "<Figure size 640x480 with 1 Axes>"
      ]
     },
     "metadata": {},
     "output_type": "display_data"
    }
   ],
   "source": [
    "sns.lineplot(data = scores.iloc[:,2:]);"
   ]
  },
  {
   "cell_type": "markdown",
   "metadata": {},
   "source": [
    "### Ridge"
   ]
  },
  {
   "cell_type": "code",
   "execution_count": 506,
   "metadata": {},
   "outputs": [],
   "source": [
    "from sklearn.linear_model import Ridge\n",
    "\n",
    "ridge_model = Ridge(alpha=1)\n",
    "ridge_model.fit(x_train, y_train)\n",
    "y_test_pred = ridge_model.predict(x_test)\n",
    "y_train_pred = ridge_model.predict(x_train)"
   ]
  },
  {
   "cell_type": "code",
   "execution_count": 507,
   "metadata": {},
   "outputs": [
    {
     "name": "stdout",
     "output_type": "stream",
     "text": [
      "Model testing performance:\n",
      "--------------------------\n",
      "R2_score \t: 0.22915783614199892\n",
      "MAE \t\t: 8.906782310087163\n",
      "MSE \t\t: 111.10966144267424\n",
      "RMSE \t\t: 10.540856769858618\n",
      "\n",
      "Model testing performance:\n",
      "--------------------------\n",
      "R2_score \t: -0.41934966141172536\n",
      "MAE \t\t: 12.124242718941309\n",
      "MSE \t\t: 193.45578179523878\n",
      "RMSE \t\t: 13.908838261883657\n"
     ]
    }
   ],
   "source": [
    "eval_metrics(y_train, y_train_pred)\n",
    "print()\n",
    "eval_metrics(y_test, y_test_pred)"
   ]
  },
  {
   "cell_type": "code",
   "execution_count": 508,
   "metadata": {},
   "outputs": [
    {
     "data": {
      "text/html": [
       "<div>\n",
       "<style scoped>\n",
       "    .dataframe tbody tr th:only-of-type {\n",
       "        vertical-align: middle;\n",
       "    }\n",
       "\n",
       "    .dataframe tbody tr th {\n",
       "        vertical-align: top;\n",
       "    }\n",
       "\n",
       "    .dataframe thead th {\n",
       "        text-align: right;\n",
       "    }\n",
       "</style>\n",
       "<table border=\"1\" class=\"dataframe\">\n",
       "  <thead>\n",
       "    <tr style=\"text-align: right;\">\n",
       "      <th></th>\n",
       "      <th>ridge_train</th>\n",
       "      <th>ridge_test</th>\n",
       "    </tr>\n",
       "  </thead>\n",
       "  <tbody>\n",
       "    <tr>\n",
       "      <th>rmse</th>\n",
       "      <td>10.540857</td>\n",
       "      <td>13.908838</td>\n",
       "    </tr>\n",
       "    <tr>\n",
       "      <th>mae</th>\n",
       "      <td>8.906782</td>\n",
       "      <td>12.124243</td>\n",
       "    </tr>\n",
       "    <tr>\n",
       "      <th>mse</th>\n",
       "      <td>111.109661</td>\n",
       "      <td>193.455782</td>\n",
       "    </tr>\n",
       "    <tr>\n",
       "      <th>R2</th>\n",
       "      <td>0.229158</td>\n",
       "      <td>-0.419350</td>\n",
       "    </tr>\n",
       "  </tbody>\n",
       "</table>\n",
       "</div>"
      ],
      "text/plain": [
       "      ridge_train  ridge_test\n",
       "rmse    10.540857   13.908838\n",
       "mae      8.906782   12.124243\n",
       "mse    111.109661  193.455782\n",
       "R2       0.229158   -0.419350"
      ]
     },
     "execution_count": 508,
     "metadata": {},
     "output_type": "execute_result"
    }
   ],
   "source": [
    "ridge_scores = {\"ridge_train\": {\"rmse\" : np.sqrt(mean_squared_error(y_train, y_train_pred)),\n",
    "                                \"mae\" : mean_absolute_error(y_train, y_train_pred),\n",
    "                                \"mse\" : mean_squared_error(y_train, y_train_pred),\n",
    "                                \"R2\" : r2_score(y_train, y_train_pred)}, \n",
    "\n",
    "                \"ridge_test\": {\"rmse\" : np.sqrt(mean_squared_error(y_test, y_test_pred)),\n",
    "                                \"mae\" : mean_absolute_error(y_test, y_test_pred),\n",
    "                                \"mse\" : mean_squared_error(y_test, y_test_pred),\n",
    "                                \"R2\" : r2_score(y_test, y_test_pred)}}\n",
    "rs = pd.DataFrame(ridge_scores)\n",
    "rs"
   ]
  },
  {
   "cell_type": "code",
   "execution_count": 509,
   "metadata": {},
   "outputs": [
    {
     "data": {
      "text/html": [
       "<div>\n",
       "<style scoped>\n",
       "    .dataframe tbody tr th:only-of-type {\n",
       "        vertical-align: middle;\n",
       "    }\n",
       "\n",
       "    .dataframe tbody tr th {\n",
       "        vertical-align: top;\n",
       "    }\n",
       "\n",
       "    .dataframe thead th {\n",
       "        text-align: right;\n",
       "    }\n",
       "</style>\n",
       "<table border=\"1\" class=\"dataframe\">\n",
       "  <thead>\n",
       "    <tr style=\"text-align: right;\">\n",
       "      <th></th>\n",
       "      <th>lm_train</th>\n",
       "      <th>lm_test</th>\n",
       "      <th>ridge_train</th>\n",
       "      <th>ridge_test</th>\n",
       "    </tr>\n",
       "  </thead>\n",
       "  <tbody>\n",
       "    <tr>\n",
       "      <th>rmse</th>\n",
       "      <td>7.059588</td>\n",
       "      <td>26.563467</td>\n",
       "      <td>10.540857</td>\n",
       "      <td>13.908838</td>\n",
       "    </tr>\n",
       "    <tr>\n",
       "      <th>mae</th>\n",
       "      <td>5.463841</td>\n",
       "      <td>21.993898</td>\n",
       "      <td>8.906782</td>\n",
       "      <td>12.124243</td>\n",
       "    </tr>\n",
       "    <tr>\n",
       "      <th>mse</th>\n",
       "      <td>49.837778</td>\n",
       "      <td>705.617775</td>\n",
       "      <td>111.109661</td>\n",
       "      <td>193.455782</td>\n",
       "    </tr>\n",
       "    <tr>\n",
       "      <th>R2</th>\n",
       "      <td>0.654242</td>\n",
       "      <td>-4.176988</td>\n",
       "      <td>0.229158</td>\n",
       "      <td>-0.419350</td>\n",
       "    </tr>\n",
       "  </tbody>\n",
       "</table>\n",
       "</div>"
      ],
      "text/plain": [
       "       lm_train     lm_test  ridge_train  ridge_test\n",
       "rmse   7.059588   26.563467    10.540857   13.908838\n",
       "mae    5.463841   21.993898     8.906782   12.124243\n",
       "mse   49.837778  705.617775   111.109661  193.455782\n",
       "R2     0.654242   -4.176988     0.229158   -0.419350"
      ]
     },
     "execution_count": 509,
     "metadata": {},
     "output_type": "execute_result"
    }
   ],
   "source": [
    "pd.concat([ls, rs], axis=1)"
   ]
  },
  {
   "cell_type": "markdown",
   "metadata": {},
   "source": [
    "### Ridge & alpha=1"
   ]
  },
  {
   "cell_type": "code",
   "execution_count": 510,
   "metadata": {},
   "outputs": [],
   "source": [
    "model = Ridge(alpha=1)"
   ]
  },
  {
   "cell_type": "code",
   "execution_count": 511,
   "metadata": {},
   "outputs": [],
   "source": [
    "scores = cross_validate(model,\n",
    "                        x_train,\n",
    "                        y_train,\n",
    "                        scoring=['r2',\n",
    "                                 'neg_mean_absolute_error',\n",
    "                                 'neg_mean_squared_error',\n",
    "                                 'neg_root_mean_squared_error'],\n",
    "                        cv=10)"
   ]
  },
  {
   "cell_type": "code",
   "execution_count": 512,
   "metadata": {},
   "outputs": [],
   "source": [
    "scores = pd.DataFrame(scores, index = range(1, 11))"
   ]
  },
  {
   "cell_type": "code",
   "execution_count": 513,
   "metadata": {},
   "outputs": [
    {
     "data": {
      "text/plain": [
       "test_r2                              -1.133577\n",
       "test_neg_mean_absolute_error        -13.092430\n",
       "test_neg_mean_squared_error        -232.460692\n",
       "test_neg_root_mean_squared_error    -14.845635\n",
       "dtype: float64"
      ]
     },
     "execution_count": 513,
     "metadata": {},
     "output_type": "execute_result"
    }
   ],
   "source": [
    "scores.iloc[:,2:].mean()"
   ]
  },
  {
   "cell_type": "code",
   "execution_count": 514,
   "metadata": {},
   "outputs": [
    {
     "name": "stdout",
     "output_type": "stream",
     "text": [
      "Model testing performance:\n",
      "--------------------------\n",
      "R2_score \t: -0.41934966141172536\n",
      "MAE \t\t: 12.124242718941309\n",
      "MSE \t\t: 193.45578179523878\n",
      "RMSE \t\t: 13.908838261883657\n"
     ]
    }
   ],
   "source": [
    "eval_metrics(y_test, y_test_pred)"
   ]
  },
  {
   "cell_type": "code",
   "execution_count": 515,
   "metadata": {},
   "outputs": [
    {
     "data": {
      "text/plain": [
       "<AxesSubplot:>"
      ]
     },
     "execution_count": 515,
     "metadata": {},
     "output_type": "execute_result"
    },
    {
     "data": {
      "image/png": "[encoded data removed]",
      "text/plain": [
       "<Figure size 640x480 with 1 Axes>"
      ]
     },
     "metadata": {},
     "output_type": "display_data"
    }
   ],
   "source": [
    "sns.lineplot(data = scores.iloc[:,2:])"
   ]
  },
  {
   "cell_type": "markdown",
   "metadata": {},
   "source": [
    "### RidgeCV Best alpha"
   ]
  },
  {
   "cell_type": "code",
   "execution_count": 516,
   "metadata": {},
   "outputs": [],
   "source": [
    "from sklearn.linear_model import RidgeCV"
   ]
  },
  {
   "cell_type": "code",
   "execution_count": 517,
   "metadata": {},
   "outputs": [],
   "source": [
    "alpha_space = np.linspace(0.01, 1, 100)\n",
    "\n",
    "ridge_cv_model = RidgeCV(alphas=alpha_space,\n",
    "                         cv = 10,\n",
    "                         scoring= \"neg_root_mean_squared_error\")"
   ]
  },
  {
   "cell_type": "code",
   "execution_count": 518,
   "metadata": {},
   "outputs": [
    {
     "data": {
      "text/html": [
       "<style>#sk-container-id-35 {color: black;background-color: white;}#sk-container-id-35 pre{padding: 0;}#sk-container-id-35 div.sk-toggleable {background-color: white;}#sk-container-id-35 label.sk-toggleable__label {cursor: pointer;display: block;width: 100%;margin-bottom: 0;padding: 0.3em;box-sizing: border-box;text-align: center;}#sk-container-id-35 label.sk-toggleable__label-arrow:before {content: \"▸\";float: left;margin-right: 0.25em;color: #696969;}#sk-container-id-35 label.sk-toggleable__label-arrow:hover:before {color: black;}#sk-container-id-35 div.sk-estimator:hover label.sk-toggleable__label-arrow:before {color: black;}#sk-container-id-35 div.sk-toggleable__content {max-height: 0;max-width: 0;overflow: hidden;text-align: left;background-color: #f0f8ff;}#sk-container-id-35 div.sk-toggleable__content pre {margin: 0.2em;color: black;border-radius: 0.25em;background-color: #f0f8ff;}#sk-container-id-35 input.sk-toggleable__control:checked~div.sk-toggleable__content {max-height: 200px;max-width: 100%;overflow: auto;}#sk-container-id-35 input.sk-toggleable__control:checked~label.sk-toggleable__label-arrow:before {content: \"▾\";}#sk-container-id-35 div.sk-estimator input.sk-toggleable__control:checked~label.sk-toggleable__label {background-color: #d4ebff;}#sk-container-id-35 div.sk-label input.sk-toggleable__control:checked~label.sk-toggleable__label {background-color: #d4ebff;}#sk-container-id-35 input.sk-hidden--visually {border: 0;clip: rect(1px 1px 1px 1px);clip: rect(1px, 1px, 1px, 1px);height: 1px;margin: -1px;overflow: hidden;padding: 0;position: absolute;width: 1px;}#sk-container-id-35 div.sk-estimator {font-family: monospace;background-color: #f0f8ff;border: 1px dotted black;border-radius: 0.25em;box-sizing: border-box;margin-bottom: 0.5em;}#sk-container-id-35 div.sk-estimator:hover {background-color: #d4ebff;}#sk-container-id-35 div.sk-parallel-item::after {content: \"\";width: 100%;border-bottom: 1px solid gray;flex-grow: 1;}#sk-container-id-35 div.sk-label:hover label.sk-toggleable__label {background-color: #d4ebff;}#sk-container-id-35 div.sk-serial::before {content: \"\";position: absolute;border-left: 1px solid gray;box-sizing: border-box;top: 0;bottom: 0;left: 50%;z-index: 0;}#sk-container-id-35 div.sk-serial {display: flex;flex-direction: column;align-items: center;background-color: white;padding-right: 0.2em;padding-left: 0.2em;position: relative;}#sk-container-id-35 div.sk-item {position: relative;z-index: 1;}#sk-container-id-35 div.sk-parallel {display: flex;align-items: stretch;justify-content: center;background-color: white;position: relative;}#sk-container-id-35 div.sk-item::before, #sk-container-id-35 div.sk-parallel-item::before {content: \"\";position: absolute;border-left: 1px solid gray;box-sizing: border-box;top: 0;bottom: 0;left: 50%;z-index: -1;}#sk-container-id-35 div.sk-parallel-item {display: flex;flex-direction: column;z-index: 1;position: relative;background-color: white;}#sk-container-id-35 div.sk-parallel-item:first-child::after {align-self: flex-end;width: 50%;}#sk-container-id-35 div.sk-parallel-item:last-child::after {align-self: flex-start;width: 50%;}#sk-container-id-35 div.sk-parallel-item:only-child::after {width: 0;}#sk-container-id-35 div.sk-dashed-wrapped {border: 1px dashed gray;margin: 0 0.4em 0.5em 0.4em;box-sizing: border-box;padding-bottom: 0.4em;background-color: white;}#sk-container-id-35 div.sk-label label {font-family: monospace;font-weight: bold;display: inline-block;line-height: 1.2em;}#sk-container-id-35 div.sk-label-container {text-align: center;}#sk-container-id-35 div.sk-container {/* jupyter's `normalize.less` sets `[hidden] { display: none; }` but bootstrap.min.css set `[hidden] { display: none !important; }` so we also need the `!important` here to be able to override the default hidden behavior on the sphinx rendered scikit-learn.org. See: https://github.com/scikit-learn/scikit-learn/issues/21755 */display: inline-block !important;position: relative;}#sk-container-id-35 div.sk-text-repr-fallback {display: none;}</style><div id=\"sk-container-id-35\" class=\"sk-top-container\"><div class=\"sk-text-repr-fallback\"><pre>RidgeCV(alphas=array([0.01, 0.02, 0.03, 0.04, 0.05, 0.06, 0.07, 0.08, 0.09, 0.1 , 0.11,\n",
       "       0.12, 0.13, 0.14, 0.15, 0.16, 0.17, 0.18, 0.19, 0.2 , 0.21, 0.22,\n",
       "       0.23, 0.24, 0.25, 0.26, 0.27, 0.28, 0.29, 0.3 , 0.31, 0.32, 0.33,\n",
       "       0.34, 0.35, 0.36, 0.37, 0.38, 0.39, 0.4 , 0.41, 0.42, 0.43, 0.44,\n",
       "       0.45, 0.46, 0.47, 0.48, 0.49, 0.5 , 0.51, 0.52, 0.53, 0.54, 0.55,\n",
       "       0.56, 0.57, 0.58, 0.59, 0.6 , 0.61, 0.62, 0.63, 0.64, 0.65, 0.66,\n",
       "       0.67, 0.68, 0.69, 0.7 , 0.71, 0.72, 0.73, 0.74, 0.75, 0.76, 0.77,\n",
       "       0.78, 0.79, 0.8 , 0.81, 0.82, 0.83, 0.84, 0.85, 0.86, 0.87, 0.88,\n",
       "       0.89, 0.9 , 0.91, 0.92, 0.93, 0.94, 0.95, 0.96, 0.97, 0.98, 0.99,\n",
       "       1.  ]),\n",
       "        cv=10, scoring=&#x27;neg_root_mean_squared_error&#x27;)</pre><b>In a Jupyter environment, please rerun this cell to show the HTML representation or trust the notebook. <br />On GitHub, the HTML representation is unable to render, please try loading this page with nbviewer.org.</b></div><div class=\"sk-container\" hidden><div class=\"sk-item\"><div class=\"sk-estimator sk-toggleable\"><input class=\"sk-toggleable__control sk-hidden--visually\" id=\"sk-estimator-id-43\" type=\"checkbox\" checked><label for=\"sk-estimator-id-43\" class=\"sk-toggleable__label sk-toggleable__label-arrow\">RidgeCV</label><div class=\"sk-toggleable__content\"><pre>RidgeCV(alphas=array([0.01, 0.02, 0.03, 0.04, 0.05, 0.06, 0.07, 0.08, 0.09, 0.1 , 0.11,\n",
       "       0.12, 0.13, 0.14, 0.15, 0.16, 0.17, 0.18, 0.19, 0.2 , 0.21, 0.22,\n",
       "       0.23, 0.24, 0.25, 0.26, 0.27, 0.28, 0.29, 0.3 , 0.31, 0.32, 0.33,\n",
       "       0.34, 0.35, 0.36, 0.37, 0.38, 0.39, 0.4 , 0.41, 0.42, 0.43, 0.44,\n",
       "       0.45, 0.46, 0.47, 0.48, 0.49, 0.5 , 0.51, 0.52, 0.53, 0.54, 0.55,\n",
       "       0.56, 0.57, 0.58, 0.59, 0.6 , 0.61, 0.62, 0.63, 0.64, 0.65, 0.66,\n",
       "       0.67, 0.68, 0.69, 0.7 , 0.71, 0.72, 0.73, 0.74, 0.75, 0.76, 0.77,\n",
       "       0.78, 0.79, 0.8 , 0.81, 0.82, 0.83, 0.84, 0.85, 0.86, 0.87, 0.88,\n",
       "       0.89, 0.9 , 0.91, 0.92, 0.93, 0.94, 0.95, 0.96, 0.97, 0.98, 0.99,\n",
       "       1.  ]),\n",
       "        cv=10, scoring=&#x27;neg_root_mean_squared_error&#x27;)</pre></div></div></div></div></div>"
      ],
      "text/plain": [
       "RidgeCV(alphas=array([0.01, 0.02, 0.03, 0.04, 0.05, 0.06, 0.07, 0.08, 0.09, 0.1 , 0.11,\n",
       "       0.12, 0.13, 0.14, 0.15, 0.16, 0.17, 0.18, 0.19, 0.2 , 0.21, 0.22,\n",
       "       0.23, 0.24, 0.25, 0.26, 0.27, 0.28, 0.29, 0.3 , 0.31, 0.32, 0.33,\n",
       "       0.34, 0.35, 0.36, 0.37, 0.38, 0.39, 0.4 , 0.41, 0.42, 0.43, 0.44,\n",
       "       0.45, 0.46, 0.47, 0.48, 0.49, 0.5 , 0.51, 0.52, 0.53, 0.54, 0.55,\n",
       "       0.56, 0.57, 0.58, 0.59, 0.6 , 0.61, 0.62, 0.63, 0.64, 0.65, 0.66,\n",
       "       0.67, 0.68, 0.69, 0.7 , 0.71, 0.72, 0.73, 0.74, 0.75, 0.76, 0.77,\n",
       "       0.78, 0.79, 0.8 , 0.81, 0.82, 0.83, 0.84, 0.85, 0.86, 0.87, 0.88,\n",
       "       0.89, 0.9 , 0.91, 0.92, 0.93, 0.94, 0.95, 0.96, 0.97, 0.98, 0.99,\n",
       "       1.  ]),\n",
       "        cv=10, scoring='neg_root_mean_squared_error')"
      ]
     },
     "execution_count": 518,
     "metadata": {},
     "output_type": "execute_result"
    }
   ],
   "source": [
    "ridge_cv_model.fit(x_train, y_train)"
   ]
  },
  {
   "cell_type": "code",
   "execution_count": 519,
   "metadata": {},
   "outputs": [
    {
     "data": {
      "text/plain": [
       "1.0"
      ]
     },
     "execution_count": 519,
     "metadata": {},
     "output_type": "execute_result"
    }
   ],
   "source": [
    "ridge_cv_model.alpha_"
   ]
  },
  {
   "cell_type": "code",
   "execution_count": 520,
   "metadata": {},
   "outputs": [],
   "source": [
    "y_train_pred = ridge_cv_model.predict(x_train)\n",
    "y_test_pred = ridge_cv_model.predict(x_test)"
   ]
  },
  {
   "cell_type": "code",
   "execution_count": 521,
   "metadata": {},
   "outputs": [
    {
     "name": "stdout",
     "output_type": "stream",
     "text": [
      "Model testing performance:\n",
      "--------------------------\n",
      "R2_score \t: 0.22915783614199892\n",
      "MAE \t\t: 8.906782310087163\n",
      "MSE \t\t: 111.10966144267424\n",
      "RMSE \t\t: 10.540856769858618\n"
     ]
    }
   ],
   "source": [
    "eval_metrics(y_train, y_train_pred) "
   ]
  },
  {
   "cell_type": "code",
   "execution_count": 522,
   "metadata": {},
   "outputs": [
    {
     "name": "stdout",
     "output_type": "stream",
     "text": [
      "Model testing performance:\n",
      "--------------------------\n",
      "R2_score \t: -0.41934966141172536\n",
      "MAE \t\t: 12.124242718941309\n",
      "MSE \t\t: 193.45578179523878\n",
      "RMSE \t\t: 13.908838261883657\n"
     ]
    }
   ],
   "source": [
    "eval_metrics(y_test, y_test_pred)"
   ]
  },
  {
   "cell_type": "code",
   "execution_count": 523,
   "metadata": {},
   "outputs": [
    {
     "data": {
      "text/html": [
       "<div>\n",
       "<style scoped>\n",
       "    .dataframe tbody tr th:only-of-type {\n",
       "        vertical-align: middle;\n",
       "    }\n",
       "\n",
       "    .dataframe tbody tr th {\n",
       "        vertical-align: top;\n",
       "    }\n",
       "\n",
       "    .dataframe thead th {\n",
       "        text-align: right;\n",
       "    }\n",
       "</style>\n",
       "<table border=\"1\" class=\"dataframe\">\n",
       "  <thead>\n",
       "    <tr style=\"text-align: right;\">\n",
       "      <th></th>\n",
       "      <th>ridge_cv_train</th>\n",
       "      <th>ridge_cv_test</th>\n",
       "    </tr>\n",
       "  </thead>\n",
       "  <tbody>\n",
       "    <tr>\n",
       "      <th>rmse</th>\n",
       "      <td>10.540857</td>\n",
       "      <td>13.908838</td>\n",
       "    </tr>\n",
       "    <tr>\n",
       "      <th>mae</th>\n",
       "      <td>8.906782</td>\n",
       "      <td>12.124243</td>\n",
       "    </tr>\n",
       "    <tr>\n",
       "      <th>mse</th>\n",
       "      <td>111.109661</td>\n",
       "      <td>193.455782</td>\n",
       "    </tr>\n",
       "    <tr>\n",
       "      <th>R2</th>\n",
       "      <td>0.229158</td>\n",
       "      <td>-0.419350</td>\n",
       "    </tr>\n",
       "  </tbody>\n",
       "</table>\n",
       "</div>"
      ],
      "text/plain": [
       "      ridge_cv_train  ridge_cv_test\n",
       "rmse       10.540857      13.908838\n",
       "mae         8.906782      12.124243\n",
       "mse       111.109661     193.455782\n",
       "R2          0.229158      -0.419350"
      ]
     },
     "execution_count": 523,
     "metadata": {},
     "output_type": "execute_result"
    }
   ],
   "source": [
    "ridge_cv_scores = {\"ridge_cv_train\": {\"rmse\" : np.sqrt(mean_squared_error(y_train, y_train_pred)),\n",
    "                                      \"mae\" : mean_absolute_error(y_train, y_train_pred),\n",
    "                                      \"mse\" : mean_squared_error(y_train, y_train_pred),\n",
    "                                      \"R2\" : r2_score(y_train, y_train_pred)}, \n",
    "\n",
    "                   \"ridge_cv_test\": {\"rmse\" : np.sqrt(mean_squared_error(y_test, y_test_pred)),\n",
    "                                     \"mae\" : mean_absolute_error(y_test, y_test_pred),\n",
    "                                     \"mse\" : mean_squared_error(y_test, y_test_pred),\n",
    "                                     \"R2\" : r2_score(y_test, y_test_pred)}}\n",
    "rcs = pd.DataFrame(ridge_cv_scores)\n",
    "rcs"
   ]
  },
  {
   "cell_type": "code",
   "execution_count": 524,
   "metadata": {},
   "outputs": [
    {
     "data": {
      "text/html": [
       "<div>\n",
       "<style scoped>\n",
       "    .dataframe tbody tr th:only-of-type {\n",
       "        vertical-align: middle;\n",
       "    }\n",
       "\n",
       "    .dataframe tbody tr th {\n",
       "        vertical-align: top;\n",
       "    }\n",
       "\n",
       "    .dataframe thead th {\n",
       "        text-align: right;\n",
       "    }\n",
       "</style>\n",
       "<table border=\"1\" class=\"dataframe\">\n",
       "  <thead>\n",
       "    <tr style=\"text-align: right;\">\n",
       "      <th></th>\n",
       "      <th>lm_train</th>\n",
       "      <th>lm_test</th>\n",
       "      <th>ridge_train</th>\n",
       "      <th>ridge_test</th>\n",
       "      <th>ridge_cv_train</th>\n",
       "      <th>ridge_cv_test</th>\n",
       "    </tr>\n",
       "  </thead>\n",
       "  <tbody>\n",
       "    <tr>\n",
       "      <th>rmse</th>\n",
       "      <td>7.059588</td>\n",
       "      <td>26.563467</td>\n",
       "      <td>10.540857</td>\n",
       "      <td>13.908838</td>\n",
       "      <td>10.540857</td>\n",
       "      <td>13.908838</td>\n",
       "    </tr>\n",
       "    <tr>\n",
       "      <th>mae</th>\n",
       "      <td>5.463841</td>\n",
       "      <td>21.993898</td>\n",
       "      <td>8.906782</td>\n",
       "      <td>12.124243</td>\n",
       "      <td>8.906782</td>\n",
       "      <td>12.124243</td>\n",
       "    </tr>\n",
       "    <tr>\n",
       "      <th>mse</th>\n",
       "      <td>49.837778</td>\n",
       "      <td>705.617775</td>\n",
       "      <td>111.109661</td>\n",
       "      <td>193.455782</td>\n",
       "      <td>111.109661</td>\n",
       "      <td>193.455782</td>\n",
       "    </tr>\n",
       "    <tr>\n",
       "      <th>R2</th>\n",
       "      <td>0.654242</td>\n",
       "      <td>-4.176988</td>\n",
       "      <td>0.229158</td>\n",
       "      <td>-0.419350</td>\n",
       "      <td>0.229158</td>\n",
       "      <td>-0.419350</td>\n",
       "    </tr>\n",
       "  </tbody>\n",
       "</table>\n",
       "</div>"
      ],
      "text/plain": [
       "       lm_train     lm_test  ridge_train  ridge_test  ridge_cv_train  \\\n",
       "rmse   7.059588   26.563467    10.540857   13.908838       10.540857   \n",
       "mae    5.463841   21.993898     8.906782   12.124243        8.906782   \n",
       "mse   49.837778  705.617775   111.109661  193.455782      111.109661   \n",
       "R2     0.654242   -4.176988     0.229158   -0.419350        0.229158   \n",
       "\n",
       "      ridge_cv_test  \n",
       "rmse      13.908838  \n",
       "mae       12.124243  \n",
       "mse      193.455782  \n",
       "R2        -0.419350  "
      ]
     },
     "execution_count": 524,
     "metadata": {},
     "output_type": "execute_result"
    }
   ],
   "source": [
    "pd.concat([ls, rs, rcs], axis = 1)"
   ]
  },
  {
   "cell_type": "markdown",
   "metadata": {},
   "source": [
    "### Lasso"
   ]
  },
  {
   "cell_type": "code",
   "execution_count": 525,
   "metadata": {},
   "outputs": [],
   "source": [
    "from sklearn.linear_model import Lasso"
   ]
  },
  {
   "cell_type": "code",
   "execution_count": 526,
   "metadata": {},
   "outputs": [
    {
     "data": {
      "text/html": [
       "<style>#sk-container-id-36 {color: black;background-color: white;}#sk-container-id-36 pre{padding: 0;}#sk-container-id-36 div.sk-toggleable {background-color: white;}#sk-container-id-36 label.sk-toggleable__label {cursor: pointer;display: block;width: 100%;margin-bottom: 0;padding: 0.3em;box-sizing: border-box;text-align: center;}#sk-container-id-36 label.sk-toggleable__label-arrow:before {content: \"▸\";float: left;margin-right: 0.25em;color: #696969;}#sk-container-id-36 label.sk-toggleable__label-arrow:hover:before {color: black;}#sk-container-id-36 div.sk-estimator:hover label.sk-toggleable__label-arrow:before {color: black;}#sk-container-id-36 div.sk-toggleable__content {max-height: 0;max-width: 0;overflow: hidden;text-align: left;background-color: #f0f8ff;}#sk-container-id-36 div.sk-toggleable__content pre {margin: 0.2em;color: black;border-radius: 0.25em;background-color: #f0f8ff;}#sk-container-id-36 input.sk-toggleable__control:checked~div.sk-toggleable__content {max-height: 200px;max-width: 100%;overflow: auto;}#sk-container-id-36 input.sk-toggleable__control:checked~label.sk-toggleable__label-arrow:before {content: \"▾\";}#sk-container-id-36 div.sk-estimator input.sk-toggleable__control:checked~label.sk-toggleable__label {background-color: #d4ebff;}#sk-container-id-36 div.sk-label input.sk-toggleable__control:checked~label.sk-toggleable__label {background-color: #d4ebff;}#sk-container-id-36 input.sk-hidden--visually {border: 0;clip: rect(1px 1px 1px 1px);clip: rect(1px, 1px, 1px, 1px);height: 1px;margin: -1px;overflow: hidden;padding: 0;position: absolute;width: 1px;}#sk-container-id-36 div.sk-estimator {font-family: monospace;background-color: #f0f8ff;border: 1px dotted black;border-radius: 0.25em;box-sizing: border-box;margin-bottom: 0.5em;}#sk-container-id-36 div.sk-estimator:hover {background-color: #d4ebff;}#sk-container-id-36 div.sk-parallel-item::after {content: \"\";width: 100%;border-bottom: 1px solid gray;flex-grow: 1;}#sk-container-id-36 div.sk-label:hover label.sk-toggleable__label {background-color: #d4ebff;}#sk-container-id-36 div.sk-serial::before {content: \"\";position: absolute;border-left: 1px solid gray;box-sizing: border-box;top: 0;bottom: 0;left: 50%;z-index: 0;}#sk-container-id-36 div.sk-serial {display: flex;flex-direction: column;align-items: center;background-color: white;padding-right: 0.2em;padding-left: 0.2em;position: relative;}#sk-container-id-36 div.sk-item {position: relative;z-index: 1;}#sk-container-id-36 div.sk-parallel {display: flex;align-items: stretch;justify-content: center;background-color: white;position: relative;}#sk-container-id-36 div.sk-item::before, #sk-container-id-36 div.sk-parallel-item::before {content: \"\";position: absolute;border-left: 1px solid gray;box-sizing: border-box;top: 0;bottom: 0;left: 50%;z-index: -1;}#sk-container-id-36 div.sk-parallel-item {display: flex;flex-direction: column;z-index: 1;position: relative;background-color: white;}#sk-container-id-36 div.sk-parallel-item:first-child::after {align-self: flex-end;width: 50%;}#sk-container-id-36 div.sk-parallel-item:last-child::after {align-self: flex-start;width: 50%;}#sk-container-id-36 div.sk-parallel-item:only-child::after {width: 0;}#sk-container-id-36 div.sk-dashed-wrapped {border: 1px dashed gray;margin: 0 0.4em 0.5em 0.4em;box-sizing: border-box;padding-bottom: 0.4em;background-color: white;}#sk-container-id-36 div.sk-label label {font-family: monospace;font-weight: bold;display: inline-block;line-height: 1.2em;}#sk-container-id-36 div.sk-label-container {text-align: center;}#sk-container-id-36 div.sk-container {/* jupyter's `normalize.less` sets `[hidden] { display: none; }` but bootstrap.min.css set `[hidden] { display: none !important; }` so we also need the `!important` here to be able to override the default hidden behavior on the sphinx rendered scikit-learn.org. See: https://github.com/scikit-learn/scikit-learn/issues/21755 */display: inline-block !important;position: relative;}#sk-container-id-36 div.sk-text-repr-fallback {display: none;}</style><div id=\"sk-container-id-36\" class=\"sk-top-container\"><div class=\"sk-text-repr-fallback\"><pre>Lasso(alpha=1)</pre><b>In a Jupyter environment, please rerun this cell to show the HTML representation or trust the notebook. <br />On GitHub, the HTML representation is unable to render, please try loading this page with nbviewer.org.</b></div><div class=\"sk-container\" hidden><div class=\"sk-item\"><div class=\"sk-estimator sk-toggleable\"><input class=\"sk-toggleable__control sk-hidden--visually\" id=\"sk-estimator-id-44\" type=\"checkbox\" checked><label for=\"sk-estimator-id-44\" class=\"sk-toggleable__label sk-toggleable__label-arrow\">Lasso</label><div class=\"sk-toggleable__content\"><pre>Lasso(alpha=1)</pre></div></div></div></div></div>"
      ],
      "text/plain": [
       "Lasso(alpha=1)"
      ]
     },
     "execution_count": 526,
     "metadata": {},
     "output_type": "execute_result"
    }
   ],
   "source": [
    "lasso_model = Lasso(alpha=1)\n",
    "lasso_model.fit(x_train, y_train)"
   ]
  },
  {
   "cell_type": "code",
   "execution_count": 527,
   "metadata": {},
   "outputs": [],
   "source": [
    "y_train_pred = lasso_model.predict(x_train)\n",
    "y_test_pred = lasso_model.predict(x_test)"
   ]
  },
  {
   "cell_type": "code",
   "execution_count": 528,
   "metadata": {},
   "outputs": [
    {
     "name": "stdout",
     "output_type": "stream",
     "text": [
      "Model testing performance:\n",
      "--------------------------\n",
      "R2_score \t: 0.016730455748993567\n",
      "MAE \t\t: 10.241878990509965\n",
      "MSE \t\t: 141.72907411010186\n",
      "RMSE \t\t: 11.905002062582849\n"
     ]
    }
   ],
   "source": [
    "eval_metrics(y_train, y_train_pred)"
   ]
  },
  {
   "cell_type": "code",
   "execution_count": 529,
   "metadata": {},
   "outputs": [
    {
     "name": "stdout",
     "output_type": "stream",
     "text": [
      "Model testing performance:\n",
      "--------------------------\n",
      "R2_score \t: -0.09493134520153301\n",
      "MAE \t\t: 11.005285798594786\n",
      "MSE \t\t: 149.23792576058537\n",
      "RMSE \t\t: 12.216297547153367\n"
     ]
    }
   ],
   "source": [
    "eval_metrics(y_test, y_test_pred)"
   ]
  },
  {
   "cell_type": "code",
   "execution_count": 530,
   "metadata": {},
   "outputs": [
    {
     "data": {
      "text/html": [
       "<div>\n",
       "<style scoped>\n",
       "    .dataframe tbody tr th:only-of-type {\n",
       "        vertical-align: middle;\n",
       "    }\n",
       "\n",
       "    .dataframe tbody tr th {\n",
       "        vertical-align: top;\n",
       "    }\n",
       "\n",
       "    .dataframe thead th {\n",
       "        text-align: right;\n",
       "    }\n",
       "</style>\n",
       "<table border=\"1\" class=\"dataframe\">\n",
       "  <thead>\n",
       "    <tr style=\"text-align: right;\">\n",
       "      <th></th>\n",
       "      <th>lasso_train</th>\n",
       "      <th>lasso_test</th>\n",
       "    </tr>\n",
       "  </thead>\n",
       "  <tbody>\n",
       "    <tr>\n",
       "      <th>rmse</th>\n",
       "      <td>11.905002</td>\n",
       "      <td>12.216298</td>\n",
       "    </tr>\n",
       "    <tr>\n",
       "      <th>mae</th>\n",
       "      <td>10.241879</td>\n",
       "      <td>11.005286</td>\n",
       "    </tr>\n",
       "    <tr>\n",
       "      <th>mse</th>\n",
       "      <td>141.729074</td>\n",
       "      <td>149.237926</td>\n",
       "    </tr>\n",
       "    <tr>\n",
       "      <th>R2</th>\n",
       "      <td>0.016730</td>\n",
       "      <td>-0.094931</td>\n",
       "    </tr>\n",
       "  </tbody>\n",
       "</table>\n",
       "</div>"
      ],
      "text/plain": [
       "      lasso_train  lasso_test\n",
       "rmse    11.905002   12.216298\n",
       "mae     10.241879   11.005286\n",
       "mse    141.729074  149.237926\n",
       "R2       0.016730   -0.094931"
      ]
     },
     "execution_count": 530,
     "metadata": {},
     "output_type": "execute_result"
    }
   ],
   "source": [
    "lasso_scores = {\"lasso_train\": {\"rmse\" : np.sqrt(mean_squared_error(y_train, y_train_pred)),\n",
    "                                \"mae\" : mean_absolute_error(y_train, y_train_pred),\n",
    "                                \"mse\" : mean_squared_error(y_train, y_train_pred),\n",
    "                                \"R2\" : r2_score(y_train, y_train_pred)}, \n",
    "\n",
    "                \"lasso_test\": {\"rmse\" : np.sqrt(mean_squared_error(y_test, y_test_pred)),\n",
    "                               \"mae\" : mean_absolute_error(y_test, y_test_pred),\n",
    "                               \"mse\" : mean_squared_error(y_test, y_test_pred),\n",
    "                               \"R2\" : r2_score(y_test, y_test_pred)}}\n",
    "lss = pd.DataFrame(lasso_scores)\n",
    "lss"
   ]
  },
  {
   "cell_type": "code",
   "execution_count": 531,
   "metadata": {},
   "outputs": [
    {
     "data": {
      "text/html": [
       "<div>\n",
       "<style scoped>\n",
       "    .dataframe tbody tr th:only-of-type {\n",
       "        vertical-align: middle;\n",
       "    }\n",
       "\n",
       "    .dataframe tbody tr th {\n",
       "        vertical-align: top;\n",
       "    }\n",
       "\n",
       "    .dataframe thead th {\n",
       "        text-align: right;\n",
       "    }\n",
       "</style>\n",
       "<table border=\"1\" class=\"dataframe\">\n",
       "  <thead>\n",
       "    <tr style=\"text-align: right;\">\n",
       "      <th></th>\n",
       "      <th>lm_train</th>\n",
       "      <th>lm_test</th>\n",
       "      <th>ridge_train</th>\n",
       "      <th>ridge_test</th>\n",
       "      <th>ridge_cv_train</th>\n",
       "      <th>ridge_cv_test</th>\n",
       "      <th>lasso_train</th>\n",
       "      <th>lasso_test</th>\n",
       "    </tr>\n",
       "  </thead>\n",
       "  <tbody>\n",
       "    <tr>\n",
       "      <th>rmse</th>\n",
       "      <td>7.059588</td>\n",
       "      <td>26.563467</td>\n",
       "      <td>10.540857</td>\n",
       "      <td>13.908838</td>\n",
       "      <td>10.540857</td>\n",
       "      <td>13.908838</td>\n",
       "      <td>11.905002</td>\n",
       "      <td>12.216298</td>\n",
       "    </tr>\n",
       "    <tr>\n",
       "      <th>mae</th>\n",
       "      <td>5.463841</td>\n",
       "      <td>21.993898</td>\n",
       "      <td>8.906782</td>\n",
       "      <td>12.124243</td>\n",
       "      <td>8.906782</td>\n",
       "      <td>12.124243</td>\n",
       "      <td>10.241879</td>\n",
       "      <td>11.005286</td>\n",
       "    </tr>\n",
       "    <tr>\n",
       "      <th>mse</th>\n",
       "      <td>49.837778</td>\n",
       "      <td>705.617775</td>\n",
       "      <td>111.109661</td>\n",
       "      <td>193.455782</td>\n",
       "      <td>111.109661</td>\n",
       "      <td>193.455782</td>\n",
       "      <td>141.729074</td>\n",
       "      <td>149.237926</td>\n",
       "    </tr>\n",
       "    <tr>\n",
       "      <th>R2</th>\n",
       "      <td>0.654242</td>\n",
       "      <td>-4.176988</td>\n",
       "      <td>0.229158</td>\n",
       "      <td>-0.419350</td>\n",
       "      <td>0.229158</td>\n",
       "      <td>-0.419350</td>\n",
       "      <td>0.016730</td>\n",
       "      <td>-0.094931</td>\n",
       "    </tr>\n",
       "  </tbody>\n",
       "</table>\n",
       "</div>"
      ],
      "text/plain": [
       "       lm_train     lm_test  ridge_train  ridge_test  ridge_cv_train  \\\n",
       "rmse   7.059588   26.563467    10.540857   13.908838       10.540857   \n",
       "mae    5.463841   21.993898     8.906782   12.124243        8.906782   \n",
       "mse   49.837778  705.617775   111.109661  193.455782      111.109661   \n",
       "R2     0.654242   -4.176988     0.229158   -0.419350        0.229158   \n",
       "\n",
       "      ridge_cv_test  lasso_train  lasso_test  \n",
       "rmse      13.908838    11.905002   12.216298  \n",
       "mae       12.124243    10.241879   11.005286  \n",
       "mse      193.455782   141.729074  149.237926  \n",
       "R2        -0.419350     0.016730   -0.094931  "
      ]
     },
     "execution_count": 531,
     "metadata": {},
     "output_type": "execute_result"
    }
   ],
   "source": [
    "pd.concat([ls, rs, rcs, lss], axis = 1)"
   ]
  },
  {
   "cell_type": "markdown",
   "metadata": {},
   "source": [
    "### Lasso & alpha=1"
   ]
  },
  {
   "cell_type": "code",
   "execution_count": 532,
   "metadata": {},
   "outputs": [],
   "source": [
    "model = Lasso(alpha=1)"
   ]
  },
  {
   "cell_type": "code",
   "execution_count": 533,
   "metadata": {},
   "outputs": [],
   "source": [
    "scores = cross_validate(model,\n",
    "                        x_train,\n",
    "                        y_train,\n",
    "                        scoring=['r2',\n",
    "                                 'neg_mean_absolute_error',\n",
    "                                 'neg_mean_squared_error',\n",
    "                                 'neg_root_mean_squared_error'], \n",
    "                        cv=10)"
   ]
  },
  {
   "cell_type": "code",
   "execution_count": 534,
   "metadata": {},
   "outputs": [],
   "source": [
    "scores = pd.DataFrame(scores, index = range(1, 11))"
   ]
  },
  {
   "cell_type": "code",
   "execution_count": 535,
   "metadata": {},
   "outputs": [
    {
     "data": {
      "text/plain": [
       "test_r2                              -0.608909\n",
       "test_neg_mean_absolute_error        -11.025905\n",
       "test_neg_mean_squared_error        -161.029921\n",
       "test_neg_root_mean_squared_error    -12.574260\n",
       "dtype: float64"
      ]
     },
     "execution_count": 535,
     "metadata": {},
     "output_type": "execute_result"
    }
   ],
   "source": [
    "scores.iloc[:,2:].mean()"
   ]
  },
  {
   "cell_type": "code",
   "execution_count": 536,
   "metadata": {},
   "outputs": [
    {
     "name": "stdout",
     "output_type": "stream",
     "text": [
      "Model testing performance:\n",
      "--------------------------\n",
      "R2_score \t: -0.09493134520153301\n",
      "MAE \t\t: 11.005285798594786\n",
      "MSE \t\t: 149.23792576058537\n",
      "RMSE \t\t: 12.216297547153367\n"
     ]
    }
   ],
   "source": [
    "eval_metrics(y_test, y_test_pred)"
   ]
  },
  {
   "cell_type": "code",
   "execution_count": 537,
   "metadata": {},
   "outputs": [
    {
     "data": {
      "text/plain": [
       "<AxesSubplot:>"
      ]
     },
     "execution_count": 537,
     "metadata": {},
     "output_type": "execute_result"
    },
    {
     "data": {
      "image/png": "[encoded data removed]",
      "text/plain": [
       "<Figure size 640x480 with 1 Axes>"
      ]
     },
     "metadata": {},
     "output_type": "display_data"
    }
   ],
   "source": [
    "sns.lineplot(data = scores.iloc[:,2:])"
   ]
  },
  {
   "cell_type": "markdown",
   "metadata": {},
   "source": [
    "### LassoCV Best alpha"
   ]
  },
  {
   "cell_type": "code",
   "execution_count": 538,
   "metadata": {},
   "outputs": [],
   "source": [
    "alpha_space = np.linspace(0.01, 1, 100)\n",
    "\n",
    "lasso_cv_model = LassoCV(alphas = alpha_space,\n",
    "                         cv = 10,\n",
    "                         max_iter=100000)"
   ]
  },
  {
   "cell_type": "code",
   "execution_count": 539,
   "metadata": {},
   "outputs": [
    {
     "data": {
      "text/html": [
       "<style>#sk-container-id-37 {color: black;background-color: white;}#sk-container-id-37 pre{padding: 0;}#sk-container-id-37 div.sk-toggleable {background-color: white;}#sk-container-id-37 label.sk-toggleable__label {cursor: pointer;display: block;width: 100%;margin-bottom: 0;padding: 0.3em;box-sizing: border-box;text-align: center;}#sk-container-id-37 label.sk-toggleable__label-arrow:before {content: \"▸\";float: left;margin-right: 0.25em;color: #696969;}#sk-container-id-37 label.sk-toggleable__label-arrow:hover:before {color: black;}#sk-container-id-37 div.sk-estimator:hover label.sk-toggleable__label-arrow:before {color: black;}#sk-container-id-37 div.sk-toggleable__content {max-height: 0;max-width: 0;overflow: hidden;text-align: left;background-color: #f0f8ff;}#sk-container-id-37 div.sk-toggleable__content pre {margin: 0.2em;color: black;border-radius: 0.25em;background-color: #f0f8ff;}#sk-container-id-37 input.sk-toggleable__control:checked~div.sk-toggleable__content {max-height: 200px;max-width: 100%;overflow: auto;}#sk-container-id-37 input.sk-toggleable__control:checked~label.sk-toggleable__label-arrow:before {content: \"▾\";}#sk-container-id-37 div.sk-estimator input.sk-toggleable__control:checked~label.sk-toggleable__label {background-color: #d4ebff;}#sk-container-id-37 div.sk-label input.sk-toggleable__control:checked~label.sk-toggleable__label {background-color: #d4ebff;}#sk-container-id-37 input.sk-hidden--visually {border: 0;clip: rect(1px 1px 1px 1px);clip: rect(1px, 1px, 1px, 1px);height: 1px;margin: -1px;overflow: hidden;padding: 0;position: absolute;width: 1px;}#sk-container-id-37 div.sk-estimator {font-family: monospace;background-color: #f0f8ff;border: 1px dotted black;border-radius: 0.25em;box-sizing: border-box;margin-bottom: 0.5em;}#sk-container-id-37 div.sk-estimator:hover {background-color: #d4ebff;}#sk-container-id-37 div.sk-parallel-item::after {content: \"\";width: 100%;border-bottom: 1px solid gray;flex-grow: 1;}#sk-container-id-37 div.sk-label:hover label.sk-toggleable__label {background-color: #d4ebff;}#sk-container-id-37 div.sk-serial::before {content: \"\";position: absolute;border-left: 1px solid gray;box-sizing: border-box;top: 0;bottom: 0;left: 50%;z-index: 0;}#sk-container-id-37 div.sk-serial {display: flex;flex-direction: column;align-items: center;background-color: white;padding-right: 0.2em;padding-left: 0.2em;position: relative;}#sk-container-id-37 div.sk-item {position: relative;z-index: 1;}#sk-container-id-37 div.sk-parallel {display: flex;align-items: stretch;justify-content: center;background-color: white;position: relative;}#sk-container-id-37 div.sk-item::before, #sk-container-id-37 div.sk-parallel-item::before {content: \"\";position: absolute;border-left: 1px solid gray;box-sizing: border-box;top: 0;bottom: 0;left: 50%;z-index: -1;}#sk-container-id-37 div.sk-parallel-item {display: flex;flex-direction: column;z-index: 1;position: relative;background-color: white;}#sk-container-id-37 div.sk-parallel-item:first-child::after {align-self: flex-end;width: 50%;}#sk-container-id-37 div.sk-parallel-item:last-child::after {align-self: flex-start;width: 50%;}#sk-container-id-37 div.sk-parallel-item:only-child::after {width: 0;}#sk-container-id-37 div.sk-dashed-wrapped {border: 1px dashed gray;margin: 0 0.4em 0.5em 0.4em;box-sizing: border-box;padding-bottom: 0.4em;background-color: white;}#sk-container-id-37 div.sk-label label {font-family: monospace;font-weight: bold;display: inline-block;line-height: 1.2em;}#sk-container-id-37 div.sk-label-container {text-align: center;}#sk-container-id-37 div.sk-container {/* jupyter's `normalize.less` sets `[hidden] { display: none; }` but bootstrap.min.css set `[hidden] { display: none !important; }` so we also need the `!important` here to be able to override the default hidden behavior on the sphinx rendered scikit-learn.org. See: https://github.com/scikit-learn/scikit-learn/issues/21755 */display: inline-block !important;position: relative;}#sk-container-id-37 div.sk-text-repr-fallback {display: none;}</style><div id=\"sk-container-id-37\" class=\"sk-top-container\"><div class=\"sk-text-repr-fallback\"><pre>LassoCV(alphas=array([0.01, 0.02, 0.03, 0.04, 0.05, 0.06, 0.07, 0.08, 0.09, 0.1 , 0.11,\n",
       "       0.12, 0.13, 0.14, 0.15, 0.16, 0.17, 0.18, 0.19, 0.2 , 0.21, 0.22,\n",
       "       0.23, 0.24, 0.25, 0.26, 0.27, 0.28, 0.29, 0.3 , 0.31, 0.32, 0.33,\n",
       "       0.34, 0.35, 0.36, 0.37, 0.38, 0.39, 0.4 , 0.41, 0.42, 0.43, 0.44,\n",
       "       0.45, 0.46, 0.47, 0.48, 0.49, 0.5 , 0.51, 0.52, 0.53, 0.54, 0.55,\n",
       "       0.56, 0.57, 0.58, 0.59, 0.6 , 0.61, 0.62, 0.63, 0.64, 0.65, 0.66,\n",
       "       0.67, 0.68, 0.69, 0.7 , 0.71, 0.72, 0.73, 0.74, 0.75, 0.76, 0.77,\n",
       "       0.78, 0.79, 0.8 , 0.81, 0.82, 0.83, 0.84, 0.85, 0.86, 0.87, 0.88,\n",
       "       0.89, 0.9 , 0.91, 0.92, 0.93, 0.94, 0.95, 0.96, 0.97, 0.98, 0.99,\n",
       "       1.  ]),\n",
       "        cv=10, max_iter=100000)</pre><b>In a Jupyter environment, please rerun this cell to show the HTML representation or trust the notebook. <br />On GitHub, the HTML representation is unable to render, please try loading this page with nbviewer.org.</b></div><div class=\"sk-container\" hidden><div class=\"sk-item\"><div class=\"sk-estimator sk-toggleable\"><input class=\"sk-toggleable__control sk-hidden--visually\" id=\"sk-estimator-id-45\" type=\"checkbox\" checked><label for=\"sk-estimator-id-45\" class=\"sk-toggleable__label sk-toggleable__label-arrow\">LassoCV</label><div class=\"sk-toggleable__content\"><pre>LassoCV(alphas=array([0.01, 0.02, 0.03, 0.04, 0.05, 0.06, 0.07, 0.08, 0.09, 0.1 , 0.11,\n",
       "       0.12, 0.13, 0.14, 0.15, 0.16, 0.17, 0.18, 0.19, 0.2 , 0.21, 0.22,\n",
       "       0.23, 0.24, 0.25, 0.26, 0.27, 0.28, 0.29, 0.3 , 0.31, 0.32, 0.33,\n",
       "       0.34, 0.35, 0.36, 0.37, 0.38, 0.39, 0.4 , 0.41, 0.42, 0.43, 0.44,\n",
       "       0.45, 0.46, 0.47, 0.48, 0.49, 0.5 , 0.51, 0.52, 0.53, 0.54, 0.55,\n",
       "       0.56, 0.57, 0.58, 0.59, 0.6 , 0.61, 0.62, 0.63, 0.64, 0.65, 0.66,\n",
       "       0.67, 0.68, 0.69, 0.7 , 0.71, 0.72, 0.73, 0.74, 0.75, 0.76, 0.77,\n",
       "       0.78, 0.79, 0.8 , 0.81, 0.82, 0.83, 0.84, 0.85, 0.86, 0.87, 0.88,\n",
       "       0.89, 0.9 , 0.91, 0.92, 0.93, 0.94, 0.95, 0.96, 0.97, 0.98, 0.99,\n",
       "       1.  ]),\n",
       "        cv=10, max_iter=100000)</pre></div></div></div></div></div>"
      ],
      "text/plain": [
       "LassoCV(alphas=array([0.01, 0.02, 0.03, 0.04, 0.05, 0.06, 0.07, 0.08, 0.09, 0.1 , 0.11,\n",
       "       0.12, 0.13, 0.14, 0.15, 0.16, 0.17, 0.18, 0.19, 0.2 , 0.21, 0.22,\n",
       "       0.23, 0.24, 0.25, 0.26, 0.27, 0.28, 0.29, 0.3 , 0.31, 0.32, 0.33,\n",
       "       0.34, 0.35, 0.36, 0.37, 0.38, 0.39, 0.4 , 0.41, 0.42, 0.43, 0.44,\n",
       "       0.45, 0.46, 0.47, 0.48, 0.49, 0.5 , 0.51, 0.52, 0.53, 0.54, 0.55,\n",
       "       0.56, 0.57, 0.58, 0.59, 0.6 , 0.61, 0.62, 0.63, 0.64, 0.65, 0.66,\n",
       "       0.67, 0.68, 0.69, 0.7 , 0.71, 0.72, 0.73, 0.74, 0.75, 0.76, 0.77,\n",
       "       0.78, 0.79, 0.8 , 0.81, 0.82, 0.83, 0.84, 0.85, 0.86, 0.87, 0.88,\n",
       "       0.89, 0.9 , 0.91, 0.92, 0.93, 0.94, 0.95, 0.96, 0.97, 0.98, 0.99,\n",
       "       1.  ]),\n",
       "        cv=10, max_iter=100000)"
      ]
     },
     "execution_count": 539,
     "metadata": {},
     "output_type": "execute_result"
    }
   ],
   "source": [
    "lasso_cv_model.fit(x_train, y_train)"
   ]
  },
  {
   "cell_type": "code",
   "execution_count": 540,
   "metadata": {},
   "outputs": [
    {
     "data": {
      "text/plain": [
       "1.0"
      ]
     },
     "execution_count": 540,
     "metadata": {},
     "output_type": "execute_result"
    }
   ],
   "source": [
    "lasso_cv_model.alpha_"
   ]
  },
  {
   "cell_type": "code",
   "execution_count": 541,
   "metadata": {},
   "outputs": [],
   "source": [
    "y_train_pred = lasso_cv_model.predict(x_train)"
   ]
  },
  {
   "cell_type": "code",
   "execution_count": 542,
   "metadata": {},
   "outputs": [],
   "source": [
    "y_test_pred = lasso_cv_model.predict(x_test)"
   ]
  },
  {
   "cell_type": "code",
   "execution_count": 543,
   "metadata": {},
   "outputs": [
    {
     "name": "stdout",
     "output_type": "stream",
     "text": [
      "Model testing performance:\n",
      "--------------------------\n",
      "R2_score \t: 0.016730455748993567\n",
      "MAE \t\t: 10.241878990509965\n",
      "MSE \t\t: 141.72907411010186\n",
      "RMSE \t\t: 11.905002062582849\n"
     ]
    }
   ],
   "source": [
    "eval_metrics(y_train, y_train_pred)"
   ]
  },
  {
   "cell_type": "code",
   "execution_count": 544,
   "metadata": {},
   "outputs": [
    {
     "name": "stdout",
     "output_type": "stream",
     "text": [
      "Model testing performance:\n",
      "--------------------------\n",
      "R2_score \t: -0.09493134520153301\n",
      "MAE \t\t: 11.005285798594786\n",
      "MSE \t\t: 149.23792576058537\n",
      "RMSE \t\t: 12.216297547153367\n"
     ]
    }
   ],
   "source": [
    "eval_metrics(y_test, y_test_pred)"
   ]
  },
  {
   "cell_type": "code",
   "execution_count": 545,
   "metadata": {},
   "outputs": [
    {
     "data": {
      "text/html": [
       "<div>\n",
       "<style scoped>\n",
       "    .dataframe tbody tr th:only-of-type {\n",
       "        vertical-align: middle;\n",
       "    }\n",
       "\n",
       "    .dataframe tbody tr th {\n",
       "        vertical-align: top;\n",
       "    }\n",
       "\n",
       "    .dataframe thead th {\n",
       "        text-align: right;\n",
       "    }\n",
       "</style>\n",
       "<table border=\"1\" class=\"dataframe\">\n",
       "  <thead>\n",
       "    <tr style=\"text-align: right;\">\n",
       "      <th></th>\n",
       "      <th>lasso_cv_train</th>\n",
       "      <th>lasso_cv_test</th>\n",
       "    </tr>\n",
       "  </thead>\n",
       "  <tbody>\n",
       "    <tr>\n",
       "      <th>rmse</th>\n",
       "      <td>11.905002</td>\n",
       "      <td>12.216298</td>\n",
       "    </tr>\n",
       "    <tr>\n",
       "      <th>mae</th>\n",
       "      <td>10.241879</td>\n",
       "      <td>11.005286</td>\n",
       "    </tr>\n",
       "    <tr>\n",
       "      <th>mse</th>\n",
       "      <td>141.729074</td>\n",
       "      <td>149.237926</td>\n",
       "    </tr>\n",
       "    <tr>\n",
       "      <th>R2</th>\n",
       "      <td>0.016730</td>\n",
       "      <td>-0.094931</td>\n",
       "    </tr>\n",
       "  </tbody>\n",
       "</table>\n",
       "</div>"
      ],
      "text/plain": [
       "      lasso_cv_train  lasso_cv_test\n",
       "rmse       11.905002      12.216298\n",
       "mae        10.241879      11.005286\n",
       "mse       141.729074     149.237926\n",
       "R2          0.016730      -0.094931"
      ]
     },
     "execution_count": 545,
     "metadata": {},
     "output_type": "execute_result"
    }
   ],
   "source": [
    "lasso_cv_scores = {\"lasso_cv_train\": {\"rmse\" : np.sqrt(mean_squared_error(y_train, y_train_pred)),\n",
    "                                      \"mae\" : mean_absolute_error(y_train, y_train_pred),\n",
    "                                      \"mse\" : mean_squared_error(y_train, y_train_pred),\n",
    "                                      \"R2\" : r2_score(y_train, y_train_pred)}, \n",
    "\n",
    "                   \"lasso_cv_test\": {\"rmse\" : np.sqrt(mean_squared_error(y_test, y_test_pred)),\n",
    "                                     \"mae\" : mean_absolute_error(y_test, y_test_pred),\n",
    "                                     \"mse\" : mean_squared_error(y_test, y_test_pred),\n",
    "                                     \"R2\" : r2_score(y_test, y_test_pred)}}\n",
    "lcs = pd.DataFrame(lasso_cv_scores)\n",
    "lcs"
   ]
  },
  {
   "cell_type": "code",
   "execution_count": 546,
   "metadata": {},
   "outputs": [
    {
     "data": {
      "text/html": [
       "<div>\n",
       "<style scoped>\n",
       "    .dataframe tbody tr th:only-of-type {\n",
       "        vertical-align: middle;\n",
       "    }\n",
       "\n",
       "    .dataframe tbody tr th {\n",
       "        vertical-align: top;\n",
       "    }\n",
       "\n",
       "    .dataframe thead th {\n",
       "        text-align: right;\n",
       "    }\n",
       "</style>\n",
       "<table border=\"1\" class=\"dataframe\">\n",
       "  <thead>\n",
       "    <tr style=\"text-align: right;\">\n",
       "      <th></th>\n",
       "      <th>lm_train</th>\n",
       "      <th>lm_test</th>\n",
       "      <th>ridge_train</th>\n",
       "      <th>ridge_test</th>\n",
       "      <th>ridge_cv_train</th>\n",
       "      <th>ridge_cv_test</th>\n",
       "      <th>lasso_train</th>\n",
       "      <th>lasso_test</th>\n",
       "      <th>lasso_cv_train</th>\n",
       "      <th>lasso_cv_test</th>\n",
       "    </tr>\n",
       "  </thead>\n",
       "  <tbody>\n",
       "    <tr>\n",
       "      <th>rmse</th>\n",
       "      <td>7.059588</td>\n",
       "      <td>26.563467</td>\n",
       "      <td>10.540857</td>\n",
       "      <td>13.908838</td>\n",
       "      <td>10.540857</td>\n",
       "      <td>13.908838</td>\n",
       "      <td>11.905002</td>\n",
       "      <td>12.216298</td>\n",
       "      <td>11.905002</td>\n",
       "      <td>12.216298</td>\n",
       "    </tr>\n",
       "    <tr>\n",
       "      <th>mae</th>\n",
       "      <td>5.463841</td>\n",
       "      <td>21.993898</td>\n",
       "      <td>8.906782</td>\n",
       "      <td>12.124243</td>\n",
       "      <td>8.906782</td>\n",
       "      <td>12.124243</td>\n",
       "      <td>10.241879</td>\n",
       "      <td>11.005286</td>\n",
       "      <td>10.241879</td>\n",
       "      <td>11.005286</td>\n",
       "    </tr>\n",
       "    <tr>\n",
       "      <th>mse</th>\n",
       "      <td>49.837778</td>\n",
       "      <td>705.617775</td>\n",
       "      <td>111.109661</td>\n",
       "      <td>193.455782</td>\n",
       "      <td>111.109661</td>\n",
       "      <td>193.455782</td>\n",
       "      <td>141.729074</td>\n",
       "      <td>149.237926</td>\n",
       "      <td>141.729074</td>\n",
       "      <td>149.237926</td>\n",
       "    </tr>\n",
       "    <tr>\n",
       "      <th>R2</th>\n",
       "      <td>0.654242</td>\n",
       "      <td>-4.176988</td>\n",
       "      <td>0.229158</td>\n",
       "      <td>-0.419350</td>\n",
       "      <td>0.229158</td>\n",
       "      <td>-0.419350</td>\n",
       "      <td>0.016730</td>\n",
       "      <td>-0.094931</td>\n",
       "      <td>0.016730</td>\n",
       "      <td>-0.094931</td>\n",
       "    </tr>\n",
       "  </tbody>\n",
       "</table>\n",
       "</div>"
      ],
      "text/plain": [
       "       lm_train     lm_test  ridge_train  ridge_test  ridge_cv_train  \\\n",
       "rmse   7.059588   26.563467    10.540857   13.908838       10.540857   \n",
       "mae    5.463841   21.993898     8.906782   12.124243        8.906782   \n",
       "mse   49.837778  705.617775   111.109661  193.455782      111.109661   \n",
       "R2     0.654242   -4.176988     0.229158   -0.419350        0.229158   \n",
       "\n",
       "      ridge_cv_test  lasso_train  lasso_test  lasso_cv_train  lasso_cv_test  \n",
       "rmse      13.908838    11.905002   12.216298       11.905002      12.216298  \n",
       "mae       12.124243    10.241879   11.005286       10.241879      11.005286  \n",
       "mse      193.455782   141.729074  149.237926      141.729074     149.237926  \n",
       "R2        -0.419350     0.016730   -0.094931        0.016730      -0.094931  "
      ]
     },
     "execution_count": 546,
     "metadata": {},
     "output_type": "execute_result"
    }
   ],
   "source": [
    "pd.concat([ls,rs, rcs, lss, lcs], axis = 1)"
   ]
  },
  {
   "cell_type": "markdown",
   "metadata": {},
   "source": [
    "### ElasticNet"
   ]
  },
  {
   "cell_type": "code",
   "execution_count": 547,
   "metadata": {},
   "outputs": [],
   "source": [
    "from sklearn.linear_model import ElasticNet"
   ]
  },
  {
   "cell_type": "code",
   "execution_count": 548,
   "metadata": {},
   "outputs": [],
   "source": [
    "elastic_model = ElasticNet()"
   ]
  },
  {
   "cell_type": "code",
   "execution_count": 549,
   "metadata": {},
   "outputs": [
    {
     "data": {
      "text/html": [
       "<style>#sk-container-id-38 {color: black;background-color: white;}#sk-container-id-38 pre{padding: 0;}#sk-container-id-38 div.sk-toggleable {background-color: white;}#sk-container-id-38 label.sk-toggleable__label {cursor: pointer;display: block;width: 100%;margin-bottom: 0;padding: 0.3em;box-sizing: border-box;text-align: center;}#sk-container-id-38 label.sk-toggleable__label-arrow:before {content: \"▸\";float: left;margin-right: 0.25em;color: #696969;}#sk-container-id-38 label.sk-toggleable__label-arrow:hover:before {color: black;}#sk-container-id-38 div.sk-estimator:hover label.sk-toggleable__label-arrow:before {color: black;}#sk-container-id-38 div.sk-toggleable__content {max-height: 0;max-width: 0;overflow: hidden;text-align: left;background-color: #f0f8ff;}#sk-container-id-38 div.sk-toggleable__content pre {margin: 0.2em;color: black;border-radius: 0.25em;background-color: #f0f8ff;}#sk-container-id-38 input.sk-toggleable__control:checked~div.sk-toggleable__content {max-height: 200px;max-width: 100%;overflow: auto;}#sk-container-id-38 input.sk-toggleable__control:checked~label.sk-toggleable__label-arrow:before {content: \"▾\";}#sk-container-id-38 div.sk-estimator input.sk-toggleable__control:checked~label.sk-toggleable__label {background-color: #d4ebff;}#sk-container-id-38 div.sk-label input.sk-toggleable__control:checked~label.sk-toggleable__label {background-color: #d4ebff;}#sk-container-id-38 input.sk-hidden--visually {border: 0;clip: rect(1px 1px 1px 1px);clip: rect(1px, 1px, 1px, 1px);height: 1px;margin: -1px;overflow: hidden;padding: 0;position: absolute;width: 1px;}#sk-container-id-38 div.sk-estimator {font-family: monospace;background-color: #f0f8ff;border: 1px dotted black;border-radius: 0.25em;box-sizing: border-box;margin-bottom: 0.5em;}#sk-container-id-38 div.sk-estimator:hover {background-color: #d4ebff;}#sk-container-id-38 div.sk-parallel-item::after {content: \"\";width: 100%;border-bottom: 1px solid gray;flex-grow: 1;}#sk-container-id-38 div.sk-label:hover label.sk-toggleable__label {background-color: #d4ebff;}#sk-container-id-38 div.sk-serial::before {content: \"\";position: absolute;border-left: 1px solid gray;box-sizing: border-box;top: 0;bottom: 0;left: 50%;z-index: 0;}#sk-container-id-38 div.sk-serial {display: flex;flex-direction: column;align-items: center;background-color: white;padding-right: 0.2em;padding-left: 0.2em;position: relative;}#sk-container-id-38 div.sk-item {position: relative;z-index: 1;}#sk-container-id-38 div.sk-parallel {display: flex;align-items: stretch;justify-content: center;background-color: white;position: relative;}#sk-container-id-38 div.sk-item::before, #sk-container-id-38 div.sk-parallel-item::before {content: \"\";position: absolute;border-left: 1px solid gray;box-sizing: border-box;top: 0;bottom: 0;left: 50%;z-index: -1;}#sk-container-id-38 div.sk-parallel-item {display: flex;flex-direction: column;z-index: 1;position: relative;background-color: white;}#sk-container-id-38 div.sk-parallel-item:first-child::after {align-self: flex-end;width: 50%;}#sk-container-id-38 div.sk-parallel-item:last-child::after {align-self: flex-start;width: 50%;}#sk-container-id-38 div.sk-parallel-item:only-child::after {width: 0;}#sk-container-id-38 div.sk-dashed-wrapped {border: 1px dashed gray;margin: 0 0.4em 0.5em 0.4em;box-sizing: border-box;padding-bottom: 0.4em;background-color: white;}#sk-container-id-38 div.sk-label label {font-family: monospace;font-weight: bold;display: inline-block;line-height: 1.2em;}#sk-container-id-38 div.sk-label-container {text-align: center;}#sk-container-id-38 div.sk-container {/* jupyter's `normalize.less` sets `[hidden] { display: none; }` but bootstrap.min.css set `[hidden] { display: none !important; }` so we also need the `!important` here to be able to override the default hidden behavior on the sphinx rendered scikit-learn.org. See: https://github.com/scikit-learn/scikit-learn/issues/21755 */display: inline-block !important;position: relative;}#sk-container-id-38 div.sk-text-repr-fallback {display: none;}</style><div id=\"sk-container-id-38\" class=\"sk-top-container\"><div class=\"sk-text-repr-fallback\"><pre>ElasticNet()</pre><b>In a Jupyter environment, please rerun this cell to show the HTML representation or trust the notebook. <br />On GitHub, the HTML representation is unable to render, please try loading this page with nbviewer.org.</b></div><div class=\"sk-container\" hidden><div class=\"sk-item\"><div class=\"sk-estimator sk-toggleable\"><input class=\"sk-toggleable__control sk-hidden--visually\" id=\"sk-estimator-id-46\" type=\"checkbox\" checked><label for=\"sk-estimator-id-46\" class=\"sk-toggleable__label sk-toggleable__label-arrow\">ElasticNet</label><div class=\"sk-toggleable__content\"><pre>ElasticNet()</pre></div></div></div></div></div>"
      ],
      "text/plain": [
       "ElasticNet()"
      ]
     },
     "execution_count": 549,
     "metadata": {},
     "output_type": "execute_result"
    }
   ],
   "source": [
    "elastic_model.fit(x_train, y_train)"
   ]
  },
  {
   "cell_type": "code",
   "execution_count": 550,
   "metadata": {},
   "outputs": [
    {
     "data": {
      "text/plain": [
       "0.5"
      ]
     },
     "execution_count": 550,
     "metadata": {},
     "output_type": "execute_result"
    }
   ],
   "source": [
    "elastic_model.l1_ratio"
   ]
  },
  {
   "cell_type": "code",
   "execution_count": 551,
   "metadata": {},
   "outputs": [
    {
     "data": {
      "text/plain": [
       "1.0"
      ]
     },
     "execution_count": 551,
     "metadata": {},
     "output_type": "execute_result"
    }
   ],
   "source": [
    "elastic_model.alpha"
   ]
  },
  {
   "cell_type": "code",
   "execution_count": 552,
   "metadata": {},
   "outputs": [],
   "source": [
    "y_train_pred = elastic_model.predict(x_train)"
   ]
  },
  {
   "cell_type": "code",
   "execution_count": 553,
   "metadata": {},
   "outputs": [],
   "source": [
    "y_test_pred = elastic_model.predict(x_test)"
   ]
  },
  {
   "cell_type": "code",
   "execution_count": 554,
   "metadata": {},
   "outputs": [
    {
     "name": "stdout",
     "output_type": "stream",
     "text": [
      "Model testing performance:\n",
      "--------------------------\n",
      "R2_score \t: 0.02239427076380962\n",
      "MAE \t\t: 10.20201133007969\n",
      "MSE \t\t: 140.91268834622443\n",
      "RMSE \t\t: 11.87066503386497\n"
     ]
    }
   ],
   "source": [
    "eval_metrics(y_train, y_train_pred)"
   ]
  },
  {
   "cell_type": "code",
   "execution_count": 555,
   "metadata": {},
   "outputs": [
    {
     "name": "stdout",
     "output_type": "stream",
     "text": [
      "Model testing performance:\n",
      "--------------------------\n",
      "R2_score \t: -0.10979000548990525\n",
      "MAE \t\t: 11.085887494337836\n",
      "MSE \t\t: 151.26314464826797\n",
      "RMSE \t\t: 12.298908270585157\n"
     ]
    }
   ],
   "source": [
    "eval_metrics(y_test, y_test_pred)"
   ]
  },
  {
   "cell_type": "code",
   "execution_count": 556,
   "metadata": {},
   "outputs": [
    {
     "data": {
      "text/html": [
       "<div>\n",
       "<style scoped>\n",
       "    .dataframe tbody tr th:only-of-type {\n",
       "        vertical-align: middle;\n",
       "    }\n",
       "\n",
       "    .dataframe tbody tr th {\n",
       "        vertical-align: top;\n",
       "    }\n",
       "\n",
       "    .dataframe thead th {\n",
       "        text-align: right;\n",
       "    }\n",
       "</style>\n",
       "<table border=\"1\" class=\"dataframe\">\n",
       "  <thead>\n",
       "    <tr style=\"text-align: right;\">\n",
       "      <th></th>\n",
       "      <th>elastic_train</th>\n",
       "      <th>elastic_test</th>\n",
       "    </tr>\n",
       "  </thead>\n",
       "  <tbody>\n",
       "    <tr>\n",
       "      <th>rmse</th>\n",
       "      <td>11.870665</td>\n",
       "      <td>12.298908</td>\n",
       "    </tr>\n",
       "    <tr>\n",
       "      <th>mae</th>\n",
       "      <td>10.202011</td>\n",
       "      <td>11.085887</td>\n",
       "    </tr>\n",
       "    <tr>\n",
       "      <th>mse</th>\n",
       "      <td>140.912688</td>\n",
       "      <td>151.263145</td>\n",
       "    </tr>\n",
       "    <tr>\n",
       "      <th>R2</th>\n",
       "      <td>0.022394</td>\n",
       "      <td>-0.109790</td>\n",
       "    </tr>\n",
       "  </tbody>\n",
       "</table>\n",
       "</div>"
      ],
      "text/plain": [
       "      elastic_train  elastic_test\n",
       "rmse      11.870665     12.298908\n",
       "mae       10.202011     11.085887\n",
       "mse      140.912688    151.263145\n",
       "R2         0.022394     -0.109790"
      ]
     },
     "execution_count": 556,
     "metadata": {},
     "output_type": "execute_result"
    }
   ],
   "source": [
    "elastic_scores = {\"elastic_train\": {\"rmse\" : np.sqrt(mean_squared_error(y_train, y_train_pred)),\n",
    "                                    \"mae\" : mean_absolute_error(y_train, y_train_pred),\n",
    "                                    \"mse\" : mean_squared_error(y_train, y_train_pred),\n",
    "                                    \"R2\" : r2_score(y_train, y_train_pred)}, \n",
    "\n",
    "                  \"elastic_test\": {\"rmse\" : np.sqrt(mean_squared_error(y_test, y_test_pred)),\n",
    "                                   \"mae\" : mean_absolute_error(y_test, y_test_pred),\n",
    "                                   \"mse\" : mean_squared_error(y_test, y_test_pred),\n",
    "                                   \"R2\" : r2_score(y_test, y_test_pred)}}\n",
    "es = pd.DataFrame(elastic_scores)\n",
    "es"
   ]
  },
  {
   "cell_type": "code",
   "execution_count": 557,
   "metadata": {},
   "outputs": [
    {
     "data": {
      "text/html": [
       "<div>\n",
       "<style scoped>\n",
       "    .dataframe tbody tr th:only-of-type {\n",
       "        vertical-align: middle;\n",
       "    }\n",
       "\n",
       "    .dataframe tbody tr th {\n",
       "        vertical-align: top;\n",
       "    }\n",
       "\n",
       "    .dataframe thead th {\n",
       "        text-align: right;\n",
       "    }\n",
       "</style>\n",
       "<table border=\"1\" class=\"dataframe\">\n",
       "  <thead>\n",
       "    <tr style=\"text-align: right;\">\n",
       "      <th></th>\n",
       "      <th>lm_train</th>\n",
       "      <th>lm_test</th>\n",
       "      <th>ridge_train</th>\n",
       "      <th>ridge_test</th>\n",
       "      <th>ridge_cv_train</th>\n",
       "      <th>ridge_cv_test</th>\n",
       "      <th>lasso_train</th>\n",
       "      <th>lasso_test</th>\n",
       "      <th>lasso_cv_train</th>\n",
       "      <th>lasso_cv_test</th>\n",
       "      <th>elastic_train</th>\n",
       "      <th>elastic_test</th>\n",
       "    </tr>\n",
       "  </thead>\n",
       "  <tbody>\n",
       "    <tr>\n",
       "      <th>rmse</th>\n",
       "      <td>7.059588</td>\n",
       "      <td>26.563467</td>\n",
       "      <td>10.540857</td>\n",
       "      <td>13.908838</td>\n",
       "      <td>10.540857</td>\n",
       "      <td>13.908838</td>\n",
       "      <td>11.905002</td>\n",
       "      <td>12.216298</td>\n",
       "      <td>11.905002</td>\n",
       "      <td>12.216298</td>\n",
       "      <td>11.870665</td>\n",
       "      <td>12.298908</td>\n",
       "    </tr>\n",
       "    <tr>\n",
       "      <th>mae</th>\n",
       "      <td>5.463841</td>\n",
       "      <td>21.993898</td>\n",
       "      <td>8.906782</td>\n",
       "      <td>12.124243</td>\n",
       "      <td>8.906782</td>\n",
       "      <td>12.124243</td>\n",
       "      <td>10.241879</td>\n",
       "      <td>11.005286</td>\n",
       "      <td>10.241879</td>\n",
       "      <td>11.005286</td>\n",
       "      <td>10.202011</td>\n",
       "      <td>11.085887</td>\n",
       "    </tr>\n",
       "    <tr>\n",
       "      <th>mse</th>\n",
       "      <td>49.837778</td>\n",
       "      <td>705.617775</td>\n",
       "      <td>111.109661</td>\n",
       "      <td>193.455782</td>\n",
       "      <td>111.109661</td>\n",
       "      <td>193.455782</td>\n",
       "      <td>141.729074</td>\n",
       "      <td>149.237926</td>\n",
       "      <td>141.729074</td>\n",
       "      <td>149.237926</td>\n",
       "      <td>140.912688</td>\n",
       "      <td>151.263145</td>\n",
       "    </tr>\n",
       "    <tr>\n",
       "      <th>R2</th>\n",
       "      <td>0.654242</td>\n",
       "      <td>-4.176988</td>\n",
       "      <td>0.229158</td>\n",
       "      <td>-0.419350</td>\n",
       "      <td>0.229158</td>\n",
       "      <td>-0.419350</td>\n",
       "      <td>0.016730</td>\n",
       "      <td>-0.094931</td>\n",
       "      <td>0.016730</td>\n",
       "      <td>-0.094931</td>\n",
       "      <td>0.022394</td>\n",
       "      <td>-0.109790</td>\n",
       "    </tr>\n",
       "  </tbody>\n",
       "</table>\n",
       "</div>"
      ],
      "text/plain": [
       "       lm_train     lm_test  ridge_train  ridge_test  ridge_cv_train  \\\n",
       "rmse   7.059588   26.563467    10.540857   13.908838       10.540857   \n",
       "mae    5.463841   21.993898     8.906782   12.124243        8.906782   \n",
       "mse   49.837778  705.617775   111.109661  193.455782      111.109661   \n",
       "R2     0.654242   -4.176988     0.229158   -0.419350        0.229158   \n",
       "\n",
       "      ridge_cv_test  lasso_train  lasso_test  lasso_cv_train  lasso_cv_test  \\\n",
       "rmse      13.908838    11.905002   12.216298       11.905002      12.216298   \n",
       "mae       12.124243    10.241879   11.005286       10.241879      11.005286   \n",
       "mse      193.455782   141.729074  149.237926      141.729074     149.237926   \n",
       "R2        -0.419350     0.016730   -0.094931        0.016730      -0.094931   \n",
       "\n",
       "      elastic_train  elastic_test  \n",
       "rmse      11.870665     12.298908  \n",
       "mae       10.202011     11.085887  \n",
       "mse      140.912688    151.263145  \n",
       "R2         0.022394     -0.109790  "
      ]
     },
     "execution_count": 557,
     "metadata": {},
     "output_type": "execute_result"
    }
   ],
   "source": [
    "pd.concat([ls,rs, rcs, lss, lcs, es], axis = 1)"
   ]
  },
  {
   "cell_type": "markdown",
   "metadata": {},
   "source": [
    "### ElasticNet & alpha=1"
   ]
  },
  {
   "cell_type": "code",
   "execution_count": 558,
   "metadata": {},
   "outputs": [],
   "source": [
    "model = ElasticNet(alpha=1)"
   ]
  },
  {
   "cell_type": "code",
   "execution_count": 559,
   "metadata": {},
   "outputs": [],
   "source": [
    "scores = cross_validate(model,\n",
    "                        x_train,\n",
    "                        y_train,\n",
    "                        scoring=['r2',\n",
    "                                 'neg_mean_absolute_error',\n",
    "                                 'neg_mean_squared_error',\n",
    "                                 'neg_root_mean_squared_error'],\n",
    "                        cv=10)"
   ]
  },
  {
   "cell_type": "code",
   "execution_count": 560,
   "metadata": {},
   "outputs": [],
   "source": [
    "scores = pd.DataFrame(scores, index = range(1, 11))"
   ]
  },
  {
   "cell_type": "code",
   "execution_count": 561,
   "metadata": {},
   "outputs": [
    {
     "data": {
      "text/plain": [
       "test_r2                              -0.648639\n",
       "test_neg_mean_absolute_error        -11.211781\n",
       "test_neg_mean_squared_error        -166.446703\n",
       "test_neg_root_mean_squared_error    -12.773947\n",
       "dtype: float64"
      ]
     },
     "execution_count": 561,
     "metadata": {},
     "output_type": "execute_result"
    }
   ],
   "source": [
    "scores.iloc[:,2:].mean()"
   ]
  },
  {
   "cell_type": "code",
   "execution_count": 562,
   "metadata": {},
   "outputs": [
    {
     "name": "stdout",
     "output_type": "stream",
     "text": [
      "Model testing performance:\n",
      "--------------------------\n",
      "R2_score \t: -0.10979000548990525\n",
      "MAE \t\t: 11.085887494337836\n",
      "MSE \t\t: 151.26314464826797\n",
      "RMSE \t\t: 12.298908270585157\n"
     ]
    }
   ],
   "source": [
    "eval_metrics(y_test, y_test_pred)"
   ]
  },
  {
   "cell_type": "code",
   "execution_count": 563,
   "metadata": {},
   "outputs": [
    {
     "data": {
      "text/plain": [
       "<AxesSubplot:>"
      ]
     },
     "execution_count": 563,
     "metadata": {},
     "output_type": "execute_result"
    },
    {
     "data": {
      "image/png": "[encoded data removed]",
      "text/plain": [
       "<Figure size 640x480 with 1 Axes>"
      ]
     },
     "metadata": {},
     "output_type": "display_data"
    }
   ],
   "source": [
    "sns.lineplot(data = scores.iloc[:,2:])"
   ]
  },
  {
   "cell_type": "markdown",
   "metadata": {},
   "source": [
    "### ElasticNetCV Best alpha"
   ]
  },
  {
   "cell_type": "code",
   "execution_count": 564,
   "metadata": {},
   "outputs": [],
   "source": [
    "alpha_space = np.linspace(0.01, 1, 100)\n",
    "\n",
    "elastic_cv_model = ElasticNetCV(alphas = alpha_space,\n",
    "                                l1_ratio=[0.1, 0.5, 0.7,0.9, 0.95, 1], \n",
    "                                cv = 10,\n",
    "                                max_iter = 100000)"
   ]
  },
  {
   "cell_type": "code",
   "execution_count": 565,
   "metadata": {},
   "outputs": [
    {
     "data": {
      "text/html": [
       "<style>#sk-container-id-39 {color: black;background-color: white;}#sk-container-id-39 pre{padding: 0;}#sk-container-id-39 div.sk-toggleable {background-color: white;}#sk-container-id-39 label.sk-toggleable__label {cursor: pointer;display: block;width: 100%;margin-bottom: 0;padding: 0.3em;box-sizing: border-box;text-align: center;}#sk-container-id-39 label.sk-toggleable__label-arrow:before {content: \"▸\";float: left;margin-right: 0.25em;color: #696969;}#sk-container-id-39 label.sk-toggleable__label-arrow:hover:before {color: black;}#sk-container-id-39 div.sk-estimator:hover label.sk-toggleable__label-arrow:before {color: black;}#sk-container-id-39 div.sk-toggleable__content {max-height: 0;max-width: 0;overflow: hidden;text-align: left;background-color: #f0f8ff;}#sk-container-id-39 div.sk-toggleable__content pre {margin: 0.2em;color: black;border-radius: 0.25em;background-color: #f0f8ff;}#sk-container-id-39 input.sk-toggleable__control:checked~div.sk-toggleable__content {max-height: 200px;max-width: 100%;overflow: auto;}#sk-container-id-39 input.sk-toggleable__control:checked~label.sk-toggleable__label-arrow:before {content: \"▾\";}#sk-container-id-39 div.sk-estimator input.sk-toggleable__control:checked~label.sk-toggleable__label {background-color: #d4ebff;}#sk-container-id-39 div.sk-label input.sk-toggleable__control:checked~label.sk-toggleable__label {background-color: #d4ebff;}#sk-container-id-39 input.sk-hidden--visually {border: 0;clip: rect(1px 1px 1px 1px);clip: rect(1px, 1px, 1px, 1px);height: 1px;margin: -1px;overflow: hidden;padding: 0;position: absolute;width: 1px;}#sk-container-id-39 div.sk-estimator {font-family: monospace;background-color: #f0f8ff;border: 1px dotted black;border-radius: 0.25em;box-sizing: border-box;margin-bottom: 0.5em;}#sk-container-id-39 div.sk-estimator:hover {background-color: #d4ebff;}#sk-container-id-39 div.sk-parallel-item::after {content: \"\";width: 100%;border-bottom: 1px solid gray;flex-grow: 1;}#sk-container-id-39 div.sk-label:hover label.sk-toggleable__label {background-color: #d4ebff;}#sk-container-id-39 div.sk-serial::before {content: \"\";position: absolute;border-left: 1px solid gray;box-sizing: border-box;top: 0;bottom: 0;left: 50%;z-index: 0;}#sk-container-id-39 div.sk-serial {display: flex;flex-direction: column;align-items: center;background-color: white;padding-right: 0.2em;padding-left: 0.2em;position: relative;}#sk-container-id-39 div.sk-item {position: relative;z-index: 1;}#sk-container-id-39 div.sk-parallel {display: flex;align-items: stretch;justify-content: center;background-color: white;position: relative;}#sk-container-id-39 div.sk-item::before, #sk-container-id-39 div.sk-parallel-item::before {content: \"\";position: absolute;border-left: 1px solid gray;box-sizing: border-box;top: 0;bottom: 0;left: 50%;z-index: -1;}#sk-container-id-39 div.sk-parallel-item {display: flex;flex-direction: column;z-index: 1;position: relative;background-color: white;}#sk-container-id-39 div.sk-parallel-item:first-child::after {align-self: flex-end;width: 50%;}#sk-container-id-39 div.sk-parallel-item:last-child::after {align-self: flex-start;width: 50%;}#sk-container-id-39 div.sk-parallel-item:only-child::after {width: 0;}#sk-container-id-39 div.sk-dashed-wrapped {border: 1px dashed gray;margin: 0 0.4em 0.5em 0.4em;box-sizing: border-box;padding-bottom: 0.4em;background-color: white;}#sk-container-id-39 div.sk-label label {font-family: monospace;font-weight: bold;display: inline-block;line-height: 1.2em;}#sk-container-id-39 div.sk-label-container {text-align: center;}#sk-container-id-39 div.sk-container {/* jupyter's `normalize.less` sets `[hidden] { display: none; }` but bootstrap.min.css set `[hidden] { display: none !important; }` so we also need the `!important` here to be able to override the default hidden behavior on the sphinx rendered scikit-learn.org. See: https://github.com/scikit-learn/scikit-learn/issues/21755 */display: inline-block !important;position: relative;}#sk-container-id-39 div.sk-text-repr-fallback {display: none;}</style><div id=\"sk-container-id-39\" class=\"sk-top-container\"><div class=\"sk-text-repr-fallback\"><pre>ElasticNetCV(alphas=array([0.01, 0.02, 0.03, 0.04, 0.05, 0.06, 0.07, 0.08, 0.09, 0.1 , 0.11,\n",
       "       0.12, 0.13, 0.14, 0.15, 0.16, 0.17, 0.18, 0.19, 0.2 , 0.21, 0.22,\n",
       "       0.23, 0.24, 0.25, 0.26, 0.27, 0.28, 0.29, 0.3 , 0.31, 0.32, 0.33,\n",
       "       0.34, 0.35, 0.36, 0.37, 0.38, 0.39, 0.4 , 0.41, 0.42, 0.43, 0.44,\n",
       "       0.45, 0.46, 0.47, 0.48, 0.49, 0.5 , 0.51, 0.52, 0.53, 0.54, 0.55,\n",
       "       0.56, 0.57, 0.58, 0.59, 0.6 , 0.61, 0.62, 0.63, 0.64, 0.65, 0.66,\n",
       "       0.67, 0.68, 0.69, 0.7 , 0.71, 0.72, 0.73, 0.74, 0.75, 0.76, 0.77,\n",
       "       0.78, 0.79, 0.8 , 0.81, 0.82, 0.83, 0.84, 0.85, 0.86, 0.87, 0.88,\n",
       "       0.89, 0.9 , 0.91, 0.92, 0.93, 0.94, 0.95, 0.96, 0.97, 0.98, 0.99,\n",
       "       1.  ]),\n",
       "             cv=10, l1_ratio=[0.1, 0.5, 0.7, 0.9, 0.95, 1], max_iter=100000)</pre><b>In a Jupyter environment, please rerun this cell to show the HTML representation or trust the notebook. <br />On GitHub, the HTML representation is unable to render, please try loading this page with nbviewer.org.</b></div><div class=\"sk-container\" hidden><div class=\"sk-item\"><div class=\"sk-estimator sk-toggleable\"><input class=\"sk-toggleable__control sk-hidden--visually\" id=\"sk-estimator-id-47\" type=\"checkbox\" checked><label for=\"sk-estimator-id-47\" class=\"sk-toggleable__label sk-toggleable__label-arrow\">ElasticNetCV</label><div class=\"sk-toggleable__content\"><pre>ElasticNetCV(alphas=array([0.01, 0.02, 0.03, 0.04, 0.05, 0.06, 0.07, 0.08, 0.09, 0.1 , 0.11,\n",
       "       0.12, 0.13, 0.14, 0.15, 0.16, 0.17, 0.18, 0.19, 0.2 , 0.21, 0.22,\n",
       "       0.23, 0.24, 0.25, 0.26, 0.27, 0.28, 0.29, 0.3 , 0.31, 0.32, 0.33,\n",
       "       0.34, 0.35, 0.36, 0.37, 0.38, 0.39, 0.4 , 0.41, 0.42, 0.43, 0.44,\n",
       "       0.45, 0.46, 0.47, 0.48, 0.49, 0.5 , 0.51, 0.52, 0.53, 0.54, 0.55,\n",
       "       0.56, 0.57, 0.58, 0.59, 0.6 , 0.61, 0.62, 0.63, 0.64, 0.65, 0.66,\n",
       "       0.67, 0.68, 0.69, 0.7 , 0.71, 0.72, 0.73, 0.74, 0.75, 0.76, 0.77,\n",
       "       0.78, 0.79, 0.8 , 0.81, 0.82, 0.83, 0.84, 0.85, 0.86, 0.87, 0.88,\n",
       "       0.89, 0.9 , 0.91, 0.92, 0.93, 0.94, 0.95, 0.96, 0.97, 0.98, 0.99,\n",
       "       1.  ]),\n",
       "             cv=10, l1_ratio=[0.1, 0.5, 0.7, 0.9, 0.95, 1], max_iter=100000)</pre></div></div></div></div></div>"
      ],
      "text/plain": [
       "ElasticNetCV(alphas=array([0.01, 0.02, 0.03, 0.04, 0.05, 0.06, 0.07, 0.08, 0.09, 0.1 , 0.11,\n",
       "       0.12, 0.13, 0.14, 0.15, 0.16, 0.17, 0.18, 0.19, 0.2 , 0.21, 0.22,\n",
       "       0.23, 0.24, 0.25, 0.26, 0.27, 0.28, 0.29, 0.3 , 0.31, 0.32, 0.33,\n",
       "       0.34, 0.35, 0.36, 0.37, 0.38, 0.39, 0.4 , 0.41, 0.42, 0.43, 0.44,\n",
       "       0.45, 0.46, 0.47, 0.48, 0.49, 0.5 , 0.51, 0.52, 0.53, 0.54, 0.55,\n",
       "       0.56, 0.57, 0.58, 0.59, 0.6 , 0.61, 0.62, 0.63, 0.64, 0.65, 0.66,\n",
       "       0.67, 0.68, 0.69, 0.7 , 0.71, 0.72, 0.73, 0.74, 0.75, 0.76, 0.77,\n",
       "       0.78, 0.79, 0.8 , 0.81, 0.82, 0.83, 0.84, 0.85, 0.86, 0.87, 0.88,\n",
       "       0.89, 0.9 , 0.91, 0.92, 0.93, 0.94, 0.95, 0.96, 0.97, 0.98, 0.99,\n",
       "       1.  ]),\n",
       "             cv=10, l1_ratio=[0.1, 0.5, 0.7, 0.9, 0.95, 1], max_iter=100000)"
      ]
     },
     "execution_count": 565,
     "metadata": {},
     "output_type": "execute_result"
    }
   ],
   "source": [
    "elastic_cv_model.fit(x_train, y_train)"
   ]
  },
  {
   "cell_type": "code",
   "execution_count": 566,
   "metadata": {},
   "outputs": [
    {
     "data": {
      "text/plain": [
       "1.0"
      ]
     },
     "execution_count": 566,
     "metadata": {},
     "output_type": "execute_result"
    }
   ],
   "source": [
    "elastic_cv_model.alpha_"
   ]
  },
  {
   "cell_type": "code",
   "execution_count": 567,
   "metadata": {},
   "outputs": [
    {
     "data": {
      "text/plain": [
       "1.0"
      ]
     },
     "execution_count": 567,
     "metadata": {},
     "output_type": "execute_result"
    }
   ],
   "source": [
    "elastic_cv_model.l1_ratio_"
   ]
  },
  {
   "cell_type": "code",
   "execution_count": 568,
   "metadata": {},
   "outputs": [],
   "source": [
    "y_train_pred = elastic_cv_model.predict(x_train)"
   ]
  },
  {
   "cell_type": "code",
   "execution_count": 569,
   "metadata": {},
   "outputs": [],
   "source": [
    "y_test_pred = elastic_cv_model.predict(x_test)"
   ]
  },
  {
   "cell_type": "code",
   "execution_count": 570,
   "metadata": {},
   "outputs": [
    {
     "name": "stdout",
     "output_type": "stream",
     "text": [
      "Model testing performance:\n",
      "--------------------------\n",
      "R2_score \t: 0.016730455748993567\n",
      "MAE \t\t: 10.241878990509965\n",
      "MSE \t\t: 141.72907411010186\n",
      "RMSE \t\t: 11.905002062582849\n"
     ]
    }
   ],
   "source": [
    "eval_metrics(y_train, y_train_pred)"
   ]
  },
  {
   "cell_type": "code",
   "execution_count": 571,
   "metadata": {},
   "outputs": [
    {
     "name": "stdout",
     "output_type": "stream",
     "text": [
      "Model testing performance:\n",
      "--------------------------\n",
      "R2_score \t: -0.09493134520153301\n",
      "MAE \t\t: 11.005285798594786\n",
      "MSE \t\t: 149.23792576058537\n",
      "RMSE \t\t: 12.216297547153367\n"
     ]
    }
   ],
   "source": [
    "eval_metrics(y_test, y_test_pred)\n"
   ]
  },
  {
   "cell_type": "code",
   "execution_count": 572,
   "metadata": {},
   "outputs": [
    {
     "data": {
      "text/html": [
       "<div>\n",
       "<style scoped>\n",
       "    .dataframe tbody tr th:only-of-type {\n",
       "        vertical-align: middle;\n",
       "    }\n",
       "\n",
       "    .dataframe tbody tr th {\n",
       "        vertical-align: top;\n",
       "    }\n",
       "\n",
       "    .dataframe thead th {\n",
       "        text-align: right;\n",
       "    }\n",
       "</style>\n",
       "<table border=\"1\" class=\"dataframe\">\n",
       "  <thead>\n",
       "    <tr style=\"text-align: right;\">\n",
       "      <th></th>\n",
       "      <th>elastic_cv_train</th>\n",
       "      <th>elastic_cv_test</th>\n",
       "    </tr>\n",
       "  </thead>\n",
       "  <tbody>\n",
       "    <tr>\n",
       "      <th>rmse</th>\n",
       "      <td>11.905002</td>\n",
       "      <td>12.216298</td>\n",
       "    </tr>\n",
       "    <tr>\n",
       "      <th>mae</th>\n",
       "      <td>10.241879</td>\n",
       "      <td>11.005286</td>\n",
       "    </tr>\n",
       "    <tr>\n",
       "      <th>mse</th>\n",
       "      <td>141.729074</td>\n",
       "      <td>149.237926</td>\n",
       "    </tr>\n",
       "    <tr>\n",
       "      <th>R2</th>\n",
       "      <td>0.016730</td>\n",
       "      <td>-0.094931</td>\n",
       "    </tr>\n",
       "  </tbody>\n",
       "</table>\n",
       "</div>"
      ],
      "text/plain": [
       "      elastic_cv_train  elastic_cv_test\n",
       "rmse         11.905002        12.216298\n",
       "mae          10.241879        11.005286\n",
       "mse         141.729074       149.237926\n",
       "R2            0.016730        -0.094931"
      ]
     },
     "execution_count": 572,
     "metadata": {},
     "output_type": "execute_result"
    }
   ],
   "source": [
    "elastic_cv_scores = {\"elastic_cv_train\": {\"rmse\" : np.sqrt(mean_squared_error(y_train, y_train_pred)),\n",
    "                                          \"mae\" : mean_absolute_error(y_train, y_train_pred),\n",
    "                                          \"mse\" : mean_squared_error(y_train, y_train_pred),\n",
    "                                          \"R2\" : r2_score(y_train, y_train_pred)}, \n",
    "\n",
    "                     \"elastic_cv_test\": {\"rmse\" : np.sqrt(mean_squared_error(y_test, y_test_pred)),\n",
    "                                         \"mae\" : mean_absolute_error(y_test, y_test_pred),\n",
    "                                         \"mse\" : mean_squared_error(y_test, y_test_pred),\n",
    "                                         \"R2\" : r2_score(y_test, y_test_pred)}}\n",
    "ecs = pd.DataFrame(elastic_cv_scores)\n",
    "ecs"
   ]
  },
  {
   "cell_type": "code",
   "execution_count": 573,
   "metadata": {},
   "outputs": [
    {
     "data": {
      "text/html": [
       "<div>\n",
       "<style scoped>\n",
       "    .dataframe tbody tr th:only-of-type {\n",
       "        vertical-align: middle;\n",
       "    }\n",
       "\n",
       "    .dataframe tbody tr th {\n",
       "        vertical-align: top;\n",
       "    }\n",
       "\n",
       "    .dataframe thead th {\n",
       "        text-align: right;\n",
       "    }\n",
       "</style>\n",
       "<table border=\"1\" class=\"dataframe\">\n",
       "  <thead>\n",
       "    <tr style=\"text-align: right;\">\n",
       "      <th></th>\n",
       "      <th>lm_train</th>\n",
       "      <th>lm_test</th>\n",
       "      <th>ridge_train</th>\n",
       "      <th>ridge_test</th>\n",
       "      <th>ridge_cv_train</th>\n",
       "      <th>ridge_cv_test</th>\n",
       "      <th>lasso_train</th>\n",
       "      <th>lasso_test</th>\n",
       "      <th>lasso_cv_train</th>\n",
       "      <th>lasso_cv_test</th>\n",
       "      <th>elastic_train</th>\n",
       "      <th>elastic_test</th>\n",
       "      <th>elastic_cv_train</th>\n",
       "      <th>elastic_cv_test</th>\n",
       "    </tr>\n",
       "  </thead>\n",
       "  <tbody>\n",
       "    <tr>\n",
       "      <th>rmse</th>\n",
       "      <td>7.059588</td>\n",
       "      <td>26.563467</td>\n",
       "      <td>10.540857</td>\n",
       "      <td>13.908838</td>\n",
       "      <td>10.540857</td>\n",
       "      <td>13.908838</td>\n",
       "      <td>11.905002</td>\n",
       "      <td>12.216298</td>\n",
       "      <td>11.905002</td>\n",
       "      <td>12.216298</td>\n",
       "      <td>11.870665</td>\n",
       "      <td>12.298908</td>\n",
       "      <td>11.905002</td>\n",
       "      <td>12.216298</td>\n",
       "    </tr>\n",
       "    <tr>\n",
       "      <th>mae</th>\n",
       "      <td>5.463841</td>\n",
       "      <td>21.993898</td>\n",
       "      <td>8.906782</td>\n",
       "      <td>12.124243</td>\n",
       "      <td>8.906782</td>\n",
       "      <td>12.124243</td>\n",
       "      <td>10.241879</td>\n",
       "      <td>11.005286</td>\n",
       "      <td>10.241879</td>\n",
       "      <td>11.005286</td>\n",
       "      <td>10.202011</td>\n",
       "      <td>11.085887</td>\n",
       "      <td>10.241879</td>\n",
       "      <td>11.005286</td>\n",
       "    </tr>\n",
       "    <tr>\n",
       "      <th>mse</th>\n",
       "      <td>49.837778</td>\n",
       "      <td>705.617775</td>\n",
       "      <td>111.109661</td>\n",
       "      <td>193.455782</td>\n",
       "      <td>111.109661</td>\n",
       "      <td>193.455782</td>\n",
       "      <td>141.729074</td>\n",
       "      <td>149.237926</td>\n",
       "      <td>141.729074</td>\n",
       "      <td>149.237926</td>\n",
       "      <td>140.912688</td>\n",
       "      <td>151.263145</td>\n",
       "      <td>141.729074</td>\n",
       "      <td>149.237926</td>\n",
       "    </tr>\n",
       "    <tr>\n",
       "      <th>R2</th>\n",
       "      <td>0.654242</td>\n",
       "      <td>-4.176988</td>\n",
       "      <td>0.229158</td>\n",
       "      <td>-0.419350</td>\n",
       "      <td>0.229158</td>\n",
       "      <td>-0.419350</td>\n",
       "      <td>0.016730</td>\n",
       "      <td>-0.094931</td>\n",
       "      <td>0.016730</td>\n",
       "      <td>-0.094931</td>\n",
       "      <td>0.022394</td>\n",
       "      <td>-0.109790</td>\n",
       "      <td>0.016730</td>\n",
       "      <td>-0.094931</td>\n",
       "    </tr>\n",
       "  </tbody>\n",
       "</table>\n",
       "</div>"
      ],
      "text/plain": [
       "       lm_train     lm_test  ridge_train  ridge_test  ridge_cv_train  \\\n",
       "rmse   7.059588   26.563467    10.540857   13.908838       10.540857   \n",
       "mae    5.463841   21.993898     8.906782   12.124243        8.906782   \n",
       "mse   49.837778  705.617775   111.109661  193.455782      111.109661   \n",
       "R2     0.654242   -4.176988     0.229158   -0.419350        0.229158   \n",
       "\n",
       "      ridge_cv_test  lasso_train  lasso_test  lasso_cv_train  lasso_cv_test  \\\n",
       "rmse      13.908838    11.905002   12.216298       11.905002      12.216298   \n",
       "mae       12.124243    10.241879   11.005286       10.241879      11.005286   \n",
       "mse      193.455782   141.729074  149.237926      141.729074     149.237926   \n",
       "R2        -0.419350     0.016730   -0.094931        0.016730      -0.094931   \n",
       "\n",
       "      elastic_train  elastic_test  elastic_cv_train  elastic_cv_test  \n",
       "rmse      11.870665     12.298908         11.905002        12.216298  \n",
       "mae       10.202011     11.085887         10.241879        11.005286  \n",
       "mse      140.912688    151.263145        141.729074       149.237926  \n",
       "R2         0.022394     -0.109790          0.016730        -0.094931  "
      ]
     },
     "execution_count": 573,
     "metadata": {},
     "output_type": "execute_result"
    }
   ],
   "source": [
    "pd.concat([ls,rs, rcs, lss, lcs, es, ecs], axis = 1)"
   ]
  },
  {
   "cell_type": "markdown",
   "metadata": {},
   "source": [
    "### GridSearchCV"
   ]
  },
  {
   "cell_type": "code",
   "execution_count": 574,
   "metadata": {},
   "outputs": [],
   "source": [
    "from sklearn.model_selection import GridSearchCV"
   ]
  },
  {
   "cell_type": "code",
   "execution_count": 575,
   "metadata": {},
   "outputs": [],
   "source": [
    "elastic_model = ElasticNet(max_iter=10000)"
   ]
  },
  {
   "cell_type": "code",
   "execution_count": 576,
   "metadata": {},
   "outputs": [],
   "source": [
    "param_grid = {\"alpha\":[0.2, 0.4, 0.6, 0.8, 1.0],\n",
    "            \"l1_ratio\":[0.2, 0.4, 0.6, 0.8, 1.0]}"
   ]
  },
  {
   "cell_type": "code",
   "execution_count": 577,
   "metadata": {},
   "outputs": [],
   "source": [
    "grid_model = GridSearchCV(estimator = elastic_model,\n",
    "                          param_grid = param_grid,\n",
    "                          scoring = 'neg_root_mean_squared_error',\n",
    "                          cv =10,\n",
    "                          verbose =2)"
   ]
  },
  {
   "cell_type": "code",
   "execution_count": 578,
   "metadata": {},
   "outputs": [
    {
     "name": "stdout",
     "output_type": "stream",
     "text": [
      "Fitting 10 folds for each of 25 candidates, totalling 250 fits\n",
      "[CV] END ............................alpha=0.2, l1_ratio=0.2; total time=   0.0s\n",
      "[CV] END ............................alpha=0.2, l1_ratio=0.2; total time=   0.0s\n",
      "[CV] END ............................alpha=0.2, l1_ratio=0.2; total time=   0.0s\n",
      "[CV] END ............................alpha=0.2, l1_ratio=0.2; total time=   0.0s\n",
      "[CV] END ............................alpha=0.2, l1_ratio=0.2; total time=   0.0s\n",
      "[CV] END ............................alpha=0.2, l1_ratio=0.2; total time=   0.0s\n",
      "[CV] END ............................alpha=0.2, l1_ratio=0.2; total time=   0.0s\n",
      "[CV] END ............................alpha=0.2, l1_ratio=0.2; total time=   0.0s\n",
      "[CV] END ............................alpha=0.2, l1_ratio=0.2; total time=   0.0s\n",
      "[CV] END ............................alpha=0.2, l1_ratio=0.2; total time=   0.0s\n",
      "[CV] END ............................alpha=0.2, l1_ratio=0.4; total time=   0.0s\n",
      "[CV] END ............................alpha=0.2, l1_ratio=0.4; total time=   0.0s\n",
      "[CV] END ............................alpha=0.2, l1_ratio=0.4; total time=   0.0s\n",
      "[CV] END ............................alpha=0.2, l1_ratio=0.4; total time=   0.0s\n",
      "[CV] END ............................alpha=0.2, l1_ratio=0.4; total time=   0.0s\n",
      "[CV] END ............................alpha=0.2, l1_ratio=0.4; total time=   0.0s\n",
      "[CV] END ............................alpha=0.2, l1_ratio=0.4; total time=   0.0s\n",
      "[CV] END ............................alpha=0.2, l1_ratio=0.4; total time=   0.0s\n",
      "[CV] END ............................alpha=0.2, l1_ratio=0.4; total time=   0.0s\n",
      "[CV] END ............................alpha=0.2, l1_ratio=0.4; total time=   0.0s\n",
      "[CV] END ............................alpha=0.2, l1_ratio=0.6; total time=   0.0s\n",
      "[CV] END ............................alpha=0.2, l1_ratio=0.6; total time=   0.0s\n",
      "[CV] END ............................alpha=0.2, l1_ratio=0.6; total time=   0.0s\n",
      "[CV] END ............................alpha=0.2, l1_ratio=0.6; total time=   0.0s\n",
      "[CV] END ............................alpha=0.2, l1_ratio=0.6; total time=   0.0s\n",
      "[CV] END ............................alpha=0.2, l1_ratio=0.6; total time=   0.0s\n",
      "[CV] END ............................alpha=0.2, l1_ratio=0.6; total time=   0.0s\n",
      "[CV] END ............................alpha=0.2, l1_ratio=0.6; total time=   0.0s\n",
      "[CV] END ............................alpha=0.2, l1_ratio=0.6; total time=   0.0s\n",
      "[CV] END ............................alpha=0.2, l1_ratio=0.6; total time=   0.0s\n",
      "[CV] END ............................alpha=0.2, l1_ratio=0.8; total time=   0.0s\n",
      "[CV] END ............................alpha=0.2, l1_ratio=0.8; total time=   0.0s\n",
      "[CV] END ............................alpha=0.2, l1_ratio=0.8; total time=   0.0s\n",
      "[CV] END ............................alpha=0.2, l1_ratio=0.8; total time=   0.0s\n",
      "[CV] END ............................alpha=0.2, l1_ratio=0.8; total time=   0.0s\n",
      "[CV] END ............................alpha=0.2, l1_ratio=0.8; total time=   0.0s\n",
      "[CV] END ............................alpha=0.2, l1_ratio=0.8; total time=   0.0s\n",
      "[CV] END ............................alpha=0.2, l1_ratio=0.8; total time=   0.0s\n",
      "[CV] END ............................alpha=0.2, l1_ratio=0.8; total time=   0.0s\n",
      "[CV] END ............................alpha=0.2, l1_ratio=0.8; total time=   0.0s\n",
      "[CV] END ............................alpha=0.2, l1_ratio=1.0; total time=   0.0s\n",
      "[CV] END ............................alpha=0.2, l1_ratio=1.0; total time=   0.0s\n",
      "[CV] END ............................alpha=0.2, l1_ratio=1.0; total time=   0.0s\n",
      "[CV] END ............................alpha=0.2, l1_ratio=1.0; total time=   0.0s\n",
      "[CV] END ............................alpha=0.2, l1_ratio=1.0; total time=   0.0s\n",
      "[CV] END ............................alpha=0.2, l1_ratio=1.0; total time=   0.0s\n",
      "[CV] END ............................alpha=0.2, l1_ratio=1.0; total time=   0.0s\n",
      "[CV] END ............................alpha=0.2, l1_ratio=1.0; total time=   0.0s\n",
      "[CV] END ............................alpha=0.2, l1_ratio=1.0; total time=   0.0s\n",
      "[CV] END ............................alpha=0.2, l1_ratio=1.0; total time=   0.0s\n",
      "[CV] END ............................alpha=0.4, l1_ratio=0.2; total time=   0.0s\n",
      "[CV] END ............................alpha=0.4, l1_ratio=0.2; total time=   0.0s\n",
      "[CV] END ............................alpha=0.4, l1_ratio=0.2; total time=   0.0s\n",
      "[CV] END ............................alpha=0.4, l1_ratio=0.2; total time=   0.0s\n",
      "[CV] END ............................alpha=0.4, l1_ratio=0.2; total time=   0.0s\n",
      "[CV] END ............................alpha=0.4, l1_ratio=0.2; total time=   0.0s\n",
      "[CV] END ............................alpha=0.4, l1_ratio=0.2; total time=   0.0s\n",
      "[CV] END ............................alpha=0.4, l1_ratio=0.2; total time=   0.0s\n",
      "[CV] END ............................alpha=0.4, l1_ratio=0.2; total time=   0.0s\n",
      "[CV] END ............................alpha=0.4, l1_ratio=0.2; total time=   0.0s\n",
      "[CV] END ............................alpha=0.4, l1_ratio=0.4; total time=   0.0s\n",
      "[CV] END ............................alpha=0.4, l1_ratio=0.4; total time=   0.0s\n",
      "[CV] END ............................alpha=0.4, l1_ratio=0.4; total time=   0.0s\n",
      "[CV] END ............................alpha=0.4, l1_ratio=0.4; total time=   0.0s\n",
      "[CV] END ............................alpha=0.4, l1_ratio=0.4; total time=   0.0s\n",
      "[CV] END ............................alpha=0.4, l1_ratio=0.4; total time=   0.0s\n",
      "[CV] END ............................alpha=0.4, l1_ratio=0.4; total time=   0.0s\n",
      "[CV] END ............................alpha=0.4, l1_ratio=0.4; total time=   0.0s\n",
      "[CV] END ............................alpha=0.4, l1_ratio=0.4; total time=   0.0s\n",
      "[CV] END ............................alpha=0.4, l1_ratio=0.4; total time=   0.0s\n",
      "[CV] END ............................alpha=0.4, l1_ratio=0.6; total time=   0.0s\n",
      "[CV] END ............................alpha=0.4, l1_ratio=0.6; total time=   0.0s\n",
      "[CV] END ............................alpha=0.4, l1_ratio=0.6; total time=   0.0s\n",
      "[CV] END ............................alpha=0.4, l1_ratio=0.6; total time=   0.0s\n",
      "[CV] END ............................alpha=0.4, l1_ratio=0.6; total time=   0.0s\n",
      "[CV] END ............................alpha=0.4, l1_ratio=0.6; total time=   0.0s\n",
      "[CV] END ............................alpha=0.4, l1_ratio=0.6; total time=   0.0s\n",
      "[CV] END ............................alpha=0.4, l1_ratio=0.6; total time=   0.0s\n",
      "[CV] END ............................alpha=0.4, l1_ratio=0.6; total time=   0.0s\n",
      "[CV] END ............................alpha=0.4, l1_ratio=0.6; total time=   0.0s\n",
      "[CV] END ............................alpha=0.4, l1_ratio=0.8; total time=   0.0s\n",
      "[CV] END ............................alpha=0.4, l1_ratio=0.8; total time=   0.0s\n",
      "[CV] END ............................alpha=0.4, l1_ratio=0.8; total time=   0.0s\n",
      "[CV] END ............................alpha=0.4, l1_ratio=0.8; total time=   0.0s\n",
      "[CV] END ............................alpha=0.4, l1_ratio=0.8; total time=   0.0s\n",
      "[CV] END ............................alpha=0.4, l1_ratio=0.8; total time=   0.0s\n",
      "[CV] END ............................alpha=0.4, l1_ratio=0.8; total time=   0.0s\n",
      "[CV] END ............................alpha=0.4, l1_ratio=0.8; total time=   0.0s\n",
      "[CV] END ............................alpha=0.4, l1_ratio=0.8; total time=   0.0s\n",
      "[CV] END ............................alpha=0.4, l1_ratio=0.8; total time=   0.0s\n",
      "[CV] END ............................alpha=0.4, l1_ratio=1.0; total time=   0.0s\n",
      "[CV] END ............................alpha=0.4, l1_ratio=1.0; total time=   0.0s\n",
      "[CV] END ............................alpha=0.4, l1_ratio=1.0; total time=   0.0s\n",
      "[CV] END ............................alpha=0.4, l1_ratio=1.0; total time=   0.0s\n",
      "[CV] END ............................alpha=0.4, l1_ratio=1.0; total time=   0.0s\n",
      "[CV] END ............................alpha=0.4, l1_ratio=1.0; total time=   0.0s\n",
      "[CV] END ............................alpha=0.4, l1_ratio=1.0; total time=   0.0s\n",
      "[CV] END ............................alpha=0.4, l1_ratio=1.0; total time=   0.0s\n",
      "[CV] END ............................alpha=0.4, l1_ratio=1.0; total time=   0.0s\n",
      "[CV] END ............................alpha=0.4, l1_ratio=1.0; total time=   0.0s\n",
      "[CV] END ............................alpha=0.6, l1_ratio=0.2; total time=   0.0s\n",
      "[CV] END ............................alpha=0.6, l1_ratio=0.2; total time=   0.0s\n",
      "[CV] END ............................alpha=0.6, l1_ratio=0.2; total time=   0.0s\n",
      "[CV] END ............................alpha=0.6, l1_ratio=0.2; total time=   0.0s\n",
      "[CV] END ............................alpha=0.6, l1_ratio=0.2; total time=   0.0s\n",
      "[CV] END ............................alpha=0.6, l1_ratio=0.2; total time=   0.0s\n",
      "[CV] END ............................alpha=0.6, l1_ratio=0.2; total time=   0.0s\n",
      "[CV] END ............................alpha=0.6, l1_ratio=0.2; total time=   0.0s\n",
      "[CV] END ............................alpha=0.6, l1_ratio=0.2; total time=   0.0s\n",
      "[CV] END ............................alpha=0.6, l1_ratio=0.2; total time=   0.0s\n",
      "[CV] END ............................alpha=0.6, l1_ratio=0.4; total time=   0.0s\n",
      "[CV] END ............................alpha=0.6, l1_ratio=0.4; total time=   0.0s\n",
      "[CV] END ............................alpha=0.6, l1_ratio=0.4; total time=   0.0s\n",
      "[CV] END ............................alpha=0.6, l1_ratio=0.4; total time=   0.0s\n",
      "[CV] END ............................alpha=0.6, l1_ratio=0.4; total time=   0.0s\n",
      "[CV] END ............................alpha=0.6, l1_ratio=0.4; total time=   0.0s\n",
      "[CV] END ............................alpha=0.6, l1_ratio=0.4; total time=   0.0s\n",
      "[CV] END ............................alpha=0.6, l1_ratio=0.4; total time=   0.0s\n",
      "[CV] END ............................alpha=0.6, l1_ratio=0.4; total time=   0.0s\n",
      "[CV] END ............................alpha=0.6, l1_ratio=0.4; total time=   0.0s\n",
      "[CV] END ............................alpha=0.6, l1_ratio=0.6; total time=   0.0s\n",
      "[CV] END ............................alpha=0.6, l1_ratio=0.6; total time=   0.0s\n",
      "[CV] END ............................alpha=0.6, l1_ratio=0.6; total time=   0.0s\n",
      "[CV] END ............................alpha=0.6, l1_ratio=0.6; total time=   0.0s\n",
      "[CV] END ............................alpha=0.6, l1_ratio=0.6; total time=   0.0s\n",
      "[CV] END ............................alpha=0.6, l1_ratio=0.6; total time=   0.0s\n",
      "[CV] END ............................alpha=0.6, l1_ratio=0.6; total time=   0.0s\n",
      "[CV] END ............................alpha=0.6, l1_ratio=0.6; total time=   0.0s\n",
      "[CV] END ............................alpha=0.6, l1_ratio=0.6; total time=   0.0s\n",
      "[CV] END ............................alpha=0.6, l1_ratio=0.6; total time=   0.0s\n",
      "[CV] END ............................alpha=0.6, l1_ratio=0.8; total time=   0.0s\n",
      "[CV] END ............................alpha=0.6, l1_ratio=0.8; total time=   0.0s\n",
      "[CV] END ............................alpha=0.6, l1_ratio=0.8; total time=   0.0s\n",
      "[CV] END ............................alpha=0.6, l1_ratio=0.8; total time=   0.0s\n",
      "[CV] END ............................alpha=0.6, l1_ratio=0.8; total time=   0.0s\n",
      "[CV] END ............................alpha=0.6, l1_ratio=0.8; total time=   0.0s\n",
      "[CV] END ............................alpha=0.6, l1_ratio=0.8; total time=   0.0s\n",
      "[CV] END ............................alpha=0.6, l1_ratio=0.8; total time=   0.0s\n",
      "[CV] END ............................alpha=0.6, l1_ratio=0.8; total time=   0.0s\n",
      "[CV] END ............................alpha=0.6, l1_ratio=0.8; total time=   0.0s\n",
      "[CV] END ............................alpha=0.6, l1_ratio=1.0; total time=   0.0s\n",
      "[CV] END ............................alpha=0.6, l1_ratio=1.0; total time=   0.0s\n",
      "[CV] END ............................alpha=0.6, l1_ratio=1.0; total time=   0.0s\n",
      "[CV] END ............................alpha=0.6, l1_ratio=1.0; total time=   0.0s\n",
      "[CV] END ............................alpha=0.6, l1_ratio=1.0; total time=   0.0s\n",
      "[CV] END ............................alpha=0.6, l1_ratio=1.0; total time=   0.0s\n",
      "[CV] END ............................alpha=0.6, l1_ratio=1.0; total time=   0.0s\n",
      "[CV] END ............................alpha=0.6, l1_ratio=1.0; total time=   0.0s\n",
      "[CV] END ............................alpha=0.6, l1_ratio=1.0; total time=   0.0s\n",
      "[CV] END ............................alpha=0.6, l1_ratio=1.0; total time=   0.0s\n",
      "[CV] END ............................alpha=0.8, l1_ratio=0.2; total time=   0.0s\n",
      "[CV] END ............................alpha=0.8, l1_ratio=0.2; total time=   0.0s\n",
      "[CV] END ............................alpha=0.8, l1_ratio=0.2; total time=   0.0s\n",
      "[CV] END ............................alpha=0.8, l1_ratio=0.2; total time=   0.0s\n",
      "[CV] END ............................alpha=0.8, l1_ratio=0.2; total time=   0.0s\n",
      "[CV] END ............................alpha=0.8, l1_ratio=0.2; total time=   0.0s\n",
      "[CV] END ............................alpha=0.8, l1_ratio=0.2; total time=   0.0s\n",
      "[CV] END ............................alpha=0.8, l1_ratio=0.2; total time=   0.0s\n",
      "[CV] END ............................alpha=0.8, l1_ratio=0.2; total time=   0.0s\n",
      "[CV] END ............................alpha=0.8, l1_ratio=0.2; total time=   0.0s\n",
      "[CV] END ............................alpha=0.8, l1_ratio=0.4; total time=   0.0s\n",
      "[CV] END ............................alpha=0.8, l1_ratio=0.4; total time=   0.0s\n",
      "[CV] END ............................alpha=0.8, l1_ratio=0.4; total time=   0.0s\n",
      "[CV] END ............................alpha=0.8, l1_ratio=0.4; total time=   0.0s\n",
      "[CV] END ............................alpha=0.8, l1_ratio=0.4; total time=   0.0s\n",
      "[CV] END ............................alpha=0.8, l1_ratio=0.4; total time=   0.0s\n",
      "[CV] END ............................alpha=0.8, l1_ratio=0.4; total time=   0.0s\n",
      "[CV] END ............................alpha=0.8, l1_ratio=0.4; total time=   0.0s\n",
      "[CV] END ............................alpha=0.8, l1_ratio=0.4; total time=   0.0s\n",
      "[CV] END ............................alpha=0.8, l1_ratio=0.4; total time=   0.0s\n",
      "[CV] END ............................alpha=0.8, l1_ratio=0.6; total time=   0.0s\n",
      "[CV] END ............................alpha=0.8, l1_ratio=0.6; total time=   0.0s\n",
      "[CV] END ............................alpha=0.8, l1_ratio=0.6; total time=   0.0s\n",
      "[CV] END ............................alpha=0.8, l1_ratio=0.6; total time=   0.0s\n",
      "[CV] END ............................alpha=0.8, l1_ratio=0.6; total time=   0.0s\n",
      "[CV] END ............................alpha=0.8, l1_ratio=0.6; total time=   0.0s\n",
      "[CV] END ............................alpha=0.8, l1_ratio=0.6; total time=   0.0s\n",
      "[CV] END ............................alpha=0.8, l1_ratio=0.6; total time=   0.0s\n",
      "[CV] END ............................alpha=0.8, l1_ratio=0.6; total time=   0.0s\n",
      "[CV] END ............................alpha=0.8, l1_ratio=0.6; total time=   0.0s\n",
      "[CV] END ............................alpha=0.8, l1_ratio=0.8; total time=   0.0s\n",
      "[CV] END ............................alpha=0.8, l1_ratio=0.8; total time=   0.0s\n",
      "[CV] END ............................alpha=0.8, l1_ratio=0.8; total time=   0.0s\n",
      "[CV] END ............................alpha=0.8, l1_ratio=0.8; total time=   0.0s\n",
      "[CV] END ............................alpha=0.8, l1_ratio=0.8; total time=   0.0s\n",
      "[CV] END ............................alpha=0.8, l1_ratio=0.8; total time=   0.0s\n",
      "[CV] END ............................alpha=0.8, l1_ratio=0.8; total time=   0.0s\n",
      "[CV] END ............................alpha=0.8, l1_ratio=0.8; total time=   0.0s\n",
      "[CV] END ............................alpha=0.8, l1_ratio=0.8; total time=   0.0s\n",
      "[CV] END ............................alpha=0.8, l1_ratio=0.8; total time=   0.0s\n",
      "[CV] END ............................alpha=0.8, l1_ratio=1.0; total time=   0.0s\n",
      "[CV] END ............................alpha=0.8, l1_ratio=1.0; total time=   0.0s\n",
      "[CV] END ............................alpha=0.8, l1_ratio=1.0; total time=   0.0s\n",
      "[CV] END ............................alpha=0.8, l1_ratio=1.0; total time=   0.0s\n",
      "[CV] END ............................alpha=0.8, l1_ratio=1.0; total time=   0.0s\n",
      "[CV] END ............................alpha=0.8, l1_ratio=1.0; total time=   0.0s\n",
      "[CV] END ............................alpha=0.8, l1_ratio=1.0; total time=   0.0s\n",
      "[CV] END ............................alpha=0.8, l1_ratio=1.0; total time=   0.0s\n",
      "[CV] END ............................alpha=0.8, l1_ratio=1.0; total time=   0.0s\n",
      "[CV] END ............................alpha=0.8, l1_ratio=1.0; total time=   0.0s\n",
      "[CV] END ............................alpha=1.0, l1_ratio=0.2; total time=   0.0s\n",
      "[CV] END ............................alpha=1.0, l1_ratio=0.2; total time=   0.0s\n",
      "[CV] END ............................alpha=1.0, l1_ratio=0.2; total time=   0.0s\n",
      "[CV] END ............................alpha=1.0, l1_ratio=0.2; total time=   0.0s\n",
      "[CV] END ............................alpha=1.0, l1_ratio=0.2; total time=   0.0s\n",
      "[CV] END ............................alpha=1.0, l1_ratio=0.2; total time=   0.0s\n",
      "[CV] END ............................alpha=1.0, l1_ratio=0.2; total time=   0.0s\n",
      "[CV] END ............................alpha=1.0, l1_ratio=0.2; total time=   0.0s\n",
      "[CV] END ............................alpha=1.0, l1_ratio=0.2; total time=   0.0s\n",
      "[CV] END ............................alpha=1.0, l1_ratio=0.2; total time=   0.0s\n",
      "[CV] END ............................alpha=1.0, l1_ratio=0.4; total time=   0.0s\n",
      "[CV] END ............................alpha=1.0, l1_ratio=0.4; total time=   0.0s\n",
      "[CV] END ............................alpha=1.0, l1_ratio=0.4; total time=   0.0s\n",
      "[CV] END ............................alpha=1.0, l1_ratio=0.4; total time=   0.0s\n",
      "[CV] END ............................alpha=1.0, l1_ratio=0.4; total time=   0.0s\n",
      "[CV] END ............................alpha=1.0, l1_ratio=0.4; total time=   0.0s\n",
      "[CV] END ............................alpha=1.0, l1_ratio=0.4; total time=   0.0s\n",
      "[CV] END ............................alpha=1.0, l1_ratio=0.4; total time=   0.0s\n",
      "[CV] END ............................alpha=1.0, l1_ratio=0.4; total time=   0.0s\n",
      "[CV] END ............................alpha=1.0, l1_ratio=0.4; total time=   0.0s\n",
      "[CV] END ............................alpha=1.0, l1_ratio=0.6; total time=   0.0s\n",
      "[CV] END ............................alpha=1.0, l1_ratio=0.6; total time=   0.0s\n",
      "[CV] END ............................alpha=1.0, l1_ratio=0.6; total time=   0.0s\n",
      "[CV] END ............................alpha=1.0, l1_ratio=0.6; total time=   0.0s\n",
      "[CV] END ............................alpha=1.0, l1_ratio=0.6; total time=   0.0s\n",
      "[CV] END ............................alpha=1.0, l1_ratio=0.6; total time=   0.0s\n",
      "[CV] END ............................alpha=1.0, l1_ratio=0.6; total time=   0.0s\n",
      "[CV] END ............................alpha=1.0, l1_ratio=0.6; total time=   0.0s\n",
      "[CV] END ............................alpha=1.0, l1_ratio=0.6; total time=   0.0s\n",
      "[CV] END ............................alpha=1.0, l1_ratio=0.6; total time=   0.0s\n",
      "[CV] END ............................alpha=1.0, l1_ratio=0.8; total time=   0.0s\n",
      "[CV] END ............................alpha=1.0, l1_ratio=0.8; total time=   0.0s\n",
      "[CV] END ............................alpha=1.0, l1_ratio=0.8; total time=   0.0s\n",
      "[CV] END ............................alpha=1.0, l1_ratio=0.8; total time=   0.0s\n",
      "[CV] END ............................alpha=1.0, l1_ratio=0.8; total time=   0.0s\n",
      "[CV] END ............................alpha=1.0, l1_ratio=0.8; total time=   0.0s\n",
      "[CV] END ............................alpha=1.0, l1_ratio=0.8; total time=   0.0s\n",
      "[CV] END ............................alpha=1.0, l1_ratio=0.8; total time=   0.0s\n",
      "[CV] END ............................alpha=1.0, l1_ratio=0.8; total time=   0.0s\n",
      "[CV] END ............................alpha=1.0, l1_ratio=0.8; total time=   0.0s\n",
      "[CV] END ............................alpha=1.0, l1_ratio=1.0; total time=   0.0s\n",
      "[CV] END ............................alpha=1.0, l1_ratio=1.0; total time=   0.0s\n",
      "[CV] END ............................alpha=1.0, l1_ratio=1.0; total time=   0.0s\n",
      "[CV] END ............................alpha=1.0, l1_ratio=1.0; total time=   0.0s\n",
      "[CV] END ............................alpha=1.0, l1_ratio=1.0; total time=   0.0s\n",
      "[CV] END ............................alpha=1.0, l1_ratio=1.0; total time=   0.0s\n",
      "[CV] END ............................alpha=1.0, l1_ratio=1.0; total time=   0.0s\n",
      "[CV] END ............................alpha=1.0, l1_ratio=1.0; total time=   0.0s\n",
      "[CV] END ............................alpha=1.0, l1_ratio=1.0; total time=   0.0s\n",
      "[CV] END ............................alpha=1.0, l1_ratio=1.0; total time=   0.0s\n"
     ]
    },
    {
     "data": {
      "text/html": [
       "<style>#sk-container-id-40 {color: black;background-color: white;}#sk-container-id-40 pre{padding: 0;}#sk-container-id-40 div.sk-toggleable {background-color: white;}#sk-container-id-40 label.sk-toggleable__label {cursor: pointer;display: block;width: 100%;margin-bottom: 0;padding: 0.3em;box-sizing: border-box;text-align: center;}#sk-container-id-40 label.sk-toggleable__label-arrow:before {content: \"▸\";float: left;margin-right: 0.25em;color: #696969;}#sk-container-id-40 label.sk-toggleable__label-arrow:hover:before {color: black;}#sk-container-id-40 div.sk-estimator:hover label.sk-toggleable__label-arrow:before {color: black;}#sk-container-id-40 div.sk-toggleable__content {max-height: 0;max-width: 0;overflow: hidden;text-align: left;background-color: #f0f8ff;}#sk-container-id-40 div.sk-toggleable__content pre {margin: 0.2em;color: black;border-radius: 0.25em;background-color: #f0f8ff;}#sk-container-id-40 input.sk-toggleable__control:checked~div.sk-toggleable__content {max-height: 200px;max-width: 100%;overflow: auto;}#sk-container-id-40 input.sk-toggleable__control:checked~label.sk-toggleable__label-arrow:before {content: \"▾\";}#sk-container-id-40 div.sk-estimator input.sk-toggleable__control:checked~label.sk-toggleable__label {background-color: #d4ebff;}#sk-container-id-40 div.sk-label input.sk-toggleable__control:checked~label.sk-toggleable__label {background-color: #d4ebff;}#sk-container-id-40 input.sk-hidden--visually {border: 0;clip: rect(1px 1px 1px 1px);clip: rect(1px, 1px, 1px, 1px);height: 1px;margin: -1px;overflow: hidden;padding: 0;position: absolute;width: 1px;}#sk-container-id-40 div.sk-estimator {font-family: monospace;background-color: #f0f8ff;border: 1px dotted black;border-radius: 0.25em;box-sizing: border-box;margin-bottom: 0.5em;}#sk-container-id-40 div.sk-estimator:hover {background-color: #d4ebff;}#sk-container-id-40 div.sk-parallel-item::after {content: \"\";width: 100%;border-bottom: 1px solid gray;flex-grow: 1;}#sk-container-id-40 div.sk-label:hover label.sk-toggleable__label {background-color: #d4ebff;}#sk-container-id-40 div.sk-serial::before {content: \"\";position: absolute;border-left: 1px solid gray;box-sizing: border-box;top: 0;bottom: 0;left: 50%;z-index: 0;}#sk-container-id-40 div.sk-serial {display: flex;flex-direction: column;align-items: center;background-color: white;padding-right: 0.2em;padding-left: 0.2em;position: relative;}#sk-container-id-40 div.sk-item {position: relative;z-index: 1;}#sk-container-id-40 div.sk-parallel {display: flex;align-items: stretch;justify-content: center;background-color: white;position: relative;}#sk-container-id-40 div.sk-item::before, #sk-container-id-40 div.sk-parallel-item::before {content: \"\";position: absolute;border-left: 1px solid gray;box-sizing: border-box;top: 0;bottom: 0;left: 50%;z-index: -1;}#sk-container-id-40 div.sk-parallel-item {display: flex;flex-direction: column;z-index: 1;position: relative;background-color: white;}#sk-container-id-40 div.sk-parallel-item:first-child::after {align-self: flex-end;width: 50%;}#sk-container-id-40 div.sk-parallel-item:last-child::after {align-self: flex-start;width: 50%;}#sk-container-id-40 div.sk-parallel-item:only-child::after {width: 0;}#sk-container-id-40 div.sk-dashed-wrapped {border: 1px dashed gray;margin: 0 0.4em 0.5em 0.4em;box-sizing: border-box;padding-bottom: 0.4em;background-color: white;}#sk-container-id-40 div.sk-label label {font-family: monospace;font-weight: bold;display: inline-block;line-height: 1.2em;}#sk-container-id-40 div.sk-label-container {text-align: center;}#sk-container-id-40 div.sk-container {/* jupyter's `normalize.less` sets `[hidden] { display: none; }` but bootstrap.min.css set `[hidden] { display: none !important; }` so we also need the `!important` here to be able to override the default hidden behavior on the sphinx rendered scikit-learn.org. See: https://github.com/scikit-learn/scikit-learn/issues/21755 */display: inline-block !important;position: relative;}#sk-container-id-40 div.sk-text-repr-fallback {display: none;}</style><div id=\"sk-container-id-40\" class=\"sk-top-container\"><div class=\"sk-text-repr-fallback\"><pre>GridSearchCV(cv=10, estimator=ElasticNet(max_iter=10000),\n",
       "             param_grid={&#x27;alpha&#x27;: [0.2, 0.4, 0.6, 0.8, 1.0],\n",
       "                         &#x27;l1_ratio&#x27;: [0.2, 0.4, 0.6, 0.8, 1.0]},\n",
       "             scoring=&#x27;neg_root_mean_squared_error&#x27;, verbose=2)</pre><b>In a Jupyter environment, please rerun this cell to show the HTML representation or trust the notebook. <br />On GitHub, the HTML representation is unable to render, please try loading this page with nbviewer.org.</b></div><div class=\"sk-container\" hidden><div class=\"sk-item sk-dashed-wrapped\"><div class=\"sk-label-container\"><div class=\"sk-label sk-toggleable\"><input class=\"sk-toggleable__control sk-hidden--visually\" id=\"sk-estimator-id-48\" type=\"checkbox\" ><label for=\"sk-estimator-id-48\" class=\"sk-toggleable__label sk-toggleable__label-arrow\">GridSearchCV</label><div class=\"sk-toggleable__content\"><pre>GridSearchCV(cv=10, estimator=ElasticNet(max_iter=10000),\n",
       "             param_grid={&#x27;alpha&#x27;: [0.2, 0.4, 0.6, 0.8, 1.0],\n",
       "                         &#x27;l1_ratio&#x27;: [0.2, 0.4, 0.6, 0.8, 1.0]},\n",
       "             scoring=&#x27;neg_root_mean_squared_error&#x27;, verbose=2)</pre></div></div></div><div class=\"sk-parallel\"><div class=\"sk-parallel-item\"><div class=\"sk-item\"><div class=\"sk-label-container\"><div class=\"sk-label sk-toggleable\"><input class=\"sk-toggleable__control sk-hidden--visually\" id=\"sk-estimator-id-49\" type=\"checkbox\" ><label for=\"sk-estimator-id-49\" class=\"sk-toggleable__label sk-toggleable__label-arrow\">estimator: ElasticNet</label><div class=\"sk-toggleable__content\"><pre>ElasticNet(max_iter=10000)</pre></div></div></div><div class=\"sk-serial\"><div class=\"sk-item\"><div class=\"sk-estimator sk-toggleable\"><input class=\"sk-toggleable__control sk-hidden--visually\" id=\"sk-estimator-id-50\" type=\"checkbox\" ><label for=\"sk-estimator-id-50\" class=\"sk-toggleable__label sk-toggleable__label-arrow\">ElasticNet</label><div class=\"sk-toggleable__content\"><pre>ElasticNet(max_iter=10000)</pre></div></div></div></div></div></div></div></div></div></div>"
      ],
      "text/plain": [
       "GridSearchCV(cv=10, estimator=ElasticNet(max_iter=10000),\n",
       "             param_grid={'alpha': [0.2, 0.4, 0.6, 0.8, 1.0],\n",
       "                         'l1_ratio': [0.2, 0.4, 0.6, 0.8, 1.0]},\n",
       "             scoring='neg_root_mean_squared_error', verbose=2)"
      ]
     },
     "execution_count": 578,
     "metadata": {},
     "output_type": "execute_result"
    }
   ],
   "source": [
    "grid_model.fit(x_train, y_train)"
   ]
  },
  {
   "cell_type": "code",
   "execution_count": 579,
   "metadata": {},
   "outputs": [
    {
     "data": {
      "text/plain": [
       "{'alpha': 1.0, 'l1_ratio': 1.0}"
      ]
     },
     "execution_count": 579,
     "metadata": {},
     "output_type": "execute_result"
    }
   ],
   "source": [
    "grid_model.best_params_"
   ]
  },
  {
   "cell_type": "code",
   "execution_count": null,
   "metadata": {},
   "outputs": [],
   "source": [
    "pd.DataFrame(grid_model.cv_results_)"
   ]
  },
  {
   "cell_type": "markdown",
   "metadata": {},
   "source": [
    "### Using Best Model & GridSearchCV (ElasticNet & GridSearchCV)"
   ]
  },
  {
   "cell_type": "code",
   "execution_count": 581,
   "metadata": {},
   "outputs": [],
   "source": [
    "y_train_pred = grid_model.predict(x_train)"
   ]
  },
  {
   "cell_type": "code",
   "execution_count": 582,
   "metadata": {},
   "outputs": [],
   "source": [
    "y_test_pred = grid_model.predict(x_test)"
   ]
  },
  {
   "cell_type": "code",
   "execution_count": 583,
   "metadata": {},
   "outputs": [
    {
     "name": "stdout",
     "output_type": "stream",
     "text": [
      "Model testing performance:\n",
      "--------------------------\n",
      "R2_score \t: 0.016730455748993567\n",
      "MAE \t\t: 10.241878990509965\n",
      "MSE \t\t: 141.72907411010186\n",
      "RMSE \t\t: 11.905002062582849\n"
     ]
    }
   ],
   "source": [
    "eval_metrics(y_train, y_train_pred)"
   ]
  },
  {
   "cell_type": "code",
   "execution_count": 584,
   "metadata": {},
   "outputs": [
    {
     "name": "stdout",
     "output_type": "stream",
     "text": [
      "Model testing performance:\n",
      "--------------------------\n",
      "R2_score \t: -0.09493134520153301\n",
      "MAE \t\t: 11.005285798594786\n",
      "MSE \t\t: 149.23792576058537\n",
      "RMSE \t\t: 12.216297547153367\n"
     ]
    }
   ],
   "source": [
    "eval_metrics(y_test, y_test_pred)"
   ]
  },
  {
   "cell_type": "code",
   "execution_count": 585,
   "metadata": {},
   "outputs": [
    {
     "data": {
      "text/html": [
       "<div>\n",
       "<style scoped>\n",
       "    .dataframe tbody tr th:only-of-type {\n",
       "        vertical-align: middle;\n",
       "    }\n",
       "\n",
       "    .dataframe tbody tr th {\n",
       "        vertical-align: top;\n",
       "    }\n",
       "\n",
       "    .dataframe thead th {\n",
       "        text-align: right;\n",
       "    }\n",
       "</style>\n",
       "<table border=\"1\" class=\"dataframe\">\n",
       "  <thead>\n",
       "    <tr style=\"text-align: right;\">\n",
       "      <th></th>\n",
       "      <th>elastic_GrdCV_train</th>\n",
       "      <th>elastic_GrdCV_test</th>\n",
       "    </tr>\n",
       "  </thead>\n",
       "  <tbody>\n",
       "    <tr>\n",
       "      <th>rmse</th>\n",
       "      <td>11.905002</td>\n",
       "      <td>12.216298</td>\n",
       "    </tr>\n",
       "    <tr>\n",
       "      <th>mae</th>\n",
       "      <td>10.241879</td>\n",
       "      <td>11.005286</td>\n",
       "    </tr>\n",
       "    <tr>\n",
       "      <th>mse</th>\n",
       "      <td>141.729074</td>\n",
       "      <td>149.237926</td>\n",
       "    </tr>\n",
       "    <tr>\n",
       "      <th>R2</th>\n",
       "      <td>0.016730</td>\n",
       "      <td>-0.094931</td>\n",
       "    </tr>\n",
       "  </tbody>\n",
       "</table>\n",
       "</div>"
      ],
      "text/plain": [
       "      elastic_GrdCV_train  elastic_GrdCV_test\n",
       "rmse            11.905002           12.216298\n",
       "mae             10.241879           11.005286\n",
       "mse            141.729074          149.237926\n",
       "R2               0.016730           -0.094931"
      ]
     },
     "execution_count": 585,
     "metadata": {},
     "output_type": "execute_result"
    }
   ],
   "source": [
    "elastic_GrdCV_scores = {\"elastic_GrdCV_train\": {\"rmse\" : np.sqrt(mean_squared_error(y_train, y_train_pred)),\n",
    "                                                \"mae\" : mean_absolute_error(y_train, y_train_pred),\n",
    "                                                \"mse\" : mean_squared_error(y_train, y_train_pred),\n",
    "                                                \"R2\" : r2_score(y_train, y_train_pred)}, \n",
    "\n",
    "                        \"elastic_GrdCV_test\": {\"rmse\" : np.sqrt(mean_squared_error(y_test, y_test_pred)),\n",
    "                                               \"mae\" : mean_absolute_error(y_test, y_test_pred),\n",
    "                                               \"mse\" : mean_squared_error(y_test, y_test_pred),\n",
    "                                               \"R2\" : r2_score(y_test, y_test_pred)}}\n",
    "egrds = pd.DataFrame(elastic_GrdCV_scores)\n",
    "egrds"
   ]
  },
  {
   "cell_type": "code",
   "execution_count": 586,
   "metadata": {},
   "outputs": [
    {
     "data": {
      "text/html": [
       "<div>\n",
       "<style scoped>\n",
       "    .dataframe tbody tr th:only-of-type {\n",
       "        vertical-align: middle;\n",
       "    }\n",
       "\n",
       "    .dataframe tbody tr th {\n",
       "        vertical-align: top;\n",
       "    }\n",
       "\n",
       "    .dataframe thead th {\n",
       "        text-align: right;\n",
       "    }\n",
       "</style>\n",
       "<table border=\"1\" class=\"dataframe\">\n",
       "  <thead>\n",
       "    <tr style=\"text-align: right;\">\n",
       "      <th></th>\n",
       "      <th>lm_train</th>\n",
       "      <th>lm_test</th>\n",
       "      <th>ridge_train</th>\n",
       "      <th>ridge_test</th>\n",
       "      <th>ridge_cv_train</th>\n",
       "      <th>ridge_cv_test</th>\n",
       "      <th>lasso_train</th>\n",
       "      <th>lasso_test</th>\n",
       "      <th>lasso_cv_train</th>\n",
       "      <th>lasso_cv_test</th>\n",
       "      <th>elastic_train</th>\n",
       "      <th>elastic_test</th>\n",
       "      <th>elastic_cv_train</th>\n",
       "      <th>elastic_cv_test</th>\n",
       "      <th>elastic_GrdCV_train</th>\n",
       "      <th>elastic_GrdCV_test</th>\n",
       "    </tr>\n",
       "  </thead>\n",
       "  <tbody>\n",
       "    <tr>\n",
       "      <th>rmse</th>\n",
       "      <td>7.059588</td>\n",
       "      <td>26.563467</td>\n",
       "      <td>10.540857</td>\n",
       "      <td>13.908838</td>\n",
       "      <td>10.540857</td>\n",
       "      <td>13.908838</td>\n",
       "      <td>11.905002</td>\n",
       "      <td>12.216298</td>\n",
       "      <td>11.905002</td>\n",
       "      <td>12.216298</td>\n",
       "      <td>11.870665</td>\n",
       "      <td>12.298908</td>\n",
       "      <td>11.905002</td>\n",
       "      <td>12.216298</td>\n",
       "      <td>11.905002</td>\n",
       "      <td>12.216298</td>\n",
       "    </tr>\n",
       "    <tr>\n",
       "      <th>mae</th>\n",
       "      <td>5.463841</td>\n",
       "      <td>21.993898</td>\n",
       "      <td>8.906782</td>\n",
       "      <td>12.124243</td>\n",
       "      <td>8.906782</td>\n",
       "      <td>12.124243</td>\n",
       "      <td>10.241879</td>\n",
       "      <td>11.005286</td>\n",
       "      <td>10.241879</td>\n",
       "      <td>11.005286</td>\n",
       "      <td>10.202011</td>\n",
       "      <td>11.085887</td>\n",
       "      <td>10.241879</td>\n",
       "      <td>11.005286</td>\n",
       "      <td>10.241879</td>\n",
       "      <td>11.005286</td>\n",
       "    </tr>\n",
       "    <tr>\n",
       "      <th>mse</th>\n",
       "      <td>49.837778</td>\n",
       "      <td>705.617775</td>\n",
       "      <td>111.109661</td>\n",
       "      <td>193.455782</td>\n",
       "      <td>111.109661</td>\n",
       "      <td>193.455782</td>\n",
       "      <td>141.729074</td>\n",
       "      <td>149.237926</td>\n",
       "      <td>141.729074</td>\n",
       "      <td>149.237926</td>\n",
       "      <td>140.912688</td>\n",
       "      <td>151.263145</td>\n",
       "      <td>141.729074</td>\n",
       "      <td>149.237926</td>\n",
       "      <td>141.729074</td>\n",
       "      <td>149.237926</td>\n",
       "    </tr>\n",
       "    <tr>\n",
       "      <th>R2</th>\n",
       "      <td>0.654242</td>\n",
       "      <td>-4.176988</td>\n",
       "      <td>0.229158</td>\n",
       "      <td>-0.419350</td>\n",
       "      <td>0.229158</td>\n",
       "      <td>-0.419350</td>\n",
       "      <td>0.016730</td>\n",
       "      <td>-0.094931</td>\n",
       "      <td>0.016730</td>\n",
       "      <td>-0.094931</td>\n",
       "      <td>0.022394</td>\n",
       "      <td>-0.109790</td>\n",
       "      <td>0.016730</td>\n",
       "      <td>-0.094931</td>\n",
       "      <td>0.016730</td>\n",
       "      <td>-0.094931</td>\n",
       "    </tr>\n",
       "  </tbody>\n",
       "</table>\n",
       "</div>"
      ],
      "text/plain": [
       "       lm_train     lm_test  ridge_train  ridge_test  ridge_cv_train  \\\n",
       "rmse   7.059588   26.563467    10.540857   13.908838       10.540857   \n",
       "mae    5.463841   21.993898     8.906782   12.124243        8.906782   \n",
       "mse   49.837778  705.617775   111.109661  193.455782      111.109661   \n",
       "R2     0.654242   -4.176988     0.229158   -0.419350        0.229158   \n",
       "\n",
       "      ridge_cv_test  lasso_train  lasso_test  lasso_cv_train  lasso_cv_test  \\\n",
       "rmse      13.908838    11.905002   12.216298       11.905002      12.216298   \n",
       "mae       12.124243    10.241879   11.005286       10.241879      11.005286   \n",
       "mse      193.455782   141.729074  149.237926      141.729074     149.237926   \n",
       "R2        -0.419350     0.016730   -0.094931        0.016730      -0.094931   \n",
       "\n",
       "      elastic_train  elastic_test  elastic_cv_train  elastic_cv_test  \\\n",
       "rmse      11.870665     12.298908         11.905002        12.216298   \n",
       "mae       10.202011     11.085887         10.241879        11.005286   \n",
       "mse      140.912688    151.263145        141.729074       149.237926   \n",
       "R2         0.022394     -0.109790          0.016730        -0.094931   \n",
       "\n",
       "      elastic_GrdCV_train  elastic_GrdCV_test  \n",
       "rmse            11.905002           12.216298  \n",
       "mae             10.241879           11.005286  \n",
       "mse            141.729074          149.237926  \n",
       "R2               0.016730           -0.094931  "
      ]
     },
     "execution_count": 586,
     "metadata": {},
     "output_type": "execute_result"
    }
   ],
   "source": [
    "final_scores = pd.concat([ls,rs, rcs, lss, lcs, es, ecs, egrds], axis = 1)\n",
    "final_scores"
   ]
  },
  {
   "cell_type": "markdown",
   "metadata": {},
   "source": [
    "### Comparing Scores With Graph"
   ]
  },
  {
   "cell_type": "code",
   "execution_count": 587,
   "metadata": {},
   "outputs": [
    {
     "data": {
      "text/html": [
       "<div>\n",
       "<style scoped>\n",
       "    .dataframe tbody tr th:only-of-type {\n",
       "        vertical-align: middle;\n",
       "    }\n",
       "\n",
       "    .dataframe tbody tr th {\n",
       "        vertical-align: top;\n",
       "    }\n",
       "\n",
       "    .dataframe thead th {\n",
       "        text-align: right;\n",
       "    }\n",
       "</style>\n",
       "<table border=\"1\" class=\"dataframe\">\n",
       "  <thead>\n",
       "    <tr style=\"text-align: right;\">\n",
       "      <th></th>\n",
       "      <th>rmse</th>\n",
       "      <th>mae</th>\n",
       "      <th>mse</th>\n",
       "      <th>R2</th>\n",
       "    </tr>\n",
       "  </thead>\n",
       "  <tbody>\n",
       "    <tr>\n",
       "      <th>lm_train</th>\n",
       "      <td>7.059588</td>\n",
       "      <td>5.463841</td>\n",
       "      <td>49.837778</td>\n",
       "      <td>0.654242</td>\n",
       "    </tr>\n",
       "    <tr>\n",
       "      <th>lm_test</th>\n",
       "      <td>26.563467</td>\n",
       "      <td>21.993898</td>\n",
       "      <td>705.617775</td>\n",
       "      <td>-4.176988</td>\n",
       "    </tr>\n",
       "    <tr>\n",
       "      <th>ridge_train</th>\n",
       "      <td>10.540857</td>\n",
       "      <td>8.906782</td>\n",
       "      <td>111.109661</td>\n",
       "      <td>0.229158</td>\n",
       "    </tr>\n",
       "    <tr>\n",
       "      <th>ridge_test</th>\n",
       "      <td>13.908838</td>\n",
       "      <td>12.124243</td>\n",
       "      <td>193.455782</td>\n",
       "      <td>-0.419350</td>\n",
       "    </tr>\n",
       "    <tr>\n",
       "      <th>ridge_cv_train</th>\n",
       "      <td>10.540857</td>\n",
       "      <td>8.906782</td>\n",
       "      <td>111.109661</td>\n",
       "      <td>0.229158</td>\n",
       "    </tr>\n",
       "    <tr>\n",
       "      <th>ridge_cv_test</th>\n",
       "      <td>13.908838</td>\n",
       "      <td>12.124243</td>\n",
       "      <td>193.455782</td>\n",
       "      <td>-0.419350</td>\n",
       "    </tr>\n",
       "    <tr>\n",
       "      <th>lasso_train</th>\n",
       "      <td>11.905002</td>\n",
       "      <td>10.241879</td>\n",
       "      <td>141.729074</td>\n",
       "      <td>0.016730</td>\n",
       "    </tr>\n",
       "    <tr>\n",
       "      <th>lasso_test</th>\n",
       "      <td>12.216298</td>\n",
       "      <td>11.005286</td>\n",
       "      <td>149.237926</td>\n",
       "      <td>-0.094931</td>\n",
       "    </tr>\n",
       "    <tr>\n",
       "      <th>lasso_cv_train</th>\n",
       "      <td>11.905002</td>\n",
       "      <td>10.241879</td>\n",
       "      <td>141.729074</td>\n",
       "      <td>0.016730</td>\n",
       "    </tr>\n",
       "    <tr>\n",
       "      <th>lasso_cv_test</th>\n",
       "      <td>12.216298</td>\n",
       "      <td>11.005286</td>\n",
       "      <td>149.237926</td>\n",
       "      <td>-0.094931</td>\n",
       "    </tr>\n",
       "    <tr>\n",
       "      <th>elastic_train</th>\n",
       "      <td>11.870665</td>\n",
       "      <td>10.202011</td>\n",
       "      <td>140.912688</td>\n",
       "      <td>0.022394</td>\n",
       "    </tr>\n",
       "    <tr>\n",
       "      <th>elastic_test</th>\n",
       "      <td>12.298908</td>\n",
       "      <td>11.085887</td>\n",
       "      <td>151.263145</td>\n",
       "      <td>-0.109790</td>\n",
       "    </tr>\n",
       "    <tr>\n",
       "      <th>elastic_cv_train</th>\n",
       "      <td>11.905002</td>\n",
       "      <td>10.241879</td>\n",
       "      <td>141.729074</td>\n",
       "      <td>0.016730</td>\n",
       "    </tr>\n",
       "    <tr>\n",
       "      <th>elastic_cv_test</th>\n",
       "      <td>12.216298</td>\n",
       "      <td>11.005286</td>\n",
       "      <td>149.237926</td>\n",
       "      <td>-0.094931</td>\n",
       "    </tr>\n",
       "    <tr>\n",
       "      <th>elastic_GrdCV_train</th>\n",
       "      <td>11.905002</td>\n",
       "      <td>10.241879</td>\n",
       "      <td>141.729074</td>\n",
       "      <td>0.016730</td>\n",
       "    </tr>\n",
       "    <tr>\n",
       "      <th>elastic_GrdCV_test</th>\n",
       "      <td>12.216298</td>\n",
       "      <td>11.005286</td>\n",
       "      <td>149.237926</td>\n",
       "      <td>-0.094931</td>\n",
       "    </tr>\n",
       "  </tbody>\n",
       "</table>\n",
       "</div>"
      ],
      "text/plain": [
       "                          rmse        mae         mse        R2\n",
       "lm_train              7.059588   5.463841   49.837778  0.654242\n",
       "lm_test              26.563467  21.993898  705.617775 -4.176988\n",
       "ridge_train          10.540857   8.906782  111.109661  0.229158\n",
       "ridge_test           13.908838  12.124243  193.455782 -0.419350\n",
       "ridge_cv_train       10.540857   8.906782  111.109661  0.229158\n",
       "ridge_cv_test        13.908838  12.124243  193.455782 -0.419350\n",
       "lasso_train          11.905002  10.241879  141.729074  0.016730\n",
       "lasso_test           12.216298  11.005286  149.237926 -0.094931\n",
       "lasso_cv_train       11.905002  10.241879  141.729074  0.016730\n",
       "lasso_cv_test        12.216298  11.005286  149.237926 -0.094931\n",
       "elastic_train        11.870665  10.202011  140.912688  0.022394\n",
       "elastic_test         12.298908  11.085887  151.263145 -0.109790\n",
       "elastic_cv_train     11.905002  10.241879  141.729074  0.016730\n",
       "elastic_cv_test      12.216298  11.005286  149.237926 -0.094931\n",
       "elastic_GrdCV_train  11.905002  10.241879  141.729074  0.016730\n",
       "elastic_GrdCV_test   12.216298  11.005286  149.237926 -0.094931"
      ]
     },
     "execution_count": 587,
     "metadata": {},
     "output_type": "execute_result"
    }
   ],
   "source": [
    "final_scores = final_scores.T\n",
    "final_scores"
   ]
  },
  {
   "cell_type": "code",
   "execution_count": 588,
   "metadata": {},
   "outputs": [
    {
     "data": {
      "image/png": "[encoded data removed]",
      "text/plain": [
       "<Figure size 640x480 with 1 Axes>"
      ]
     },
     "metadata": {},
     "output_type": "display_data"
    },
    {
     "data": {
      "image/png": "[encoded data removed]",
      "text/plain": [
       "<Figure size 640x480 with 1 Axes>"
      ]
     },
     "metadata": {},
     "output_type": "display_data"
    },
    {
     "data": {
      "image/png": "[encoded data removed]",
      "text/plain": [
       "<Figure size 640x480 with 1 Axes>"
      ]
     },
     "metadata": {},
     "output_type": "display_data"
    },
    {
     "data": {
      "image/png": "[encoded data removed]",
      "text/plain": [
       "<Figure size 640x480 with 1 Axes>"
      ]
     },
     "metadata": {},
     "output_type": "display_data"
    }
   ],
   "source": [
    "metrics = final_scores.columns\n",
    "for i,j in enumerate(metrics):\n",
    "    plt.figure(i)\n",
    "    if j == \"R2\":\n",
    "        ascending = False\n",
    "    else:\n",
    "        ascending = True\n",
    "    compare = final_scores.sort_values(by=j, ascending=ascending)\n",
    "    ax = sns.barplot(x = compare[j] , y= compare.index)\n",
    "    for p in ax.patches:\n",
    "            width = p.get_width()                        # get bar length\n",
    "            ax.text(width,                               # set the text at 1 unit right of the bar\n",
    "                    p.get_y() + p.get_height() / 2,      # get Y coordinate + X coordinate / 2\n",
    "                    '{:.4f}'.format(width),             # set variable to display, 2 decimals\n",
    "                    ha = 'left',                         # horizontal alignment\n",
    "                    va = 'center') "
   ]
  },
  {
   "cell_type": "markdown",
   "metadata": {},
   "source": [
    "### Feature importances with Ridge"
   ]
  },
  {
   "cell_type": "code",
   "execution_count": null,
   "metadata": {},
   "outputs": [],
   "source": [
    "from yellowbrick.model_selection import FeatureImportances\n",
    "from yellowbrick.features import RadViz\n",
    "\n",
    "viz = FeatureImportances(ridge_cv_model, labels=pd.DataFrame(x_train).columns)\n",
    "visualizer = RadViz(size=(720, 3000))\n",
    "viz.fit(x_train, y_train)\n",
    "viz.show()"
   ]
  },
  {
   "cell_type": "markdown",
   "metadata": {},
   "source": [
    "### Feature importances with Lasso"
   ]
  },
  {
   "cell_type": "code",
   "execution_count": null,
   "metadata": {},
   "outputs": [],
   "source": [
    "from yellowbrick.model_selection import FeatureImportances\n",
    "from yellowbrick.features import RadViz\n",
    "\n",
    "viz = FeatureImportances(lasso_cv_model, labels=pd.DataFrame(x_train).columns)\n",
    "visualizer = RadViz(size=(720, 3000))\n",
    "viz.fit(x_train, y_train)\n",
    "viz.show()"
   ]
  },
  {
   "cell_type": "markdown",
   "metadata": {},
   "source": [
    "### Final Model"
   ]
  },
  {
   "cell_type": "code",
   "execution_count": 591,
   "metadata": {},
   "outputs": [],
   "source": [
    "columns_name = x.columns"
   ]
  },
  {
   "cell_type": "code",
   "execution_count": 592,
   "metadata": {},
   "outputs": [],
   "source": [
    "final_scaler = StandardScaler()"
   ]
  },
  {
   "cell_type": "code",
   "execution_count": 593,
   "metadata": {},
   "outputs": [
    {
     "data": {
      "text/html": [
       "<style>#sk-container-id-41 {color: black;background-color: white;}#sk-container-id-41 pre{padding: 0;}#sk-container-id-41 div.sk-toggleable {background-color: white;}#sk-container-id-41 label.sk-toggleable__label {cursor: pointer;display: block;width: 100%;margin-bottom: 0;padding: 0.3em;box-sizing: border-box;text-align: center;}#sk-container-id-41 label.sk-toggleable__label-arrow:before {content: \"▸\";float: left;margin-right: 0.25em;color: #696969;}#sk-container-id-41 label.sk-toggleable__label-arrow:hover:before {color: black;}#sk-container-id-41 div.sk-estimator:hover label.sk-toggleable__label-arrow:before {color: black;}#sk-container-id-41 div.sk-toggleable__content {max-height: 0;max-width: 0;overflow: hidden;text-align: left;background-color: #f0f8ff;}#sk-container-id-41 div.sk-toggleable__content pre {margin: 0.2em;color: black;border-radius: 0.25em;background-color: #f0f8ff;}#sk-container-id-41 input.sk-toggleable__control:checked~div.sk-toggleable__content {max-height: 200px;max-width: 100%;overflow: auto;}#sk-container-id-41 input.sk-toggleable__control:checked~label.sk-toggleable__label-arrow:before {content: \"▾\";}#sk-container-id-41 div.sk-estimator input.sk-toggleable__control:checked~label.sk-toggleable__label {background-color: #d4ebff;}#sk-container-id-41 div.sk-label input.sk-toggleable__control:checked~label.sk-toggleable__label {background-color: #d4ebff;}#sk-container-id-41 input.sk-hidden--visually {border: 0;clip: rect(1px 1px 1px 1px);clip: rect(1px, 1px, 1px, 1px);height: 1px;margin: -1px;overflow: hidden;padding: 0;position: absolute;width: 1px;}#sk-container-id-41 div.sk-estimator {font-family: monospace;background-color: #f0f8ff;border: 1px dotted black;border-radius: 0.25em;box-sizing: border-box;margin-bottom: 0.5em;}#sk-container-id-41 div.sk-estimator:hover {background-color: #d4ebff;}#sk-container-id-41 div.sk-parallel-item::after {content: \"\";width: 100%;border-bottom: 1px solid gray;flex-grow: 1;}#sk-container-id-41 div.sk-label:hover label.sk-toggleable__label {background-color: #d4ebff;}#sk-container-id-41 div.sk-serial::before {content: \"\";position: absolute;border-left: 1px solid gray;box-sizing: border-box;top: 0;bottom: 0;left: 50%;z-index: 0;}#sk-container-id-41 div.sk-serial {display: flex;flex-direction: column;align-items: center;background-color: white;padding-right: 0.2em;padding-left: 0.2em;position: relative;}#sk-container-id-41 div.sk-item {position: relative;z-index: 1;}#sk-container-id-41 div.sk-parallel {display: flex;align-items: stretch;justify-content: center;background-color: white;position: relative;}#sk-container-id-41 div.sk-item::before, #sk-container-id-41 div.sk-parallel-item::before {content: \"\";position: absolute;border-left: 1px solid gray;box-sizing: border-box;top: 0;bottom: 0;left: 50%;z-index: -1;}#sk-container-id-41 div.sk-parallel-item {display: flex;flex-direction: column;z-index: 1;position: relative;background-color: white;}#sk-container-id-41 div.sk-parallel-item:first-child::after {align-self: flex-end;width: 50%;}#sk-container-id-41 div.sk-parallel-item:last-child::after {align-self: flex-start;width: 50%;}#sk-container-id-41 div.sk-parallel-item:only-child::after {width: 0;}#sk-container-id-41 div.sk-dashed-wrapped {border: 1px dashed gray;margin: 0 0.4em 0.5em 0.4em;box-sizing: border-box;padding-bottom: 0.4em;background-color: white;}#sk-container-id-41 div.sk-label label {font-family: monospace;font-weight: bold;display: inline-block;line-height: 1.2em;}#sk-container-id-41 div.sk-label-container {text-align: center;}#sk-container-id-41 div.sk-container {/* jupyter's `normalize.less` sets `[hidden] { display: none; }` but bootstrap.min.css set `[hidden] { display: none !important; }` so we also need the `!important` here to be able to override the default hidden behavior on the sphinx rendered scikit-learn.org. See: https://github.com/scikit-learn/scikit-learn/issues/21755 */display: inline-block !important;position: relative;}#sk-container-id-41 div.sk-text-repr-fallback {display: none;}</style><div id=\"sk-container-id-41\" class=\"sk-top-container\"><div class=\"sk-text-repr-fallback\"><pre>StandardScaler()</pre><b>In a Jupyter environment, please rerun this cell to show the HTML representation or trust the notebook. <br />On GitHub, the HTML representation is unable to render, please try loading this page with nbviewer.org.</b></div><div class=\"sk-container\" hidden><div class=\"sk-item\"><div class=\"sk-estimator sk-toggleable\"><input class=\"sk-toggleable__control sk-hidden--visually\" id=\"sk-estimator-id-51\" type=\"checkbox\" checked><label for=\"sk-estimator-id-51\" class=\"sk-toggleable__label sk-toggleable__label-arrow\">StandardScaler</label><div class=\"sk-toggleable__content\"><pre>StandardScaler()</pre></div></div></div></div></div>"
      ],
      "text/plain": [
       "StandardScaler()"
      ]
     },
     "execution_count": 593,
     "metadata": {},
     "output_type": "execute_result"
    }
   ],
   "source": [
    "final_scaler.fit(x)"
   ]
  },
  {
   "cell_type": "code",
   "execution_count": 594,
   "metadata": {},
   "outputs": [],
   "source": [
    "x = final_scaler.transform(x)"
   ]
  },
  {
   "cell_type": "code",
   "execution_count": 595,
   "metadata": {},
   "outputs": [],
   "source": [
    "lasso_cv_final_model = LassoCV(cv=10, max_iter=100000)"
   ]
  },
  {
   "cell_type": "code",
   "execution_count": 596,
   "metadata": {},
   "outputs": [
    {
     "data": {
      "text/html": [
       "<style>#sk-container-id-42 {color: black;background-color: white;}#sk-container-id-42 pre{padding: 0;}#sk-container-id-42 div.sk-toggleable {background-color: white;}#sk-container-id-42 label.sk-toggleable__label {cursor: pointer;display: block;width: 100%;margin-bottom: 0;padding: 0.3em;box-sizing: border-box;text-align: center;}#sk-container-id-42 label.sk-toggleable__label-arrow:before {content: \"▸\";float: left;margin-right: 0.25em;color: #696969;}#sk-container-id-42 label.sk-toggleable__label-arrow:hover:before {color: black;}#sk-container-id-42 div.sk-estimator:hover label.sk-toggleable__label-arrow:before {color: black;}#sk-container-id-42 div.sk-toggleable__content {max-height: 0;max-width: 0;overflow: hidden;text-align: left;background-color: #f0f8ff;}#sk-container-id-42 div.sk-toggleable__content pre {margin: 0.2em;color: black;border-radius: 0.25em;background-color: #f0f8ff;}#sk-container-id-42 input.sk-toggleable__control:checked~div.sk-toggleable__content {max-height: 200px;max-width: 100%;overflow: auto;}#sk-container-id-42 input.sk-toggleable__control:checked~label.sk-toggleable__label-arrow:before {content: \"▾\";}#sk-container-id-42 div.sk-estimator input.sk-toggleable__control:checked~label.sk-toggleable__label {background-color: #d4ebff;}#sk-container-id-42 div.sk-label input.sk-toggleable__control:checked~label.sk-toggleable__label {background-color: #d4ebff;}#sk-container-id-42 input.sk-hidden--visually {border: 0;clip: rect(1px 1px 1px 1px);clip: rect(1px, 1px, 1px, 1px);height: 1px;margin: -1px;overflow: hidden;padding: 0;position: absolute;width: 1px;}#sk-container-id-42 div.sk-estimator {font-family: monospace;background-color: #f0f8ff;border: 1px dotted black;border-radius: 0.25em;box-sizing: border-box;margin-bottom: 0.5em;}#sk-container-id-42 div.sk-estimator:hover {background-color: #d4ebff;}#sk-container-id-42 div.sk-parallel-item::after {content: \"\";width: 100%;border-bottom: 1px solid gray;flex-grow: 1;}#sk-container-id-42 div.sk-label:hover label.sk-toggleable__label {background-color: #d4ebff;}#sk-container-id-42 div.sk-serial::before {content: \"\";position: absolute;border-left: 1px solid gray;box-sizing: border-box;top: 0;bottom: 0;left: 50%;z-index: 0;}#sk-container-id-42 div.sk-serial {display: flex;flex-direction: column;align-items: center;background-color: white;padding-right: 0.2em;padding-left: 0.2em;position: relative;}#sk-container-id-42 div.sk-item {position: relative;z-index: 1;}#sk-container-id-42 div.sk-parallel {display: flex;align-items: stretch;justify-content: center;background-color: white;position: relative;}#sk-container-id-42 div.sk-item::before, #sk-container-id-42 div.sk-parallel-item::before {content: \"\";position: absolute;border-left: 1px solid gray;box-sizing: border-box;top: 0;bottom: 0;left: 50%;z-index: -1;}#sk-container-id-42 div.sk-parallel-item {display: flex;flex-direction: column;z-index: 1;position: relative;background-color: white;}#sk-container-id-42 div.sk-parallel-item:first-child::after {align-self: flex-end;width: 50%;}#sk-container-id-42 div.sk-parallel-item:last-child::after {align-self: flex-start;width: 50%;}#sk-container-id-42 div.sk-parallel-item:only-child::after {width: 0;}#sk-container-id-42 div.sk-dashed-wrapped {border: 1px dashed gray;margin: 0 0.4em 0.5em 0.4em;box-sizing: border-box;padding-bottom: 0.4em;background-color: white;}#sk-container-id-42 div.sk-label label {font-family: monospace;font-weight: bold;display: inline-block;line-height: 1.2em;}#sk-container-id-42 div.sk-label-container {text-align: center;}#sk-container-id-42 div.sk-container {/* jupyter's `normalize.less` sets `[hidden] { display: none; }` but bootstrap.min.css set `[hidden] { display: none !important; }` so we also need the `!important` here to be able to override the default hidden behavior on the sphinx rendered scikit-learn.org. See: https://github.com/scikit-learn/scikit-learn/issues/21755 */display: inline-block !important;position: relative;}#sk-container-id-42 div.sk-text-repr-fallback {display: none;}</style><div id=\"sk-container-id-42\" class=\"sk-top-container\"><div class=\"sk-text-repr-fallback\"><pre>LassoCV(cv=10, max_iter=100000)</pre><b>In a Jupyter environment, please rerun this cell to show the HTML representation or trust the notebook. <br />On GitHub, the HTML representation is unable to render, please try loading this page with nbviewer.org.</b></div><div class=\"sk-container\" hidden><div class=\"sk-item\"><div class=\"sk-estimator sk-toggleable\"><input class=\"sk-toggleable__control sk-hidden--visually\" id=\"sk-estimator-id-52\" type=\"checkbox\" checked><label for=\"sk-estimator-id-52\" class=\"sk-toggleable__label sk-toggleable__label-arrow\">LassoCV</label><div class=\"sk-toggleable__content\"><pre>LassoCV(cv=10, max_iter=100000)</pre></div></div></div></div></div>"
      ],
      "text/plain": [
       "LassoCV(cv=10, max_iter=100000)"
      ]
     },
     "execution_count": 596,
     "metadata": {},
     "output_type": "execute_result"
    }
   ],
   "source": [
    "lasso_cv_final_model.fit(x,y)"
   ]
  },
  {
   "cell_type": "code",
   "execution_count": 597,
   "metadata": {},
   "outputs": [],
   "source": [
    "y_pred = lasso_cv_final_model.predict(x)"
   ]
  },
  {
   "cell_type": "code",
   "execution_count": 598,
   "metadata": {},
   "outputs": [
    {
     "name": "stdout",
     "output_type": "stream",
     "text": [
      "Model testing performance:\n",
      "--------------------------\n",
      "R2_score \t: 0.0\n",
      "MAE \t\t: 10.52\n",
      "MSE \t\t: 144.76\n",
      "RMSE \t\t: 12.031624994156026\n"
     ]
    }
   ],
   "source": [
    "eval_metrics(y, y_pred)"
   ]
  },
  {
   "cell_type": "markdown",
   "metadata": {},
   "source": [
    "### Prediction"
   ]
  },
  {
   "cell_type": "code",
   "execution_count": 599,
   "metadata": {},
   "outputs": [
    {
     "data": {
      "text/html": [
       "<div>\n",
       "<style scoped>\n",
       "    .dataframe tbody tr th:only-of-type {\n",
       "        vertical-align: middle;\n",
       "    }\n",
       "\n",
       "    .dataframe tbody tr th {\n",
       "        vertical-align: top;\n",
       "    }\n",
       "\n",
       "    .dataframe thead th {\n",
       "        text-align: right;\n",
       "    }\n",
       "</style>\n",
       "<table border=\"1\" class=\"dataframe\">\n",
       "  <thead>\n",
       "    <tr style=\"text-align: right;\">\n",
       "      <th></th>\n",
       "      <th>Ling_Int</th>\n",
       "      <th>Math_Int</th>\n",
       "      <th>Spa_Int</th>\n",
       "      <th>Mus_Int</th>\n",
       "      <th>Nat_Int</th>\n",
       "      <th>Body_Int</th>\n",
       "      <th>Interp_Int</th>\n",
       "      <th>Intrap_Int</th>\n",
       "    </tr>\n",
       "  </thead>\n",
       "  <tbody>\n",
       "    <tr>\n",
       "      <th>0</th>\n",
       "      <td>35</td>\n",
       "      <td>36</td>\n",
       "      <td>34</td>\n",
       "      <td>37</td>\n",
       "      <td>15</td>\n",
       "      <td>17</td>\n",
       "      <td>19</td>\n",
       "      <td>21</td>\n",
       "    </tr>\n",
       "  </tbody>\n",
       "</table>\n",
       "</div>"
      ],
      "text/plain": [
       "   Ling_Int  Math_Int  Spa_Int  Mus_Int  Nat_Int  Body_Int  Interp_Int  \\\n",
       "0        35        36       34       37       15        17          19   \n",
       "\n",
       "   Intrap_Int  \n",
       "0          21  "
      ]
     },
     "execution_count": 599,
     "metadata": {},
     "output_type": "execute_result"
    }
   ],
   "source": [
    "pred = [[35, 36, 34, 37, 15, 17, 19, 21]]\n",
    "pred_data = pd.DataFrame(data=pred, columns=columns_name)\n",
    "pred_data"
   ]
  },
  {
   "cell_type": "code",
   "execution_count": 600,
   "metadata": {},
   "outputs": [
    {
     "data": {
      "text/plain": [
       "array([[ 5.6597664 ,  5.01792289,  5.33945537,  6.18372421, -0.84897172,\n",
       "        -0.07527099,  0.42783058,  1.02413127]])"
      ]
     },
     "execution_count": 600,
     "metadata": {},
     "output_type": "execute_result"
    }
   ],
   "source": [
    "my_dict = final_scaler.transform(pred_data)\n",
    "my_dict"
   ]
  },
  {
   "cell_type": "code",
   "execution_count": 601,
   "metadata": {},
   "outputs": [
    {
     "data": {
      "text/plain": [
       "array([75.])"
      ]
     },
     "execution_count": 601,
     "metadata": {},
     "output_type": "execute_result"
    }
   ],
   "source": [
    "lasso_cv_final_model.predict(my_dict)"
   ]
  },
  {
   "cell_type": "code",
   "execution_count": 602,
   "metadata": {},
   "outputs": [
    {
     "name": "stdout",
     "output_type": "stream",
     "text": [
      "MI_Cat\t\t: Mus_Int\n",
      "MI_Score\t: 37\n",
      "Flight_Score\t: 75\n",
      "Result\t\t: Pilot\n"
     ]
    }
   ],
   "source": [
    "MI_Cat = columns_name[np.argmax(pred_data)]\n",
    "MI_Score = max(pred[0])\n",
    "Flight_Score = lasso_cv_final_model.predict(my_dict)[0].astype(\"int\")\n",
    "\n",
    "if Flight_Score >= 70:\n",
    "    print(f\"MI_Cat\\t\\t: {MI_Cat}\\nMI_Score\\t: {MI_Score}\\nFlight_Score\\t: {Flight_Score}\\nResult\\t\\t: Pilot\")\n",
    "if Flight_Score < 70:\n",
    "    print(f\"MI_Cat\\t\\t: {MI_Cat}\\nMI_Score\\t: {MI_Score}\\nFlight_Score\\t: {Flight_Score}\\nResult\\t\\t: Not Pilot\")"
   ]
  },
  {
   "cell_type": "code",
   "execution_count": null,
   "metadata": {},
   "outputs": [],
   "source": []
  }
 ],
 "metadata": {
  "interpreter": {
   "hash": "78d5379cc5a4e608d385c34b2eb3bb89eeab02a92c9e7d486e469b4c860ee8ca"
  },
  "kernelspec": {
   "display_name": "Python 3.9.7 64-bit",
   "language": "python",
   "name": "python3"
  },
  "language_info": {
   "codemirror_mode": {
    "name": "ipython",
    "version": 3
   },
   "file_extension": ".py",
   "mimetype": "text/x-python",
   "name": "python",
   "nbconvert_exporter": "python",
   "pygments_lexer": "ipython3",
   "version": "3.9.12"
  },
  "orig_nbformat": 4
 },
 "nbformat": 4,
 "nbformat_minor": 2
}
