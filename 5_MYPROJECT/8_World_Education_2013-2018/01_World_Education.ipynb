{
 "cells": [
  {
   "cell_type": "markdown",
   "metadata": {},
   "source": [
    "World_Education Outlook (2013-2018)\n",
    "\n",
    "Objective:\n",
    "\n",
    "    1. This\n",
    "\n",
    "OECD Source Link: https://stats.oecd.org//Index.aspx?QueryId=113447"
   ]
  },
  {
   "cell_type": "code",
   "execution_count": 1,
   "metadata": {},
   "outputs": [],
   "source": [
    "import requests as rq\n",
    "import pandas as pd\n",
    "import re\n",
    "import html5lib\n",
    "from pandas.io.json import json_normalize\n",
    "import urllib.request"
   ]
  },
  {
   "cell_type": "code",
   "execution_count": 2,
   "metadata": {},
   "outputs": [],
   "source": [
    "df = pd.read_csv(\"World_Education.csv\")"
   ]
  },
  {
   "cell_type": "code",
   "execution_count": 3,
   "metadata": {},
   "outputs": [
    {
     "data": {
      "text/html": [
       "<div>\n",
       "<style scoped>\n",
       "    .dataframe tbody tr th:only-of-type {\n",
       "        vertical-align: middle;\n",
       "    }\n",
       "\n",
       "    .dataframe tbody tr th {\n",
       "        vertical-align: top;\n",
       "    }\n",
       "\n",
       "    .dataframe thead th {\n",
       "        text-align: right;\n",
       "    }\n",
       "</style>\n",
       "<table border=\"1\" class=\"dataframe\">\n",
       "  <thead>\n",
       "    <tr style=\"text-align: right;\">\n",
       "      <th></th>\n",
       "      <th>COUNTRY</th>\n",
       "      <th>Country</th>\n",
       "      <th>VARIABLE</th>\n",
       "      <th>Variable</th>\n",
       "      <th>UNIT</th>\n",
       "      <th>Unit</th>\n",
       "      <th>MEASURE</th>\n",
       "      <th>Measure</th>\n",
       "      <th>TIME</th>\n",
       "      <th>Time</th>\n",
       "      <th>Value</th>\n",
       "      <th>Flag Codes</th>\n",
       "      <th>Flags</th>\n",
       "    </tr>\n",
       "  </thead>\n",
       "  <tbody>\n",
       "    <tr>\n",
       "      <th>0</th>\n",
       "      <td>CAB</td>\n",
       "      <td>Alberta (Canada)</td>\n",
       "      <td>1_T000</td>\n",
       "      <td>Female teachers</td>\n",
       "      <td>PERCENTAGE</td>\n",
       "      <td>Percentage</td>\n",
       "      <td>VAL</td>\n",
       "      <td>Value</td>\n",
       "      <td>2013</td>\n",
       "      <td>2013</td>\n",
       "      <td>60.299999</td>\n",
       "      <td>NaN</td>\n",
       "      <td>NaN</td>\n",
       "    </tr>\n",
       "    <tr>\n",
       "      <th>1</th>\n",
       "      <td>CAB</td>\n",
       "      <td>Alberta (Canada)</td>\n",
       "      <td>1_T000</td>\n",
       "      <td>Female teachers</td>\n",
       "      <td>PERCENTAGE</td>\n",
       "      <td>Percentage</td>\n",
       "      <td>VAL</td>\n",
       "      <td>Value</td>\n",
       "      <td>2018</td>\n",
       "      <td>2018</td>\n",
       "      <td>63.500000</td>\n",
       "      <td>NaN</td>\n",
       "      <td>NaN</td>\n",
       "    </tr>\n",
       "    <tr>\n",
       "      <th>2</th>\n",
       "      <td>CAB</td>\n",
       "      <td>Alberta (Canada)</td>\n",
       "      <td>1_T029</td>\n",
       "      <td>Teachers aged 50 and above</td>\n",
       "      <td>PERCENTAGE</td>\n",
       "      <td>Percentage</td>\n",
       "      <td>VAL</td>\n",
       "      <td>Value</td>\n",
       "      <td>2013</td>\n",
       "      <td>2013</td>\n",
       "      <td>21.400000</td>\n",
       "      <td>NaN</td>\n",
       "      <td>NaN</td>\n",
       "    </tr>\n",
       "    <tr>\n",
       "      <th>3</th>\n",
       "      <td>CAB</td>\n",
       "      <td>Alberta (Canada)</td>\n",
       "      <td>1_T029</td>\n",
       "      <td>Teachers aged 50 and above</td>\n",
       "      <td>PERCENTAGE</td>\n",
       "      <td>Percentage</td>\n",
       "      <td>VAL</td>\n",
       "      <td>Value</td>\n",
       "      <td>2018</td>\n",
       "      <td>2018</td>\n",
       "      <td>20.400000</td>\n",
       "      <td>NaN</td>\n",
       "      <td>NaN</td>\n",
       "    </tr>\n",
       "    <tr>\n",
       "      <th>4</th>\n",
       "      <td>CAB</td>\n",
       "      <td>Alberta (Canada)</td>\n",
       "      <td>2_T004</td>\n",
       "      <td>Female principals</td>\n",
       "      <td>PERCENTAGE</td>\n",
       "      <td>Percentage</td>\n",
       "      <td>VAL</td>\n",
       "      <td>Value</td>\n",
       "      <td>2013</td>\n",
       "      <td>2013</td>\n",
       "      <td>43.099998</td>\n",
       "      <td>NaN</td>\n",
       "      <td>NaN</td>\n",
       "    </tr>\n",
       "  </tbody>\n",
       "</table>\n",
       "</div>"
      ],
      "text/plain": [
       "  COUNTRY           Country VARIABLE                    Variable        UNIT  \\\n",
       "0     CAB  Alberta (Canada)   1_T000             Female teachers  PERCENTAGE   \n",
       "1     CAB  Alberta (Canada)   1_T000             Female teachers  PERCENTAGE   \n",
       "2     CAB  Alberta (Canada)   1_T029  Teachers aged 50 and above  PERCENTAGE   \n",
       "3     CAB  Alberta (Canada)   1_T029  Teachers aged 50 and above  PERCENTAGE   \n",
       "4     CAB  Alberta (Canada)   2_T004           Female principals  PERCENTAGE   \n",
       "\n",
       "         Unit MEASURE Measure  TIME  Time      Value Flag Codes Flags  \n",
       "0  Percentage     VAL   Value  2013  2013  60.299999        NaN   NaN  \n",
       "1  Percentage     VAL   Value  2018  2018  63.500000        NaN   NaN  \n",
       "2  Percentage     VAL   Value  2013  2013  21.400000        NaN   NaN  \n",
       "3  Percentage     VAL   Value  2018  2018  20.400000        NaN   NaN  \n",
       "4  Percentage     VAL   Value  2013  2013  43.099998        NaN   NaN  "
      ]
     },
     "execution_count": 3,
     "metadata": {},
     "output_type": "execute_result"
    }
   ],
   "source": [
    "df.head()"
   ]
  },
  {
   "cell_type": "code",
   "execution_count": 4,
   "metadata": {},
   "outputs": [
    {
     "name": "stdout",
     "output_type": "stream",
     "text": [
      "<class 'pandas.core.frame.DataFrame'>\n",
      "RangeIndex: 9756 entries, 0 to 9755\n",
      "Data columns (total 13 columns):\n",
      " #   Column      Non-Null Count  Dtype  \n",
      "---  ------      --------------  -----  \n",
      " 0   COUNTRY     9756 non-null   object \n",
      " 1   Country     9756 non-null   object \n",
      " 2   VARIABLE    9756 non-null   object \n",
      " 3   Variable    9756 non-null   object \n",
      " 4   UNIT        9756 non-null   object \n",
      " 5   Unit        9756 non-null   object \n",
      " 6   MEASURE     9756 non-null   object \n",
      " 7   Measure     9756 non-null   object \n",
      " 8   TIME        9756 non-null   int64  \n",
      " 9   Time        9756 non-null   int64  \n",
      " 10  Value       9042 non-null   float64\n",
      " 11  Flag Codes  714 non-null    object \n",
      " 12  Flags       714 non-null    object \n",
      "dtypes: float64(1), int64(2), object(10)\n",
      "memory usage: 991.0+ KB\n"
     ]
    }
   ],
   "source": [
    "df.info()"
   ]
  },
  {
   "cell_type": "code",
   "execution_count": null,
   "metadata": {},
   "outputs": [],
   "source": []
  }
 ],
 "metadata": {
  "interpreter": {
   "hash": "78f499e638b180260314974c742cd0103cf7e397c22b4021a02426f6fead37c4"
  },
  "kernelspec": {
   "display_name": "Python 3.9.7 64-bit",
   "language": "python",
   "name": "python3"
  },
  "language_info": {
   "codemirror_mode": {
    "name": "ipython",
    "version": 3
   },
   "file_extension": ".py",
   "mimetype": "text/x-python",
   "name": "python",
   "nbconvert_exporter": "python",
   "pygments_lexer": "ipython3",
   "version": "3.9.7"
  },
  "orig_nbformat": 4
 },
 "nbformat": 4,
 "nbformat_minor": 2
}
