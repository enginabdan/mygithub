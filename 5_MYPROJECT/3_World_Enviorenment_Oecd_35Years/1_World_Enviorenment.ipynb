{
 "cells": [
  {
   "cell_type": "markdown",
   "metadata": {},
   "source": [
    "### 1_World_Enviorenment"
   ]
  },
  {
   "cell_type": "markdown",
   "metadata": {},
   "source": [
    "### Inport"
   ]
  },
  {
   "cell_type": "code",
   "execution_count": 1,
   "metadata": {},
   "outputs": [
    {
     "name": "stderr",
     "output_type": "stream",
     "text": [
      "c:\\Users\\engin\\AppData\\Local\\Programs\\Python\\Python39\\lib\\site-packages\\requests\\__init__.py:102: RequestsDependencyWarning: urllib3 (1.26.9) or chardet (5.0.0)/charset_normalizer (2.0.12) doesn't match a supported version!\n",
      "  warnings.warn(\"urllib3 ({}) or chardet ({})/charset_normalizer ({}) doesn't match a supported \"\n"
     ]
    }
   ],
   "source": [
    "import pandas as pd\n",
    "import numpy as np\n",
    "import pandasdmx as pdmx\n",
    "\n",
    "import seaborn as sns\n",
    "import matplotlib.pyplot as plt\n",
    "\n",
    "from scipy.stats import skew\n",
    "\n",
    "from sklearn.preprocessing import MinMaxScaler\n",
    "from pyclustertend import hopkins\n",
    "from sklearn.metrics import silhouette_score\n",
    "from sklearn.metrics import adjusted_rand_score\n",
    "\n",
    "from sklearn.cluster import KMeans\n",
    "\n",
    "from yellowbrick.cluster import KElbowVisualizer\n",
    "from yellowbrick.cluster import SilhouetteVisualizer\n",
    "\n",
    "import warnings\n",
    "warnings.filterwarnings(\"ignore\")\n",
    "warnings.warn(\"this will not show\")\n",
    "\n",
    "#plt.style.use('classic')\n",
    "sns.set_style(\"white\")"
   ]
  },
  {
   "cell_type": "markdown",
   "metadata": {},
   "source": [
    "### Data Scraping Oecd"
   ]
  },
  {
   "cell_type": "code",
   "execution_count": 2,
   "metadata": {},
   "outputs": [],
   "source": [
    "# SDMX DATA URL: https://stats.oecd.org/restsdmx/sdmx.ashx/GetData/AEI_OTHER/AUS+AUT+BEL+CAN+CHL+COL+CRI+CZE+DNK+EST+FIN+FRA+DEU+GRC+HUN+ISL+IRL+ISR+ITA+JPN+KOR+LVA+LTU+LUX+MEX+NLD+NZL+NOR+POL+PRT+SVK+SVN+ESP+SWE+CHE+TUR+GBR+USA+BRA+BGR+CHN+HRV+CYP+IND+IDN+KAZ+MLT+PHL+ROU+RUS+ZAF+UKR+VNM.TOTPEST+TOTFRESHWATER+TOTAGR_LAND+TOTENERGYAG+CO2AGR+CH4AGR+N2OAGR+WATERSOILEROSION+WINDSOILEROSION+RUNOFF-WATER+DRINK-WATER/all?startTime=1985&endTime=2019"
   ]
  },
  {
   "cell_type": "code",
   "execution_count": 3,
   "metadata": {},
   "outputs": [
    {
     "data": {
      "text/html": [
       "<div>\n",
       "<style scoped>\n",
       "    .dataframe tbody tr th:only-of-type {\n",
       "        vertical-align: middle;\n",
       "    }\n",
       "\n",
       "    .dataframe tbody tr th {\n",
       "        vertical-align: top;\n",
       "    }\n",
       "\n",
       "    .dataframe thead th {\n",
       "        text-align: right;\n",
       "    }\n",
       "</style>\n",
       "<table border=\"1\" class=\"dataframe\">\n",
       "  <thead>\n",
       "    <tr style=\"text-align: right;\">\n",
       "      <th></th>\n",
       "      <th>COUNTRY</th>\n",
       "      <th>INDICATOR</th>\n",
       "      <th>TIME_PERIOD</th>\n",
       "      <th>value</th>\n",
       "    </tr>\n",
       "  </thead>\n",
       "  <tbody>\n",
       "    <tr>\n",
       "      <th>0</th>\n",
       "      <td>AUS</td>\n",
       "      <td>CH4AGR</td>\n",
       "      <td>1990</td>\n",
       "      <td>71551.387</td>\n",
       "    </tr>\n",
       "    <tr>\n",
       "      <th>1</th>\n",
       "      <td>AUS</td>\n",
       "      <td>CH4AGR</td>\n",
       "      <td>1991</td>\n",
       "      <td>70974.435</td>\n",
       "    </tr>\n",
       "    <tr>\n",
       "      <th>2</th>\n",
       "      <td>AUS</td>\n",
       "      <td>CH4AGR</td>\n",
       "      <td>1992</td>\n",
       "      <td>68699.976</td>\n",
       "    </tr>\n",
       "    <tr>\n",
       "      <th>3</th>\n",
       "      <td>AUS</td>\n",
       "      <td>CH4AGR</td>\n",
       "      <td>1993</td>\n",
       "      <td>66607.976</td>\n",
       "    </tr>\n",
       "    <tr>\n",
       "      <th>4</th>\n",
       "      <td>AUS</td>\n",
       "      <td>CH4AGR</td>\n",
       "      <td>1994</td>\n",
       "      <td>66211.664</td>\n",
       "    </tr>\n",
       "  </tbody>\n",
       "</table>\n",
       "</div>"
      ],
      "text/plain": [
       "  COUNTRY INDICATOR TIME_PERIOD      value\n",
       "0     AUS    CH4AGR        1990  71551.387\n",
       "1     AUS    CH4AGR        1991  70974.435\n",
       "2     AUS    CH4AGR        1992  68699.976\n",
       "3     AUS    CH4AGR        1993  66607.976\n",
       "4     AUS    CH4AGR        1994  66211.664"
      ]
     },
     "execution_count": 3,
     "metadata": {},
     "output_type": "execute_result"
    }
   ],
   "source": [
    "import pandasdmx as pdmx\n",
    "\n",
    "oecd = pdmx.Request(\"OECD\")\n",
    "\n",
    "data_resource_id=\"AEI_OTHER\"\n",
    "data_key=\"AUS+AUT+BEL+CAN+CHL+COL+CRI+CZE+DNK+EST+FIN+FRA+DEU+GRC+HUN+ISL+IRL+ISR+ITA+JPN+KOR+LVA+LTU+LUX+MEX+NLD+NZL+NOR+POL+PRT+SVK+SVN+ESP+SWE+CHE+TUR+GBR+USA+BRA+BGR+CHN+HRV+CYP+IND+IDN+KAZ+MLT+PHL+ROU+RUS+ZAF+UKR+VNM.TOTPEST+TOTFRESHWATER+TOTAGR_LAND+TOTENERGYAG+CO2AGR+CH4AGR+N2OAGR+WATERSOILEROSION+WINDSOILEROSION+RUNOFF-WATER+DRINK-WATER/all?startTime=1985&endTime=2019\"\n",
    "data = oecd.data(resource_id=data_resource_id, key=data_key)\n",
    "data = data.to_pandas()\n",
    "df = pd.DataFrame(data).reset_index()\n",
    "df.head()"
   ]
  },
  {
   "cell_type": "code",
   "execution_count": 4,
   "metadata": {},
   "outputs": [],
   "source": [
    "#df.to_csv(\"world_environment.csv\")"
   ]
  },
  {
   "cell_type": "markdown",
   "metadata": {},
   "source": [
    "### Data Info"
   ]
  },
  {
   "cell_type": "code",
   "execution_count": 2254,
   "metadata": {},
   "outputs": [
    {
     "data": {
      "text/plain": [
       "(9249, 4)"
      ]
     },
     "execution_count": 2254,
     "metadata": {},
     "output_type": "execute_result"
    }
   ],
   "source": [
    "df.shape"
   ]
  },
  {
   "cell_type": "code",
   "execution_count": 2255,
   "metadata": {},
   "outputs": [
    {
     "data": {
      "text/html": [
       "<div>\n",
       "<style scoped>\n",
       "    .dataframe tbody tr th:only-of-type {\n",
       "        vertical-align: middle;\n",
       "    }\n",
       "\n",
       "    .dataframe tbody tr th {\n",
       "        vertical-align: top;\n",
       "    }\n",
       "\n",
       "    .dataframe thead th {\n",
       "        text-align: right;\n",
       "    }\n",
       "</style>\n",
       "<table border=\"1\" class=\"dataframe\">\n",
       "  <thead>\n",
       "    <tr style=\"text-align: right;\">\n",
       "      <th></th>\n",
       "      <th>COUNTRY</th>\n",
       "      <th>INDICATOR</th>\n",
       "      <th>TIME_PERIOD</th>\n",
       "      <th>value</th>\n",
       "    </tr>\n",
       "  </thead>\n",
       "  <tbody>\n",
       "    <tr>\n",
       "      <th>0</th>\n",
       "      <td>AUS</td>\n",
       "      <td>CH4AGR</td>\n",
       "      <td>1990</td>\n",
       "      <td>71551.387</td>\n",
       "    </tr>\n",
       "    <tr>\n",
       "      <th>1</th>\n",
       "      <td>AUS</td>\n",
       "      <td>CH4AGR</td>\n",
       "      <td>1991</td>\n",
       "      <td>70974.435</td>\n",
       "    </tr>\n",
       "  </tbody>\n",
       "</table>\n",
       "</div>"
      ],
      "text/plain": [
       "  COUNTRY INDICATOR TIME_PERIOD      value\n",
       "0     AUS    CH4AGR        1990  71551.387\n",
       "1     AUS    CH4AGR        1991  70974.435"
      ]
     },
     "execution_count": 2255,
     "metadata": {},
     "output_type": "execute_result"
    }
   ],
   "source": [
    "df.head(2)"
   ]
  },
  {
   "cell_type": "code",
   "execution_count": 2256,
   "metadata": {},
   "outputs": [
    {
     "data": {
      "text/html": [
       "<div>\n",
       "<style scoped>\n",
       "    .dataframe tbody tr th:only-of-type {\n",
       "        vertical-align: middle;\n",
       "    }\n",
       "\n",
       "    .dataframe tbody tr th {\n",
       "        vertical-align: top;\n",
       "    }\n",
       "\n",
       "    .dataframe thead th {\n",
       "        text-align: right;\n",
       "    }\n",
       "</style>\n",
       "<table border=\"1\" class=\"dataframe\">\n",
       "  <thead>\n",
       "    <tr style=\"text-align: right;\">\n",
       "      <th></th>\n",
       "      <th>COUNTRY</th>\n",
       "      <th>TIME_PERIOD</th>\n",
       "      <th>CH4AGR</th>\n",
       "      <th>CO2AGR</th>\n",
       "      <th>N2OAGR</th>\n",
       "      <th>TOTAGR_LAND</th>\n",
       "      <th>TOTENERGYAG</th>\n",
       "      <th>TOTFRESHWATER</th>\n",
       "      <th>TOTPEST</th>\n",
       "    </tr>\n",
       "  </thead>\n",
       "  <tbody>\n",
       "    <tr>\n",
       "      <th>0</th>\n",
       "      <td>AUS</td>\n",
       "      <td>1985</td>\n",
       "      <td>NaN</td>\n",
       "      <td>NaN</td>\n",
       "      <td>NaN</td>\n",
       "      <td>485605.123</td>\n",
       "      <td>NaN</td>\n",
       "      <td>NaN</td>\n",
       "      <td>NaN</td>\n",
       "    </tr>\n",
       "    <tr>\n",
       "      <th>1</th>\n",
       "      <td>AUS</td>\n",
       "      <td>1986</td>\n",
       "      <td>NaN</td>\n",
       "      <td>NaN</td>\n",
       "      <td>NaN</td>\n",
       "      <td>485167.951</td>\n",
       "      <td>NaN</td>\n",
       "      <td>NaN</td>\n",
       "      <td>NaN</td>\n",
       "    </tr>\n",
       "    <tr>\n",
       "      <th>2</th>\n",
       "      <td>AUS</td>\n",
       "      <td>1987</td>\n",
       "      <td>NaN</td>\n",
       "      <td>NaN</td>\n",
       "      <td>NaN</td>\n",
       "      <td>471019.353</td>\n",
       "      <td>NaN</td>\n",
       "      <td>NaN</td>\n",
       "      <td>NaN</td>\n",
       "    </tr>\n",
       "    <tr>\n",
       "      <th>3</th>\n",
       "      <td>AUS</td>\n",
       "      <td>1988</td>\n",
       "      <td>NaN</td>\n",
       "      <td>NaN</td>\n",
       "      <td>NaN</td>\n",
       "      <td>472033.507</td>\n",
       "      <td>NaN</td>\n",
       "      <td>NaN</td>\n",
       "      <td>NaN</td>\n",
       "    </tr>\n",
       "    <tr>\n",
       "      <th>4</th>\n",
       "      <td>AUS</td>\n",
       "      <td>1989</td>\n",
       "      <td>NaN</td>\n",
       "      <td>NaN</td>\n",
       "      <td>NaN</td>\n",
       "      <td>460503.367</td>\n",
       "      <td>NaN</td>\n",
       "      <td>NaN</td>\n",
       "      <td>NaN</td>\n",
       "    </tr>\n",
       "    <tr>\n",
       "      <th>...</th>\n",
       "      <td>...</td>\n",
       "      <td>...</td>\n",
       "      <td>...</td>\n",
       "      <td>...</td>\n",
       "      <td>...</td>\n",
       "      <td>...</td>\n",
       "      <td>...</td>\n",
       "      <td>...</td>\n",
       "      <td>...</td>\n",
       "    </tr>\n",
       "    <tr>\n",
       "      <th>1699</th>\n",
       "      <td>ZAF</td>\n",
       "      <td>2015</td>\n",
       "      <td>18499.379</td>\n",
       "      <td>NaN</td>\n",
       "      <td>12438.388</td>\n",
       "      <td>96341.000</td>\n",
       "      <td>2117.738</td>\n",
       "      <td>NaN</td>\n",
       "      <td>26857.0</td>\n",
       "    </tr>\n",
       "    <tr>\n",
       "      <th>1700</th>\n",
       "      <td>ZAF</td>\n",
       "      <td>2016</td>\n",
       "      <td>17835.285</td>\n",
       "      <td>NaN</td>\n",
       "      <td>11776.712</td>\n",
       "      <td>96341.000</td>\n",
       "      <td>1903.008</td>\n",
       "      <td>NaN</td>\n",
       "      <td>26857.0</td>\n",
       "    </tr>\n",
       "    <tr>\n",
       "      <th>1701</th>\n",
       "      <td>ZAF</td>\n",
       "      <td>2017</td>\n",
       "      <td>17871.609</td>\n",
       "      <td>NaN</td>\n",
       "      <td>13170.590</td>\n",
       "      <td>96341.000</td>\n",
       "      <td>2277.294</td>\n",
       "      <td>NaN</td>\n",
       "      <td>26857.0</td>\n",
       "    </tr>\n",
       "    <tr>\n",
       "      <th>1702</th>\n",
       "      <td>ZAF</td>\n",
       "      <td>2018</td>\n",
       "      <td>17542.932</td>\n",
       "      <td>NaN</td>\n",
       "      <td>12840.974</td>\n",
       "      <td>96341.000</td>\n",
       "      <td>2285.447</td>\n",
       "      <td>NaN</td>\n",
       "      <td>26857.0</td>\n",
       "    </tr>\n",
       "    <tr>\n",
       "      <th>1703</th>\n",
       "      <td>ZAF</td>\n",
       "      <td>2019</td>\n",
       "      <td>17022.314</td>\n",
       "      <td>NaN</td>\n",
       "      <td>12168.801</td>\n",
       "      <td>96341.000</td>\n",
       "      <td>2386.718</td>\n",
       "      <td>NaN</td>\n",
       "      <td>NaN</td>\n",
       "    </tr>\n",
       "  </tbody>\n",
       "</table>\n",
       "<p>1704 rows × 9 columns</p>\n",
       "</div>"
      ],
      "text/plain": [
       "     COUNTRY TIME_PERIOD     CH4AGR  CO2AGR     N2OAGR  TOTAGR_LAND  \\\n",
       "0        AUS        1985        NaN     NaN        NaN   485605.123   \n",
       "1        AUS        1986        NaN     NaN        NaN   485167.951   \n",
       "2        AUS        1987        NaN     NaN        NaN   471019.353   \n",
       "3        AUS        1988        NaN     NaN        NaN   472033.507   \n",
       "4        AUS        1989        NaN     NaN        NaN   460503.367   \n",
       "...      ...         ...        ...     ...        ...          ...   \n",
       "1699     ZAF        2015  18499.379     NaN  12438.388    96341.000   \n",
       "1700     ZAF        2016  17835.285     NaN  11776.712    96341.000   \n",
       "1701     ZAF        2017  17871.609     NaN  13170.590    96341.000   \n",
       "1702     ZAF        2018  17542.932     NaN  12840.974    96341.000   \n",
       "1703     ZAF        2019  17022.314     NaN  12168.801    96341.000   \n",
       "\n",
       "      TOTENERGYAG  TOTFRESHWATER  TOTPEST  \n",
       "0             NaN            NaN      NaN  \n",
       "1             NaN            NaN      NaN  \n",
       "2             NaN            NaN      NaN  \n",
       "3             NaN            NaN      NaN  \n",
       "4             NaN            NaN      NaN  \n",
       "...           ...            ...      ...  \n",
       "1699     2117.738            NaN  26857.0  \n",
       "1700     1903.008            NaN  26857.0  \n",
       "1701     2277.294            NaN  26857.0  \n",
       "1702     2285.447            NaN  26857.0  \n",
       "1703     2386.718            NaN      NaN  \n",
       "\n",
       "[1704 rows x 9 columns]"
      ]
     },
     "execution_count": 2256,
     "metadata": {},
     "output_type": "execute_result"
    }
   ],
   "source": [
    "df = df.pivot(index=[\"COUNTRY\",\"TIME_PERIOD\"], columns=\"INDICATOR\", values=[\"value\"])\n",
    "df.columns = df.columns.droplevel()\n",
    "df = df.rename_axis(None, axis=1)\n",
    "df = df.reset_index()\n",
    "df"
   ]
  },
  {
   "cell_type": "code",
   "execution_count": 2257,
   "metadata": {},
   "outputs": [
    {
     "data": {
      "text/plain": [
       "COUNTRY          False\n",
       "TIME_PERIOD      False\n",
       "CH4AGR            True\n",
       "CO2AGR            True\n",
       "N2OAGR            True\n",
       "TOTAGR_LAND       True\n",
       "TOTENERGYAG       True\n",
       "TOTFRESHWATER     True\n",
       "TOTPEST           True\n",
       "dtype: bool"
      ]
     },
     "execution_count": 2257,
     "metadata": {},
     "output_type": "execute_result"
    }
   ],
   "source": [
    "df.isna().any()"
   ]
  },
  {
   "cell_type": "code",
   "execution_count": 2258,
   "metadata": {},
   "outputs": [],
   "source": [
    "df = df.fillna(0)"
   ]
  },
  {
   "cell_type": "code",
   "execution_count": 2259,
   "metadata": {},
   "outputs": [
    {
     "data": {
      "text/plain": [
       "COUNTRY          False\n",
       "TIME_PERIOD      False\n",
       "CH4AGR           False\n",
       "CO2AGR           False\n",
       "N2OAGR           False\n",
       "TOTAGR_LAND      False\n",
       "TOTENERGYAG      False\n",
       "TOTFRESHWATER    False\n",
       "TOTPEST          False\n",
       "dtype: bool"
      ]
     },
     "execution_count": 2259,
     "metadata": {},
     "output_type": "execute_result"
    }
   ],
   "source": [
    "df.isna().any()"
   ]
  },
  {
   "cell_type": "code",
   "execution_count": 2260,
   "metadata": {},
   "outputs": [
    {
     "data": {
      "text/plain": [
       "False"
      ]
     },
     "execution_count": 2260,
     "metadata": {},
     "output_type": "execute_result"
    }
   ],
   "source": [
    "df.duplicated().any()"
   ]
  },
  {
   "cell_type": "code",
   "execution_count": 2261,
   "metadata": {},
   "outputs": [
    {
     "data": {
      "text/plain": [
       "Index(['COUNTRY', 'TIME_PERIOD', 'CH4AGR', 'CO2AGR', 'N2OAGR', 'TOTAGR_LAND',\n",
       "       'TOTENERGYAG', 'TOTFRESHWATER', 'TOTPEST'],\n",
       "      dtype='object')"
      ]
     },
     "execution_count": 2261,
     "metadata": {},
     "output_type": "execute_result"
    }
   ],
   "source": [
    "df.columns"
   ]
  },
  {
   "cell_type": "code",
   "execution_count": 2262,
   "metadata": {},
   "outputs": [],
   "source": [
    "# CH4AGR        : Total Methane (CH4) from agriculture\n",
    "# CO2AGR        : Total Carbone dioxide (CO2) from agriculture\n",
    "# N2OAGR        : Total Nitrous oxide (N2O) from agriculture\n",
    "# TOTAGR_LAND   : Total Agricultural Land area\n",
    "# TOTENERGYAG   : Direct on-farm energy consumption\n",
    "# TOTFRESHWATER : Total freshwater abstraction\n",
    "# TOTPEST       : Total sales of agricultural pesticides"
   ]
  },
  {
   "cell_type": "code",
   "execution_count": 2263,
   "metadata": {},
   "outputs": [
    {
     "name": "stdout",
     "output_type": "stream",
     "text": [
      "53\n",
      "['AUS' 'AUT' 'BEL' 'BGR' 'BRA' 'CAN' 'CHE' 'CHL' 'CHN' 'COL' 'CRI' 'CYP'\n",
      " 'CZE' 'DEU' 'DNK' 'ESP' 'EST' 'FIN' 'FRA' 'GBR' 'GRC' 'HRV' 'HUN' 'IDN'\n",
      " 'IND' 'IRL' 'ISL' 'ISR' 'ITA' 'JPN' 'KAZ' 'KOR' 'LTU' 'LUX' 'LVA' 'MEX'\n",
      " 'MLT' 'NLD' 'NOR' 'NZL' 'PHL' 'POL' 'PRT' 'ROU' 'RUS' 'SVK' 'SVN' 'SWE'\n",
      " 'TUR' 'UKR' 'USA' 'VNM' 'ZAF']\n"
     ]
    }
   ],
   "source": [
    "print(df.COUNTRY.nunique())\n",
    "print(df.COUNTRY.unique())"
   ]
  },
  {
   "cell_type": "code",
   "execution_count": 2264,
   "metadata": {},
   "outputs": [
    {
     "name": "stdout",
     "output_type": "stream",
     "text": [
      "35\n",
      "['1985' '1986' '1987' '1988' '1989' '1990' '1991' '1992' '1993' '1994'\n",
      " '1995' '1996' '1997' '1998' '1999' '2000' '2001' '2002' '2003' '2004'\n",
      " '2005' '2006' '2007' '2008' '2009' '2010' '2011' '2012' '2013' '2014'\n",
      " '2015' '2016' '2017' '2018' '2019']\n"
     ]
    }
   ],
   "source": [
    "print(df.TIME_PERIOD.nunique())\n",
    "print(df.TIME_PERIOD.unique())"
   ]
  },
  {
   "cell_type": "code",
   "execution_count": 2265,
   "metadata": {},
   "outputs": [
    {
     "name": "stdout",
     "output_type": "stream",
     "text": [
      "<class 'pandas.core.frame.DataFrame'>\n",
      "RangeIndex: 1704 entries, 0 to 1703\n",
      "Data columns (total 9 columns):\n",
      " #   Column         Non-Null Count  Dtype  \n",
      "---  ------         --------------  -----  \n",
      " 0   COUNTRY        1704 non-null   object \n",
      " 1   TIME_PERIOD    1704 non-null   object \n",
      " 2   CH4AGR         1704 non-null   float64\n",
      " 3   CO2AGR         1704 non-null   float64\n",
      " 4   N2OAGR         1704 non-null   float64\n",
      " 5   TOTAGR_LAND    1704 non-null   float64\n",
      " 6   TOTENERGYAG    1704 non-null   float64\n",
      " 7   TOTFRESHWATER  1704 non-null   float64\n",
      " 8   TOTPEST        1704 non-null   float64\n",
      "dtypes: float64(7), object(2)\n",
      "memory usage: 119.9+ KB\n"
     ]
    }
   ],
   "source": [
    "df.info()"
   ]
  },
  {
   "cell_type": "code",
   "execution_count": 2266,
   "metadata": {},
   "outputs": [
    {
     "data": {
      "text/html": [
       "<div>\n",
       "<style scoped>\n",
       "    .dataframe tbody tr th:only-of-type {\n",
       "        vertical-align: middle;\n",
       "    }\n",
       "\n",
       "    .dataframe tbody tr th {\n",
       "        vertical-align: top;\n",
       "    }\n",
       "\n",
       "    .dataframe thead th {\n",
       "        text-align: right;\n",
       "    }\n",
       "</style>\n",
       "<table border=\"1\" class=\"dataframe\">\n",
       "  <thead>\n",
       "    <tr style=\"text-align: right;\">\n",
       "      <th></th>\n",
       "      <th>count</th>\n",
       "      <th>mean</th>\n",
       "      <th>std</th>\n",
       "      <th>min</th>\n",
       "      <th>25%</th>\n",
       "      <th>50%</th>\n",
       "      <th>75%</th>\n",
       "      <th>max</th>\n",
       "    </tr>\n",
       "  </thead>\n",
       "  <tbody>\n",
       "    <tr>\n",
       "      <th>CH4AGR</th>\n",
       "      <td>1704.0</td>\n",
       "      <td>43830.017585</td>\n",
       "      <td>100143.438543</td>\n",
       "      <td>0.0</td>\n",
       "      <td>2215.15300</td>\n",
       "      <td>10163.0260</td>\n",
       "      <td>29965.33375</td>\n",
       "      <td>560244.131</td>\n",
       "    </tr>\n",
       "    <tr>\n",
       "      <th>CO2AGR</th>\n",
       "      <td>1704.0</td>\n",
       "      <td>496.386858</td>\n",
       "      <td>1220.291643</td>\n",
       "      <td>0.0</td>\n",
       "      <td>0.00000</td>\n",
       "      <td>66.1515</td>\n",
       "      <td>445.92825</td>\n",
       "      <td>10259.018</td>\n",
       "    </tr>\n",
       "    <tr>\n",
       "      <th>N2OAGR</th>\n",
       "      <td>1704.0</td>\n",
       "      <td>26855.489599</td>\n",
       "      <td>62979.915799</td>\n",
       "      <td>0.0</td>\n",
       "      <td>1774.41525</td>\n",
       "      <td>6033.5840</td>\n",
       "      <td>17834.17150</td>\n",
       "      <td>367192.732</td>\n",
       "    </tr>\n",
       "    <tr>\n",
       "      <th>TOTAGR_LAND</th>\n",
       "      <td>1704.0</td>\n",
       "      <td>57200.232485</td>\n",
       "      <td>117783.710394</td>\n",
       "      <td>0.0</td>\n",
       "      <td>1906.33275</td>\n",
       "      <td>5393.0000</td>\n",
       "      <td>41351.75000</td>\n",
       "      <td>529038.600</td>\n",
       "    </tr>\n",
       "    <tr>\n",
       "      <th>TOTENERGYAG</th>\n",
       "      <td>1704.0</td>\n",
       "      <td>2650.751880</td>\n",
       "      <td>5799.012909</td>\n",
       "      <td>0.0</td>\n",
       "      <td>130.93875</td>\n",
       "      <td>649.7535</td>\n",
       "      <td>2561.30825</td>\n",
       "      <td>43915.884</td>\n",
       "    </tr>\n",
       "    <tr>\n",
       "      <th>TOTFRESHWATER</th>\n",
       "      <td>1704.0</td>\n",
       "      <td>16690.900539</td>\n",
       "      <td>72831.700893</td>\n",
       "      <td>0.0</td>\n",
       "      <td>0.00000</td>\n",
       "      <td>0.0000</td>\n",
       "      <td>2729.55000</td>\n",
       "      <td>693000.000</td>\n",
       "    </tr>\n",
       "    <tr>\n",
       "      <th>TOTPEST</th>\n",
       "      <td>1704.0</td>\n",
       "      <td>45251.471888</td>\n",
       "      <td>194917.092039</td>\n",
       "      <td>0.0</td>\n",
       "      <td>0.00000</td>\n",
       "      <td>0.0000</td>\n",
       "      <td>19154.00000</td>\n",
       "      <td>1815690.000</td>\n",
       "    </tr>\n",
       "  </tbody>\n",
       "</table>\n",
       "</div>"
      ],
      "text/plain": [
       "                count          mean            std  min         25%  \\\n",
       "CH4AGR         1704.0  43830.017585  100143.438543  0.0  2215.15300   \n",
       "CO2AGR         1704.0    496.386858    1220.291643  0.0     0.00000   \n",
       "N2OAGR         1704.0  26855.489599   62979.915799  0.0  1774.41525   \n",
       "TOTAGR_LAND    1704.0  57200.232485  117783.710394  0.0  1906.33275   \n",
       "TOTENERGYAG    1704.0   2650.751880    5799.012909  0.0   130.93875   \n",
       "TOTFRESHWATER  1704.0  16690.900539   72831.700893  0.0     0.00000   \n",
       "TOTPEST        1704.0  45251.471888  194917.092039  0.0     0.00000   \n",
       "\n",
       "                      50%          75%          max  \n",
       "CH4AGR         10163.0260  29965.33375   560244.131  \n",
       "CO2AGR            66.1515    445.92825    10259.018  \n",
       "N2OAGR          6033.5840  17834.17150   367192.732  \n",
       "TOTAGR_LAND     5393.0000  41351.75000   529038.600  \n",
       "TOTENERGYAG      649.7535   2561.30825    43915.884  \n",
       "TOTFRESHWATER      0.0000   2729.55000   693000.000  \n",
       "TOTPEST            0.0000  19154.00000  1815690.000  "
      ]
     },
     "execution_count": 2266,
     "metadata": {},
     "output_type": "execute_result"
    }
   ],
   "source": [
    "df.describe().T"
   ]
  },
  {
   "cell_type": "code",
   "execution_count": 2267,
   "metadata": {},
   "outputs": [
    {
     "data": {
      "text/plain": [
       "Index(['CH4AGR', 'CO2AGR', 'N2OAGR', 'TOTAGR_LAND', 'TOTENERGYAG',\n",
       "       'TOTFRESHWATER', 'TOTPEST'],\n",
       "      dtype='object')"
      ]
     },
     "execution_count": 2267,
     "metadata": {},
     "output_type": "execute_result"
    }
   ],
   "source": [
    "x = df.drop(columns=[\"COUNTRY\", \"TIME_PERIOD\"]).columns\n",
    "x"
   ]
  },
  {
   "cell_type": "markdown",
   "metadata": {},
   "source": [
    "### Skewness"
   ]
  },
  {
   "cell_type": "code",
   "execution_count": 2268,
   "metadata": {},
   "outputs": [
    {
     "name": "stdout",
     "output_type": "stream",
     "text": [
      "CH4AGR \t: 3.4030538481022794 \t>>> Skewed\n",
      "CO2AGR \t: 4.784256356883576 \t>>> Skewed\n",
      "N2OAGR \t: 3.720073575765478 \t>>> Skewed\n",
      "TOTAGR_LAND \t: 2.6631984348218385 \t>>> Skewed\n",
      "TOTENERGYAG \t: 3.9940318056489783 \t>>> Skewed\n",
      "TOTFRESHWATER \t: 7.030834732416941 \t>>> Skewed\n",
      "TOTPEST \t: 7.084505258461371 \t>>> Skewed\n"
     ]
    }
   ],
   "source": [
    "x = df.drop(columns=[\"COUNTRY\", \"TIME_PERIOD\"]).columns\n",
    "for i in x:\n",
    "    y = skew(df[i], nan_policy=\"omit\")\n",
    "    if y >= -0.5 and y < 0.5:\n",
    "        print(f\"{i} \\t: {y} \\t>>> Normal\")\n",
    "    elif y >= 0.5 and y < 1.0:\n",
    "        print(f\"{i} \\t: {y} \\t>>> Moderate\")\n",
    "    elif y >= 1.0:\n",
    "        print(f\"{i} \\t: {y} \\t>>> Skewed\")       "
   ]
  },
  {
   "cell_type": "code",
   "execution_count": 2269,
   "metadata": {},
   "outputs": [
    {
     "name": "stdout",
     "output_type": "stream",
     "text": [
      "CH4AGR \t: Right Skewed\n",
      "CO2AGR \t: Right Skewed\n",
      "N2OAGR \t: Right Skewed\n",
      "TOTAGR_LAND \t: Right Skewed\n",
      "TOTENERGYAG \t: Right Skewed\n",
      "TOTFRESHWATER \t: Right Skewed\n",
      "TOTPEST \t: Right Skewed\n"
     ]
    }
   ],
   "source": [
    "x = df.drop(columns=[\"COUNTRY\", \"TIME_PERIOD\"]).columns\n",
    "for i in x:\n",
    "    a = df[i].mean()\n",
    "    b = df[i].median()\n",
    "    if a == b:\n",
    "        print(f\"{i} \\t: Normal Skewed\")\n",
    "    elif a > b:\n",
    "        print(f\"{i} \\t: Right Skewed\")\n",
    "    elif a < b:\n",
    "        print(f\"{i} \\t: Left Skewed\")"
   ]
  },
  {
   "cell_type": "markdown",
   "metadata": {},
   "source": [
    "### Heatmap"
   ]
  },
  {
   "cell_type": "code",
   "execution_count": 2270,
   "metadata": {},
   "outputs": [
    {
     "data": {
      "image/png": "[encoded data removed]",
      "text/plain": [
       "<Figure size 1440x720 with 2 Axes>"
      ]
     },
     "metadata": {},
     "output_type": "display_data"
    }
   ],
   "source": [
    "plt.figure(figsize=(20,10))\n",
    "sns.heatmap(df.corr(), annot=True, cmap=\"BrBG\")\n",
    "plt.tight_layout();"
   ]
  },
  {
   "cell_type": "markdown",
   "metadata": {},
   "source": [
    "### Pairplot"
   ]
  },
  {
   "cell_type": "code",
   "execution_count": 2271,
   "metadata": {},
   "outputs": [],
   "source": [
    "#sns.pairplot(df, hue=\"COUNTRY\");"
   ]
  },
  {
   "cell_type": "markdown",
   "metadata": {},
   "source": [
    "### Barplot"
   ]
  },
  {
   "cell_type": "code",
   "execution_count": 2272,
   "metadata": {},
   "outputs": [],
   "source": [
    "# fig, ax = plt.subplots(nrows=7, ncols=1, figsize=(10,100))\n",
    "# a = range(7)\n",
    "\n",
    "# for i in a:\n",
    "#     sns.barplot(x=df[df.columns[i+2]], y=df.COUNTRY, data=df, ax = ax[i])\n",
    "#     for p in ax[i].patches:\n",
    "#         ax[i].annotate(round((p.get_height())), (p.get_x()+0.22, p.get_height()+1.0))\n",
    "# plt.tight_layout();"
   ]
  },
  {
   "cell_type": "markdown",
   "metadata": {},
   "source": [
    "## K Means Clustering"
   ]
  },
  {
   "cell_type": "code",
   "execution_count": 2273,
   "metadata": {},
   "outputs": [
    {
     "data": {
      "text/html": [
       "<div>\n",
       "<style scoped>\n",
       "    .dataframe tbody tr th:only-of-type {\n",
       "        vertical-align: middle;\n",
       "    }\n",
       "\n",
       "    .dataframe tbody tr th {\n",
       "        vertical-align: top;\n",
       "    }\n",
       "\n",
       "    .dataframe thead th {\n",
       "        text-align: right;\n",
       "    }\n",
       "</style>\n",
       "<table border=\"1\" class=\"dataframe\">\n",
       "  <thead>\n",
       "    <tr style=\"text-align: right;\">\n",
       "      <th></th>\n",
       "      <th>COUNTRY</th>\n",
       "      <th>TIME_PERIOD</th>\n",
       "      <th>CH4AGR</th>\n",
       "      <th>CO2AGR</th>\n",
       "      <th>N2OAGR</th>\n",
       "      <th>TOTAGR_LAND</th>\n",
       "      <th>TOTENERGYAG</th>\n",
       "      <th>TOTFRESHWATER</th>\n",
       "      <th>TOTPEST</th>\n",
       "    </tr>\n",
       "  </thead>\n",
       "  <tbody>\n",
       "    <tr>\n",
       "      <th>0</th>\n",
       "      <td>AUS</td>\n",
       "      <td>1985</td>\n",
       "      <td>0.0</td>\n",
       "      <td>0.0</td>\n",
       "      <td>0.0</td>\n",
       "      <td>485605.123</td>\n",
       "      <td>0.0</td>\n",
       "      <td>0.0</td>\n",
       "      <td>0.0</td>\n",
       "    </tr>\n",
       "  </tbody>\n",
       "</table>\n",
       "</div>"
      ],
      "text/plain": [
       "  COUNTRY TIME_PERIOD  CH4AGR  CO2AGR  N2OAGR  TOTAGR_LAND  TOTENERGYAG  \\\n",
       "0     AUS        1985     0.0     0.0     0.0   485605.123          0.0   \n",
       "\n",
       "   TOTFRESHWATER  TOTPEST  \n",
       "0            0.0      0.0  "
      ]
     },
     "execution_count": 2273,
     "metadata": {},
     "output_type": "execute_result"
    }
   ],
   "source": [
    "df.head(1)"
   ]
  },
  {
   "cell_type": "markdown",
   "metadata": {},
   "source": [
    "### Train Test Split"
   ]
  },
  {
   "cell_type": "code",
   "execution_count": 2274,
   "metadata": {},
   "outputs": [
    {
     "data": {
      "text/html": [
       "<div>\n",
       "<style scoped>\n",
       "    .dataframe tbody tr th:only-of-type {\n",
       "        vertical-align: middle;\n",
       "    }\n",
       "\n",
       "    .dataframe tbody tr th {\n",
       "        vertical-align: top;\n",
       "    }\n",
       "\n",
       "    .dataframe thead th {\n",
       "        text-align: right;\n",
       "    }\n",
       "</style>\n",
       "<table border=\"1\" class=\"dataframe\">\n",
       "  <thead>\n",
       "    <tr style=\"text-align: right;\">\n",
       "      <th></th>\n",
       "      <th>CH4AGR</th>\n",
       "      <th>CO2AGR</th>\n",
       "      <th>N2OAGR</th>\n",
       "      <th>TOTAGR_LAND</th>\n",
       "      <th>TOTENERGYAG</th>\n",
       "      <th>TOTFRESHWATER</th>\n",
       "      <th>TOTPEST</th>\n",
       "    </tr>\n",
       "  </thead>\n",
       "  <tbody>\n",
       "    <tr>\n",
       "      <th>0</th>\n",
       "      <td>0.0</td>\n",
       "      <td>0.0</td>\n",
       "      <td>0.0</td>\n",
       "      <td>485605.123</td>\n",
       "      <td>0.0</td>\n",
       "      <td>0.0</td>\n",
       "      <td>0.0</td>\n",
       "    </tr>\n",
       "  </tbody>\n",
       "</table>\n",
       "</div>"
      ],
      "text/plain": [
       "   CH4AGR  CO2AGR  N2OAGR  TOTAGR_LAND  TOTENERGYAG  TOTFRESHWATER  TOTPEST\n",
       "0     0.0     0.0     0.0   485605.123          0.0            0.0      0.0"
      ]
     },
     "execution_count": 2274,
     "metadata": {},
     "output_type": "execute_result"
    }
   ],
   "source": [
    "x = df.drop([\"COUNTRY\", \"TIME_PERIOD\"], axis=1)\n",
    "x.head(1)"
   ]
  },
  {
   "cell_type": "markdown",
   "metadata": {},
   "source": [
    "### Scaling"
   ]
  },
  {
   "cell_type": "code",
   "execution_count": 2275,
   "metadata": {},
   "outputs": [
    {
     "data": {
      "text/html": [
       "<div>\n",
       "<style scoped>\n",
       "    .dataframe tbody tr th:only-of-type {\n",
       "        vertical-align: middle;\n",
       "    }\n",
       "\n",
       "    .dataframe tbody tr th {\n",
       "        vertical-align: top;\n",
       "    }\n",
       "\n",
       "    .dataframe thead th {\n",
       "        text-align: right;\n",
       "    }\n",
       "</style>\n",
       "<table border=\"1\" class=\"dataframe\">\n",
       "  <thead>\n",
       "    <tr style=\"text-align: right;\">\n",
       "      <th></th>\n",
       "      <th>CH4AGR</th>\n",
       "      <th>CO2AGR</th>\n",
       "      <th>N2OAGR</th>\n",
       "      <th>TOTAGR_LAND</th>\n",
       "      <th>TOTENERGYAG</th>\n",
       "      <th>TOTFRESHWATER</th>\n",
       "      <th>TOTPEST</th>\n",
       "    </tr>\n",
       "  </thead>\n",
       "  <tbody>\n",
       "    <tr>\n",
       "      <th>0</th>\n",
       "      <td>0.000000</td>\n",
       "      <td>0.0</td>\n",
       "      <td>0.000000</td>\n",
       "      <td>0.917901</td>\n",
       "      <td>0.000000</td>\n",
       "      <td>0.0</td>\n",
       "      <td>0.000000</td>\n",
       "    </tr>\n",
       "    <tr>\n",
       "      <th>1</th>\n",
       "      <td>0.000000</td>\n",
       "      <td>0.0</td>\n",
       "      <td>0.000000</td>\n",
       "      <td>0.917075</td>\n",
       "      <td>0.000000</td>\n",
       "      <td>0.0</td>\n",
       "      <td>0.000000</td>\n",
       "    </tr>\n",
       "    <tr>\n",
       "      <th>2</th>\n",
       "      <td>0.000000</td>\n",
       "      <td>0.0</td>\n",
       "      <td>0.000000</td>\n",
       "      <td>0.890331</td>\n",
       "      <td>0.000000</td>\n",
       "      <td>0.0</td>\n",
       "      <td>0.000000</td>\n",
       "    </tr>\n",
       "    <tr>\n",
       "      <th>3</th>\n",
       "      <td>0.000000</td>\n",
       "      <td>0.0</td>\n",
       "      <td>0.000000</td>\n",
       "      <td>0.892248</td>\n",
       "      <td>0.000000</td>\n",
       "      <td>0.0</td>\n",
       "      <td>0.000000</td>\n",
       "    </tr>\n",
       "    <tr>\n",
       "      <th>4</th>\n",
       "      <td>0.000000</td>\n",
       "      <td>0.0</td>\n",
       "      <td>0.000000</td>\n",
       "      <td>0.870453</td>\n",
       "      <td>0.000000</td>\n",
       "      <td>0.0</td>\n",
       "      <td>0.000000</td>\n",
       "    </tr>\n",
       "    <tr>\n",
       "      <th>...</th>\n",
       "      <td>...</td>\n",
       "      <td>...</td>\n",
       "      <td>...</td>\n",
       "      <td>...</td>\n",
       "      <td>...</td>\n",
       "      <td>...</td>\n",
       "      <td>...</td>\n",
       "    </tr>\n",
       "    <tr>\n",
       "      <th>1699</th>\n",
       "      <td>0.033020</td>\n",
       "      <td>0.0</td>\n",
       "      <td>0.033874</td>\n",
       "      <td>0.182106</td>\n",
       "      <td>0.048223</td>\n",
       "      <td>0.0</td>\n",
       "      <td>0.014792</td>\n",
       "    </tr>\n",
       "    <tr>\n",
       "      <th>1700</th>\n",
       "      <td>0.031835</td>\n",
       "      <td>0.0</td>\n",
       "      <td>0.032072</td>\n",
       "      <td>0.182106</td>\n",
       "      <td>0.043333</td>\n",
       "      <td>0.0</td>\n",
       "      <td>0.014792</td>\n",
       "    </tr>\n",
       "    <tr>\n",
       "      <th>1701</th>\n",
       "      <td>0.031900</td>\n",
       "      <td>0.0</td>\n",
       "      <td>0.035868</td>\n",
       "      <td>0.182106</td>\n",
       "      <td>0.051856</td>\n",
       "      <td>0.0</td>\n",
       "      <td>0.014792</td>\n",
       "    </tr>\n",
       "    <tr>\n",
       "      <th>1702</th>\n",
       "      <td>0.031313</td>\n",
       "      <td>0.0</td>\n",
       "      <td>0.034971</td>\n",
       "      <td>0.182106</td>\n",
       "      <td>0.052041</td>\n",
       "      <td>0.0</td>\n",
       "      <td>0.014792</td>\n",
       "    </tr>\n",
       "    <tr>\n",
       "      <th>1703</th>\n",
       "      <td>0.030384</td>\n",
       "      <td>0.0</td>\n",
       "      <td>0.033140</td>\n",
       "      <td>0.182106</td>\n",
       "      <td>0.054347</td>\n",
       "      <td>0.0</td>\n",
       "      <td>0.000000</td>\n",
       "    </tr>\n",
       "  </tbody>\n",
       "</table>\n",
       "<p>1704 rows × 7 columns</p>\n",
       "</div>"
      ],
      "text/plain": [
       "        CH4AGR  CO2AGR    N2OAGR  TOTAGR_LAND  TOTENERGYAG  TOTFRESHWATER  \\\n",
       "0     0.000000     0.0  0.000000     0.917901     0.000000            0.0   \n",
       "1     0.000000     0.0  0.000000     0.917075     0.000000            0.0   \n",
       "2     0.000000     0.0  0.000000     0.890331     0.000000            0.0   \n",
       "3     0.000000     0.0  0.000000     0.892248     0.000000            0.0   \n",
       "4     0.000000     0.0  0.000000     0.870453     0.000000            0.0   \n",
       "...        ...     ...       ...          ...          ...            ...   \n",
       "1699  0.033020     0.0  0.033874     0.182106     0.048223            0.0   \n",
       "1700  0.031835     0.0  0.032072     0.182106     0.043333            0.0   \n",
       "1701  0.031900     0.0  0.035868     0.182106     0.051856            0.0   \n",
       "1702  0.031313     0.0  0.034971     0.182106     0.052041            0.0   \n",
       "1703  0.030384     0.0  0.033140     0.182106     0.054347            0.0   \n",
       "\n",
       "       TOTPEST  \n",
       "0     0.000000  \n",
       "1     0.000000  \n",
       "2     0.000000  \n",
       "3     0.000000  \n",
       "4     0.000000  \n",
       "...        ...  \n",
       "1699  0.014792  \n",
       "1700  0.014792  \n",
       "1701  0.014792  \n",
       "1702  0.014792  \n",
       "1703  0.000000  \n",
       "\n",
       "[1704 rows x 7 columns]"
      ]
     },
     "execution_count": 2275,
     "metadata": {},
     "output_type": "execute_result"
    }
   ],
   "source": [
    "from sklearn.preprocessing import MinMaxScaler\n",
    "scaler = MinMaxScaler()\n",
    "x_min = scaler.fit_transform(x)\n",
    "x_min = pd.DataFrame(data=x_min, columns=df.columns[2:])\n",
    "x_min"
   ]
  },
  {
   "cell_type": "code",
   "execution_count": 2276,
   "metadata": {},
   "outputs": [
    {
     "data": {
      "text/html": [
       "<div>\n",
       "<style scoped>\n",
       "    .dataframe tbody tr th:only-of-type {\n",
       "        vertical-align: middle;\n",
       "    }\n",
       "\n",
       "    .dataframe tbody tr th {\n",
       "        vertical-align: top;\n",
       "    }\n",
       "\n",
       "    .dataframe thead th {\n",
       "        text-align: right;\n",
       "    }\n",
       "</style>\n",
       "<table border=\"1\" class=\"dataframe\">\n",
       "  <thead>\n",
       "    <tr style=\"text-align: right;\">\n",
       "      <th></th>\n",
       "      <th>CH4AGR</th>\n",
       "      <th>CO2AGR</th>\n",
       "      <th>N2OAGR</th>\n",
       "      <th>TOTAGR_LAND</th>\n",
       "      <th>TOTENERGYAG</th>\n",
       "      <th>TOTFRESHWATER</th>\n",
       "      <th>TOTPEST</th>\n",
       "    </tr>\n",
       "  </thead>\n",
       "  <tbody>\n",
       "    <tr>\n",
       "      <th>0</th>\n",
       "      <td>-0.437801</td>\n",
       "      <td>-0.406897</td>\n",
       "      <td>-0.426539</td>\n",
       "      <td>3.638285</td>\n",
       "      <td>-0.457238</td>\n",
       "      <td>-0.229238</td>\n",
       "      <td>-0.232226</td>\n",
       "    </tr>\n",
       "    <tr>\n",
       "      <th>1</th>\n",
       "      <td>-0.437801</td>\n",
       "      <td>-0.406897</td>\n",
       "      <td>-0.426539</td>\n",
       "      <td>3.634572</td>\n",
       "      <td>-0.457238</td>\n",
       "      <td>-0.229238</td>\n",
       "      <td>-0.232226</td>\n",
       "    </tr>\n",
       "    <tr>\n",
       "      <th>2</th>\n",
       "      <td>-0.437801</td>\n",
       "      <td>-0.406897</td>\n",
       "      <td>-0.426539</td>\n",
       "      <td>3.514413</td>\n",
       "      <td>-0.457238</td>\n",
       "      <td>-0.229238</td>\n",
       "      <td>-0.232226</td>\n",
       "    </tr>\n",
       "    <tr>\n",
       "      <th>3</th>\n",
       "      <td>-0.437801</td>\n",
       "      <td>-0.406897</td>\n",
       "      <td>-0.426539</td>\n",
       "      <td>3.523026</td>\n",
       "      <td>-0.457238</td>\n",
       "      <td>-0.229238</td>\n",
       "      <td>-0.232226</td>\n",
       "    </tr>\n",
       "    <tr>\n",
       "      <th>4</th>\n",
       "      <td>-0.437801</td>\n",
       "      <td>-0.406897</td>\n",
       "      <td>-0.426539</td>\n",
       "      <td>3.425105</td>\n",
       "      <td>-0.457238</td>\n",
       "      <td>-0.229238</td>\n",
       "      <td>-0.232226</td>\n",
       "    </tr>\n",
       "    <tr>\n",
       "      <th>...</th>\n",
       "      <td>...</td>\n",
       "      <td>...</td>\n",
       "      <td>...</td>\n",
       "      <td>...</td>\n",
       "      <td>...</td>\n",
       "      <td>...</td>\n",
       "      <td>...</td>\n",
       "    </tr>\n",
       "    <tr>\n",
       "      <th>1699</th>\n",
       "      <td>-0.253018</td>\n",
       "      <td>-0.406897</td>\n",
       "      <td>-0.228983</td>\n",
       "      <td>0.332408</td>\n",
       "      <td>-0.091942</td>\n",
       "      <td>-0.229238</td>\n",
       "      <td>-0.094398</td>\n",
       "    </tr>\n",
       "    <tr>\n",
       "      <th>1700</th>\n",
       "      <td>-0.259651</td>\n",
       "      <td>-0.406897</td>\n",
       "      <td>-0.239492</td>\n",
       "      <td>0.332408</td>\n",
       "      <td>-0.128981</td>\n",
       "      <td>-0.229238</td>\n",
       "      <td>-0.094398</td>\n",
       "    </tr>\n",
       "    <tr>\n",
       "      <th>1701</th>\n",
       "      <td>-0.259288</td>\n",
       "      <td>-0.406897</td>\n",
       "      <td>-0.217354</td>\n",
       "      <td>0.332408</td>\n",
       "      <td>-0.064419</td>\n",
       "      <td>-0.229238</td>\n",
       "      <td>-0.094398</td>\n",
       "    </tr>\n",
       "    <tr>\n",
       "      <th>1702</th>\n",
       "      <td>-0.262571</td>\n",
       "      <td>-0.406897</td>\n",
       "      <td>-0.222589</td>\n",
       "      <td>0.332408</td>\n",
       "      <td>-0.063013</td>\n",
       "      <td>-0.229238</td>\n",
       "      <td>-0.094398</td>\n",
       "    </tr>\n",
       "    <tr>\n",
       "      <th>1703</th>\n",
       "      <td>-0.267772</td>\n",
       "      <td>-0.406897</td>\n",
       "      <td>-0.233265</td>\n",
       "      <td>0.332408</td>\n",
       "      <td>-0.045544</td>\n",
       "      <td>-0.229238</td>\n",
       "      <td>-0.232226</td>\n",
       "    </tr>\n",
       "  </tbody>\n",
       "</table>\n",
       "<p>1704 rows × 7 columns</p>\n",
       "</div>"
      ],
      "text/plain": [
       "        CH4AGR    CO2AGR    N2OAGR  TOTAGR_LAND  TOTENERGYAG  TOTFRESHWATER  \\\n",
       "0    -0.437801 -0.406897 -0.426539     3.638285    -0.457238      -0.229238   \n",
       "1    -0.437801 -0.406897 -0.426539     3.634572    -0.457238      -0.229238   \n",
       "2    -0.437801 -0.406897 -0.426539     3.514413    -0.457238      -0.229238   \n",
       "3    -0.437801 -0.406897 -0.426539     3.523026    -0.457238      -0.229238   \n",
       "4    -0.437801 -0.406897 -0.426539     3.425105    -0.457238      -0.229238   \n",
       "...        ...       ...       ...          ...          ...            ...   \n",
       "1699 -0.253018 -0.406897 -0.228983     0.332408    -0.091942      -0.229238   \n",
       "1700 -0.259651 -0.406897 -0.239492     0.332408    -0.128981      -0.229238   \n",
       "1701 -0.259288 -0.406897 -0.217354     0.332408    -0.064419      -0.229238   \n",
       "1702 -0.262571 -0.406897 -0.222589     0.332408    -0.063013      -0.229238   \n",
       "1703 -0.267772 -0.406897 -0.233265     0.332408    -0.045544      -0.229238   \n",
       "\n",
       "       TOTPEST  \n",
       "0    -0.232226  \n",
       "1    -0.232226  \n",
       "2    -0.232226  \n",
       "3    -0.232226  \n",
       "4    -0.232226  \n",
       "...        ...  \n",
       "1699 -0.094398  \n",
       "1700 -0.094398  \n",
       "1701 -0.094398  \n",
       "1702 -0.094398  \n",
       "1703 -0.232226  \n",
       "\n",
       "[1704 rows x 7 columns]"
      ]
     },
     "execution_count": 2276,
     "metadata": {},
     "output_type": "execute_result"
    }
   ],
   "source": [
    "from sklearn.preprocessing import StandardScaler\n",
    "scaler = StandardScaler()\n",
    "x_std = scaler.fit_transform(x)\n",
    "x_std = pd.DataFrame(data=x_std, columns=df.columns[2:])\n",
    "x_std"
   ]
  },
  {
   "cell_type": "markdown",
   "metadata": {},
   "source": [
    "### Hopkins"
   ]
  },
  {
   "cell_type": "code",
   "execution_count": 2277,
   "metadata": {},
   "outputs": [],
   "source": [
    "from pyclustertend import hopkins"
   ]
  },
  {
   "cell_type": "code",
   "execution_count": 2278,
   "metadata": {},
   "outputs": [
    {
     "data": {
      "text/html": [
       "<div>\n",
       "<style scoped>\n",
       "    .dataframe tbody tr th:only-of-type {\n",
       "        vertical-align: middle;\n",
       "    }\n",
       "\n",
       "    .dataframe tbody tr th {\n",
       "        vertical-align: top;\n",
       "    }\n",
       "\n",
       "    .dataframe thead th {\n",
       "        text-align: right;\n",
       "    }\n",
       "</style>\n",
       "<table border=\"1\" class=\"dataframe\">\n",
       "  <thead>\n",
       "    <tr style=\"text-align: right;\">\n",
       "      <th></th>\n",
       "      <th>CH4AGR</th>\n",
       "      <th>CO2AGR</th>\n",
       "      <th>N2OAGR</th>\n",
       "      <th>TOTAGR_LAND</th>\n",
       "      <th>TOTENERGYAG</th>\n",
       "      <th>TOTFRESHWATER</th>\n",
       "      <th>TOTPEST</th>\n",
       "    </tr>\n",
       "  </thead>\n",
       "  <tbody>\n",
       "    <tr>\n",
       "      <th>1703</th>\n",
       "      <td>17022.314</td>\n",
       "      <td>0.0</td>\n",
       "      <td>12168.801</td>\n",
       "      <td>96341.0</td>\n",
       "      <td>2386.718</td>\n",
       "      <td>0.0</td>\n",
       "      <td>0.0</td>\n",
       "    </tr>\n",
       "  </tbody>\n",
       "</table>\n",
       "</div>"
      ],
      "text/plain": [
       "         CH4AGR  CO2AGR     N2OAGR  TOTAGR_LAND  TOTENERGYAG  TOTFRESHWATER  \\\n",
       "1703  17022.314     0.0  12168.801      96341.0     2386.718            0.0   \n",
       "\n",
       "      TOTPEST  \n",
       "1703      0.0  "
      ]
     },
     "execution_count": 2278,
     "metadata": {},
     "output_type": "execute_result"
    }
   ],
   "source": [
    "x.tail(1)"
   ]
  },
  {
   "cell_type": "code",
   "execution_count": 2279,
   "metadata": {},
   "outputs": [
    {
     "data": {
      "text/html": [
       "<div>\n",
       "<style scoped>\n",
       "    .dataframe tbody tr th:only-of-type {\n",
       "        vertical-align: middle;\n",
       "    }\n",
       "\n",
       "    .dataframe tbody tr th {\n",
       "        vertical-align: top;\n",
       "    }\n",
       "\n",
       "    .dataframe thead th {\n",
       "        text-align: right;\n",
       "    }\n",
       "</style>\n",
       "<table border=\"1\" class=\"dataframe\">\n",
       "  <thead>\n",
       "    <tr style=\"text-align: right;\">\n",
       "      <th></th>\n",
       "      <th>CH4AGR</th>\n",
       "      <th>CO2AGR</th>\n",
       "      <th>N2OAGR</th>\n",
       "      <th>TOTAGR_LAND</th>\n",
       "      <th>TOTENERGYAG</th>\n",
       "      <th>TOTFRESHWATER</th>\n",
       "      <th>TOTPEST</th>\n",
       "    </tr>\n",
       "  </thead>\n",
       "  <tbody>\n",
       "    <tr>\n",
       "      <th>1703</th>\n",
       "      <td>0.030384</td>\n",
       "      <td>0.0</td>\n",
       "      <td>0.03314</td>\n",
       "      <td>0.182106</td>\n",
       "      <td>0.054347</td>\n",
       "      <td>0.0</td>\n",
       "      <td>0.0</td>\n",
       "    </tr>\n",
       "  </tbody>\n",
       "</table>\n",
       "</div>"
      ],
      "text/plain": [
       "        CH4AGR  CO2AGR   N2OAGR  TOTAGR_LAND  TOTENERGYAG  TOTFRESHWATER  \\\n",
       "1703  0.030384     0.0  0.03314     0.182106     0.054347            0.0   \n",
       "\n",
       "      TOTPEST  \n",
       "1703      0.0  "
      ]
     },
     "execution_count": 2279,
     "metadata": {},
     "output_type": "execute_result"
    }
   ],
   "source": [
    "x_min.tail(1)"
   ]
  },
  {
   "cell_type": "code",
   "execution_count": 2280,
   "metadata": {},
   "outputs": [
    {
     "data": {
      "text/html": [
       "<div>\n",
       "<style scoped>\n",
       "    .dataframe tbody tr th:only-of-type {\n",
       "        vertical-align: middle;\n",
       "    }\n",
       "\n",
       "    .dataframe tbody tr th {\n",
       "        vertical-align: top;\n",
       "    }\n",
       "\n",
       "    .dataframe thead th {\n",
       "        text-align: right;\n",
       "    }\n",
       "</style>\n",
       "<table border=\"1\" class=\"dataframe\">\n",
       "  <thead>\n",
       "    <tr style=\"text-align: right;\">\n",
       "      <th></th>\n",
       "      <th>CH4AGR</th>\n",
       "      <th>CO2AGR</th>\n",
       "      <th>N2OAGR</th>\n",
       "      <th>TOTAGR_LAND</th>\n",
       "      <th>TOTENERGYAG</th>\n",
       "      <th>TOTFRESHWATER</th>\n",
       "      <th>TOTPEST</th>\n",
       "    </tr>\n",
       "  </thead>\n",
       "  <tbody>\n",
       "    <tr>\n",
       "      <th>1703</th>\n",
       "      <td>-0.267772</td>\n",
       "      <td>-0.406897</td>\n",
       "      <td>-0.233265</td>\n",
       "      <td>0.332408</td>\n",
       "      <td>-0.045544</td>\n",
       "      <td>-0.229238</td>\n",
       "      <td>-0.232226</td>\n",
       "    </tr>\n",
       "  </tbody>\n",
       "</table>\n",
       "</div>"
      ],
      "text/plain": [
       "        CH4AGR    CO2AGR    N2OAGR  TOTAGR_LAND  TOTENERGYAG  TOTFRESHWATER  \\\n",
       "1703 -0.267772 -0.406897 -0.233265     0.332408    -0.045544      -0.229238   \n",
       "\n",
       "       TOTPEST  \n",
       "1703 -0.232226  "
      ]
     },
     "execution_count": 2280,
     "metadata": {},
     "output_type": "execute_result"
    }
   ],
   "source": [
    "x_std.tail(1)"
   ]
  },
  {
   "cell_type": "code",
   "execution_count": 2281,
   "metadata": {},
   "outputs": [
    {
     "name": "stdout",
     "output_type": "stream",
     "text": [
      "No Scale \t: 0.008415752048264221\n",
      "MinMax Scale \t: 0.011355172030180698\n",
      "StdScl Scale \t: 0.012106148452316758\n"
     ]
    }
   ],
   "source": [
    "print(f\"No Scale \\t: {hopkins(x, x.shape[0])}\")\n",
    "print(f\"MinMax Scale \\t: {hopkins(x_min, x_min.shape[0])}\")\n",
    "print(f\"StdScl Scale \\t: {hopkins(x_std, x_std.shape[0])}\")\n",
    "\n",
    "# Suitable for Clustering >>> close to zero >>> Do Not Use Scaling"
   ]
  },
  {
   "cell_type": "markdown",
   "metadata": {},
   "source": [
    "### Model"
   ]
  },
  {
   "cell_type": "code",
   "execution_count": 2282,
   "metadata": {},
   "outputs": [],
   "source": [
    "from sklearn.cluster import KMeans\n",
    "model = KMeans(random_state=42)"
   ]
  },
  {
   "cell_type": "code",
   "execution_count": 2283,
   "metadata": {},
   "outputs": [
    {
     "data": {
      "text/plain": [
       "array([7, 7, 7, ..., 0, 0, 0])"
      ]
     },
     "execution_count": 2283,
     "metadata": {},
     "output_type": "execute_result"
    }
   ],
   "source": [
    "model.fit_predict(x)"
   ]
  },
  {
   "cell_type": "code",
   "execution_count": 2284,
   "metadata": {},
   "outputs": [
    {
     "data": {
      "text/plain": [
       "KMeans(random_state=42)"
      ]
     },
     "execution_count": 2284,
     "metadata": {},
     "output_type": "execute_result"
    }
   ],
   "source": [
    "model.fit(x)"
   ]
  },
  {
   "cell_type": "code",
   "execution_count": 2285,
   "metadata": {},
   "outputs": [
    {
     "data": {
      "text/plain": [
       "array([7, 7, 7, ..., 0, 0, 0])"
      ]
     },
     "execution_count": 2285,
     "metadata": {},
     "output_type": "execute_result"
    }
   ],
   "source": [
    "model.labels_"
   ]
  },
  {
   "cell_type": "code",
   "execution_count": 2286,
   "metadata": {},
   "outputs": [],
   "source": [
    "x[\"Class\"] = model.labels_"
   ]
  },
  {
   "cell_type": "code",
   "execution_count": 2287,
   "metadata": {},
   "outputs": [
    {
     "data": {
      "text/html": [
       "<div>\n",
       "<style scoped>\n",
       "    .dataframe tbody tr th:only-of-type {\n",
       "        vertical-align: middle;\n",
       "    }\n",
       "\n",
       "    .dataframe tbody tr th {\n",
       "        vertical-align: top;\n",
       "    }\n",
       "\n",
       "    .dataframe thead th {\n",
       "        text-align: right;\n",
       "    }\n",
       "</style>\n",
       "<table border=\"1\" class=\"dataframe\">\n",
       "  <thead>\n",
       "    <tr style=\"text-align: right;\">\n",
       "      <th></th>\n",
       "      <th>CH4AGR</th>\n",
       "      <th>CO2AGR</th>\n",
       "      <th>N2OAGR</th>\n",
       "      <th>TOTAGR_LAND</th>\n",
       "      <th>TOTENERGYAG</th>\n",
       "      <th>TOTFRESHWATER</th>\n",
       "      <th>TOTPEST</th>\n",
       "      <th>Class</th>\n",
       "    </tr>\n",
       "  </thead>\n",
       "  <tbody>\n",
       "    <tr>\n",
       "      <th>0</th>\n",
       "      <td>0.000</td>\n",
       "      <td>0.0</td>\n",
       "      <td>0.000</td>\n",
       "      <td>485605.123</td>\n",
       "      <td>0.000</td>\n",
       "      <td>0.0</td>\n",
       "      <td>0.0</td>\n",
       "      <td>7</td>\n",
       "    </tr>\n",
       "    <tr>\n",
       "      <th>1</th>\n",
       "      <td>0.000</td>\n",
       "      <td>0.0</td>\n",
       "      <td>0.000</td>\n",
       "      <td>485167.951</td>\n",
       "      <td>0.000</td>\n",
       "      <td>0.0</td>\n",
       "      <td>0.0</td>\n",
       "      <td>7</td>\n",
       "    </tr>\n",
       "    <tr>\n",
       "      <th>2</th>\n",
       "      <td>0.000</td>\n",
       "      <td>0.0</td>\n",
       "      <td>0.000</td>\n",
       "      <td>471019.353</td>\n",
       "      <td>0.000</td>\n",
       "      <td>0.0</td>\n",
       "      <td>0.0</td>\n",
       "      <td>7</td>\n",
       "    </tr>\n",
       "    <tr>\n",
       "      <th>3</th>\n",
       "      <td>0.000</td>\n",
       "      <td>0.0</td>\n",
       "      <td>0.000</td>\n",
       "      <td>472033.507</td>\n",
       "      <td>0.000</td>\n",
       "      <td>0.0</td>\n",
       "      <td>0.0</td>\n",
       "      <td>7</td>\n",
       "    </tr>\n",
       "    <tr>\n",
       "      <th>4</th>\n",
       "      <td>0.000</td>\n",
       "      <td>0.0</td>\n",
       "      <td>0.000</td>\n",
       "      <td>460503.367</td>\n",
       "      <td>0.000</td>\n",
       "      <td>0.0</td>\n",
       "      <td>0.0</td>\n",
       "      <td>7</td>\n",
       "    </tr>\n",
       "    <tr>\n",
       "      <th>...</th>\n",
       "      <td>...</td>\n",
       "      <td>...</td>\n",
       "      <td>...</td>\n",
       "      <td>...</td>\n",
       "      <td>...</td>\n",
       "      <td>...</td>\n",
       "      <td>...</td>\n",
       "      <td>...</td>\n",
       "    </tr>\n",
       "    <tr>\n",
       "      <th>1699</th>\n",
       "      <td>18499.379</td>\n",
       "      <td>0.0</td>\n",
       "      <td>12438.388</td>\n",
       "      <td>96341.000</td>\n",
       "      <td>2117.738</td>\n",
       "      <td>0.0</td>\n",
       "      <td>26857.0</td>\n",
       "      <td>0</td>\n",
       "    </tr>\n",
       "    <tr>\n",
       "      <th>1700</th>\n",
       "      <td>17835.285</td>\n",
       "      <td>0.0</td>\n",
       "      <td>11776.712</td>\n",
       "      <td>96341.000</td>\n",
       "      <td>1903.008</td>\n",
       "      <td>0.0</td>\n",
       "      <td>26857.0</td>\n",
       "      <td>0</td>\n",
       "    </tr>\n",
       "    <tr>\n",
       "      <th>1701</th>\n",
       "      <td>17871.609</td>\n",
       "      <td>0.0</td>\n",
       "      <td>13170.590</td>\n",
       "      <td>96341.000</td>\n",
       "      <td>2277.294</td>\n",
       "      <td>0.0</td>\n",
       "      <td>26857.0</td>\n",
       "      <td>0</td>\n",
       "    </tr>\n",
       "    <tr>\n",
       "      <th>1702</th>\n",
       "      <td>17542.932</td>\n",
       "      <td>0.0</td>\n",
       "      <td>12840.974</td>\n",
       "      <td>96341.000</td>\n",
       "      <td>2285.447</td>\n",
       "      <td>0.0</td>\n",
       "      <td>26857.0</td>\n",
       "      <td>0</td>\n",
       "    </tr>\n",
       "    <tr>\n",
       "      <th>1703</th>\n",
       "      <td>17022.314</td>\n",
       "      <td>0.0</td>\n",
       "      <td>12168.801</td>\n",
       "      <td>96341.000</td>\n",
       "      <td>2386.718</td>\n",
       "      <td>0.0</td>\n",
       "      <td>0.0</td>\n",
       "      <td>0</td>\n",
       "    </tr>\n",
       "  </tbody>\n",
       "</table>\n",
       "<p>1704 rows × 8 columns</p>\n",
       "</div>"
      ],
      "text/plain": [
       "         CH4AGR  CO2AGR     N2OAGR  TOTAGR_LAND  TOTENERGYAG  TOTFRESHWATER  \\\n",
       "0         0.000     0.0      0.000   485605.123        0.000            0.0   \n",
       "1         0.000     0.0      0.000   485167.951        0.000            0.0   \n",
       "2         0.000     0.0      0.000   471019.353        0.000            0.0   \n",
       "3         0.000     0.0      0.000   472033.507        0.000            0.0   \n",
       "4         0.000     0.0      0.000   460503.367        0.000            0.0   \n",
       "...         ...     ...        ...          ...          ...            ...   \n",
       "1699  18499.379     0.0  12438.388    96341.000     2117.738            0.0   \n",
       "1700  17835.285     0.0  11776.712    96341.000     1903.008            0.0   \n",
       "1701  17871.609     0.0  13170.590    96341.000     2277.294            0.0   \n",
       "1702  17542.932     0.0  12840.974    96341.000     2285.447            0.0   \n",
       "1703  17022.314     0.0  12168.801    96341.000     2386.718            0.0   \n",
       "\n",
       "      TOTPEST  Class  \n",
       "0         0.0      7  \n",
       "1         0.0      7  \n",
       "2         0.0      7  \n",
       "3         0.0      7  \n",
       "4         0.0      7  \n",
       "...       ...    ...  \n",
       "1699  26857.0      0  \n",
       "1700  26857.0      0  \n",
       "1701  26857.0      0  \n",
       "1702  26857.0      0  \n",
       "1703      0.0      0  \n",
       "\n",
       "[1704 rows x 8 columns]"
      ]
     },
     "execution_count": 2287,
     "metadata": {},
     "output_type": "execute_result"
    }
   ],
   "source": [
    "x"
   ]
  },
  {
   "cell_type": "code",
   "execution_count": 2288,
   "metadata": {},
   "outputs": [
    {
     "data": {
      "text/plain": [
       "array([0, 1, 2, 3, 4, 5, 6, 7])"
      ]
     },
     "execution_count": 2288,
     "metadata": {},
     "output_type": "execute_result"
    }
   ],
   "source": [
    "x.sort_values(by=\"Class\").Class.unique()"
   ]
  },
  {
   "cell_type": "markdown",
   "metadata": {},
   "source": [
    "### Elbow >>> Best \"k\""
   ]
  },
  {
   "cell_type": "code",
   "execution_count": 2289,
   "metadata": {},
   "outputs": [],
   "source": [
    "ssd = []  # Sum Squared Distances\n",
    "K = range(2,10)\n",
    "for k in K:\n",
    "    model = KMeans(n_clusters=k, random_state=42)\n",
    "    model.fit(x)\n",
    "    ssd.append(model.inertia_)"
   ]
  },
  {
   "cell_type": "code",
   "execution_count": 2290,
   "metadata": {},
   "outputs": [
    {
     "data": {
      "text/plain": [
       "Text(0.5, 1.0, \"Elbow For Best 'k'\")"
      ]
     },
     "execution_count": 2290,
     "metadata": {},
     "output_type": "execute_result"
    },
    {
     "data": {
      "image/png": "[encoded data removed]",
      "text/plain": [
       "<Figure size 576x396 with 1 Axes>"
      ]
     },
     "metadata": {},
     "output_type": "display_data"
    }
   ],
   "source": [
    "plt.plot(K, ssd, \"bo-\")\n",
    "plt.xlabel(\"'k' Samples\" )\n",
    "plt.ylabel(\"inertia-error\") \n",
    "plt.title(\"Elbow For Best 'k'\") "
   ]
  },
  {
   "cell_type": "code",
   "execution_count": 2291,
   "metadata": {},
   "outputs": [],
   "source": [
    "# Due to Elbow >>> Best \"k\" = 3"
   ]
  },
  {
   "cell_type": "markdown",
   "metadata": {},
   "source": [
    "### Yellowbrick >>> Best \"k\""
   ]
  },
  {
   "cell_type": "code",
   "execution_count": 2292,
   "metadata": {},
   "outputs": [
    {
     "data": {
      "image/png": "[encoded data removed]",
      "text/plain": [
       "<Figure size 576x396 with 2 Axes>"
      ]
     },
     "metadata": {},
     "output_type": "display_data"
    }
   ],
   "source": [
    "from yellowbrick.cluster import KElbowVisualizer\n",
    "model_ = KMeans(random_state=42)\n",
    "\n",
    "visualizer = KElbowVisualizer(model_, k=(2,9))\n",
    "visualizer.fit(x)     \n",
    "visualizer.show();"
   ]
  },
  {
   "cell_type": "code",
   "execution_count": 2293,
   "metadata": {},
   "outputs": [],
   "source": [
    "# Due to Yellowbrick >>> Best \"k\" = 3"
   ]
  },
  {
   "cell_type": "markdown",
   "metadata": {},
   "source": [
    "### Silhouette"
   ]
  },
  {
   "cell_type": "code",
   "execution_count": 2294,
   "metadata": {},
   "outputs": [
    {
     "data": {
      "text/plain": [
       "0.7399168355741476"
      ]
     },
     "execution_count": 2294,
     "metadata": {},
     "output_type": "execute_result"
    }
   ],
   "source": [
    "from sklearn.metrics import silhouette_score\n",
    "silhouette_score(x, model.labels_)\n",
    "# For k=8 clusters"
   ]
  },
  {
   "cell_type": "code",
   "execution_count": 2295,
   "metadata": {},
   "outputs": [
    {
     "name": "stdout",
     "output_type": "stream",
     "text": [
      "For n_clusters=2, the silhouette score is 0.9076895584932368\n",
      "For n_clusters=3, the silhouette score is 0.8210783096036453\n",
      "For n_clusters=4, the silhouette score is 0.7774058125384525\n",
      "For n_clusters=5, the silhouette score is 0.7876487782714071\n",
      "For n_clusters=6, the silhouette score is 0.7904630598956134\n",
      "For n_clusters=7, the silhouette score is 0.7328160689171759\n",
      "For n_clusters=8, the silhouette score is 0.7360104133444572\n"
     ]
    }
   ],
   "source": [
    "range_n_clusters = range(2,9)\n",
    "\n",
    "for num_clusters in range_n_clusters:\n",
    "    # intialise kmeans\n",
    "    kmeans = KMeans(n_clusters=num_clusters, random_state=42)\n",
    "    kmeans.fit(x)\n",
    "    cluster_labels = kmeans.labels_\n",
    "    # silhouette score\n",
    "    silhouette_avg = silhouette_score(x, cluster_labels)\n",
    "    print(f\"For n_clusters={num_clusters}, the silhouette score is {silhouette_avg}\")"
   ]
  },
  {
   "cell_type": "code",
   "execution_count": 2296,
   "metadata": {},
   "outputs": [],
   "source": [
    "# Best Silhouette Score >>> For \"k\"=3 >>> 0.8210783096036453     "
   ]
  },
  {
   "cell_type": "code",
   "execution_count": 2297,
   "metadata": {},
   "outputs": [
    {
     "data": {
      "image/png": "[encoded data removed]",
      "text/plain": [
       "<Figure size 576x396 with 1 Axes>"
      ]
     },
     "metadata": {},
     "output_type": "display_data"
    }
   ],
   "source": [
    "from sklearn.cluster import KMeans\n",
    "from yellowbrick.cluster import SilhouetteVisualizer\n",
    "\n",
    "model3 = KMeans(n_clusters=3, random_state=42)\n",
    "\n",
    "visualizer = SilhouetteVisualizer(model3)\n",
    "visualizer.fit(x)    # Fit the data to the visualizer\n",
    "visualizer.poof();"
   ]
  },
  {
   "cell_type": "markdown",
   "metadata": {},
   "source": [
    "### Model With \"k\"=3"
   ]
  },
  {
   "cell_type": "code",
   "execution_count": 2298,
   "metadata": {},
   "outputs": [
    {
     "data": {
      "text/plain": [
       "array([2, 2, 2, ..., 0, 0, 0])"
      ]
     },
     "execution_count": 2298,
     "metadata": {},
     "output_type": "execute_result"
    }
   ],
   "source": [
    "model = KMeans(n_clusters =3, random_state=42)\n",
    "model.fit_predict(x)"
   ]
  },
  {
   "cell_type": "code",
   "execution_count": 2299,
   "metadata": {},
   "outputs": [
    {
     "data": {
      "text/plain": [
       "array([2, 2, 2, ..., 0, 0, 0])"
      ]
     },
     "execution_count": 2299,
     "metadata": {},
     "output_type": "execute_result"
    }
   ],
   "source": [
    "model.labels_"
   ]
  },
  {
   "cell_type": "code",
   "execution_count": 2300,
   "metadata": {},
   "outputs": [],
   "source": [
    "clusters = model.labels_"
   ]
  },
  {
   "cell_type": "code",
   "execution_count": 2301,
   "metadata": {},
   "outputs": [],
   "source": [
    "df[\"pred_class\"] = clusters"
   ]
  },
  {
   "cell_type": "code",
   "execution_count": 2302,
   "metadata": {},
   "outputs": [
    {
     "data": {
      "text/html": [
       "<div>\n",
       "<style scoped>\n",
       "    .dataframe tbody tr th:only-of-type {\n",
       "        vertical-align: middle;\n",
       "    }\n",
       "\n",
       "    .dataframe tbody tr th {\n",
       "        vertical-align: top;\n",
       "    }\n",
       "\n",
       "    .dataframe thead th {\n",
       "        text-align: right;\n",
       "    }\n",
       "</style>\n",
       "<table border=\"1\" class=\"dataframe\">\n",
       "  <thead>\n",
       "    <tr style=\"text-align: right;\">\n",
       "      <th></th>\n",
       "      <th>COUNTRY</th>\n",
       "      <th>TIME_PERIOD</th>\n",
       "      <th>CH4AGR</th>\n",
       "      <th>CO2AGR</th>\n",
       "      <th>N2OAGR</th>\n",
       "      <th>TOTAGR_LAND</th>\n",
       "      <th>TOTENERGYAG</th>\n",
       "      <th>TOTFRESHWATER</th>\n",
       "      <th>TOTPEST</th>\n",
       "      <th>pred_class</th>\n",
       "    </tr>\n",
       "  </thead>\n",
       "  <tbody>\n",
       "    <tr>\n",
       "      <th>0</th>\n",
       "      <td>AUS</td>\n",
       "      <td>1985</td>\n",
       "      <td>0.000</td>\n",
       "      <td>0.0</td>\n",
       "      <td>0.000</td>\n",
       "      <td>485605.123</td>\n",
       "      <td>0.000</td>\n",
       "      <td>0.0</td>\n",
       "      <td>0.0</td>\n",
       "      <td>2</td>\n",
       "    </tr>\n",
       "    <tr>\n",
       "      <th>1</th>\n",
       "      <td>AUS</td>\n",
       "      <td>1986</td>\n",
       "      <td>0.000</td>\n",
       "      <td>0.0</td>\n",
       "      <td>0.000</td>\n",
       "      <td>485167.951</td>\n",
       "      <td>0.000</td>\n",
       "      <td>0.0</td>\n",
       "      <td>0.0</td>\n",
       "      <td>2</td>\n",
       "    </tr>\n",
       "    <tr>\n",
       "      <th>2</th>\n",
       "      <td>AUS</td>\n",
       "      <td>1987</td>\n",
       "      <td>0.000</td>\n",
       "      <td>0.0</td>\n",
       "      <td>0.000</td>\n",
       "      <td>471019.353</td>\n",
       "      <td>0.000</td>\n",
       "      <td>0.0</td>\n",
       "      <td>0.0</td>\n",
       "      <td>2</td>\n",
       "    </tr>\n",
       "    <tr>\n",
       "      <th>3</th>\n",
       "      <td>AUS</td>\n",
       "      <td>1988</td>\n",
       "      <td>0.000</td>\n",
       "      <td>0.0</td>\n",
       "      <td>0.000</td>\n",
       "      <td>472033.507</td>\n",
       "      <td>0.000</td>\n",
       "      <td>0.0</td>\n",
       "      <td>0.0</td>\n",
       "      <td>2</td>\n",
       "    </tr>\n",
       "    <tr>\n",
       "      <th>4</th>\n",
       "      <td>AUS</td>\n",
       "      <td>1989</td>\n",
       "      <td>0.000</td>\n",
       "      <td>0.0</td>\n",
       "      <td>0.000</td>\n",
       "      <td>460503.367</td>\n",
       "      <td>0.000</td>\n",
       "      <td>0.0</td>\n",
       "      <td>0.0</td>\n",
       "      <td>2</td>\n",
       "    </tr>\n",
       "    <tr>\n",
       "      <th>...</th>\n",
       "      <td>...</td>\n",
       "      <td>...</td>\n",
       "      <td>...</td>\n",
       "      <td>...</td>\n",
       "      <td>...</td>\n",
       "      <td>...</td>\n",
       "      <td>...</td>\n",
       "      <td>...</td>\n",
       "      <td>...</td>\n",
       "      <td>...</td>\n",
       "    </tr>\n",
       "    <tr>\n",
       "      <th>1699</th>\n",
       "      <td>ZAF</td>\n",
       "      <td>2015</td>\n",
       "      <td>18499.379</td>\n",
       "      <td>0.0</td>\n",
       "      <td>12438.388</td>\n",
       "      <td>96341.000</td>\n",
       "      <td>2117.738</td>\n",
       "      <td>0.0</td>\n",
       "      <td>26857.0</td>\n",
       "      <td>0</td>\n",
       "    </tr>\n",
       "    <tr>\n",
       "      <th>1700</th>\n",
       "      <td>ZAF</td>\n",
       "      <td>2016</td>\n",
       "      <td>17835.285</td>\n",
       "      <td>0.0</td>\n",
       "      <td>11776.712</td>\n",
       "      <td>96341.000</td>\n",
       "      <td>1903.008</td>\n",
       "      <td>0.0</td>\n",
       "      <td>26857.0</td>\n",
       "      <td>0</td>\n",
       "    </tr>\n",
       "    <tr>\n",
       "      <th>1701</th>\n",
       "      <td>ZAF</td>\n",
       "      <td>2017</td>\n",
       "      <td>17871.609</td>\n",
       "      <td>0.0</td>\n",
       "      <td>13170.590</td>\n",
       "      <td>96341.000</td>\n",
       "      <td>2277.294</td>\n",
       "      <td>0.0</td>\n",
       "      <td>26857.0</td>\n",
       "      <td>0</td>\n",
       "    </tr>\n",
       "    <tr>\n",
       "      <th>1702</th>\n",
       "      <td>ZAF</td>\n",
       "      <td>2018</td>\n",
       "      <td>17542.932</td>\n",
       "      <td>0.0</td>\n",
       "      <td>12840.974</td>\n",
       "      <td>96341.000</td>\n",
       "      <td>2285.447</td>\n",
       "      <td>0.0</td>\n",
       "      <td>26857.0</td>\n",
       "      <td>0</td>\n",
       "    </tr>\n",
       "    <tr>\n",
       "      <th>1703</th>\n",
       "      <td>ZAF</td>\n",
       "      <td>2019</td>\n",
       "      <td>17022.314</td>\n",
       "      <td>0.0</td>\n",
       "      <td>12168.801</td>\n",
       "      <td>96341.000</td>\n",
       "      <td>2386.718</td>\n",
       "      <td>0.0</td>\n",
       "      <td>0.0</td>\n",
       "      <td>0</td>\n",
       "    </tr>\n",
       "  </tbody>\n",
       "</table>\n",
       "<p>1704 rows × 10 columns</p>\n",
       "</div>"
      ],
      "text/plain": [
       "     COUNTRY TIME_PERIOD     CH4AGR  CO2AGR     N2OAGR  TOTAGR_LAND  \\\n",
       "0        AUS        1985      0.000     0.0      0.000   485605.123   \n",
       "1        AUS        1986      0.000     0.0      0.000   485167.951   \n",
       "2        AUS        1987      0.000     0.0      0.000   471019.353   \n",
       "3        AUS        1988      0.000     0.0      0.000   472033.507   \n",
       "4        AUS        1989      0.000     0.0      0.000   460503.367   \n",
       "...      ...         ...        ...     ...        ...          ...   \n",
       "1699     ZAF        2015  18499.379     0.0  12438.388    96341.000   \n",
       "1700     ZAF        2016  17835.285     0.0  11776.712    96341.000   \n",
       "1701     ZAF        2017  17871.609     0.0  13170.590    96341.000   \n",
       "1702     ZAF        2018  17542.932     0.0  12840.974    96341.000   \n",
       "1703     ZAF        2019  17022.314     0.0  12168.801    96341.000   \n",
       "\n",
       "      TOTENERGYAG  TOTFRESHWATER  TOTPEST  pred_class  \n",
       "0           0.000            0.0      0.0           2  \n",
       "1           0.000            0.0      0.0           2  \n",
       "2           0.000            0.0      0.0           2  \n",
       "3           0.000            0.0      0.0           2  \n",
       "4           0.000            0.0      0.0           2  \n",
       "...           ...            ...      ...         ...  \n",
       "1699     2117.738            0.0  26857.0           0  \n",
       "1700     1903.008            0.0  26857.0           0  \n",
       "1701     2277.294            0.0  26857.0           0  \n",
       "1702     2285.447            0.0  26857.0           0  \n",
       "1703     2386.718            0.0      0.0           0  \n",
       "\n",
       "[1704 rows x 10 columns]"
      ]
     },
     "execution_count": 2302,
     "metadata": {},
     "output_type": "execute_result"
    }
   ],
   "source": [
    "df"
   ]
  },
  {
   "cell_type": "code",
   "execution_count": 2303,
   "metadata": {},
   "outputs": [
    {
     "data": {
      "text/plain": [
       "array(['AUT', 'BEL', 'BGR', 'CAN', 'CHE', 'CHL', 'COL', 'CRI', 'CYP',\n",
       "       'CZE', 'DEU', 'DNK', 'ESP', 'EST', 'FIN', 'FRA', 'GBR', 'GRC',\n",
       "       'HRV', 'HUN', 'IDN', 'IRL', 'ISL', 'ISR', 'ITA', 'JPN', 'KAZ',\n",
       "       'KOR', 'LTU', 'LUX', 'LVA', 'MEX', 'MLT', 'NLD', 'NOR', 'NZL',\n",
       "       'PHL', 'POL', 'PRT', 'ROU', 'RUS', 'SVK', 'SVN', 'SWE', 'TUR',\n",
       "       'UKR', 'VNM', 'ZAF'], dtype=object)"
      ]
     },
     "execution_count": 2303,
     "metadata": {},
     "output_type": "execute_result"
    }
   ],
   "source": [
    "df[df[\"pred_class\"]==0].COUNTRY.unique()"
   ]
  },
  {
   "cell_type": "code",
   "execution_count": 2304,
   "metadata": {},
   "outputs": [
    {
     "data": {
      "text/plain": [
       "array(['CHN'], dtype=object)"
      ]
     },
     "execution_count": 2304,
     "metadata": {},
     "output_type": "execute_result"
    }
   ],
   "source": [
    "df[df[\"pred_class\"]==1].COUNTRY.unique()"
   ]
  },
  {
   "cell_type": "code",
   "execution_count": 2305,
   "metadata": {},
   "outputs": [
    {
     "data": {
      "text/plain": [
       "array(['AUS', 'BRA', 'CHN', 'IND', 'RUS', 'USA'], dtype=object)"
      ]
     },
     "execution_count": 2305,
     "metadata": {},
     "output_type": "execute_result"
    }
   ],
   "source": [
    "df[df[\"pred_class\"]==2].COUNTRY.unique()"
   ]
  },
  {
   "cell_type": "code",
   "execution_count": 2306,
   "metadata": {},
   "outputs": [],
   "source": [
    "# 0 =    'AUT', 'BEL', 'BGR', 'CAN', 'CHE', 'CHL', 'COL', 'CRI', 'CYP',\n",
    "#        'CZE', 'DEU', 'DNK', 'ESP', 'EST', 'FIN', 'FRA', 'GBR', 'GRC',\n",
    "#        'HRV', 'HUN', 'IDN', 'IRL', 'ISL', 'ISR', 'ITA', 'JPN', 'KAZ',\n",
    "#        'KOR', 'LTU', 'LUX', 'LVA', 'MEX', 'MLT', 'NLD', 'NOR', 'NZL',\n",
    "#        'PHL', 'POL', 'PRT', 'ROU', 'SVK', 'SVN', 'SWE', 'TUR', 'UKR',\n",
    "#        'VNM', 'ZAF'\n",
    "\n",
    "# 1 =    'CHN'\n",
    "\n",
    "# 2 =    'AUS', 'BRA', 'IND', 'RUS', 'USA'"
   ]
  },
  {
   "cell_type": "markdown",
   "metadata": {},
   "source": [
    "### Adjusted Rand Score"
   ]
  },
  {
   "cell_type": "code",
   "execution_count": 2307,
   "metadata": {},
   "outputs": [],
   "source": [
    "# If data had been classified earlier, we could have evaluated Adjusted Rand Score."
   ]
  },
  {
   "cell_type": "markdown",
   "metadata": {},
   "source": [
    "### Visualization Clusters"
   ]
  },
  {
   "cell_type": "code",
   "execution_count": 2308,
   "metadata": {},
   "outputs": [
    {
     "data": {
      "text/html": [
       "<div>\n",
       "<style scoped>\n",
       "    .dataframe tbody tr th:only-of-type {\n",
       "        vertical-align: middle;\n",
       "    }\n",
       "\n",
       "    .dataframe tbody tr th {\n",
       "        vertical-align: top;\n",
       "    }\n",
       "\n",
       "    .dataframe thead th {\n",
       "        text-align: right;\n",
       "    }\n",
       "</style>\n",
       "<table border=\"1\" class=\"dataframe\">\n",
       "  <thead>\n",
       "    <tr style=\"text-align: right;\">\n",
       "      <th></th>\n",
       "      <th>COUNTRY</th>\n",
       "      <th>TIME_PERIOD</th>\n",
       "      <th>CH4AGR</th>\n",
       "      <th>CO2AGR</th>\n",
       "      <th>N2OAGR</th>\n",
       "      <th>TOTAGR_LAND</th>\n",
       "      <th>TOTENERGYAG</th>\n",
       "      <th>TOTFRESHWATER</th>\n",
       "      <th>TOTPEST</th>\n",
       "      <th>pred_class</th>\n",
       "    </tr>\n",
       "  </thead>\n",
       "  <tbody>\n",
       "    <tr>\n",
       "      <th>0</th>\n",
       "      <td>AUS</td>\n",
       "      <td>1985</td>\n",
       "      <td>0.0</td>\n",
       "      <td>0.0</td>\n",
       "      <td>0.0</td>\n",
       "      <td>485605.123</td>\n",
       "      <td>0.0</td>\n",
       "      <td>0.0</td>\n",
       "      <td>0.0</td>\n",
       "      <td>2</td>\n",
       "    </tr>\n",
       "  </tbody>\n",
       "</table>\n",
       "</div>"
      ],
      "text/plain": [
       "  COUNTRY TIME_PERIOD  CH4AGR  CO2AGR  N2OAGR  TOTAGR_LAND  TOTENERGYAG  \\\n",
       "0     AUS        1985     0.0     0.0     0.0   485605.123          0.0   \n",
       "\n",
       "   TOTFRESHWATER  TOTPEST  pred_class  \n",
       "0            0.0      0.0           2  "
      ]
     },
     "execution_count": 2308,
     "metadata": {},
     "output_type": "execute_result"
    }
   ],
   "source": [
    "df.head(1)"
   ]
  },
  {
   "cell_type": "code",
   "execution_count": 2309,
   "metadata": {},
   "outputs": [],
   "source": [
    "# CH4AGR        : Total Methane (CH4) from agriculture\n",
    "# CO2AGR        : Total Carbone dioxide (CO2) from agriculture\n",
    "# N2OAGR        : Total Nitrous oxide (N2O) from agriculture\n",
    "# TOTAGR_LAND   : Total Agricultural Land area\n",
    "# TOTENERGYAG   : Direct on-farm energy consumption\n",
    "# TOTFRESHWATER : Total freshwater abstraction\n",
    "# TOTPEST       : Total sales of agricultural pesticides"
   ]
  },
  {
   "cell_type": "code",
   "execution_count": 2310,
   "metadata": {},
   "outputs": [
    {
     "data": {
      "image/png": "[encoded data removed]",
      "text/plain": [
       "<Figure size 432x288 with 1 Axes>"
      ]
     },
     "metadata": {},
     "output_type": "display_data"
    }
   ],
   "source": [
    "plt.figure(figsize=(6,4))\n",
    "plt.scatter(df[\"CO2AGR\"], df[\"TOTAGR_LAND\"], c = df.pred_class, cmap = \"viridis\")\n",
    "plt.tight_layout;"
   ]
  },
  {
   "cell_type": "code",
   "execution_count": 2311,
   "metadata": {},
   "outputs": [
    {
     "data": {
      "image/png": "[encoded data removed]",
      "text/plain": [
       "<Figure size 432x288 with 1 Axes>"
      ]
     },
     "metadata": {},
     "output_type": "display_data"
    }
   ],
   "source": [
    "plt.figure(figsize=(6,4))\n",
    "plt.scatter(df[\"CO2AGR\"], df[\"TOTENERGYAG\"], c = df.pred_class, cmap = \"viridis\")\n",
    "plt.tight_layout;"
   ]
  },
  {
   "cell_type": "code",
   "execution_count": 2312,
   "metadata": {},
   "outputs": [
    {
     "data": {
      "image/png": "[encoded data removed]",
      "text/plain": [
       "<Figure size 432x288 with 1 Axes>"
      ]
     },
     "metadata": {},
     "output_type": "display_data"
    }
   ],
   "source": [
    "plt.figure(figsize=(6,4))\n",
    "plt.scatter(df[\"CO2AGR\"], df[\"TOTFRESHWATER\"], c = df.pred_class, cmap = \"viridis\")\n",
    "plt.tight_layout;"
   ]
  },
  {
   "cell_type": "code",
   "execution_count": 2313,
   "metadata": {},
   "outputs": [
    {
     "data": {
      "image/png": "[encoded data removed]",
      "text/plain": [
       "<Figure size 432x288 with 1 Axes>"
      ]
     },
     "metadata": {},
     "output_type": "display_data"
    }
   ],
   "source": [
    "plt.figure(figsize=(6,4))\n",
    "plt.scatter(df[\"CO2AGR\"], df[\"TOTPEST\"], c = df.pred_class, cmap = \"viridis\")\n",
    "plt.tight_layout;"
   ]
  },
  {
   "cell_type": "code",
   "execution_count": 2314,
   "metadata": {},
   "outputs": [
    {
     "data": {
      "text/html": [
       "<div>\n",
       "<style scoped>\n",
       "    .dataframe tbody tr th:only-of-type {\n",
       "        vertical-align: middle;\n",
       "    }\n",
       "\n",
       "    .dataframe tbody tr th {\n",
       "        vertical-align: top;\n",
       "    }\n",
       "\n",
       "    .dataframe thead th {\n",
       "        text-align: right;\n",
       "    }\n",
       "</style>\n",
       "<table border=\"1\" class=\"dataframe\">\n",
       "  <thead>\n",
       "    <tr style=\"text-align: right;\">\n",
       "      <th></th>\n",
       "      <th>COUNTRY</th>\n",
       "      <th>TIME_PERIOD</th>\n",
       "      <th>CH4AGR</th>\n",
       "      <th>CO2AGR</th>\n",
       "      <th>N2OAGR</th>\n",
       "      <th>TOTAGR_LAND</th>\n",
       "      <th>TOTENERGYAG</th>\n",
       "      <th>TOTFRESHWATER</th>\n",
       "      <th>TOTPEST</th>\n",
       "      <th>pred_class</th>\n",
       "    </tr>\n",
       "  </thead>\n",
       "  <tbody>\n",
       "    <tr>\n",
       "      <th>0</th>\n",
       "      <td>AUS</td>\n",
       "      <td>1985</td>\n",
       "      <td>0.0</td>\n",
       "      <td>0.0</td>\n",
       "      <td>0.0</td>\n",
       "      <td>485605.123</td>\n",
       "      <td>0.0</td>\n",
       "      <td>0.0</td>\n",
       "      <td>0.0</td>\n",
       "      <td>2</td>\n",
       "    </tr>\n",
       "  </tbody>\n",
       "</table>\n",
       "</div>"
      ],
      "text/plain": [
       "  COUNTRY TIME_PERIOD  CH4AGR  CO2AGR  N2OAGR  TOTAGR_LAND  TOTENERGYAG  \\\n",
       "0     AUS        1985     0.0     0.0     0.0   485605.123          0.0   \n",
       "\n",
       "   TOTFRESHWATER  TOTPEST  pred_class  \n",
       "0            0.0      0.0           2  "
      ]
     },
     "execution_count": 2314,
     "metadata": {},
     "output_type": "execute_result"
    }
   ],
   "source": [
    "df.head(1)"
   ]
  },
  {
   "cell_type": "code",
   "execution_count": 2315,
   "metadata": {},
   "outputs": [
    {
     "data": {
      "text/html": [
       "<div>\n",
       "<style scoped>\n",
       "    .dataframe tbody tr th:only-of-type {\n",
       "        vertical-align: middle;\n",
       "    }\n",
       "\n",
       "    .dataframe tbody tr th {\n",
       "        vertical-align: top;\n",
       "    }\n",
       "\n",
       "    .dataframe thead th {\n",
       "        text-align: right;\n",
       "    }\n",
       "</style>\n",
       "<table border=\"1\" class=\"dataframe\">\n",
       "  <thead>\n",
       "    <tr style=\"text-align: right;\">\n",
       "      <th></th>\n",
       "      <th>TIME_PERIOD</th>\n",
       "      <th>CH4AGR</th>\n",
       "      <th>CO2AGR</th>\n",
       "      <th>N2OAGR</th>\n",
       "      <th>TOTAGR_LAND</th>\n",
       "      <th>TOTENERGYAG</th>\n",
       "      <th>TOTFRESHWATER</th>\n",
       "      <th>TOTPEST</th>\n",
       "      <th>pred_class</th>\n",
       "    </tr>\n",
       "    <tr>\n",
       "      <th>COUNTRY</th>\n",
       "      <th></th>\n",
       "      <th></th>\n",
       "      <th></th>\n",
       "      <th></th>\n",
       "      <th></th>\n",
       "      <th></th>\n",
       "      <th></th>\n",
       "      <th></th>\n",
       "      <th></th>\n",
       "    </tr>\n",
       "  </thead>\n",
       "  <tbody>\n",
       "    <tr>\n",
       "      <th>AUS</th>\n",
       "      <td>1985</td>\n",
       "      <td>0.000</td>\n",
       "      <td>0.0</td>\n",
       "      <td>0.000</td>\n",
       "      <td>485605.123</td>\n",
       "      <td>0.000</td>\n",
       "      <td>0.0</td>\n",
       "      <td>0.0</td>\n",
       "      <td>2</td>\n",
       "    </tr>\n",
       "    <tr>\n",
       "      <th>AUS</th>\n",
       "      <td>1986</td>\n",
       "      <td>0.000</td>\n",
       "      <td>0.0</td>\n",
       "      <td>0.000</td>\n",
       "      <td>485167.951</td>\n",
       "      <td>0.000</td>\n",
       "      <td>0.0</td>\n",
       "      <td>0.0</td>\n",
       "      <td>2</td>\n",
       "    </tr>\n",
       "    <tr>\n",
       "      <th>AUS</th>\n",
       "      <td>1987</td>\n",
       "      <td>0.000</td>\n",
       "      <td>0.0</td>\n",
       "      <td>0.000</td>\n",
       "      <td>471019.353</td>\n",
       "      <td>0.000</td>\n",
       "      <td>0.0</td>\n",
       "      <td>0.0</td>\n",
       "      <td>2</td>\n",
       "    </tr>\n",
       "    <tr>\n",
       "      <th>AUS</th>\n",
       "      <td>1988</td>\n",
       "      <td>0.000</td>\n",
       "      <td>0.0</td>\n",
       "      <td>0.000</td>\n",
       "      <td>472033.507</td>\n",
       "      <td>0.000</td>\n",
       "      <td>0.0</td>\n",
       "      <td>0.0</td>\n",
       "      <td>2</td>\n",
       "    </tr>\n",
       "    <tr>\n",
       "      <th>AUS</th>\n",
       "      <td>1989</td>\n",
       "      <td>0.000</td>\n",
       "      <td>0.0</td>\n",
       "      <td>0.000</td>\n",
       "      <td>460503.367</td>\n",
       "      <td>0.000</td>\n",
       "      <td>0.0</td>\n",
       "      <td>0.0</td>\n",
       "      <td>2</td>\n",
       "    </tr>\n",
       "    <tr>\n",
       "      <th>...</th>\n",
       "      <td>...</td>\n",
       "      <td>...</td>\n",
       "      <td>...</td>\n",
       "      <td>...</td>\n",
       "      <td>...</td>\n",
       "      <td>...</td>\n",
       "      <td>...</td>\n",
       "      <td>...</td>\n",
       "      <td>...</td>\n",
       "    </tr>\n",
       "    <tr>\n",
       "      <th>ZAF</th>\n",
       "      <td>2015</td>\n",
       "      <td>18499.379</td>\n",
       "      <td>0.0</td>\n",
       "      <td>12438.388</td>\n",
       "      <td>96341.000</td>\n",
       "      <td>2117.738</td>\n",
       "      <td>0.0</td>\n",
       "      <td>26857.0</td>\n",
       "      <td>0</td>\n",
       "    </tr>\n",
       "    <tr>\n",
       "      <th>ZAF</th>\n",
       "      <td>2016</td>\n",
       "      <td>17835.285</td>\n",
       "      <td>0.0</td>\n",
       "      <td>11776.712</td>\n",
       "      <td>96341.000</td>\n",
       "      <td>1903.008</td>\n",
       "      <td>0.0</td>\n",
       "      <td>26857.0</td>\n",
       "      <td>0</td>\n",
       "    </tr>\n",
       "    <tr>\n",
       "      <th>ZAF</th>\n",
       "      <td>2017</td>\n",
       "      <td>17871.609</td>\n",
       "      <td>0.0</td>\n",
       "      <td>13170.590</td>\n",
       "      <td>96341.000</td>\n",
       "      <td>2277.294</td>\n",
       "      <td>0.0</td>\n",
       "      <td>26857.0</td>\n",
       "      <td>0</td>\n",
       "    </tr>\n",
       "    <tr>\n",
       "      <th>ZAF</th>\n",
       "      <td>2018</td>\n",
       "      <td>17542.932</td>\n",
       "      <td>0.0</td>\n",
       "      <td>12840.974</td>\n",
       "      <td>96341.000</td>\n",
       "      <td>2285.447</td>\n",
       "      <td>0.0</td>\n",
       "      <td>26857.0</td>\n",
       "      <td>0</td>\n",
       "    </tr>\n",
       "    <tr>\n",
       "      <th>ZAF</th>\n",
       "      <td>2019</td>\n",
       "      <td>17022.314</td>\n",
       "      <td>0.0</td>\n",
       "      <td>12168.801</td>\n",
       "      <td>96341.000</td>\n",
       "      <td>2386.718</td>\n",
       "      <td>0.0</td>\n",
       "      <td>0.0</td>\n",
       "      <td>0</td>\n",
       "    </tr>\n",
       "  </tbody>\n",
       "</table>\n",
       "<p>1704 rows × 9 columns</p>\n",
       "</div>"
      ],
      "text/plain": [
       "        TIME_PERIOD     CH4AGR  CO2AGR     N2OAGR  TOTAGR_LAND  TOTENERGYAG  \\\n",
       "COUNTRY                                                                       \n",
       "AUS            1985      0.000     0.0      0.000   485605.123        0.000   \n",
       "AUS            1986      0.000     0.0      0.000   485167.951        0.000   \n",
       "AUS            1987      0.000     0.0      0.000   471019.353        0.000   \n",
       "AUS            1988      0.000     0.0      0.000   472033.507        0.000   \n",
       "AUS            1989      0.000     0.0      0.000   460503.367        0.000   \n",
       "...             ...        ...     ...        ...          ...          ...   \n",
       "ZAF            2015  18499.379     0.0  12438.388    96341.000     2117.738   \n",
       "ZAF            2016  17835.285     0.0  11776.712    96341.000     1903.008   \n",
       "ZAF            2017  17871.609     0.0  13170.590    96341.000     2277.294   \n",
       "ZAF            2018  17542.932     0.0  12840.974    96341.000     2285.447   \n",
       "ZAF            2019  17022.314     0.0  12168.801    96341.000     2386.718   \n",
       "\n",
       "         TOTFRESHWATER  TOTPEST  pred_class  \n",
       "COUNTRY                                      \n",
       "AUS                0.0      0.0           2  \n",
       "AUS                0.0      0.0           2  \n",
       "AUS                0.0      0.0           2  \n",
       "AUS                0.0      0.0           2  \n",
       "AUS                0.0      0.0           2  \n",
       "...                ...      ...         ...  \n",
       "ZAF                0.0  26857.0           0  \n",
       "ZAF                0.0  26857.0           0  \n",
       "ZAF                0.0  26857.0           0  \n",
       "ZAF                0.0  26857.0           0  \n",
       "ZAF                0.0      0.0           0  \n",
       "\n",
       "[1704 rows x 9 columns]"
      ]
     },
     "execution_count": 2315,
     "metadata": {},
     "output_type": "execute_result"
    }
   ],
   "source": [
    "df1 = df.set_index(\"COUNTRY\")\n",
    "df1"
   ]
  },
  {
   "cell_type": "code",
   "execution_count": 2316,
   "metadata": {},
   "outputs": [
    {
     "data": {
      "text/html": [
       "<div>\n",
       "<style scoped>\n",
       "    .dataframe tbody tr th:only-of-type {\n",
       "        vertical-align: middle;\n",
       "    }\n",
       "\n",
       "    .dataframe tbody tr th {\n",
       "        vertical-align: top;\n",
       "    }\n",
       "\n",
       "    .dataframe thead th {\n",
       "        text-align: right;\n",
       "    }\n",
       "</style>\n",
       "<table border=\"1\" class=\"dataframe\">\n",
       "  <thead>\n",
       "    <tr style=\"text-align: right;\">\n",
       "      <th></th>\n",
       "      <th>CH4AGR</th>\n",
       "      <th>CO2AGR</th>\n",
       "      <th>N2OAGR</th>\n",
       "      <th>TOTAGR_LAND</th>\n",
       "      <th>TOTENERGYAG</th>\n",
       "      <th>TOTFRESHWATER</th>\n",
       "      <th>TOTPEST</th>\n",
       "    </tr>\n",
       "    <tr>\n",
       "      <th>COUNTRY</th>\n",
       "      <th></th>\n",
       "      <th></th>\n",
       "      <th></th>\n",
       "      <th></th>\n",
       "      <th></th>\n",
       "      <th></th>\n",
       "      <th></th>\n",
       "    </tr>\n",
       "  </thead>\n",
       "  <tbody>\n",
       "    <tr>\n",
       "      <th>AUS</th>\n",
       "      <td>0.0</td>\n",
       "      <td>0.0</td>\n",
       "      <td>0.0</td>\n",
       "      <td>485605.123</td>\n",
       "      <td>0.0</td>\n",
       "      <td>0.0</td>\n",
       "      <td>0.0</td>\n",
       "    </tr>\n",
       "  </tbody>\n",
       "</table>\n",
       "</div>"
      ],
      "text/plain": [
       "         CH4AGR  CO2AGR  N2OAGR  TOTAGR_LAND  TOTENERGYAG  TOTFRESHWATER  \\\n",
       "COUNTRY                                                                    \n",
       "AUS         0.0     0.0     0.0   485605.123          0.0            0.0   \n",
       "\n",
       "         TOTPEST  \n",
       "COUNTRY           \n",
       "AUS          0.0  "
      ]
     },
     "execution_count": 2316,
     "metadata": {},
     "output_type": "execute_result"
    }
   ],
   "source": [
    "x = df1.drop([\"TIME_PERIOD\", \"pred_class\"], axis=1)\n",
    "x.head(1)"
   ]
  },
  {
   "cell_type": "code",
   "execution_count": 2317,
   "metadata": {},
   "outputs": [
    {
     "data": {
      "image/png": "[encoded data removed]",
      "text/plain": [
       "<Figure size 1440x432 with 1 Axes>"
      ]
     },
     "metadata": {},
     "output_type": "display_data"
    }
   ],
   "source": [
    "plt.figure(figsize=(20,6))\n",
    "sns.lineplot(data=x[[\"CH4AGR\",\"CO2AGR\",\"N2OAGR\"]])\n",
    "plt.title(\"CH4AGR / CO2AGR / N2OAGR & COUNTRY\")\n",
    "plt.xlabel(\"Countries\")\n",
    "plt.ylabel(\"Value\")\n",
    "plt.tight_layout;"
   ]
  },
  {
   "cell_type": "code",
   "execution_count": 2318,
   "metadata": {},
   "outputs": [
    {
     "data": {
      "image/png": "[encoded data removed]",
      "text/plain": [
       "<Figure size 1440x432 with 1 Axes>"
      ]
     },
     "metadata": {},
     "output_type": "display_data"
    }
   ],
   "source": [
    "plt.figure(figsize=(20,6))\n",
    "sns.lineplot(data=x[[\"TOTAGR_LAND\",\"TOTENERGYAG\",\"TOTFRESHWATER\"]])\n",
    "plt.title(\"TOTAGR_LAND / TOTENERGYAG / TOTFRESHWATER & COUNTRY\")\n",
    "plt.xlabel(\"Countries\")\n",
    "plt.ylabel(\"Value\")\n",
    "plt.tight_layout;"
   ]
  },
  {
   "cell_type": "code",
   "execution_count": 2319,
   "metadata": {},
   "outputs": [
    {
     "data": {
      "image/png": "[encoded data removed]",
      "text/plain": [
       "<Figure size 1440x432 with 1 Axes>"
      ]
     },
     "metadata": {},
     "output_type": "display_data"
    }
   ],
   "source": [
    "plt.figure(figsize=(20,6))\n",
    "sns.lineplot(data=x[\"TOTPEST\"])\n",
    "plt.title(\"TOTPEST & COUNTRY\")\n",
    "plt.xlabel(\"Countries\")\n",
    "plt.ylabel(\"Value\")\n",
    "plt.tight_layout;"
   ]
  },
  {
   "cell_type": "code",
   "execution_count": 2320,
   "metadata": {},
   "outputs": [
    {
     "data": {
      "text/html": [
       "<div>\n",
       "<style scoped>\n",
       "    .dataframe tbody tr th:only-of-type {\n",
       "        vertical-align: middle;\n",
       "    }\n",
       "\n",
       "    .dataframe tbody tr th {\n",
       "        vertical-align: top;\n",
       "    }\n",
       "\n",
       "    .dataframe thead th {\n",
       "        text-align: right;\n",
       "    }\n",
       "</style>\n",
       "<table border=\"1\" class=\"dataframe\">\n",
       "  <thead>\n",
       "    <tr style=\"text-align: right;\">\n",
       "      <th></th>\n",
       "      <th>CH4AGR</th>\n",
       "      <th>CO2AGR</th>\n",
       "      <th>N2OAGR</th>\n",
       "      <th>TOTAGR_LAND</th>\n",
       "      <th>TOTENERGYAG</th>\n",
       "      <th>TOTFRESHWATER</th>\n",
       "      <th>TOTPEST</th>\n",
       "      <th>pred_class</th>\n",
       "    </tr>\n",
       "    <tr>\n",
       "      <th>COUNTRY</th>\n",
       "      <th></th>\n",
       "      <th></th>\n",
       "      <th></th>\n",
       "      <th></th>\n",
       "      <th></th>\n",
       "      <th></th>\n",
       "      <th></th>\n",
       "      <th></th>\n",
       "    </tr>\n",
       "  </thead>\n",
       "  <tbody>\n",
       "    <tr>\n",
       "      <th>AUS</th>\n",
       "      <td>0.000</td>\n",
       "      <td>0.0</td>\n",
       "      <td>0.000</td>\n",
       "      <td>485605.123</td>\n",
       "      <td>0.000</td>\n",
       "      <td>0.0</td>\n",
       "      <td>0.0</td>\n",
       "      <td>2</td>\n",
       "    </tr>\n",
       "    <tr>\n",
       "      <th>AUS</th>\n",
       "      <td>0.000</td>\n",
       "      <td>0.0</td>\n",
       "      <td>0.000</td>\n",
       "      <td>485167.951</td>\n",
       "      <td>0.000</td>\n",
       "      <td>0.0</td>\n",
       "      <td>0.0</td>\n",
       "      <td>2</td>\n",
       "    </tr>\n",
       "    <tr>\n",
       "      <th>AUS</th>\n",
       "      <td>0.000</td>\n",
       "      <td>0.0</td>\n",
       "      <td>0.000</td>\n",
       "      <td>471019.353</td>\n",
       "      <td>0.000</td>\n",
       "      <td>0.0</td>\n",
       "      <td>0.0</td>\n",
       "      <td>2</td>\n",
       "    </tr>\n",
       "    <tr>\n",
       "      <th>AUS</th>\n",
       "      <td>0.000</td>\n",
       "      <td>0.0</td>\n",
       "      <td>0.000</td>\n",
       "      <td>472033.507</td>\n",
       "      <td>0.000</td>\n",
       "      <td>0.0</td>\n",
       "      <td>0.0</td>\n",
       "      <td>2</td>\n",
       "    </tr>\n",
       "    <tr>\n",
       "      <th>AUS</th>\n",
       "      <td>0.000</td>\n",
       "      <td>0.0</td>\n",
       "      <td>0.000</td>\n",
       "      <td>460503.367</td>\n",
       "      <td>0.000</td>\n",
       "      <td>0.0</td>\n",
       "      <td>0.0</td>\n",
       "      <td>2</td>\n",
       "    </tr>\n",
       "    <tr>\n",
       "      <th>...</th>\n",
       "      <td>...</td>\n",
       "      <td>...</td>\n",
       "      <td>...</td>\n",
       "      <td>...</td>\n",
       "      <td>...</td>\n",
       "      <td>...</td>\n",
       "      <td>...</td>\n",
       "      <td>...</td>\n",
       "    </tr>\n",
       "    <tr>\n",
       "      <th>ZAF</th>\n",
       "      <td>18499.379</td>\n",
       "      <td>0.0</td>\n",
       "      <td>12438.388</td>\n",
       "      <td>96341.000</td>\n",
       "      <td>2117.738</td>\n",
       "      <td>0.0</td>\n",
       "      <td>26857.0</td>\n",
       "      <td>0</td>\n",
       "    </tr>\n",
       "    <tr>\n",
       "      <th>ZAF</th>\n",
       "      <td>17835.285</td>\n",
       "      <td>0.0</td>\n",
       "      <td>11776.712</td>\n",
       "      <td>96341.000</td>\n",
       "      <td>1903.008</td>\n",
       "      <td>0.0</td>\n",
       "      <td>26857.0</td>\n",
       "      <td>0</td>\n",
       "    </tr>\n",
       "    <tr>\n",
       "      <th>ZAF</th>\n",
       "      <td>17871.609</td>\n",
       "      <td>0.0</td>\n",
       "      <td>13170.590</td>\n",
       "      <td>96341.000</td>\n",
       "      <td>2277.294</td>\n",
       "      <td>0.0</td>\n",
       "      <td>26857.0</td>\n",
       "      <td>0</td>\n",
       "    </tr>\n",
       "    <tr>\n",
       "      <th>ZAF</th>\n",
       "      <td>17542.932</td>\n",
       "      <td>0.0</td>\n",
       "      <td>12840.974</td>\n",
       "      <td>96341.000</td>\n",
       "      <td>2285.447</td>\n",
       "      <td>0.0</td>\n",
       "      <td>26857.0</td>\n",
       "      <td>0</td>\n",
       "    </tr>\n",
       "    <tr>\n",
       "      <th>ZAF</th>\n",
       "      <td>17022.314</td>\n",
       "      <td>0.0</td>\n",
       "      <td>12168.801</td>\n",
       "      <td>96341.000</td>\n",
       "      <td>2386.718</td>\n",
       "      <td>0.0</td>\n",
       "      <td>0.0</td>\n",
       "      <td>0</td>\n",
       "    </tr>\n",
       "  </tbody>\n",
       "</table>\n",
       "<p>1704 rows × 8 columns</p>\n",
       "</div>"
      ],
      "text/plain": [
       "            CH4AGR  CO2AGR     N2OAGR  TOTAGR_LAND  TOTENERGYAG  \\\n",
       "COUNTRY                                                           \n",
       "AUS          0.000     0.0      0.000   485605.123        0.000   \n",
       "AUS          0.000     0.0      0.000   485167.951        0.000   \n",
       "AUS          0.000     0.0      0.000   471019.353        0.000   \n",
       "AUS          0.000     0.0      0.000   472033.507        0.000   \n",
       "AUS          0.000     0.0      0.000   460503.367        0.000   \n",
       "...            ...     ...        ...          ...          ...   \n",
       "ZAF      18499.379     0.0  12438.388    96341.000     2117.738   \n",
       "ZAF      17835.285     0.0  11776.712    96341.000     1903.008   \n",
       "ZAF      17871.609     0.0  13170.590    96341.000     2277.294   \n",
       "ZAF      17542.932     0.0  12840.974    96341.000     2285.447   \n",
       "ZAF      17022.314     0.0  12168.801    96341.000     2386.718   \n",
       "\n",
       "         TOTFRESHWATER  TOTPEST  pred_class  \n",
       "COUNTRY                                      \n",
       "AUS                0.0      0.0           2  \n",
       "AUS                0.0      0.0           2  \n",
       "AUS                0.0      0.0           2  \n",
       "AUS                0.0      0.0           2  \n",
       "AUS                0.0      0.0           2  \n",
       "...                ...      ...         ...  \n",
       "ZAF                0.0  26857.0           0  \n",
       "ZAF                0.0  26857.0           0  \n",
       "ZAF                0.0  26857.0           0  \n",
       "ZAF                0.0  26857.0           0  \n",
       "ZAF                0.0      0.0           0  \n",
       "\n",
       "[1704 rows x 8 columns]"
      ]
     },
     "execution_count": 2320,
     "metadata": {},
     "output_type": "execute_result"
    }
   ],
   "source": [
    "x[\"pred_class\"] = clusters\n",
    "x"
   ]
  },
  {
   "cell_type": "code",
   "execution_count": 2321,
   "metadata": {},
   "outputs": [
    {
     "data": {
      "text/html": [
       "<div>\n",
       "<style scoped>\n",
       "    .dataframe tbody tr th:only-of-type {\n",
       "        vertical-align: middle;\n",
       "    }\n",
       "\n",
       "    .dataframe tbody tr th {\n",
       "        vertical-align: top;\n",
       "    }\n",
       "\n",
       "    .dataframe thead th {\n",
       "        text-align: right;\n",
       "    }\n",
       "</style>\n",
       "<table border=\"1\" class=\"dataframe\">\n",
       "  <thead>\n",
       "    <tr style=\"text-align: right;\">\n",
       "      <th></th>\n",
       "      <th>CH4AGR</th>\n",
       "      <th>CO2AGR</th>\n",
       "      <th>N2OAGR</th>\n",
       "      <th>TOTAGR_LAND</th>\n",
       "      <th>TOTENERGYAG</th>\n",
       "      <th>TOTFRESHWATER</th>\n",
       "      <th>TOTPEST</th>\n",
       "      <th>pred_class</th>\n",
       "    </tr>\n",
       "  </thead>\n",
       "  <tbody>\n",
       "    <tr>\n",
       "      <th>0</th>\n",
       "      <td>0.000</td>\n",
       "      <td>0.0</td>\n",
       "      <td>0.000</td>\n",
       "      <td>485605.123</td>\n",
       "      <td>0.000</td>\n",
       "      <td>0.0</td>\n",
       "      <td>0.0</td>\n",
       "      <td>2</td>\n",
       "    </tr>\n",
       "    <tr>\n",
       "      <th>1</th>\n",
       "      <td>0.000</td>\n",
       "      <td>0.0</td>\n",
       "      <td>0.000</td>\n",
       "      <td>485167.951</td>\n",
       "      <td>0.000</td>\n",
       "      <td>0.0</td>\n",
       "      <td>0.0</td>\n",
       "      <td>2</td>\n",
       "    </tr>\n",
       "    <tr>\n",
       "      <th>2</th>\n",
       "      <td>0.000</td>\n",
       "      <td>0.0</td>\n",
       "      <td>0.000</td>\n",
       "      <td>471019.353</td>\n",
       "      <td>0.000</td>\n",
       "      <td>0.0</td>\n",
       "      <td>0.0</td>\n",
       "      <td>2</td>\n",
       "    </tr>\n",
       "    <tr>\n",
       "      <th>3</th>\n",
       "      <td>0.000</td>\n",
       "      <td>0.0</td>\n",
       "      <td>0.000</td>\n",
       "      <td>472033.507</td>\n",
       "      <td>0.000</td>\n",
       "      <td>0.0</td>\n",
       "      <td>0.0</td>\n",
       "      <td>2</td>\n",
       "    </tr>\n",
       "    <tr>\n",
       "      <th>4</th>\n",
       "      <td>0.000</td>\n",
       "      <td>0.0</td>\n",
       "      <td>0.000</td>\n",
       "      <td>460503.367</td>\n",
       "      <td>0.000</td>\n",
       "      <td>0.0</td>\n",
       "      <td>0.0</td>\n",
       "      <td>2</td>\n",
       "    </tr>\n",
       "    <tr>\n",
       "      <th>...</th>\n",
       "      <td>...</td>\n",
       "      <td>...</td>\n",
       "      <td>...</td>\n",
       "      <td>...</td>\n",
       "      <td>...</td>\n",
       "      <td>...</td>\n",
       "      <td>...</td>\n",
       "      <td>...</td>\n",
       "    </tr>\n",
       "    <tr>\n",
       "      <th>1699</th>\n",
       "      <td>18499.379</td>\n",
       "      <td>0.0</td>\n",
       "      <td>12438.388</td>\n",
       "      <td>96341.000</td>\n",
       "      <td>2117.738</td>\n",
       "      <td>0.0</td>\n",
       "      <td>26857.0</td>\n",
       "      <td>0</td>\n",
       "    </tr>\n",
       "    <tr>\n",
       "      <th>1700</th>\n",
       "      <td>17835.285</td>\n",
       "      <td>0.0</td>\n",
       "      <td>11776.712</td>\n",
       "      <td>96341.000</td>\n",
       "      <td>1903.008</td>\n",
       "      <td>0.0</td>\n",
       "      <td>26857.0</td>\n",
       "      <td>0</td>\n",
       "    </tr>\n",
       "    <tr>\n",
       "      <th>1701</th>\n",
       "      <td>17871.609</td>\n",
       "      <td>0.0</td>\n",
       "      <td>13170.590</td>\n",
       "      <td>96341.000</td>\n",
       "      <td>2277.294</td>\n",
       "      <td>0.0</td>\n",
       "      <td>26857.0</td>\n",
       "      <td>0</td>\n",
       "    </tr>\n",
       "    <tr>\n",
       "      <th>1702</th>\n",
       "      <td>17542.932</td>\n",
       "      <td>0.0</td>\n",
       "      <td>12840.974</td>\n",
       "      <td>96341.000</td>\n",
       "      <td>2285.447</td>\n",
       "      <td>0.0</td>\n",
       "      <td>26857.0</td>\n",
       "      <td>0</td>\n",
       "    </tr>\n",
       "    <tr>\n",
       "      <th>1703</th>\n",
       "      <td>17022.314</td>\n",
       "      <td>0.0</td>\n",
       "      <td>12168.801</td>\n",
       "      <td>96341.000</td>\n",
       "      <td>2386.718</td>\n",
       "      <td>0.0</td>\n",
       "      <td>0.0</td>\n",
       "      <td>0</td>\n",
       "    </tr>\n",
       "  </tbody>\n",
       "</table>\n",
       "<p>1704 rows × 8 columns</p>\n",
       "</div>"
      ],
      "text/plain": [
       "         CH4AGR  CO2AGR     N2OAGR  TOTAGR_LAND  TOTENERGYAG  TOTFRESHWATER  \\\n",
       "0         0.000     0.0      0.000   485605.123        0.000            0.0   \n",
       "1         0.000     0.0      0.000   485167.951        0.000            0.0   \n",
       "2         0.000     0.0      0.000   471019.353        0.000            0.0   \n",
       "3         0.000     0.0      0.000   472033.507        0.000            0.0   \n",
       "4         0.000     0.0      0.000   460503.367        0.000            0.0   \n",
       "...         ...     ...        ...          ...          ...            ...   \n",
       "1699  18499.379     0.0  12438.388    96341.000     2117.738            0.0   \n",
       "1700  17835.285     0.0  11776.712    96341.000     1903.008            0.0   \n",
       "1701  17871.609     0.0  13170.590    96341.000     2277.294            0.0   \n",
       "1702  17542.932     0.0  12840.974    96341.000     2285.447            0.0   \n",
       "1703  17022.314     0.0  12168.801    96341.000     2386.718            0.0   \n",
       "\n",
       "      TOTPEST  pred_class  \n",
       "0         0.0           2  \n",
       "1         0.0           2  \n",
       "2         0.0           2  \n",
       "3         0.0           2  \n",
       "4         0.0           2  \n",
       "...       ...         ...  \n",
       "1699  26857.0           0  \n",
       "1700  26857.0           0  \n",
       "1701  26857.0           0  \n",
       "1702  26857.0           0  \n",
       "1703      0.0           0  \n",
       "\n",
       "[1704 rows x 8 columns]"
      ]
     },
     "execution_count": 2321,
     "metadata": {},
     "output_type": "execute_result"
    }
   ],
   "source": [
    "x = x.reset_index(drop=True)\n",
    "x"
   ]
  },
  {
   "cell_type": "code",
   "execution_count": 2322,
   "metadata": {},
   "outputs": [
    {
     "data": {
      "text/html": [
       "<div>\n",
       "<style scoped>\n",
       "    .dataframe tbody tr th:only-of-type {\n",
       "        vertical-align: middle;\n",
       "    }\n",
       "\n",
       "    .dataframe tbody tr th {\n",
       "        vertical-align: top;\n",
       "    }\n",
       "\n",
       "    .dataframe thead th {\n",
       "        text-align: right;\n",
       "    }\n",
       "</style>\n",
       "<table border=\"1\" class=\"dataframe\">\n",
       "  <thead>\n",
       "    <tr style=\"text-align: right;\">\n",
       "      <th>pred_class</th>\n",
       "      <th>0</th>\n",
       "      <th>1</th>\n",
       "      <th>2</th>\n",
       "    </tr>\n",
       "  </thead>\n",
       "  <tbody>\n",
       "    <tr>\n",
       "      <th>CH4AGR</th>\n",
       "      <td>15571.743773</td>\n",
       "      <td>3.965718e+05</td>\n",
       "      <td>269697.386046</td>\n",
       "    </tr>\n",
       "    <tr>\n",
       "      <th>CO2AGR</th>\n",
       "      <td>357.483737</td>\n",
       "      <td>0.000000e+00</td>\n",
       "      <td>1973.457493</td>\n",
       "    </tr>\n",
       "    <tr>\n",
       "      <th>N2OAGR</th>\n",
       "      <td>10413.663177</td>\n",
       "      <td>2.945188e+05</td>\n",
       "      <td>148007.378434</td>\n",
       "    </tr>\n",
       "    <tr>\n",
       "      <th>TOTAGR_LAND</th>\n",
       "      <td>22536.185462</td>\n",
       "      <td>5.265830e+05</td>\n",
       "      <td>328235.963513</td>\n",
       "    </tr>\n",
       "    <tr>\n",
       "      <th>TOTENERGYAG</th>\n",
       "      <td>1347.946068</td>\n",
       "      <td>3.322574e+04</td>\n",
       "      <td>10710.026447</td>\n",
       "    </tr>\n",
       "    <tr>\n",
       "      <th>TOTFRESHWATER</th>\n",
       "      <td>7291.571456</td>\n",
       "      <td>4.646274e+05</td>\n",
       "      <td>37443.295428</td>\n",
       "    </tr>\n",
       "    <tr>\n",
       "      <th>TOTPEST</th>\n",
       "      <td>10982.859145</td>\n",
       "      <td>1.511390e+06</td>\n",
       "      <td>148374.474888</td>\n",
       "    </tr>\n",
       "  </tbody>\n",
       "</table>\n",
       "</div>"
      ],
      "text/plain": [
       "pred_class                0             1              2\n",
       "CH4AGR         15571.743773  3.965718e+05  269697.386046\n",
       "CO2AGR           357.483737  0.000000e+00    1973.457493\n",
       "N2OAGR         10413.663177  2.945188e+05  148007.378434\n",
       "TOTAGR_LAND    22536.185462  5.265830e+05  328235.963513\n",
       "TOTENERGYAG     1347.946068  3.322574e+04   10710.026447\n",
       "TOTFRESHWATER   7291.571456  4.646274e+05   37443.295428\n",
       "TOTPEST        10982.859145  1.511390e+06  148374.474888"
      ]
     },
     "execution_count": 2322,
     "metadata": {},
     "output_type": "execute_result"
    }
   ],
   "source": [
    "pred_class = x.groupby(\"pred_class\").mean().T\n",
    "pred_class"
   ]
  },
  {
   "cell_type": "code",
   "execution_count": 2323,
   "metadata": {},
   "outputs": [],
   "source": [
    "# 0 =    'AUT', 'BEL', 'BGR', 'CAN', 'CHE', 'CHL', 'COL', 'CRI', 'CYP',\n",
    "#        'CZE', 'DEU', 'DNK', 'ESP', 'EST', 'FIN', 'FRA', 'GBR', 'GRC',\n",
    "#        'HRV', 'HUN', 'IDN', 'IRL', 'ISL', 'ISR', 'ITA', 'JPN', 'KAZ',\n",
    "#        'KOR', 'LTU', 'LUX', 'LVA', 'MEX', 'MLT', 'NLD', 'NOR', 'NZL',\n",
    "#        'PHL', 'POL', 'PRT', 'ROU', 'SVK', 'SVN', 'SWE', 'TUR', 'UKR',\n",
    "#        'VNM', 'ZAF'\n",
    "\n",
    "# 1 =    'CHN'\n",
    "\n",
    "# 2 =    'AUS', 'BRA', 'IND', 'RUS', 'USA'"
   ]
  },
  {
   "cell_type": "code",
   "execution_count": 2324,
   "metadata": {},
   "outputs": [
    {
     "data": {
      "image/png": "[encoded data removed]",
      "text/plain": [
       "<Figure size 720x432 with 1 Axes>"
      ]
     },
     "metadata": {},
     "output_type": "display_data"
    }
   ],
   "source": [
    "plt.figure(figsize=(10,6))\n",
    "sns.lineplot(data=pred_class)\n",
    "plt.xticks(rotation=90)\n",
    "plt.legend(labels=[\"0\",\"CHN\",\"AUS, BRA, IND, RUS, USA\"]);"
   ]
  },
  {
   "cell_type": "markdown",
   "metadata": {},
   "source": [
    "### Prediction"
   ]
  },
  {
   "cell_type": "code",
   "execution_count": 2325,
   "metadata": {},
   "outputs": [
    {
     "data": {
      "text/html": [
       "<div>\n",
       "<style scoped>\n",
       "    .dataframe tbody tr th:only-of-type {\n",
       "        vertical-align: middle;\n",
       "    }\n",
       "\n",
       "    .dataframe tbody tr th {\n",
       "        vertical-align: top;\n",
       "    }\n",
       "\n",
       "    .dataframe thead th {\n",
       "        text-align: right;\n",
       "    }\n",
       "</style>\n",
       "<table border=\"1\" class=\"dataframe\">\n",
       "  <thead>\n",
       "    <tr style=\"text-align: right;\">\n",
       "      <th></th>\n",
       "      <th>CH4AGR</th>\n",
       "      <th>CO2AGR</th>\n",
       "      <th>N2OAGR</th>\n",
       "      <th>TOTAGR_LAND</th>\n",
       "      <th>TOTENERGYAG</th>\n",
       "      <th>TOTFRESHWATER</th>\n",
       "      <th>TOTPEST</th>\n",
       "      <th>pred_class</th>\n",
       "    </tr>\n",
       "  </thead>\n",
       "  <tbody>\n",
       "    <tr>\n",
       "      <th>0</th>\n",
       "      <td>0.0</td>\n",
       "      <td>0.0</td>\n",
       "      <td>0.0</td>\n",
       "      <td>485605.123</td>\n",
       "      <td>0.0</td>\n",
       "      <td>0.0</td>\n",
       "      <td>0.0</td>\n",
       "      <td>2</td>\n",
       "    </tr>\n",
       "  </tbody>\n",
       "</table>\n",
       "</div>"
      ],
      "text/plain": [
       "   CH4AGR  CO2AGR  N2OAGR  TOTAGR_LAND  TOTENERGYAG  TOTFRESHWATER  TOTPEST  \\\n",
       "0     0.0     0.0     0.0   485605.123          0.0            0.0      0.0   \n",
       "\n",
       "   pred_class  \n",
       "0           2  "
      ]
     },
     "execution_count": 2325,
     "metadata": {},
     "output_type": "execute_result"
    }
   ],
   "source": [
    "x.head(1)"
   ]
  },
  {
   "cell_type": "code",
   "execution_count": 2326,
   "metadata": {},
   "outputs": [
    {
     "data": {
      "text/html": [
       "<div>\n",
       "<style scoped>\n",
       "    .dataframe tbody tr th:only-of-type {\n",
       "        vertical-align: middle;\n",
       "    }\n",
       "\n",
       "    .dataframe tbody tr th {\n",
       "        vertical-align: top;\n",
       "    }\n",
       "\n",
       "    .dataframe thead th {\n",
       "        text-align: right;\n",
       "    }\n",
       "</style>\n",
       "<table border=\"1\" class=\"dataframe\">\n",
       "  <thead>\n",
       "    <tr style=\"text-align: right;\">\n",
       "      <th></th>\n",
       "      <th>CH4AGR</th>\n",
       "      <th>CO2AGR</th>\n",
       "      <th>N2OAGR</th>\n",
       "      <th>TOTAGR_LAND</th>\n",
       "      <th>TOTENERGYAG</th>\n",
       "      <th>TOTFRESHWATER</th>\n",
       "      <th>TOTPEST</th>\n",
       "    </tr>\n",
       "  </thead>\n",
       "  <tbody>\n",
       "    <tr>\n",
       "      <th>0</th>\n",
       "      <td>0.0</td>\n",
       "      <td>0.0</td>\n",
       "      <td>0.0</td>\n",
       "      <td>485605.123</td>\n",
       "      <td>0.0</td>\n",
       "      <td>0.0</td>\n",
       "      <td>0.0</td>\n",
       "    </tr>\n",
       "  </tbody>\n",
       "</table>\n",
       "</div>"
      ],
      "text/plain": [
       "   CH4AGR  CO2AGR  N2OAGR  TOTAGR_LAND  TOTENERGYAG  TOTFRESHWATER  TOTPEST\n",
       "0     0.0     0.0     0.0   485605.123          0.0            0.0      0.0"
      ]
     },
     "execution_count": 2326,
     "metadata": {},
     "output_type": "execute_result"
    }
   ],
   "source": [
    "from sklearn.model_selection import train_test_split\n",
    "x = df.drop([\"COUNTRY\", \"TIME_PERIOD\", \"pred_class\"], axis=1)\n",
    "x.head(1)"
   ]
  },
  {
   "cell_type": "code",
   "execution_count": 2327,
   "metadata": {},
   "outputs": [
    {
     "data": {
      "text/plain": [
       "array([2, 2, 2, ..., 0, 0, 0])"
      ]
     },
     "execution_count": 2327,
     "metadata": {},
     "output_type": "execute_result"
    }
   ],
   "source": [
    "final_model = KMeans(n_clusters =3, random_state=42)\n",
    "final_model.fit_predict(x)"
   ]
  },
  {
   "cell_type": "code",
   "execution_count": 2328,
   "metadata": {},
   "outputs": [],
   "source": [
    "pred_data = [[43830, 496, 26855, 57200, 2650, 16690, 45251]]\n",
    "# Means of all features"
   ]
  },
  {
   "cell_type": "code",
   "execution_count": 2329,
   "metadata": {},
   "outputs": [
    {
     "data": {
      "text/plain": [
       "array([0])"
      ]
     },
     "execution_count": 2329,
     "metadata": {},
     "output_type": "execute_result"
    }
   ],
   "source": [
    "final_model.predict(pred_data)"
   ]
  },
  {
   "cell_type": "code",
   "execution_count": null,
   "metadata": {},
   "outputs": [],
   "source": []
  }
 ],
 "metadata": {
  "kernelspec": {
   "display_name": "Python 3.9.7 64-bit",
   "language": "python",
   "name": "python3"
  },
  "language_info": {
   "codemirror_mode": {
    "name": "ipython",
    "version": 3
   },
   "file_extension": ".py",
   "mimetype": "text/x-python",
   "name": "python",
   "nbconvert_exporter": "python",
   "pygments_lexer": "ipython3",
   "version": "3.9.12"
  },
  "orig_nbformat": 4,
  "vscode": {
   "interpreter": {
    "hash": "78d5379cc5a4e608d385c34b2eb3bb89eeab02a92c9e7d486e469b4c860ee8ca"
   }
  }
 },
 "nbformat": 4,
 "nbformat_minor": 2
}
