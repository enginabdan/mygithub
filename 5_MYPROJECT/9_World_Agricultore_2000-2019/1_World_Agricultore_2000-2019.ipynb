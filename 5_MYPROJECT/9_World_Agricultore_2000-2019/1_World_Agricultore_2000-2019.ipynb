{
 "cells": [
  {
   "cell_type": "markdown",
   "metadata": {},
   "source": [
    "####  World Agricultural Outlook (2000-2019)\n",
    "##### (Part-1 / Exploratory Data Analysis)"
   ]
  },
  {
   "cell_type": "markdown",
   "metadata": {},
   "source": [
    "Objective:\n",
    "\n",
    "    1. This study was prepared using the OECD database.\n",
    "    2. The date range was selected between 2000-2019(For 20 years).\n",
    "\n",
    "    3. The aim of the study is to examine whether the world agriculture and livestock production is at a sufficient level according to the increasing population.\n",
    "\n",
    "    4. In addition, it is the evaluation of the hypotheses regarding the correlation between global warming and cattle breeding with data.\n",
    "    \n",
    "    5. Another purpose is the comparison of states in agriculture and livestock production and consumption.\n",
    "\n",
    "OECD Source Link: https://stats.oecd.org"
   ]
  },
  {
   "cell_type": "markdown",
   "metadata": {},
   "source": [
    "#### Import Libraries"
   ]
  },
  {
   "cell_type": "code",
   "execution_count": 3,
   "metadata": {},
   "outputs": [],
   "source": [
    "import pandas as pd\n",
    "import numpy as np\n",
    "import array as arr\n",
    "\n",
    "import matplotlib\n",
    "import matplotlib.pyplot as plt\n",
    "%matplotlib inline\n",
    "import seaborn as sns\n",
    "\n",
    "from scipy import stats"
   ]
  },
  {
   "cell_type": "markdown",
   "metadata": {},
   "source": [
    "#### Read csv's and infos"
   ]
  },
  {
   "cell_type": "code",
   "execution_count": 27,
   "metadata": {},
   "outputs": [],
   "source": [
    "wa = pd.read_csv(\"world_agricultore.csv\")"
   ]
  },
  {
   "cell_type": "code",
   "execution_count": 84,
   "metadata": {},
   "outputs": [],
   "source": [
    "wp = pd.read_csv(\"world_population_total_bysex.csv\")"
   ]
  },
  {
   "cell_type": "code",
   "execution_count": 85,
   "metadata": {},
   "outputs": [],
   "source": [
    "cy = pd.read_csv(\"country_year.csv\")"
   ]
  },
  {
   "cell_type": "code",
   "execution_count": 86,
   "metadata": {},
   "outputs": [
    {
     "data": {
      "text/html": [
       "<div>\n",
       "<style scoped>\n",
       "    .dataframe tbody tr th:only-of-type {\n",
       "        vertical-align: middle;\n",
       "    }\n",
       "\n",
       "    .dataframe tbody tr th {\n",
       "        vertical-align: top;\n",
       "    }\n",
       "\n",
       "    .dataframe thead th {\n",
       "        text-align: right;\n",
       "    }\n",
       "</style>\n",
       "<table border=\"1\" class=\"dataframe\">\n",
       "  <thead>\n",
       "    <tr style=\"text-align: right;\">\n",
       "      <th></th>\n",
       "      <th>COUNTRY</th>\n",
       "      <th>Country</th>\n",
       "      <th>COMMODITY</th>\n",
       "      <th>Commodity</th>\n",
       "      <th>VARIABLE</th>\n",
       "      <th>Variable</th>\n",
       "      <th>TIME</th>\n",
       "      <th>Time</th>\n",
       "      <th>Value</th>\n",
       "      <th>Flag Codes</th>\n",
       "      <th>Flags</th>\n",
       "    </tr>\n",
       "  </thead>\n",
       "  <tbody>\n",
       "    <tr>\n",
       "      <th>0</th>\n",
       "      <td>WLD</td>\n",
       "      <td>World</td>\n",
       "      <td>WT</td>\n",
       "      <td>Wheat</td>\n",
       "      <td>QP</td>\n",
       "      <td>Production, kt (for Biofuels in millions of li...</td>\n",
       "      <td>2000</td>\n",
       "      <td>2000</td>\n",
       "      <td>585705.5797</td>\n",
       "      <td>NaN</td>\n",
       "      <td>NaN</td>\n",
       "    </tr>\n",
       "    <tr>\n",
       "      <th>1</th>\n",
       "      <td>WLD</td>\n",
       "      <td>World</td>\n",
       "      <td>WT</td>\n",
       "      <td>Wheat</td>\n",
       "      <td>QP</td>\n",
       "      <td>Production, kt (for Biofuels in millions of li...</td>\n",
       "      <td>2001</td>\n",
       "      <td>2001</td>\n",
       "      <td>588610.4753</td>\n",
       "      <td>NaN</td>\n",
       "      <td>NaN</td>\n",
       "    </tr>\n",
       "  </tbody>\n",
       "</table>\n",
       "</div>"
      ],
      "text/plain": [
       "  COUNTRY Country COMMODITY Commodity VARIABLE  \\\n",
       "0     WLD   World        WT     Wheat       QP   \n",
       "1     WLD   World        WT     Wheat       QP   \n",
       "\n",
       "                                            Variable  TIME  Time        Value  \\\n",
       "0  Production, kt (for Biofuels in millions of li...  2000  2000  585705.5797   \n",
       "1  Production, kt (for Biofuels in millions of li...  2001  2001  588610.4753   \n",
       "\n",
       "   Flag Codes  Flags  \n",
       "0         NaN    NaN  \n",
       "1         NaN    NaN  "
      ]
     },
     "execution_count": 86,
     "metadata": {},
     "output_type": "execute_result"
    }
   ],
   "source": [
    "wa.head(2)"
   ]
  },
  {
   "cell_type": "code",
   "execution_count": 87,
   "metadata": {},
   "outputs": [
    {
     "data": {
      "text/html": [
       "<div>\n",
       "<style scoped>\n",
       "    .dataframe tbody tr th:only-of-type {\n",
       "        vertical-align: middle;\n",
       "    }\n",
       "\n",
       "    .dataframe tbody tr th {\n",
       "        vertical-align: top;\n",
       "    }\n",
       "\n",
       "    .dataframe thead th {\n",
       "        text-align: right;\n",
       "    }\n",
       "</style>\n",
       "<table border=\"1\" class=\"dataframe\">\n",
       "  <thead>\n",
       "    <tr style=\"text-align: right;\">\n",
       "      <th></th>\n",
       "      <th>LocID</th>\n",
       "      <th>Location</th>\n",
       "      <th>VarID</th>\n",
       "      <th>Variant</th>\n",
       "      <th>Time</th>\n",
       "      <th>MidPeriod</th>\n",
       "      <th>PopMale</th>\n",
       "      <th>PopFemale</th>\n",
       "      <th>PopTotal</th>\n",
       "      <th>PopDensity</th>\n",
       "    </tr>\n",
       "  </thead>\n",
       "  <tbody>\n",
       "    <tr>\n",
       "      <th>0</th>\n",
       "      <td>4</td>\n",
       "      <td>Afghanistan</td>\n",
       "      <td>2</td>\n",
       "      <td>Medium</td>\n",
       "      <td>1950</td>\n",
       "      <td>1950.5</td>\n",
       "      <td>4099.243</td>\n",
       "      <td>3652.874</td>\n",
       "      <td>7752.117</td>\n",
       "      <td>11.874</td>\n",
       "    </tr>\n",
       "    <tr>\n",
       "      <th>1</th>\n",
       "      <td>4</td>\n",
       "      <td>Afghanistan</td>\n",
       "      <td>2</td>\n",
       "      <td>Medium</td>\n",
       "      <td>1951</td>\n",
       "      <td>1951.5</td>\n",
       "      <td>4134.756</td>\n",
       "      <td>3705.395</td>\n",
       "      <td>7840.151</td>\n",
       "      <td>12.009</td>\n",
       "    </tr>\n",
       "  </tbody>\n",
       "</table>\n",
       "</div>"
      ],
      "text/plain": [
       "   LocID     Location  VarID Variant  Time  MidPeriod   PopMale  PopFemale  \\\n",
       "0      4  Afghanistan      2  Medium  1950     1950.5  4099.243   3652.874   \n",
       "1      4  Afghanistan      2  Medium  1951     1951.5  4134.756   3705.395   \n",
       "\n",
       "   PopTotal  PopDensity  \n",
       "0  7752.117      11.874  \n",
       "1  7840.151      12.009  "
      ]
     },
     "execution_count": 87,
     "metadata": {},
     "output_type": "execute_result"
    }
   ],
   "source": [
    "wp.head(2)"
   ]
  },
  {
   "cell_type": "code",
   "execution_count": 88,
   "metadata": {},
   "outputs": [
    {
     "data": {
      "text/html": [
       "<div>\n",
       "<style scoped>\n",
       "    .dataframe tbody tr th:only-of-type {\n",
       "        vertical-align: middle;\n",
       "    }\n",
       "\n",
       "    .dataframe tbody tr th {\n",
       "        vertical-align: top;\n",
       "    }\n",
       "\n",
       "    .dataframe thead th {\n",
       "        text-align: right;\n",
       "    }\n",
       "</style>\n",
       "<table border=\"1\" class=\"dataframe\">\n",
       "  <thead>\n",
       "    <tr style=\"text-align: right;\">\n",
       "      <th></th>\n",
       "      <th>wa_all</th>\n",
       "      <th>wa_country</th>\n",
       "      <th>wa_org</th>\n",
       "      <th>wp_all</th>\n",
       "      <th>wp_country</th>\n",
       "      <th>wp_org</th>\n",
       "      <th>years</th>\n",
       "      <th>abbrv</th>\n",
       "      <th>meaning</th>\n",
       "    </tr>\n",
       "  </thead>\n",
       "  <tbody>\n",
       "    <tr>\n",
       "      <th>0</th>\n",
       "      <td>World</td>\n",
       "      <td>Australia</td>\n",
       "      <td>World</td>\n",
       "      <td>World</td>\n",
       "      <td>Australia</td>\n",
       "      <td>World</td>\n",
       "      <td>2000.0</td>\n",
       "      <td>QP</td>\n",
       "      <td>Production</td>\n",
       "    </tr>\n",
       "    <tr>\n",
       "      <th>1</th>\n",
       "      <td>OECD</td>\n",
       "      <td>Canada</td>\n",
       "      <td>OECD</td>\n",
       "      <td>Organisation for Economic Co-operation and Dev...</td>\n",
       "      <td>Canada</td>\n",
       "      <td>Organisation for Economic Co-operation and Dev...</td>\n",
       "      <td>2001.0</td>\n",
       "      <td>IM</td>\n",
       "      <td>Imports</td>\n",
       "    </tr>\n",
       "  </tbody>\n",
       "</table>\n",
       "</div>"
      ],
      "text/plain": [
       "  wa_all wa_country wa_org                                             wp_all  \\\n",
       "0  World  Australia  World                                              World   \n",
       "1   OECD     Canada   OECD  Organisation for Economic Co-operation and Dev...   \n",
       "\n",
       "  wp_country                                             wp_org   years abbrv  \\\n",
       "0  Australia                                              World  2000.0    QP   \n",
       "1     Canada  Organisation for Economic Co-operation and Dev...  2001.0    IM   \n",
       "\n",
       "      meaning  \n",
       "0  Production  \n",
       "1     Imports  "
      ]
     },
     "execution_count": 88,
     "metadata": {},
     "output_type": "execute_result"
    }
   ],
   "source": [
    "cy.head(2)"
   ]
  },
  {
   "cell_type": "code",
   "execution_count": 89,
   "metadata": {},
   "outputs": [
    {
     "name": "stdout",
     "output_type": "stream",
     "text": [
      "<class 'pandas.core.frame.DataFrame'>\n",
      "RangeIndex: 197739 entries, 0 to 197738\n",
      "Data columns (total 11 columns):\n",
      " #   Column      Non-Null Count   Dtype  \n",
      "---  ------      --------------   -----  \n",
      " 0   COUNTRY     197739 non-null  object \n",
      " 1   Country     197739 non-null  object \n",
      " 2   COMMODITY   197739 non-null  object \n",
      " 3   Commodity   197739 non-null  object \n",
      " 4   VARIABLE    197739 non-null  object \n",
      " 5   Variable    197739 non-null  object \n",
      " 6   TIME        197739 non-null  int64  \n",
      " 7   Time        197739 non-null  int64  \n",
      " 8   Value       197739 non-null  float64\n",
      " 9   Flag Codes  0 non-null       float64\n",
      " 10  Flags       0 non-null       float64\n",
      "dtypes: float64(3), int64(2), object(6)\n",
      "memory usage: 16.6+ MB\n"
     ]
    }
   ],
   "source": [
    "wa.info()"
   ]
  },
  {
   "cell_type": "code",
   "execution_count": 90,
   "metadata": {},
   "outputs": [
    {
     "name": "stdout",
     "output_type": "stream",
     "text": [
      "<class 'pandas.core.frame.DataFrame'>\n",
      "RangeIndex: 280932 entries, 0 to 280931\n",
      "Data columns (total 10 columns):\n",
      " #   Column      Non-Null Count   Dtype  \n",
      "---  ------      --------------   -----  \n",
      " 0   LocID       280932 non-null  int64  \n",
      " 1   Location    280932 non-null  object \n",
      " 2   VarID       280932 non-null  int64  \n",
      " 3   Variant     280932 non-null  object \n",
      " 4   Time        280932 non-null  int64  \n",
      " 5   MidPeriod   280932 non-null  float64\n",
      " 6   PopMale     250876 non-null  float64\n",
      " 7   PopFemale   250876 non-null  float64\n",
      " 8   PopTotal    280932 non-null  float64\n",
      " 9   PopDensity  280932 non-null  float64\n",
      "dtypes: float64(5), int64(3), object(2)\n",
      "memory usage: 21.4+ MB\n"
     ]
    }
   ],
   "source": [
    "wp.info()"
   ]
  },
  {
   "cell_type": "code",
   "execution_count": 91,
   "metadata": {},
   "outputs": [
    {
     "name": "stdout",
     "output_type": "stream",
     "text": [
      "<class 'pandas.core.frame.DataFrame'>\n",
      "RangeIndex: 52 entries, 0 to 51\n",
      "Data columns (total 9 columns):\n",
      " #   Column      Non-Null Count  Dtype  \n",
      "---  ------      --------------  -----  \n",
      " 0   wa_all      52 non-null     object \n",
      " 1   wa_country  41 non-null     object \n",
      " 2   wa_org      10 non-null     object \n",
      " 3   wp_all      52 non-null     object \n",
      " 4   wp_country  41 non-null     object \n",
      " 5   wp_org      10 non-null     object \n",
      " 6   years       20 non-null     float64\n",
      " 7   abbrv       19 non-null     object \n",
      " 8   meaning     19 non-null     object \n",
      "dtypes: float64(1), object(8)\n",
      "memory usage: 3.8+ KB\n"
     ]
    }
   ],
   "source": [
    "cy.info()"
   ]
  },
  {
   "cell_type": "code",
   "execution_count": 92,
   "metadata": {},
   "outputs": [
    {
     "data": {
      "text/plain": [
       "(197739, 11)"
      ]
     },
     "execution_count": 92,
     "metadata": {},
     "output_type": "execute_result"
    }
   ],
   "source": [
    "wa.shape"
   ]
  },
  {
   "cell_type": "code",
   "execution_count": 93,
   "metadata": {},
   "outputs": [
    {
     "data": {
      "text/plain": [
       "(280932, 10)"
      ]
     },
     "execution_count": 93,
     "metadata": {},
     "output_type": "execute_result"
    }
   ],
   "source": [
    "wp.shape"
   ]
  },
  {
   "cell_type": "code",
   "execution_count": 94,
   "metadata": {},
   "outputs": [
    {
     "data": {
      "text/plain": [
       "(52, 9)"
      ]
     },
     "execution_count": 94,
     "metadata": {},
     "output_type": "execute_result"
    }
   ],
   "source": [
    "cy.shape"
   ]
  },
  {
   "cell_type": "code",
   "execution_count": 95,
   "metadata": {},
   "outputs": [
    {
     "data": {
      "text/html": [
       "<div>\n",
       "<style scoped>\n",
       "    .dataframe tbody tr th:only-of-type {\n",
       "        vertical-align: middle;\n",
       "    }\n",
       "\n",
       "    .dataframe tbody tr th {\n",
       "        vertical-align: top;\n",
       "    }\n",
       "\n",
       "    .dataframe thead th {\n",
       "        text-align: right;\n",
       "    }\n",
       "</style>\n",
       "<table border=\"1\" class=\"dataframe\">\n",
       "  <thead>\n",
       "    <tr style=\"text-align: right;\">\n",
       "      <th></th>\n",
       "      <th>TIME</th>\n",
       "      <th>Time</th>\n",
       "      <th>Value</th>\n",
       "      <th>Flag Codes</th>\n",
       "      <th>Flags</th>\n",
       "    </tr>\n",
       "  </thead>\n",
       "  <tbody>\n",
       "    <tr>\n",
       "      <th>count</th>\n",
       "      <td>197739.000000</td>\n",
       "      <td>197739.000000</td>\n",
       "      <td>1.977390e+05</td>\n",
       "      <td>0.0</td>\n",
       "      <td>0.0</td>\n",
       "    </tr>\n",
       "    <tr>\n",
       "      <th>mean</th>\n",
       "      <td>2009.592554</td>\n",
       "      <td>2009.592554</td>\n",
       "      <td>1.275999e+04</td>\n",
       "      <td>NaN</td>\n",
       "      <td>NaN</td>\n",
       "    </tr>\n",
       "    <tr>\n",
       "      <th>std</th>\n",
       "      <td>5.770262</td>\n",
       "      <td>5.770262</td>\n",
       "      <td>9.900262e+04</td>\n",
       "      <td>NaN</td>\n",
       "      <td>NaN</td>\n",
       "    </tr>\n",
       "    <tr>\n",
       "      <th>min</th>\n",
       "      <td>2000.000000</td>\n",
       "      <td>2000.000000</td>\n",
       "      <td>-1.027303e+05</td>\n",
       "      <td>NaN</td>\n",
       "      <td>NaN</td>\n",
       "    </tr>\n",
       "    <tr>\n",
       "      <th>25%</th>\n",
       "      <td>2005.000000</td>\n",
       "      <td>2005.000000</td>\n",
       "      <td>1.400000e+00</td>\n",
       "      <td>NaN</td>\n",
       "      <td>NaN</td>\n",
       "    </tr>\n",
       "    <tr>\n",
       "      <th>50%</th>\n",
       "      <td>2010.000000</td>\n",
       "      <td>2010.000000</td>\n",
       "      <td>8.543534e+01</td>\n",
       "      <td>NaN</td>\n",
       "      <td>NaN</td>\n",
       "    </tr>\n",
       "    <tr>\n",
       "      <th>75%</th>\n",
       "      <td>2015.000000</td>\n",
       "      <td>2015.000000</td>\n",
       "      <td>1.550980e+03</td>\n",
       "      <td>NaN</td>\n",
       "      <td>NaN</td>\n",
       "    </tr>\n",
       "    <tr>\n",
       "      <th>max</th>\n",
       "      <td>2019.000000</td>\n",
       "      <td>2019.000000</td>\n",
       "      <td>8.781220e+06</td>\n",
       "      <td>NaN</td>\n",
       "      <td>NaN</td>\n",
       "    </tr>\n",
       "  </tbody>\n",
       "</table>\n",
       "</div>"
      ],
      "text/plain": [
       "                TIME           Time         Value  Flag Codes  Flags\n",
       "count  197739.000000  197739.000000  1.977390e+05         0.0    0.0\n",
       "mean     2009.592554    2009.592554  1.275999e+04         NaN    NaN\n",
       "std         5.770262       5.770262  9.900262e+04         NaN    NaN\n",
       "min      2000.000000    2000.000000 -1.027303e+05         NaN    NaN\n",
       "25%      2005.000000    2005.000000  1.400000e+00         NaN    NaN\n",
       "50%      2010.000000    2010.000000  8.543534e+01         NaN    NaN\n",
       "75%      2015.000000    2015.000000  1.550980e+03         NaN    NaN\n",
       "max      2019.000000    2019.000000  8.781220e+06         NaN    NaN"
      ]
     },
     "execution_count": 95,
     "metadata": {},
     "output_type": "execute_result"
    }
   ],
   "source": [
    "wa.describe()"
   ]
  },
  {
   "cell_type": "code",
   "execution_count": 96,
   "metadata": {},
   "outputs": [
    {
     "data": {
      "text/html": [
       "<div>\n",
       "<style scoped>\n",
       "    .dataframe tbody tr th:only-of-type {\n",
       "        vertical-align: middle;\n",
       "    }\n",
       "\n",
       "    .dataframe tbody tr th {\n",
       "        vertical-align: top;\n",
       "    }\n",
       "\n",
       "    .dataframe thead th {\n",
       "        text-align: right;\n",
       "    }\n",
       "</style>\n",
       "<table border=\"1\" class=\"dataframe\">\n",
       "  <thead>\n",
       "    <tr style=\"text-align: right;\">\n",
       "      <th></th>\n",
       "      <th>LocID</th>\n",
       "      <th>VarID</th>\n",
       "      <th>Time</th>\n",
       "      <th>MidPeriod</th>\n",
       "      <th>PopMale</th>\n",
       "      <th>PopFemale</th>\n",
       "      <th>PopTotal</th>\n",
       "      <th>PopDensity</th>\n",
       "    </tr>\n",
       "  </thead>\n",
       "  <tbody>\n",
       "    <tr>\n",
       "      <th>count</th>\n",
       "      <td>280932.000000</td>\n",
       "      <td>280932.000000</td>\n",
       "      <td>280932.000000</td>\n",
       "      <td>280932.000000</td>\n",
       "      <td>2.508760e+05</td>\n",
       "      <td>2.508760e+05</td>\n",
       "      <td>2.809320e+05</td>\n",
       "      <td>280932.000000</td>\n",
       "    </tr>\n",
       "    <tr>\n",
       "      <th>mean</th>\n",
       "      <td>703.125062</td>\n",
       "      <td>22.411345</td>\n",
       "      <td>2051.026494</td>\n",
       "      <td>2051.526494</td>\n",
       "      <td>2.324362e+05</td>\n",
       "      <td>2.298754e+05</td>\n",
       "      <td>4.128536e+05</td>\n",
       "      <td>426.659040</td>\n",
       "    </tr>\n",
       "    <tr>\n",
       "      <th>std</th>\n",
       "      <td>631.959759</td>\n",
       "      <td>55.972847</td>\n",
       "      <td>33.642148</td>\n",
       "      <td>33.642148</td>\n",
       "      <td>6.938837e+05</td>\n",
       "      <td>6.829825e+05</td>\n",
       "      <td>1.308911e+06</td>\n",
       "      <td>2418.990784</td>\n",
       "    </tr>\n",
       "    <tr>\n",
       "      <th>min</th>\n",
       "      <td>4.000000</td>\n",
       "      <td>2.000000</td>\n",
       "      <td>1950.000000</td>\n",
       "      <td>1950.500000</td>\n",
       "      <td>6.812000e+00</td>\n",
       "      <td>6.889000e+00</td>\n",
       "      <td>1.510000e-01</td>\n",
       "      <td>0.052000</td>\n",
       "    </tr>\n",
       "    <tr>\n",
       "      <th>25%</th>\n",
       "      <td>300.000000</td>\n",
       "      <td>2.000000</td>\n",
       "      <td>2031.000000</td>\n",
       "      <td>2031.500000</td>\n",
       "      <td>1.847834e+03</td>\n",
       "      <td>1.860604e+03</td>\n",
       "      <td>1.240100e+03</td>\n",
       "      <td>34.205250</td>\n",
       "    </tr>\n",
       "    <tr>\n",
       "      <th>50%</th>\n",
       "      <td>586.000000</td>\n",
       "      <td>5.000000</td>\n",
       "      <td>2055.000000</td>\n",
       "      <td>2055.500000</td>\n",
       "      <td>1.136849e+04</td>\n",
       "      <td>1.164585e+04</td>\n",
       "      <td>1.420555e+04</td>\n",
       "      <td>91.590000</td>\n",
       "    </tr>\n",
       "    <tr>\n",
       "      <th>75%</th>\n",
       "      <td>903.000000</td>\n",
       "      <td>9.000000</td>\n",
       "      <td>2078.000000</td>\n",
       "      <td>2078.500000</td>\n",
       "      <td>8.526402e+04</td>\n",
       "      <td>8.648854e+04</td>\n",
       "      <td>1.171661e+05</td>\n",
       "      <td>216.985750</td>\n",
       "    </tr>\n",
       "    <tr>\n",
       "      <th>max</th>\n",
       "      <td>5501.000000</td>\n",
       "      <td>207.000000</td>\n",
       "      <td>2100.000000</td>\n",
       "      <td>2100.500000</td>\n",
       "      <td>1.092000e+07</td>\n",
       "      <td>1.071273e+07</td>\n",
       "      <td>2.163274e+07</td>\n",
       "      <td>56025.839000</td>\n",
       "    </tr>\n",
       "  </tbody>\n",
       "</table>\n",
       "</div>"
      ],
      "text/plain": [
       "               LocID          VarID           Time      MidPeriod  \\\n",
       "count  280932.000000  280932.000000  280932.000000  280932.000000   \n",
       "mean      703.125062      22.411345    2051.026494    2051.526494   \n",
       "std       631.959759      55.972847      33.642148      33.642148   \n",
       "min         4.000000       2.000000    1950.000000    1950.500000   \n",
       "25%       300.000000       2.000000    2031.000000    2031.500000   \n",
       "50%       586.000000       5.000000    2055.000000    2055.500000   \n",
       "75%       903.000000       9.000000    2078.000000    2078.500000   \n",
       "max      5501.000000     207.000000    2100.000000    2100.500000   \n",
       "\n",
       "            PopMale     PopFemale      PopTotal     PopDensity  \n",
       "count  2.508760e+05  2.508760e+05  2.809320e+05  280932.000000  \n",
       "mean   2.324362e+05  2.298754e+05  4.128536e+05     426.659040  \n",
       "std    6.938837e+05  6.829825e+05  1.308911e+06    2418.990784  \n",
       "min    6.812000e+00  6.889000e+00  1.510000e-01       0.052000  \n",
       "25%    1.847834e+03  1.860604e+03  1.240100e+03      34.205250  \n",
       "50%    1.136849e+04  1.164585e+04  1.420555e+04      91.590000  \n",
       "75%    8.526402e+04  8.648854e+04  1.171661e+05     216.985750  \n",
       "max    1.092000e+07  1.071273e+07  2.163274e+07   56025.839000  "
      ]
     },
     "execution_count": 96,
     "metadata": {},
     "output_type": "execute_result"
    }
   ],
   "source": [
    "wp.describe()"
   ]
  },
  {
   "cell_type": "code",
   "execution_count": 97,
   "metadata": {},
   "outputs": [
    {
     "data": {
      "text/html": [
       "<div>\n",
       "<style scoped>\n",
       "    .dataframe tbody tr th:only-of-type {\n",
       "        vertical-align: middle;\n",
       "    }\n",
       "\n",
       "    .dataframe tbody tr th {\n",
       "        vertical-align: top;\n",
       "    }\n",
       "\n",
       "    .dataframe thead th {\n",
       "        text-align: right;\n",
       "    }\n",
       "</style>\n",
       "<table border=\"1\" class=\"dataframe\">\n",
       "  <thead>\n",
       "    <tr style=\"text-align: right;\">\n",
       "      <th></th>\n",
       "      <th>years</th>\n",
       "    </tr>\n",
       "  </thead>\n",
       "  <tbody>\n",
       "    <tr>\n",
       "      <th>count</th>\n",
       "      <td>20.00000</td>\n",
       "    </tr>\n",
       "    <tr>\n",
       "      <th>mean</th>\n",
       "      <td>2009.50000</td>\n",
       "    </tr>\n",
       "    <tr>\n",
       "      <th>std</th>\n",
       "      <td>5.91608</td>\n",
       "    </tr>\n",
       "    <tr>\n",
       "      <th>min</th>\n",
       "      <td>2000.00000</td>\n",
       "    </tr>\n",
       "    <tr>\n",
       "      <th>25%</th>\n",
       "      <td>2004.75000</td>\n",
       "    </tr>\n",
       "    <tr>\n",
       "      <th>50%</th>\n",
       "      <td>2009.50000</td>\n",
       "    </tr>\n",
       "    <tr>\n",
       "      <th>75%</th>\n",
       "      <td>2014.25000</td>\n",
       "    </tr>\n",
       "    <tr>\n",
       "      <th>max</th>\n",
       "      <td>2019.00000</td>\n",
       "    </tr>\n",
       "  </tbody>\n",
       "</table>\n",
       "</div>"
      ],
      "text/plain": [
       "            years\n",
       "count    20.00000\n",
       "mean   2009.50000\n",
       "std       5.91608\n",
       "min    2000.00000\n",
       "25%    2004.75000\n",
       "50%    2009.50000\n",
       "75%    2014.25000\n",
       "max    2019.00000"
      ]
     },
     "execution_count": 97,
     "metadata": {},
     "output_type": "execute_result"
    }
   ],
   "source": [
    "cy.describe()"
   ]
  },
  {
   "cell_type": "markdown",
   "metadata": {},
   "source": [
    "#### Creating Lists from cy dataset"
   ]
  },
  {
   "cell_type": "code",
   "execution_count": 98,
   "metadata": {},
   "outputs": [
    {
     "data": {
      "text/html": [
       "<div>\n",
       "<style scoped>\n",
       "    .dataframe tbody tr th:only-of-type {\n",
       "        vertical-align: middle;\n",
       "    }\n",
       "\n",
       "    .dataframe tbody tr th {\n",
       "        vertical-align: top;\n",
       "    }\n",
       "\n",
       "    .dataframe thead th {\n",
       "        text-align: right;\n",
       "    }\n",
       "</style>\n",
       "<table border=\"1\" class=\"dataframe\">\n",
       "  <thead>\n",
       "    <tr style=\"text-align: right;\">\n",
       "      <th></th>\n",
       "      <th>wa_all</th>\n",
       "      <th>wa_country</th>\n",
       "      <th>wa_org</th>\n",
       "      <th>wp_all</th>\n",
       "      <th>wp_country</th>\n",
       "      <th>wp_org</th>\n",
       "      <th>years</th>\n",
       "      <th>abbrv</th>\n",
       "      <th>meaning</th>\n",
       "    </tr>\n",
       "  </thead>\n",
       "  <tbody>\n",
       "    <tr>\n",
       "      <th>0</th>\n",
       "      <td>World</td>\n",
       "      <td>Australia</td>\n",
       "      <td>World</td>\n",
       "      <td>World</td>\n",
       "      <td>Australia</td>\n",
       "      <td>World</td>\n",
       "      <td>2000.0</td>\n",
       "      <td>QP</td>\n",
       "      <td>Production</td>\n",
       "    </tr>\n",
       "  </tbody>\n",
       "</table>\n",
       "</div>"
      ],
      "text/plain": [
       "  wa_all wa_country wa_org wp_all wp_country wp_org   years abbrv     meaning\n",
       "0  World  Australia  World  World  Australia  World  2000.0    QP  Production"
      ]
     },
     "execution_count": 98,
     "metadata": {},
     "output_type": "execute_result"
    }
   ],
   "source": [
    "cy.head(1)"
   ]
  },
  {
   "cell_type": "code",
   "execution_count": 99,
   "metadata": {},
   "outputs": [],
   "source": [
    "wa_all_list = list(cy.wa_all.unique())\n",
    "wa_country_list = list(cy.wa_country.unique())\n",
    "wa_org_list = list(cy.wa_org.unique())\n",
    "wp_all_list = list(cy.wp_all.unique())\n",
    "wp_country_list = list(cy.wp_country.unique())\n",
    "wp_org_list = list(cy.wp_org.unique())\n",
    "years_list = list(cy.years.unique())\n",
    "abbr_list = list(cy.abbrv.unique())\n",
    "mean_list = list(cy.meaning.unique())"
   ]
  },
  {
   "cell_type": "code",
   "execution_count": 100,
   "metadata": {},
   "outputs": [
    {
     "data": {
      "text/plain": [
       "nan"
      ]
     },
     "execution_count": 100,
     "metadata": {},
     "output_type": "execute_result"
    }
   ],
   "source": [
    "wa_country_list.pop(-1)\n",
    "wa_org_list.pop(-1)\n",
    "wp_country_list.pop(-1)\n",
    "wp_org_list.pop(-1)\n",
    "years_list.pop(-1)\n",
    "abbr_list.pop(-1)\n",
    "mean_list.pop(-1)"
   ]
  },
  {
   "cell_type": "code",
   "execution_count": 101,
   "metadata": {},
   "outputs": [
    {
     "data": {
      "text/plain": [
       "['World',\n",
       " 'Organisation for Economic Co-operation and Development (OECD)',\n",
       " 'More developed regions',\n",
       " 'ESCAP: ADB Developing member countries (DMCs)',\n",
       " 'ESCAP: Least Developed Countries (LDCs)',\n",
       " 'European Union (EU: 28)',\n",
       " 'WHO: European Region (EURO)',\n",
       " 'Africa',\n",
       " 'Latin America and the Caribbean',\n",
       " 'Asia']"
      ]
     },
     "execution_count": 101,
     "metadata": {},
     "output_type": "execute_result"
    }
   ],
   "source": [
    "wp_org_list"
   ]
  },
  {
   "cell_type": "markdown",
   "metadata": {},
   "source": [
    "#### Drop wa & wp Columns"
   ]
  },
  {
   "cell_type": "code",
   "execution_count": 102,
   "metadata": {},
   "outputs": [
    {
     "data": {
      "text/html": [
       "<div>\n",
       "<style scoped>\n",
       "    .dataframe tbody tr th:only-of-type {\n",
       "        vertical-align: middle;\n",
       "    }\n",
       "\n",
       "    .dataframe tbody tr th {\n",
       "        vertical-align: top;\n",
       "    }\n",
       "\n",
       "    .dataframe thead th {\n",
       "        text-align: right;\n",
       "    }\n",
       "</style>\n",
       "<table border=\"1\" class=\"dataframe\">\n",
       "  <thead>\n",
       "    <tr style=\"text-align: right;\">\n",
       "      <th></th>\n",
       "      <th>COUNTRY</th>\n",
       "      <th>Country</th>\n",
       "      <th>COMMODITY</th>\n",
       "      <th>Commodity</th>\n",
       "      <th>VARIABLE</th>\n",
       "      <th>Variable</th>\n",
       "      <th>TIME</th>\n",
       "      <th>Time</th>\n",
       "      <th>Value</th>\n",
       "      <th>Flag Codes</th>\n",
       "      <th>Flags</th>\n",
       "    </tr>\n",
       "  </thead>\n",
       "  <tbody>\n",
       "    <tr>\n",
       "      <th>0</th>\n",
       "      <td>WLD</td>\n",
       "      <td>World</td>\n",
       "      <td>WT</td>\n",
       "      <td>Wheat</td>\n",
       "      <td>QP</td>\n",
       "      <td>Production, kt (for Biofuels in millions of li...</td>\n",
       "      <td>2000</td>\n",
       "      <td>2000</td>\n",
       "      <td>585705.5797</td>\n",
       "      <td>NaN</td>\n",
       "      <td>NaN</td>\n",
       "    </tr>\n",
       "  </tbody>\n",
       "</table>\n",
       "</div>"
      ],
      "text/plain": [
       "  COUNTRY Country COMMODITY Commodity VARIABLE  \\\n",
       "0     WLD   World        WT     Wheat       QP   \n",
       "\n",
       "                                            Variable  TIME  Time        Value  \\\n",
       "0  Production, kt (for Biofuels in millions of li...  2000  2000  585705.5797   \n",
       "\n",
       "   Flag Codes  Flags  \n",
       "0         NaN    NaN  "
      ]
     },
     "execution_count": 102,
     "metadata": {},
     "output_type": "execute_result"
    }
   ],
   "source": [
    "wa.head(1)"
   ]
  },
  {
   "cell_type": "code",
   "execution_count": 103,
   "metadata": {},
   "outputs": [],
   "source": [
    "wa.drop(columns=[\"Flag Codes\",\"Flags\",\"COUNTRY\",\"COMMODITY\",\"TIME\"], inplace=True)"
   ]
  },
  {
   "cell_type": "code",
   "execution_count": 104,
   "metadata": {},
   "outputs": [
    {
     "data": {
      "text/html": [
       "<div>\n",
       "<style scoped>\n",
       "    .dataframe tbody tr th:only-of-type {\n",
       "        vertical-align: middle;\n",
       "    }\n",
       "\n",
       "    .dataframe tbody tr th {\n",
       "        vertical-align: top;\n",
       "    }\n",
       "\n",
       "    .dataframe thead th {\n",
       "        text-align: right;\n",
       "    }\n",
       "</style>\n",
       "<table border=\"1\" class=\"dataframe\">\n",
       "  <thead>\n",
       "    <tr style=\"text-align: right;\">\n",
       "      <th></th>\n",
       "      <th>Country</th>\n",
       "      <th>Commodity</th>\n",
       "      <th>VARIABLE</th>\n",
       "      <th>Variable</th>\n",
       "      <th>Time</th>\n",
       "      <th>Value</th>\n",
       "    </tr>\n",
       "  </thead>\n",
       "  <tbody>\n",
       "    <tr>\n",
       "      <th>0</th>\n",
       "      <td>World</td>\n",
       "      <td>Wheat</td>\n",
       "      <td>QP</td>\n",
       "      <td>Production, kt (for Biofuels in millions of li...</td>\n",
       "      <td>2000</td>\n",
       "      <td>585705.5797</td>\n",
       "    </tr>\n",
       "  </tbody>\n",
       "</table>\n",
       "</div>"
      ],
      "text/plain": [
       "  Country Commodity VARIABLE  \\\n",
       "0   World     Wheat       QP   \n",
       "\n",
       "                                            Variable  Time        Value  \n",
       "0  Production, kt (for Biofuels in millions of li...  2000  585705.5797  "
      ]
     },
     "execution_count": 104,
     "metadata": {},
     "output_type": "execute_result"
    }
   ],
   "source": [
    "wa.head(1)"
   ]
  },
  {
   "cell_type": "code",
   "execution_count": 105,
   "metadata": {},
   "outputs": [
    {
     "data": {
      "text/html": [
       "<div>\n",
       "<style scoped>\n",
       "    .dataframe tbody tr th:only-of-type {\n",
       "        vertical-align: middle;\n",
       "    }\n",
       "\n",
       "    .dataframe tbody tr th {\n",
       "        vertical-align: top;\n",
       "    }\n",
       "\n",
       "    .dataframe thead th {\n",
       "        text-align: right;\n",
       "    }\n",
       "</style>\n",
       "<table border=\"1\" class=\"dataframe\">\n",
       "  <thead>\n",
       "    <tr style=\"text-align: right;\">\n",
       "      <th></th>\n",
       "      <th>LocID</th>\n",
       "      <th>Location</th>\n",
       "      <th>VarID</th>\n",
       "      <th>Variant</th>\n",
       "      <th>Time</th>\n",
       "      <th>MidPeriod</th>\n",
       "      <th>PopMale</th>\n",
       "      <th>PopFemale</th>\n",
       "      <th>PopTotal</th>\n",
       "      <th>PopDensity</th>\n",
       "    </tr>\n",
       "  </thead>\n",
       "  <tbody>\n",
       "    <tr>\n",
       "      <th>0</th>\n",
       "      <td>4</td>\n",
       "      <td>Afghanistan</td>\n",
       "      <td>2</td>\n",
       "      <td>Medium</td>\n",
       "      <td>1950</td>\n",
       "      <td>1950.5</td>\n",
       "      <td>4099.243</td>\n",
       "      <td>3652.874</td>\n",
       "      <td>7752.117</td>\n",
       "      <td>11.874</td>\n",
       "    </tr>\n",
       "  </tbody>\n",
       "</table>\n",
       "</div>"
      ],
      "text/plain": [
       "   LocID     Location  VarID Variant  Time  MidPeriod   PopMale  PopFemale  \\\n",
       "0      4  Afghanistan      2  Medium  1950     1950.5  4099.243   3652.874   \n",
       "\n",
       "   PopTotal  PopDensity  \n",
       "0  7752.117      11.874  "
      ]
     },
     "execution_count": 105,
     "metadata": {},
     "output_type": "execute_result"
    }
   ],
   "source": [
    "wp.head(1)"
   ]
  },
  {
   "cell_type": "code",
   "execution_count": 106,
   "metadata": {},
   "outputs": [],
   "source": [
    "wp.drop(columns=[\"LocID\",\"VarID\",\"Variant\",\"MidPeriod\",\"PopDensity\"], inplace=True)"
   ]
  },
  {
   "cell_type": "code",
   "execution_count": 107,
   "metadata": {},
   "outputs": [
    {
     "data": {
      "text/html": [
       "<div>\n",
       "<style scoped>\n",
       "    .dataframe tbody tr th:only-of-type {\n",
       "        vertical-align: middle;\n",
       "    }\n",
       "\n",
       "    .dataframe tbody tr th {\n",
       "        vertical-align: top;\n",
       "    }\n",
       "\n",
       "    .dataframe thead th {\n",
       "        text-align: right;\n",
       "    }\n",
       "</style>\n",
       "<table border=\"1\" class=\"dataframe\">\n",
       "  <thead>\n",
       "    <tr style=\"text-align: right;\">\n",
       "      <th></th>\n",
       "      <th>Location</th>\n",
       "      <th>Time</th>\n",
       "      <th>PopMale</th>\n",
       "      <th>PopFemale</th>\n",
       "      <th>PopTotal</th>\n",
       "    </tr>\n",
       "  </thead>\n",
       "  <tbody>\n",
       "    <tr>\n",
       "      <th>0</th>\n",
       "      <td>Afghanistan</td>\n",
       "      <td>1950</td>\n",
       "      <td>4099.243</td>\n",
       "      <td>3652.874</td>\n",
       "      <td>7752.117</td>\n",
       "    </tr>\n",
       "  </tbody>\n",
       "</table>\n",
       "</div>"
      ],
      "text/plain": [
       "      Location  Time   PopMale  PopFemale  PopTotal\n",
       "0  Afghanistan  1950  4099.243   3652.874  7752.117"
      ]
     },
     "execution_count": 107,
     "metadata": {},
     "output_type": "execute_result"
    }
   ],
   "source": [
    "wp.head(1)"
   ]
  },
  {
   "cell_type": "markdown",
   "metadata": {},
   "source": [
    "#### Rename the wa Columns"
   ]
  },
  {
   "cell_type": "code",
   "execution_count": 108,
   "metadata": {},
   "outputs": [],
   "source": [
    "wa.rename(columns = {'VARIABLE':'Var_abbr', 'Variable':'Var_expl'}, inplace = True)\n",
    "wp.rename(columns = {'Location':'Country'}, inplace = True)"
   ]
  },
  {
   "cell_type": "markdown",
   "metadata": {},
   "source": [
    "#### Insert & Reordering Population Columns to wa "
   ]
  },
  {
   "cell_type": "code",
   "execution_count": 109,
   "metadata": {},
   "outputs": [
    {
     "data": {
      "text/html": [
       "<div>\n",
       "<style scoped>\n",
       "    .dataframe tbody tr th:only-of-type {\n",
       "        vertical-align: middle;\n",
       "    }\n",
       "\n",
       "    .dataframe tbody tr th {\n",
       "        vertical-align: top;\n",
       "    }\n",
       "\n",
       "    .dataframe thead th {\n",
       "        text-align: right;\n",
       "    }\n",
       "</style>\n",
       "<table border=\"1\" class=\"dataframe\">\n",
       "  <thead>\n",
       "    <tr style=\"text-align: right;\">\n",
       "      <th></th>\n",
       "      <th>Country</th>\n",
       "      <th>Commodity</th>\n",
       "      <th>Var_abbr</th>\n",
       "      <th>Var_expl</th>\n",
       "      <th>Time</th>\n",
       "      <th>Value</th>\n",
       "    </tr>\n",
       "  </thead>\n",
       "  <tbody>\n",
       "    <tr>\n",
       "      <th>0</th>\n",
       "      <td>World</td>\n",
       "      <td>Wheat</td>\n",
       "      <td>QP</td>\n",
       "      <td>Production, kt (for Biofuels in millions of li...</td>\n",
       "      <td>2000</td>\n",
       "      <td>585705.5797</td>\n",
       "    </tr>\n",
       "  </tbody>\n",
       "</table>\n",
       "</div>"
      ],
      "text/plain": [
       "  Country Commodity Var_abbr  \\\n",
       "0   World     Wheat       QP   \n",
       "\n",
       "                                            Var_expl  Time        Value  \n",
       "0  Production, kt (for Biofuels in millions of li...  2000  585705.5797  "
      ]
     },
     "execution_count": 109,
     "metadata": {},
     "output_type": "execute_result"
    }
   ],
   "source": [
    "wa.head(1)"
   ]
  },
  {
   "cell_type": "code",
   "execution_count": 110,
   "metadata": {},
   "outputs": [],
   "source": [
    "wa['Var_mean'] = wa['Var_abbr']\n",
    "wa['PopTotal'] = wa['Country']\n",
    "wa['PopMale'] = wa['Country']\n",
    "wa['PopFemale'] = wa['Country']"
   ]
  },
  {
   "cell_type": "code",
   "execution_count": 111,
   "metadata": {},
   "outputs": [
    {
     "data": {
      "text/html": [
       "<div>\n",
       "<style scoped>\n",
       "    .dataframe tbody tr th:only-of-type {\n",
       "        vertical-align: middle;\n",
       "    }\n",
       "\n",
       "    .dataframe tbody tr th {\n",
       "        vertical-align: top;\n",
       "    }\n",
       "\n",
       "    .dataframe thead th {\n",
       "        text-align: right;\n",
       "    }\n",
       "</style>\n",
       "<table border=\"1\" class=\"dataframe\">\n",
       "  <thead>\n",
       "    <tr style=\"text-align: right;\">\n",
       "      <th></th>\n",
       "      <th>Country</th>\n",
       "      <th>Commodity</th>\n",
       "      <th>Var_abbr</th>\n",
       "      <th>Var_expl</th>\n",
       "      <th>Time</th>\n",
       "      <th>Value</th>\n",
       "      <th>Var_mean</th>\n",
       "      <th>PopTotal</th>\n",
       "      <th>PopMale</th>\n",
       "      <th>PopFemale</th>\n",
       "    </tr>\n",
       "  </thead>\n",
       "  <tbody>\n",
       "    <tr>\n",
       "      <th>0</th>\n",
       "      <td>World</td>\n",
       "      <td>Wheat</td>\n",
       "      <td>QP</td>\n",
       "      <td>Production, kt (for Biofuels in millions of li...</td>\n",
       "      <td>2000</td>\n",
       "      <td>585705.5797</td>\n",
       "      <td>QP</td>\n",
       "      <td>World</td>\n",
       "      <td>World</td>\n",
       "      <td>World</td>\n",
       "    </tr>\n",
       "  </tbody>\n",
       "</table>\n",
       "</div>"
      ],
      "text/plain": [
       "  Country Commodity Var_abbr  \\\n",
       "0   World     Wheat       QP   \n",
       "\n",
       "                                            Var_expl  Time        Value  \\\n",
       "0  Production, kt (for Biofuels in millions of li...  2000  585705.5797   \n",
       "\n",
       "  Var_mean PopTotal PopMale PopFemale  \n",
       "0       QP    World   World     World  "
      ]
     },
     "execution_count": 111,
     "metadata": {},
     "output_type": "execute_result"
    }
   ],
   "source": [
    "wa.head(1)"
   ]
  },
  {
   "cell_type": "code",
   "execution_count": 112,
   "metadata": {},
   "outputs": [],
   "source": [
    "wa = wa.iloc[:, [0,1,2,6,3,4,5,7,8,9]]"
   ]
  },
  {
   "cell_type": "code",
   "execution_count": 113,
   "metadata": {},
   "outputs": [
    {
     "data": {
      "text/html": [
       "<div>\n",
       "<style scoped>\n",
       "    .dataframe tbody tr th:only-of-type {\n",
       "        vertical-align: middle;\n",
       "    }\n",
       "\n",
       "    .dataframe tbody tr th {\n",
       "        vertical-align: top;\n",
       "    }\n",
       "\n",
       "    .dataframe thead th {\n",
       "        text-align: right;\n",
       "    }\n",
       "</style>\n",
       "<table border=\"1\" class=\"dataframe\">\n",
       "  <thead>\n",
       "    <tr style=\"text-align: right;\">\n",
       "      <th></th>\n",
       "      <th>Country</th>\n",
       "      <th>Commodity</th>\n",
       "      <th>Var_abbr</th>\n",
       "      <th>Var_mean</th>\n",
       "      <th>Var_expl</th>\n",
       "      <th>Time</th>\n",
       "      <th>Value</th>\n",
       "      <th>PopTotal</th>\n",
       "      <th>PopMale</th>\n",
       "      <th>PopFemale</th>\n",
       "    </tr>\n",
       "  </thead>\n",
       "  <tbody>\n",
       "    <tr>\n",
       "      <th>0</th>\n",
       "      <td>World</td>\n",
       "      <td>Wheat</td>\n",
       "      <td>QP</td>\n",
       "      <td>QP</td>\n",
       "      <td>Production, kt (for Biofuels in millions of li...</td>\n",
       "      <td>2000</td>\n",
       "      <td>585705.5797</td>\n",
       "      <td>World</td>\n",
       "      <td>World</td>\n",
       "      <td>World</td>\n",
       "    </tr>\n",
       "  </tbody>\n",
       "</table>\n",
       "</div>"
      ],
      "text/plain": [
       "  Country Commodity Var_abbr Var_mean  \\\n",
       "0   World     Wheat       QP       QP   \n",
       "\n",
       "                                            Var_expl  Time        Value  \\\n",
       "0  Production, kt (for Biofuels in millions of li...  2000  585705.5797   \n",
       "\n",
       "  PopTotal PopMale PopFemale  \n",
       "0    World   World     World  "
      ]
     },
     "execution_count": 113,
     "metadata": {},
     "output_type": "execute_result"
    }
   ],
   "source": [
    "wa.head(1)"
   ]
  },
  {
   "cell_type": "markdown",
   "metadata": {},
   "source": [
    "#### Reordering Columns wp"
   ]
  },
  {
   "cell_type": "code",
   "execution_count": 114,
   "metadata": {},
   "outputs": [
    {
     "data": {
      "text/html": [
       "<div>\n",
       "<style scoped>\n",
       "    .dataframe tbody tr th:only-of-type {\n",
       "        vertical-align: middle;\n",
       "    }\n",
       "\n",
       "    .dataframe tbody tr th {\n",
       "        vertical-align: top;\n",
       "    }\n",
       "\n",
       "    .dataframe thead th {\n",
       "        text-align: right;\n",
       "    }\n",
       "</style>\n",
       "<table border=\"1\" class=\"dataframe\">\n",
       "  <thead>\n",
       "    <tr style=\"text-align: right;\">\n",
       "      <th></th>\n",
       "      <th>Country</th>\n",
       "      <th>Time</th>\n",
       "      <th>PopMale</th>\n",
       "      <th>PopFemale</th>\n",
       "      <th>PopTotal</th>\n",
       "    </tr>\n",
       "  </thead>\n",
       "  <tbody>\n",
       "    <tr>\n",
       "      <th>0</th>\n",
       "      <td>Afghanistan</td>\n",
       "      <td>1950</td>\n",
       "      <td>4099.243</td>\n",
       "      <td>3652.874</td>\n",
       "      <td>7752.117</td>\n",
       "    </tr>\n",
       "  </tbody>\n",
       "</table>\n",
       "</div>"
      ],
      "text/plain": [
       "       Country  Time   PopMale  PopFemale  PopTotal\n",
       "0  Afghanistan  1950  4099.243   3652.874  7752.117"
      ]
     },
     "execution_count": 114,
     "metadata": {},
     "output_type": "execute_result"
    }
   ],
   "source": [
    "wp.head(1)"
   ]
  },
  {
   "cell_type": "code",
   "execution_count": 115,
   "metadata": {},
   "outputs": [],
   "source": [
    "wp = wp.iloc[:, [0,1,4,2,3]]"
   ]
  },
  {
   "cell_type": "code",
   "execution_count": 116,
   "metadata": {},
   "outputs": [
    {
     "data": {
      "text/html": [
       "<div>\n",
       "<style scoped>\n",
       "    .dataframe tbody tr th:only-of-type {\n",
       "        vertical-align: middle;\n",
       "    }\n",
       "\n",
       "    .dataframe tbody tr th {\n",
       "        vertical-align: top;\n",
       "    }\n",
       "\n",
       "    .dataframe thead th {\n",
       "        text-align: right;\n",
       "    }\n",
       "</style>\n",
       "<table border=\"1\" class=\"dataframe\">\n",
       "  <thead>\n",
       "    <tr style=\"text-align: right;\">\n",
       "      <th></th>\n",
       "      <th>Country</th>\n",
       "      <th>Time</th>\n",
       "      <th>PopTotal</th>\n",
       "      <th>PopMale</th>\n",
       "      <th>PopFemale</th>\n",
       "    </tr>\n",
       "  </thead>\n",
       "  <tbody>\n",
       "    <tr>\n",
       "      <th>0</th>\n",
       "      <td>Afghanistan</td>\n",
       "      <td>1950</td>\n",
       "      <td>7752.117</td>\n",
       "      <td>4099.243</td>\n",
       "      <td>3652.874</td>\n",
       "    </tr>\n",
       "  </tbody>\n",
       "</table>\n",
       "</div>"
      ],
      "text/plain": [
       "       Country  Time  PopTotal   PopMale  PopFemale\n",
       "0  Afghanistan  1950  7752.117  4099.243   3652.874"
      ]
     },
     "execution_count": 116,
     "metadata": {},
     "output_type": "execute_result"
    }
   ],
   "source": [
    "wp.head(1)"
   ]
  },
  {
   "cell_type": "markdown",
   "metadata": {},
   "source": [
    "#### Insert the Meanings of Var_abbr to Var_mean"
   ]
  },
  {
   "cell_type": "code",
   "execution_count": 117,
   "metadata": {},
   "outputs": [
    {
     "data": {
      "text/html": [
       "<div>\n",
       "<style scoped>\n",
       "    .dataframe tbody tr th:only-of-type {\n",
       "        vertical-align: middle;\n",
       "    }\n",
       "\n",
       "    .dataframe tbody tr th {\n",
       "        vertical-align: top;\n",
       "    }\n",
       "\n",
       "    .dataframe thead th {\n",
       "        text-align: right;\n",
       "    }\n",
       "</style>\n",
       "<table border=\"1\" class=\"dataframe\">\n",
       "  <thead>\n",
       "    <tr style=\"text-align: right;\">\n",
       "      <th></th>\n",
       "      <th>Country</th>\n",
       "      <th>Commodity</th>\n",
       "      <th>Var_abbr</th>\n",
       "      <th>Var_mean</th>\n",
       "      <th>Var_expl</th>\n",
       "      <th>Time</th>\n",
       "      <th>Value</th>\n",
       "      <th>PopTotal</th>\n",
       "      <th>PopMale</th>\n",
       "      <th>PopFemale</th>\n",
       "    </tr>\n",
       "  </thead>\n",
       "  <tbody>\n",
       "    <tr>\n",
       "      <th>0</th>\n",
       "      <td>World</td>\n",
       "      <td>Wheat</td>\n",
       "      <td>QP</td>\n",
       "      <td>QP</td>\n",
       "      <td>Production, kt (for Biofuels in millions of li...</td>\n",
       "      <td>2000</td>\n",
       "      <td>585705.5797</td>\n",
       "      <td>World</td>\n",
       "      <td>World</td>\n",
       "      <td>World</td>\n",
       "    </tr>\n",
       "    <tr>\n",
       "      <th>1</th>\n",
       "      <td>World</td>\n",
       "      <td>Wheat</td>\n",
       "      <td>QP</td>\n",
       "      <td>QP</td>\n",
       "      <td>Production, kt (for Biofuels in millions of li...</td>\n",
       "      <td>2001</td>\n",
       "      <td>588610.4753</td>\n",
       "      <td>World</td>\n",
       "      <td>World</td>\n",
       "      <td>World</td>\n",
       "    </tr>\n",
       "  </tbody>\n",
       "</table>\n",
       "</div>"
      ],
      "text/plain": [
       "  Country Commodity Var_abbr Var_mean  \\\n",
       "0   World     Wheat       QP       QP   \n",
       "1   World     Wheat       QP       QP   \n",
       "\n",
       "                                            Var_expl  Time        Value  \\\n",
       "0  Production, kt (for Biofuels in millions of li...  2000  585705.5797   \n",
       "1  Production, kt (for Biofuels in millions of li...  2001  588610.4753   \n",
       "\n",
       "  PopTotal PopMale PopFemale  \n",
       "0    World   World     World  \n",
       "1    World   World     World  "
      ]
     },
     "execution_count": 117,
     "metadata": {},
     "output_type": "execute_result"
    }
   ],
   "source": [
    "wa.head(2)"
   ]
  },
  {
   "cell_type": "code",
   "execution_count": 118,
   "metadata": {},
   "outputs": [
    {
     "data": {
      "text/plain": [
       "{'QP': 'Production',\n",
       " 'IM': 'Imports',\n",
       " 'QC': 'Consumption',\n",
       " 'ST': 'Ending_stocks',\n",
       " 'EX': 'Exports',\n",
       " 'NT': 'Trade_balance',\n",
       " 'AH': 'Area_harvested',\n",
       " 'FE': 'Feed',\n",
       " 'FO': 'Food',\n",
       " 'BF': 'Biofuel_use',\n",
       " 'OU': 'Other_use',\n",
       " 'YLD': 'Yield',\n",
       " 'XP': 'World_Price',\n",
       " 'PC': 'Consumption_per_cap',\n",
       " 'PP': 'Producer_price',\n",
       " 'CR': 'Crush',\n",
       " 'CI': 'Cow_inventory',\n",
       " 'QP__BME': 'Ethanol_Bio',\n",
       " 'QP__BMD': 'Biodiesel_Bio'}"
      ]
     },
     "execution_count": 118,
     "metadata": {},
     "output_type": "execute_result"
    }
   ],
   "source": [
    "var_mean_dict = dict(zip(abbr_list, mean_list))\n",
    "var_mean_dict"
   ]
  },
  {
   "cell_type": "code",
   "execution_count": 119,
   "metadata": {},
   "outputs": [],
   "source": [
    "wa[\"Var_mean\"].replace(var_mean_dict, inplace=True)"
   ]
  },
  {
   "cell_type": "code",
   "execution_count": 120,
   "metadata": {},
   "outputs": [
    {
     "data": {
      "text/html": [
       "<div>\n",
       "<style scoped>\n",
       "    .dataframe tbody tr th:only-of-type {\n",
       "        vertical-align: middle;\n",
       "    }\n",
       "\n",
       "    .dataframe tbody tr th {\n",
       "        vertical-align: top;\n",
       "    }\n",
       "\n",
       "    .dataframe thead th {\n",
       "        text-align: right;\n",
       "    }\n",
       "</style>\n",
       "<table border=\"1\" class=\"dataframe\">\n",
       "  <thead>\n",
       "    <tr style=\"text-align: right;\">\n",
       "      <th></th>\n",
       "      <th>Country</th>\n",
       "      <th>Commodity</th>\n",
       "      <th>Var_abbr</th>\n",
       "      <th>Var_mean</th>\n",
       "      <th>Var_expl</th>\n",
       "      <th>Time</th>\n",
       "      <th>Value</th>\n",
       "      <th>PopTotal</th>\n",
       "      <th>PopMale</th>\n",
       "      <th>PopFemale</th>\n",
       "    </tr>\n",
       "  </thead>\n",
       "  <tbody>\n",
       "    <tr>\n",
       "      <th>0</th>\n",
       "      <td>World</td>\n",
       "      <td>Wheat</td>\n",
       "      <td>QP</td>\n",
       "      <td>Production</td>\n",
       "      <td>Production, kt (for Biofuels in millions of li...</td>\n",
       "      <td>2000</td>\n",
       "      <td>585705.5797</td>\n",
       "      <td>World</td>\n",
       "      <td>World</td>\n",
       "      <td>World</td>\n",
       "    </tr>\n",
       "    <tr>\n",
       "      <th>1</th>\n",
       "      <td>World</td>\n",
       "      <td>Wheat</td>\n",
       "      <td>QP</td>\n",
       "      <td>Production</td>\n",
       "      <td>Production, kt (for Biofuels in millions of li...</td>\n",
       "      <td>2001</td>\n",
       "      <td>588610.4753</td>\n",
       "      <td>World</td>\n",
       "      <td>World</td>\n",
       "      <td>World</td>\n",
       "    </tr>\n",
       "  </tbody>\n",
       "</table>\n",
       "</div>"
      ],
      "text/plain": [
       "  Country Commodity Var_abbr    Var_mean  \\\n",
       "0   World     Wheat       QP  Production   \n",
       "1   World     Wheat       QP  Production   \n",
       "\n",
       "                                            Var_expl  Time        Value  \\\n",
       "0  Production, kt (for Biofuels in millions of li...  2000  585705.5797   \n",
       "1  Production, kt (for Biofuels in millions of li...  2001  588610.4753   \n",
       "\n",
       "  PopTotal PopMale PopFemale  \n",
       "0    World   World     World  \n",
       "1    World   World     World  "
      ]
     },
     "execution_count": 120,
     "metadata": {},
     "output_type": "execute_result"
    }
   ],
   "source": [
    "wa.head(2)"
   ]
  },
  {
   "cell_type": "markdown",
   "metadata": {},
   "source": [
    "#### Drop the wp values before the year 2000 "
   ]
  },
  {
   "cell_type": "code",
   "execution_count": 121,
   "metadata": {},
   "outputs": [],
   "source": [
    "wp = wp[wp['Time'] >= 2000] "
   ]
  },
  {
   "cell_type": "code",
   "execution_count": 122,
   "metadata": {},
   "outputs": [
    {
     "data": {
      "text/html": [
       "<div>\n",
       "<style scoped>\n",
       "    .dataframe tbody tr th:only-of-type {\n",
       "        vertical-align: middle;\n",
       "    }\n",
       "\n",
       "    .dataframe tbody tr th {\n",
       "        vertical-align: top;\n",
       "    }\n",
       "\n",
       "    .dataframe thead th {\n",
       "        text-align: right;\n",
       "    }\n",
       "</style>\n",
       "<table border=\"1\" class=\"dataframe\">\n",
       "  <thead>\n",
       "    <tr style=\"text-align: right;\">\n",
       "      <th></th>\n",
       "      <th>Country</th>\n",
       "      <th>Time</th>\n",
       "      <th>PopTotal</th>\n",
       "      <th>PopMale</th>\n",
       "      <th>PopFemale</th>\n",
       "    </tr>\n",
       "  </thead>\n",
       "  <tbody>\n",
       "    <tr>\n",
       "      <th>50</th>\n",
       "      <td>Afghanistan</td>\n",
       "      <td>2000</td>\n",
       "      <td>20779.957</td>\n",
       "      <td>10689.508</td>\n",
       "      <td>10090.449</td>\n",
       "    </tr>\n",
       "  </tbody>\n",
       "</table>\n",
       "</div>"
      ],
      "text/plain": [
       "        Country  Time   PopTotal    PopMale  PopFemale\n",
       "50  Afghanistan  2000  20779.957  10689.508  10090.449"
      ]
     },
     "execution_count": 122,
     "metadata": {},
     "output_type": "execute_result"
    }
   ],
   "source": [
    "wp.head(1)"
   ]
  },
  {
   "cell_type": "markdown",
   "metadata": {},
   "source": [
    "#### Select only the concurrent all country names from wp to wp1"
   ]
  },
  {
   "cell_type": "code",
   "execution_count": 123,
   "metadata": {},
   "outputs": [
    {
     "data": {
      "text/plain": [
       "array(['Afghanistan', 'Africa', 'African Group', 'African Union',\n",
       "       'African Union: Central Africa', 'African Union: Eastern Africa',\n",
       "       'African Union: Northern Africa', 'African Union: Southern Africa',\n",
       "       'African Union: Western Africa',\n",
       "       'African, Caribbean and Pacific (ACP) Group of States', 'Albania',\n",
       "       'Algeria', 'American Samoa', 'Andean Community', 'Andorra',\n",
       "       'Angola', 'Anguilla', 'Antigua and Barbuda', 'Argentina',\n",
       "       'Armenia', 'Aruba', 'Asia',\n",
       "       'Asia-Pacific Economic Cooperation (APEC)', 'Asia-Pacific Group',\n",
       "       'Association of Southeast Asian Nations (ASEAN)', 'Australia',\n",
       "       'Australia/New Zealand', 'Austria', 'Azerbaijan', 'BRIC', 'BRICS',\n",
       "       'Bahamas', 'Bahrain', 'Bangladesh', 'Barbados', 'Belarus',\n",
       "       'Belgium', 'Belize', 'Belt-Road Initiative (BRI)',\n",
       "       'Belt-Road Initiative: Africa', 'Belt-Road Initiative: Asia',\n",
       "       'Belt-Road Initiative: Europe',\n",
       "       'Belt-Road Initiative: Latin America and the Caribbean',\n",
       "       'Belt-Road Initiative: Pacific', 'Benin', 'Bermuda', 'Bhutan',\n",
       "       'Black Sea Economic Cooperation (BSEC)',\n",
       "       'Bolivarian Alliance for the Americas (ALBA)',\n",
       "       'Bolivia (Plurinational State of)',\n",
       "       'Bonaire, Sint Eustatius and Saba', 'Bosnia and Herzegovina',\n",
       "       'Botswana', 'Brazil', 'British Virgin Islands',\n",
       "       'Brunei Darussalam', 'Bulgaria', 'Burkina Faso', 'Burundi',\n",
       "       'Cabo Verde', 'Cambodia', 'Cameroon', 'Canada', 'Caribbean',\n",
       "       'Caribbean Community and Common Market (CARICOM)',\n",
       "       'Cayman Islands', 'Central African Republic', 'Central America',\n",
       "       'Central Asia', 'Central European Free Trade Agreement (CEFTA)',\n",
       "       'Central and Southern Asia', 'Chad', 'Channel Islands', 'Chile',\n",
       "       'China', 'China (and dependencies)', 'China, Hong Kong SAR',\n",
       "       'China, Macao SAR', 'China, Taiwan Province of China', 'Colombia',\n",
       "       'Commonwealth of Independent States (CIS)',\n",
       "       'Commonwealth of Nations', 'Commonwealth: Africa',\n",
       "       'Commonwealth: Asia', 'Commonwealth: Caribbean and Americas',\n",
       "       'Commonwealth: Europe', 'Commonwealth: Pacific', 'Comoros',\n",
       "       'Congo', 'Cook Islands', 'Costa Rica',\n",
       "       'Countries with Access to the Sea',\n",
       "       'Countries with Access to the Sea: Africa',\n",
       "       'Countries with Access to the Sea: Asia',\n",
       "       'Countries with Access to the Sea: Europe',\n",
       "       'Countries with Access to the Sea: Latin America and the Caribbean',\n",
       "       'Countries with Access to the Sea: Northern America',\n",
       "       'Countries with Access to the Sea: Oceania', 'Croatia', 'Cuba',\n",
       "       'Curaçao', 'Cyprus', 'Czechia', \"Côte d'Ivoire\",\n",
       "       \"Dem. People's Republic of Korea\",\n",
       "       'Democratic Republic of the Congo', 'Denmark',\n",
       "       'Denmark (and dependencies)', 'Djibouti', 'Dominica',\n",
       "       'Dominican Republic', 'ECE: North America-2', 'ECE: UNECE-52',\n",
       "       'ECLAC: Latin America', 'ECLAC: The Caribbean',\n",
       "       'ESCAP region: East and North-East Asia',\n",
       "       'ESCAP region: North and Central Asia', 'ESCAP region: Pacific',\n",
       "       'ESCAP region: South and South-West Asia',\n",
       "       'ESCAP region: South-East Asia',\n",
       "       'ESCAP: ADB Developing member countries (DMCs)',\n",
       "       'ESCAP: ADB Group A (Concessional assistance\\xa0only)',\n",
       "       'ESCAP: ADB Group B\\xa0(OCR blend)',\n",
       "       'ESCAP: ADB Group C (Regular OCR only)', 'ESCAP: ASEAN',\n",
       "       'ESCAP: Central Asia', 'ESCAP: ECO', 'ESCAP: HDI groups',\n",
       "       'ESCAP: Landlocked countries (LLDCs)',\n",
       "       'ESCAP: Least Developed Countries (LDCs)',\n",
       "       'ESCAP: Pacific island dev. econ.', 'ESCAP: SAARC',\n",
       "       'ESCAP: WB High income econ.', 'ESCAP: WB Low income econ.',\n",
       "       'ESCAP: WB Lower middle income econ.',\n",
       "       'ESCAP: WB Upper middle income econ.', 'ESCAP: WB income groups',\n",
       "       'ESCAP: high HDI', 'ESCAP: high income', 'ESCAP: income groups',\n",
       "       'ESCAP: low HDI', 'ESCAP: low income', 'ESCAP: lower middle HDI',\n",
       "       'ESCAP: lower middle income',\n",
       "       'ESCAP: other Asia-Pacific countries/areas',\n",
       "       'ESCAP: upper middle HDI', 'ESCAP: upper middle income',\n",
       "       'ESCWA: Arab countries', 'ESCWA: Arab least developed countries',\n",
       "       'ESCWA: Gulf Cooperation Council countries',\n",
       "       'ESCWA: Maghreb countries', 'ESCWA: Mashreq countries',\n",
       "       'ESCWA: member countries', 'East African Community (EAC)',\n",
       "       'Eastern Africa', 'Eastern Asia', 'Eastern Europe',\n",
       "       'Eastern European Group', 'Eastern and South-Eastern Asia',\n",
       "       'Economic Community of Central African States (ECCAS)',\n",
       "       'Economic Community of West African States (ECOWAS)',\n",
       "       'Economic Cooperation Organization (ECO)', 'Ecuador', 'Egypt',\n",
       "       'El Salvador', 'Equatorial Guinea', 'Eritrea', 'Estonia',\n",
       "       'Eswatini', 'Ethiopia', 'Eurasian Economic Community (Eurasec)',\n",
       "       'Europe', 'Europe (48)', 'Europe and Northern America',\n",
       "       'European Community (EC: 12)',\n",
       "       'European Free Trade Agreement (EFTA)', 'European Union (EU: 15)',\n",
       "       'European Union (EU: 28)', 'Falkland Islands (Malvinas)',\n",
       "       'Faroe Islands', 'Fiji', 'Finland', 'France',\n",
       "       'France (and dependencies)', 'French Guiana', 'French Polynesia',\n",
       "       'Gabon', 'Gambia', 'Georgia', 'Germany', 'Ghana', 'Gibraltar',\n",
       "       'Greater Arab Free Trade Area (GAFTA)', 'Greece', 'Greenland',\n",
       "       'Grenada', 'Group of 77 (G77)', 'Group of Eight (G8)',\n",
       "       'Group of Seven (G7)', 'Group of Twenty (G20) - member states',\n",
       "       'Guadeloupe', 'Guam', 'Guatemala', 'Guinea', 'Guinea-Bissau',\n",
       "       'Gulf Cooperation Council (GCC)', 'Guyana', 'Haiti',\n",
       "       'High-income countries', 'Holy See', 'Honduras', 'Hungary',\n",
       "       'Iceland', 'India', 'Indonesia', 'Iran (Islamic Republic of)',\n",
       "       'Iraq', 'Ireland', 'Isle of Man', 'Israel', 'Italy', 'Jamaica',\n",
       "       'Japan', 'Jordan', 'Kazakhstan', 'Kenya', 'Kiribati', 'Kuwait',\n",
       "       'Kyrgyzstan', 'LLDC: Africa', 'LLDC: Asia', 'LLDC: Europe',\n",
       "       'LLDC: Latin America', 'Land-locked Countries',\n",
       "       'Land-locked Countries (Others)',\n",
       "       'Land-locked Developing Countries (LLDC)',\n",
       "       \"Lao People's Democratic Republic\",\n",
       "       'Latin America and the Caribbean',\n",
       "       'Latin American Integration Association (ALADI)',\n",
       "       'Latin American and Caribbean Group (GRULAC)', 'Latvia',\n",
       "       'League of Arab States (LAS, informal name: Arab League)',\n",
       "       'Least developed countries', 'Least developed: Africa',\n",
       "       'Least developed: Asia',\n",
       "       'Least developed: Latin America and the Caribbean',\n",
       "       'Least developed: Oceania', 'Lebanon', 'Lesotho',\n",
       "       'Less developed regions',\n",
       "       'Less developed regions, excluding China',\n",
       "       'Less developed regions, excluding least developed countries',\n",
       "       'Less developed: Africa', 'Less developed: Asia',\n",
       "       'Less developed: Latin America and the Caribbean',\n",
       "       'Less developed: Oceania', 'Liberia', 'Libya', 'Liechtenstein',\n",
       "       'Lithuania', 'Low-income countries',\n",
       "       'Lower-middle-income countries', 'Luxembourg', 'Madagascar',\n",
       "       'Malawi', 'Malaysia', 'Maldives', 'Mali', 'Malta',\n",
       "       'Marshall Islands', 'Martinique', 'Mauritania', 'Mauritius',\n",
       "       'Mayotte', 'Melanesia', 'Mexico', 'Micronesia',\n",
       "       'Micronesia (Fed. States of)', 'Middle Africa',\n",
       "       'Middle-income countries', 'Monaco', 'Mongolia', 'Montenegro',\n",
       "       'Montserrat', 'More developed regions', 'More developed: Asia',\n",
       "       'More developed: Europe', 'More developed: Northern America',\n",
       "       'More developed: Oceania', 'Morocco', 'Mozambique', 'Myanmar',\n",
       "       'Namibia', 'Nauru', 'Nepal', 'Netherlands',\n",
       "       'Netherlands (and dependencies)', 'New Caledonia',\n",
       "       'New EU member states (joined since 2004)', 'New Zealand',\n",
       "       'New Zealand (and dependencies)', 'Nicaragua', 'Niger', 'Nigeria',\n",
       "       'Niue', 'No income group available',\n",
       "       'Non-Self-Governing Territories',\n",
       "       'North American Free Trade Agreement (NAFTA)',\n",
       "       'North Atlantic Treaty Organization (NATO)', 'North Macedonia',\n",
       "       'Northern Africa', 'Northern Africa and Western Asia',\n",
       "       'Northern America', 'Northern Europe', 'Northern Mariana Islands',\n",
       "       'Norway', 'Oceania',\n",
       "       'Oceania (excluding Australia and New Zealand)', 'Oman',\n",
       "       'Organisation for Economic Co-operation and Development (OECD)',\n",
       "       'Organization for Security and Co-operation in Europe (OSCE)',\n",
       "       'Organization of American States (OAS)',\n",
       "       'Organization of Petroleum Exporting countries (OPEC)',\n",
       "       'Organization of the Islamic Conference (OIC)', 'Pakistan',\n",
       "       'Palau', 'Panama', 'Papua New Guinea', 'Paraguay', 'Peru',\n",
       "       'Philippines', 'Poland', 'Polynesia', 'Portugal', 'Puerto Rico',\n",
       "       'Qatar', 'Republic of Korea', 'Republic of Moldova', 'Romania',\n",
       "       'Russian Federation', 'Rwanda', 'Réunion',\n",
       "       'SIDS Atlantic, and Indian Ocean, Mediterranean and South China Sea (AIMS)',\n",
       "       'SIDS Caribbean', 'SIDS Pacific', 'Saint Barthélemy',\n",
       "       'Saint Helena', 'Saint Kitts and Nevis', 'Saint Lucia',\n",
       "       'Saint Martin (French part)', 'Saint Pierre and Miquelon',\n",
       "       'Saint Vincent and the Grenadines', 'Samoa', 'San Marino',\n",
       "       'Sao Tome and Principe', 'Saudi Arabia', 'Senegal', 'Serbia',\n",
       "       'Seychelles', 'Shanghai Cooperation Organization (SCO)',\n",
       "       'Sierra Leone', 'Singapore', 'Sint Maarten (Dutch part)',\n",
       "       'Slovakia', 'Slovenia', 'Small Island Developing States (SIDS)',\n",
       "       'Solomon Islands', 'Somalia', 'South Africa', 'South America',\n",
       "       'South Asian Association for Regional Cooperation (SAARC)',\n",
       "       'South Sudan', 'South-Eastern Asia', 'Southern Africa',\n",
       "       'Southern African Development Community (SADC)', 'Southern Asia',\n",
       "       'Southern Common Market (MERCOSUR)', 'Southern Europe', 'Spain',\n",
       "       'Sri Lanka', 'State of Palestine', 'Sub-Saharan Africa', 'Sudan',\n",
       "       'Suriname', 'Sweden', 'Switzerland', 'Syrian Arab Republic',\n",
       "       'Tajikistan', 'Thailand', 'Timor-Leste', 'Togo', 'Tokelau',\n",
       "       'Tonga', 'Trinidad and Tobago', 'Tunisia', 'Turkey',\n",
       "       'Turkmenistan', 'Turks and Caicos Islands', 'Tuvalu',\n",
       "       'UN-ECE: member countries', 'UNFPA Regions',\n",
       "       'UNFPA: Arab States (AS)', 'UNFPA: Asia and the Pacific (AP)',\n",
       "       'UNFPA: East and Southern Africa (ESA)',\n",
       "       'UNFPA: Eastern Europe and Central Asia (EECA)',\n",
       "       'UNFPA: Latin America and the Caribbean (LAC)',\n",
       "       'UNFPA: West and Central Africa (WCA)', 'UNICEF PROGRAMME REGIONS',\n",
       "       'UNICEF Programme Regions: East Asia and Pacific (EAPRO)',\n",
       "       'UNICEF Programme Regions: Eastern Caribbean',\n",
       "       'UNICEF Programme Regions: Eastern and Southern Africa (ESARO)',\n",
       "       'UNICEF Programme Regions: Europe and Central Asia (CEECIS)',\n",
       "       'UNICEF Programme Regions: Latin America',\n",
       "       'UNICEF Programme Regions: Latin America and Caribbean (LACRO)',\n",
       "       'UNICEF Programme Regions: Middle East and North Africa (MENARO)',\n",
       "       'UNICEF Programme Regions: South Asia (ROSA)',\n",
       "       'UNICEF Programme Regions: West and Central Africa (WCARO)',\n",
       "       'UNICEF REGIONS', 'UNICEF Regions: East Asia and Pacific',\n",
       "       'UNICEF Regions: Eastern Europe and Central Asia',\n",
       "       'UNICEF Regions: Eastern and Southern Africa',\n",
       "       'UNICEF Regions: Europe and Central Asia',\n",
       "       'UNICEF Regions: Latin America and Caribbean',\n",
       "       'UNICEF Regions: Middle East and North Africa',\n",
       "       'UNICEF Regions: North America', 'UNICEF Regions: South Asia',\n",
       "       'UNICEF Regions: Sub-Saharan Africa',\n",
       "       'UNICEF Regions: West and Central Africa',\n",
       "       'UNICEF Regions: Western Europe',\n",
       "       'UNITED NATIONS Regional Groups of Member States', 'Uganda',\n",
       "       'Ukraine', 'United Arab Emirates', 'United Kingdom',\n",
       "       'United Kingdom (and dependencies)',\n",
       "       'United Nations Economic Commission for Africa (UN-ECA)',\n",
       "       'United Nations Economic Commission for Latin America and the Caribbean (UN-ECLAC)',\n",
       "       'United Nations Economic and Social Commission for Asia and the Pacific (UN-ESCAP) Regions',\n",
       "       'United Nations Member States', 'United Republic of Tanzania',\n",
       "       'United States Virgin Islands', 'United States of America',\n",
       "       'United States of America (and dependencies)',\n",
       "       'Upper-middle-income countries', 'Uruguay', 'Uzbekistan',\n",
       "       'Vanuatu', 'Venezuela (Bolivarian Republic of)', 'Viet Nam',\n",
       "       'WB region: East Asia and Pacific (excluding high income)',\n",
       "       'WB region: Europe and Central Asia (excluding high income)',\n",
       "       'WB region: Latin America and Caribbean (excluding high income)',\n",
       "       'WB region: Middle East and North Africa (excluding high income)',\n",
       "       'WB region: South Asia (excluding high income)',\n",
       "       'WB region: Sub-Saharan Africa (excluding high income)',\n",
       "       'WHO Regions', 'WHO: African region (AFRO)',\n",
       "       'WHO: Americas (AMRO)', 'WHO: Eastern Mediterranean Region (EMRO)',\n",
       "       'WHO: European Region (EURO)',\n",
       "       'WHO: South-East Asia region (SEARO)',\n",
       "       'WHO: Western Pacific region (WPRO)', 'Wallis and Futuna Islands',\n",
       "       'West African Economic and Monetary Union (UEMOA)',\n",
       "       'Western Africa', 'Western Asia', 'Western Europe',\n",
       "       'Western European and Others Group (WEOG)', 'Western Sahara',\n",
       "       'World', 'World Bank Regional Groups (developing only)', 'Yemen',\n",
       "       'Zambia', 'Zimbabwe'], dtype=object)"
      ]
     },
     "execution_count": 123,
     "metadata": {},
     "output_type": "execute_result"
    }
   ],
   "source": [
    "wp.Country.unique()"
   ]
  },
  {
   "cell_type": "code",
   "execution_count": 124,
   "metadata": {},
   "outputs": [
    {
     "data": {
      "text/plain": [
       "['World',\n",
       " 'Organisation for Economic Co-operation and Development (OECD)',\n",
       " 'More developed regions',\n",
       " 'ESCAP: ADB Developing member countries (DMCs)',\n",
       " 'ESCAP: Least Developed Countries (LDCs)',\n",
       " 'Australia',\n",
       " 'Canada',\n",
       " 'Chile',\n",
       " 'European Union (EU: 28)',\n",
       " 'Israel',\n",
       " 'Japan',\n",
       " \"Dem. People's Republic of Korea\",\n",
       " 'Mexico',\n",
       " 'New Zealand',\n",
       " 'Turkey',\n",
       " 'United States of America',\n",
       " 'WHO: European Region (EURO)',\n",
       " 'Kazakhstan',\n",
       " 'Russian Federation',\n",
       " 'Ukraine',\n",
       " 'Africa',\n",
       " 'Algeria',\n",
       " 'Egypt',\n",
       " 'Ethiopia',\n",
       " 'Ghana',\n",
       " 'Mozambique',\n",
       " 'Nigeria',\n",
       " 'Sub-Saharan Africa',\n",
       " 'South Africa',\n",
       " 'Sudan',\n",
       " 'United Republic of Tanzania',\n",
       " 'Zambia',\n",
       " 'Latin America and the Caribbean',\n",
       " 'Argentina',\n",
       " 'Brazil',\n",
       " 'Colombia',\n",
       " 'Haiti',\n",
       " 'Peru',\n",
       " 'Paraguay',\n",
       " 'Uruguay',\n",
       " 'Asia',\n",
       " 'Bangladesh',\n",
       " 'China',\n",
       " 'India',\n",
       " 'Indonesia',\n",
       " 'Iran (Islamic Republic of)',\n",
       " 'Malaysia',\n",
       " 'Pakistan',\n",
       " 'Philippines',\n",
       " 'Saudi Arabia',\n",
       " 'Thailand',\n",
       " 'Viet Nam']"
      ]
     },
     "execution_count": 124,
     "metadata": {},
     "output_type": "execute_result"
    }
   ],
   "source": [
    "wp_all_list"
   ]
  },
  {
   "cell_type": "code",
   "execution_count": 125,
   "metadata": {},
   "outputs": [
    {
     "data": {
      "text/html": [
       "<div>\n",
       "<style scoped>\n",
       "    .dataframe tbody tr th:only-of-type {\n",
       "        vertical-align: middle;\n",
       "    }\n",
       "\n",
       "    .dataframe tbody tr th {\n",
       "        vertical-align: top;\n",
       "    }\n",
       "\n",
       "    .dataframe thead th {\n",
       "        text-align: right;\n",
       "    }\n",
       "</style>\n",
       "<table border=\"1\" class=\"dataframe\">\n",
       "  <thead>\n",
       "    <tr style=\"text-align: right;\">\n",
       "      <th></th>\n",
       "      <th>Country</th>\n",
       "      <th>Time</th>\n",
       "      <th>PopTotal</th>\n",
       "      <th>PopMale</th>\n",
       "      <th>PopFemale</th>\n",
       "    </tr>\n",
       "  </thead>\n",
       "  <tbody>\n",
       "    <tr>\n",
       "      <th>50</th>\n",
       "      <td>Afghanistan</td>\n",
       "      <td>2000</td>\n",
       "      <td>20779.957</td>\n",
       "      <td>10689.508</td>\n",
       "      <td>10090.449</td>\n",
       "    </tr>\n",
       "  </tbody>\n",
       "</table>\n",
       "</div>"
      ],
      "text/plain": [
       "        Country  Time   PopTotal    PopMale  PopFemale\n",
       "50  Afghanistan  2000  20779.957  10689.508  10090.449"
      ]
     },
     "execution_count": 125,
     "metadata": {},
     "output_type": "execute_result"
    }
   ],
   "source": [
    "wp.head(1)"
   ]
  },
  {
   "cell_type": "code",
   "execution_count": 126,
   "metadata": {},
   "outputs": [],
   "source": [
    "mask = wp.Country.isin(wp_all_list)"
   ]
  },
  {
   "cell_type": "code",
   "execution_count": 127,
   "metadata": {},
   "outputs": [
    {
     "data": {
      "text/html": [
       "<div>\n",
       "<style scoped>\n",
       "    .dataframe tbody tr th:only-of-type {\n",
       "        vertical-align: middle;\n",
       "    }\n",
       "\n",
       "    .dataframe tbody tr th {\n",
       "        vertical-align: top;\n",
       "    }\n",
       "\n",
       "    .dataframe thead th {\n",
       "        text-align: right;\n",
       "    }\n",
       "</style>\n",
       "<table border=\"1\" class=\"dataframe\">\n",
       "  <thead>\n",
       "    <tr style=\"text-align: right;\">\n",
       "      <th></th>\n",
       "      <th>Country</th>\n",
       "      <th>Time</th>\n",
       "      <th>PopTotal</th>\n",
       "      <th>PopMale</th>\n",
       "      <th>PopFemale</th>\n",
       "    </tr>\n",
       "  </thead>\n",
       "  <tbody>\n",
       "    <tr>\n",
       "      <th>198325</th>\n",
       "      <td>Philippines</td>\n",
       "      <td>2092</td>\n",
       "      <td>197675.167</td>\n",
       "      <td>97407.498</td>\n",
       "      <td>100267.669</td>\n",
       "    </tr>\n",
       "    <tr>\n",
       "      <th>237760</th>\n",
       "      <td>Sub-Saharan Africa</td>\n",
       "      <td>2060</td>\n",
       "      <td>2812687.255</td>\n",
       "      <td>1405158.817</td>\n",
       "      <td>1407528.438</td>\n",
       "    </tr>\n",
       "    <tr>\n",
       "      <th>277577</th>\n",
       "      <td>World</td>\n",
       "      <td>2039</td>\n",
       "      <td>9460502.153</td>\n",
       "      <td>4763627.207</td>\n",
       "      <td>4696874.946</td>\n",
       "    </tr>\n",
       "    <tr>\n",
       "      <th>269917</th>\n",
       "      <td>Viet Nam</td>\n",
       "      <td>2029</td>\n",
       "      <td>101616.102</td>\n",
       "      <td>50629.531</td>\n",
       "      <td>50986.571</td>\n",
       "    </tr>\n",
       "    <tr>\n",
       "      <th>169647</th>\n",
       "      <td>Mozambique</td>\n",
       "      <td>2081</td>\n",
       "      <td>130397.599</td>\n",
       "      <td>64028.999</td>\n",
       "      <td>66368.600</td>\n",
       "    </tr>\n",
       "  </tbody>\n",
       "</table>\n",
       "</div>"
      ],
      "text/plain": [
       "                   Country  Time     PopTotal      PopMale    PopFemale\n",
       "198325         Philippines  2092   197675.167    97407.498   100267.669\n",
       "237760  Sub-Saharan Africa  2060  2812687.255  1405158.817  1407528.438\n",
       "277577               World  2039  9460502.153  4763627.207  4696874.946\n",
       "269917            Viet Nam  2029   101616.102    50629.531    50986.571\n",
       "169647          Mozambique  2081   130397.599    64028.999    66368.600"
      ]
     },
     "execution_count": 127,
     "metadata": {},
     "output_type": "execute_result"
    }
   ],
   "source": [
    "wp[mask].sample(5)"
   ]
  },
  {
   "cell_type": "code",
   "execution_count": 128,
   "metadata": {},
   "outputs": [],
   "source": [
    "wp1 = wp.loc[mask, [\"Country\",\"Time\",\"PopTotal\",\"PopMale\",\"PopFemale\"]]"
   ]
  },
  {
   "cell_type": "code",
   "execution_count": 129,
   "metadata": {},
   "outputs": [
    {
     "data": {
      "text/html": [
       "<div>\n",
       "<style scoped>\n",
       "    .dataframe tbody tr th:only-of-type {\n",
       "        vertical-align: middle;\n",
       "    }\n",
       "\n",
       "    .dataframe tbody tr th {\n",
       "        vertical-align: top;\n",
       "    }\n",
       "\n",
       "    .dataframe thead th {\n",
       "        text-align: right;\n",
       "    }\n",
       "</style>\n",
       "<table border=\"1\" class=\"dataframe\">\n",
       "  <thead>\n",
       "    <tr style=\"text-align: right;\">\n",
       "      <th></th>\n",
       "      <th>Country</th>\n",
       "      <th>Time</th>\n",
       "      <th>PopTotal</th>\n",
       "      <th>PopMale</th>\n",
       "      <th>PopFemale</th>\n",
       "    </tr>\n",
       "  </thead>\n",
       "  <tbody>\n",
       "    <tr>\n",
       "      <th>116618</th>\n",
       "      <td>India</td>\n",
       "      <td>2044</td>\n",
       "      <td>1649400.593</td>\n",
       "      <td>852815.305</td>\n",
       "      <td>796585.288</td>\n",
       "    </tr>\n",
       "    <tr>\n",
       "      <th>19788</th>\n",
       "      <td>Bangladesh</td>\n",
       "      <td>2075</td>\n",
       "      <td>135430.293</td>\n",
       "      <td>66524.251</td>\n",
       "      <td>68889.487</td>\n",
       "    </tr>\n",
       "    <tr>\n",
       "      <th>3968</th>\n",
       "      <td>Algeria</td>\n",
       "      <td>2058</td>\n",
       "      <td>64321.490</td>\n",
       "      <td>32496.065</td>\n",
       "      <td>31825.425</td>\n",
       "    </tr>\n",
       "    <tr>\n",
       "      <th>12017</th>\n",
       "      <td>Asia</td>\n",
       "      <td>2000</td>\n",
       "      <td>3741263.352</td>\n",
       "      <td>1912363.401</td>\n",
       "      <td>1828899.951</td>\n",
       "    </tr>\n",
       "    <tr>\n",
       "      <th>48034</th>\n",
       "      <td>China</td>\n",
       "      <td>2079</td>\n",
       "      <td>1510046.121</td>\n",
       "      <td>776768.490</td>\n",
       "      <td>733277.631</td>\n",
       "    </tr>\n",
       "  </tbody>\n",
       "</table>\n",
       "</div>"
      ],
      "text/plain": [
       "           Country  Time     PopTotal      PopMale    PopFemale\n",
       "116618       India  2044  1649400.593   852815.305   796585.288\n",
       "19788   Bangladesh  2075   135430.293    66524.251    68889.487\n",
       "3968       Algeria  2058    64321.490    32496.065    31825.425\n",
       "12017         Asia  2000  3741263.352  1912363.401  1828899.951\n",
       "48034        China  2079  1510046.121   776768.490   733277.631"
      ]
     },
     "execution_count": 129,
     "metadata": {},
     "output_type": "execute_result"
    }
   ],
   "source": [
    "wp1.sample(5)"
   ]
  },
  {
   "cell_type": "code",
   "execution_count": 130,
   "metadata": {},
   "outputs": [
    {
     "data": {
      "text/html": [
       "<div>\n",
       "<style scoped>\n",
       "    .dataframe tbody tr th:only-of-type {\n",
       "        vertical-align: middle;\n",
       "    }\n",
       "\n",
       "    .dataframe tbody tr th {\n",
       "        vertical-align: top;\n",
       "    }\n",
       "\n",
       "    .dataframe thead th {\n",
       "        text-align: right;\n",
       "    }\n",
       "</style>\n",
       "<table border=\"1\" class=\"dataframe\">\n",
       "  <thead>\n",
       "    <tr style=\"text-align: right;\">\n",
       "      <th></th>\n",
       "      <th>Country</th>\n",
       "      <th>Time</th>\n",
       "      <th>PopTotal</th>\n",
       "      <th>PopMale</th>\n",
       "      <th>PopFemale</th>\n",
       "    </tr>\n",
       "  </thead>\n",
       "  <tbody>\n",
       "  </tbody>\n",
       "</table>\n",
       "</div>"
      ],
      "text/plain": [
       "Empty DataFrame\n",
       "Columns: [Country, Time, PopTotal, PopMale, PopFemale]\n",
       "Index: []"
      ]
     },
     "execution_count": 130,
     "metadata": {},
     "output_type": "execute_result"
    }
   ],
   "source": [
    "wp1[wp1.Country==\"African, Caribbean and Pacific (ACP) Group of States\"]"
   ]
  },
  {
   "cell_type": "code",
   "execution_count": 131,
   "metadata": {},
   "outputs": [
    {
     "data": {
      "text/plain": [
       "(257082, 5)"
      ]
     },
     "execution_count": 131,
     "metadata": {},
     "output_type": "execute_result"
    }
   ],
   "source": [
    "wp.shape"
   ]
  },
  {
   "cell_type": "code",
   "execution_count": 132,
   "metadata": {},
   "outputs": [
    {
     "data": {
      "text/plain": [
       "(40537, 5)"
      ]
     },
     "execution_count": 132,
     "metadata": {},
     "output_type": "execute_result"
    }
   ],
   "source": [
    "wp1.shape"
   ]
  },
  {
   "cell_type": "code",
   "execution_count": 133,
   "metadata": {},
   "outputs": [
    {
     "data": {
      "text/plain": [
       "52"
      ]
     },
     "execution_count": 133,
     "metadata": {},
     "output_type": "execute_result"
    }
   ],
   "source": [
    "wp1.Country.nunique()"
   ]
  },
  {
   "cell_type": "markdown",
   "metadata": {},
   "source": [
    "#### Change the concurrent all country names as wa at wp1 "
   ]
  },
  {
   "cell_type": "code",
   "execution_count": 134,
   "metadata": {},
   "outputs": [
    {
     "data": {
      "text/html": [
       "<div>\n",
       "<style scoped>\n",
       "    .dataframe tbody tr th:only-of-type {\n",
       "        vertical-align: middle;\n",
       "    }\n",
       "\n",
       "    .dataframe tbody tr th {\n",
       "        vertical-align: top;\n",
       "    }\n",
       "\n",
       "    .dataframe thead th {\n",
       "        text-align: right;\n",
       "    }\n",
       "</style>\n",
       "<table border=\"1\" class=\"dataframe\">\n",
       "  <thead>\n",
       "    <tr style=\"text-align: right;\">\n",
       "      <th></th>\n",
       "      <th>Country</th>\n",
       "      <th>Time</th>\n",
       "      <th>PopTotal</th>\n",
       "      <th>PopMale</th>\n",
       "      <th>PopFemale</th>\n",
       "    </tr>\n",
       "  </thead>\n",
       "  <tbody>\n",
       "    <tr>\n",
       "      <th>159875</th>\n",
       "      <td>Mexico</td>\n",
       "      <td>2070</td>\n",
       "      <td>167987.914</td>\n",
       "      <td>82621.674</td>\n",
       "      <td>85366.240</td>\n",
       "    </tr>\n",
       "    <tr>\n",
       "      <th>150722</th>\n",
       "      <td>Malaysia</td>\n",
       "      <td>2081</td>\n",
       "      <td>49005.466</td>\n",
       "      <td>25027.815</td>\n",
       "      <td>23977.651</td>\n",
       "    </tr>\n",
       "    <tr>\n",
       "      <th>237811</th>\n",
       "      <td>Sub-Saharan Africa</td>\n",
       "      <td>2030</td>\n",
       "      <td>1370019.451</td>\n",
       "      <td>684353.664</td>\n",
       "      <td>685665.787</td>\n",
       "    </tr>\n",
       "    <tr>\n",
       "      <th>118238</th>\n",
       "      <td>Iran (Islamic Republic of)</td>\n",
       "      <td>2058</td>\n",
       "      <td>99053.614</td>\n",
       "      <td>49743.595</td>\n",
       "      <td>49310.019</td>\n",
       "    </tr>\n",
       "    <tr>\n",
       "      <th>192702</th>\n",
       "      <td>Pakistan</td>\n",
       "      <td>2097</td>\n",
       "      <td>924970.358</td>\n",
       "      <td>473382.398</td>\n",
       "      <td>451587.960</td>\n",
       "    </tr>\n",
       "  </tbody>\n",
       "</table>\n",
       "</div>"
      ],
      "text/plain": [
       "                           Country  Time     PopTotal     PopMale   PopFemale\n",
       "159875                      Mexico  2070   167987.914   82621.674   85366.240\n",
       "150722                    Malaysia  2081    49005.466   25027.815   23977.651\n",
       "237811          Sub-Saharan Africa  2030  1370019.451  684353.664  685665.787\n",
       "118238  Iran (Islamic Republic of)  2058    99053.614   49743.595   49310.019\n",
       "192702                    Pakistan  2097   924970.358  473382.398  451587.960"
      ]
     },
     "execution_count": 134,
     "metadata": {},
     "output_type": "execute_result"
    }
   ],
   "source": [
    "wp1.sample(5)"
   ]
  },
  {
   "cell_type": "code",
   "execution_count": 135,
   "metadata": {},
   "outputs": [
    {
     "data": {
      "text/plain": [
       "52"
      ]
     },
     "execution_count": 135,
     "metadata": {},
     "output_type": "execute_result"
    }
   ],
   "source": [
    "len(wp_all_list)"
   ]
  },
  {
   "cell_type": "code",
   "execution_count": 136,
   "metadata": {},
   "outputs": [
    {
     "data": {
      "text/plain": [
       "52"
      ]
     },
     "execution_count": 136,
     "metadata": {},
     "output_type": "execute_result"
    }
   ],
   "source": [
    "len(wa_all_list)"
   ]
  },
  {
   "cell_type": "code",
   "execution_count": 137,
   "metadata": {},
   "outputs": [
    {
     "data": {
      "text/plain": [
       "{'World': 'World',\n",
       " 'Organisation for Economic Co-operation and Development (OECD)': 'OECD',\n",
       " 'More developed regions': 'Developed',\n",
       " 'ESCAP: ADB Developing member countries (DMCs)': 'Developing',\n",
       " 'ESCAP: Least Developed Countries (LDCs)': 'Least Developed Countries',\n",
       " 'Australia': 'Australia',\n",
       " 'Canada': 'Canada',\n",
       " 'Chile': 'Chile',\n",
       " 'European Union (EU: 28)': 'European Union-27',\n",
       " 'Israel': 'Israel',\n",
       " 'Japan': 'Japan',\n",
       " \"Dem. People's Republic of Korea\": 'Korea',\n",
       " 'Mexico': 'Mexico',\n",
       " 'New Zealand': 'New Zealand',\n",
       " 'Turkey': 'Turkey',\n",
       " 'United States of America': 'United States',\n",
       " 'WHO: European Region (EURO)': 'EUROPE',\n",
       " 'Kazakhstan': 'Kazakhstan',\n",
       " 'Russian Federation': 'Russia',\n",
       " 'Ukraine': 'Ukraine',\n",
       " 'Africa': 'AFRICA',\n",
       " 'Algeria': 'Algeria',\n",
       " 'Egypt': 'Egypt',\n",
       " 'Ethiopia': 'Ethiopia',\n",
       " 'Ghana': 'Ghana',\n",
       " 'Mozambique': 'Mozambique',\n",
       " 'Nigeria': 'Nigeria',\n",
       " 'Sub-Saharan Africa': 'Sub Saharan Africa',\n",
       " 'South Africa': 'Republic of South Africa',\n",
       " 'Sudan': 'Sudan',\n",
       " 'United Republic of Tanzania': 'Tanzania',\n",
       " 'Zambia': 'Zambia',\n",
       " 'Latin America and the Caribbean': 'LATIN AMERICA AND CARIBBEAN',\n",
       " 'Argentina': 'Argentina',\n",
       " 'Brazil': 'Brazil',\n",
       " 'Colombia': 'Colombia',\n",
       " 'Haiti': 'Haiti',\n",
       " 'Peru': 'Peru',\n",
       " 'Paraguay': 'Paraguay',\n",
       " 'Uruguay': 'Uruguay',\n",
       " 'Asia': 'ASIA',\n",
       " 'Bangladesh': 'Bangladesh',\n",
       " 'China': 'China',\n",
       " 'India': 'India',\n",
       " 'Indonesia': 'Indonesia',\n",
       " 'Iran (Islamic Republic of)': 'Iran',\n",
       " 'Malaysia': 'Malaysia',\n",
       " 'Pakistan': 'Pakistan',\n",
       " 'Philippines': 'Philippines',\n",
       " 'Saudi Arabia': 'Saudi Arabia',\n",
       " 'Thailand': 'Thailand',\n",
       " 'Viet Nam': 'VietNam'}"
      ]
     },
     "execution_count": 137,
     "metadata": {},
     "output_type": "execute_result"
    }
   ],
   "source": [
    "wp_all_dict = dict(zip(wp_all_list, wa_all_list))\n",
    "wp_all_dict"
   ]
  },
  {
   "cell_type": "code",
   "execution_count": 138,
   "metadata": {},
   "outputs": [
    {
     "data": {
      "text/html": [
       "<div>\n",
       "<style scoped>\n",
       "    .dataframe tbody tr th:only-of-type {\n",
       "        vertical-align: middle;\n",
       "    }\n",
       "\n",
       "    .dataframe tbody tr th {\n",
       "        vertical-align: top;\n",
       "    }\n",
       "\n",
       "    .dataframe thead th {\n",
       "        text-align: right;\n",
       "    }\n",
       "</style>\n",
       "<table border=\"1\" class=\"dataframe\">\n",
       "  <thead>\n",
       "    <tr style=\"text-align: right;\">\n",
       "      <th></th>\n",
       "      <th>Country</th>\n",
       "      <th>Time</th>\n",
       "      <th>PopTotal</th>\n",
       "      <th>PopMale</th>\n",
       "      <th>PopFemale</th>\n",
       "    </tr>\n",
       "  </thead>\n",
       "  <tbody>\n",
       "    <tr>\n",
       "      <th>191607</th>\n",
       "      <td>Organisation for Economic Co-operation and Dev...</td>\n",
       "      <td>2000</td>\n",
       "      <td>1155286.565</td>\n",
       "      <td>566714.934</td>\n",
       "      <td>588571.631</td>\n",
       "    </tr>\n",
       "    <tr>\n",
       "      <th>191608</th>\n",
       "      <td>Organisation for Economic Co-operation and Dev...</td>\n",
       "      <td>2001</td>\n",
       "      <td>1163475.156</td>\n",
       "      <td>570810.829</td>\n",
       "      <td>592664.327</td>\n",
       "    </tr>\n",
       "  </tbody>\n",
       "</table>\n",
       "</div>"
      ],
      "text/plain": [
       "                                                  Country  Time     PopTotal  \\\n",
       "191607  Organisation for Economic Co-operation and Dev...  2000  1155286.565   \n",
       "191608  Organisation for Economic Co-operation and Dev...  2001  1163475.156   \n",
       "\n",
       "           PopMale   PopFemale  \n",
       "191607  566714.934  588571.631  \n",
       "191608  570810.829  592664.327  "
      ]
     },
     "execution_count": 138,
     "metadata": {},
     "output_type": "execute_result"
    }
   ],
   "source": [
    "wp1[wp1.Country==\"Organisation for Economic Co-operation and Development (OECD)\"].head(2)"
   ]
  },
  {
   "cell_type": "code",
   "execution_count": 139,
   "metadata": {},
   "outputs": [],
   "source": [
    "wp1[\"Country\"].replace(wp_all_dict, inplace=True)"
   ]
  },
  {
   "cell_type": "code",
   "execution_count": 140,
   "metadata": {},
   "outputs": [
    {
     "data": {
      "text/html": [
       "<div>\n",
       "<style scoped>\n",
       "    .dataframe tbody tr th:only-of-type {\n",
       "        vertical-align: middle;\n",
       "    }\n",
       "\n",
       "    .dataframe tbody tr th {\n",
       "        vertical-align: top;\n",
       "    }\n",
       "\n",
       "    .dataframe thead th {\n",
       "        text-align: right;\n",
       "    }\n",
       "</style>\n",
       "<table border=\"1\" class=\"dataframe\">\n",
       "  <thead>\n",
       "    <tr style=\"text-align: right;\">\n",
       "      <th></th>\n",
       "      <th>Country</th>\n",
       "      <th>Time</th>\n",
       "      <th>PopTotal</th>\n",
       "      <th>PopMale</th>\n",
       "      <th>PopFemale</th>\n",
       "    </tr>\n",
       "  </thead>\n",
       "  <tbody>\n",
       "  </tbody>\n",
       "</table>\n",
       "</div>"
      ],
      "text/plain": [
       "Empty DataFrame\n",
       "Columns: [Country, Time, PopTotal, PopMale, PopFemale]\n",
       "Index: []"
      ]
     },
     "execution_count": 140,
     "metadata": {},
     "output_type": "execute_result"
    }
   ],
   "source": [
    "wp1[wp1.Country==\"Organisation for Economic Co-operation and Development (OECD)\"].head(2)"
   ]
  },
  {
   "cell_type": "markdown",
   "metadata": {},
   "source": [
    "#### Drop the \"OECD countries\" & \"Non-OECD\" values from wa"
   ]
  },
  {
   "cell_type": "code",
   "execution_count": 141,
   "metadata": {},
   "outputs": [
    {
     "data": {
      "text/html": [
       "<div>\n",
       "<style scoped>\n",
       "    .dataframe tbody tr th:only-of-type {\n",
       "        vertical-align: middle;\n",
       "    }\n",
       "\n",
       "    .dataframe tbody tr th {\n",
       "        vertical-align: top;\n",
       "    }\n",
       "\n",
       "    .dataframe thead th {\n",
       "        text-align: right;\n",
       "    }\n",
       "</style>\n",
       "<table border=\"1\" class=\"dataframe\">\n",
       "  <thead>\n",
       "    <tr style=\"text-align: right;\">\n",
       "      <th></th>\n",
       "      <th>Country</th>\n",
       "      <th>Commodity</th>\n",
       "      <th>Var_abbr</th>\n",
       "      <th>Var_mean</th>\n",
       "      <th>Var_expl</th>\n",
       "      <th>Time</th>\n",
       "      <th>Value</th>\n",
       "      <th>PopTotal</th>\n",
       "      <th>PopMale</th>\n",
       "      <th>PopFemale</th>\n",
       "    </tr>\n",
       "  </thead>\n",
       "  <tbody>\n",
       "    <tr>\n",
       "      <th>1556</th>\n",
       "      <td>OECD countries</td>\n",
       "      <td>Wheat</td>\n",
       "      <td>QP</td>\n",
       "      <td>Production</td>\n",
       "      <td>Production, kt (for Biofuels in millions of li...</td>\n",
       "      <td>2000</td>\n",
       "      <td>269144.4766</td>\n",
       "      <td>OECD countries</td>\n",
       "      <td>OECD countries</td>\n",
       "      <td>OECD countries</td>\n",
       "    </tr>\n",
       "    <tr>\n",
       "      <th>1557</th>\n",
       "      <td>OECD countries</td>\n",
       "      <td>Wheat</td>\n",
       "      <td>QP</td>\n",
       "      <td>Production</td>\n",
       "      <td>Production, kt (for Biofuels in millions of li...</td>\n",
       "      <td>2001</td>\n",
       "      <td>249739.4752</td>\n",
       "      <td>OECD countries</td>\n",
       "      <td>OECD countries</td>\n",
       "      <td>OECD countries</td>\n",
       "    </tr>\n",
       "    <tr>\n",
       "      <th>1558</th>\n",
       "      <td>OECD countries</td>\n",
       "      <td>Wheat</td>\n",
       "      <td>QP</td>\n",
       "      <td>Production</td>\n",
       "      <td>Production, kt (for Biofuels in millions of li...</td>\n",
       "      <td>2002</td>\n",
       "      <td>229837.7329</td>\n",
       "      <td>OECD countries</td>\n",
       "      <td>OECD countries</td>\n",
       "      <td>OECD countries</td>\n",
       "    </tr>\n",
       "    <tr>\n",
       "      <th>1559</th>\n",
       "      <td>OECD countries</td>\n",
       "      <td>Wheat</td>\n",
       "      <td>QP</td>\n",
       "      <td>Production</td>\n",
       "      <td>Production, kt (for Biofuels in millions of li...</td>\n",
       "      <td>2003</td>\n",
       "      <td>249871.4523</td>\n",
       "      <td>OECD countries</td>\n",
       "      <td>OECD countries</td>\n",
       "      <td>OECD countries</td>\n",
       "    </tr>\n",
       "    <tr>\n",
       "      <th>1560</th>\n",
       "      <td>OECD countries</td>\n",
       "      <td>Wheat</td>\n",
       "      <td>QP</td>\n",
       "      <td>Production</td>\n",
       "      <td>Production, kt (for Biofuels in millions of li...</td>\n",
       "      <td>2004</td>\n",
       "      <td>281502.1956</td>\n",
       "      <td>OECD countries</td>\n",
       "      <td>OECD countries</td>\n",
       "      <td>OECD countries</td>\n",
       "    </tr>\n",
       "  </tbody>\n",
       "</table>\n",
       "</div>"
      ],
      "text/plain": [
       "             Country Commodity Var_abbr    Var_mean  \\\n",
       "1556  OECD countries     Wheat       QP  Production   \n",
       "1557  OECD countries     Wheat       QP  Production   \n",
       "1558  OECD countries     Wheat       QP  Production   \n",
       "1559  OECD countries     Wheat       QP  Production   \n",
       "1560  OECD countries     Wheat       QP  Production   \n",
       "\n",
       "                                               Var_expl  Time        Value  \\\n",
       "1556  Production, kt (for Biofuels in millions of li...  2000  269144.4766   \n",
       "1557  Production, kt (for Biofuels in millions of li...  2001  249739.4752   \n",
       "1558  Production, kt (for Biofuels in millions of li...  2002  229837.7329   \n",
       "1559  Production, kt (for Biofuels in millions of li...  2003  249871.4523   \n",
       "1560  Production, kt (for Biofuels in millions of li...  2004  281502.1956   \n",
       "\n",
       "            PopTotal         PopMale       PopFemale  \n",
       "1556  OECD countries  OECD countries  OECD countries  \n",
       "1557  OECD countries  OECD countries  OECD countries  \n",
       "1558  OECD countries  OECD countries  OECD countries  \n",
       "1559  OECD countries  OECD countries  OECD countries  \n",
       "1560  OECD countries  OECD countries  OECD countries  "
      ]
     },
     "execution_count": 141,
     "metadata": {},
     "output_type": "execute_result"
    }
   ],
   "source": [
    "wa[wa[\"Country\"]==\"OECD countries\"].head(5)\n"
   ]
  },
  {
   "cell_type": "code",
   "execution_count": 142,
   "metadata": {},
   "outputs": [],
   "source": [
    "wa.drop(list(wa[wa[\"Country\"]==\"OECD countries\"].index.values), inplace=True)"
   ]
  },
  {
   "cell_type": "code",
   "execution_count": 143,
   "metadata": {},
   "outputs": [
    {
     "data": {
      "text/html": [
       "<div>\n",
       "<style scoped>\n",
       "    .dataframe tbody tr th:only-of-type {\n",
       "        vertical-align: middle;\n",
       "    }\n",
       "\n",
       "    .dataframe tbody tr th {\n",
       "        vertical-align: top;\n",
       "    }\n",
       "\n",
       "    .dataframe thead th {\n",
       "        text-align: right;\n",
       "    }\n",
       "</style>\n",
       "<table border=\"1\" class=\"dataframe\">\n",
       "  <thead>\n",
       "    <tr style=\"text-align: right;\">\n",
       "      <th></th>\n",
       "      <th>Country</th>\n",
       "      <th>Commodity</th>\n",
       "      <th>Var_abbr</th>\n",
       "      <th>Var_mean</th>\n",
       "      <th>Var_expl</th>\n",
       "      <th>Time</th>\n",
       "      <th>Value</th>\n",
       "      <th>PopTotal</th>\n",
       "      <th>PopMale</th>\n",
       "      <th>PopFemale</th>\n",
       "    </tr>\n",
       "  </thead>\n",
       "  <tbody>\n",
       "  </tbody>\n",
       "</table>\n",
       "</div>"
      ],
      "text/plain": [
       "Empty DataFrame\n",
       "Columns: [Country, Commodity, Var_abbr, Var_mean, Var_expl, Time, Value, PopTotal, PopMale, PopFemale]\n",
       "Index: []"
      ]
     },
     "execution_count": 143,
     "metadata": {},
     "output_type": "execute_result"
    }
   ],
   "source": [
    "wa[wa[\"Country\"]==\"OECD countries\"]"
   ]
  },
  {
   "cell_type": "code",
   "execution_count": 144,
   "metadata": {},
   "outputs": [
    {
     "data": {
      "text/html": [
       "<div>\n",
       "<style scoped>\n",
       "    .dataframe tbody tr th:only-of-type {\n",
       "        vertical-align: middle;\n",
       "    }\n",
       "\n",
       "    .dataframe tbody tr th {\n",
       "        vertical-align: top;\n",
       "    }\n",
       "\n",
       "    .dataframe thead th {\n",
       "        text-align: right;\n",
       "    }\n",
       "</style>\n",
       "<table border=\"1\" class=\"dataframe\">\n",
       "  <thead>\n",
       "    <tr style=\"text-align: right;\">\n",
       "      <th></th>\n",
       "      <th>Country</th>\n",
       "      <th>Commodity</th>\n",
       "      <th>Var_abbr</th>\n",
       "      <th>Var_mean</th>\n",
       "      <th>Var_expl</th>\n",
       "      <th>Time</th>\n",
       "      <th>Value</th>\n",
       "      <th>PopTotal</th>\n",
       "      <th>PopMale</th>\n",
       "      <th>PopFemale</th>\n",
       "    </tr>\n",
       "  </thead>\n",
       "  <tbody>\n",
       "    <tr>\n",
       "      <th>528</th>\n",
       "      <td>Non-OECD</td>\n",
       "      <td>Wheat</td>\n",
       "      <td>QP</td>\n",
       "      <td>Production</td>\n",
       "      <td>Production, kt (for Biofuels in millions of li...</td>\n",
       "      <td>2000</td>\n",
       "      <td>316561.1031</td>\n",
       "      <td>Non-OECD</td>\n",
       "      <td>Non-OECD</td>\n",
       "      <td>Non-OECD</td>\n",
       "    </tr>\n",
       "    <tr>\n",
       "      <th>529</th>\n",
       "      <td>Non-OECD</td>\n",
       "      <td>Wheat</td>\n",
       "      <td>QP</td>\n",
       "      <td>Production</td>\n",
       "      <td>Production, kt (for Biofuels in millions of li...</td>\n",
       "      <td>2001</td>\n",
       "      <td>338871.0001</td>\n",
       "      <td>Non-OECD</td>\n",
       "      <td>Non-OECD</td>\n",
       "      <td>Non-OECD</td>\n",
       "    </tr>\n",
       "    <tr>\n",
       "      <th>530</th>\n",
       "      <td>Non-OECD</td>\n",
       "      <td>Wheat</td>\n",
       "      <td>QP</td>\n",
       "      <td>Production</td>\n",
       "      <td>Production, kt (for Biofuels in millions of li...</td>\n",
       "      <td>2002</td>\n",
       "      <td>343659.8801</td>\n",
       "      <td>Non-OECD</td>\n",
       "      <td>Non-OECD</td>\n",
       "      <td>Non-OECD</td>\n",
       "    </tr>\n",
       "    <tr>\n",
       "      <th>531</th>\n",
       "      <td>Non-OECD</td>\n",
       "      <td>Wheat</td>\n",
       "      <td>QP</td>\n",
       "      <td>Production</td>\n",
       "      <td>Production, kt (for Biofuels in millions of li...</td>\n",
       "      <td>2003</td>\n",
       "      <td>310399.0781</td>\n",
       "      <td>Non-OECD</td>\n",
       "      <td>Non-OECD</td>\n",
       "      <td>Non-OECD</td>\n",
       "    </tr>\n",
       "    <tr>\n",
       "      <th>532</th>\n",
       "      <td>Non-OECD</td>\n",
       "      <td>Wheat</td>\n",
       "      <td>QP</td>\n",
       "      <td>Production</td>\n",
       "      <td>Production, kt (for Biofuels in millions of li...</td>\n",
       "      <td>2004</td>\n",
       "      <td>349839.3341</td>\n",
       "      <td>Non-OECD</td>\n",
       "      <td>Non-OECD</td>\n",
       "      <td>Non-OECD</td>\n",
       "    </tr>\n",
       "  </tbody>\n",
       "</table>\n",
       "</div>"
      ],
      "text/plain": [
       "      Country Commodity Var_abbr    Var_mean  \\\n",
       "528  Non-OECD     Wheat       QP  Production   \n",
       "529  Non-OECD     Wheat       QP  Production   \n",
       "530  Non-OECD     Wheat       QP  Production   \n",
       "531  Non-OECD     Wheat       QP  Production   \n",
       "532  Non-OECD     Wheat       QP  Production   \n",
       "\n",
       "                                              Var_expl  Time        Value  \\\n",
       "528  Production, kt (for Biofuels in millions of li...  2000  316561.1031   \n",
       "529  Production, kt (for Biofuels in millions of li...  2001  338871.0001   \n",
       "530  Production, kt (for Biofuels in millions of li...  2002  343659.8801   \n",
       "531  Production, kt (for Biofuels in millions of li...  2003  310399.0781   \n",
       "532  Production, kt (for Biofuels in millions of li...  2004  349839.3341   \n",
       "\n",
       "     PopTotal   PopMale PopFemale  \n",
       "528  Non-OECD  Non-OECD  Non-OECD  \n",
       "529  Non-OECD  Non-OECD  Non-OECD  \n",
       "530  Non-OECD  Non-OECD  Non-OECD  \n",
       "531  Non-OECD  Non-OECD  Non-OECD  \n",
       "532  Non-OECD  Non-OECD  Non-OECD  "
      ]
     },
     "execution_count": 144,
     "metadata": {},
     "output_type": "execute_result"
    }
   ],
   "source": [
    "wa[wa[\"Country\"]==\"Non-OECD\"].head(5)\n"
   ]
  },
  {
   "cell_type": "code",
   "execution_count": 145,
   "metadata": {},
   "outputs": [],
   "source": [
    "wa.drop(list(wa[wa[\"Country\"]==\"Non-OECD\"].index.values), inplace=True)"
   ]
  },
  {
   "cell_type": "code",
   "execution_count": 146,
   "metadata": {},
   "outputs": [
    {
     "data": {
      "text/html": [
       "<div>\n",
       "<style scoped>\n",
       "    .dataframe tbody tr th:only-of-type {\n",
       "        vertical-align: middle;\n",
       "    }\n",
       "\n",
       "    .dataframe tbody tr th {\n",
       "        vertical-align: top;\n",
       "    }\n",
       "\n",
       "    .dataframe thead th {\n",
       "        text-align: right;\n",
       "    }\n",
       "</style>\n",
       "<table border=\"1\" class=\"dataframe\">\n",
       "  <thead>\n",
       "    <tr style=\"text-align: right;\">\n",
       "      <th></th>\n",
       "      <th>Country</th>\n",
       "      <th>Commodity</th>\n",
       "      <th>Var_abbr</th>\n",
       "      <th>Var_mean</th>\n",
       "      <th>Var_expl</th>\n",
       "      <th>Time</th>\n",
       "      <th>Value</th>\n",
       "      <th>PopTotal</th>\n",
       "      <th>PopMale</th>\n",
       "      <th>PopFemale</th>\n",
       "    </tr>\n",
       "  </thead>\n",
       "  <tbody>\n",
       "  </tbody>\n",
       "</table>\n",
       "</div>"
      ],
      "text/plain": [
       "Empty DataFrame\n",
       "Columns: [Country, Commodity, Var_abbr, Var_mean, Var_expl, Time, Value, PopTotal, PopMale, PopFemale]\n",
       "Index: []"
      ]
     },
     "execution_count": 146,
     "metadata": {},
     "output_type": "execute_result"
    }
   ],
   "source": [
    "wa[wa[\"Country\"]==\"Non-OECD\"]"
   ]
  },
  {
   "cell_type": "markdown",
   "metadata": {},
   "source": [
    "#### Drop duplicated values if present"
   ]
  },
  {
   "cell_type": "code",
   "execution_count": 147,
   "metadata": {},
   "outputs": [
    {
     "data": {
      "text/plain": [
       "False    190770\n",
       "dtype: int64"
      ]
     },
     "execution_count": 147,
     "metadata": {},
     "output_type": "execute_result"
    }
   ],
   "source": [
    "wa.duplicated(keep=\"last\").value_counts()"
   ]
  },
  {
   "cell_type": "code",
   "execution_count": 148,
   "metadata": {},
   "outputs": [],
   "source": [
    "wa.drop_duplicates(keep=\"last\", inplace=True)"
   ]
  },
  {
   "cell_type": "code",
   "execution_count": 149,
   "metadata": {},
   "outputs": [
    {
     "data": {
      "text/plain": [
       "False    190770\n",
       "dtype: int64"
      ]
     },
     "execution_count": 149,
     "metadata": {},
     "output_type": "execute_result"
    }
   ],
   "source": [
    "wa.duplicated(keep=\"last\").value_counts()"
   ]
  },
  {
   "cell_type": "code",
   "execution_count": 150,
   "metadata": {},
   "outputs": [
    {
     "name": "stdout",
     "output_type": "stream",
     "text": [
      "<class 'pandas.core.frame.DataFrame'>\n",
      "Int64Index: 190770 entries, 0 to 197738\n",
      "Data columns (total 10 columns):\n",
      " #   Column     Non-Null Count   Dtype  \n",
      "---  ------     --------------   -----  \n",
      " 0   Country    190770 non-null  object \n",
      " 1   Commodity  190770 non-null  object \n",
      " 2   Var_abbr   190770 non-null  object \n",
      " 3   Var_mean   190770 non-null  object \n",
      " 4   Var_expl   190770 non-null  object \n",
      " 5   Time       190770 non-null  int64  \n",
      " 6   Value      190770 non-null  float64\n",
      " 7   PopTotal   190770 non-null  object \n",
      " 8   PopMale    190770 non-null  object \n",
      " 9   PopFemale  190770 non-null  object \n",
      "dtypes: float64(1), int64(1), object(8)\n",
      "memory usage: 16.0+ MB\n"
     ]
    }
   ],
   "source": [
    "wa.info()"
   ]
  },
  {
   "cell_type": "markdown",
   "metadata": {},
   "source": [
    "#### Drop null values if present"
   ]
  },
  {
   "cell_type": "code",
   "execution_count": 151,
   "metadata": {},
   "outputs": [
    {
     "data": {
      "text/plain": [
       "190770"
      ]
     },
     "execution_count": 151,
     "metadata": {},
     "output_type": "execute_result"
    }
   ],
   "source": [
    "wa.isnull().value_counts().sum()"
   ]
  },
  {
   "cell_type": "markdown",
   "metadata": {},
   "source": [
    "#### Convert the types of population & year to int"
   ]
  },
  {
   "cell_type": "code",
   "execution_count": 152,
   "metadata": {},
   "outputs": [
    {
     "name": "stdout",
     "output_type": "stream",
     "text": [
      "<class 'pandas.core.frame.DataFrame'>\n",
      "Int64Index: 190770 entries, 0 to 197738\n",
      "Data columns (total 10 columns):\n",
      " #   Column     Non-Null Count   Dtype  \n",
      "---  ------     --------------   -----  \n",
      " 0   Country    190770 non-null  object \n",
      " 1   Commodity  190770 non-null  object \n",
      " 2   Var_abbr   190770 non-null  object \n",
      " 3   Var_mean   190770 non-null  object \n",
      " 4   Var_expl   190770 non-null  object \n",
      " 5   Time       190770 non-null  int64  \n",
      " 6   Value      190770 non-null  float64\n",
      " 7   PopTotal   190770 non-null  object \n",
      " 8   PopMale    190770 non-null  object \n",
      " 9   PopFemale  190770 non-null  object \n",
      "dtypes: float64(1), int64(1), object(8)\n",
      "memory usage: 16.0+ MB\n"
     ]
    }
   ],
   "source": [
    "wa.info()"
   ]
  },
  {
   "cell_type": "code",
   "execution_count": 153,
   "metadata": {},
   "outputs": [],
   "source": [
    "wa['PopTotal'] = pd.to_numeric(wa['PopTotal'],errors='coerce')\n",
    "wa['PopMale'] = pd.to_numeric(wa['PopMale'],errors='coerce')\n",
    "wa['PopFemale'] = pd.to_numeric(wa['PopFemale'],errors='coerce')"
   ]
  },
  {
   "cell_type": "code",
   "execution_count": 154,
   "metadata": {},
   "outputs": [],
   "source": [
    "cy['years'] = cy['years'].fillna(0).astype(np.int64)"
   ]
  },
  {
   "cell_type": "code",
   "execution_count": 155,
   "metadata": {},
   "outputs": [
    {
     "name": "stdout",
     "output_type": "stream",
     "text": [
      "<class 'pandas.core.frame.DataFrame'>\n",
      "Int64Index: 190770 entries, 0 to 197738\n",
      "Data columns (total 10 columns):\n",
      " #   Column     Non-Null Count   Dtype  \n",
      "---  ------     --------------   -----  \n",
      " 0   Country    190770 non-null  object \n",
      " 1   Commodity  190770 non-null  object \n",
      " 2   Var_abbr   190770 non-null  object \n",
      " 3   Var_mean   190770 non-null  object \n",
      " 4   Var_expl   190770 non-null  object \n",
      " 5   Time       190770 non-null  int64  \n",
      " 6   Value      190770 non-null  float64\n",
      " 7   PopTotal   0 non-null       float64\n",
      " 8   PopMale    0 non-null       float64\n",
      " 9   PopFemale  0 non-null       float64\n",
      "dtypes: float64(4), int64(1), object(5)\n",
      "memory usage: 16.0+ MB\n"
     ]
    }
   ],
   "source": [
    "wa.info()"
   ]
  },
  {
   "cell_type": "code",
   "execution_count": 156,
   "metadata": {},
   "outputs": [
    {
     "data": {
      "text/plain": [
       "wa_all        object\n",
       "wa_country    object\n",
       "wa_org        object\n",
       "wp_all        object\n",
       "wp_country    object\n",
       "wp_org        object\n",
       "years          int64\n",
       "abbrv         object\n",
       "meaning       object\n",
       "dtype: object"
      ]
     },
     "execution_count": 156,
     "metadata": {},
     "output_type": "execute_result"
    }
   ],
   "source": [
    "cy.dtypes"
   ]
  },
  {
   "cell_type": "markdown",
   "metadata": {},
   "source": [
    "#### Assigning population values from wp1 to wa population columns"
   ]
  },
  {
   "cell_type": "code",
   "execution_count": 157,
   "metadata": {},
   "outputs": [
    {
     "data": {
      "text/html": [
       "<div>\n",
       "<style scoped>\n",
       "    .dataframe tbody tr th:only-of-type {\n",
       "        vertical-align: middle;\n",
       "    }\n",
       "\n",
       "    .dataframe tbody tr th {\n",
       "        vertical-align: top;\n",
       "    }\n",
       "\n",
       "    .dataframe thead th {\n",
       "        text-align: right;\n",
       "    }\n",
       "</style>\n",
       "<table border=\"1\" class=\"dataframe\">\n",
       "  <thead>\n",
       "    <tr style=\"text-align: right;\">\n",
       "      <th></th>\n",
       "      <th>Country</th>\n",
       "      <th>Time</th>\n",
       "      <th>PopTotal</th>\n",
       "      <th>PopMale</th>\n",
       "      <th>PopFemale</th>\n",
       "    </tr>\n",
       "  </thead>\n",
       "  <tbody>\n",
       "    <tr>\n",
       "      <th>277295</th>\n",
       "      <td>World</td>\n",
       "      <td>2000</td>\n",
       "      <td>6143493.806</td>\n",
       "      <td>3093433.858</td>\n",
       "      <td>3050059.948</td>\n",
       "    </tr>\n",
       "    <tr>\n",
       "      <th>277296</th>\n",
       "      <td>World</td>\n",
       "      <td>2001</td>\n",
       "      <td>6222626.531</td>\n",
       "      <td>3133601.761</td>\n",
       "      <td>3089024.770</td>\n",
       "    </tr>\n",
       "  </tbody>\n",
       "</table>\n",
       "</div>"
      ],
      "text/plain": [
       "       Country  Time     PopTotal      PopMale    PopFemale\n",
       "277295   World  2000  6143493.806  3093433.858  3050059.948\n",
       "277296   World  2001  6222626.531  3133601.761  3089024.770"
      ]
     },
     "execution_count": 157,
     "metadata": {},
     "output_type": "execute_result"
    }
   ],
   "source": [
    "wp1[wp1[\"Country\"]==\"World\"].head(2)"
   ]
  },
  {
   "cell_type": "code",
   "execution_count": 158,
   "metadata": {},
   "outputs": [
    {
     "data": {
      "text/html": [
       "<div>\n",
       "<style scoped>\n",
       "    .dataframe tbody tr th:only-of-type {\n",
       "        vertical-align: middle;\n",
       "    }\n",
       "\n",
       "    .dataframe tbody tr th {\n",
       "        vertical-align: top;\n",
       "    }\n",
       "\n",
       "    .dataframe thead th {\n",
       "        text-align: right;\n",
       "    }\n",
       "</style>\n",
       "<table border=\"1\" class=\"dataframe\">\n",
       "  <thead>\n",
       "    <tr style=\"text-align: right;\">\n",
       "      <th></th>\n",
       "      <th>Country</th>\n",
       "      <th>Commodity</th>\n",
       "      <th>Var_abbr</th>\n",
       "      <th>Var_mean</th>\n",
       "      <th>Var_expl</th>\n",
       "      <th>Time</th>\n",
       "      <th>Value</th>\n",
       "      <th>PopTotal</th>\n",
       "      <th>PopMale</th>\n",
       "      <th>PopFemale</th>\n",
       "    </tr>\n",
       "  </thead>\n",
       "  <tbody>\n",
       "    <tr>\n",
       "      <th>0</th>\n",
       "      <td>World</td>\n",
       "      <td>Wheat</td>\n",
       "      <td>QP</td>\n",
       "      <td>Production</td>\n",
       "      <td>Production, kt (for Biofuels in millions of li...</td>\n",
       "      <td>2000</td>\n",
       "      <td>585705.5797</td>\n",
       "      <td>NaN</td>\n",
       "      <td>NaN</td>\n",
       "      <td>NaN</td>\n",
       "    </tr>\n",
       "    <tr>\n",
       "      <th>1</th>\n",
       "      <td>World</td>\n",
       "      <td>Wheat</td>\n",
       "      <td>QP</td>\n",
       "      <td>Production</td>\n",
       "      <td>Production, kt (for Biofuels in millions of li...</td>\n",
       "      <td>2001</td>\n",
       "      <td>588610.4753</td>\n",
       "      <td>NaN</td>\n",
       "      <td>NaN</td>\n",
       "      <td>NaN</td>\n",
       "    </tr>\n",
       "  </tbody>\n",
       "</table>\n",
       "</div>"
      ],
      "text/plain": [
       "  Country Commodity Var_abbr    Var_mean  \\\n",
       "0   World     Wheat       QP  Production   \n",
       "1   World     Wheat       QP  Production   \n",
       "\n",
       "                                            Var_expl  Time        Value  \\\n",
       "0  Production, kt (for Biofuels in millions of li...  2000  585705.5797   \n",
       "1  Production, kt (for Biofuels in millions of li...  2001  588610.4753   \n",
       "\n",
       "   PopTotal  PopMale  PopFemale  \n",
       "0       NaN      NaN        NaN  \n",
       "1       NaN      NaN        NaN  "
      ]
     },
     "execution_count": 158,
     "metadata": {},
     "output_type": "execute_result"
    }
   ],
   "source": [
    "wa[wa[\"Country\"]==\"World\"].head(2)"
   ]
  },
  {
   "cell_type": "code",
   "execution_count": 159,
   "metadata": {},
   "outputs": [
    {
     "data": {
      "text/plain": [
       "52"
      ]
     },
     "execution_count": 159,
     "metadata": {},
     "output_type": "execute_result"
    }
   ],
   "source": [
    "wp1.Country.nunique()"
   ]
  },
  {
   "cell_type": "code",
   "execution_count": 160,
   "metadata": {},
   "outputs": [
    {
     "data": {
      "text/plain": [
       "52"
      ]
     },
     "execution_count": 160,
     "metadata": {},
     "output_type": "execute_result"
    }
   ],
   "source": [
    "wa.Country.nunique()"
   ]
  },
  {
   "cell_type": "code",
   "execution_count": 161,
   "metadata": {},
   "outputs": [],
   "source": [
    "wp1_cntry_list = list(wp1.Country.unique())"
   ]
  },
  {
   "cell_type": "code",
   "execution_count": 162,
   "metadata": {},
   "outputs": [],
   "source": [
    "def PopTotal_func (cntlist, yearlist):\n",
    "    for a in cntlist:\n",
    "        for b in yearlist:\n",
    "            q = list(wp1[(wp1[\"Country\"]==a) & (wp1[\"Time\"]==b)].index.values)[0]\n",
    "            p = wp1.loc[q, \"PopTotal\"]\n",
    "            wa.loc[(wa[\"Country\"]==a) & (wa[\"Time\"]==b), \"PopTotal\"] = p"
   ]
  },
  {
   "cell_type": "code",
   "execution_count": 163,
   "metadata": {},
   "outputs": [],
   "source": [
    "PopTotal_func(wp1_cntry_list,years_list)"
   ]
  },
  {
   "cell_type": "code",
   "execution_count": 164,
   "metadata": {},
   "outputs": [
    {
     "data": {
      "text/html": [
       "<div>\n",
       "<style scoped>\n",
       "    .dataframe tbody tr th:only-of-type {\n",
       "        vertical-align: middle;\n",
       "    }\n",
       "\n",
       "    .dataframe tbody tr th {\n",
       "        vertical-align: top;\n",
       "    }\n",
       "\n",
       "    .dataframe thead th {\n",
       "        text-align: right;\n",
       "    }\n",
       "</style>\n",
       "<table border=\"1\" class=\"dataframe\">\n",
       "  <thead>\n",
       "    <tr style=\"text-align: right;\">\n",
       "      <th></th>\n",
       "      <th>Country</th>\n",
       "      <th>Commodity</th>\n",
       "      <th>Var_abbr</th>\n",
       "      <th>Var_mean</th>\n",
       "      <th>Var_expl</th>\n",
       "      <th>Time</th>\n",
       "      <th>Value</th>\n",
       "      <th>PopTotal</th>\n",
       "      <th>PopMale</th>\n",
       "      <th>PopFemale</th>\n",
       "    </tr>\n",
       "  </thead>\n",
       "  <tbody>\n",
       "    <tr>\n",
       "      <th>6</th>\n",
       "      <td>World</td>\n",
       "      <td>Wheat</td>\n",
       "      <td>QP</td>\n",
       "      <td>Production</td>\n",
       "      <td>Production, kt (for Biofuels in millions of li...</td>\n",
       "      <td>2006</td>\n",
       "      <td>600783.4302</td>\n",
       "      <td>6623517.917</td>\n",
       "      <td>NaN</td>\n",
       "      <td>NaN</td>\n",
       "    </tr>\n",
       "  </tbody>\n",
       "</table>\n",
       "</div>"
      ],
      "text/plain": [
       "  Country Commodity Var_abbr    Var_mean  \\\n",
       "6   World     Wheat       QP  Production   \n",
       "\n",
       "                                            Var_expl  Time        Value  \\\n",
       "6  Production, kt (for Biofuels in millions of li...  2006  600783.4302   \n",
       "\n",
       "      PopTotal  PopMale  PopFemale  \n",
       "6  6623517.917      NaN        NaN  "
      ]
     },
     "execution_count": 164,
     "metadata": {},
     "output_type": "execute_result"
    }
   ],
   "source": [
    "wa[(wa.Country==\"World\") & (wa.Time==2006)].head(1)"
   ]
  },
  {
   "cell_type": "code",
   "execution_count": 165,
   "metadata": {},
   "outputs": [
    {
     "data": {
      "text/html": [
       "<div>\n",
       "<style scoped>\n",
       "    .dataframe tbody tr th:only-of-type {\n",
       "        vertical-align: middle;\n",
       "    }\n",
       "\n",
       "    .dataframe tbody tr th {\n",
       "        vertical-align: top;\n",
       "    }\n",
       "\n",
       "    .dataframe thead th {\n",
       "        text-align: right;\n",
       "    }\n",
       "</style>\n",
       "<table border=\"1\" class=\"dataframe\">\n",
       "  <thead>\n",
       "    <tr style=\"text-align: right;\">\n",
       "      <th></th>\n",
       "      <th>Country</th>\n",
       "      <th>Time</th>\n",
       "      <th>PopTotal</th>\n",
       "      <th>PopMale</th>\n",
       "      <th>PopFemale</th>\n",
       "    </tr>\n",
       "  </thead>\n",
       "  <tbody>\n",
       "    <tr>\n",
       "      <th>277301</th>\n",
       "      <td>World</td>\n",
       "      <td>2006</td>\n",
       "      <td>6623517.917</td>\n",
       "      <td>3338132.929</td>\n",
       "      <td>3285384.988</td>\n",
       "    </tr>\n",
       "  </tbody>\n",
       "</table>\n",
       "</div>"
      ],
      "text/plain": [
       "       Country  Time     PopTotal      PopMale    PopFemale\n",
       "277301   World  2006  6623517.917  3338132.929  3285384.988"
      ]
     },
     "execution_count": 165,
     "metadata": {},
     "output_type": "execute_result"
    }
   ],
   "source": [
    "wp1[(wp1.Country==\"World\") & (wp1.Time==2006)].head(1)"
   ]
  },
  {
   "cell_type": "code",
   "execution_count": 166,
   "metadata": {},
   "outputs": [],
   "source": [
    "def PopMale_func (cntlist, yearlist):\n",
    "    for a in cntlist:\n",
    "        for b in yearlist:\n",
    "            q = list(wp1[(wp1[\"Country\"]==a) & (wp1[\"Time\"]==b)].index.values)[0]\n",
    "            p = wp1.loc[q, \"PopMale\"]\n",
    "            wa.loc[(wa[\"Country\"]==a) & (wa[\"Time\"]==b), \"PopMale\"] = p"
   ]
  },
  {
   "cell_type": "code",
   "execution_count": 167,
   "metadata": {},
   "outputs": [],
   "source": [
    "PopMale_func(wp1_cntry_list,years_list)"
   ]
  },
  {
   "cell_type": "code",
   "execution_count": 168,
   "metadata": {},
   "outputs": [
    {
     "data": {
      "text/html": [
       "<div>\n",
       "<style scoped>\n",
       "    .dataframe tbody tr th:only-of-type {\n",
       "        vertical-align: middle;\n",
       "    }\n",
       "\n",
       "    .dataframe tbody tr th {\n",
       "        vertical-align: top;\n",
       "    }\n",
       "\n",
       "    .dataframe thead th {\n",
       "        text-align: right;\n",
       "    }\n",
       "</style>\n",
       "<table border=\"1\" class=\"dataframe\">\n",
       "  <thead>\n",
       "    <tr style=\"text-align: right;\">\n",
       "      <th></th>\n",
       "      <th>Country</th>\n",
       "      <th>Commodity</th>\n",
       "      <th>Var_abbr</th>\n",
       "      <th>Var_mean</th>\n",
       "      <th>Var_expl</th>\n",
       "      <th>Time</th>\n",
       "      <th>Value</th>\n",
       "      <th>PopTotal</th>\n",
       "      <th>PopMale</th>\n",
       "      <th>PopFemale</th>\n",
       "    </tr>\n",
       "  </thead>\n",
       "  <tbody>\n",
       "    <tr>\n",
       "      <th>6</th>\n",
       "      <td>World</td>\n",
       "      <td>Wheat</td>\n",
       "      <td>QP</td>\n",
       "      <td>Production</td>\n",
       "      <td>Production, kt (for Biofuels in millions of li...</td>\n",
       "      <td>2006</td>\n",
       "      <td>600783.4302</td>\n",
       "      <td>6623517.917</td>\n",
       "      <td>3338132.929</td>\n",
       "      <td>NaN</td>\n",
       "    </tr>\n",
       "  </tbody>\n",
       "</table>\n",
       "</div>"
      ],
      "text/plain": [
       "  Country Commodity Var_abbr    Var_mean  \\\n",
       "6   World     Wheat       QP  Production   \n",
       "\n",
       "                                            Var_expl  Time        Value  \\\n",
       "6  Production, kt (for Biofuels in millions of li...  2006  600783.4302   \n",
       "\n",
       "      PopTotal      PopMale  PopFemale  \n",
       "6  6623517.917  3338132.929        NaN  "
      ]
     },
     "execution_count": 168,
     "metadata": {},
     "output_type": "execute_result"
    }
   ],
   "source": [
    "wa[(wa.Country==\"World\") & (wa.Time==2006)].head(1)"
   ]
  },
  {
   "cell_type": "code",
   "execution_count": 169,
   "metadata": {},
   "outputs": [
    {
     "data": {
      "text/html": [
       "<div>\n",
       "<style scoped>\n",
       "    .dataframe tbody tr th:only-of-type {\n",
       "        vertical-align: middle;\n",
       "    }\n",
       "\n",
       "    .dataframe tbody tr th {\n",
       "        vertical-align: top;\n",
       "    }\n",
       "\n",
       "    .dataframe thead th {\n",
       "        text-align: right;\n",
       "    }\n",
       "</style>\n",
       "<table border=\"1\" class=\"dataframe\">\n",
       "  <thead>\n",
       "    <tr style=\"text-align: right;\">\n",
       "      <th></th>\n",
       "      <th>Country</th>\n",
       "      <th>Time</th>\n",
       "      <th>PopTotal</th>\n",
       "      <th>PopMale</th>\n",
       "      <th>PopFemale</th>\n",
       "    </tr>\n",
       "  </thead>\n",
       "  <tbody>\n",
       "    <tr>\n",
       "      <th>277301</th>\n",
       "      <td>World</td>\n",
       "      <td>2006</td>\n",
       "      <td>6623517.917</td>\n",
       "      <td>3338132.929</td>\n",
       "      <td>3285384.988</td>\n",
       "    </tr>\n",
       "  </tbody>\n",
       "</table>\n",
       "</div>"
      ],
      "text/plain": [
       "       Country  Time     PopTotal      PopMale    PopFemale\n",
       "277301   World  2006  6623517.917  3338132.929  3285384.988"
      ]
     },
     "execution_count": 169,
     "metadata": {},
     "output_type": "execute_result"
    }
   ],
   "source": [
    "wp1[(wp1.Country==\"World\") & (wp1.Time==2006)].head(1)"
   ]
  },
  {
   "cell_type": "code",
   "execution_count": 170,
   "metadata": {},
   "outputs": [],
   "source": [
    "def PopFemale_func (cntlist, yearlist):\n",
    "    for a in cntlist:\n",
    "        for b in yearlist:\n",
    "            q = list(wp1[(wp1[\"Country\"]==a) & (wp1[\"Time\"]==b)].index.values)[0]\n",
    "            p = wp1.loc[q, \"PopFemale\"]\n",
    "            wa.loc[(wa[\"Country\"]==a) & (wa[\"Time\"]==b), \"PopFemale\"] = p"
   ]
  },
  {
   "cell_type": "code",
   "execution_count": 171,
   "metadata": {},
   "outputs": [],
   "source": [
    "PopFemale_func(wp1_cntry_list,years_list)"
   ]
  },
  {
   "cell_type": "code",
   "execution_count": 172,
   "metadata": {},
   "outputs": [
    {
     "data": {
      "text/html": [
       "<div>\n",
       "<style scoped>\n",
       "    .dataframe tbody tr th:only-of-type {\n",
       "        vertical-align: middle;\n",
       "    }\n",
       "\n",
       "    .dataframe tbody tr th {\n",
       "        vertical-align: top;\n",
       "    }\n",
       "\n",
       "    .dataframe thead th {\n",
       "        text-align: right;\n",
       "    }\n",
       "</style>\n",
       "<table border=\"1\" class=\"dataframe\">\n",
       "  <thead>\n",
       "    <tr style=\"text-align: right;\">\n",
       "      <th></th>\n",
       "      <th>Country</th>\n",
       "      <th>Commodity</th>\n",
       "      <th>Var_abbr</th>\n",
       "      <th>Var_mean</th>\n",
       "      <th>Var_expl</th>\n",
       "      <th>Time</th>\n",
       "      <th>Value</th>\n",
       "      <th>PopTotal</th>\n",
       "      <th>PopMale</th>\n",
       "      <th>PopFemale</th>\n",
       "    </tr>\n",
       "  </thead>\n",
       "  <tbody>\n",
       "    <tr>\n",
       "      <th>6</th>\n",
       "      <td>World</td>\n",
       "      <td>Wheat</td>\n",
       "      <td>QP</td>\n",
       "      <td>Production</td>\n",
       "      <td>Production, kt (for Biofuels in millions of li...</td>\n",
       "      <td>2006</td>\n",
       "      <td>600783.4302</td>\n",
       "      <td>6623517.917</td>\n",
       "      <td>3338132.929</td>\n",
       "      <td>3285384.988</td>\n",
       "    </tr>\n",
       "  </tbody>\n",
       "</table>\n",
       "</div>"
      ],
      "text/plain": [
       "  Country Commodity Var_abbr    Var_mean  \\\n",
       "6   World     Wheat       QP  Production   \n",
       "\n",
       "                                            Var_expl  Time        Value  \\\n",
       "6  Production, kt (for Biofuels in millions of li...  2006  600783.4302   \n",
       "\n",
       "      PopTotal      PopMale    PopFemale  \n",
       "6  6623517.917  3338132.929  3285384.988  "
      ]
     },
     "execution_count": 172,
     "metadata": {},
     "output_type": "execute_result"
    }
   ],
   "source": [
    "wa[(wa.Country==\"World\") & (wa.Time==2006)].head(1)"
   ]
  },
  {
   "cell_type": "code",
   "execution_count": 173,
   "metadata": {},
   "outputs": [
    {
     "data": {
      "text/html": [
       "<div>\n",
       "<style scoped>\n",
       "    .dataframe tbody tr th:only-of-type {\n",
       "        vertical-align: middle;\n",
       "    }\n",
       "\n",
       "    .dataframe tbody tr th {\n",
       "        vertical-align: top;\n",
       "    }\n",
       "\n",
       "    .dataframe thead th {\n",
       "        text-align: right;\n",
       "    }\n",
       "</style>\n",
       "<table border=\"1\" class=\"dataframe\">\n",
       "  <thead>\n",
       "    <tr style=\"text-align: right;\">\n",
       "      <th></th>\n",
       "      <th>Country</th>\n",
       "      <th>Time</th>\n",
       "      <th>PopTotal</th>\n",
       "      <th>PopMale</th>\n",
       "      <th>PopFemale</th>\n",
       "    </tr>\n",
       "  </thead>\n",
       "  <tbody>\n",
       "    <tr>\n",
       "      <th>277301</th>\n",
       "      <td>World</td>\n",
       "      <td>2006</td>\n",
       "      <td>6623517.917</td>\n",
       "      <td>3338132.929</td>\n",
       "      <td>3285384.988</td>\n",
       "    </tr>\n",
       "  </tbody>\n",
       "</table>\n",
       "</div>"
      ],
      "text/plain": [
       "       Country  Time     PopTotal      PopMale    PopFemale\n",
       "277301   World  2006  6623517.917  3338132.929  3285384.988"
      ]
     },
     "execution_count": 173,
     "metadata": {},
     "output_type": "execute_result"
    }
   ],
   "source": [
    "wp1[(wp1.Country==\"World\") & (wp1.Time==2006)].head(1)"
   ]
  },
  {
   "cell_type": "markdown",
   "metadata": {},
   "source": [
    "#### Creating Organizations Dataset from wa"
   ]
  },
  {
   "cell_type": "code",
   "execution_count": 174,
   "metadata": {},
   "outputs": [
    {
     "data": {
      "text/html": [
       "<div>\n",
       "<style scoped>\n",
       "    .dataframe tbody tr th:only-of-type {\n",
       "        vertical-align: middle;\n",
       "    }\n",
       "\n",
       "    .dataframe tbody tr th {\n",
       "        vertical-align: top;\n",
       "    }\n",
       "\n",
       "    .dataframe thead th {\n",
       "        text-align: right;\n",
       "    }\n",
       "</style>\n",
       "<table border=\"1\" class=\"dataframe\">\n",
       "  <thead>\n",
       "    <tr style=\"text-align: right;\">\n",
       "      <th></th>\n",
       "      <th>Country</th>\n",
       "      <th>Commodity</th>\n",
       "      <th>Var_abbr</th>\n",
       "      <th>Var_mean</th>\n",
       "      <th>Var_expl</th>\n",
       "      <th>Time</th>\n",
       "      <th>Value</th>\n",
       "      <th>PopTotal</th>\n",
       "      <th>PopMale</th>\n",
       "      <th>PopFemale</th>\n",
       "    </tr>\n",
       "  </thead>\n",
       "  <tbody>\n",
       "  </tbody>\n",
       "</table>\n",
       "</div>"
      ],
      "text/plain": [
       "Empty DataFrame\n",
       "Columns: [Country, Commodity, Var_abbr, Var_mean, Var_expl, Time, Value, PopTotal, PopMale, PopFemale]\n",
       "Index: []"
      ]
     },
     "execution_count": 174,
     "metadata": {},
     "output_type": "execute_result"
    }
   ],
   "source": [
    "wa[wa[\"Country\"]==(\"OECD countries\", \"Non-OECD\")].head(3)"
   ]
  },
  {
   "cell_type": "code",
   "execution_count": 175,
   "metadata": {},
   "outputs": [
    {
     "data": {
      "text/plain": [
       "['World',\n",
       " 'OECD',\n",
       " 'Developed',\n",
       " 'Developing',\n",
       " 'Least Developed Countries',\n",
       " 'European Union-27',\n",
       " 'EUROPE',\n",
       " 'AFRICA',\n",
       " 'LATIN AMERICA AND CARIBBEAN',\n",
       " 'ASIA']"
      ]
     },
     "execution_count": 175,
     "metadata": {},
     "output_type": "execute_result"
    }
   ],
   "source": [
    "wa_org_list"
   ]
  },
  {
   "cell_type": "code",
   "execution_count": 176,
   "metadata": {},
   "outputs": [],
   "source": [
    "Data_World = wa[wa[\"Country\"]==\"World\"]\n",
    "Data_OECD = wa[wa[\"Country\"]==\"OECD\"]\n",
    "Data_Developed = wa[wa[\"Country\"]==\"Developed\"]\n",
    "Data_Developing = wa[wa[\"Country\"]==\"Developing\"]\n",
    "Data_LDC = wa[wa[\"Country\"]==\"Least Developed Countries\"]\n",
    "Data_EU27 = wa[wa[\"Country\"]==\"European Union-27\"]\n",
    "Data_EU = wa[wa[\"Country\"]==\"EUROPE\"]\n",
    "Data_Africa = wa[wa[\"Country\"]==\"AFRICA\"]\n",
    "Data_Lat_Amer = wa[wa[\"Country\"]==\"LATIN AMERICA AND CARIBBEAN\"]\n",
    "Data_Asia = wa[wa[\"Country\"]==\"ASIA\"]"
   ]
  },
  {
   "cell_type": "code",
   "execution_count": 177,
   "metadata": {},
   "outputs": [
    {
     "data": {
      "text/html": [
       "<div>\n",
       "<style scoped>\n",
       "    .dataframe tbody tr th:only-of-type {\n",
       "        vertical-align: middle;\n",
       "    }\n",
       "\n",
       "    .dataframe tbody tr th {\n",
       "        vertical-align: top;\n",
       "    }\n",
       "\n",
       "    .dataframe thead th {\n",
       "        text-align: right;\n",
       "    }\n",
       "</style>\n",
       "<table border=\"1\" class=\"dataframe\">\n",
       "  <thead>\n",
       "    <tr style=\"text-align: right;\">\n",
       "      <th></th>\n",
       "      <th>Country</th>\n",
       "      <th>Commodity</th>\n",
       "      <th>Var_abbr</th>\n",
       "      <th>Var_mean</th>\n",
       "      <th>Var_expl</th>\n",
       "      <th>Time</th>\n",
       "      <th>Value</th>\n",
       "      <th>PopTotal</th>\n",
       "      <th>PopMale</th>\n",
       "      <th>PopFemale</th>\n",
       "    </tr>\n",
       "  </thead>\n",
       "  <tbody>\n",
       "    <tr>\n",
       "      <th>0</th>\n",
       "      <td>World</td>\n",
       "      <td>Wheat</td>\n",
       "      <td>QP</td>\n",
       "      <td>Production</td>\n",
       "      <td>Production, kt (for Biofuels in millions of li...</td>\n",
       "      <td>2000</td>\n",
       "      <td>585705.5797</td>\n",
       "      <td>6143493.806</td>\n",
       "      <td>3093433.858</td>\n",
       "      <td>3050059.948</td>\n",
       "    </tr>\n",
       "    <tr>\n",
       "      <th>1</th>\n",
       "      <td>World</td>\n",
       "      <td>Wheat</td>\n",
       "      <td>QP</td>\n",
       "      <td>Production</td>\n",
       "      <td>Production, kt (for Biofuels in millions of li...</td>\n",
       "      <td>2001</td>\n",
       "      <td>588610.4753</td>\n",
       "      <td>6222626.531</td>\n",
       "      <td>3133601.761</td>\n",
       "      <td>3089024.770</td>\n",
       "    </tr>\n",
       "    <tr>\n",
       "      <th>2</th>\n",
       "      <td>World</td>\n",
       "      <td>Wheat</td>\n",
       "      <td>QP</td>\n",
       "      <td>Production</td>\n",
       "      <td>Production, kt (for Biofuels in millions of li...</td>\n",
       "      <td>2002</td>\n",
       "      <td>573497.6130</td>\n",
       "      <td>6301773.172</td>\n",
       "      <td>3173900.449</td>\n",
       "      <td>3127872.723</td>\n",
       "    </tr>\n",
       "    <tr>\n",
       "      <th>3</th>\n",
       "      <td>World</td>\n",
       "      <td>Wheat</td>\n",
       "      <td>QP</td>\n",
       "      <td>Production</td>\n",
       "      <td>Production, kt (for Biofuels in millions of li...</td>\n",
       "      <td>2003</td>\n",
       "      <td>560270.5304</td>\n",
       "      <td>6381185.141</td>\n",
       "      <td>3214422.031</td>\n",
       "      <td>3166763.110</td>\n",
       "    </tr>\n",
       "    <tr>\n",
       "      <th>4</th>\n",
       "      <td>World</td>\n",
       "      <td>Wheat</td>\n",
       "      <td>QP</td>\n",
       "      <td>Production</td>\n",
       "      <td>Production, kt (for Biofuels in millions of li...</td>\n",
       "      <td>2004</td>\n",
       "      <td>631341.5297</td>\n",
       "      <td>6461159.391</td>\n",
       "      <td>3255262.626</td>\n",
       "      <td>3205896.765</td>\n",
       "    </tr>\n",
       "  </tbody>\n",
       "</table>\n",
       "</div>"
      ],
      "text/plain": [
       "  Country Commodity Var_abbr    Var_mean  \\\n",
       "0   World     Wheat       QP  Production   \n",
       "1   World     Wheat       QP  Production   \n",
       "2   World     Wheat       QP  Production   \n",
       "3   World     Wheat       QP  Production   \n",
       "4   World     Wheat       QP  Production   \n",
       "\n",
       "                                            Var_expl  Time        Value  \\\n",
       "0  Production, kt (for Biofuels in millions of li...  2000  585705.5797   \n",
       "1  Production, kt (for Biofuels in millions of li...  2001  588610.4753   \n",
       "2  Production, kt (for Biofuels in millions of li...  2002  573497.6130   \n",
       "3  Production, kt (for Biofuels in millions of li...  2003  560270.5304   \n",
       "4  Production, kt (for Biofuels in millions of li...  2004  631341.5297   \n",
       "\n",
       "      PopTotal      PopMale    PopFemale  \n",
       "0  6143493.806  3093433.858  3050059.948  \n",
       "1  6222626.531  3133601.761  3089024.770  \n",
       "2  6301773.172  3173900.449  3127872.723  \n",
       "3  6381185.141  3214422.031  3166763.110  \n",
       "4  6461159.391  3255262.626  3205896.765  "
      ]
     },
     "execution_count": 177,
     "metadata": {},
     "output_type": "execute_result"
    }
   ],
   "source": [
    "Data_World.head(5)"
   ]
  },
  {
   "cell_type": "markdown",
   "metadata": {},
   "source": [
    "#### Creating Country_Only Dataset from wa as wa1"
   ]
  },
  {
   "cell_type": "code",
   "execution_count": 178,
   "metadata": {},
   "outputs": [],
   "source": [
    "wa = wa.set_index(\"Country\")"
   ]
  },
  {
   "cell_type": "code",
   "execution_count": 179,
   "metadata": {},
   "outputs": [
    {
     "data": {
      "text/plain": [
       "Index(['Commodity', 'Var_abbr', 'Var_mean', 'Var_expl', 'Time', 'Value',\n",
       "       'PopTotal', 'PopMale', 'PopFemale'],\n",
       "      dtype='object')"
      ]
     },
     "execution_count": 179,
     "metadata": {},
     "output_type": "execute_result"
    }
   ],
   "source": [
    "wa.columns"
   ]
  },
  {
   "cell_type": "code",
   "execution_count": 180,
   "metadata": {},
   "outputs": [],
   "source": [
    "wa1 = wa.copy()"
   ]
  },
  {
   "cell_type": "code",
   "execution_count": 181,
   "metadata": {},
   "outputs": [
    {
     "data": {
      "text/plain": [
       "['World',\n",
       " 'OECD',\n",
       " 'Developed',\n",
       " 'Developing',\n",
       " 'Least Developed Countries',\n",
       " 'European Union-27',\n",
       " 'EUROPE',\n",
       " 'AFRICA',\n",
       " 'LATIN AMERICA AND CARIBBEAN',\n",
       " 'ASIA']"
      ]
     },
     "execution_count": 181,
     "metadata": {},
     "output_type": "execute_result"
    }
   ],
   "source": [
    "wa_org_list"
   ]
  },
  {
   "cell_type": "code",
   "execution_count": 182,
   "metadata": {},
   "outputs": [],
   "source": [
    "wa1.drop(index=wa_org_list, inplace=True)"
   ]
  },
  {
   "cell_type": "code",
   "execution_count": 183,
   "metadata": {},
   "outputs": [
    {
     "data": {
      "text/html": [
       "<div>\n",
       "<style scoped>\n",
       "    .dataframe tbody tr th:only-of-type {\n",
       "        vertical-align: middle;\n",
       "    }\n",
       "\n",
       "    .dataframe tbody tr th {\n",
       "        vertical-align: top;\n",
       "    }\n",
       "\n",
       "    .dataframe thead th {\n",
       "        text-align: right;\n",
       "    }\n",
       "</style>\n",
       "<table border=\"1\" class=\"dataframe\">\n",
       "  <thead>\n",
       "    <tr style=\"text-align: right;\">\n",
       "      <th></th>\n",
       "      <th>Commodity</th>\n",
       "      <th>Var_abbr</th>\n",
       "      <th>Var_mean</th>\n",
       "      <th>Var_expl</th>\n",
       "      <th>Time</th>\n",
       "      <th>Value</th>\n",
       "      <th>PopTotal</th>\n",
       "      <th>PopMale</th>\n",
       "      <th>PopFemale</th>\n",
       "    </tr>\n",
       "    <tr>\n",
       "      <th>Country</th>\n",
       "      <th></th>\n",
       "      <th></th>\n",
       "      <th></th>\n",
       "      <th></th>\n",
       "      <th></th>\n",
       "      <th></th>\n",
       "      <th></th>\n",
       "      <th></th>\n",
       "      <th></th>\n",
       "    </tr>\n",
       "  </thead>\n",
       "  <tbody>\n",
       "    <tr>\n",
       "      <th>Japan</th>\n",
       "      <td>Vegetable oils</td>\n",
       "      <td>QP</td>\n",
       "      <td>Production</td>\n",
       "      <td>Production, kt (for Biofuels in millions of li...</td>\n",
       "      <td>2017</td>\n",
       "      <td>1440.273359</td>\n",
       "      <td>127502.728</td>\n",
       "      <td>62282.219</td>\n",
       "      <td>65220.509</td>\n",
       "    </tr>\n",
       "    <tr>\n",
       "      <th>Peru</th>\n",
       "      <td>Skim milk powder (pw)</td>\n",
       "      <td>EX</td>\n",
       "      <td>Exports</td>\n",
       "      <td>Exports, kt (for Biofuels in millions of litres)</td>\n",
       "      <td>2009</td>\n",
       "      <td>0.033000</td>\n",
       "      <td>28792.663</td>\n",
       "      <td>14361.216</td>\n",
       "      <td>14431.447</td>\n",
       "    </tr>\n",
       "    <tr>\n",
       "      <th>Peru</th>\n",
       "      <td>Coarse grains</td>\n",
       "      <td>NT</td>\n",
       "      <td>Trade_balance</td>\n",
       "      <td>Trade balance, kt (for Biofuels in millions of...</td>\n",
       "      <td>2019</td>\n",
       "      <td>-2782.600350</td>\n",
       "      <td>32510.462</td>\n",
       "      <td>16148.241</td>\n",
       "      <td>16362.221</td>\n",
       "    </tr>\n",
       "    <tr>\n",
       "      <th>Turkey</th>\n",
       "      <td>Protein meals</td>\n",
       "      <td>NT</td>\n",
       "      <td>Trade_balance</td>\n",
       "      <td>Trade balance, kt (for Biofuels in millions of...</td>\n",
       "      <td>2012</td>\n",
       "      <td>-943.995116</td>\n",
       "      <td>74651.046</td>\n",
       "      <td>36708.592</td>\n",
       "      <td>37942.454</td>\n",
       "    </tr>\n",
       "    <tr>\n",
       "      <th>Uruguay</th>\n",
       "      <td>Sheepmeat(cwe)</td>\n",
       "      <td>EX</td>\n",
       "      <td>Exports</td>\n",
       "      <td>Exports, kt (for Biofuels in millions of litres)</td>\n",
       "      <td>2010</td>\n",
       "      <td>15.183343</td>\n",
       "      <td>3359.273</td>\n",
       "      <td>1618.886</td>\n",
       "      <td>1740.387</td>\n",
       "    </tr>\n",
       "  </tbody>\n",
       "</table>\n",
       "</div>"
      ],
      "text/plain": [
       "                     Commodity Var_abbr       Var_mean  \\\n",
       "Country                                                  \n",
       "Japan           Vegetable oils       QP     Production   \n",
       "Peru     Skim milk powder (pw)       EX        Exports   \n",
       "Peru             Coarse grains       NT  Trade_balance   \n",
       "Turkey           Protein meals       NT  Trade_balance   \n",
       "Uruguay         Sheepmeat(cwe)       EX        Exports   \n",
       "\n",
       "                                                  Var_expl  Time        Value  \\\n",
       "Country                                                                         \n",
       "Japan    Production, kt (for Biofuels in millions of li...  2017  1440.273359   \n",
       "Peru      Exports, kt (for Biofuels in millions of litres)  2009     0.033000   \n",
       "Peru     Trade balance, kt (for Biofuels in millions of...  2019 -2782.600350   \n",
       "Turkey   Trade balance, kt (for Biofuels in millions of...  2012  -943.995116   \n",
       "Uruguay   Exports, kt (for Biofuels in millions of litres)  2010    15.183343   \n",
       "\n",
       "           PopTotal    PopMale  PopFemale  \n",
       "Country                                    \n",
       "Japan    127502.728  62282.219  65220.509  \n",
       "Peru      28792.663  14361.216  14431.447  \n",
       "Peru      32510.462  16148.241  16362.221  \n",
       "Turkey    74651.046  36708.592  37942.454  \n",
       "Uruguay    3359.273   1618.886   1740.387  "
      ]
     },
     "execution_count": 183,
     "metadata": {},
     "output_type": "execute_result"
    }
   ],
   "source": [
    "wa1.sample(5)"
   ]
  },
  {
   "cell_type": "code",
   "execution_count": 184,
   "metadata": {},
   "outputs": [],
   "source": [
    "wa1.reset_index(inplace=True)"
   ]
  },
  {
   "cell_type": "code",
   "execution_count": 185,
   "metadata": {},
   "outputs": [
    {
     "data": {
      "text/html": [
       "<div>\n",
       "<style scoped>\n",
       "    .dataframe tbody tr th:only-of-type {\n",
       "        vertical-align: middle;\n",
       "    }\n",
       "\n",
       "    .dataframe tbody tr th {\n",
       "        vertical-align: top;\n",
       "    }\n",
       "\n",
       "    .dataframe thead th {\n",
       "        text-align: right;\n",
       "    }\n",
       "</style>\n",
       "<table border=\"1\" class=\"dataframe\">\n",
       "  <thead>\n",
       "    <tr style=\"text-align: right;\">\n",
       "      <th></th>\n",
       "      <th>Country</th>\n",
       "      <th>Commodity</th>\n",
       "      <th>Var_abbr</th>\n",
       "      <th>Var_mean</th>\n",
       "      <th>Var_expl</th>\n",
       "      <th>Time</th>\n",
       "      <th>Value</th>\n",
       "      <th>PopTotal</th>\n",
       "      <th>PopMale</th>\n",
       "      <th>PopFemale</th>\n",
       "    </tr>\n",
       "  </thead>\n",
       "  <tbody>\n",
       "    <tr>\n",
       "      <th>0</th>\n",
       "      <td>Australia</td>\n",
       "      <td>Wheat</td>\n",
       "      <td>QP</td>\n",
       "      <td>Production</td>\n",
       "      <td>Production, kt (for Biofuels in millions of li...</td>\n",
       "      <td>2000</td>\n",
       "      <td>22108.0</td>\n",
       "      <td>18991.434</td>\n",
       "      <td>9473.544</td>\n",
       "      <td>9517.890</td>\n",
       "    </tr>\n",
       "    <tr>\n",
       "      <th>1</th>\n",
       "      <td>Australia</td>\n",
       "      <td>Wheat</td>\n",
       "      <td>QP</td>\n",
       "      <td>Production</td>\n",
       "      <td>Production, kt (for Biofuels in millions of li...</td>\n",
       "      <td>2001</td>\n",
       "      <td>24298.0</td>\n",
       "      <td>19194.676</td>\n",
       "      <td>9577.028</td>\n",
       "      <td>9617.648</td>\n",
       "    </tr>\n",
       "    <tr>\n",
       "      <th>2</th>\n",
       "      <td>Australia</td>\n",
       "      <td>Wheat</td>\n",
       "      <td>QP</td>\n",
       "      <td>Production</td>\n",
       "      <td>Production, kt (for Biofuels in millions of li...</td>\n",
       "      <td>2002</td>\n",
       "      <td>10132.0</td>\n",
       "      <td>19401.366</td>\n",
       "      <td>9680.332</td>\n",
       "      <td>9721.034</td>\n",
       "    </tr>\n",
       "  </tbody>\n",
       "</table>\n",
       "</div>"
      ],
      "text/plain": [
       "     Country Commodity Var_abbr    Var_mean  \\\n",
       "0  Australia     Wheat       QP  Production   \n",
       "1  Australia     Wheat       QP  Production   \n",
       "2  Australia     Wheat       QP  Production   \n",
       "\n",
       "                                            Var_expl  Time    Value  \\\n",
       "0  Production, kt (for Biofuels in millions of li...  2000  22108.0   \n",
       "1  Production, kt (for Biofuels in millions of li...  2001  24298.0   \n",
       "2  Production, kt (for Biofuels in millions of li...  2002  10132.0   \n",
       "\n",
       "    PopTotal   PopMale  PopFemale  \n",
       "0  18991.434  9473.544   9517.890  \n",
       "1  19194.676  9577.028   9617.648  \n",
       "2  19401.366  9680.332   9721.034  "
      ]
     },
     "execution_count": 185,
     "metadata": {},
     "output_type": "execute_result"
    }
   ],
   "source": [
    "wa1.head(3)"
   ]
  },
  {
   "cell_type": "code",
   "execution_count": 186,
   "metadata": {},
   "outputs": [],
   "source": [
    "wa.reset_index(inplace=True)"
   ]
  },
  {
   "cell_type": "code",
   "execution_count": 187,
   "metadata": {},
   "outputs": [
    {
     "data": {
      "text/html": [
       "<div>\n",
       "<style scoped>\n",
       "    .dataframe tbody tr th:only-of-type {\n",
       "        vertical-align: middle;\n",
       "    }\n",
       "\n",
       "    .dataframe tbody tr th {\n",
       "        vertical-align: top;\n",
       "    }\n",
       "\n",
       "    .dataframe thead th {\n",
       "        text-align: right;\n",
       "    }\n",
       "</style>\n",
       "<table border=\"1\" class=\"dataframe\">\n",
       "  <thead>\n",
       "    <tr style=\"text-align: right;\">\n",
       "      <th></th>\n",
       "      <th>Country</th>\n",
       "      <th>Commodity</th>\n",
       "      <th>Var_abbr</th>\n",
       "      <th>Var_mean</th>\n",
       "      <th>Var_expl</th>\n",
       "      <th>Time</th>\n",
       "      <th>Value</th>\n",
       "      <th>PopTotal</th>\n",
       "      <th>PopMale</th>\n",
       "      <th>PopFemale</th>\n",
       "    </tr>\n",
       "  </thead>\n",
       "  <tbody>\n",
       "    <tr>\n",
       "      <th>0</th>\n",
       "      <td>World</td>\n",
       "      <td>Wheat</td>\n",
       "      <td>QP</td>\n",
       "      <td>Production</td>\n",
       "      <td>Production, kt (for Biofuels in millions of li...</td>\n",
       "      <td>2000</td>\n",
       "      <td>585705.5797</td>\n",
       "      <td>6143493.806</td>\n",
       "      <td>3093433.858</td>\n",
       "      <td>3050059.948</td>\n",
       "    </tr>\n",
       "    <tr>\n",
       "      <th>1</th>\n",
       "      <td>World</td>\n",
       "      <td>Wheat</td>\n",
       "      <td>QP</td>\n",
       "      <td>Production</td>\n",
       "      <td>Production, kt (for Biofuels in millions of li...</td>\n",
       "      <td>2001</td>\n",
       "      <td>588610.4753</td>\n",
       "      <td>6222626.531</td>\n",
       "      <td>3133601.761</td>\n",
       "      <td>3089024.770</td>\n",
       "    </tr>\n",
       "    <tr>\n",
       "      <th>2</th>\n",
       "      <td>World</td>\n",
       "      <td>Wheat</td>\n",
       "      <td>QP</td>\n",
       "      <td>Production</td>\n",
       "      <td>Production, kt (for Biofuels in millions of li...</td>\n",
       "      <td>2002</td>\n",
       "      <td>573497.6130</td>\n",
       "      <td>6301773.172</td>\n",
       "      <td>3173900.449</td>\n",
       "      <td>3127872.723</td>\n",
       "    </tr>\n",
       "  </tbody>\n",
       "</table>\n",
       "</div>"
      ],
      "text/plain": [
       "  Country Commodity Var_abbr    Var_mean  \\\n",
       "0   World     Wheat       QP  Production   \n",
       "1   World     Wheat       QP  Production   \n",
       "2   World     Wheat       QP  Production   \n",
       "\n",
       "                                            Var_expl  Time        Value  \\\n",
       "0  Production, kt (for Biofuels in millions of li...  2000  585705.5797   \n",
       "1  Production, kt (for Biofuels in millions of li...  2001  588610.4753   \n",
       "2  Production, kt (for Biofuels in millions of li...  2002  573497.6130   \n",
       "\n",
       "      PopTotal      PopMale    PopFemale  \n",
       "0  6143493.806  3093433.858  3050059.948  \n",
       "1  6222626.531  3133601.761  3089024.770  \n",
       "2  6301773.172  3173900.449  3127872.723  "
      ]
     },
     "execution_count": 187,
     "metadata": {},
     "output_type": "execute_result"
    }
   ],
   "source": [
    "wa.head(3)"
   ]
  },
  {
   "cell_type": "code",
   "execution_count": 188,
   "metadata": {},
   "outputs": [
    {
     "data": {
      "text/html": [
       "<div>\n",
       "<style scoped>\n",
       "    .dataframe tbody tr th:only-of-type {\n",
       "        vertical-align: middle;\n",
       "    }\n",
       "\n",
       "    .dataframe tbody tr th {\n",
       "        vertical-align: top;\n",
       "    }\n",
       "\n",
       "    .dataframe thead th {\n",
       "        text-align: right;\n",
       "    }\n",
       "</style>\n",
       "<table border=\"1\" class=\"dataframe\">\n",
       "  <thead>\n",
       "    <tr style=\"text-align: right;\">\n",
       "      <th></th>\n",
       "      <th>Country</th>\n",
       "      <th>Commodity</th>\n",
       "      <th>Var_abbr</th>\n",
       "      <th>Var_mean</th>\n",
       "      <th>Var_expl</th>\n",
       "      <th>Time</th>\n",
       "      <th>Value</th>\n",
       "      <th>PopTotal</th>\n",
       "      <th>PopMale</th>\n",
       "      <th>PopFemale</th>\n",
       "    </tr>\n",
       "  </thead>\n",
       "  <tbody>\n",
       "    <tr>\n",
       "      <th>0</th>\n",
       "      <td>Australia</td>\n",
       "      <td>Wheat</td>\n",
       "      <td>QP</td>\n",
       "      <td>Production</td>\n",
       "      <td>Production, kt (for Biofuels in millions of li...</td>\n",
       "      <td>2000</td>\n",
       "      <td>22108.0</td>\n",
       "      <td>18991.434</td>\n",
       "      <td>9473.544</td>\n",
       "      <td>9517.890</td>\n",
       "    </tr>\n",
       "    <tr>\n",
       "      <th>1</th>\n",
       "      <td>Australia</td>\n",
       "      <td>Wheat</td>\n",
       "      <td>QP</td>\n",
       "      <td>Production</td>\n",
       "      <td>Production, kt (for Biofuels in millions of li...</td>\n",
       "      <td>2001</td>\n",
       "      <td>24298.0</td>\n",
       "      <td>19194.676</td>\n",
       "      <td>9577.028</td>\n",
       "      <td>9617.648</td>\n",
       "    </tr>\n",
       "    <tr>\n",
       "      <th>2</th>\n",
       "      <td>Australia</td>\n",
       "      <td>Wheat</td>\n",
       "      <td>QP</td>\n",
       "      <td>Production</td>\n",
       "      <td>Production, kt (for Biofuels in millions of li...</td>\n",
       "      <td>2002</td>\n",
       "      <td>10132.0</td>\n",
       "      <td>19401.366</td>\n",
       "      <td>9680.332</td>\n",
       "      <td>9721.034</td>\n",
       "    </tr>\n",
       "  </tbody>\n",
       "</table>\n",
       "</div>"
      ],
      "text/plain": [
       "     Country Commodity Var_abbr    Var_mean  \\\n",
       "0  Australia     Wheat       QP  Production   \n",
       "1  Australia     Wheat       QP  Production   \n",
       "2  Australia     Wheat       QP  Production   \n",
       "\n",
       "                                            Var_expl  Time    Value  \\\n",
       "0  Production, kt (for Biofuels in millions of li...  2000  22108.0   \n",
       "1  Production, kt (for Biofuels in millions of li...  2001  24298.0   \n",
       "2  Production, kt (for Biofuels in millions of li...  2002  10132.0   \n",
       "\n",
       "    PopTotal   PopMale  PopFemale  \n",
       "0  18991.434  9473.544   9517.890  \n",
       "1  19194.676  9577.028   9617.648  \n",
       "2  19401.366  9680.332   9721.034  "
      ]
     },
     "execution_count": 188,
     "metadata": {},
     "output_type": "execute_result"
    }
   ],
   "source": [
    "wa1[wa1[\"Country\"]==\"Australia\"].head(3)"
   ]
  },
  {
   "cell_type": "code",
   "execution_count": 189,
   "metadata": {},
   "outputs": [
    {
     "data": {
      "text/html": [
       "<div>\n",
       "<style scoped>\n",
       "    .dataframe tbody tr th:only-of-type {\n",
       "        vertical-align: middle;\n",
       "    }\n",
       "\n",
       "    .dataframe tbody tr th {\n",
       "        vertical-align: top;\n",
       "    }\n",
       "\n",
       "    .dataframe thead th {\n",
       "        text-align: right;\n",
       "    }\n",
       "</style>\n",
       "<table border=\"1\" class=\"dataframe\">\n",
       "  <thead>\n",
       "    <tr style=\"text-align: right;\">\n",
       "      <th></th>\n",
       "      <th>Country</th>\n",
       "      <th>Commodity</th>\n",
       "      <th>Var_abbr</th>\n",
       "      <th>Var_mean</th>\n",
       "      <th>Var_expl</th>\n",
       "      <th>Time</th>\n",
       "      <th>Value</th>\n",
       "      <th>PopTotal</th>\n",
       "      <th>PopMale</th>\n",
       "      <th>PopFemale</th>\n",
       "    </tr>\n",
       "  </thead>\n",
       "  <tbody>\n",
       "  </tbody>\n",
       "</table>\n",
       "</div>"
      ],
      "text/plain": [
       "Empty DataFrame\n",
       "Columns: [Country, Commodity, Var_abbr, Var_mean, Var_expl, Time, Value, PopTotal, PopMale, PopFemale]\n",
       "Index: []"
      ]
     },
     "execution_count": 189,
     "metadata": {},
     "output_type": "execute_result"
    }
   ],
   "source": [
    "wa1[wa1[\"Country\"]==(\"World\", \"OECD\", \"Developed\")].head(3)"
   ]
  },
  {
   "cell_type": "markdown",
   "metadata": {},
   "source": [
    "#### Download the last versions of wa & wa1 & wp & wp1 & cy"
   ]
  },
  {
   "cell_type": "code",
   "execution_count": 190,
   "metadata": {},
   "outputs": [],
   "source": [
    "wa.to_csv(\"wa_for_visualization.csv\")\n",
    "wa1.to_csv(\"wa1_for_visualization.csv\")\n",
    "wp.to_csv(\"wp_for_visualization.csv\")\n",
    "wp1.to_csv(\"wp1_for_visualization.csv\")\n",
    "cy.to_csv(\"cy_for_visualization.csv\")"
   ]
  },
  {
   "cell_type": "markdown",
   "metadata": {},
   "source": [
    "#### Useful Codes"
   ]
  },
  {
   "cell_type": "code",
   "execution_count": 191,
   "metadata": {},
   "outputs": [
    {
     "ename": "SyntaxError",
     "evalue": "unexpected EOF while parsing (4116460616.py, line 1)",
     "output_type": "error",
     "traceback": [
      "\u001b[1;36m  Input \u001b[1;32mIn [191]\u001b[1;36m\u001b[0m\n\u001b[1;33m    df['IQR'] = df.groupby([\"Country\", \"Commodity\", \"VARIABLE\"])['Value'].agg(i\u001b[0m\n\u001b[1;37m                                                                               ^\u001b[0m\n\u001b[1;31mSyntaxError\u001b[0m\u001b[1;31m:\u001b[0m unexpected EOF while parsing\n"
     ]
    }
   ],
   "source": [
    "df['IQR'] = df.groupby([\"Country\", \"Commodity\", \"VARIABLE\"])['Value'].agg(iqr)"
   ]
  },
  {
   "cell_type": "code",
   "execution_count": null,
   "metadata": {},
   "outputs": [
    {
     "data": {
      "text/plain": [
       "<pandas.core.groupby.generic.SeriesGroupBy object at 0x000002AD20A83700>"
      ]
     },
     "metadata": {},
     "output_type": "display_data"
    }
   ],
   "source": [
    "([\"sum\",\"mean\",\"median\",\"mode\",\"max\",\"min\",\"std\",\"var\",\"\",\"\"])."
   ]
  },
  {
   "cell_type": "code",
   "execution_count": null,
   "metadata": {},
   "outputs": [
    {
     "data": {
      "text/plain": [
       "884"
      ]
     },
     "execution_count": 49,
     "metadata": {},
     "output_type": "execute_result"
    }
   ],
   "source": [
    "wp.Location.isin(Out_Cntry_List).sum()"
   ]
  },
  {
   "cell_type": "code",
   "execution_count": null,
   "metadata": {},
   "outputs": [],
   "source": [
    "Q1 = np.quantile(df.Value, 0.25)\n",
    "Q3 = np.quantile(df.Value, 0.75)\n",
    "IQR = Q3-Q1\n",
    "Q0 = Q1 - (IQR*1.5)\n",
    "Q4 = Q3 + (IQR*1.5)"
   ]
  },
  {
   "cell_type": "code",
   "execution_count": null,
   "metadata": {},
   "outputs": [],
   "source": [
    "wa_country_list = [s.strip() for s in list(cy.wa_country.unique())]"
   ]
  },
  {
   "cell_type": "code",
   "execution_count": null,
   "metadata": {},
   "outputs": [],
   "source": [
    "country_list_wp = [s.strip() for s in list(cy.Country_wp.unique())]"
   ]
  },
  {
   "cell_type": "code",
   "execution_count": null,
   "metadata": {},
   "outputs": [],
   "source": [
    "df['column name'] = df['column name'].fillna(0).astype(np.int64)"
   ]
  },
  {
   "cell_type": "code",
   "execution_count": null,
   "metadata": {},
   "outputs": [],
   "source": [
    "cy.years = pd.to_numeric(cy.years,errors='coerce')"
   ]
  },
  {
   "cell_type": "code",
   "execution_count": null,
   "metadata": {},
   "outputs": [],
   "source": [
    "cy.years.round(0).astype(int)"
   ]
  },
  {
   "cell_type": "code",
   "execution_count": null,
   "metadata": {},
   "outputs": [],
   "source": []
  }
 ],
 "metadata": {
  "kernelspec": {
   "display_name": "Python 3.9.7 64-bit",
   "language": "python",
   "name": "python3"
  },
  "language_info": {
   "codemirror_mode": {
    "name": "ipython",
    "version": 3
   },
   "file_extension": ".py",
   "mimetype": "text/x-python",
   "name": "python",
   "nbconvert_exporter": "python",
   "pygments_lexer": "ipython3",
   "version": "3.9.7"
  },
  "orig_nbformat": 4,
  "vscode": {
   "interpreter": {
    "hash": "78d5379cc5a4e608d385c34b2eb3bb89eeab02a92c9e7d486e469b4c860ee8ca"
   }
  }
 },
 "nbformat": 4,
 "nbformat_minor": 2
}
