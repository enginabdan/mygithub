{
 "cells": [
  {
   "cell_type": "markdown",
   "metadata": {},
   "source": [
    "# Assignment-3 RNN (LSTM-Time Series)"
   ]
  },
  {
   "cell_type": "code",
   "execution_count": 60,
   "metadata": {},
   "outputs": [],
   "source": [
    "import numpy as np\n",
    "import pandas as pd\n",
    "import seaborn as sns\n",
    "import matplotlib.pyplot as plt\n",
    "\n",
    "%matplotlib inline\n",
    "# %matplotlib notebook\n",
    "plt.rcParams[\"figure.figsize\"] = (10,6)\n",
    "# plt.rcParams['figure.dpi'] = 100\n",
    "sns.set_style(\"whitegrid\")\n",
    "import warnings\n",
    "warnings.filterwarnings(\"ignore\")\n",
    "warnings.warn(\"this will not show\")\n",
    "pd.set_option('display.float_format', lambda x: '%.3f' % x)"
   ]
  },
  {
   "cell_type": "markdown",
   "metadata": {},
   "source": [
    "## Data\n",
    "\n",
    "Info about this data set: https://fred.stlouisfed.org/series/IPN31152N\n",
    "\n",
    "\n",
    "Units:  Index 2012=100, Not Seasonally Adjusted\n",
    "\n",
    "Frequency:  Monthly\n",
    "\n",
    "The industrial production (IP) index measures the real output of all relevant establishments located in the United States, regardless of their ownership, but not those located in U.S. territories.\n",
    "\n",
    "NAICS = 31152\n",
    "\n",
    "Source Code: IP.N31152.N\n",
    "\n",
    "Suggested Citation:\n",
    "Board of Governors of the Federal Reserve System (US), Industrial Production: Nondurable Goods: Ice cream and frozen dessert [IPN31152N], retrieved from FRED, Federal Reserve Bank of St. Louis; https://fred.stlouisfed.org/series/IPN31152N, November 16, 2019."
   ]
  },
  {
   "cell_type": "code",
   "execution_count": 61,
   "metadata": {},
   "outputs": [],
   "source": [
    "df = pd.read_csv('Frozen_Dessert_Production.csv',\n",
    "                 index_col='DATE',\n",
    "                 parse_dates=True\n",
    "                )"
   ]
  },
  {
   "cell_type": "code",
   "execution_count": 62,
   "metadata": {},
   "outputs": [
    {
     "data": {
      "text/html": [
       "<div>\n",
       "<style scoped>\n",
       "    .dataframe tbody tr th:only-of-type {\n",
       "        vertical-align: middle;\n",
       "    }\n",
       "\n",
       "    .dataframe tbody tr th {\n",
       "        vertical-align: top;\n",
       "    }\n",
       "\n",
       "    .dataframe thead th {\n",
       "        text-align: right;\n",
       "    }\n",
       "</style>\n",
       "<table border=\"1\" class=\"dataframe\">\n",
       "  <thead>\n",
       "    <tr style=\"text-align: right;\">\n",
       "      <th></th>\n",
       "      <th>IPN31152N</th>\n",
       "    </tr>\n",
       "    <tr>\n",
       "      <th>DATE</th>\n",
       "      <th></th>\n",
       "    </tr>\n",
       "  </thead>\n",
       "  <tbody>\n",
       "    <tr>\n",
       "      <th>1972-01-01</th>\n",
       "      <td>59.962</td>\n",
       "    </tr>\n",
       "    <tr>\n",
       "      <th>1972-02-01</th>\n",
       "      <td>67.061</td>\n",
       "    </tr>\n",
       "    <tr>\n",
       "      <th>1972-03-01</th>\n",
       "      <td>74.235</td>\n",
       "    </tr>\n",
       "    <tr>\n",
       "      <th>1972-04-01</th>\n",
       "      <td>78.112</td>\n",
       "    </tr>\n",
       "    <tr>\n",
       "      <th>1972-05-01</th>\n",
       "      <td>84.764</td>\n",
       "    </tr>\n",
       "  </tbody>\n",
       "</table>\n",
       "</div>"
      ],
      "text/plain": [
       "            IPN31152N\n",
       "DATE                 \n",
       "1972-01-01     59.962\n",
       "1972-02-01     67.061\n",
       "1972-03-01     74.235\n",
       "1972-04-01     78.112\n",
       "1972-05-01     84.764"
      ]
     },
     "execution_count": 62,
     "metadata": {},
     "output_type": "execute_result"
    }
   ],
   "source": [
    "df.head()"
   ]
  },
  {
   "cell_type": "code",
   "execution_count": 63,
   "metadata": {},
   "outputs": [
    {
     "name": "stdout",
     "output_type": "stream",
     "text": [
      "<class 'pandas.core.frame.DataFrame'>\n",
      "DatetimeIndex: 573 entries, 1972-01-01 to 2019-09-01\n",
      "Data columns (total 1 columns):\n",
      " #   Column     Non-Null Count  Dtype  \n",
      "---  ------     --------------  -----  \n",
      " 0   IPN31152N  573 non-null    float64\n",
      "dtypes: float64(1)\n",
      "memory usage: 9.0 KB\n"
     ]
    }
   ],
   "source": [
    "df.info()"
   ]
  },
  {
   "cell_type": "code",
   "execution_count": 64,
   "metadata": {},
   "outputs": [],
   "source": [
    "df.columns = ['Production']"
   ]
  },
  {
   "cell_type": "code",
   "execution_count": 65,
   "metadata": {},
   "outputs": [
    {
     "data": {
      "text/html": [
       "<div>\n",
       "<style scoped>\n",
       "    .dataframe tbody tr th:only-of-type {\n",
       "        vertical-align: middle;\n",
       "    }\n",
       "\n",
       "    .dataframe tbody tr th {\n",
       "        vertical-align: top;\n",
       "    }\n",
       "\n",
       "    .dataframe thead th {\n",
       "        text-align: right;\n",
       "    }\n",
       "</style>\n",
       "<table border=\"1\" class=\"dataframe\">\n",
       "  <thead>\n",
       "    <tr style=\"text-align: right;\">\n",
       "      <th></th>\n",
       "      <th>Production</th>\n",
       "    </tr>\n",
       "    <tr>\n",
       "      <th>DATE</th>\n",
       "      <th></th>\n",
       "    </tr>\n",
       "  </thead>\n",
       "  <tbody>\n",
       "    <tr>\n",
       "      <th>1972-01-01</th>\n",
       "      <td>59.962</td>\n",
       "    </tr>\n",
       "    <tr>\n",
       "      <th>1972-02-01</th>\n",
       "      <td>67.061</td>\n",
       "    </tr>\n",
       "    <tr>\n",
       "      <th>1972-03-01</th>\n",
       "      <td>74.235</td>\n",
       "    </tr>\n",
       "    <tr>\n",
       "      <th>1972-04-01</th>\n",
       "      <td>78.112</td>\n",
       "    </tr>\n",
       "    <tr>\n",
       "      <th>1972-05-01</th>\n",
       "      <td>84.764</td>\n",
       "    </tr>\n",
       "  </tbody>\n",
       "</table>\n",
       "</div>"
      ],
      "text/plain": [
       "            Production\n",
       "DATE                  \n",
       "1972-01-01      59.962\n",
       "1972-02-01      67.061\n",
       "1972-03-01      74.235\n",
       "1972-04-01      78.112\n",
       "1972-05-01      84.764"
      ]
     },
     "execution_count": 65,
     "metadata": {},
     "output_type": "execute_result"
    }
   ],
   "source": [
    "df.head()"
   ]
  },
  {
   "cell_type": "code",
   "execution_count": 66,
   "metadata": {},
   "outputs": [
    {
     "data": {
      "text/plain": [
       "<AxesSubplot:xlabel='DATE'>"
      ]
     },
     "execution_count": 66,
     "metadata": {},
     "output_type": "execute_result"
    },
    {
     "data": {
      "image/png": "[encoded data removed]",
      "text/plain": [
       "<Figure size 1152x576 with 1 Axes>"
      ]
     },
     "metadata": {},
     "output_type": "display_data"
    }
   ],
   "source": [
    "df.plot(figsize=(16,8))"
   ]
  },
  {
   "cell_type": "markdown",
   "metadata": {},
   "source": [
    "## Preprocessing of Data"
   ]
  },
  {
   "cell_type": "markdown",
   "metadata": {},
   "source": [
    "### Train Test Split"
   ]
  },
  {
   "cell_type": "code",
   "execution_count": 67,
   "metadata": {},
   "outputs": [],
   "source": [
    "test_size = 20"
   ]
  },
  {
   "cell_type": "code",
   "execution_count": 68,
   "metadata": {},
   "outputs": [],
   "source": [
    "test_ind = len(df)- test_size"
   ]
  },
  {
   "cell_type": "code",
   "execution_count": 69,
   "metadata": {},
   "outputs": [],
   "source": [
    "train = df.iloc[:test_ind]\n",
    "test = df.iloc[test_ind:]"
   ]
  },
  {
   "cell_type": "markdown",
   "metadata": {},
   "source": [
    "### Scaling"
   ]
  },
  {
   "cell_type": "code",
   "execution_count": 70,
   "metadata": {},
   "outputs": [],
   "source": [
    "from sklearn.preprocessing import MinMaxScaler"
   ]
  },
  {
   "cell_type": "code",
   "execution_count": 71,
   "metadata": {},
   "outputs": [],
   "source": [
    "scaler = MinMaxScaler()"
   ]
  },
  {
   "cell_type": "code",
   "execution_count": 72,
   "metadata": {},
   "outputs": [],
   "source": [
    "train_scaled = scaler.fit_transform(train)\n",
    "test_scaled = scaler.transform(test)"
   ]
  },
  {
   "cell_type": "markdown",
   "metadata": {},
   "source": [
    "## Time Series Generator"
   ]
  },
  {
   "cell_type": "code",
   "execution_count": 73,
   "metadata": {},
   "outputs": [],
   "source": [
    "from tensorflow.keras.preprocessing.sequence import TimeseriesGenerator"
   ]
  },
  {
   "cell_type": "code",
   "execution_count": 74,
   "metadata": {},
   "outputs": [],
   "source": [
    "# help(TimeseriesGenerator)"
   ]
  },
  {
   "cell_type": "code",
   "execution_count": 75,
   "metadata": {},
   "outputs": [],
   "source": [
    "length = 12\n",
    "generator = TimeseriesGenerator(train_scaled, train_scaled, length = length, batch_size = 1)"
   ]
  },
  {
   "cell_type": "code",
   "execution_count": 76,
   "metadata": {},
   "outputs": [],
   "source": [
    "X, y = generator[0]"
   ]
  },
  {
   "cell_type": "code",
   "execution_count": 77,
   "metadata": {},
   "outputs": [
    {
     "name": "stdout",
     "output_type": "stream",
     "text": [
      "Given the Array: \n",
      "[0.00947104 0.06108982 0.11326273 0.14145625 0.18982663 0.30495972\n",
      " 0.30154406 0.27416065 0.19736841 0.08532665 0.01561588 0.        ]\n",
      "Predict this y: \n",
      " [[0.01774221]]\n"
     ]
    }
   ],
   "source": [
    "print(f'Given the Array: \\n{X.flatten()}')\n",
    "print(f'Predict this y: \\n {y}')"
   ]
  },
  {
   "cell_type": "code",
   "execution_count": 78,
   "metadata": {},
   "outputs": [
    {
     "data": {
      "text/plain": [
       "array([[0.00947104],\n",
       "       [0.06108982],\n",
       "       [0.11326273],\n",
       "       [0.14145625],\n",
       "       [0.18982663],\n",
       "       [0.30495972],\n",
       "       [0.30154406],\n",
       "       [0.27416065],\n",
       "       [0.19736841],\n",
       "       [0.08532665],\n",
       "       [0.01561588],\n",
       "       [0.        ],\n",
       "       [0.01774221],\n",
       "       [0.09850931],\n",
       "       [0.15590133],\n",
       "       [0.18358944],\n",
       "       [0.20878908],\n",
       "       [0.37150354],\n",
       "       [0.3542551 ],\n",
       "       [0.29817568],\n",
       "       [0.23973867],\n",
       "       [0.12104304],\n",
       "       [0.05289938],\n",
       "       [0.02087498],\n",
       "       [0.03141355],\n",
       "       [0.12133246],\n",
       "       [0.18622481],\n",
       "       [0.18855185],\n",
       "       [0.23182893],\n",
       "       [0.37263651],\n",
       "       [0.32891584],\n",
       "       [0.30809031],\n",
       "       [0.22409662],\n",
       "       [0.10933731],\n",
       "       [0.05452176],\n",
       "       [0.01749278],\n",
       "       [0.04076752],\n",
       "       [0.12186114],\n",
       "       [0.19277469],\n",
       "       [0.19221257],\n",
       "       [0.28139264],\n",
       "       [0.39898221],\n",
       "       [0.35985962],\n",
       "       [0.3357137 ],\n",
       "       [0.22874706],\n",
       "       [0.12405219],\n",
       "       [0.08404241],\n",
       "       [0.02969736],\n",
       "       [0.02386668],\n",
       "       [0.11198795],\n",
       "       [0.20583228],\n",
       "       [0.22885832],\n",
       "       [0.258115  ],\n",
       "       [0.37353242],\n",
       "       [0.35488703],\n",
       "       [0.32839226],\n",
       "       [0.24418041],\n",
       "       [0.11957773],\n",
       "       [0.06451857],\n",
       "       [0.02780228],\n",
       "       [0.0371497 ],\n",
       "       [0.11927158],\n",
       "       [0.22805913],\n",
       "       [0.24728191],\n",
       "       [0.29422626],\n",
       "       [0.40769115],\n",
       "       [0.39028709],\n",
       "       [0.34726599],\n",
       "       [0.24042588],\n",
       "       [0.12627596],\n",
       "       [0.06351285],\n",
       "       [0.0202285 ],\n",
       "       [0.02347545],\n",
       "       [0.10334519],\n",
       "       [0.1837756 ],\n",
       "       [0.2210642 ],\n",
       "       [0.24573807],\n",
       "       [0.38298674],\n",
       "       [0.35098488],\n",
       "       [0.32746581],\n",
       "       [0.23241214],\n",
       "       [0.14925109],\n",
       "       [0.06708485],\n",
       "       [0.02722198],\n",
       "       [0.03164989],\n",
       "       [0.11112186],\n",
       "       [0.2019265 ],\n",
       "       [0.23665099],\n",
       "       [0.26208914],\n",
       "       [0.37409745],\n",
       "       [0.35265235],\n",
       "       [0.34987663],\n",
       "       [0.26656578],\n",
       "       [0.15226024],\n",
       "       [0.06714158],\n",
       "       [0.03363442],\n",
       "       [0.06052406],\n",
       "       [0.12932729],\n",
       "       [0.19801489],\n",
       "       [0.21334643],\n",
       "       [0.24370918],\n",
       "       [0.36219466],\n",
       "       [0.35788891],\n",
       "       [0.35776456],\n",
       "       [0.23277138],\n",
       "       [0.12775799],\n",
       "       [0.05691861],\n",
       "       [0.03785508],\n",
       "       [0.01381533],\n",
       "       [0.12962762],\n",
       "       [0.20328854],\n",
       "       [0.22088022],\n",
       "       [0.25480042],\n",
       "       [0.37831666],\n",
       "       [0.37904459],\n",
       "       [0.34512729],\n",
       "       [0.23860352],\n",
       "       [0.13282148],\n",
       "       [0.08994218],\n",
       "       [0.05773525],\n",
       "       [0.02483822],\n",
       "       [0.13358431],\n",
       "       [0.21702097],\n",
       "       [0.20059209],\n",
       "       [0.25218323],\n",
       "       [0.35104815],\n",
       "       [0.30896077],\n",
       "       [0.2875462 ],\n",
       "       [0.20017176],\n",
       "       [0.0975465 ],\n",
       "       [0.05358004],\n",
       "       [0.02042848],\n",
       "       [0.03538915],\n",
       "       [0.11420518],\n",
       "       [0.20355324],\n",
       "       [0.18085953],\n",
       "       [0.25954903],\n",
       "       [0.37499118],\n",
       "       [0.35553497],\n",
       "       [0.3391439 ],\n",
       "       [0.27074427],\n",
       "       [0.148385  ],\n",
       "       [0.08505031],\n",
       "       [0.05037236],\n",
       "       [0.06065787],\n",
       "       [0.19601364],\n",
       "       [0.27717707],\n",
       "       [0.31389336],\n",
       "       [0.36123257],\n",
       "       [0.5103535 ],\n",
       "       [0.48335114],\n",
       "       [0.42139813],\n",
       "       [0.35071873],\n",
       "       [0.21527206],\n",
       "       [0.15798912],\n",
       "       [0.11136474],\n",
       "       [0.12736022],\n",
       "       [0.20326527],\n",
       "       [0.30960943],\n",
       "       [0.33601549],\n",
       "       [0.40474599],\n",
       "       [0.52313039],\n",
       "       [0.47891086],\n",
       "       [0.42749206],\n",
       "       [0.33018917],\n",
       "       [0.20046264],\n",
       "       [0.11634751],\n",
       "       [0.08706829],\n",
       "       [0.10924132],\n",
       "       [0.22016465],\n",
       "       [0.30084013],\n",
       "       [0.33190536],\n",
       "       [0.39731693],\n",
       "       [0.4993168 ],\n",
       "       [0.4556863 ],\n",
       "       [0.43936795],\n",
       "       [0.27786718],\n",
       "       [0.20181378],\n",
       "       [0.13316399],\n",
       "       [0.08697739],\n",
       "       [0.11117567],\n",
       "       [0.2609009 ],\n",
       "       [0.32682078],\n",
       "       [0.35021332],\n",
       "       [0.42287143],\n",
       "       [0.53338753],\n",
       "       [0.49991019],\n",
       "       [0.47278857],\n",
       "       [0.34951085],\n",
       "       [0.22357085],\n",
       "       [0.18885364],\n",
       "       [0.15302162],\n",
       "       [0.15446002],\n",
       "       [0.28620889],\n",
       "       [0.41037451],\n",
       "       [0.44149937],\n",
       "       [0.51908643],\n",
       "       [0.67098671],\n",
       "       [0.6310693 ],\n",
       "       [0.59691057],\n",
       "       [0.42703174],\n",
       "       [0.30134117],\n",
       "       [0.21173496],\n",
       "       [0.17769331],\n",
       "       [0.21058162],\n",
       "       [0.33226023],\n",
       "       [0.41286154],\n",
       "       [0.45465949],\n",
       "       [0.49043479],\n",
       "       [0.5949195 ],\n",
       "       [0.55552639],\n",
       "       [0.50626082],\n",
       "       [0.37695462],\n",
       "       [0.28191477],\n",
       "       [0.23327315],\n",
       "       [0.19892025],\n",
       "       [0.17357736],\n",
       "       [0.32809629],\n",
       "       [0.4263489 ],\n",
       "       [0.46025165],\n",
       "       [0.4935632 ],\n",
       "       [0.60079527],\n",
       "       [0.617843  ],\n",
       "       [0.51202315],\n",
       "       [0.40538302],\n",
       "       [0.28864864],\n",
       "       [0.21277195],\n",
       "       [0.19688192],\n",
       "       [0.19348371],\n",
       "       [0.33595876],\n",
       "       [0.4323352 ],\n",
       "       [0.46814249],\n",
       "       [0.50374908],\n",
       "       [0.71868953],\n",
       "       [0.59645534],\n",
       "       [0.56009611],\n",
       "       [0.45327491],\n",
       "       [0.32803084],\n",
       "       [0.24159158],\n",
       "       [0.22064751],\n",
       "       [0.22953752],\n",
       "       [0.37632559],\n",
       "       [0.52945048],\n",
       "       [0.55670736],\n",
       "       [0.61181451],\n",
       "       [0.72450058],\n",
       "       [0.64286447],\n",
       "       [0.62011695],\n",
       "       [0.49738245],\n",
       "       [0.36981643],\n",
       "       [0.29573592],\n",
       "       [0.24950569],\n",
       "       [0.26693083],\n",
       "       [0.47106438],\n",
       "       [0.54508017],\n",
       "       [0.59702983],\n",
       "       [0.66830844],\n",
       "       [0.77390504],\n",
       "       [0.7325754 ],\n",
       "       [0.6803734 ],\n",
       "       [0.50636554],\n",
       "       [0.37017931],\n",
       "       [0.2737985 ],\n",
       "       [0.23159986],\n",
       "       [0.29683036],\n",
       "       [0.44392749],\n",
       "       [0.54969425],\n",
       "       [0.60065928],\n",
       "       [0.62634759],\n",
       "       [0.73133116],\n",
       "       [0.70677655],\n",
       "       [0.61726342],\n",
       "       [0.45562739],\n",
       "       [0.37282413],\n",
       "       [0.31570409],\n",
       "       [0.25793611],\n",
       "       [0.33661906],\n",
       "       [0.46491009],\n",
       "       [0.58333448],\n",
       "       [0.66460627],\n",
       "       [0.65484071],\n",
       "       [0.84212141],\n",
       "       [0.83159666],\n",
       "       [0.77134312],\n",
       "       [0.5765359 ],\n",
       "       [0.49703412],\n",
       "       [0.35935495],\n",
       "       [0.26985999],\n",
       "       [0.36437626],\n",
       "       [0.51454071],\n",
       "       [0.63086641],\n",
       "       [0.67844487],\n",
       "       [0.7149939 ],\n",
       "       [0.91226778],\n",
       "       [0.80510188],\n",
       "       [0.68516274],\n",
       "       [0.56400117],\n",
       "       [0.39649446],\n",
       "       [0.2818566 ],\n",
       "       [0.26014025],\n",
       "       [0.32665061],\n",
       "       [0.49801438],\n",
       "       [0.57758088],\n",
       "       [0.57365619],\n",
       "       [0.60384732],\n",
       "       [0.72545175],\n",
       "       [0.63770353],\n",
       "       [0.573702  ],\n",
       "       [0.42061493],\n",
       "       [0.34058739],\n",
       "       [0.26069946],\n",
       "       [0.18097152],\n",
       "       [0.2756834 ],\n",
       "       [0.43318312],\n",
       "       [0.51407385],\n",
       "       [0.55039963],\n",
       "       [0.595334  ],\n",
       "       [0.65870359],\n",
       "       [0.58609057],\n",
       "       [0.51790837],\n",
       "       [0.40765115],\n",
       "       [0.27578448],\n",
       "       [0.17157466],\n",
       "       [0.14559837],\n",
       "       [0.20169161],\n",
       "       [0.30520478],\n",
       "       [0.34726308],\n",
       "       [0.39276975],\n",
       "       [0.4190151 ],\n",
       "       [0.51046112],\n",
       "       [0.46158897],\n",
       "       [0.44354134],\n",
       "       [0.32636192],\n",
       "       [0.24344375],\n",
       "       [0.1867324 ],\n",
       "       [0.1517403 ],\n",
       "       [0.25227413],\n",
       "       [0.3827584 ],\n",
       "       [0.482933  ],\n",
       "       [0.5663013 ],\n",
       "       [0.5595318 ],\n",
       "       [0.66509713],\n",
       "       [0.63101039],\n",
       "       [0.53208803],\n",
       "       [0.42556207],\n",
       "       [0.40049988],\n",
       "       [0.24705066],\n",
       "       [0.21710605],\n",
       "       [0.3106246 ],\n",
       "       [0.41679205],\n",
       "       [0.4655653 ],\n",
       "       [0.55069633],\n",
       "       [0.53323628],\n",
       "       [0.65273256],\n",
       "       [0.6022453 ],\n",
       "       [0.55351132],\n",
       "       [0.50874712],\n",
       "       [0.41053159],\n",
       "       [0.3376495 ],\n",
       "       [0.33408986],\n",
       "       [0.45304729],\n",
       "       [0.61827568],\n",
       "       [0.70208393],\n",
       "       [0.80395291],\n",
       "       [0.7747675 ],\n",
       "       [0.94670357],\n",
       "       [0.83318341],\n",
       "       [0.76047149],\n",
       "       [0.66868586],\n",
       "       [0.56791495],\n",
       "       [0.40647818],\n",
       "       [0.34147893],\n",
       "       [0.48424123],\n",
       "       [0.60888972],\n",
       "       [0.62540223],\n",
       "       [0.67443146],\n",
       "       [0.64487663],\n",
       "       [0.75766377],\n",
       "       [0.63589572],\n",
       "       [0.59974083],\n",
       "       [0.49501178],\n",
       "       [0.41579651],\n",
       "       [0.34921415],\n",
       "       [0.25354891],\n",
       "       [0.33055422],\n",
       "       [0.48986321],\n",
       "       [0.59474788],\n",
       "       [0.65434403],\n",
       "       [0.66753543],\n",
       "       [0.80265631],\n",
       "       [0.71705115],\n",
       "       [0.68986262],\n",
       "       [0.62369695],\n",
       "       [0.58805692],\n",
       "       [0.44984325],\n",
       "       [0.38266895],\n",
       "       [0.52076263],\n",
       "       [0.65111818],\n",
       "       [0.73167294],\n",
       "       [0.82298299],\n",
       "       [0.80931746],\n",
       "       [1.        ],\n",
       "       [0.95692363],\n",
       "       [0.87718478],\n",
       "       [0.69141447],\n",
       "       [0.62214002],\n",
       "       [0.4621831 ],\n",
       "       [0.3511725 ],\n",
       "       [0.52481749],\n",
       "       [0.62277559],\n",
       "       [0.71054126],\n",
       "       [0.79313728],\n",
       "       [0.73648118],\n",
       "       [0.90148196],\n",
       "       [0.85356971],\n",
       "       [0.76810199],\n",
       "       [0.63817985],\n",
       "       [0.50364654],\n",
       "       [0.38121819],\n",
       "       [0.31740064],\n",
       "       [0.49162376],\n",
       "       [0.58495105],\n",
       "       [0.68667095],\n",
       "       [0.80952762],\n",
       "       [0.79009104],\n",
       "       [0.88302055],\n",
       "       [0.78941838],\n",
       "       [0.65857997],\n",
       "       [0.60582894],\n",
       "       [0.49204408],\n",
       "       [0.32987647],\n",
       "       [0.2969518 ],\n",
       "       [0.35876955],\n",
       "       [0.48110555],\n",
       "       [0.59006762],\n",
       "       [0.60473814],\n",
       "       [0.61824732],\n",
       "       [0.80533386],\n",
       "       [0.62801433],\n",
       "       [0.58998181],\n",
       "       [0.47530395],\n",
       "       [0.36576521],\n",
       "       [0.3184129 ],\n",
       "       [0.18278007],\n",
       "       [0.25838552],\n",
       "       [0.41127697],\n",
       "       [0.51611292],\n",
       "       [0.54115039],\n",
       "       [0.57690677],\n",
       "       [0.66681259],\n",
       "       [0.55138499],\n",
       "       [0.53718642],\n",
       "       [0.4420215 ],\n",
       "       [0.34988681],\n",
       "       [0.21230072],\n",
       "       [0.13914302],\n",
       "       [0.23728292],\n",
       "       [0.37697716],\n",
       "       [0.49767551],\n",
       "       [0.53803288],\n",
       "       [0.55192821],\n",
       "       [0.62024348],\n",
       "       [0.51047058],\n",
       "       [0.48647082],\n",
       "       [0.41747634],\n",
       "       [0.28427817],\n",
       "       [0.16309115],\n",
       "       [0.10268271],\n",
       "       [0.24689286],\n",
       "       [0.3454618 ],\n",
       "       [0.40423986],\n",
       "       [0.42151084],\n",
       "       [0.41797011],\n",
       "       [0.45169179],\n",
       "       [0.41887911],\n",
       "       [0.40972803],\n",
       "       [0.31339595],\n",
       "       [0.23591506],\n",
       "       [0.12980579],\n",
       "       [0.09307932],\n",
       "       [0.19444507],\n",
       "       [0.29743684],\n",
       "       [0.39142952],\n",
       "       [0.40833181],\n",
       "       [0.40654945],\n",
       "       [0.47764626],\n",
       "       [0.39026746],\n",
       "       [0.35620545],\n",
       "       [0.27422828],\n",
       "       [0.2198076 ],\n",
       "       [0.11764411],\n",
       "       [0.07351475],\n",
       "       [0.14149624],\n",
       "       [0.2863296 ],\n",
       "       [0.35795581],\n",
       "       [0.35814561],\n",
       "       [0.37998486],\n",
       "       [0.50926561],\n",
       "       [0.39057433],\n",
       "       [0.34465461],\n",
       "       [0.28747203],\n",
       "       [0.23516459],\n",
       "       [0.15569044],\n",
       "       [0.06649001],\n",
       "       [0.20170834],\n",
       "       [0.31321197],\n",
       "       [0.40080166],\n",
       "       [0.44136265],\n",
       "       [0.42156466],\n",
       "       [0.52634606],\n",
       "       [0.42622818],\n",
       "       [0.38365722],\n",
       "       [0.30511534],\n",
       "       [0.23707931],\n",
       "       [0.20297948],\n",
       "       [0.12155208],\n",
       "       [0.19574094],\n",
       "       [0.30468338],\n",
       "       [0.37028329],\n",
       "       [0.36143183],\n",
       "       [0.34467716],\n",
       "       [0.41797884],\n",
       "       [0.36154745],\n",
       "       [0.38938173],\n",
       "       [0.30315844],\n",
       "       [0.25649698],\n",
       "       [0.19782873],\n",
       "       [0.13318726],\n",
       "       [0.24834362],\n",
       "       [0.3149827 ],\n",
       "       [0.41828135],\n",
       "       [0.4766849 ],\n",
       "       [0.45728977],\n",
       "       [0.54050318],\n",
       "       [0.48134479],\n",
       "       [0.45575247],\n",
       "       [0.35906261],\n",
       "       [0.31068714],\n",
       "       [0.20365141],\n",
       "       [0.16432593],\n",
       "       [0.2587782 ],\n",
       "       [0.39071032],\n",
       "       [0.44387077],\n",
       "       [0.4695409 ],\n",
       "       [0.41743926],\n",
       "       [0.46851409],\n",
       "       [0.41889656],\n",
       "       [0.39641011],\n",
       "       [0.28544533],\n",
       "       [0.23134679],\n",
       "       [0.13655347],\n",
       "       [0.12472921],\n",
       "       [0.18015997]])"
      ]
     },
     "execution_count": 78,
     "metadata": {},
     "output_type": "execute_result"
    }
   ],
   "source": [
    "train_scaled"
   ]
  },
  {
   "cell_type": "markdown",
   "metadata": {},
   "source": [
    "## Modelling"
   ]
  },
  {
   "cell_type": "code",
   "execution_count": 79,
   "metadata": {},
   "outputs": [],
   "source": [
    "from tensorflow.keras.models import Sequential\n",
    "from tensorflow.keras.layers import Dense, LSTM\n",
    "from tensorflow.keras.callbacks import EarlyStopping"
   ]
  },
  {
   "cell_type": "code",
   "execution_count": 80,
   "metadata": {},
   "outputs": [],
   "source": [
    "n_features = 1"
   ]
  },
  {
   "cell_type": "markdown",
   "metadata": {},
   "source": [
    "### with \"tanh\" activation function"
   ]
  },
  {
   "cell_type": "code",
   "execution_count": 81,
   "metadata": {},
   "outputs": [],
   "source": [
    "model1 = Sequential()\n",
    "model1.add(LSTM(150, activation = 'tanh', input_shape = (length, n_features)))\n",
    "model1.add(Dense(1))\n",
    "model1.compile(optimizer = 'adam', loss = 'mse')"
   ]
  },
  {
   "cell_type": "code",
   "execution_count": 82,
   "metadata": {},
   "outputs": [
    {
     "name": "stdout",
     "output_type": "stream",
     "text": [
      "Model: \"sequential_3\"\n",
      "_________________________________________________________________\n",
      " Layer (type)                Output Shape              Param #   \n",
      "=================================================================\n",
      " lstm_3 (LSTM)               (None, 150)               91200     \n",
      "                                                                 \n",
      " dense_3 (Dense)             (None, 1)                 151       \n",
      "                                                                 \n",
      "=================================================================\n",
      "Total params: 91,351\n",
      "Trainable params: 91,351\n",
      "Non-trainable params: 0\n",
      "_________________________________________________________________\n"
     ]
    }
   ],
   "source": [
    "model1.summary()"
   ]
  },
  {
   "cell_type": "code",
   "execution_count": 83,
   "metadata": {},
   "outputs": [],
   "source": [
    "early_stop = EarlyStopping(monitor = 'val_loss', patience = 5)"
   ]
  },
  {
   "cell_type": "code",
   "execution_count": 84,
   "metadata": {},
   "outputs": [],
   "source": [
    "validation_generator = TimeseriesGenerator(test_scaled, test_scaled, length = length, batch_size = 1)"
   ]
  },
  {
   "cell_type": "code",
   "execution_count": 85,
   "metadata": {},
   "outputs": [
    {
     "name": "stdout",
     "output_type": "stream",
     "text": [
      "Epoch 1/30\n",
      "541/541 [==============================] - 8s 9ms/step - loss: 0.0182 - val_loss: 0.0031\n",
      "Epoch 2/30\n",
      "541/541 [==============================] - 4s 7ms/step - loss: 0.0045 - val_loss: 0.0025\n",
      "Epoch 3/30\n",
      "541/541 [==============================] - 4s 8ms/step - loss: 0.0044 - val_loss: 0.0031\n",
      "Epoch 4/30\n",
      "541/541 [==============================] - 6s 10ms/step - loss: 0.0037 - val_loss: 0.0033\n",
      "Epoch 5/30\n",
      "541/541 [==============================] - 5s 9ms/step - loss: 0.0033 - val_loss: 0.0029\n",
      "Epoch 6/30\n",
      "541/541 [==============================] - 5s 9ms/step - loss: 0.0033 - val_loss: 0.0027\n",
      "Epoch 7/30\n",
      "541/541 [==============================] - 5s 9ms/step - loss: 0.0032 - val_loss: 0.0032\n"
     ]
    },
    {
     "data": {
      "text/plain": [
       "<keras.callbacks.History at 0x1c02b8fd4c0>"
      ]
     },
     "execution_count": 85,
     "metadata": {},
     "output_type": "execute_result"
    }
   ],
   "source": [
    "model1.fit_generator(generator, epochs = 30,\n",
    "                    validation_data = validation_generator,\n",
    "                    callbacks = [early_stop])"
   ]
  },
  {
   "cell_type": "code",
   "execution_count": 86,
   "metadata": {
    "scrolled": false
   },
   "outputs": [
    {
     "data": {
      "text/plain": [
       "<AxesSubplot:>"
      ]
     },
     "execution_count": 86,
     "metadata": {},
     "output_type": "execute_result"
    },
    {
     "data": {
      "image/png": "[encoded data removed]",
      "text/plain": [
       "<Figure size 720x432 with 1 Axes>"
      ]
     },
     "metadata": {},
     "output_type": "display_data"
    }
   ],
   "source": [
    "loss_df = pd.DataFrame(model1.history.history)\n",
    "loss_df.plot()"
   ]
  },
  {
   "cell_type": "markdown",
   "metadata": {},
   "source": [
    "#### Evaluate on Test Data"
   ]
  },
  {
   "cell_type": "code",
   "execution_count": 87,
   "metadata": {},
   "outputs": [],
   "source": [
    "test_predictions = []\n",
    "\n",
    "first_eval_batch = train_scaled[-length:]\n",
    "current_batch = first_eval_batch.reshape((1, length, n_features))\n",
    "\n",
    "for i in range(len(test)):\n",
    "    \n",
    "    # get prediction 1 time stamp ahead ([0] is for grabbing just the number instead of [array])\n",
    "    current_pred = model1.predict(current_batch)[0]\n",
    "    \n",
    "    # store prediction\n",
    "    test_predictions.append(current_pred) \n",
    "    \n",
    "    # update batch to now include prediction and drop first value\n",
    "    current_batch = np.append(current_batch[:, 1:, :], [[current_pred]], axis=1)"
   ]
  },
  {
   "cell_type": "markdown",
   "metadata": {},
   "source": [
    "#### Inverse Transformations and Comparing"
   ]
  },
  {
   "cell_type": "code",
   "execution_count": 88,
   "metadata": {},
   "outputs": [],
   "source": [
    "true_predictions = scaler.inverse_transform(test_predictions)"
   ]
  },
  {
   "cell_type": "code",
   "execution_count": 89,
   "metadata": {},
   "outputs": [],
   "source": [
    "test['Predictions'] = true_predictions"
   ]
  },
  {
   "cell_type": "code",
   "execution_count": 90,
   "metadata": {},
   "outputs": [
    {
     "data": {
      "text/html": [
       "<div>\n",
       "<style scoped>\n",
       "    .dataframe tbody tr th:only-of-type {\n",
       "        vertical-align: middle;\n",
       "    }\n",
       "\n",
       "    .dataframe tbody tr th {\n",
       "        vertical-align: top;\n",
       "    }\n",
       "\n",
       "    .dataframe thead th {\n",
       "        text-align: right;\n",
       "    }\n",
       "</style>\n",
       "<table border=\"1\" class=\"dataframe\">\n",
       "  <thead>\n",
       "    <tr style=\"text-align: right;\">\n",
       "      <th></th>\n",
       "      <th>Production</th>\n",
       "      <th>Predictions</th>\n",
       "    </tr>\n",
       "    <tr>\n",
       "      <th>DATE</th>\n",
       "      <th></th>\n",
       "      <th></th>\n",
       "    </tr>\n",
       "  </thead>\n",
       "  <tbody>\n",
       "    <tr>\n",
       "      <th>2018-02-01</th>\n",
       "      <td>99.490</td>\n",
       "      <td>93.039</td>\n",
       "    </tr>\n",
       "    <tr>\n",
       "      <th>2018-03-01</th>\n",
       "      <td>107.315</td>\n",
       "      <td>101.588</td>\n",
       "    </tr>\n",
       "    <tr>\n",
       "      <th>2018-04-01</th>\n",
       "      <td>112.431</td>\n",
       "      <td>108.716</td>\n",
       "    </tr>\n",
       "    <tr>\n",
       "      <th>2018-05-01</th>\n",
       "      <td>110.354</td>\n",
       "      <td>113.739</td>\n",
       "    </tr>\n",
       "    <tr>\n",
       "      <th>2018-06-01</th>\n",
       "      <td>124.584</td>\n",
       "      <td>116.371</td>\n",
       "    </tr>\n",
       "    <tr>\n",
       "      <th>2018-07-01</th>\n",
       "      <td>117.222</td>\n",
       "      <td>115.134</td>\n",
       "    </tr>\n",
       "    <tr>\n",
       "      <th>2018-08-01</th>\n",
       "      <td>112.678</td>\n",
       "      <td>109.889</td>\n",
       "    </tr>\n",
       "    <tr>\n",
       "      <th>2018-09-01</th>\n",
       "      <td>103.312</td>\n",
       "      <td>100.670</td>\n",
       "    </tr>\n",
       "    <tr>\n",
       "      <th>2018-10-01</th>\n",
       "      <td>92.132</td>\n",
       "      <td>90.286</td>\n",
       "    </tr>\n",
       "    <tr>\n",
       "      <th>2018-11-01</th>\n",
       "      <td>82.435</td>\n",
       "      <td>81.642</td>\n",
       "    </tr>\n",
       "    <tr>\n",
       "      <th>2018-12-01</th>\n",
       "      <td>76.761</td>\n",
       "      <td>78.290</td>\n",
       "    </tr>\n",
       "    <tr>\n",
       "      <th>2019-01-01</th>\n",
       "      <td>86.999</td>\n",
       "      <td>80.502</td>\n",
       "    </tr>\n",
       "    <tr>\n",
       "      <th>2019-02-01</th>\n",
       "      <td>98.112</td>\n",
       "      <td>86.493</td>\n",
       "    </tr>\n",
       "    <tr>\n",
       "      <th>2019-03-01</th>\n",
       "      <td>116.172</td>\n",
       "      <td>94.004</td>\n",
       "    </tr>\n",
       "    <tr>\n",
       "      <th>2019-04-01</th>\n",
       "      <td>114.970</td>\n",
       "      <td>101.188</td>\n",
       "    </tr>\n",
       "    <tr>\n",
       "      <th>2019-05-01</th>\n",
       "      <td>114.561</td>\n",
       "      <td>106.864</td>\n",
       "    </tr>\n",
       "    <tr>\n",
       "      <th>2019-06-01</th>\n",
       "      <td>124.960</td>\n",
       "      <td>110.266</td>\n",
       "    </tr>\n",
       "    <tr>\n",
       "      <th>2019-07-01</th>\n",
       "      <td>110.263</td>\n",
       "      <td>110.700</td>\n",
       "    </tr>\n",
       "    <tr>\n",
       "      <th>2019-08-01</th>\n",
       "      <td>102.609</td>\n",
       "      <td>107.644</td>\n",
       "    </tr>\n",
       "    <tr>\n",
       "      <th>2019-09-01</th>\n",
       "      <td>101.587</td>\n",
       "      <td>101.214</td>\n",
       "    </tr>\n",
       "  </tbody>\n",
       "</table>\n",
       "</div>"
      ],
      "text/plain": [
       "            Production  Predictions\n",
       "DATE                               \n",
       "2018-02-01      99.490       93.039\n",
       "2018-03-01     107.315      101.588\n",
       "2018-04-01     112.431      108.716\n",
       "2018-05-01     110.354      113.739\n",
       "2018-06-01     124.584      116.371\n",
       "2018-07-01     117.222      115.134\n",
       "2018-08-01     112.678      109.889\n",
       "2018-09-01     103.312      100.670\n",
       "2018-10-01      92.132       90.286\n",
       "2018-11-01      82.435       81.642\n",
       "2018-12-01      76.761       78.290\n",
       "2019-01-01      86.999       80.502\n",
       "2019-02-01      98.112       86.493\n",
       "2019-03-01     116.172       94.004\n",
       "2019-04-01     114.970      101.188\n",
       "2019-05-01     114.561      106.864\n",
       "2019-06-01     124.960      110.266\n",
       "2019-07-01     110.263      110.700\n",
       "2019-08-01     102.609      107.644\n",
       "2019-09-01     101.587      101.214"
      ]
     },
     "execution_count": 90,
     "metadata": {},
     "output_type": "execute_result"
    }
   ],
   "source": [
    "test"
   ]
  },
  {
   "cell_type": "code",
   "execution_count": 91,
   "metadata": {},
   "outputs": [
    {
     "data": {
      "text/plain": [
       "<AxesSubplot:xlabel='DATE'>"
      ]
     },
     "execution_count": 91,
     "metadata": {},
     "output_type": "execute_result"
    },
    {
     "data": {
      "image/png": "[encoded data removed]",
      "text/plain": [
       "<Figure size 720x432 with 1 Axes>"
      ]
     },
     "metadata": {},
     "output_type": "display_data"
    }
   ],
   "source": [
    "test.plot()"
   ]
  },
  {
   "cell_type": "markdown",
   "metadata": {},
   "source": [
    "#### Calculation R2 Score and Error Metrics"
   ]
  },
  {
   "cell_type": "code",
   "execution_count": 92,
   "metadata": {},
   "outputs": [],
   "source": [
    "from sklearn.metrics import mean_absolute_error, mean_squared_error, r2_score"
   ]
  },
  {
   "cell_type": "code",
   "execution_count": 93,
   "metadata": {},
   "outputs": [],
   "source": [
    "def eval_metrics(actual, pred):\n",
    "    rmse = np.sqrt(mean_squared_error(actual, pred))\n",
    "    mae = mean_absolute_error(actual, pred)\n",
    "    mse = mean_squared_error(actual, pred)\n",
    "    score = r2_score(actual, pred)\n",
    "    return print(\"r2_score:\", score, \"\\nmae:\", mae, \"\\nmse:\",mse, \"\\nrmse:\",rmse)"
   ]
  },
  {
   "cell_type": "code",
   "execution_count": 94,
   "metadata": {},
   "outputs": [
    {
     "name": "stdout",
     "output_type": "stream",
     "text": [
      "r2_score: 0.5919240297232323 \n",
      "mae: 6.073848389656324 \n",
      "mse: 67.60103117058365 \n",
      "rmse: 8.221984624808274\n"
     ]
    }
   ],
   "source": [
    "eval_metrics(test['Production'], test['Predictions'])"
   ]
  },
  {
   "cell_type": "markdown",
   "metadata": {},
   "source": [
    "### with \"relu\" activation function"
   ]
  },
  {
   "cell_type": "code",
   "execution_count": 95,
   "metadata": {},
   "outputs": [],
   "source": [
    "model2 = Sequential()\n",
    "model2.add(LSTM(150, activation = 'relu', input_shape = (length, n_features)))\n",
    "model2.add(Dense(1))\n",
    "model2.compile(optimizer = 'adam', loss = 'mse')"
   ]
  },
  {
   "cell_type": "code",
   "execution_count": 96,
   "metadata": {},
   "outputs": [
    {
     "name": "stdout",
     "output_type": "stream",
     "text": [
      "Model: \"sequential_4\"\n",
      "_________________________________________________________________\n",
      " Layer (type)                Output Shape              Param #   \n",
      "=================================================================\n",
      " lstm_4 (LSTM)               (None, 150)               91200     \n",
      "                                                                 \n",
      " dense_4 (Dense)             (None, 1)                 151       \n",
      "                                                                 \n",
      "=================================================================\n",
      "Total params: 91,351\n",
      "Trainable params: 91,351\n",
      "Non-trainable params: 0\n",
      "_________________________________________________________________\n"
     ]
    }
   ],
   "source": [
    "model2.summary()"
   ]
  },
  {
   "cell_type": "code",
   "execution_count": 97,
   "metadata": {},
   "outputs": [
    {
     "name": "stdout",
     "output_type": "stream",
     "text": [
      "Epoch 1/30\n",
      "541/541 [==============================] - 5s 7ms/step - loss: 0.0190 - val_loss: 0.0089\n",
      "Epoch 2/30\n",
      "541/541 [==============================] - 4s 7ms/step - loss: 0.0090 - val_loss: 0.0026\n",
      "Epoch 3/30\n",
      "541/541 [==============================] - 4s 7ms/step - loss: 0.0071 - val_loss: 0.0025\n",
      "Epoch 4/30\n",
      "541/541 [==============================] - 3s 6ms/step - loss: 0.0055 - val_loss: 0.0033\n",
      "Epoch 5/30\n",
      "541/541 [==============================] - 3s 6ms/step - loss: 0.0042 - val_loss: 0.0059\n",
      "Epoch 6/30\n",
      "541/541 [==============================] - 3s 6ms/step - loss: 0.0050 - val_loss: 0.0032\n",
      "Epoch 7/30\n",
      "541/541 [==============================] - 4s 8ms/step - loss: 0.0039 - val_loss: 0.0024\n",
      "Epoch 8/30\n",
      "541/541 [==============================] - 4s 8ms/step - loss: 0.0037 - val_loss: 0.0034\n",
      "Epoch 9/30\n",
      "541/541 [==============================] - 4s 7ms/step - loss: 0.0037 - val_loss: 0.0036\n",
      "Epoch 10/30\n",
      "541/541 [==============================] - 4s 7ms/step - loss: 0.0034 - val_loss: 0.0034\n",
      "Epoch 11/30\n",
      "541/541 [==============================] - 4s 7ms/step - loss: 0.0033 - val_loss: 0.0020\n",
      "Epoch 12/30\n",
      "541/541 [==============================] - 4s 7ms/step - loss: 0.0030 - val_loss: 0.0037\n",
      "Epoch 13/30\n",
      "541/541 [==============================] - 4s 7ms/step - loss: 0.0028 - val_loss: 0.0033\n",
      "Epoch 14/30\n",
      "541/541 [==============================] - 4s 7ms/step - loss: 0.0032 - val_loss: 0.0022\n",
      "Epoch 15/30\n",
      "541/541 [==============================] - 4s 7ms/step - loss: 0.0027 - val_loss: 0.0034\n",
      "Epoch 16/30\n",
      "541/541 [==============================] - 4s 8ms/step - loss: 0.0028 - val_loss: 0.0022\n"
     ]
    },
    {
     "data": {
      "text/plain": [
       "<keras.callbacks.History at 0x1c02eff2190>"
      ]
     },
     "execution_count": 97,
     "metadata": {},
     "output_type": "execute_result"
    }
   ],
   "source": [
    "model2.fit_generator(generator, epochs = 30,\n",
    "                    validation_data = validation_generator,\n",
    "                    callbacks = [early_stop])"
   ]
  },
  {
   "cell_type": "code",
   "execution_count": 98,
   "metadata": {
    "scrolled": false
   },
   "outputs": [
    {
     "data": {
      "text/plain": [
       "<AxesSubplot:>"
      ]
     },
     "execution_count": 98,
     "metadata": {},
     "output_type": "execute_result"
    },
    {
     "data": {
      "image/png": "[encoded data removed]",
      "text/plain": [
       "<Figure size 720x432 with 1 Axes>"
      ]
     },
     "metadata": {},
     "output_type": "display_data"
    }
   ],
   "source": [
    "loss_df = pd.DataFrame(model2.history.history)\n",
    "loss_df.plot()"
   ]
  },
  {
   "cell_type": "markdown",
   "metadata": {},
   "source": [
    "#### Evaluate on Test Data"
   ]
  },
  {
   "cell_type": "code",
   "execution_count": 99,
   "metadata": {},
   "outputs": [],
   "source": [
    "test_predictions = []\n",
    "\n",
    "first_eval_batch = train_scaled[-length:]\n",
    "current_batch = first_eval_batch.reshape((1, length, n_features))\n",
    "\n",
    "for i in range(len(test)):\n",
    "    \n",
    "    # get prediction 1 time stamp ahead ([0] is for grabbing just the number instead of [array])\n",
    "    current_pred = model2.predict(current_batch)[0]\n",
    "    \n",
    "    # store prediction\n",
    "    test_predictions.append(current_pred) \n",
    "    \n",
    "    # update batch to now include prediction and drop first value\n",
    "    current_batch = np.append(current_batch[:, 1:, :], [[current_pred]], axis=1)"
   ]
  },
  {
   "cell_type": "markdown",
   "metadata": {},
   "source": [
    "#### Inverse Transformations and Comparing"
   ]
  },
  {
   "cell_type": "code",
   "execution_count": 100,
   "metadata": {},
   "outputs": [],
   "source": [
    "true_predictions = scaler.inverse_transform(test_predictions)"
   ]
  },
  {
   "cell_type": "code",
   "execution_count": 101,
   "metadata": {},
   "outputs": [],
   "source": [
    "test['Predictions'] = true_predictions"
   ]
  },
  {
   "cell_type": "code",
   "execution_count": 102,
   "metadata": {},
   "outputs": [
    {
     "data": {
      "text/html": [
       "<div>\n",
       "<style scoped>\n",
       "    .dataframe tbody tr th:only-of-type {\n",
       "        vertical-align: middle;\n",
       "    }\n",
       "\n",
       "    .dataframe tbody tr th {\n",
       "        vertical-align: top;\n",
       "    }\n",
       "\n",
       "    .dataframe thead th {\n",
       "        text-align: right;\n",
       "    }\n",
       "</style>\n",
       "<table border=\"1\" class=\"dataframe\">\n",
       "  <thead>\n",
       "    <tr style=\"text-align: right;\">\n",
       "      <th></th>\n",
       "      <th>Production</th>\n",
       "      <th>Predictions</th>\n",
       "    </tr>\n",
       "    <tr>\n",
       "      <th>DATE</th>\n",
       "      <th></th>\n",
       "      <th></th>\n",
       "    </tr>\n",
       "  </thead>\n",
       "  <tbody>\n",
       "    <tr>\n",
       "      <th>2018-02-01</th>\n",
       "      <td>99.490</td>\n",
       "      <td>100.475</td>\n",
       "    </tr>\n",
       "    <tr>\n",
       "      <th>2018-03-01</th>\n",
       "      <td>107.315</td>\n",
       "      <td>111.089</td>\n",
       "    </tr>\n",
       "    <tr>\n",
       "      <th>2018-04-01</th>\n",
       "      <td>112.431</td>\n",
       "      <td>118.255</td>\n",
       "    </tr>\n",
       "    <tr>\n",
       "      <th>2018-05-01</th>\n",
       "      <td>110.354</td>\n",
       "      <td>122.491</td>\n",
       "    </tr>\n",
       "    <tr>\n",
       "      <th>2018-06-01</th>\n",
       "      <td>124.584</td>\n",
       "      <td>124.986</td>\n",
       "    </tr>\n",
       "    <tr>\n",
       "      <th>2018-07-01</th>\n",
       "      <td>117.222</td>\n",
       "      <td>122.312</td>\n",
       "    </tr>\n",
       "    <tr>\n",
       "      <th>2018-08-01</th>\n",
       "      <td>112.678</td>\n",
       "      <td>114.137</td>\n",
       "    </tr>\n",
       "    <tr>\n",
       "      <th>2018-09-01</th>\n",
       "      <td>103.312</td>\n",
       "      <td>101.282</td>\n",
       "    </tr>\n",
       "    <tr>\n",
       "      <th>2018-10-01</th>\n",
       "      <td>92.132</td>\n",
       "      <td>89.389</td>\n",
       "    </tr>\n",
       "    <tr>\n",
       "      <th>2018-11-01</th>\n",
       "      <td>82.435</td>\n",
       "      <td>79.031</td>\n",
       "    </tr>\n",
       "    <tr>\n",
       "      <th>2018-12-01</th>\n",
       "      <td>76.761</td>\n",
       "      <td>73.777</td>\n",
       "    </tr>\n",
       "    <tr>\n",
       "      <th>2019-01-01</th>\n",
       "      <td>86.999</td>\n",
       "      <td>80.300</td>\n",
       "    </tr>\n",
       "    <tr>\n",
       "      <th>2019-02-01</th>\n",
       "      <td>98.112</td>\n",
       "      <td>95.466</td>\n",
       "    </tr>\n",
       "    <tr>\n",
       "      <th>2019-03-01</th>\n",
       "      <td>116.172</td>\n",
       "      <td>107.115</td>\n",
       "    </tr>\n",
       "    <tr>\n",
       "      <th>2019-04-01</th>\n",
       "      <td>114.970</td>\n",
       "      <td>115.963</td>\n",
       "    </tr>\n",
       "    <tr>\n",
       "      <th>2019-05-01</th>\n",
       "      <td>114.561</td>\n",
       "      <td>122.502</td>\n",
       "    </tr>\n",
       "    <tr>\n",
       "      <th>2019-06-01</th>\n",
       "      <td>124.960</td>\n",
       "      <td>126.155</td>\n",
       "    </tr>\n",
       "    <tr>\n",
       "      <th>2019-07-01</th>\n",
       "      <td>110.263</td>\n",
       "      <td>125.374</td>\n",
       "    </tr>\n",
       "    <tr>\n",
       "      <th>2019-08-01</th>\n",
       "      <td>102.609</td>\n",
       "      <td>117.795</td>\n",
       "    </tr>\n",
       "    <tr>\n",
       "      <th>2019-09-01</th>\n",
       "      <td>101.587</td>\n",
       "      <td>104.958</td>\n",
       "    </tr>\n",
       "  </tbody>\n",
       "</table>\n",
       "</div>"
      ],
      "text/plain": [
       "            Production  Predictions\n",
       "DATE                               \n",
       "2018-02-01      99.490      100.475\n",
       "2018-03-01     107.315      111.089\n",
       "2018-04-01     112.431      118.255\n",
       "2018-05-01     110.354      122.491\n",
       "2018-06-01     124.584      124.986\n",
       "2018-07-01     117.222      122.312\n",
       "2018-08-01     112.678      114.137\n",
       "2018-09-01     103.312      101.282\n",
       "2018-10-01      92.132       89.389\n",
       "2018-11-01      82.435       79.031\n",
       "2018-12-01      76.761       73.777\n",
       "2019-01-01      86.999       80.300\n",
       "2019-02-01      98.112       95.466\n",
       "2019-03-01     116.172      107.115\n",
       "2019-04-01     114.970      115.963\n",
       "2019-05-01     114.561      122.502\n",
       "2019-06-01     124.960      126.155\n",
       "2019-07-01     110.263      125.374\n",
       "2019-08-01     102.609      117.795\n",
       "2019-09-01     101.587      104.958"
      ]
     },
     "execution_count": 102,
     "metadata": {},
     "output_type": "execute_result"
    }
   ],
   "source": [
    "test"
   ]
  },
  {
   "cell_type": "code",
   "execution_count": 103,
   "metadata": {},
   "outputs": [
    {
     "data": {
      "text/plain": [
       "<AxesSubplot:xlabel='DATE'>"
      ]
     },
     "execution_count": 103,
     "metadata": {},
     "output_type": "execute_result"
    },
    {
     "data": {
      "image/png": "[encoded data removed]",
      "text/plain": [
       "<Figure size 720x432 with 1 Axes>"
      ]
     },
     "metadata": {},
     "output_type": "display_data"
    }
   ],
   "source": [
    "test.plot()"
   ]
  },
  {
   "cell_type": "markdown",
   "metadata": {},
   "source": [
    "#### Calculation R2 Score and Error Metrics"
   ]
  },
  {
   "cell_type": "code",
   "execution_count": 104,
   "metadata": {},
   "outputs": [],
   "source": [
    "def eval_metrics(actual, pred):\n",
    "    rmse = np.sqrt(mean_squared_error(actual, pred))\n",
    "    mae = mean_absolute_error(actual, pred)\n",
    "    mse = mean_squared_error(actual, pred)\n",
    "    score = r2_score(actual, pred)\n",
    "    return print(\"r2_score:\", score, \"\\nmae:\", mae, \"\\nmse:\",mse, \"\\nrmse:\",rmse)"
   ]
  },
  {
   "cell_type": "code",
   "execution_count": 105,
   "metadata": {},
   "outputs": [
    {
     "name": "stdout",
     "output_type": "stream",
     "text": [
      "r2_score: 0.7203733412163368 \n",
      "mae: 5.151412510198355 \n",
      "mse: 46.32238076586582 \n",
      "rmse: 6.8060547136991065\n"
     ]
    }
   ],
   "source": [
    "eval_metrics(test['Production'], test['Predictions'])"
   ]
  },
  {
   "cell_type": "markdown",
   "metadata": {
    "collapsed": true
   },
   "source": [
    "## Retrain and Forecasting"
   ]
  },
  {
   "cell_type": "code",
   "execution_count": 106,
   "metadata": {},
   "outputs": [],
   "source": [
    "full_scaler = MinMaxScaler()\n",
    "scaled_full_data = full_scaler.fit_transform(df)"
   ]
  },
  {
   "cell_type": "code",
   "execution_count": 107,
   "metadata": {},
   "outputs": [],
   "source": [
    "length = 20 \n",
    "generator = TimeseriesGenerator(scaled_full_data, scaled_full_data, length = length, batch_size = 1)"
   ]
  },
  {
   "cell_type": "code",
   "execution_count": 108,
   "metadata": {},
   "outputs": [
    {
     "name": "stdout",
     "output_type": "stream",
     "text": [
      "Epoch 1/8\n",
      "553/553 [==============================] - 6s 9ms/step - loss: 0.0280\n",
      "Epoch 2/8\n",
      "553/553 [==============================] - 5s 9ms/step - loss: 0.0123\n",
      "Epoch 3/8\n",
      "553/553 [==============================] - 4s 8ms/step - loss: 0.0045\n",
      "Epoch 4/8\n",
      "553/553 [==============================] - 4s 8ms/step - loss: 0.0037\n",
      "Epoch 5/8\n",
      "553/553 [==============================] - 4s 8ms/step - loss: 0.0034\n",
      "Epoch 6/8\n",
      "553/553 [==============================] - 4s 8ms/step - loss: 0.0030\n",
      "Epoch 7/8\n",
      "553/553 [==============================] - 4s 8ms/step - loss: 0.0030\n",
      "Epoch 8/8\n",
      "553/553 [==============================] - 4s 8ms/step - loss: 0.0030\n"
     ]
    },
    {
     "data": {
      "text/plain": [
       "<keras.callbacks.History at 0x1c02b293eb0>"
      ]
     },
     "execution_count": 108,
     "metadata": {},
     "output_type": "execute_result"
    }
   ],
   "source": [
    "model = Sequential()\n",
    "model.add(LSTM(150, activation = 'relu', input_shape = (length, n_features)))\n",
    "model.add(Dense(1))\n",
    "model.compile(optimizer = 'adam', loss = 'mse')\n",
    "\n",
    "model.fit_generator(generator, epochs=8)"
   ]
  },
  {
   "cell_type": "code",
   "execution_count": 109,
   "metadata": {},
   "outputs": [],
   "source": [
    "forecast = []\n",
    "# Replace periods with whatever forecast length you want\n",
    "periods = 36\n",
    "\n",
    "first_eval_batch = scaled_full_data[-length:]\n",
    "current_batch = first_eval_batch.reshape((1, length, n_features))\n",
    "\n",
    "for i in range(periods):\n",
    "    \n",
    "    # get prediction 1 time stamp ahead ([0] is for grabbing just the number instead of [array])\n",
    "    current_pred = model.predict(current_batch)[0]\n",
    "    \n",
    "    # store prediction\n",
    "    forecast.append(current_pred) \n",
    "    \n",
    "    # update batch to now include prediction and drop first value\n",
    "    current_batch = np.append(current_batch[:, 1:, :], [[current_pred]], axis = 1)"
   ]
  },
  {
   "cell_type": "code",
   "execution_count": 110,
   "metadata": {},
   "outputs": [],
   "source": [
    "forecast = scaler.inverse_transform(forecast)"
   ]
  },
  {
   "cell_type": "code",
   "execution_count": 111,
   "metadata": {},
   "outputs": [
    {
     "data": {
      "text/plain": [
       "array([[ 87.62269702],\n",
       "       [ 80.16905109],\n",
       "       [ 80.2452352 ],\n",
       "       [ 89.21225634],\n",
       "       [100.87923679],\n",
       "       [110.27106033],\n",
       "       [116.4344102 ],\n",
       "       [119.82308792],\n",
       "       [119.3950848 ],\n",
       "       [114.64050681],\n",
       "       [105.53565388],\n",
       "       [ 93.24232195],\n",
       "       [ 81.04346455],\n",
       "       [ 73.55612909],\n",
       "       [ 75.59870305],\n",
       "       [ 86.32440531],\n",
       "       [ 98.64880185],\n",
       "       [108.366812  ],\n",
       "       [114.86705716],\n",
       "       [119.10214716],\n",
       "       [119.1489203 ],\n",
       "       [114.75763023],\n",
       "       [105.93277682],\n",
       "       [ 93.58623752],\n",
       "       [ 80.69488519],\n",
       "       [ 71.89738954],\n",
       "       [ 72.65280054],\n",
       "       [ 83.25219934],\n",
       "       [ 96.04501374],\n",
       "       [106.40313518],\n",
       "       [113.35238692],\n",
       "       [118.0489667 ],\n",
       "       [118.72888414],\n",
       "       [115.21721024],\n",
       "       [107.18552486],\n",
       "       [ 95.34274453]])"
      ]
     },
     "execution_count": 111,
     "metadata": {},
     "output_type": "execute_result"
    }
   ],
   "source": [
    "forecast"
   ]
  },
  {
   "cell_type": "code",
   "execution_count": 112,
   "metadata": {},
   "outputs": [
    {
     "data": {
      "text/html": [
       "<div>\n",
       "<style scoped>\n",
       "    .dataframe tbody tr th:only-of-type {\n",
       "        vertical-align: middle;\n",
       "    }\n",
       "\n",
       "    .dataframe tbody tr th {\n",
       "        vertical-align: top;\n",
       "    }\n",
       "\n",
       "    .dataframe thead th {\n",
       "        text-align: right;\n",
       "    }\n",
       "</style>\n",
       "<table border=\"1\" class=\"dataframe\">\n",
       "  <thead>\n",
       "    <tr style=\"text-align: right;\">\n",
       "      <th></th>\n",
       "      <th>Production</th>\n",
       "    </tr>\n",
       "    <tr>\n",
       "      <th>DATE</th>\n",
       "      <th></th>\n",
       "    </tr>\n",
       "  </thead>\n",
       "  <tbody>\n",
       "    <tr>\n",
       "      <th>1972-01-01</th>\n",
       "      <td>59.962</td>\n",
       "    </tr>\n",
       "    <tr>\n",
       "      <th>1972-02-01</th>\n",
       "      <td>67.061</td>\n",
       "    </tr>\n",
       "    <tr>\n",
       "      <th>1972-03-01</th>\n",
       "      <td>74.235</td>\n",
       "    </tr>\n",
       "    <tr>\n",
       "      <th>1972-04-01</th>\n",
       "      <td>78.112</td>\n",
       "    </tr>\n",
       "    <tr>\n",
       "      <th>1972-05-01</th>\n",
       "      <td>84.764</td>\n",
       "    </tr>\n",
       "    <tr>\n",
       "      <th>...</th>\n",
       "      <td>...</td>\n",
       "    </tr>\n",
       "    <tr>\n",
       "      <th>2019-05-01</th>\n",
       "      <td>114.561</td>\n",
       "    </tr>\n",
       "    <tr>\n",
       "      <th>2019-06-01</th>\n",
       "      <td>124.960</td>\n",
       "    </tr>\n",
       "    <tr>\n",
       "      <th>2019-07-01</th>\n",
       "      <td>110.263</td>\n",
       "    </tr>\n",
       "    <tr>\n",
       "      <th>2019-08-01</th>\n",
       "      <td>102.609</td>\n",
       "    </tr>\n",
       "    <tr>\n",
       "      <th>2019-09-01</th>\n",
       "      <td>101.587</td>\n",
       "    </tr>\n",
       "  </tbody>\n",
       "</table>\n",
       "<p>573 rows × 1 columns</p>\n",
       "</div>"
      ],
      "text/plain": [
       "            Production\n",
       "DATE                  \n",
       "1972-01-01      59.962\n",
       "1972-02-01      67.061\n",
       "1972-03-01      74.235\n",
       "1972-04-01      78.112\n",
       "1972-05-01      84.764\n",
       "...                ...\n",
       "2019-05-01     114.561\n",
       "2019-06-01     124.960\n",
       "2019-07-01     110.263\n",
       "2019-08-01     102.609\n",
       "2019-09-01     101.587\n",
       "\n",
       "[573 rows x 1 columns]"
      ]
     },
     "execution_count": 112,
     "metadata": {},
     "output_type": "execute_result"
    }
   ],
   "source": [
    "df"
   ]
  },
  {
   "cell_type": "code",
   "execution_count": 113,
   "metadata": {},
   "outputs": [],
   "source": [
    "forecast_index = pd.date_range(start = '2019-10-01', periods = periods, freq = 'MS')"
   ]
  },
  {
   "cell_type": "markdown",
   "metadata": {},
   "source": [
    "https://stackoverflow.com/questions/35339139/what-values-are-valid-in-pandas-freq-tags"
   ]
  },
  {
   "cell_type": "code",
   "execution_count": 114,
   "metadata": {},
   "outputs": [
    {
     "data": {
      "text/plain": [
       "DatetimeIndex(['2019-10-01', '2019-11-01', '2019-12-01', '2020-01-01',\n",
       "               '2020-02-01', '2020-03-01', '2020-04-01', '2020-05-01',\n",
       "               '2020-06-01', '2020-07-01', '2020-08-01', '2020-09-01',\n",
       "               '2020-10-01', '2020-11-01', '2020-12-01', '2021-01-01',\n",
       "               '2021-02-01', '2021-03-01', '2021-04-01', '2021-05-01',\n",
       "               '2021-06-01', '2021-07-01', '2021-08-01', '2021-09-01',\n",
       "               '2021-10-01', '2021-11-01', '2021-12-01', '2022-01-01',\n",
       "               '2022-02-01', '2022-03-01', '2022-04-01', '2022-05-01',\n",
       "               '2022-06-01', '2022-07-01', '2022-08-01', '2022-09-01'],\n",
       "              dtype='datetime64[ns]', freq='MS')"
      ]
     },
     "execution_count": 114,
     "metadata": {},
     "output_type": "execute_result"
    }
   ],
   "source": [
    "forecast_index"
   ]
  },
  {
   "cell_type": "code",
   "execution_count": 115,
   "metadata": {},
   "outputs": [],
   "source": [
    "forecast_df = pd.DataFrame(data = forecast, index = forecast_index, columns = ['Forecast'])"
   ]
  },
  {
   "cell_type": "code",
   "execution_count": 116,
   "metadata": {},
   "outputs": [
    {
     "data": {
      "text/html": [
       "<div>\n",
       "<style scoped>\n",
       "    .dataframe tbody tr th:only-of-type {\n",
       "        vertical-align: middle;\n",
       "    }\n",
       "\n",
       "    .dataframe tbody tr th {\n",
       "        vertical-align: top;\n",
       "    }\n",
       "\n",
       "    .dataframe thead th {\n",
       "        text-align: right;\n",
       "    }\n",
       "</style>\n",
       "<table border=\"1\" class=\"dataframe\">\n",
       "  <thead>\n",
       "    <tr style=\"text-align: right;\">\n",
       "      <th></th>\n",
       "      <th>Forecast</th>\n",
       "    </tr>\n",
       "  </thead>\n",
       "  <tbody>\n",
       "    <tr>\n",
       "      <th>2019-10-01</th>\n",
       "      <td>87.623</td>\n",
       "    </tr>\n",
       "    <tr>\n",
       "      <th>2019-11-01</th>\n",
       "      <td>80.169</td>\n",
       "    </tr>\n",
       "    <tr>\n",
       "      <th>2019-12-01</th>\n",
       "      <td>80.245</td>\n",
       "    </tr>\n",
       "    <tr>\n",
       "      <th>2020-01-01</th>\n",
       "      <td>89.212</td>\n",
       "    </tr>\n",
       "    <tr>\n",
       "      <th>2020-02-01</th>\n",
       "      <td>100.879</td>\n",
       "    </tr>\n",
       "    <tr>\n",
       "      <th>2020-03-01</th>\n",
       "      <td>110.271</td>\n",
       "    </tr>\n",
       "    <tr>\n",
       "      <th>2020-04-01</th>\n",
       "      <td>116.434</td>\n",
       "    </tr>\n",
       "    <tr>\n",
       "      <th>2020-05-01</th>\n",
       "      <td>119.823</td>\n",
       "    </tr>\n",
       "    <tr>\n",
       "      <th>2020-06-01</th>\n",
       "      <td>119.395</td>\n",
       "    </tr>\n",
       "    <tr>\n",
       "      <th>2020-07-01</th>\n",
       "      <td>114.641</td>\n",
       "    </tr>\n",
       "    <tr>\n",
       "      <th>2020-08-01</th>\n",
       "      <td>105.536</td>\n",
       "    </tr>\n",
       "    <tr>\n",
       "      <th>2020-09-01</th>\n",
       "      <td>93.242</td>\n",
       "    </tr>\n",
       "    <tr>\n",
       "      <th>2020-10-01</th>\n",
       "      <td>81.043</td>\n",
       "    </tr>\n",
       "    <tr>\n",
       "      <th>2020-11-01</th>\n",
       "      <td>73.556</td>\n",
       "    </tr>\n",
       "    <tr>\n",
       "      <th>2020-12-01</th>\n",
       "      <td>75.599</td>\n",
       "    </tr>\n",
       "    <tr>\n",
       "      <th>2021-01-01</th>\n",
       "      <td>86.324</td>\n",
       "    </tr>\n",
       "    <tr>\n",
       "      <th>2021-02-01</th>\n",
       "      <td>98.649</td>\n",
       "    </tr>\n",
       "    <tr>\n",
       "      <th>2021-03-01</th>\n",
       "      <td>108.367</td>\n",
       "    </tr>\n",
       "    <tr>\n",
       "      <th>2021-04-01</th>\n",
       "      <td>114.867</td>\n",
       "    </tr>\n",
       "    <tr>\n",
       "      <th>2021-05-01</th>\n",
       "      <td>119.102</td>\n",
       "    </tr>\n",
       "    <tr>\n",
       "      <th>2021-06-01</th>\n",
       "      <td>119.149</td>\n",
       "    </tr>\n",
       "    <tr>\n",
       "      <th>2021-07-01</th>\n",
       "      <td>114.758</td>\n",
       "    </tr>\n",
       "    <tr>\n",
       "      <th>2021-08-01</th>\n",
       "      <td>105.933</td>\n",
       "    </tr>\n",
       "    <tr>\n",
       "      <th>2021-09-01</th>\n",
       "      <td>93.586</td>\n",
       "    </tr>\n",
       "    <tr>\n",
       "      <th>2021-10-01</th>\n",
       "      <td>80.695</td>\n",
       "    </tr>\n",
       "    <tr>\n",
       "      <th>2021-11-01</th>\n",
       "      <td>71.897</td>\n",
       "    </tr>\n",
       "    <tr>\n",
       "      <th>2021-12-01</th>\n",
       "      <td>72.653</td>\n",
       "    </tr>\n",
       "    <tr>\n",
       "      <th>2022-01-01</th>\n",
       "      <td>83.252</td>\n",
       "    </tr>\n",
       "    <tr>\n",
       "      <th>2022-02-01</th>\n",
       "      <td>96.045</td>\n",
       "    </tr>\n",
       "    <tr>\n",
       "      <th>2022-03-01</th>\n",
       "      <td>106.403</td>\n",
       "    </tr>\n",
       "    <tr>\n",
       "      <th>2022-04-01</th>\n",
       "      <td>113.352</td>\n",
       "    </tr>\n",
       "    <tr>\n",
       "      <th>2022-05-01</th>\n",
       "      <td>118.049</td>\n",
       "    </tr>\n",
       "    <tr>\n",
       "      <th>2022-06-01</th>\n",
       "      <td>118.729</td>\n",
       "    </tr>\n",
       "    <tr>\n",
       "      <th>2022-07-01</th>\n",
       "      <td>115.217</td>\n",
       "    </tr>\n",
       "    <tr>\n",
       "      <th>2022-08-01</th>\n",
       "      <td>107.186</td>\n",
       "    </tr>\n",
       "    <tr>\n",
       "      <th>2022-09-01</th>\n",
       "      <td>95.343</td>\n",
       "    </tr>\n",
       "  </tbody>\n",
       "</table>\n",
       "</div>"
      ],
      "text/plain": [
       "            Forecast\n",
       "2019-10-01    87.623\n",
       "2019-11-01    80.169\n",
       "2019-12-01    80.245\n",
       "2020-01-01    89.212\n",
       "2020-02-01   100.879\n",
       "2020-03-01   110.271\n",
       "2020-04-01   116.434\n",
       "2020-05-01   119.823\n",
       "2020-06-01   119.395\n",
       "2020-07-01   114.641\n",
       "2020-08-01   105.536\n",
       "2020-09-01    93.242\n",
       "2020-10-01    81.043\n",
       "2020-11-01    73.556\n",
       "2020-12-01    75.599\n",
       "2021-01-01    86.324\n",
       "2021-02-01    98.649\n",
       "2021-03-01   108.367\n",
       "2021-04-01   114.867\n",
       "2021-05-01   119.102\n",
       "2021-06-01   119.149\n",
       "2021-07-01   114.758\n",
       "2021-08-01   105.933\n",
       "2021-09-01    93.586\n",
       "2021-10-01    80.695\n",
       "2021-11-01    71.897\n",
       "2021-12-01    72.653\n",
       "2022-01-01    83.252\n",
       "2022-02-01    96.045\n",
       "2022-03-01   106.403\n",
       "2022-04-01   113.352\n",
       "2022-05-01   118.049\n",
       "2022-06-01   118.729\n",
       "2022-07-01   115.217\n",
       "2022-08-01   107.186\n",
       "2022-09-01    95.343"
      ]
     },
     "execution_count": 116,
     "metadata": {},
     "output_type": "execute_result"
    }
   ],
   "source": [
    "forecast_df"
   ]
  },
  {
   "cell_type": "code",
   "execution_count": 117,
   "metadata": {},
   "outputs": [
    {
     "data": {
      "image/png": "[encoded data removed]",
      "text/plain": [
       "<Figure size 1152x576 with 1 Axes>"
      ]
     },
     "metadata": {},
     "output_type": "display_data"
    }
   ],
   "source": [
    "ax = df.plot()\n",
    "forecast_df.plot(ax = ax, figsize = (16, 8));"
   ]
  },
  {
   "cell_type": "code",
   "execution_count": 118,
   "metadata": {},
   "outputs": [
    {
     "data": {
      "text/plain": [
       "(576.0, 620.0)"
      ]
     },
     "execution_count": 118,
     "metadata": {},
     "output_type": "execute_result"
    },
    {
     "data": {
      "image/png": "[encoded data removed]",
      "text/plain": [
       "<Figure size 1152x576 with 1 Axes>"
      ]
     },
     "metadata": {},
     "output_type": "display_data"
    }
   ],
   "source": [
    "ax = df.plot()\n",
    "forecast_df.plot(ax = ax, figsize = (16, 8))\n",
    "plt.xlim('2018-01-01', '2021-09-01')"
   ]
  }
 ],
 "metadata": {
  "kernelspec": {
   "display_name": "Python 3",
   "language": "python",
   "name": "python3"
  },
  "language_info": {
   "codemirror_mode": {
    "name": "ipython",
    "version": 3
   },
   "file_extension": ".py",
   "mimetype": "text/x-python",
   "name": "python",
   "nbconvert_exporter": "python",
   "pygments_lexer": "ipython3",
   "version": "3.9.7"
  }
 },
 "nbformat": 4,
 "nbformat_minor": 2
}
