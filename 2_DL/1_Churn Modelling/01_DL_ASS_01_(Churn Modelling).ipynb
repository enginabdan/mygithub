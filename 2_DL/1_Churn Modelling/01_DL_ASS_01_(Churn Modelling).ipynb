{
 "cells": [
  {
   "cell_type": "markdown",
   "metadata": {},
   "source": [
    "# Keras Classification"
   ]
  },
  {
   "cell_type": "markdown",
   "metadata": {},
   "source": [
    "<span class=\"girk\">We have a dataset in which there are details of a bank's customers and the target variable is a binary variable reflecting the fact whether the customer left the bank (closed his account) or he continues to be a customer.</span>"
   ]
  },
  {
   "cell_type": "markdown",
   "metadata": {},
   "source": [
    "---\n",
    "---"
   ]
  },
  {
   "cell_type": "markdown",
   "metadata": {
    "cell_style": "center"
   },
   "source": [
    "## Import  libraries & data"
   ]
  },
  {
   "cell_type": "code",
   "execution_count": 1,
   "metadata": {
    "cell_style": "center",
    "executionInfo": {
     "elapsed": 991,
     "status": "ok",
     "timestamp": 1610201325502,
     "user": {
      "displayName": "Richard C",
      "photoUrl": "",
      "userId": "08040814671867660929"
     },
     "user_tz": -180
    },
    "id": "6VD4eWBQcze2"
   },
   "outputs": [],
   "source": [
    "import numpy as np\n",
    "import pandas as pd\n",
    "import seaborn as sns\n",
    "import matplotlib.pyplot as plt\n",
    "\n",
    "%matplotlib inline\n",
    "# %matplotlib notebook\n",
    "plt.rcParams[\"figure.figsize\"] = (12, 6)\n",
    "# plt.rcParams['figure.dpi'] = 100\n",
    "sns.set_style(\"whitegrid\")\n",
    "import warnings\n",
    "\n",
    "warnings.filterwarnings(\"ignore\")\n",
    "warnings.warn(\"this will not show\")\n",
    "pd.set_option('display.float_format', lambda x: '%.3f' % x)"
   ]
  },
  {
   "cell_type": "code",
   "execution_count": 2,
   "metadata": {
    "cell_style": "center",
    "executionInfo": {
     "elapsed": 829,
     "status": "ok",
     "timestamp": 1610204616389,
     "user": {
      "displayName": "Richard C",
      "photoUrl": "",
      "userId": "08040814671867660929"
     },
     "user_tz": -180
    },
    "id": "YzzxpfNaoFyZ"
   },
   "outputs": [],
   "source": [
    "from tensorflow.keras.models import Sequential\n",
    "from tensorflow.keras.layers import Dense, Activation, Dropout\n",
    "from tensorflow.keras.callbacks import EarlyStopping\n",
    "from tensorflow.keras.optimizers import Adam\n",
    "from sklearn.metrics import classification_report, confusion_matrix\n",
    "from sklearn.metrics import roc_auc_score, roc_curve, precision_recall_curve, average_precision_score\n",
    "from sklearn.model_selection import cross_val_score, cross_validate\n",
    "from sklearn.model_selection import GridSearchCV"
   ]
  },
  {
   "cell_type": "code",
   "execution_count": 3,
   "metadata": {},
   "outputs": [
    {
     "data": {
      "text/html": [
       "<div>\n",
       "<style scoped>\n",
       "    .dataframe tbody tr th:only-of-type {\n",
       "        vertical-align: middle;\n",
       "    }\n",
       "\n",
       "    .dataframe tbody tr th {\n",
       "        vertical-align: top;\n",
       "    }\n",
       "\n",
       "    .dataframe thead th {\n",
       "        text-align: right;\n",
       "    }\n",
       "</style>\n",
       "<table border=\"1\" class=\"dataframe\">\n",
       "  <thead>\n",
       "    <tr style=\"text-align: right;\">\n",
       "      <th></th>\n",
       "      <th>CustomerId</th>\n",
       "      <th>Surname</th>\n",
       "      <th>CreditScore</th>\n",
       "      <th>Geography</th>\n",
       "      <th>Gender</th>\n",
       "      <th>Age</th>\n",
       "      <th>Tenure</th>\n",
       "      <th>Balance</th>\n",
       "      <th>NumOfProducts</th>\n",
       "      <th>HasCrCard</th>\n",
       "      <th>IsActiveMember</th>\n",
       "      <th>EstimatedSalary</th>\n",
       "      <th>Exited</th>\n",
       "    </tr>\n",
       "    <tr>\n",
       "      <th>RowNumber</th>\n",
       "      <th></th>\n",
       "      <th></th>\n",
       "      <th></th>\n",
       "      <th></th>\n",
       "      <th></th>\n",
       "      <th></th>\n",
       "      <th></th>\n",
       "      <th></th>\n",
       "      <th></th>\n",
       "      <th></th>\n",
       "      <th></th>\n",
       "      <th></th>\n",
       "      <th></th>\n",
       "    </tr>\n",
       "  </thead>\n",
       "  <tbody>\n",
       "    <tr>\n",
       "      <th>1</th>\n",
       "      <td>15634602</td>\n",
       "      <td>Hargrave</td>\n",
       "      <td>619</td>\n",
       "      <td>France</td>\n",
       "      <td>Female</td>\n",
       "      <td>42</td>\n",
       "      <td>2</td>\n",
       "      <td>0.000</td>\n",
       "      <td>1</td>\n",
       "      <td>1</td>\n",
       "      <td>1</td>\n",
       "      <td>101348.880</td>\n",
       "      <td>1</td>\n",
       "    </tr>\n",
       "    <tr>\n",
       "      <th>2</th>\n",
       "      <td>15647311</td>\n",
       "      <td>Hill</td>\n",
       "      <td>608</td>\n",
       "      <td>Spain</td>\n",
       "      <td>Female</td>\n",
       "      <td>41</td>\n",
       "      <td>1</td>\n",
       "      <td>83807.860</td>\n",
       "      <td>1</td>\n",
       "      <td>0</td>\n",
       "      <td>1</td>\n",
       "      <td>112542.580</td>\n",
       "      <td>0</td>\n",
       "    </tr>\n",
       "    <tr>\n",
       "      <th>3</th>\n",
       "      <td>15619304</td>\n",
       "      <td>Onio</td>\n",
       "      <td>502</td>\n",
       "      <td>France</td>\n",
       "      <td>Female</td>\n",
       "      <td>42</td>\n",
       "      <td>8</td>\n",
       "      <td>159660.800</td>\n",
       "      <td>3</td>\n",
       "      <td>1</td>\n",
       "      <td>0</td>\n",
       "      <td>113931.570</td>\n",
       "      <td>1</td>\n",
       "    </tr>\n",
       "    <tr>\n",
       "      <th>4</th>\n",
       "      <td>15701354</td>\n",
       "      <td>Boni</td>\n",
       "      <td>699</td>\n",
       "      <td>France</td>\n",
       "      <td>Female</td>\n",
       "      <td>39</td>\n",
       "      <td>1</td>\n",
       "      <td>0.000</td>\n",
       "      <td>2</td>\n",
       "      <td>0</td>\n",
       "      <td>0</td>\n",
       "      <td>93826.630</td>\n",
       "      <td>0</td>\n",
       "    </tr>\n",
       "    <tr>\n",
       "      <th>5</th>\n",
       "      <td>15737888</td>\n",
       "      <td>Mitchell</td>\n",
       "      <td>850</td>\n",
       "      <td>Spain</td>\n",
       "      <td>Female</td>\n",
       "      <td>43</td>\n",
       "      <td>2</td>\n",
       "      <td>125510.820</td>\n",
       "      <td>1</td>\n",
       "      <td>1</td>\n",
       "      <td>1</td>\n",
       "      <td>79084.100</td>\n",
       "      <td>0</td>\n",
       "    </tr>\n",
       "  </tbody>\n",
       "</table>\n",
       "</div>"
      ],
      "text/plain": [
       "           CustomerId   Surname  CreditScore Geography  Gender  Age  Tenure  \\\n",
       "RowNumber                                                                     \n",
       "1            15634602  Hargrave          619    France  Female   42       2   \n",
       "2            15647311      Hill          608     Spain  Female   41       1   \n",
       "3            15619304      Onio          502    France  Female   42       8   \n",
       "4            15701354      Boni          699    France  Female   39       1   \n",
       "5            15737888  Mitchell          850     Spain  Female   43       2   \n",
       "\n",
       "             Balance  NumOfProducts  HasCrCard  IsActiveMember  \\\n",
       "RowNumber                                                        \n",
       "1              0.000              1          1               1   \n",
       "2          83807.860              1          0               1   \n",
       "3         159660.800              3          1               0   \n",
       "4              0.000              2          0               0   \n",
       "5         125510.820              1          1               1   \n",
       "\n",
       "           EstimatedSalary  Exited  \n",
       "RowNumber                           \n",
       "1               101348.880       1  \n",
       "2               112542.580       0  \n",
       "3               113931.570       1  \n",
       "4                93826.630       0  \n",
       "5                79084.100       0  "
      ]
     },
     "execution_count": 3,
     "metadata": {},
     "output_type": "execute_result"
    }
   ],
   "source": [
    "df = pd.read_csv(\"Churn_Modelling.csv\", index_col='RowNumber')\n",
    "df.head()"
   ]
  },
  {
   "cell_type": "markdown",
   "metadata": {
    "heading_collapsed": true
   },
   "source": [
    "## Exploratory Data Analysis and Visualization"
   ]
  },
  {
   "cell_type": "code",
   "execution_count": 4,
   "metadata": {
    "hidden": true
   },
   "outputs": [],
   "source": [
    "#pip install pandasgui"
   ]
  },
  {
   "cell_type": "code",
   "execution_count": 5,
   "metadata": {
    "hidden": true
   },
   "outputs": [],
   "source": [
    "#from pandasgui import show\n",
    "#gui = show(df)"
   ]
  },
  {
   "cell_type": "code",
   "execution_count": 6,
   "metadata": {
    "cell_style": "split",
    "colab": {
     "base_uri": "https://localhost:8080/"
    },
    "executionInfo": {
     "elapsed": 854,
     "status": "ok",
     "timestamp": 1610201704635,
     "user": {
      "displayName": "Richard C",
      "photoUrl": "",
      "userId": "08040814671867660929"
     },
     "user_tz": -180
    },
    "hidden": true,
    "id": "9ROCQa9wf2uE",
    "outputId": "40e94921-6a7c-48c6-8c09-2623b6b60fa3",
    "scrolled": false
   },
   "outputs": [
    {
     "name": "stdout",
     "output_type": "stream",
     "text": [
      "<class 'pandas.core.frame.DataFrame'>\n",
      "Int64Index: 10000 entries, 1 to 10000\n",
      "Data columns (total 13 columns):\n",
      " #   Column           Non-Null Count  Dtype  \n",
      "---  ------           --------------  -----  \n",
      " 0   CustomerId       10000 non-null  int64  \n",
      " 1   Surname          10000 non-null  object \n",
      " 2   CreditScore      10000 non-null  int64  \n",
      " 3   Geography        10000 non-null  object \n",
      " 4   Gender           10000 non-null  object \n",
      " 5   Age              10000 non-null  int64  \n",
      " 6   Tenure           10000 non-null  int64  \n",
      " 7   Balance          10000 non-null  float64\n",
      " 8   NumOfProducts    10000 non-null  int64  \n",
      " 9   HasCrCard        10000 non-null  int64  \n",
      " 10  IsActiveMember   10000 non-null  int64  \n",
      " 11  EstimatedSalary  10000 non-null  float64\n",
      " 12  Exited           10000 non-null  int64  \n",
      "dtypes: float64(2), int64(8), object(3)\n",
      "memory usage: 1.1+ MB\n"
     ]
    }
   ],
   "source": [
    "df.info()"
   ]
  },
  {
   "cell_type": "code",
   "execution_count": 7,
   "metadata": {
    "cell_style": "split",
    "colab": {
     "base_uri": "https://localhost:8080/"
    },
    "executionInfo": {
     "elapsed": 798,
     "status": "ok",
     "timestamp": 1610201657421,
     "user": {
      "displayName": "Richard C",
      "photoUrl": "",
      "userId": "08040814671867660929"
     },
     "user_tz": -180
    },
    "hidden": true,
    "id": "vPyMUnVWfM0o",
    "outputId": "7a294ad3-49d9-4cea-b6a2-9824e2c0ba4a"
   },
   "outputs": [
    {
     "data": {
      "text/plain": [
       "(10000, 13)"
      ]
     },
     "execution_count": 7,
     "metadata": {},
     "output_type": "execute_result"
    }
   ],
   "source": [
    "df.shape"
   ]
  },
  {
   "cell_type": "code",
   "execution_count": 8,
   "metadata": {
    "cell_style": "split",
    "hidden": true
   },
   "outputs": [
    {
     "data": {
      "text/plain": [
       "False"
      ]
     },
     "execution_count": 8,
     "metadata": {},
     "output_type": "execute_result"
    }
   ],
   "source": [
    "df.isnull().sum().any()"
   ]
  },
  {
   "cell_type": "code",
   "execution_count": 9,
   "metadata": {
    "cell_style": "split",
    "hidden": true,
    "scrolled": true
   },
   "outputs": [
    {
     "data": {
      "text/plain": [
       "0"
      ]
     },
     "execution_count": 9,
     "metadata": {},
     "output_type": "execute_result"
    }
   ],
   "source": [
    "df.duplicated().sum()"
   ]
  },
  {
   "cell_type": "code",
   "execution_count": 10,
   "metadata": {
    "cell_style": "center",
    "colab": {
     "base_uri": "https://localhost:8080/",
     "height": 1000
    },
    "executionInfo": {
     "elapsed": 967,
     "status": "ok",
     "timestamp": 1610201729941,
     "user": {
      "displayName": "Richard C",
      "photoUrl": "",
      "userId": "08040814671867660929"
     },
     "user_tz": -180
    },
    "hidden": true,
    "id": "mdUkgZD-gCUx",
    "outputId": "cd4f6662-e8c3-4a6f-93d5-26fed83d8a82",
    "scrolled": false
   },
   "outputs": [
    {
     "data": {
      "text/html": [
       "<div>\n",
       "<style scoped>\n",
       "    .dataframe tbody tr th:only-of-type {\n",
       "        vertical-align: middle;\n",
       "    }\n",
       "\n",
       "    .dataframe tbody tr th {\n",
       "        vertical-align: top;\n",
       "    }\n",
       "\n",
       "    .dataframe thead th {\n",
       "        text-align: right;\n",
       "    }\n",
       "</style>\n",
       "<table border=\"1\" class=\"dataframe\">\n",
       "  <thead>\n",
       "    <tr style=\"text-align: right;\">\n",
       "      <th></th>\n",
       "      <th>count</th>\n",
       "      <th>mean</th>\n",
       "      <th>std</th>\n",
       "      <th>min</th>\n",
       "      <th>25%</th>\n",
       "      <th>50%</th>\n",
       "      <th>75%</th>\n",
       "      <th>max</th>\n",
       "    </tr>\n",
       "  </thead>\n",
       "  <tbody>\n",
       "    <tr>\n",
       "      <th>CustomerId</th>\n",
       "      <td>10000.000</td>\n",
       "      <td>15690940.569</td>\n",
       "      <td>71936.186</td>\n",
       "      <td>15565701.000</td>\n",
       "      <td>15628528.250</td>\n",
       "      <td>15690738.000</td>\n",
       "      <td>15753233.750</td>\n",
       "      <td>15815690.000</td>\n",
       "    </tr>\n",
       "    <tr>\n",
       "      <th>CreditScore</th>\n",
       "      <td>10000.000</td>\n",
       "      <td>650.529</td>\n",
       "      <td>96.653</td>\n",
       "      <td>350.000</td>\n",
       "      <td>584.000</td>\n",
       "      <td>652.000</td>\n",
       "      <td>718.000</td>\n",
       "      <td>850.000</td>\n",
       "    </tr>\n",
       "    <tr>\n",
       "      <th>Age</th>\n",
       "      <td>10000.000</td>\n",
       "      <td>38.922</td>\n",
       "      <td>10.488</td>\n",
       "      <td>18.000</td>\n",
       "      <td>32.000</td>\n",
       "      <td>37.000</td>\n",
       "      <td>44.000</td>\n",
       "      <td>92.000</td>\n",
       "    </tr>\n",
       "    <tr>\n",
       "      <th>Tenure</th>\n",
       "      <td>10000.000</td>\n",
       "      <td>5.013</td>\n",
       "      <td>2.892</td>\n",
       "      <td>0.000</td>\n",
       "      <td>3.000</td>\n",
       "      <td>5.000</td>\n",
       "      <td>7.000</td>\n",
       "      <td>10.000</td>\n",
       "    </tr>\n",
       "    <tr>\n",
       "      <th>Balance</th>\n",
       "      <td>10000.000</td>\n",
       "      <td>76485.889</td>\n",
       "      <td>62397.405</td>\n",
       "      <td>0.000</td>\n",
       "      <td>0.000</td>\n",
       "      <td>97198.540</td>\n",
       "      <td>127644.240</td>\n",
       "      <td>250898.090</td>\n",
       "    </tr>\n",
       "    <tr>\n",
       "      <th>NumOfProducts</th>\n",
       "      <td>10000.000</td>\n",
       "      <td>1.530</td>\n",
       "      <td>0.582</td>\n",
       "      <td>1.000</td>\n",
       "      <td>1.000</td>\n",
       "      <td>1.000</td>\n",
       "      <td>2.000</td>\n",
       "      <td>4.000</td>\n",
       "    </tr>\n",
       "    <tr>\n",
       "      <th>HasCrCard</th>\n",
       "      <td>10000.000</td>\n",
       "      <td>0.706</td>\n",
       "      <td>0.456</td>\n",
       "      <td>0.000</td>\n",
       "      <td>0.000</td>\n",
       "      <td>1.000</td>\n",
       "      <td>1.000</td>\n",
       "      <td>1.000</td>\n",
       "    </tr>\n",
       "    <tr>\n",
       "      <th>IsActiveMember</th>\n",
       "      <td>10000.000</td>\n",
       "      <td>0.515</td>\n",
       "      <td>0.500</td>\n",
       "      <td>0.000</td>\n",
       "      <td>0.000</td>\n",
       "      <td>1.000</td>\n",
       "      <td>1.000</td>\n",
       "      <td>1.000</td>\n",
       "    </tr>\n",
       "    <tr>\n",
       "      <th>EstimatedSalary</th>\n",
       "      <td>10000.000</td>\n",
       "      <td>100090.240</td>\n",
       "      <td>57510.493</td>\n",
       "      <td>11.580</td>\n",
       "      <td>51002.110</td>\n",
       "      <td>100193.915</td>\n",
       "      <td>149388.247</td>\n",
       "      <td>199992.480</td>\n",
       "    </tr>\n",
       "    <tr>\n",
       "      <th>Exited</th>\n",
       "      <td>10000.000</td>\n",
       "      <td>0.204</td>\n",
       "      <td>0.403</td>\n",
       "      <td>0.000</td>\n",
       "      <td>0.000</td>\n",
       "      <td>0.000</td>\n",
       "      <td>0.000</td>\n",
       "      <td>1.000</td>\n",
       "    </tr>\n",
       "  </tbody>\n",
       "</table>\n",
       "</div>"
      ],
      "text/plain": [
       "                    count         mean       std          min          25%  \\\n",
       "CustomerId      10000.000 15690940.569 71936.186 15565701.000 15628528.250   \n",
       "CreditScore     10000.000      650.529    96.653      350.000      584.000   \n",
       "Age             10000.000       38.922    10.488       18.000       32.000   \n",
       "Tenure          10000.000        5.013     2.892        0.000        3.000   \n",
       "Balance         10000.000    76485.889 62397.405        0.000        0.000   \n",
       "NumOfProducts   10000.000        1.530     0.582        1.000        1.000   \n",
       "HasCrCard       10000.000        0.706     0.456        0.000        0.000   \n",
       "IsActiveMember  10000.000        0.515     0.500        0.000        0.000   \n",
       "EstimatedSalary 10000.000   100090.240 57510.493       11.580    51002.110   \n",
       "Exited          10000.000        0.204     0.403        0.000        0.000   \n",
       "\n",
       "                         50%          75%          max  \n",
       "CustomerId      15690738.000 15753233.750 15815690.000  \n",
       "CreditScore          652.000      718.000      850.000  \n",
       "Age                   37.000       44.000       92.000  \n",
       "Tenure                 5.000        7.000       10.000  \n",
       "Balance            97198.540   127644.240   250898.090  \n",
       "NumOfProducts          1.000        2.000        4.000  \n",
       "HasCrCard              1.000        1.000        1.000  \n",
       "IsActiveMember         1.000        1.000        1.000  \n",
       "EstimatedSalary   100193.915   149388.247   199992.480  \n",
       "Exited                 0.000        0.000        1.000  "
      ]
     },
     "execution_count": 10,
     "metadata": {},
     "output_type": "execute_result"
    }
   ],
   "source": [
    "df.describe().T\n",
    "\n"
   ]
  },
  {
   "cell_type": "code",
   "execution_count": 11,
   "metadata": {
    "hidden": true,
    "scrolled": false
   },
   "outputs": [
    {
     "data": {
      "text/plain": [
       "<AxesSubplot:>"
      ]
     },
     "execution_count": 11,
     "metadata": {},
     "output_type": "execute_result"
    },
    {
     "data": {
      "image/png": "[encoded data removed]",
      "text/plain": [
       "<Figure size 864x432 with 1 Axes>"
      ]
     },
     "metadata": {},
     "output_type": "display_data"
    }
   ],
   "source": [
    "df.Balance.plot(kind=\"box\")"
   ]
  },
  {
   "cell_type": "code",
   "execution_count": 12,
   "metadata": {
    "hidden": true
   },
   "outputs": [],
   "source": [
    "df.drop(['CustomerId', 'Surname'], axis=1, inplace=True)"
   ]
  },
  {
   "cell_type": "code",
   "execution_count": 13,
   "metadata": {
    "cell_style": "split",
    "colab": {
     "base_uri": "https://localhost:8080/",
     "height": 297
    },
    "executionInfo": {
     "elapsed": 1052,
     "status": "ok",
     "timestamp": 1610201940310,
     "user": {
      "displayName": "Richard C",
      "photoUrl": "",
      "userId": "08040814671867660929"
     },
     "user_tz": -180
    },
    "hidden": true,
    "id": "_7vHUi5Hgldj",
    "outputId": "0018aaa8-d479-40c3-f973-161c63e7a77b"
   },
   "outputs": [
    {
     "name": "stdout",
     "output_type": "stream",
     "text": [
      "0    7963\n",
      "1    2037\n",
      "Name: Exited, dtype: int64\n"
     ]
    },
    {
     "data": {
      "image/png": "[encoded data removed]",
      "text/plain": [
       "<Figure size 864x432 with 1 Axes>"
      ]
     },
     "metadata": {},
     "output_type": "display_data"
    }
   ],
   "source": [
    "print(df.Exited.value_counts())\n",
    "sns.countplot(df[\"Exited\"]);"
   ]
  },
  {
   "cell_type": "code",
   "execution_count": 14,
   "metadata": {
    "cell_style": "split",
    "hidden": true,
    "scrolled": true
   },
   "outputs": [
    {
     "data": {
      "image/png": "[encoded data removed]",
      "text/plain": [
       "<Figure size 1080x864 with 9 Axes>"
      ]
     },
     "metadata": {},
     "output_type": "display_data"
    }
   ],
   "source": [
    "df.hist(figsize=(15, 12), bins=15);\n"
   ]
  },
  {
   "cell_type": "code",
   "execution_count": 15,
   "metadata": {
    "hidden": true,
    "scrolled": false
   },
   "outputs": [
    {
     "data": {
      "image/png": "[encoded data removed]",
      "text/plain": [
       "<Figure size 1152x864 with 4 Axes>"
      ]
     },
     "metadata": {},
     "output_type": "display_data"
    }
   ],
   "source": [
    "cat_list = [\"Gender\", \"HasCrCard\", \"IsActiveMember\", \"Geography\"]\n",
    "index = 0\n",
    "plt.figure(figsize=(16, 12))\n",
    "for i in cat_list:\n",
    "    index += 1\n",
    "    plt.subplot(2, 2, index)\n",
    "    sns.countplot(data=df, x=i, hue=\"Exited\")"
   ]
  },
  {
   "cell_type": "code",
   "execution_count": 16,
   "metadata": {
    "cell_style": "split",
    "hidden": true
   },
   "outputs": [
    {
     "data": {
      "text/plain": [
       "Age  Exited\n",
       "18   0         20\n",
       "     1          2\n",
       "19   0         26\n",
       "     1          1\n",
       "20   0         38\n",
       "               ..\n",
       "84   0          1\n",
       "     1          1\n",
       "85   0          1\n",
       "88   0          1\n",
       "92   0          2\n",
       "Name: Exited, Length: 128, dtype: int64"
      ]
     },
     "execution_count": 16,
     "metadata": {},
     "output_type": "execute_result"
    }
   ],
   "source": [
    "df.groupby(\"Age\")[\"Exited\"].value_counts()\n"
   ]
  },
  {
   "cell_type": "code",
   "execution_count": 17,
   "metadata": {
    "cell_style": "split",
    "hidden": true
   },
   "outputs": [
    {
     "data": {
      "image/png": "[encoded data removed]",
      "text/plain": [
       "<Figure size 1440x504 with 1 Axes>"
      ]
     },
     "metadata": {},
     "output_type": "display_data"
    }
   ],
   "source": [
    "plt.figure(figsize=(20, 7))\n",
    "sns.countplot(df.Age, hue=df.Exited);"
   ]
  },
  {
   "cell_type": "code",
   "execution_count": 18,
   "metadata": {
    "hidden": true
   },
   "outputs": [
    {
     "data": {
      "text/plain": [
       "count   10000.000\n",
       "mean      650.529\n",
       "std        96.653\n",
       "min       350.000\n",
       "25%       584.000\n",
       "50%       652.000\n",
       "75%       718.000\n",
       "max       850.000\n",
       "Name: CreditScore, dtype: float64"
      ]
     },
     "execution_count": 18,
     "metadata": {},
     "output_type": "execute_result"
    }
   ],
   "source": [
    "df.CreditScore.describe()"
   ]
  },
  {
   "cell_type": "code",
   "execution_count": 19,
   "metadata": {
    "hidden": true
   },
   "outputs": [],
   "source": [
    "def credit_transformer(x, y):\n",
    "    if x < 350 and y == 0:\n",
    "        return 0\n",
    "    if x < 350 and y > 0:\n",
    "        return 1\n",
    "    if x < 718 and y == 0:\n",
    "        return 2\n",
    "    if x < 718 and y > 0:\n",
    "        return 3\n",
    "    else:\n",
    "        return 4"
   ]
  },
  {
   "cell_type": "code",
   "execution_count": 20,
   "metadata": {
    "hidden": true,
    "scrolled": true
   },
   "outputs": [
    {
     "data": {
      "text/plain": [
       "[3, 2, 3, 2, 4, 3, 4, 3, 2, 3]"
      ]
     },
     "execution_count": 20,
     "metadata": {},
     "output_type": "execute_result"
    }
   ],
   "source": [
    "customer_value = [\n",
    "    credit_transformer(x, y) for x, y in zip(df.CreditScore, df.HasCrCard)\n",
    "]\n",
    "customer_value[:10]"
   ]
  },
  {
   "cell_type": "code",
   "execution_count": 21,
   "metadata": {
    "hidden": true
   },
   "outputs": [],
   "source": [
    "df.insert(10, \"customer_value\", customer_value)"
   ]
  },
  {
   "cell_type": "code",
   "execution_count": 22,
   "metadata": {
    "hidden": true
   },
   "outputs": [
    {
     "data": {
      "text/plain": [
       "RowNumber\n",
       "1        3\n",
       "2        2\n",
       "3        3\n",
       "4        2\n",
       "5        4\n",
       "        ..\n",
       "9996     4\n",
       "9997     3\n",
       "9998     2\n",
       "9999     4\n",
       "10000    4\n",
       "Name: customer_value, Length: 10000, dtype: int64"
      ]
     },
     "execution_count": 22,
     "metadata": {},
     "output_type": "execute_result"
    }
   ],
   "source": [
    "df.customer_value"
   ]
  },
  {
   "cell_type": "markdown",
   "metadata": {
    "hidden": true
   },
   "source": [
    "\n"
   ]
  },
  {
   "cell_type": "markdown",
   "metadata": {
    "hidden": true
   },
   "source": []
  },
  {
   "cell_type": "code",
   "execution_count": 23,
   "metadata": {
    "cell_style": "center",
    "colab": {
     "base_uri": "https://localhost:8080/",
     "height": 981
    },
    "executionInfo": {
     "elapsed": 5978,
     "status": "ok",
     "timestamp": 1610202268770,
     "user": {
      "displayName": "Richard C",
      "photoUrl": "",
      "userId": "08040814671867660929"
     },
     "user_tz": -180
    },
    "hidden": true,
    "id": "fNDK3HprhSU3",
    "outputId": "98fe8eba-dc36-4cc7-96ad-ff61182d12a2",
    "scrolled": false
   },
   "outputs": [
    {
     "data": {
      "text/plain": [
       "<AxesSubplot:>"
      ]
     },
     "execution_count": 23,
     "metadata": {},
     "output_type": "execute_result"
    },
    {
     "data": {
      "image/png": "[encoded data removed]",
      "text/plain": [
       "<Figure size 1152x864 with 2 Axes>"
      ]
     },
     "metadata": {},
     "output_type": "display_data"
    }
   ],
   "source": [
    "plt.figure(figsize=(16, 12))\n",
    "sns.heatmap(df.corr(), annot=True, cmap='viridis')"
   ]
  },
  {
   "cell_type": "code",
   "execution_count": 24,
   "metadata": {
    "cell_style": "center",
    "colab": {
     "base_uri": "https://localhost:8080/",
     "height": 391
    },
    "executionInfo": {
     "elapsed": 1405,
     "status": "ok",
     "timestamp": 1610203065835,
     "user": {
      "displayName": "Richard C",
      "photoUrl": "",
      "userId": "08040814671867660929"
     },
     "user_tz": -180
    },
    "hidden": true,
    "id": "IasR3c8ajeC0",
    "outputId": "4742bedb-e6bc-4967-f1cd-c36f7610f33e"
   },
   "outputs": [
    {
     "data": {
      "text/plain": [
       "<AxesSubplot:>"
      ]
     },
     "execution_count": 24,
     "metadata": {},
     "output_type": "execute_result"
    },
    {
     "data": {
      "image/png": "[encoded data removed]",
      "text/plain": [
       "<Figure size 864x432 with 1 Axes>"
      ]
     },
     "metadata": {},
     "output_type": "display_data"
    }
   ],
   "source": [
    "df.corr()['Exited'][:-1].sort_values().plot.bar()"
   ]
  },
  {
   "cell_type": "code",
   "execution_count": 25,
   "metadata": {
    "hidden": true
   },
   "outputs": [
    {
     "data": {
      "text/html": [
       "<div>\n",
       "<style scoped>\n",
       "    .dataframe tbody tr th:only-of-type {\n",
       "        vertical-align: middle;\n",
       "    }\n",
       "\n",
       "    .dataframe tbody tr th {\n",
       "        vertical-align: top;\n",
       "    }\n",
       "\n",
       "    .dataframe thead th {\n",
       "        text-align: right;\n",
       "    }\n",
       "</style>\n",
       "<table border=\"1\" class=\"dataframe\">\n",
       "  <thead>\n",
       "    <tr style=\"text-align: right;\">\n",
       "      <th></th>\n",
       "      <th>CreditScore</th>\n",
       "      <th>Age</th>\n",
       "      <th>Tenure</th>\n",
       "      <th>Balance</th>\n",
       "      <th>NumOfProducts</th>\n",
       "      <th>HasCrCard</th>\n",
       "      <th>IsActiveMember</th>\n",
       "      <th>EstimatedSalary</th>\n",
       "      <th>customer_value</th>\n",
       "      <th>Exited</th>\n",
       "      <th>Geography_Germany</th>\n",
       "      <th>Geography_Spain</th>\n",
       "      <th>Gender_Male</th>\n",
       "    </tr>\n",
       "    <tr>\n",
       "      <th>RowNumber</th>\n",
       "      <th></th>\n",
       "      <th></th>\n",
       "      <th></th>\n",
       "      <th></th>\n",
       "      <th></th>\n",
       "      <th></th>\n",
       "      <th></th>\n",
       "      <th></th>\n",
       "      <th></th>\n",
       "      <th></th>\n",
       "      <th></th>\n",
       "      <th></th>\n",
       "      <th></th>\n",
       "    </tr>\n",
       "  </thead>\n",
       "  <tbody>\n",
       "    <tr>\n",
       "      <th>1</th>\n",
       "      <td>619</td>\n",
       "      <td>42</td>\n",
       "      <td>2</td>\n",
       "      <td>0.000</td>\n",
       "      <td>1</td>\n",
       "      <td>1</td>\n",
       "      <td>1</td>\n",
       "      <td>101348.880</td>\n",
       "      <td>3</td>\n",
       "      <td>1</td>\n",
       "      <td>0</td>\n",
       "      <td>0</td>\n",
       "      <td>0</td>\n",
       "    </tr>\n",
       "    <tr>\n",
       "      <th>2</th>\n",
       "      <td>608</td>\n",
       "      <td>41</td>\n",
       "      <td>1</td>\n",
       "      <td>83807.860</td>\n",
       "      <td>1</td>\n",
       "      <td>0</td>\n",
       "      <td>1</td>\n",
       "      <td>112542.580</td>\n",
       "      <td>2</td>\n",
       "      <td>0</td>\n",
       "      <td>0</td>\n",
       "      <td>1</td>\n",
       "      <td>0</td>\n",
       "    </tr>\n",
       "    <tr>\n",
       "      <th>3</th>\n",
       "      <td>502</td>\n",
       "      <td>42</td>\n",
       "      <td>8</td>\n",
       "      <td>159660.800</td>\n",
       "      <td>3</td>\n",
       "      <td>1</td>\n",
       "      <td>0</td>\n",
       "      <td>113931.570</td>\n",
       "      <td>3</td>\n",
       "      <td>1</td>\n",
       "      <td>0</td>\n",
       "      <td>0</td>\n",
       "      <td>0</td>\n",
       "    </tr>\n",
       "    <tr>\n",
       "      <th>4</th>\n",
       "      <td>699</td>\n",
       "      <td>39</td>\n",
       "      <td>1</td>\n",
       "      <td>0.000</td>\n",
       "      <td>2</td>\n",
       "      <td>0</td>\n",
       "      <td>0</td>\n",
       "      <td>93826.630</td>\n",
       "      <td>2</td>\n",
       "      <td>0</td>\n",
       "      <td>0</td>\n",
       "      <td>0</td>\n",
       "      <td>0</td>\n",
       "    </tr>\n",
       "    <tr>\n",
       "      <th>5</th>\n",
       "      <td>850</td>\n",
       "      <td>43</td>\n",
       "      <td>2</td>\n",
       "      <td>125510.820</td>\n",
       "      <td>1</td>\n",
       "      <td>1</td>\n",
       "      <td>1</td>\n",
       "      <td>79084.100</td>\n",
       "      <td>4</td>\n",
       "      <td>0</td>\n",
       "      <td>0</td>\n",
       "      <td>1</td>\n",
       "      <td>0</td>\n",
       "    </tr>\n",
       "  </tbody>\n",
       "</table>\n",
       "</div>"
      ],
      "text/plain": [
       "           CreditScore  Age  Tenure    Balance  NumOfProducts  HasCrCard  \\\n",
       "RowNumber                                                                  \n",
       "1                  619   42       2      0.000              1          1   \n",
       "2                  608   41       1  83807.860              1          0   \n",
       "3                  502   42       8 159660.800              3          1   \n",
       "4                  699   39       1      0.000              2          0   \n",
       "5                  850   43       2 125510.820              1          1   \n",
       "\n",
       "           IsActiveMember  EstimatedSalary  customer_value  Exited  \\\n",
       "RowNumber                                                            \n",
       "1                       1       101348.880               3       1   \n",
       "2                       1       112542.580               2       0   \n",
       "3                       0       113931.570               3       1   \n",
       "4                       0        93826.630               2       0   \n",
       "5                       1        79084.100               4       0   \n",
       "\n",
       "           Geography_Germany  Geography_Spain  Gender_Male  \n",
       "RowNumber                                                   \n",
       "1                          0                0            0  \n",
       "2                          0                1            0  \n",
       "3                          0                0            0  \n",
       "4                          0                0            0  \n",
       "5                          0                1            0  "
      ]
     },
     "execution_count": 25,
     "metadata": {},
     "output_type": "execute_result"
    }
   ],
   "source": [
    "df = pd.get_dummies(df, drop_first=True)\n",
    "df.head()"
   ]
  },
  {
   "cell_type": "markdown",
   "metadata": {
    "heading_collapsed": true
   },
   "source": [
    "## Preprocessing of Data"
   ]
  },
  {
   "cell_type": "code",
   "execution_count": 26,
   "metadata": {
    "executionInfo": {
     "elapsed": 764,
     "status": "ok",
     "timestamp": 1610203310512,
     "user": {
      "displayName": "Richard C",
      "photoUrl": "",
      "userId": "08040814671867660929"
     },
     "user_tz": -180
    },
    "hidden": true,
    "id": "DjY-ZSPWka7D"
   },
   "outputs": [],
   "source": [
    "from sklearn.model_selection import train_test_split\n",
    "from sklearn.preprocessing import MinMaxScaler"
   ]
  },
  {
   "cell_type": "code",
   "execution_count": 27,
   "metadata": {
    "cell_style": "center",
    "executionInfo": {
     "elapsed": 1126,
     "status": "ok",
     "timestamp": 1610203246314,
     "user": {
      "displayName": "Richard C",
      "photoUrl": "",
      "userId": "08040814671867660929"
     },
     "user_tz": -180
    },
    "hidden": true,
    "id": "kjyTH753lq7M"
   },
   "outputs": [],
   "source": [
    "X = df.drop('Exited', axis=1)\n",
    "y = df['Exited'].values\n",
    "\n",
    "X_train, X_test, y_train, y_test = train_test_split(X,\n",
    "                                                    y,\n",
    "                                                    stratify=y,\n",
    "                                                    test_size=0.1,\n",
    "                                                    random_state=42)\n"
   ]
  },
  {
   "cell_type": "code",
   "execution_count": 28,
   "metadata": {
    "cell_style": "split",
    "hidden": true
   },
   "outputs": [],
   "source": [
    "scaler = MinMaxScaler()\n"
   ]
  },
  {
   "cell_type": "code",
   "execution_count": 29,
   "metadata": {
    "cell_style": "split",
    "executionInfo": {
     "elapsed": 696,
     "status": "ok",
     "timestamp": 1610203508023,
     "user": {
      "displayName": "Richard C",
      "photoUrl": "",
      "userId": "08040814671867660929"
     },
     "user_tz": -180
    },
    "hidden": true,
    "id": "Fgy3D9SBmWcq"
   },
   "outputs": [],
   "source": [
    "X_train = scaler.fit_transform(X_train)\n",
    "X_test = scaler.transform(X_test)"
   ]
  },
  {
   "cell_type": "markdown",
   "metadata": {
    "id": "Ha9hDt_AoGaE"
   },
   "source": [
    "## Modelling & Model Performance"
   ]
  },
  {
   "cell_type": "markdown",
   "metadata": {},
   "source": [
    "<span class=\"mark\">How many hidden layers should I use? : http://www.faqs.org/faqs/ai-faq/neural-nets/part3/section-9.html (mirror: http://francky.me/aifaq/FAQ-comp.ai.neural-net.pdf)\n",
    "How many hidden units should I use? : http://www.faqs.org/faqs/ai-faq/neural-nets/part3/section-10.html (mirror: http://francky.me/aifaq/FAQ-comp.ai.neural-net.pdf)\n",
    "What is genetic algorithm? : https://www.researchgate.net/post/What_is_genetic_algorithm1\n",
    "Genetic algorithm + neural networks: http://francky.me/doc/mrf2011-HEC-ISIR-ENS_en.pdf (chapter 2.2)</span>"
   ]
  },
  {
   "cell_type": "markdown",
   "metadata": {
    "heading_collapsed": true
   },
   "source": [
    "### without class_weigth"
   ]
  },
  {
   "cell_type": "code",
   "execution_count": 30,
   "metadata": {
    "cell_style": "split",
    "hidden": true
   },
   "outputs": [],
   "source": [
    "model = Sequential()\n",
    "\n",
    "model.add(Dense(16, activation=\"relu\"))\n",
    "model.add(Dense(8, activation=\"relu\"))\n",
    "model.add(Dense(1, activation=\"sigmoid\"))\n",
    "\n",
    "opt = Adam(lr=0.001)\n",
    "model.compile(optimizer=opt, \n",
    "              loss=\"binary_crossentropy\",\n",
    "              metrics=[\"Recall\"])"
   ]
  },
  {
   "cell_type": "markdown",
   "metadata": {
    "cell_style": "split",
    "hidden": true
   },
   "source": [
    "<span class=\"burk\">The patience is often set somewhere between 10 and 100 (10 or 20 is more common), but it really depends on your dataset and network.</span>"
   ]
  },
  {
   "cell_type": "code",
   "execution_count": 31,
   "metadata": {
    "cell_style": "split",
    "hidden": true
   },
   "outputs": [],
   "source": [
    "early_stop = EarlyStopping(monitor=\"val_loss\",\n",
    "                           mode=\"auto\",\n",
    "                           verbose=1,\n",
    "                           patience=15)"
   ]
  },
  {
   "cell_type": "code",
   "execution_count": 32,
   "metadata": {
    "cell_style": "center",
    "hidden": true,
    "scrolled": true
   },
   "outputs": [
    {
     "name": "stdout",
     "output_type": "stream",
     "text": [
      "Epoch 1/200\n",
      "64/64 [==============================] - 1s 6ms/step - loss: 0.5305 - recall: 0.0000e+00 - val_loss: 0.4849 - val_recall: 0.0000e+00\n",
      "Epoch 2/200\n",
      "64/64 [==============================] - 0s 2ms/step - loss: 0.4871 - recall: 0.0000e+00 - val_loss: 0.4749 - val_recall: 0.0000e+00\n",
      "Epoch 3/200\n",
      "64/64 [==============================] - 0s 2ms/step - loss: 0.4799 - recall: 0.0000e+00 - val_loss: 0.4662 - val_recall: 0.0000e+00\n",
      "Epoch 4/200\n",
      "64/64 [==============================] - 0s 2ms/step - loss: 0.4737 - recall: 0.0000e+00 - val_loss: 0.4590 - val_recall: 0.0000e+00\n",
      "Epoch 5/200\n",
      "64/64 [==============================] - 0s 2ms/step - loss: 0.4683 - recall: 0.0000e+00 - val_loss: 0.4523 - val_recall: 0.0000e+00\n",
      "Epoch 6/200\n",
      "64/64 [==============================] - 0s 2ms/step - loss: 0.4635 - recall: 0.0000e+00 - val_loss: 0.4463 - val_recall: 0.0000e+00\n",
      "Epoch 7/200\n",
      "64/64 [==============================] - 0s 2ms/step - loss: 0.4590 - recall: 0.0073 - val_loss: 0.4419 - val_recall: 0.0166\n",
      "Epoch 8/200\n",
      "64/64 [==============================] - 0s 2ms/step - loss: 0.4549 - recall: 0.0285 - val_loss: 0.4354 - val_recall: 0.0718\n",
      "Epoch 9/200\n",
      "64/64 [==============================] - 0s 2ms/step - loss: 0.4508 - recall: 0.0533 - val_loss: 0.4305 - val_recall: 0.1050\n",
      "Epoch 10/200\n",
      "64/64 [==============================] - 0s 2ms/step - loss: 0.4468 - recall: 0.0738 - val_loss: 0.4258 - val_recall: 0.1436\n",
      "Epoch 11/200\n",
      "64/64 [==============================] - 0s 2ms/step - loss: 0.4433 - recall: 0.0926 - val_loss: 0.4213 - val_recall: 0.1713\n",
      "Epoch 12/200\n",
      "64/64 [==============================] - 0s 2ms/step - loss: 0.4397 - recall: 0.1253 - val_loss: 0.4169 - val_recall: 0.1878\n",
      "Epoch 13/200\n",
      "64/64 [==============================] - 0s 2ms/step - loss: 0.4363 - recall: 0.1398 - val_loss: 0.4124 - val_recall: 0.1989\n",
      "Epoch 14/200\n",
      "64/64 [==============================] - 0s 2ms/step - loss: 0.4330 - recall: 0.1477 - val_loss: 0.4079 - val_recall: 0.2265\n",
      "Epoch 15/200\n",
      "64/64 [==============================] - 0s 2ms/step - loss: 0.4289 - recall: 0.1695 - val_loss: 0.4052 - val_recall: 0.2983\n",
      "Epoch 16/200\n",
      "64/64 [==============================] - 0s 2ms/step - loss: 0.4265 - recall: 0.1877 - val_loss: 0.3992 - val_recall: 0.2707\n",
      "Epoch 17/200\n",
      "64/64 [==============================] - 0s 2ms/step - loss: 0.4218 - recall: 0.2010 - val_loss: 0.3951 - val_recall: 0.2983\n",
      "Epoch 18/200\n",
      "64/64 [==============================] - 0s 2ms/step - loss: 0.4176 - recall: 0.2191 - val_loss: 0.3905 - val_recall: 0.2983\n",
      "Epoch 19/200\n",
      "64/64 [==============================] - 0s 2ms/step - loss: 0.4126 - recall: 0.2197 - val_loss: 0.3874 - val_recall: 0.3260\n",
      "Epoch 20/200\n",
      "64/64 [==============================] - 0s 2ms/step - loss: 0.4087 - recall: 0.2530 - val_loss: 0.3802 - val_recall: 0.3039\n",
      "Epoch 21/200\n",
      "64/64 [==============================] - 0s 2ms/step - loss: 0.4041 - recall: 0.2518 - val_loss: 0.3757 - val_recall: 0.3757\n",
      "Epoch 22/200\n",
      "64/64 [==============================] - 0s 2ms/step - loss: 0.3999 - recall: 0.2785 - val_loss: 0.3698 - val_recall: 0.3260\n",
      "Epoch 23/200\n",
      "64/64 [==============================] - 0s 2ms/step - loss: 0.3949 - recall: 0.2893 - val_loss: 0.3660 - val_recall: 0.4199\n",
      "Epoch 24/200\n",
      "64/64 [==============================] - 0s 2ms/step - loss: 0.3919 - recall: 0.3015 - val_loss: 0.3593 - val_recall: 0.4144\n",
      "Epoch 25/200\n",
      "64/64 [==============================] - 0s 2ms/step - loss: 0.3870 - recall: 0.3105 - val_loss: 0.3538 - val_recall: 0.4199\n",
      "Epoch 26/200\n",
      "64/64 [==============================] - 0s 2ms/step - loss: 0.3828 - recall: 0.3093 - val_loss: 0.3495 - val_recall: 0.4420\n",
      "Epoch 27/200\n",
      "64/64 [==============================] - 0s 2ms/step - loss: 0.3794 - recall: 0.3208 - val_loss: 0.3453 - val_recall: 0.4530\n",
      "Epoch 28/200\n",
      "64/64 [==============================] - 0s 2ms/step - loss: 0.3776 - recall: 0.3335 - val_loss: 0.3407 - val_recall: 0.4420\n",
      "Epoch 29/200\n",
      "64/64 [==============================] - 0s 2ms/step - loss: 0.3740 - recall: 0.3462 - val_loss: 0.3377 - val_recall: 0.4530\n",
      "Epoch 30/200\n",
      "64/64 [==============================] - 0s 2ms/step - loss: 0.3714 - recall: 0.3559 - val_loss: 0.3361 - val_recall: 0.4751\n",
      "Epoch 31/200\n",
      "64/64 [==============================] - 0s 2ms/step - loss: 0.3699 - recall: 0.3565 - val_loss: 0.3316 - val_recall: 0.4862\n",
      "Epoch 32/200\n",
      "64/64 [==============================] - 0s 2ms/step - loss: 0.3675 - recall: 0.3814 - val_loss: 0.3295 - val_recall: 0.4420\n",
      "Epoch 33/200\n",
      "64/64 [==============================] - 0s 2ms/step - loss: 0.3657 - recall: 0.3801 - val_loss: 0.3289 - val_recall: 0.4807\n",
      "Epoch 34/200\n",
      "64/64 [==============================] - 0s 2ms/step - loss: 0.3644 - recall: 0.3862 - val_loss: 0.3263 - val_recall: 0.4751\n",
      "Epoch 35/200\n",
      "64/64 [==============================] - 0s 2ms/step - loss: 0.3631 - recall: 0.3916 - val_loss: 0.3233 - val_recall: 0.4586\n",
      "Epoch 36/200\n",
      "64/64 [==============================] - 0s 2ms/step - loss: 0.3631 - recall: 0.3832 - val_loss: 0.3246 - val_recall: 0.5028\n",
      "Epoch 37/200\n",
      "64/64 [==============================] - 0s 2ms/step - loss: 0.3608 - recall: 0.3959 - val_loss: 0.3221 - val_recall: 0.4751\n",
      "Epoch 38/200\n",
      "64/64 [==============================] - 0s 2ms/step - loss: 0.3604 - recall: 0.4007 - val_loss: 0.3202 - val_recall: 0.4807\n",
      "Epoch 39/200\n",
      "64/64 [==============================] - 0s 2ms/step - loss: 0.3598 - recall: 0.4013 - val_loss: 0.3186 - val_recall: 0.4862\n",
      "Epoch 40/200\n",
      "64/64 [==============================] - 0s 2ms/step - loss: 0.3595 - recall: 0.4056 - val_loss: 0.3187 - val_recall: 0.4917\n",
      "Epoch 41/200\n",
      "64/64 [==============================] - 0s 2ms/step - loss: 0.3584 - recall: 0.4068 - val_loss: 0.3176 - val_recall: 0.4972\n",
      "Epoch 42/200\n",
      "64/64 [==============================] - 0s 2ms/step - loss: 0.3575 - recall: 0.4189 - val_loss: 0.3172 - val_recall: 0.4751\n",
      "Epoch 43/200\n",
      "64/64 [==============================] - 0s 2ms/step - loss: 0.3569 - recall: 0.4086 - val_loss: 0.3181 - val_recall: 0.5138\n",
      "Epoch 44/200\n",
      "64/64 [==============================] - 0s 2ms/step - loss: 0.3574 - recall: 0.4140 - val_loss: 0.3162 - val_recall: 0.4972\n",
      "Epoch 45/200\n",
      "64/64 [==============================] - 0s 2ms/step - loss: 0.3567 - recall: 0.4177 - val_loss: 0.3163 - val_recall: 0.4696\n",
      "Epoch 46/200\n",
      "64/64 [==============================] - 0s 2ms/step - loss: 0.3561 - recall: 0.4116 - val_loss: 0.3156 - val_recall: 0.5028\n",
      "Epoch 47/200\n",
      "64/64 [==============================] - 0s 2ms/step - loss: 0.3554 - recall: 0.4201 - val_loss: 0.3229 - val_recall: 0.5691\n",
      "Epoch 48/200\n",
      "64/64 [==============================] - 0s 2ms/step - loss: 0.3563 - recall: 0.4122 - val_loss: 0.3190 - val_recall: 0.5414\n",
      "Epoch 49/200\n",
      "64/64 [==============================] - 0s 2ms/step - loss: 0.3551 - recall: 0.4195 - val_loss: 0.3149 - val_recall: 0.5028\n",
      "Epoch 50/200\n",
      "64/64 [==============================] - 0s 2ms/step - loss: 0.3547 - recall: 0.4159 - val_loss: 0.3141 - val_recall: 0.5028\n",
      "Epoch 51/200\n",
      "64/64 [==============================] - 0s 2ms/step - loss: 0.3542 - recall: 0.4153 - val_loss: 0.3174 - val_recall: 0.5359\n",
      "Epoch 52/200\n",
      "64/64 [==============================] - 0s 2ms/step - loss: 0.3548 - recall: 0.4274 - val_loss: 0.3164 - val_recall: 0.5414\n",
      "Epoch 53/200\n",
      "64/64 [==============================] - 0s 2ms/step - loss: 0.3541 - recall: 0.4219 - val_loss: 0.3141 - val_recall: 0.5138\n",
      "Epoch 54/200\n",
      "64/64 [==============================] - 0s 2ms/step - loss: 0.3532 - recall: 0.4116 - val_loss: 0.3166 - val_recall: 0.5470\n",
      "Epoch 55/200\n",
      "64/64 [==============================] - 0s 2ms/step - loss: 0.3537 - recall: 0.4213 - val_loss: 0.3121 - val_recall: 0.5083\n",
      "Epoch 56/200\n",
      "64/64 [==============================] - 0s 2ms/step - loss: 0.3528 - recall: 0.4225 - val_loss: 0.3122 - val_recall: 0.4972\n",
      "Epoch 57/200\n",
      "64/64 [==============================] - 0s 2ms/step - loss: 0.3525 - recall: 0.4165 - val_loss: 0.3134 - val_recall: 0.5249\n",
      "Epoch 58/200\n",
      "64/64 [==============================] - 0s 2ms/step - loss: 0.3530 - recall: 0.4231 - val_loss: 0.3138 - val_recall: 0.5193\n",
      "Epoch 59/200\n",
      "64/64 [==============================] - 0s 2ms/step - loss: 0.3520 - recall: 0.4128 - val_loss: 0.3134 - val_recall: 0.4862\n",
      "Epoch 60/200\n",
      "64/64 [==============================] - 0s 2ms/step - loss: 0.3520 - recall: 0.4225 - val_loss: 0.3109 - val_recall: 0.4972\n",
      "Epoch 61/200\n",
      "64/64 [==============================] - 0s 2ms/step - loss: 0.3518 - recall: 0.4213 - val_loss: 0.3110 - val_recall: 0.4807\n",
      "Epoch 62/200\n",
      "64/64 [==============================] - 0s 2ms/step - loss: 0.3515 - recall: 0.4274 - val_loss: 0.3122 - val_recall: 0.4972\n",
      "Epoch 63/200\n",
      "64/64 [==============================] - 0s 2ms/step - loss: 0.3512 - recall: 0.4189 - val_loss: 0.3105 - val_recall: 0.5138\n",
      "Epoch 64/200\n",
      "64/64 [==============================] - 0s 2ms/step - loss: 0.3508 - recall: 0.4153 - val_loss: 0.3108 - val_recall: 0.4641\n",
      "Epoch 65/200\n",
      "64/64 [==============================] - 0s 2ms/step - loss: 0.3523 - recall: 0.4255 - val_loss: 0.3159 - val_recall: 0.5580\n",
      "Epoch 66/200\n",
      "64/64 [==============================] - 0s 2ms/step - loss: 0.3505 - recall: 0.4165 - val_loss: 0.3115 - val_recall: 0.5249\n",
      "Epoch 67/200\n",
      "64/64 [==============================] - 0s 2ms/step - loss: 0.3507 - recall: 0.4310 - val_loss: 0.3114 - val_recall: 0.4586\n",
      "Epoch 68/200\n",
      "64/64 [==============================] - 0s 2ms/step - loss: 0.3502 - recall: 0.4286 - val_loss: 0.3105 - val_recall: 0.4751\n",
      "Epoch 69/200\n",
      "64/64 [==============================] - 0s 2ms/step - loss: 0.3497 - recall: 0.4231 - val_loss: 0.3137 - val_recall: 0.5746\n",
      "Epoch 70/200\n",
      "64/64 [==============================] - 0s 2ms/step - loss: 0.3508 - recall: 0.4316 - val_loss: 0.3109 - val_recall: 0.5359\n",
      "Epoch 71/200\n",
      "64/64 [==============================] - 0s 2ms/step - loss: 0.3497 - recall: 0.4207 - val_loss: 0.3102 - val_recall: 0.5193\n",
      "Epoch 72/200\n",
      "64/64 [==============================] - 0s 2ms/step - loss: 0.3500 - recall: 0.4286 - val_loss: 0.3101 - val_recall: 0.5028\n",
      "Epoch 73/200\n",
      "64/64 [==============================] - 0s 2ms/step - loss: 0.3495 - recall: 0.4274 - val_loss: 0.3096 - val_recall: 0.4530\n",
      "Epoch 74/200\n",
      "64/64 [==============================] - 0s 2ms/step - loss: 0.3492 - recall: 0.4159 - val_loss: 0.3115 - val_recall: 0.5580\n",
      "Epoch 75/200\n",
      "64/64 [==============================] - 0s 2ms/step - loss: 0.3491 - recall: 0.4292 - val_loss: 0.3078 - val_recall: 0.5138\n",
      "Epoch 76/200\n",
      "64/64 [==============================] - 0s 2ms/step - loss: 0.3486 - recall: 0.4328 - val_loss: 0.3111 - val_recall: 0.5138\n",
      "Epoch 77/200\n",
      "64/64 [==============================] - 0s 2ms/step - loss: 0.3483 - recall: 0.4183 - val_loss: 0.3083 - val_recall: 0.5525\n",
      "Epoch 78/200\n",
      "64/64 [==============================] - 0s 2ms/step - loss: 0.3491 - recall: 0.4383 - val_loss: 0.3079 - val_recall: 0.4696\n",
      "Epoch 79/200\n",
      "64/64 [==============================] - 0s 2ms/step - loss: 0.3487 - recall: 0.4237 - val_loss: 0.3072 - val_recall: 0.5083\n",
      "Epoch 80/200\n",
      "64/64 [==============================] - 0s 2ms/step - loss: 0.3481 - recall: 0.4304 - val_loss: 0.3112 - val_recall: 0.5635\n",
      "Epoch 81/200\n",
      "64/64 [==============================] - 0s 3ms/step - loss: 0.3484 - recall: 0.4280 - val_loss: 0.3107 - val_recall: 0.5414\n",
      "Epoch 82/200\n",
      "64/64 [==============================] - 0s 2ms/step - loss: 0.3475 - recall: 0.4268 - val_loss: 0.3105 - val_recall: 0.5801\n",
      "Epoch 83/200\n",
      "64/64 [==============================] - 0s 2ms/step - loss: 0.3481 - recall: 0.4389 - val_loss: 0.3095 - val_recall: 0.5580\n",
      "Epoch 84/200\n",
      "64/64 [==============================] - 0s 2ms/step - loss: 0.3477 - recall: 0.4274 - val_loss: 0.3066 - val_recall: 0.5083\n",
      "Epoch 85/200\n",
      "64/64 [==============================] - 0s 3ms/step - loss: 0.3469 - recall: 0.4316 - val_loss: 0.3122 - val_recall: 0.5856\n",
      "Epoch 86/200\n",
      "64/64 [==============================] - 0s 3ms/step - loss: 0.3473 - recall: 0.4401 - val_loss: 0.3095 - val_recall: 0.4586\n",
      "Epoch 87/200\n",
      "64/64 [==============================] - 0s 2ms/step - loss: 0.3483 - recall: 0.4292 - val_loss: 0.3080 - val_recall: 0.5138\n",
      "Epoch 88/200\n",
      "64/64 [==============================] - 0s 2ms/step - loss: 0.3475 - recall: 0.4249 - val_loss: 0.3076 - val_recall: 0.4917\n",
      "Epoch 89/200\n",
      "64/64 [==============================] - 0s 2ms/step - loss: 0.3468 - recall: 0.4395 - val_loss: 0.3083 - val_recall: 0.5193\n",
      "Epoch 90/200\n",
      "64/64 [==============================] - 0s 3ms/step - loss: 0.3474 - recall: 0.4316 - val_loss: 0.3070 - val_recall: 0.4862\n",
      "Epoch 91/200\n",
      "64/64 [==============================] - 0s 2ms/step - loss: 0.3466 - recall: 0.4395 - val_loss: 0.3083 - val_recall: 0.5083\n",
      "Epoch 92/200\n",
      "64/64 [==============================] - 0s 2ms/step - loss: 0.3466 - recall: 0.4219 - val_loss: 0.3121 - val_recall: 0.5746\n",
      "Epoch 93/200\n",
      "64/64 [==============================] - 0s 2ms/step - loss: 0.3471 - recall: 0.4286 - val_loss: 0.3062 - val_recall: 0.5304\n",
      "Epoch 94/200\n",
      "64/64 [==============================] - 0s 2ms/step - loss: 0.3471 - recall: 0.4364 - val_loss: 0.3066 - val_recall: 0.4641\n",
      "Epoch 95/200\n",
      "64/64 [==============================] - 0s 2ms/step - loss: 0.3468 - recall: 0.4237 - val_loss: 0.3148 - val_recall: 0.5801\n",
      "Epoch 96/200\n",
      "64/64 [==============================] - 0s 2ms/step - loss: 0.3465 - recall: 0.4346 - val_loss: 0.3073 - val_recall: 0.4917\n",
      "Epoch 97/200\n",
      "64/64 [==============================] - 0s 2ms/step - loss: 0.3473 - recall: 0.4328 - val_loss: 0.3082 - val_recall: 0.4751\n",
      "Epoch 98/200\n",
      "64/64 [==============================] - 0s 2ms/step - loss: 0.3459 - recall: 0.4383 - val_loss: 0.3079 - val_recall: 0.5028\n",
      "Epoch 99/200\n",
      "64/64 [==============================] - 0s 2ms/step - loss: 0.3465 - recall: 0.4407 - val_loss: 0.3070 - val_recall: 0.4751\n",
      "Epoch 100/200\n",
      "64/64 [==============================] - 0s 2ms/step - loss: 0.3453 - recall: 0.4322 - val_loss: 0.3088 - val_recall: 0.5635\n",
      "Epoch 101/200\n",
      "64/64 [==============================] - 0s 4ms/step - loss: 0.3452 - recall: 0.4322 - val_loss: 0.3095 - val_recall: 0.5801\n",
      "Epoch 102/200\n",
      "64/64 [==============================] - 0s 3ms/step - loss: 0.3458 - recall: 0.4431 - val_loss: 0.3056 - val_recall: 0.5028\n",
      "Epoch 103/200\n",
      "64/64 [==============================] - 0s 3ms/step - loss: 0.3453 - recall: 0.4298 - val_loss: 0.3065 - val_recall: 0.4807\n",
      "Epoch 104/200\n",
      "64/64 [==============================] - 0s 3ms/step - loss: 0.3448 - recall: 0.4449 - val_loss: 0.3064 - val_recall: 0.4751\n",
      "Epoch 105/200\n",
      "64/64 [==============================] - 0s 3ms/step - loss: 0.3457 - recall: 0.4286 - val_loss: 0.3056 - val_recall: 0.4972\n",
      "Epoch 106/200\n",
      "64/64 [==============================] - 0s 2ms/step - loss: 0.3447 - recall: 0.4334 - val_loss: 0.3055 - val_recall: 0.5083\n",
      "Epoch 107/200\n",
      "64/64 [==============================] - 0s 3ms/step - loss: 0.3451 - recall: 0.4364 - val_loss: 0.3064 - val_recall: 0.4972\n",
      "Epoch 108/200\n",
      "64/64 [==============================] - 0s 3ms/step - loss: 0.3440 - recall: 0.4401 - val_loss: 0.3066 - val_recall: 0.4972\n",
      "Epoch 109/200\n",
      "64/64 [==============================] - 0s 3ms/step - loss: 0.3436 - recall: 0.4449 - val_loss: 0.3049 - val_recall: 0.5193\n",
      "Epoch 110/200\n",
      "64/64 [==============================] - 0s 3ms/step - loss: 0.3436 - recall: 0.4473 - val_loss: 0.3074 - val_recall: 0.4862\n",
      "Epoch 111/200\n",
      "64/64 [==============================] - 0s 3ms/step - loss: 0.3443 - recall: 0.4304 - val_loss: 0.3100 - val_recall: 0.5580\n",
      "Epoch 112/200\n",
      "64/64 [==============================] - 0s 3ms/step - loss: 0.3439 - recall: 0.4431 - val_loss: 0.3056 - val_recall: 0.4917\n",
      "Epoch 113/200\n",
      "64/64 [==============================] - 0s 5ms/step - loss: 0.3456 - recall: 0.4286 - val_loss: 0.3048 - val_recall: 0.4807\n",
      "Epoch 114/200\n",
      "64/64 [==============================] - 0s 2ms/step - loss: 0.3445 - recall: 0.4461 - val_loss: 0.3046 - val_recall: 0.4862\n",
      "Epoch 115/200\n",
      "64/64 [==============================] - 0s 3ms/step - loss: 0.3436 - recall: 0.4473 - val_loss: 0.3068 - val_recall: 0.4751\n",
      "Epoch 116/200\n",
      "64/64 [==============================] - 0s 3ms/step - loss: 0.3431 - recall: 0.4389 - val_loss: 0.3080 - val_recall: 0.5801\n",
      "Epoch 117/200\n",
      "64/64 [==============================] - 0s 2ms/step - loss: 0.3429 - recall: 0.4467 - val_loss: 0.3041 - val_recall: 0.4862\n",
      "Epoch 118/200\n",
      "64/64 [==============================] - 0s 2ms/step - loss: 0.3436 - recall: 0.4419 - val_loss: 0.3041 - val_recall: 0.4972\n",
      "Epoch 119/200\n",
      "64/64 [==============================] - 0s 2ms/step - loss: 0.3423 - recall: 0.4467 - val_loss: 0.3066 - val_recall: 0.5138\n",
      "Epoch 120/200\n",
      "64/64 [==============================] - 0s 2ms/step - loss: 0.3428 - recall: 0.4419 - val_loss: 0.3048 - val_recall: 0.5359\n",
      "Epoch 121/200\n",
      "64/64 [==============================] - 0s 2ms/step - loss: 0.3426 - recall: 0.4431 - val_loss: 0.3072 - val_recall: 0.5083\n",
      "Epoch 122/200\n",
      "64/64 [==============================] - 0s 2ms/step - loss: 0.3433 - recall: 0.4407 - val_loss: 0.3072 - val_recall: 0.5414\n",
      "Epoch 123/200\n",
      "64/64 [==============================] - 0s 2ms/step - loss: 0.3419 - recall: 0.4443 - val_loss: 0.3065 - val_recall: 0.5083\n",
      "Epoch 124/200\n",
      "64/64 [==============================] - 0s 2ms/step - loss: 0.3422 - recall: 0.4407 - val_loss: 0.3070 - val_recall: 0.5801\n",
      "Epoch 125/200\n",
      "64/64 [==============================] - 0s 2ms/step - loss: 0.3430 - recall: 0.4552 - val_loss: 0.3030 - val_recall: 0.5470\n",
      "Epoch 126/200\n",
      "64/64 [==============================] - 0s 2ms/step - loss: 0.3420 - recall: 0.4425 - val_loss: 0.3060 - val_recall: 0.5856\n",
      "Epoch 127/200\n",
      "64/64 [==============================] - 0s 2ms/step - loss: 0.3418 - recall: 0.4467 - val_loss: 0.3053 - val_recall: 0.5801\n",
      "Epoch 128/200\n",
      "64/64 [==============================] - 0s 2ms/step - loss: 0.3414 - recall: 0.4492 - val_loss: 0.3068 - val_recall: 0.5304\n",
      "Epoch 129/200\n",
      "64/64 [==============================] - 0s 3ms/step - loss: 0.3411 - recall: 0.4419 - val_loss: 0.3030 - val_recall: 0.5359\n",
      "Epoch 130/200\n",
      "64/64 [==============================] - 0s 3ms/step - loss: 0.3414 - recall: 0.4461 - val_loss: 0.3037 - val_recall: 0.5580\n",
      "Epoch 131/200\n",
      "64/64 [==============================] - 0s 2ms/step - loss: 0.3409 - recall: 0.4552 - val_loss: 0.3032 - val_recall: 0.4917\n",
      "Epoch 132/200\n",
      "64/64 [==============================] - 0s 2ms/step - loss: 0.3409 - recall: 0.4437 - val_loss: 0.3094 - val_recall: 0.5470\n",
      "Epoch 133/200\n",
      "64/64 [==============================] - 0s 2ms/step - loss: 0.3409 - recall: 0.4516 - val_loss: 0.3030 - val_recall: 0.5249\n",
      "Epoch 134/200\n",
      "64/64 [==============================] - 0s 2ms/step - loss: 0.3413 - recall: 0.4401 - val_loss: 0.3029 - val_recall: 0.5249\n",
      "Epoch 135/200\n",
      "64/64 [==============================] - 0s 2ms/step - loss: 0.3407 - recall: 0.4528 - val_loss: 0.3037 - val_recall: 0.4917\n",
      "Epoch 136/200\n",
      "64/64 [==============================] - 0s 2ms/step - loss: 0.3404 - recall: 0.4443 - val_loss: 0.3048 - val_recall: 0.5470\n",
      "Epoch 137/200\n",
      "64/64 [==============================] - 0s 2ms/step - loss: 0.3410 - recall: 0.4437 - val_loss: 0.3040 - val_recall: 0.5470\n",
      "Epoch 138/200\n",
      "64/64 [==============================] - 0s 2ms/step - loss: 0.3404 - recall: 0.4449 - val_loss: 0.3078 - val_recall: 0.5359\n",
      "Epoch 139/200\n",
      "64/64 [==============================] - 0s 2ms/step - loss: 0.3405 - recall: 0.4498 - val_loss: 0.3026 - val_recall: 0.4917\n",
      "Epoch 140/200\n",
      "64/64 [==============================] - 0s 3ms/step - loss: 0.3402 - recall: 0.4522 - val_loss: 0.3029 - val_recall: 0.5856\n",
      "Epoch 141/200\n",
      "64/64 [==============================] - 0s 3ms/step - loss: 0.3401 - recall: 0.4492 - val_loss: 0.3015 - val_recall: 0.5083\n",
      "Epoch 142/200\n",
      "64/64 [==============================] - 0s 3ms/step - loss: 0.3392 - recall: 0.4479 - val_loss: 0.3036 - val_recall: 0.5746\n",
      "Epoch 143/200\n",
      "64/64 [==============================] - 0s 2ms/step - loss: 0.3391 - recall: 0.4552 - val_loss: 0.3011 - val_recall: 0.4751\n",
      "Epoch 144/200\n",
      "64/64 [==============================] - 0s 2ms/step - loss: 0.3388 - recall: 0.4498 - val_loss: 0.3079 - val_recall: 0.5801\n",
      "Epoch 145/200\n",
      "64/64 [==============================] - 0s 3ms/step - loss: 0.3394 - recall: 0.4528 - val_loss: 0.3018 - val_recall: 0.5470\n",
      "Epoch 146/200\n",
      "64/64 [==============================] - 0s 3ms/step - loss: 0.3400 - recall: 0.4510 - val_loss: 0.3094 - val_recall: 0.5967\n",
      "Epoch 147/200\n",
      "64/64 [==============================] - 0s 3ms/step - loss: 0.3400 - recall: 0.4613 - val_loss: 0.3012 - val_recall: 0.5635\n",
      "Epoch 148/200\n",
      "64/64 [==============================] - 0s 2ms/step - loss: 0.3395 - recall: 0.4588 - val_loss: 0.3035 - val_recall: 0.4586\n",
      "Epoch 149/200\n",
      "64/64 [==============================] - 0s 2ms/step - loss: 0.3391 - recall: 0.4498 - val_loss: 0.3046 - val_recall: 0.5912\n",
      "Epoch 150/200\n",
      "64/64 [==============================] - 0s 3ms/step - loss: 0.3390 - recall: 0.4492 - val_loss: 0.3021 - val_recall: 0.5249\n",
      "Epoch 151/200\n",
      "64/64 [==============================] - 0s 2ms/step - loss: 0.3380 - recall: 0.4582 - val_loss: 0.3025 - val_recall: 0.5580\n",
      "Epoch 152/200\n",
      "64/64 [==============================] - 0s 4ms/step - loss: 0.3382 - recall: 0.4613 - val_loss: 0.3004 - val_recall: 0.5580\n",
      "Epoch 153/200\n",
      "64/64 [==============================] - 0s 3ms/step - loss: 0.3380 - recall: 0.4619 - val_loss: 0.3046 - val_recall: 0.4475\n",
      "Epoch 154/200\n",
      "64/64 [==============================] - 0s 2ms/step - loss: 0.3385 - recall: 0.4558 - val_loss: 0.3008 - val_recall: 0.5691\n",
      "Epoch 155/200\n",
      "64/64 [==============================] - 0s 3ms/step - loss: 0.3380 - recall: 0.4552 - val_loss: 0.3009 - val_recall: 0.4807\n",
      "Epoch 156/200\n",
      "64/64 [==============================] - 0s 2ms/step - loss: 0.3383 - recall: 0.4570 - val_loss: 0.3034 - val_recall: 0.5691\n",
      "Epoch 157/200\n",
      "64/64 [==============================] - 0s 2ms/step - loss: 0.3375 - recall: 0.4540 - val_loss: 0.3024 - val_recall: 0.5801\n",
      "Epoch 158/200\n",
      "64/64 [==============================] - 0s 4ms/step - loss: 0.3374 - recall: 0.4619 - val_loss: 0.3016 - val_recall: 0.5028\n",
      "Epoch 159/200\n",
      "64/64 [==============================] - 0s 3ms/step - loss: 0.3385 - recall: 0.4504 - val_loss: 0.3029 - val_recall: 0.5028\n",
      "Epoch 160/200\n",
      "64/64 [==============================] - 0s 3ms/step - loss: 0.3405 - recall: 0.4510 - val_loss: 0.3012 - val_recall: 0.5359\n",
      "Epoch 161/200\n",
      "64/64 [==============================] - 0s 4ms/step - loss: 0.3371 - recall: 0.4600 - val_loss: 0.3030 - val_recall: 0.5912\n",
      "Epoch 162/200\n",
      "64/64 [==============================] - 0s 3ms/step - loss: 0.3364 - recall: 0.4582 - val_loss: 0.3006 - val_recall: 0.5470\n",
      "Epoch 163/200\n",
      "64/64 [==============================] - 0s 2ms/step - loss: 0.3366 - recall: 0.4570 - val_loss: 0.3045 - val_recall: 0.6243\n",
      "Epoch 164/200\n",
      "64/64 [==============================] - 0s 2ms/step - loss: 0.3378 - recall: 0.4594 - val_loss: 0.3000 - val_recall: 0.5304\n",
      "Epoch 165/200\n",
      "64/64 [==============================] - 0s 3ms/step - loss: 0.3372 - recall: 0.4619 - val_loss: 0.3005 - val_recall: 0.5691\n",
      "Epoch 166/200\n",
      "64/64 [==============================] - 0s 3ms/step - loss: 0.3379 - recall: 0.4594 - val_loss: 0.2999 - val_recall: 0.5746\n",
      "Epoch 167/200\n",
      "64/64 [==============================] - 0s 4ms/step - loss: 0.3362 - recall: 0.4715 - val_loss: 0.3023 - val_recall: 0.6077\n",
      "Epoch 168/200\n",
      "64/64 [==============================] - 0s 3ms/step - loss: 0.3362 - recall: 0.4576 - val_loss: 0.3008 - val_recall: 0.5967\n",
      "Epoch 169/200\n",
      "64/64 [==============================] - 0s 2ms/step - loss: 0.3367 - recall: 0.4625 - val_loss: 0.3013 - val_recall: 0.5470\n",
      "Epoch 170/200\n",
      "64/64 [==============================] - 0s 3ms/step - loss: 0.3368 - recall: 0.4576 - val_loss: 0.3009 - val_recall: 0.5580\n",
      "Epoch 171/200\n",
      "64/64 [==============================] - 0s 2ms/step - loss: 0.3357 - recall: 0.4619 - val_loss: 0.2988 - val_recall: 0.5470\n",
      "Epoch 172/200\n",
      "64/64 [==============================] - 0s 3ms/step - loss: 0.3371 - recall: 0.4667 - val_loss: 0.2999 - val_recall: 0.5249\n",
      "Epoch 173/200\n",
      "64/64 [==============================] - 0s 2ms/step - loss: 0.3366 - recall: 0.4619 - val_loss: 0.3023 - val_recall: 0.6243\n",
      "Epoch 174/200\n",
      "64/64 [==============================] - 0s 3ms/step - loss: 0.3363 - recall: 0.4649 - val_loss: 0.3005 - val_recall: 0.5967\n",
      "Epoch 175/200\n",
      "64/64 [==============================] - 0s 2ms/step - loss: 0.3354 - recall: 0.4625 - val_loss: 0.3015 - val_recall: 0.6354\n",
      "Epoch 176/200\n",
      "64/64 [==============================] - 0s 2ms/step - loss: 0.3360 - recall: 0.4715 - val_loss: 0.3009 - val_recall: 0.5801\n",
      "Epoch 177/200\n",
      "64/64 [==============================] - 0s 3ms/step - loss: 0.3350 - recall: 0.4643 - val_loss: 0.2983 - val_recall: 0.5691\n",
      "Epoch 178/200\n",
      "64/64 [==============================] - 0s 2ms/step - loss: 0.3355 - recall: 0.4625 - val_loss: 0.2995 - val_recall: 0.5967\n",
      "Epoch 179/200\n",
      "64/64 [==============================] - 0s 2ms/step - loss: 0.3357 - recall: 0.4697 - val_loss: 0.3019 - val_recall: 0.5691\n",
      "Epoch 180/200\n",
      "64/64 [==============================] - 0s 2ms/step - loss: 0.3364 - recall: 0.4570 - val_loss: 0.2982 - val_recall: 0.5580\n",
      "Epoch 181/200\n",
      "64/64 [==============================] - 0s 3ms/step - loss: 0.3359 - recall: 0.4619 - val_loss: 0.2975 - val_recall: 0.5525\n",
      "Epoch 182/200\n",
      "64/64 [==============================] - 0s 2ms/step - loss: 0.3367 - recall: 0.4752 - val_loss: 0.3002 - val_recall: 0.5801\n",
      "Epoch 183/200\n",
      "64/64 [==============================] - 0s 2ms/step - loss: 0.3353 - recall: 0.4697 - val_loss: 0.2987 - val_recall: 0.4917\n",
      "Epoch 184/200\n",
      "64/64 [==============================] - 0s 2ms/step - loss: 0.3349 - recall: 0.4625 - val_loss: 0.2986 - val_recall: 0.5359\n",
      "Epoch 185/200\n",
      "64/64 [==============================] - 0s 2ms/step - loss: 0.3346 - recall: 0.4685 - val_loss: 0.2986 - val_recall: 0.5691\n",
      "Epoch 186/200\n",
      "64/64 [==============================] - 0s 3ms/step - loss: 0.3345 - recall: 0.4655 - val_loss: 0.3025 - val_recall: 0.6243\n",
      "Epoch 187/200\n",
      "64/64 [==============================] - 0s 2ms/step - loss: 0.3349 - recall: 0.4631 - val_loss: 0.2984 - val_recall: 0.5856\n",
      "Epoch 188/200\n",
      "64/64 [==============================] - 0s 3ms/step - loss: 0.3341 - recall: 0.4758 - val_loss: 0.2982 - val_recall: 0.5138\n",
      "Epoch 189/200\n",
      "64/64 [==============================] - 0s 2ms/step - loss: 0.3346 - recall: 0.4776 - val_loss: 0.3004 - val_recall: 0.4586\n",
      "Epoch 190/200\n",
      "64/64 [==============================] - 0s 3ms/step - loss: 0.3363 - recall: 0.4522 - val_loss: 0.2977 - val_recall: 0.5856\n",
      "Epoch 191/200\n",
      "64/64 [==============================] - 0s 2ms/step - loss: 0.3343 - recall: 0.4667 - val_loss: 0.3025 - val_recall: 0.6298\n",
      "Epoch 192/200\n",
      "64/64 [==============================] - 0s 3ms/step - loss: 0.3337 - recall: 0.4734 - val_loss: 0.2982 - val_recall: 0.5414\n",
      "Epoch 193/200\n",
      "64/64 [==============================] - 0s 2ms/step - loss: 0.3336 - recall: 0.4722 - val_loss: 0.2989 - val_recall: 0.4751\n",
      "Epoch 194/200\n",
      "64/64 [==============================] - 0s 3ms/step - loss: 0.3352 - recall: 0.4685 - val_loss: 0.2983 - val_recall: 0.5580\n",
      "Epoch 195/200\n",
      "64/64 [==============================] - 0s 2ms/step - loss: 0.3347 - recall: 0.4703 - val_loss: 0.3000 - val_recall: 0.5691\n",
      "Epoch 196/200\n",
      "64/64 [==============================] - 0s 3ms/step - loss: 0.3338 - recall: 0.4734 - val_loss: 0.3010 - val_recall: 0.5083\n",
      "Epoch 00196: early stopping\n"
     ]
    },
    {
     "data": {
      "text/plain": [
       "<keras.callbacks.History at 0x2763fcbf550>"
      ]
     },
     "execution_count": 32,
     "metadata": {},
     "output_type": "execute_result"
    }
   ],
   "source": [
    "model.fit(x=X_train,\n",
    "          y=y_train,\n",
    "          validation_split=.1,\n",
    "          batch_size=128,\n",
    "          epochs=200,\n",
    "          verbose=1,\n",
    "          callbacks=[early_stop])"
   ]
  },
  {
   "cell_type": "code",
   "execution_count": 33,
   "metadata": {
    "cell_style": "center",
    "hidden": true,
    "scrolled": false
   },
   "outputs": [
    {
     "name": "stdout",
     "output_type": "stream",
     "text": [
      "Model: \"sequential\"\n",
      "_________________________________________________________________\n",
      " Layer (type)                Output Shape              Param #   \n",
      "=================================================================\n",
      " dense (Dense)               (None, 16)                208       \n",
      "                                                                 \n",
      " dense_1 (Dense)             (None, 8)                 136       \n",
      "                                                                 \n",
      " dense_2 (Dense)             (None, 1)                 9         \n",
      "                                                                 \n",
      "=================================================================\n",
      "Total params: 353\n",
      "Trainable params: 353\n",
      "Non-trainable params: 0\n",
      "_________________________________________________________________\n"
     ]
    }
   ],
   "source": [
    "model.summary()"
   ]
  },
  {
   "cell_type": "code",
   "execution_count": 34,
   "metadata": {
    "cell_style": "split",
    "executionInfo": {
     "elapsed": 809,
     "status": "ok",
     "timestamp": 1610205470123,
     "user": {
      "displayName": "Richard C",
      "photoUrl": "",
      "userId": "08040814671867660929"
     },
     "user_tz": -180
    },
    "hidden": true,
    "id": "vQIbjGQduQpQ"
   },
   "outputs": [
    {
     "data": {
      "text/plain": [
       "<AxesSubplot:>"
      ]
     },
     "execution_count": 34,
     "metadata": {},
     "output_type": "execute_result"
    },
    {
     "data": {
      "image/png": "[encoded data removed]",
      "text/plain": [
       "<Figure size 864x432 with 1 Axes>"
      ]
     },
     "metadata": {},
     "output_type": "display_data"
    }
   ],
   "source": [
    "loss_df = pd.DataFrame(model.history.history)\n",
    "loss_df.plot()"
   ]
  },
  {
   "cell_type": "code",
   "execution_count": 35,
   "metadata": {
    "cell_style": "split",
    "hidden": true,
    "scrolled": true,
    "tags": []
   },
   "outputs": [
    {
     "name": "stdout",
     "output_type": "stream",
     "text": [
      "[[772  24]\n",
      " [118  86]]\n",
      "              precision    recall  f1-score   support\n",
      "\n",
      "           0       0.87      0.97      0.92       796\n",
      "           1       0.78      0.42      0.55       204\n",
      "\n",
      "    accuracy                           0.86      1000\n",
      "   macro avg       0.82      0.70      0.73      1000\n",
      "weighted avg       0.85      0.86      0.84      1000\n",
      "\n"
     ]
    }
   ],
   "source": [
    "y_pred = (model.predict(X_test) > 0.5).astype(\"int32\")\n",
    "#y_pred = model.predict_classes(X_test)\n",
    "print(confusion_matrix(y_test, y_pred))\n",
    "print(classification_report(y_test, y_pred))"
   ]
  },
  {
   "cell_type": "markdown",
   "metadata": {
    "heading_collapsed": true,
    "tags": []
   },
   "source": [
    "### ROC (Receiver Operating Curve) and AUC (Area Under Curve) for model"
   ]
  },
  {
   "cell_type": "code",
   "execution_count": 36,
   "metadata": {
    "cell_style": "split",
    "hidden": true
   },
   "outputs": [
    {
     "data": {
      "image/png": "[encoded data removed]",
      "text/plain": [
       "<Figure size 864x432 with 1 Axes>"
      ]
     },
     "metadata": {},
     "output_type": "display_data"
    }
   ],
   "source": [
    "y_pred_proba = (model.predict(X_test) > 0.5).astype(\"int32\")\n",
    "#y_pred_proba = model.predict_proba(X_test)\n",
    "precisions, recalls, thresholds = precision_recall_curve(y_test, y_pred_proba)\n",
    "plt.plot(recalls, precisions, label='ANN')\n",
    "plt.xlabel('recalls')\n",
    "plt.ylabel('precisions')\n",
    "plt.title('Precision-Recall curve')\n",
    "plt.show()"
   ]
  },
  {
   "cell_type": "code",
   "execution_count": 37,
   "metadata": {
    "cell_style": "split",
    "hidden": true,
    "scrolled": true
   },
   "outputs": [
    {
     "data": {
      "text/plain": [
       "0.44759001782531194"
      ]
     },
     "execution_count": 37,
     "metadata": {},
     "output_type": "execute_result"
    }
   ],
   "source": [
    "average_precision_score(y_test, y_pred_proba)"
   ]
  },
  {
   "cell_type": "markdown",
   "metadata": {},
   "source": [
    "### with class_weigth"
   ]
  },
  {
   "cell_type": "code",
   "execution_count": 38,
   "metadata": {},
   "outputs": [],
   "source": [
    "# tommy hocanın modeli\n",
    "model = Sequential()\n",
    "model.add(Dense(30, activation=\"relu\"))\n",
    "model.add(Dropout(0.5))\n",
    "model.add(Dense(15, activation=\"relu\"))\n",
    "model.add(Dropout(0.5))\n",
    "model.add(Dense(1, activation=\"sigmoid\"))\n",
    "\n",
    "opt = Adam(lr=0.001)\n",
    "model.compile(optimizer=opt, \n",
    "              loss=\"binary_crossentropy\",\n",
    "              metrics=[\"accuracy\"])"
   ]
  },
  {
   "cell_type": "code",
   "execution_count": 39,
   "metadata": {
    "cell_style": "split"
   },
   "outputs": [],
   "source": [
    "model = Sequential()\n",
    "\n",
    "model.add(Dense(16, activation=\"relu\"))\n",
    "model.add(Dense(8, activation=\"relu\"))\n",
    "model.add(Dense(1, activation=\"sigmoid\"))\n",
    "\n",
    "opt = Adam(lr=0.001)\n",
    "model.compile(optimizer=opt, \n",
    "              loss=\"binary_crossentropy\",\n",
    "              metrics=[\"Recall\"])"
   ]
  },
  {
   "cell_type": "code",
   "execution_count": 40,
   "metadata": {
    "cell_style": "split"
   },
   "outputs": [],
   "source": [
    "early_stop = EarlyStopping(monitor=\"val_loss\",\n",
    "                           mode=\"auto\",\n",
    "                           verbose=1,\n",
    "                           patience=15)"
   ]
  },
  {
   "cell_type": "code",
   "execution_count": 41,
   "metadata": {},
   "outputs": [
    {
     "data": {
      "text/plain": [
       "{0: 0.6278777731268314, 1: 2.454991816693944}"
      ]
     },
     "execution_count": 41,
     "metadata": {},
     "output_type": "execute_result"
    }
   ],
   "source": [
    "from sklearn.utils import class_weight\n",
    "\n",
    "class_weights = class_weight.compute_class_weight('balanced',\n",
    "                                                  classes=np.unique(y_train),\n",
    "                                                  y=y_train)\n",
    "\n",
    "class_weights = {0: class_weights[0], 1: class_weights[1]}\n",
    "class_weights"
   ]
  },
  {
   "cell_type": "code",
   "execution_count": 42,
   "metadata": {
    "scrolled": true
   },
   "outputs": [
    {
     "name": "stdout",
     "output_type": "stream",
     "text": [
      "Epoch 1/200\n",
      "64/64 [==============================] - 1s 6ms/step - loss: 0.6729 - recall: 0.5702 - val_loss: 0.6636 - val_recall: 0.6298\n",
      "Epoch 2/200\n",
      "64/64 [==============================] - 0s 3ms/step - loss: 0.6517 - recall: 0.6223 - val_loss: 0.6362 - val_recall: 0.6630\n",
      "Epoch 3/200\n",
      "64/64 [==============================] - 0s 2ms/step - loss: 0.6353 - recall: 0.6483 - val_loss: 0.6563 - val_recall: 0.7845\n",
      "Epoch 4/200\n",
      "64/64 [==============================] - 0s 3ms/step - loss: 0.6230 - recall: 0.6495 - val_loss: 0.6256 - val_recall: 0.7514\n",
      "Epoch 5/200\n",
      "64/64 [==============================] - 0s 2ms/step - loss: 0.6140 - recall: 0.6713 - val_loss: 0.5898 - val_recall: 0.7238\n",
      "Epoch 6/200\n",
      "64/64 [==============================] - 0s 2ms/step - loss: 0.6067 - recall: 0.6870 - val_loss: 0.5795 - val_recall: 0.7238\n",
      "Epoch 7/200\n",
      "64/64 [==============================] - 0s 3ms/step - loss: 0.5987 - recall: 0.6883 - val_loss: 0.6073 - val_recall: 0.7956\n",
      "Epoch 8/200\n",
      "64/64 [==============================] - 0s 2ms/step - loss: 0.5929 - recall: 0.7028 - val_loss: 0.5868 - val_recall: 0.7680\n",
      "Epoch 9/200\n",
      "64/64 [==============================] - 0s 2ms/step - loss: 0.5869 - recall: 0.6961 - val_loss: 0.5599 - val_recall: 0.7182\n",
      "Epoch 10/200\n",
      "64/64 [==============================] - 0s 3ms/step - loss: 0.5826 - recall: 0.6967 - val_loss: 0.5477 - val_recall: 0.7017\n",
      "Epoch 11/200\n",
      "64/64 [==============================] - 0s 2ms/step - loss: 0.5775 - recall: 0.6992 - val_loss: 0.5754 - val_recall: 0.7514\n",
      "Epoch 12/200\n",
      "64/64 [==============================] - 0s 2ms/step - loss: 0.5736 - recall: 0.6985 - val_loss: 0.5699 - val_recall: 0.7459\n",
      "Epoch 13/200\n",
      "64/64 [==============================] - 0s 2ms/step - loss: 0.5706 - recall: 0.7070 - val_loss: 0.5914 - val_recall: 0.7956\n",
      "Epoch 14/200\n",
      "64/64 [==============================] - 0s 2ms/step - loss: 0.5649 - recall: 0.7100 - val_loss: 0.5346 - val_recall: 0.7348\n",
      "Epoch 15/200\n",
      "64/64 [==============================] - 0s 2ms/step - loss: 0.5623 - recall: 0.7052 - val_loss: 0.5693 - val_recall: 0.7956\n",
      "Epoch 16/200\n",
      "64/64 [==============================] - 0s 2ms/step - loss: 0.5574 - recall: 0.7246 - val_loss: 0.5214 - val_recall: 0.7403\n",
      "Epoch 17/200\n",
      "64/64 [==============================] - 0s 2ms/step - loss: 0.5537 - recall: 0.7191 - val_loss: 0.5204 - val_recall: 0.7569\n",
      "Epoch 18/200\n",
      "64/64 [==============================] - 0s 2ms/step - loss: 0.5486 - recall: 0.7149 - val_loss: 0.5141 - val_recall: 0.7624\n",
      "Epoch 19/200\n",
      "64/64 [==============================] - 0s 2ms/step - loss: 0.5438 - recall: 0.7300 - val_loss: 0.5202 - val_recall: 0.7735\n",
      "Epoch 20/200\n",
      "64/64 [==============================] - 0s 2ms/step - loss: 0.5425 - recall: 0.7234 - val_loss: 0.4814 - val_recall: 0.7403\n",
      "Epoch 21/200\n",
      "64/64 [==============================] - 0s 2ms/step - loss: 0.5355 - recall: 0.7234 - val_loss: 0.5241 - val_recall: 0.8011\n",
      "Epoch 22/200\n",
      "64/64 [==============================] - 0s 2ms/step - loss: 0.5309 - recall: 0.7385 - val_loss: 0.5140 - val_recall: 0.8066\n",
      "Epoch 23/200\n",
      "64/64 [==============================] - 0s 2ms/step - loss: 0.5260 - recall: 0.7397 - val_loss: 0.5156 - val_recall: 0.8122\n",
      "Epoch 24/200\n",
      "64/64 [==============================] - 0s 2ms/step - loss: 0.5226 - recall: 0.7355 - val_loss: 0.4835 - val_recall: 0.7901\n",
      "Epoch 25/200\n",
      "64/64 [==============================] - 0s 2ms/step - loss: 0.5178 - recall: 0.7385 - val_loss: 0.5003 - val_recall: 0.8177\n",
      "Epoch 26/200\n",
      "64/64 [==============================] - 0s 2ms/step - loss: 0.5150 - recall: 0.7524 - val_loss: 0.4984 - val_recall: 0.8177\n",
      "Epoch 27/200\n",
      "64/64 [==============================] - 0s 2ms/step - loss: 0.5132 - recall: 0.7391 - val_loss: 0.4729 - val_recall: 0.8066\n",
      "Epoch 28/200\n",
      "64/64 [==============================] - 0s 2ms/step - loss: 0.5078 - recall: 0.7500 - val_loss: 0.4668 - val_recall: 0.7956\n",
      "Epoch 29/200\n",
      "64/64 [==============================] - 0s 2ms/step - loss: 0.5053 - recall: 0.7488 - val_loss: 0.5021 - val_recall: 0.8453\n",
      "Epoch 30/200\n",
      "64/64 [==============================] - 0s 2ms/step - loss: 0.5020 - recall: 0.7621 - val_loss: 0.4494 - val_recall: 0.8011\n",
      "Epoch 31/200\n",
      "64/64 [==============================] - 0s 2ms/step - loss: 0.5002 - recall: 0.7609 - val_loss: 0.4652 - val_recall: 0.8066\n",
      "Epoch 32/200\n",
      "64/64 [==============================] - 0s 2ms/step - loss: 0.4979 - recall: 0.7651 - val_loss: 0.4255 - val_recall: 0.7790\n",
      "Epoch 33/200\n",
      "64/64 [==============================] - 0s 2ms/step - loss: 0.4967 - recall: 0.7621 - val_loss: 0.4338 - val_recall: 0.8011\n",
      "Epoch 34/200\n",
      "64/64 [==============================] - 0s 2ms/step - loss: 0.4941 - recall: 0.7573 - val_loss: 0.5150 - val_recall: 0.8674\n",
      "Epoch 35/200\n",
      "64/64 [==============================] - 0s 2ms/step - loss: 0.4926 - recall: 0.7669 - val_loss: 0.4848 - val_recall: 0.8508\n",
      "Epoch 36/200\n",
      "64/64 [==============================] - 0s 3ms/step - loss: 0.4909 - recall: 0.7694 - val_loss: 0.4584 - val_recall: 0.8343\n",
      "Epoch 37/200\n",
      "64/64 [==============================] - 0s 3ms/step - loss: 0.4887 - recall: 0.7712 - val_loss: 0.4514 - val_recall: 0.8177\n",
      "Epoch 38/200\n",
      "64/64 [==============================] - 0s 2ms/step - loss: 0.4869 - recall: 0.7633 - val_loss: 0.4842 - val_recall: 0.8508\n",
      "Epoch 39/200\n",
      "64/64 [==============================] - 0s 3ms/step - loss: 0.4867 - recall: 0.7766 - val_loss: 0.4325 - val_recall: 0.8011\n",
      "Epoch 40/200\n",
      "64/64 [==============================] - 0s 2ms/step - loss: 0.4872 - recall: 0.7561 - val_loss: 0.4605 - val_recall: 0.8453\n",
      "Epoch 41/200\n",
      "64/64 [==============================] - 0s 2ms/step - loss: 0.4845 - recall: 0.7688 - val_loss: 0.4511 - val_recall: 0.8287\n",
      "Epoch 42/200\n",
      "64/64 [==============================] - 0s 3ms/step - loss: 0.4827 - recall: 0.7754 - val_loss: 0.4372 - val_recall: 0.8177\n",
      "Epoch 43/200\n",
      "64/64 [==============================] - 0s 2ms/step - loss: 0.4812 - recall: 0.7645 - val_loss: 0.4526 - val_recall: 0.8398\n",
      "Epoch 44/200\n",
      "64/64 [==============================] - 0s 2ms/step - loss: 0.4817 - recall: 0.7754 - val_loss: 0.4303 - val_recall: 0.8122\n",
      "Epoch 45/200\n",
      "64/64 [==============================] - 0s 3ms/step - loss: 0.4807 - recall: 0.7663 - val_loss: 0.4459 - val_recall: 0.8453\n",
      "Epoch 46/200\n",
      "64/64 [==============================] - 0s 3ms/step - loss: 0.4799 - recall: 0.7694 - val_loss: 0.4538 - val_recall: 0.8453\n",
      "Epoch 47/200\n",
      "64/64 [==============================] - 0s 2ms/step - loss: 0.4785 - recall: 0.7676 - val_loss: 0.4893 - val_recall: 0.8508\n",
      "Epoch 00047: early stopping\n"
     ]
    },
    {
     "data": {
      "text/plain": [
       "<keras.callbacks.History at 0x276423ccbb0>"
      ]
     },
     "execution_count": 42,
     "metadata": {},
     "output_type": "execute_result"
    }
   ],
   "source": [
    "model.fit(x=X_train,\n",
    "          y=y_train,\n",
    "          validation_split=.1,\n",
    "          batch_size=128,\n",
    "          epochs=200,\n",
    "          verbose=1,\n",
    "          callbacks=[early_stop],\n",
    "          class_weight=class_weights)"
   ]
  },
  {
   "cell_type": "code",
   "execution_count": 43,
   "metadata": {
    "cell_style": "split",
    "executionInfo": {
     "elapsed": 809,
     "status": "ok",
     "timestamp": 1610205470123,
     "user": {
      "displayName": "Richard C",
      "photoUrl": "",
      "userId": "08040814671867660929"
     },
     "user_tz": -180
    },
    "id": "vQIbjGQduQpQ",
    "scrolled": true
   },
   "outputs": [
    {
     "data": {
      "text/plain": [
       "<AxesSubplot:>"
      ]
     },
     "execution_count": 43,
     "metadata": {},
     "output_type": "execute_result"
    },
    {
     "data": {
      "image/png": "[encoded data removed]",
      "text/plain": [
       "<Figure size 864x432 with 1 Axes>"
      ]
     },
     "metadata": {},
     "output_type": "display_data"
    }
   ],
   "source": [
    "loss_df = pd.DataFrame(model.history.history)\n",
    "loss_df.plot()"
   ]
  },
  {
   "cell_type": "code",
   "execution_count": 44,
   "metadata": {
    "cell_style": "split"
   },
   "outputs": [
    {
     "name": "stdout",
     "output_type": "stream",
     "text": [
      "[[568 228]\n",
      " [ 47 157]]\n",
      "              precision    recall  f1-score   support\n",
      "\n",
      "           0       0.92      0.71      0.81       796\n",
      "           1       0.41      0.77      0.53       204\n",
      "\n",
      "    accuracy                           0.73      1000\n",
      "   macro avg       0.67      0.74      0.67      1000\n",
      "weighted avg       0.82      0.72      0.75      1000\n",
      "\n"
     ]
    }
   ],
   "source": [
    "y_pred = (model.predict(X_test) > 0.5).astype(\"int32\")\n",
    "#y_pred = model.predict_classes(X_test)\n",
    "print(confusion_matrix(y_test, y_pred))\n",
    "print(classification_report(y_test, y_pred))"
   ]
  },
  {
   "cell_type": "markdown",
   "metadata": {},
   "source": [
    "### ROC (Receiver Operating Curve) and AUC (Area Under Curve) for model"
   ]
  },
  {
   "cell_type": "code",
   "execution_count": 45,
   "metadata": {
    "cell_style": "split",
    "scrolled": true
   },
   "outputs": [
    {
     "data": {
      "image/png": "[encoded data removed]",
      "text/plain": [
       "<Figure size 864x432 with 1 Axes>"
      ]
     },
     "metadata": {},
     "output_type": "display_data"
    }
   ],
   "source": [
    "y_pred_proba = (model.predict(X_test) > 0.5).astype(\"int32\")\n",
    "#y_pred_proba = model.predict_proba(X_test)\n",
    "precisions, recalls, thresholds = precision_recall_curve(y_test, y_pred_proba)\n",
    "plt.plot(recalls, precisions, label='ANN')\n",
    "plt.xlabel('recalls')\n",
    "plt.ylabel('precisions')\n",
    "plt.title('Precision-Recall curve')\n",
    "plt.show()"
   ]
  },
  {
   "cell_type": "code",
   "execution_count": 46,
   "metadata": {
    "cell_style": "split"
   },
   "outputs": [
    {
     "data": {
      "text/plain": [
       "0.3608400814871403"
      ]
     },
     "execution_count": 46,
     "metadata": {},
     "output_type": "execute_result"
    }
   ],
   "source": [
    "average_precision_score(y_test, y_pred_proba)"
   ]
  },
  {
   "cell_type": "markdown",
   "metadata": {},
   "source": [
    "## GridSearchCV"
   ]
  },
  {
   "cell_type": "code",
   "execution_count": 47,
   "metadata": {},
   "outputs": [],
   "source": [
    "from tensorflow.keras.wrappers.scikit_learn import KerasClassifier"
   ]
  },
  {
   "cell_type": "code",
   "execution_count": 48,
   "metadata": {},
   "outputs": [],
   "source": [
    "def build_classifier(optimizer):\n",
    "    classifier = Sequential()\n",
    "    classifier.add(Dense(units=16, activation='relu'))\n",
    "    classifier.add(Dense(units=8, activation='relu'))\n",
    "    classifier.add(Dense(units=1, activation='sigmoid'))\n",
    "    classifier.compile(optimizer=optimizer,\n",
    "                       loss='binary_crossentropy',\n",
    "                       metrics=['Recall'])\n",
    "    return classifier"
   ]
  },
  {
   "cell_type": "code",
   "execution_count": 49,
   "metadata": {},
   "outputs": [
    {
     "data": {
      "text/plain": [
       "{0: 0.6278777731268314, 1: 2.454991816693944}"
      ]
     },
     "execution_count": 49,
     "metadata": {},
     "output_type": "execute_result"
    }
   ],
   "source": [
    "class_weights"
   ]
  },
  {
   "cell_type": "code",
   "execution_count": 50,
   "metadata": {
    "scrolled": true
   },
   "outputs": [
    {
     "name": "stdout",
     "output_type": "stream",
     "text": [
      "Epoch 1/150\n",
      "36/36 [==============================] - 2s 3ms/step - loss: 0.6842 - recall: 0.1762\n",
      "Epoch 2/150\n",
      "36/36 [==============================] - 0s 3ms/step - loss: 0.6842 - recall: 0.1762\n",
      "Epoch 3/150\n",
      "36/36 [==============================] - 0s 3ms/step - loss: 0.6841 - recall: 0.1768\n",
      "Epoch 4/150\n",
      "36/36 [==============================] - 0s 3ms/step - loss: 0.6841 - recall: 0.1768\n",
      "Epoch 5/150\n",
      "36/36 [==============================] - 0s 3ms/step - loss: 0.6841 - recall: 0.1773\n",
      "Epoch 6/150\n",
      "36/36 [==============================] - 0s 3ms/step - loss: 0.6841 - recall: 0.1789\n",
      "Epoch 7/150\n",
      "36/36 [==============================] - 0s 3ms/step - loss: 0.6840 - recall: 0.1789\n",
      "Epoch 8/150\n",
      "36/36 [==============================] - 0s 3ms/step - loss: 0.6840 - recall: 0.1789\n",
      "Epoch 9/150\n",
      "36/36 [==============================] - 0s 3ms/step - loss: 0.6840 - recall: 0.1795\n",
      "Epoch 10/150\n",
      "36/36 [==============================] - 0s 3ms/step - loss: 0.6839 - recall: 0.1795\n",
      "Epoch 11/150\n",
      "36/36 [==============================] - 0s 3ms/step - loss: 0.6839 - recall: 0.1800\n",
      "Epoch 12/150\n",
      "36/36 [==============================] - 0s 3ms/step - loss: 0.6839 - recall: 0.1795\n",
      "Epoch 13/150\n",
      "36/36 [==============================] - 0s 3ms/step - loss: 0.6839 - recall: 0.1806\n",
      "Epoch 14/150\n",
      "36/36 [==============================] - 0s 4ms/step - loss: 0.6838 - recall: 0.1806\n",
      "Epoch 15/150\n",
      "36/36 [==============================] - 0s 3ms/step - loss: 0.6838 - recall: 0.1806\n",
      "Epoch 16/150\n",
      "36/36 [==============================] - 0s 3ms/step - loss: 0.6838 - recall: 0.1806\n",
      "Epoch 17/150\n",
      "36/36 [==============================] - 0s 3ms/step - loss: 0.6838 - recall: 0.1806\n",
      "Epoch 18/150\n",
      "36/36 [==============================] - 0s 4ms/step - loss: 0.6837 - recall: 0.1811\n",
      "Epoch 19/150\n",
      "36/36 [==============================] - 0s 3ms/step - loss: 0.6837 - recall: 0.1817\n",
      "Epoch 20/150\n",
      "36/36 [==============================] - 0s 3ms/step - loss: 0.6837 - recall: 0.1817\n",
      "Epoch 21/150\n",
      "36/36 [==============================] - 0s 3ms/step - loss: 0.6837 - recall: 0.1817\n",
      "Epoch 22/150\n",
      "36/36 [==============================] - 0s 3ms/step - loss: 0.6836 - recall: 0.1817\n",
      "Epoch 23/150\n",
      "36/36 [==============================] - 0s 3ms/step - loss: 0.6836 - recall: 0.1817\n",
      "Epoch 24/150\n",
      "36/36 [==============================] - 0s 4ms/step - loss: 0.6836 - recall: 0.1817\n",
      "Epoch 25/150\n",
      "36/36 [==============================] - 0s 3ms/step - loss: 0.6836 - recall: 0.1822\n",
      "Epoch 26/150\n",
      "36/36 [==============================] - 0s 3ms/step - loss: 0.6835 - recall: 0.1828\n",
      "Epoch 27/150\n",
      "36/36 [==============================] - 0s 4ms/step - loss: 0.6835 - recall: 0.1828\n",
      "Epoch 28/150\n",
      "36/36 [==============================] - 0s 3ms/step - loss: 0.6835 - recall: 0.1833\n",
      "Epoch 29/150\n",
      "36/36 [==============================] - 0s 3ms/step - loss: 0.6835 - recall: 0.1833\n",
      "Epoch 30/150\n",
      "36/36 [==============================] - 0s 4ms/step - loss: 0.6835 - recall: 0.1844\n",
      "Epoch 31/150\n",
      "36/36 [==============================] - 0s 4ms/step - loss: 0.6834 - recall: 0.1844\n",
      "Epoch 32/150\n",
      "36/36 [==============================] - 0s 4ms/step - loss: 0.6834 - recall: 0.1849\n",
      "Epoch 33/150\n",
      "36/36 [==============================] - 0s 3ms/step - loss: 0.6834 - recall: 0.1866\n",
      "Epoch 34/150\n",
      "36/36 [==============================] - 0s 3ms/step - loss: 0.6834 - recall: 0.1877\n",
      "Epoch 35/150\n",
      "36/36 [==============================] - 0s 3ms/step - loss: 0.6833 - recall: 0.1877\n",
      "Epoch 36/150\n",
      "36/36 [==============================] - 0s 5ms/step - loss: 0.6833 - recall: 0.1888\n",
      "Epoch 37/150\n",
      "36/36 [==============================] - 0s 4ms/step - loss: 0.6833 - recall: 0.1893\n",
      "Epoch 38/150\n",
      "36/36 [==============================] - 0s 4ms/step - loss: 0.6833 - recall: 0.1904\n",
      "Epoch 39/150\n",
      "36/36 [==============================] - 0s 3ms/step - loss: 0.6832 - recall: 0.1909\n",
      "Epoch 40/150\n",
      "36/36 [==============================] - 0s 4ms/step - loss: 0.6832 - recall: 0.1909\n",
      "Epoch 41/150\n",
      "36/36 [==============================] - 0s 3ms/step - loss: 0.6832 - recall: 0.1909\n",
      "Epoch 42/150\n",
      "36/36 [==============================] - 0s 4ms/step - loss: 0.6832 - recall: 0.1920\n",
      "Epoch 43/150\n",
      "36/36 [==============================] - 0s 4ms/step - loss: 0.6831 - recall: 0.1920\n",
      "Epoch 44/150\n",
      "36/36 [==============================] - 0s 4ms/step - loss: 0.6831 - recall: 0.1920\n",
      "Epoch 45/150\n",
      "36/36 [==============================] - 0s 4ms/step - loss: 0.6831 - recall: 0.1926\n",
      "Epoch 46/150\n",
      "36/36 [==============================] - 0s 3ms/step - loss: 0.6831 - recall: 0.1926\n",
      "Epoch 47/150\n",
      "36/36 [==============================] - 0s 3ms/step - loss: 0.6830 - recall: 0.1931\n",
      "Epoch 48/150\n",
      "36/36 [==============================] - 0s 4ms/step - loss: 0.6830 - recall: 0.1937\n",
      "Epoch 49/150\n",
      "36/36 [==============================] - 0s 4ms/step - loss: 0.6830 - recall: 0.1942\n",
      "Epoch 50/150\n",
      "36/36 [==============================] - 0s 3ms/step - loss: 0.6830 - recall: 0.1948\n",
      "Epoch 51/150\n",
      "36/36 [==============================] - 0s 4ms/step - loss: 0.6829 - recall: 0.1959\n",
      "Epoch 52/150\n",
      "36/36 [==============================] - 0s 4ms/step - loss: 0.6829 - recall: 0.1964\n",
      "Epoch 53/150\n",
      "36/36 [==============================] - 0s 3ms/step - loss: 0.6829 - recall: 0.1969\n",
      "Epoch 54/150\n",
      "36/36 [==============================] - 0s 5ms/step - loss: 0.6829 - recall: 0.1975\n",
      "Epoch 55/150\n",
      "36/36 [==============================] - 0s 4ms/step - loss: 0.6828 - recall: 0.1980\n",
      "Epoch 56/150\n",
      "36/36 [==============================] - 0s 4ms/step - loss: 0.6828 - recall: 0.1980\n",
      "Epoch 57/150\n",
      "36/36 [==============================] - 0s 3ms/step - loss: 0.6828 - recall: 0.1997\n",
      "Epoch 58/150\n",
      "36/36 [==============================] - 0s 3ms/step - loss: 0.6828 - recall: 0.2008\n",
      "Epoch 59/150\n",
      "36/36 [==============================] - 0s 4ms/step - loss: 0.6827 - recall: 0.2008\n",
      "Epoch 60/150\n",
      "36/36 [==============================] - 0s 3ms/step - loss: 0.6827 - recall: 0.2008\n",
      "Epoch 61/150\n",
      "36/36 [==============================] - 0s 3ms/step - loss: 0.6827 - recall: 0.2013\n",
      "Epoch 62/150\n",
      "36/36 [==============================] - 0s 4ms/step - loss: 0.6827 - recall: 0.2029\n",
      "Epoch 63/150\n",
      "36/36 [==============================] - 0s 3ms/step - loss: 0.6827 - recall: 0.2046\n",
      "Epoch 64/150\n",
      "36/36 [==============================] - 0s 4ms/step - loss: 0.6826 - recall: 0.2046\n",
      "Epoch 65/150\n",
      "36/36 [==============================] - 0s 3ms/step - loss: 0.6826 - recall: 0.2057\n",
      "Epoch 66/150\n",
      "36/36 [==============================] - 0s 5ms/step - loss: 0.6826 - recall: 0.2057\n",
      "Epoch 67/150\n",
      "36/36 [==============================] - 0s 4ms/step - loss: 0.6826 - recall: 0.2057\n",
      "Epoch 68/150\n",
      "36/36 [==============================] - 0s 4ms/step - loss: 0.6825 - recall: 0.2068\n",
      "Epoch 69/150\n",
      "36/36 [==============================] - 0s 4ms/step - loss: 0.6825 - recall: 0.2079\n",
      "Epoch 70/150\n",
      "36/36 [==============================] - 0s 4ms/step - loss: 0.6825 - recall: 0.2084\n",
      "Epoch 71/150\n",
      "36/36 [==============================] - 0s 3ms/step - loss: 0.6825 - recall: 0.2095\n",
      "Epoch 72/150\n",
      "36/36 [==============================] - 0s 3ms/step - loss: 0.6824 - recall: 0.2095\n",
      "Epoch 73/150\n",
      "36/36 [==============================] - 0s 4ms/step - loss: 0.6824 - recall: 0.2111\n",
      "Epoch 74/150\n",
      "36/36 [==============================] - 0s 3ms/step - loss: 0.6824 - recall: 0.2117\n",
      "Epoch 75/150\n",
      "36/36 [==============================] - 0s 3ms/step - loss: 0.6824 - recall: 0.2117\n",
      "Epoch 76/150\n",
      "36/36 [==============================] - 0s 4ms/step - loss: 0.6823 - recall: 0.2117\n",
      "Epoch 77/150\n",
      "36/36 [==============================] - 0s 3ms/step - loss: 0.6823 - recall: 0.2122\n",
      "Epoch 78/150\n",
      "36/36 [==============================] - 0s 3ms/step - loss: 0.6823 - recall: 0.2128\n",
      "Epoch 79/150\n",
      "36/36 [==============================] - 0s 3ms/step - loss: 0.6823 - recall: 0.2128\n",
      "Epoch 80/150\n",
      "36/36 [==============================] - 0s 3ms/step - loss: 0.6822 - recall: 0.2133\n",
      "Epoch 81/150\n",
      "36/36 [==============================] - 0s 3ms/step - loss: 0.6822 - recall: 0.2133\n",
      "Epoch 82/150\n",
      "36/36 [==============================] - 0s 3ms/step - loss: 0.6822 - recall: 0.2139\n",
      "Epoch 83/150\n",
      "36/36 [==============================] - 0s 4ms/step - loss: 0.6822 - recall: 0.2139\n",
      "Epoch 84/150\n",
      "36/36 [==============================] - 0s 3ms/step - loss: 0.6822 - recall: 0.2149\n",
      "Epoch 85/150\n",
      "36/36 [==============================] - 0s 3ms/step - loss: 0.6821 - recall: 0.2149\n",
      "Epoch 86/150\n",
      "36/36 [==============================] - 0s 3ms/step - loss: 0.6821 - recall: 0.2149\n",
      "Epoch 87/150\n",
      "36/36 [==============================] - 0s 3ms/step - loss: 0.6821 - recall: 0.2155\n",
      "Epoch 88/150\n",
      "36/36 [==============================] - 0s 4ms/step - loss: 0.6821 - recall: 0.2166\n",
      "Epoch 89/150\n",
      "36/36 [==============================] - 0s 6ms/step - loss: 0.6820 - recall: 0.2177\n",
      "Epoch 90/150\n",
      "36/36 [==============================] - 0s 4ms/step - loss: 0.6820 - recall: 0.2177\n",
      "Epoch 91/150\n",
      "36/36 [==============================] - 0s 3ms/step - loss: 0.6820 - recall: 0.2182\n",
      "Epoch 92/150\n",
      "36/36 [==============================] - 0s 4ms/step - loss: 0.6820 - recall: 0.2188\n",
      "Epoch 93/150\n",
      "36/36 [==============================] - 0s 4ms/step - loss: 0.6819 - recall: 0.2188\n",
      "Epoch 94/150\n",
      "36/36 [==============================] - 0s 5ms/step - loss: 0.6819 - recall: 0.2193\n",
      "Epoch 95/150\n",
      "36/36 [==============================] - 0s 4ms/step - loss: 0.6819 - recall: 0.2199\n",
      "Epoch 96/150\n",
      "36/36 [==============================] - 0s 4ms/step - loss: 0.6819 - recall: 0.2204\n",
      "Epoch 97/150\n",
      "36/36 [==============================] - 0s 4ms/step - loss: 0.6818 - recall: 0.2215\n",
      "Epoch 98/150\n",
      "36/36 [==============================] - 0s 4ms/step - loss: 0.6818 - recall: 0.2220\n",
      "Epoch 99/150\n",
      "36/36 [==============================] - 0s 3ms/step - loss: 0.6818 - recall: 0.2220\n",
      "Epoch 100/150\n",
      "36/36 [==============================] - 0s 3ms/step - loss: 0.6818 - recall: 0.2220\n",
      "Epoch 101/150\n",
      "36/36 [==============================] - 0s 4ms/step - loss: 0.6817 - recall: 0.2237\n",
      "Epoch 102/150\n",
      "36/36 [==============================] - 0s 3ms/step - loss: 0.6817 - recall: 0.2237\n",
      "Epoch 103/150\n",
      "36/36 [==============================] - 0s 3ms/step - loss: 0.6817 - recall: 0.2237\n",
      "Epoch 104/150\n",
      "36/36 [==============================] - 0s 3ms/step - loss: 0.6817 - recall: 0.2242\n",
      "Epoch 105/150\n",
      "36/36 [==============================] - 0s 4ms/step - loss: 0.6817 - recall: 0.2242\n",
      "Epoch 106/150\n",
      "36/36 [==============================] - 0s 3ms/step - loss: 0.6816 - recall: 0.2242\n",
      "Epoch 107/150\n",
      "36/36 [==============================] - 0s 4ms/step - loss: 0.6816 - recall: 0.2242\n",
      "Epoch 108/150\n",
      "36/36 [==============================] - 0s 3ms/step - loss: 0.6816 - recall: 0.2242\n",
      "Epoch 109/150\n",
      "36/36 [==============================] - 0s 3ms/step - loss: 0.6816 - recall: 0.2242\n",
      "Epoch 110/150\n",
      "36/36 [==============================] - 0s 3ms/step - loss: 0.6815 - recall: 0.2270\n",
      "Epoch 111/150\n",
      "36/36 [==============================] - 0s 3ms/step - loss: 0.6815 - recall: 0.2275\n",
      "Epoch 112/150\n",
      "36/36 [==============================] - 0s 4ms/step - loss: 0.6815 - recall: 0.2275\n",
      "Epoch 113/150\n",
      "36/36 [==============================] - 0s 4ms/step - loss: 0.6815 - recall: 0.2280\n",
      "Epoch 114/150\n",
      "36/36 [==============================] - 0s 3ms/step - loss: 0.6814 - recall: 0.2286\n",
      "Epoch 115/150\n",
      "36/36 [==============================] - 0s 3ms/step - loss: 0.6814 - recall: 0.2297\n",
      "Epoch 116/150\n",
      "36/36 [==============================] - 0s 3ms/step - loss: 0.6814 - recall: 0.2302\n",
      "Epoch 117/150\n",
      "36/36 [==============================] - 0s 4ms/step - loss: 0.6814 - recall: 0.2313\n",
      "Epoch 118/150\n",
      "36/36 [==============================] - 0s 3ms/step - loss: 0.6814 - recall: 0.2319\n",
      "Epoch 119/150\n",
      "36/36 [==============================] - 0s 3ms/step - loss: 0.6813 - recall: 0.2324\n",
      "Epoch 120/150\n",
      "36/36 [==============================] - 0s 3ms/step - loss: 0.6813 - recall: 0.2330\n",
      "Epoch 121/150\n",
      "36/36 [==============================] - 0s 4ms/step - loss: 0.6813 - recall: 0.2335\n",
      "Epoch 122/150\n",
      "36/36 [==============================] - 0s 3ms/step - loss: 0.6813 - recall: 0.2335\n",
      "Epoch 123/150\n",
      "36/36 [==============================] - 0s 4ms/step - loss: 0.6812 - recall: 0.2335\n",
      "Epoch 124/150\n",
      "36/36 [==============================] - 0s 3ms/step - loss: 0.6812 - recall: 0.2340\n",
      "Epoch 125/150\n",
      "36/36 [==============================] - 0s 4ms/step - loss: 0.6812 - recall: 0.2351\n",
      "Epoch 126/150\n",
      "36/36 [==============================] - 0s 4ms/step - loss: 0.6812 - recall: 0.2351\n",
      "Epoch 127/150\n",
      "36/36 [==============================] - 0s 4ms/step - loss: 0.6811 - recall: 0.2351\n",
      "Epoch 128/150\n",
      "36/36 [==============================] - 0s 6ms/step - loss: 0.6811 - recall: 0.2357\n",
      "Epoch 129/150\n",
      "36/36 [==============================] - 0s 4ms/step - loss: 0.6811 - recall: 0.2357\n",
      "Epoch 130/150\n",
      "36/36 [==============================] - 0s 4ms/step - loss: 0.6811 - recall: 0.2357\n",
      "Epoch 131/150\n",
      "36/36 [==============================] - 0s 3ms/step - loss: 0.6811 - recall: 0.2357\n",
      "Epoch 132/150\n",
      "36/36 [==============================] - 0s 3ms/step - loss: 0.6810 - recall: 0.2368\n",
      "Epoch 133/150\n",
      "36/36 [==============================] - 0s 4ms/step - loss: 0.6810 - recall: 0.2368\n",
      "Epoch 134/150\n",
      "36/36 [==============================] - 0s 5ms/step - loss: 0.6810 - recall: 0.2379\n",
      "Epoch 135/150\n",
      "36/36 [==============================] - 0s 4ms/step - loss: 0.6810 - recall: 0.2390\n",
      "Epoch 136/150\n",
      "36/36 [==============================] - 0s 3ms/step - loss: 0.6809 - recall: 0.2384\n",
      "Epoch 137/150\n",
      "36/36 [==============================] - 0s 3ms/step - loss: 0.6809 - recall: 0.2395\n",
      "Epoch 138/150\n",
      "36/36 [==============================] - 0s 4ms/step - loss: 0.6809 - recall: 0.2395\n",
      "Epoch 139/150\n",
      "36/36 [==============================] - 0s 3ms/step - loss: 0.6809 - recall: 0.2400\n",
      "Epoch 140/150\n",
      "36/36 [==============================] - 0s 3ms/step - loss: 0.6808 - recall: 0.2406\n",
      "Epoch 141/150\n",
      "36/36 [==============================] - 0s 3ms/step - loss: 0.6808 - recall: 0.2411\n",
      "Epoch 142/150\n",
      "36/36 [==============================] - 0s 3ms/step - loss: 0.6808 - recall: 0.2417\n",
      "Epoch 143/150\n",
      "36/36 [==============================] - 0s 3ms/step - loss: 0.6808 - recall: 0.2417\n",
      "Epoch 144/150\n",
      "36/36 [==============================] - 0s 4ms/step - loss: 0.6808 - recall: 0.2428\n",
      "Epoch 145/150\n",
      "36/36 [==============================] - 0s 3ms/step - loss: 0.6807 - recall: 0.2433\n",
      "Epoch 146/150\n",
      "36/36 [==============================] - 0s 3ms/step - loss: 0.6807 - recall: 0.2439\n",
      "Epoch 147/150\n",
      "36/36 [==============================] - 0s 4ms/step - loss: 0.6807 - recall: 0.2439\n",
      "Epoch 148/150\n",
      "36/36 [==============================] - 0s 3ms/step - loss: 0.6807 - recall: 0.2439\n",
      "Epoch 149/150\n",
      "36/36 [==============================] - 0s 5ms/step - loss: 0.6807 - recall: 0.2444\n",
      "Epoch 150/150\n",
      "36/36 [==============================] - 0s 4ms/step - loss: 0.6806 - recall: 0.2450\n"
     ]
    }
   ],
   "source": [
    "classifier = KerasClassifier(build_fn=build_classifier, epochs=150)\n",
    "parameters = {\n",
    "    'batch_size': [128, 256],\n",
    "    'optimizer': [Adam, 'rmsprop', \"SGD\", \"adagrad\", \"adadelta\"]\n",
    "}\n",
    "grid_model = GridSearchCV(estimator=classifier,\n",
    "                          param_grid=parameters,\n",
    "                          scoring='recall',\n",
    "                          cv=5,\n",
    "                          n_jobs=-1,\n",
    "                          verbose=0).fit(X_train,\n",
    "                                         y_train,\n",
    "                                         class_weight=class_weights)"
   ]
  },
  {
   "cell_type": "code",
   "execution_count": 51,
   "metadata": {},
   "outputs": [
    {
     "data": {
      "text/plain": [
       "0.854387085980453"
      ]
     },
     "execution_count": 51,
     "metadata": {},
     "output_type": "execute_result"
    }
   ],
   "source": [
    "grid_model.best_score_"
   ]
  },
  {
   "cell_type": "code",
   "execution_count": 52,
   "metadata": {},
   "outputs": [
    {
     "data": {
      "text/plain": [
       "{'batch_size': 256, 'optimizer': 'adadelta'}"
      ]
     },
     "execution_count": 52,
     "metadata": {},
     "output_type": "execute_result"
    }
   ],
   "source": [
    "grid_model.best_params_"
   ]
  },
  {
   "cell_type": "code",
   "execution_count": 53,
   "metadata": {},
   "outputs": [
    {
     "name": "stdout",
     "output_type": "stream",
     "text": [
      "[[568 228]\n",
      " [ 47 157]]\n",
      "              precision    recall  f1-score   support\n",
      "\n",
      "           0       0.92      0.71      0.81       796\n",
      "           1       0.41      0.77      0.53       204\n",
      "\n",
      "    accuracy                           0.73      1000\n",
      "   macro avg       0.67      0.74      0.67      1000\n",
      "weighted avg       0.82      0.72      0.75      1000\n",
      "\n"
     ]
    }
   ],
   "source": [
    "y_pred = (model.predict(X_test) > 0.5).astype(\"int32\")\n",
    "#y_pred = grid_model.predict(X_test)\n",
    "print(confusion_matrix(y_test, y_pred))\n",
    "print(classification_report(y_test, y_pred))"
   ]
  },
  {
   "cell_type": "markdown",
   "metadata": {},
   "source": [
    "### ROC (Receiver Operating Curve) and AUC (Area Under Curve) for grid_model"
   ]
  },
  {
   "cell_type": "code",
   "execution_count": 54,
   "metadata": {
    "cell_style": "split",
    "scrolled": true
   },
   "outputs": [
    {
     "data": {
      "image/png": "[encoded data removed]",
      "text/plain": [
       "<Figure size 864x432 with 1 Axes>"
      ]
     },
     "metadata": {},
     "output_type": "display_data"
    }
   ],
   "source": [
    "y_pred_proba = (model.predict(X_test) > 0.5).astype(\"int32\")\n",
    "#y_pred_proba = grid_model.predict_proba(X_test)[:, 1]\n",
    "precisions, recalls, thresholds = precision_recall_curve(y_test, y_pred_proba)\n",
    "plt.plot(recalls, precisions, label='ANN')\n",
    "plt.xlabel('recalls')\n",
    "plt.ylabel('precisions')\n",
    "plt.title('Precision-Recall curve')\n",
    "plt.show()"
   ]
  },
  {
   "cell_type": "code",
   "execution_count": 55,
   "metadata": {
    "cell_style": "split",
    "scrolled": true
   },
   "outputs": [
    {
     "data": {
      "text/plain": [
       "0.3608400814871403"
      ]
     },
     "execution_count": 55,
     "metadata": {},
     "output_type": "execute_result"
    }
   ],
   "source": [
    "average_precision_score(y_test, y_pred_proba)"
   ]
  },
  {
   "cell_type": "markdown",
   "metadata": {},
   "source": [
    "## Final Model and Model Deployment"
   ]
  },
  {
   "cell_type": "code",
   "execution_count": 56,
   "metadata": {},
   "outputs": [],
   "source": [
    "import pickle\n",
    "pickle.dump(scaler, open(\"scaler_churn\", 'wb'))"
   ]
  },
  {
   "cell_type": "code",
   "execution_count": 57,
   "metadata": {
    "scrolled": true
   },
   "outputs": [
    {
     "name": "stdout",
     "output_type": "stream",
     "text": [
      "Epoch 1/200\n",
      "71/71 [==============================] - 3s 11ms/step - loss: 0.6928 - recall: 0.4294 - val_loss: 0.6837 - val_recall: 0.5588\n",
      "Epoch 2/200\n",
      "71/71 [==============================] - 0s 3ms/step - loss: 0.6677 - recall: 0.5657 - val_loss: 0.6647 - val_recall: 0.5931\n",
      "Epoch 3/200\n",
      "71/71 [==============================] - 0s 4ms/step - loss: 0.6485 - recall: 0.5957 - val_loss: 0.6720 - val_recall: 0.6814\n",
      "Epoch 4/200\n",
      "71/71 [==============================] - 0s 4ms/step - loss: 0.6331 - recall: 0.6367 - val_loss: 0.6551 - val_recall: 0.6667\n",
      "Epoch 5/200\n",
      "71/71 [==============================] - 0s 4ms/step - loss: 0.6211 - recall: 0.6699 - val_loss: 0.6091 - val_recall: 0.6029\n",
      "Epoch 6/200\n",
      "71/71 [==============================] - 0s 3ms/step - loss: 0.6113 - recall: 0.6678 - val_loss: 0.6414 - val_recall: 0.7059\n",
      "Epoch 7/200\n",
      "71/71 [==============================] - 0s 4ms/step - loss: 0.6031 - recall: 0.6945 - val_loss: 0.6187 - val_recall: 0.6863\n",
      "Epoch 8/200\n",
      "71/71 [==============================] - 0s 4ms/step - loss: 0.5953 - recall: 0.6907 - val_loss: 0.5848 - val_recall: 0.6422\n",
      "Epoch 9/200\n",
      "71/71 [==============================] - 0s 3ms/step - loss: 0.5897 - recall: 0.6890 - val_loss: 0.6203 - val_recall: 0.7206\n",
      "Epoch 10/200\n",
      "71/71 [==============================] - 0s 3ms/step - loss: 0.5841 - recall: 0.7021 - val_loss: 0.5850 - val_recall: 0.6814\n",
      "Epoch 11/200\n",
      "71/71 [==============================] - 0s 4ms/step - loss: 0.5795 - recall: 0.7038 - val_loss: 0.5747 - val_recall: 0.6863\n",
      "Epoch 12/200\n",
      "71/71 [==============================] - 0s 4ms/step - loss: 0.5748 - recall: 0.7049 - val_loss: 0.5821 - val_recall: 0.7059\n",
      "Epoch 13/200\n",
      "71/71 [==============================] - 0s 4ms/step - loss: 0.5707 - recall: 0.7070 - val_loss: 0.5802 - val_recall: 0.7059\n",
      "Epoch 14/200\n",
      "71/71 [==============================] - 0s 4ms/step - loss: 0.5671 - recall: 0.7125 - val_loss: 0.5471 - val_recall: 0.6765\n",
      "Epoch 15/200\n",
      "71/71 [==============================] - 0s 4ms/step - loss: 0.5649 - recall: 0.7081 - val_loss: 0.5811 - val_recall: 0.7402\n",
      "Epoch 16/200\n",
      "71/71 [==============================] - 0s 3ms/step - loss: 0.5623 - recall: 0.7087 - val_loss: 0.5894 - val_recall: 0.7647\n",
      "Epoch 17/200\n",
      "71/71 [==============================] - 0s 4ms/step - loss: 0.5593 - recall: 0.7119 - val_loss: 0.5776 - val_recall: 0.7647\n",
      "Epoch 18/200\n",
      "71/71 [==============================] - 0s 4ms/step - loss: 0.5563 - recall: 0.7163 - val_loss: 0.5367 - val_recall: 0.6863\n",
      "Epoch 19/200\n",
      "71/71 [==============================] - 0s 4ms/step - loss: 0.5530 - recall: 0.7092 - val_loss: 0.5896 - val_recall: 0.7696\n",
      "Epoch 20/200\n",
      "71/71 [==============================] - 0s 4ms/step - loss: 0.5506 - recall: 0.7272 - val_loss: 0.5395 - val_recall: 0.7059\n",
      "Epoch 21/200\n",
      "71/71 [==============================] - 0s 4ms/step - loss: 0.5476 - recall: 0.7196 - val_loss: 0.5677 - val_recall: 0.7696\n",
      "Epoch 22/200\n",
      "71/71 [==============================] - 0s 4ms/step - loss: 0.5442 - recall: 0.7196 - val_loss: 0.5568 - val_recall: 0.7451\n",
      "Epoch 23/200\n",
      "71/71 [==============================] - 0s 3ms/step - loss: 0.5400 - recall: 0.7169 - val_loss: 0.5820 - val_recall: 0.7794\n",
      "Epoch 24/200\n",
      "71/71 [==============================] - 0s 3ms/step - loss: 0.5372 - recall: 0.7305 - val_loss: 0.5418 - val_recall: 0.7451\n",
      "Epoch 25/200\n",
      "71/71 [==============================] - 0s 3ms/step - loss: 0.5325 - recall: 0.7310 - val_loss: 0.5225 - val_recall: 0.7255\n",
      "Epoch 26/200\n",
      "71/71 [==============================] - 0s 3ms/step - loss: 0.5277 - recall: 0.7360 - val_loss: 0.4932 - val_recall: 0.6765\n",
      "Epoch 27/200\n",
      "71/71 [==============================] - 0s 3ms/step - loss: 0.5242 - recall: 0.7360 - val_loss: 0.5084 - val_recall: 0.7206\n",
      "Epoch 28/200\n",
      "71/71 [==============================] - 0s 3ms/step - loss: 0.5194 - recall: 0.7360 - val_loss: 0.5209 - val_recall: 0.7500\n",
      "Epoch 29/200\n",
      "71/71 [==============================] - 0s 4ms/step - loss: 0.5158 - recall: 0.7392 - val_loss: 0.5156 - val_recall: 0.7500\n",
      "Epoch 30/200\n",
      "71/71 [==============================] - 0s 4ms/step - loss: 0.5128 - recall: 0.7447 - val_loss: 0.5037 - val_recall: 0.7402\n",
      "Epoch 31/200\n",
      "71/71 [==============================] - 0s 3ms/step - loss: 0.5092 - recall: 0.7540 - val_loss: 0.4998 - val_recall: 0.7402\n",
      "Epoch 32/200\n",
      "71/71 [==============================] - 0s 4ms/step - loss: 0.5065 - recall: 0.7512 - val_loss: 0.5108 - val_recall: 0.7843\n",
      "Epoch 33/200\n",
      "71/71 [==============================] - 0s 3ms/step - loss: 0.5032 - recall: 0.7485 - val_loss: 0.5317 - val_recall: 0.7941\n",
      "Epoch 34/200\n",
      "71/71 [==============================] - 0s 3ms/step - loss: 0.5010 - recall: 0.7545 - val_loss: 0.4878 - val_recall: 0.7451\n",
      "Epoch 35/200\n",
      "71/71 [==============================] - 0s 3ms/step - loss: 0.4978 - recall: 0.7589 - val_loss: 0.5022 - val_recall: 0.7745\n",
      "Epoch 36/200\n",
      "71/71 [==============================] - 0s 3ms/step - loss: 0.4961 - recall: 0.7600 - val_loss: 0.4782 - val_recall: 0.7451\n",
      "Epoch 37/200\n",
      "71/71 [==============================] - 0s 3ms/step - loss: 0.4938 - recall: 0.7529 - val_loss: 0.4767 - val_recall: 0.7304\n",
      "Epoch 38/200\n",
      "71/71 [==============================] - 0s 3ms/step - loss: 0.4919 - recall: 0.7621 - val_loss: 0.4985 - val_recall: 0.7696\n",
      "Epoch 39/200\n",
      "71/71 [==============================] - 0s 3ms/step - loss: 0.4897 - recall: 0.7589 - val_loss: 0.4695 - val_recall: 0.7059\n",
      "Epoch 40/200\n",
      "71/71 [==============================] - 0s 3ms/step - loss: 0.4880 - recall: 0.7556 - val_loss: 0.4650 - val_recall: 0.6961\n",
      "Epoch 41/200\n",
      "71/71 [==============================] - 0s 3ms/step - loss: 0.4870 - recall: 0.7561 - val_loss: 0.4831 - val_recall: 0.7451\n",
      "Epoch 42/200\n",
      "71/71 [==============================] - 0s 3ms/step - loss: 0.4851 - recall: 0.7643 - val_loss: 0.4688 - val_recall: 0.7010\n",
      "Epoch 43/200\n",
      "71/71 [==============================] - 0s 3ms/step - loss: 0.4846 - recall: 0.7556 - val_loss: 0.5078 - val_recall: 0.7843\n",
      "Epoch 44/200\n",
      "71/71 [==============================] - 0s 3ms/step - loss: 0.4839 - recall: 0.7567 - val_loss: 0.4572 - val_recall: 0.6863\n",
      "Epoch 45/200\n",
      "71/71 [==============================] - 0s 3ms/step - loss: 0.4825 - recall: 0.7556 - val_loss: 0.4557 - val_recall: 0.7059\n",
      "Epoch 46/200\n",
      "71/71 [==============================] - 0s 3ms/step - loss: 0.4818 - recall: 0.7523 - val_loss: 0.4438 - val_recall: 0.6814\n",
      "Epoch 47/200\n",
      "71/71 [==============================] - 0s 3ms/step - loss: 0.4807 - recall: 0.7485 - val_loss: 0.4755 - val_recall: 0.7304\n",
      "Epoch 48/200\n",
      "71/71 [==============================] - 0s 3ms/step - loss: 0.4797 - recall: 0.7583 - val_loss: 0.4514 - val_recall: 0.6961\n",
      "Epoch 49/200\n",
      "71/71 [==============================] - 0s 3ms/step - loss: 0.4788 - recall: 0.7534 - val_loss: 0.4242 - val_recall: 0.6667\n",
      "Epoch 50/200\n",
      "71/71 [==============================] - 0s 3ms/step - loss: 0.4783 - recall: 0.7550 - val_loss: 0.4595 - val_recall: 0.7108\n",
      "Epoch 51/200\n",
      "71/71 [==============================] - 0s 3ms/step - loss: 0.4769 - recall: 0.7605 - val_loss: 0.4108 - val_recall: 0.6324\n",
      "Epoch 52/200\n",
      "71/71 [==============================] - 0s 3ms/step - loss: 0.4770 - recall: 0.7578 - val_loss: 0.4524 - val_recall: 0.7353\n",
      "Epoch 53/200\n",
      "71/71 [==============================] - 0s 4ms/step - loss: 0.4766 - recall: 0.7556 - val_loss: 0.4735 - val_recall: 0.7647\n",
      "Epoch 54/200\n",
      "71/71 [==============================] - 0s 2ms/step - loss: 0.4756 - recall: 0.7627 - val_loss: 0.4626 - val_recall: 0.7451\n",
      "Epoch 55/200\n",
      "71/71 [==============================] - 0s 4ms/step - loss: 0.4742 - recall: 0.7561 - val_loss: 0.4677 - val_recall: 0.7500\n",
      "Epoch 56/200\n",
      "71/71 [==============================] - 0s 5ms/step - loss: 0.4741 - recall: 0.7605 - val_loss: 0.4554 - val_recall: 0.7402\n",
      "Epoch 57/200\n",
      "71/71 [==============================] - 0s 4ms/step - loss: 0.4738 - recall: 0.7627 - val_loss: 0.4462 - val_recall: 0.7304\n",
      "Epoch 58/200\n",
      "71/71 [==============================] - 0s 4ms/step - loss: 0.4727 - recall: 0.7578 - val_loss: 0.5305 - val_recall: 0.8235\n",
      "Epoch 59/200\n",
      "71/71 [==============================] - 0s 4ms/step - loss: 0.4725 - recall: 0.7610 - val_loss: 0.4827 - val_recall: 0.7794\n",
      "Epoch 60/200\n",
      "71/71 [==============================] - 0s 4ms/step - loss: 0.4719 - recall: 0.7665 - val_loss: 0.4839 - val_recall: 0.7745\n",
      "Epoch 61/200\n",
      "71/71 [==============================] - 0s 3ms/step - loss: 0.4719 - recall: 0.7600 - val_loss: 0.4623 - val_recall: 0.7598\n",
      "Epoch 62/200\n",
      "71/71 [==============================] - 0s 3ms/step - loss: 0.4711 - recall: 0.7638 - val_loss: 0.4341 - val_recall: 0.6961\n",
      "Epoch 63/200\n",
      "71/71 [==============================] - 0s 3ms/step - loss: 0.4707 - recall: 0.7610 - val_loss: 0.4249 - val_recall: 0.6765\n",
      "Epoch 64/200\n",
      "71/71 [==============================] - 0s 4ms/step - loss: 0.4708 - recall: 0.7605 - val_loss: 0.4384 - val_recall: 0.7108\n",
      "Epoch 65/200\n",
      "71/71 [==============================] - 0s 3ms/step - loss: 0.4692 - recall: 0.7616 - val_loss: 0.4595 - val_recall: 0.7696\n",
      "Epoch 66/200\n",
      "71/71 [==============================] - 0s 3ms/step - loss: 0.4695 - recall: 0.7627 - val_loss: 0.4319 - val_recall: 0.7010\n",
      "Epoch 00066: early stopping\n"
     ]
    },
    {
     "data": {
      "text/plain": [
       "<keras.callbacks.History at 0x2763ee87460>"
      ]
     },
     "execution_count": 57,
     "metadata": {},
     "output_type": "execute_result"
    }
   ],
   "source": [
    "model = Sequential()\n",
    "\n",
    "model.add(Dense(16, activation=\"relu\"))\n",
    "model.add(Dense(8, activation=\"relu\"))\n",
    "model.add(Dense(1, activation=\"sigmoid\"))\n",
    "\n",
    "model.compile(optimizer=\"rmsprop\",\n",
    "              loss=\"binary_crossentropy\",\n",
    "              metrics=[\"Recall\"])\n",
    "\n",
    "model.fit(x=X_train,\n",
    "          y=y_train,\n",
    "          validation_data=(X_test, y_test),\n",
    "          callbacks=[early_stop],\n",
    "          batch_size=128,\n",
    "          epochs=200,\n",
    "          verbose=1,\n",
    "          class_weight=class_weights)"
   ]
  },
  {
   "cell_type": "code",
   "execution_count": 58,
   "metadata": {
    "cell_style": "split",
    "executionInfo": {
     "elapsed": 809,
     "status": "ok",
     "timestamp": 1610205470123,
     "user": {
      "displayName": "Richard C",
      "photoUrl": "",
      "userId": "08040814671867660929"
     },
     "user_tz": -180
    },
    "id": "vQIbjGQduQpQ",
    "scrolled": true
   },
   "outputs": [
    {
     "data": {
      "text/plain": [
       "<AxesSubplot:>"
      ]
     },
     "execution_count": 58,
     "metadata": {},
     "output_type": "execute_result"
    },
    {
     "data": {
      "image/png": "[encoded data removed]",
      "text/plain": [
       "<Figure size 864x432 with 1 Axes>"
      ]
     },
     "metadata": {},
     "output_type": "display_data"
    }
   ],
   "source": [
    "loss_df = pd.DataFrame(model.history.history)\n",
    "loss_df.plot()"
   ]
  },
  {
   "cell_type": "code",
   "execution_count": 59,
   "metadata": {
    "cell_style": "split",
    "scrolled": false
   },
   "outputs": [
    {
     "name": "stdout",
     "output_type": "stream",
     "text": [
      "[[649 147]\n",
      " [ 61 143]]\n",
      "              precision    recall  f1-score   support\n",
      "\n",
      "           0       0.91      0.82      0.86       796\n",
      "           1       0.49      0.70      0.58       204\n",
      "\n",
      "    accuracy                           0.79      1000\n",
      "   macro avg       0.70      0.76      0.72      1000\n",
      "weighted avg       0.83      0.79      0.80      1000\n",
      "\n"
     ]
    }
   ],
   "source": [
    "y_pred = (model.predict(X_test) > 0.5).astype(\"int32\")\n",
    "#y_pred = model.predict_classes(X_test)\n",
    "print(confusion_matrix(y_test, y_pred))\n",
    "print(classification_report(y_test, y_pred))"
   ]
  },
  {
   "cell_type": "code",
   "execution_count": 60,
   "metadata": {},
   "outputs": [],
   "source": [
    "model.save('model_churn.h5')"
   ]
  },
  {
   "cell_type": "markdown",
   "metadata": {
    "id": "Cq10ovAX6daY"
   },
   "source": [
    "### Prediction"
   ]
  },
  {
   "cell_type": "code",
   "execution_count": 61,
   "metadata": {},
   "outputs": [
    {
     "data": {
      "text/plain": [
       "CreditScore            619.000\n",
       "Age                     42.000\n",
       "Tenure                   2.000\n",
       "Balance                  0.000\n",
       "NumOfProducts            1.000\n",
       "HasCrCard                1.000\n",
       "IsActiveMember           1.000\n",
       "EstimatedSalary     101348.880\n",
       "customer_value           3.000\n",
       "Geography_Germany        0.000\n",
       "Geography_Spain          0.000\n",
       "Gender_Male              0.000\n",
       "Name: 1, dtype: float64"
      ]
     },
     "execution_count": 61,
     "metadata": {},
     "output_type": "execute_result"
    }
   ],
   "source": [
    "single_customer = df.drop('Exited', axis=1).iloc[0]\n",
    "single_customer"
   ]
  },
  {
   "cell_type": "code",
   "execution_count": 62,
   "metadata": {},
   "outputs": [
    {
     "data": {
      "text/plain": [
       "array([[0.538     , 0.32432432, 0.2       , 0.        , 0.        ,\n",
       "        1.        , 1.        , 0.50673489, 0.5       , 0.        ,\n",
       "        0.        , 0.        ]])"
      ]
     },
     "execution_count": 62,
     "metadata": {},
     "output_type": "execute_result"
    }
   ],
   "source": [
    "single_customer = scaler.transform(single_customer.values.reshape(-1, 12))\n",
    "single_customer"
   ]
  },
  {
   "cell_type": "code",
   "execution_count": 63,
   "metadata": {},
   "outputs": [
    {
     "data": {
      "text/plain": [
       "array([[ True]])"
      ]
     },
     "execution_count": 63,
     "metadata": {},
     "output_type": "execute_result"
    }
   ],
   "source": [
    "model.predict(single_customer) > 0.5\n",
    "#model.predict_classes(single_customer)"
   ]
  },
  {
   "cell_type": "code",
   "execution_count": 64,
   "metadata": {},
   "outputs": [
    {
     "data": {
      "text/plain": [
       "1"
      ]
     },
     "execution_count": 64,
     "metadata": {},
     "output_type": "execute_result"
    }
   ],
   "source": [
    "df[\"Exited\"].iloc[0]"
   ]
  },
  {
   "cell_type": "markdown",
   "metadata": {},
   "source": [
    "---\n",
    "---"
   ]
  },
  {
   "cell_type": "markdown",
   "metadata": {},
   "source": [
    "## Comparison with ML"
   ]
  },
  {
   "cell_type": "code",
   "execution_count": 65,
   "metadata": {},
   "outputs": [],
   "source": [
    "from sklearn.pipeline import Pipeline\n",
    "from sklearn.ensemble import RandomForestClassifier\n",
    "from sklearn.svm import SVC\n",
    "from sklearn.linear_model import LogisticRegression"
   ]
  },
  {
   "cell_type": "code",
   "execution_count": 66,
   "metadata": {},
   "outputs": [],
   "source": [
    "clf1 = RandomForestClassifier(random_state=42, class_weight=\"balanced\")\n",
    "clf2 = SVC(probability=True, random_state=42, class_weight=\"balanced\")\n",
    "clf3 = LogisticRegression(random_state=42, class_weight=\"balanced\")"
   ]
  },
  {
   "cell_type": "code",
   "execution_count": 67,
   "metadata": {},
   "outputs": [
    {
     "data": {
      "text/plain": [
       "[0.01, 0.1, 1, 10, 100]"
      ]
     },
     "execution_count": 67,
     "metadata": {},
     "output_type": "execute_result"
    }
   ],
   "source": [
    "[10**(-2+i) for i in range(5)]"
   ]
  },
  {
   "cell_type": "code",
   "execution_count": 68,
   "metadata": {
    "cell_style": "split"
   },
   "outputs": [],
   "source": [
    "# Initiaze the hyperparameters for each dictionary\n",
    "param1 = {}\n",
    "param1['classifier__n_estimators'] = [10, 50, 100, 250]\n",
    "param1['classifier__max_depth'] = [5, 10, 20]\n",
    "param1['classifier'] = [clf1]\n",
    "\n",
    "param2 = {}\n",
    "param2['classifier__C'] = [10**(-2+i) for i in range(5)]\n",
    "param2['classifier'] = [clf2]\n",
    "\n",
    "param3 = {}\n",
    "param3['classifier__C'] = [10**(-2+i) for i in range(5)]\n",
    "param3['classifier__penalty'] = ['l1', 'l2']\n",
    "param3['classifier'] = [clf3]"
   ]
  },
  {
   "cell_type": "code",
   "execution_count": 69,
   "metadata": {
    "cell_style": "split"
   },
   "outputs": [],
   "source": [
    "pipeline = Pipeline([('classifier', clf1)])\n",
    "params = [param1, param2, param3]"
   ]
  },
  {
   "cell_type": "code",
   "execution_count": 70,
   "metadata": {
    "cell_style": "center"
   },
   "outputs": [],
   "source": [
    "grid_model = GridSearchCV(pipeline, params, cv=5, n_jobs=-1,\n",
    "                  scoring='recall').fit(X_train, y_train)"
   ]
  },
  {
   "cell_type": "code",
   "execution_count": 71,
   "metadata": {
    "cell_style": "center"
   },
   "outputs": [
    {
     "data": {
      "text/plain": [
       "{'classifier': RandomForestClassifier(class_weight='balanced', max_depth=5, n_estimators=250,\n",
       "                        random_state=42),\n",
       " 'classifier__max_depth': 5,\n",
       " 'classifier__n_estimators': 250}"
      ]
     },
     "execution_count": 71,
     "metadata": {},
     "output_type": "execute_result"
    }
   ],
   "source": [
    "grid_model.best_params_"
   ]
  },
  {
   "cell_type": "code",
   "execution_count": 72,
   "metadata": {
    "cell_style": "center"
   },
   "outputs": [
    {
     "data": {
      "text/plain": [
       "0.7141272464674439"
      ]
     },
     "execution_count": 72,
     "metadata": {},
     "output_type": "execute_result"
    }
   ],
   "source": [
    "grid_model.best_score_"
   ]
  },
  {
   "cell_type": "code",
   "execution_count": 73,
   "metadata": {
    "cell_style": "split"
   },
   "outputs": [
    {
     "data": {
      "image/png": "[encoded data removed]",
      "text/plain": [
       "<Figure size 864x432 with 1 Axes>"
      ]
     },
     "metadata": {},
     "output_type": "display_data"
    }
   ],
   "source": [
    "y_pred_proba = ((grid_model.predict_proba(X_test) > 0.5).astype(\"int32\"))[:, 1]\n",
    "#y_pred_proba = grid_model.predict_proba(X_test)[:, 1]\n",
    "precisions, recalls, thresholds = precision_recall_curve(y_test, y_pred_proba)\n",
    "plt.plot(recalls, precisions, label='RF')\n",
    "plt.xlabel('recalls')\n",
    "plt.ylabel('precisions')\n",
    "plt.title('Precision-Recall curve')\n",
    "plt.show()"
   ]
  },
  {
   "cell_type": "code",
   "execution_count": 74,
   "metadata": {
    "cell_style": "split"
   },
   "outputs": [
    {
     "data": {
      "text/plain": [
       "0.4233275474124076"
      ]
     },
     "execution_count": 74,
     "metadata": {},
     "output_type": "execute_result"
    }
   ],
   "source": [
    "average_precision_score(y_test, y_pred_proba)"
   ]
  },
  {
   "cell_type": "code",
   "execution_count": 75,
   "metadata": {
    "cell_style": "split",
    "scrolled": true
   },
   "outputs": [
    {
     "name": "stdout",
     "output_type": "stream",
     "text": [
      "[[643 153]\n",
      " [ 52 152]]\n",
      "              precision    recall  f1-score   support\n",
      "\n",
      "           0       0.93      0.81      0.86       796\n",
      "           1       0.50      0.75      0.60       204\n",
      "\n",
      "    accuracy                           0.80      1000\n",
      "   macro avg       0.71      0.78      0.73      1000\n",
      "weighted avg       0.84      0.80      0.81      1000\n",
      "\n"
     ]
    }
   ],
   "source": [
    "y_pred = (grid_model.predict(X_test) > 0.5).astype(\"int32\")\n",
    "#y_pred = grid_model.predict(X_test)\n",
    "\n",
    "print(confusion_matrix(y_test, y_pred))\n",
    "print(classification_report(y_test, y_pred))"
   ]
  },
  {
   "cell_type": "markdown",
   "metadata": {},
   "source": [
    "---\n",
    "---"
   ]
  }
 ],
 "metadata": {
  "colab": {
   "authorship_tag": "ABX9TyPKBWWuNpSuP7DHsa+Zpo3l",
   "collapsed_sections": [],
   "name": "Untitled0.ipynb",
   "provenance": []
  },
  "hide_input": false,
  "interpreter": {
   "hash": "e4e90950cb561445fc7289d5187c528b28750a487d008a70b474c773afaf79b7"
  },
  "kernelspec": {
   "display_name": "Python 3",
   "language": "python",
   "name": "python3"
  },
  "language_info": {
   "codemirror_mode": {
    "name": "ipython",
    "version": 3
   },
   "file_extension": ".py",
   "mimetype": "text/x-python",
   "name": "python",
   "nbconvert_exporter": "python",
   "pygments_lexer": "ipython3",
   "version": "3.9.7"
  },
  "varInspector": {
   "cols": {
    "lenName": 16,
    "lenType": 16,
    "lenVar": 40
   },
   "kernels_config": {
    "python": {
     "delete_cmd_postfix": "",
     "delete_cmd_prefix": "del ",
     "library": "var_list.py",
     "varRefreshCmd": "print(var_dic_list())"
    },
    "r": {
     "delete_cmd_postfix": ") ",
     "delete_cmd_prefix": "rm(",
     "library": "var_list.r",
     "varRefreshCmd": "cat(var_dic_list()) "
    }
   },
   "types_to_exclude": [
    "module",
    "function",
    "builtin_function_or_method",
    "instance",
    "_Feature"
   ],
   "window_display": false
  }
 },
 "nbformat": 4,
 "nbformat_minor": 4
}
