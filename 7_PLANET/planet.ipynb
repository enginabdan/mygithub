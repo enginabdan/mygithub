{
 "cells": [
  {
   "cell_type": "code",
   "execution_count": 24,
   "metadata": {},
   "outputs": [],
   "source": [
    "# pip install libtad"
   ]
  },
  {
   "cell_type": "code",
   "execution_count": 25,
   "metadata": {},
   "outputs": [],
   "source": [
    "import libtad as lb\n",
    "\n",
    "from libtad import AstronomyService\n",
    "from libtad.datatypes.places import Coordinates, LocationId\n",
    "from libtad.datatypes.time import TADDateTime\n",
    "from libtad.datatypes.astro import AstronomyEventClass, AstronomyObjectType"
   ]
  },
  {
   "cell_type": "code",
   "execution_count": 26,
   "metadata": {},
   "outputs": [],
   "source": [
    "# Specify the location, and the dates you are querying for\n",
    "coordinates = Coordinates(39.900, 32.850)\n",
    "place = LocationId(coordinates)\n",
    "date = TADDateTime(2023, 4, 1)"
   ]
  },
  {
   "cell_type": "code",
   "execution_count": 27,
   "metadata": {},
   "outputs": [],
   "source": [
    "# To perform the query, you will need your access key and secret key\n",
    "accessKey = \"zFYOBhwxMW\"\n",
    "secretKey = \"AieT2htGxFiwbvZWMCbf\"\n",
    "service = AstronomyService(accessKey, secretKey)"
   ]
  },
  {
   "cell_type": "code",
   "execution_count": 28,
   "metadata": {},
   "outputs": [],
   "source": [
    "# Select which astronomical events you are interested in\n",
    "service.types = AstronomyEventClass.Meridian | AstronomyEventClass.Phase"
   ]
  },
  {
   "cell_type": "code",
   "execution_count": 29,
   "metadata": {},
   "outputs": [],
   "source": [
    "# Retrieve astronomical information for specified astronomy object at a given time and place\n",
    "astro_info = service.get_astronomical_info(AstronomyObjectType.Jupiter, place, date)"
   ]
  },
  {
   "cell_type": "code",
   "execution_count": 30,
   "metadata": {},
   "outputs": [
    {
     "data": {
      "text/plain": [
       "[]"
      ]
     },
     "execution_count": 30,
     "metadata": {},
     "output_type": "execute_result"
    }
   ],
   "source": [
    "astro_info"
   ]
  },
  {
   "cell_type": "code",
   "execution_count": null,
   "metadata": {},
   "outputs": [],
   "source": []
  }
 ],
 "metadata": {
  "kernelspec": {
   "display_name": "Python 3",
   "language": "python",
   "name": "python3"
  },
  "language_info": {
   "codemirror_mode": {
    "name": "ipython",
    "version": 3
   },
   "file_extension": ".py",
   "mimetype": "text/x-python",
   "name": "python",
   "nbconvert_exporter": "python",
   "pygments_lexer": "ipython3",
   "version": "3.9.12"
  },
  "orig_nbformat": 4
 },
 "nbformat": 4,
 "nbformat_minor": 2
}
